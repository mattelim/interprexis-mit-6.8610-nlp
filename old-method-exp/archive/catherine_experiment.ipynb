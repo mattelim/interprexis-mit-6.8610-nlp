{
 "cells": [
  {
   "cell_type": "markdown",
   "metadata": {},
   "source": [
    "## Tokenizer + BERT → Data-processing → OpenAI"
   ]
  },
  {
   "cell_type": "markdown",
   "metadata": {},
   "source": [
    "Installing an environment like conda is recommended. This notebook last ran on Python 3.8.18 without issues."
   ]
  },
  {
   "cell_type": "code",
   "execution_count": 1,
   "metadata": {},
   "outputs": [
    {
     "name": "stdout",
     "output_type": "stream",
     "text": [
      "Collecting accelerate\n",
      "  Downloading accelerate-0.24.1-py3-none-any.whl (261 kB)\n",
      "\u001b[2K     \u001b[90m━━━━━━━━━━━━━━━━━━━━━━━━━━━━━━━━━━━━━━━\u001b[0m \u001b[32m261.4/261.4 kB\u001b[0m \u001b[31m2.3 MB/s\u001b[0m eta \u001b[36m0:00:00\u001b[0ma \u001b[36m0:00:01\u001b[0m\n",
      "\u001b[?25hCollecting transformers\n",
      "  Downloading transformers-4.35.0-py3-none-any.whl (7.9 MB)\n",
      "\u001b[2K     \u001b[90m━━━━━━━━━━━━━━━━━━━━━━━━━━━━━━━━━━━━━━━━\u001b[0m \u001b[32m7.9/7.9 MB\u001b[0m \u001b[31m1.0 MB/s\u001b[0m eta \u001b[36m0:00:00\u001b[0m00:01\u001b[0m00:01\u001b[0m0m\n",
      "\u001b[?25hRequirement already satisfied: psutil in /Users/catherineyeh/miniconda3/lib/python3.9/site-packages (from accelerate) (5.9.4)\n",
      "Requirement already satisfied: pyyaml in /Users/catherineyeh/miniconda3/lib/python3.9/site-packages (from accelerate) (6.0)\n",
      "Requirement already satisfied: torch>=1.10.0 in /Users/catherineyeh/miniconda3/lib/python3.9/site-packages (from accelerate) (1.12.1)\n",
      "Requirement already satisfied: numpy>=1.17 in /Users/catherineyeh/miniconda3/lib/python3.9/site-packages (from accelerate) (1.24.2)\n",
      "Requirement already satisfied: packaging>=20.0 in /Users/catherineyeh/miniconda3/lib/python3.9/site-packages (from accelerate) (23.0)\n",
      "Collecting huggingface-hub\n",
      "  Downloading huggingface_hub-0.19.0-py3-none-any.whl (311 kB)\n",
      "\u001b[2K     \u001b[90m━━━━━━━━━━━━━━━━━━━━━━━━━━━━━━━━━━━━━━━\u001b[0m \u001b[32m311.2/311.2 kB\u001b[0m \u001b[31m1.6 MB/s\u001b[0m eta \u001b[36m0:00:00\u001b[0ma \u001b[36m0:00:01\u001b[0m\n",
      "\u001b[?25hRequirement already satisfied: filelock in /Users/catherineyeh/miniconda3/lib/python3.9/site-packages (from transformers) (3.12.4)\n",
      "Collecting regex!=2019.12.17\n",
      "  Downloading regex-2023.10.3-cp39-cp39-macosx_11_0_arm64.whl (291 kB)\n",
      "\u001b[2K     \u001b[90m━━━━━━━━━━━━━━━━━━━━━━━━━━━━━━━━━━━━━━━\u001b[0m \u001b[32m291.0/291.0 kB\u001b[0m \u001b[31m1.6 MB/s\u001b[0m eta \u001b[36m0:00:00\u001b[0ma \u001b[36m0:00:01\u001b[0m\n",
      "\u001b[?25hRequirement already satisfied: requests in /Users/catherineyeh/miniconda3/lib/python3.9/site-packages (from transformers) (2.28.2)\n",
      "Requirement already satisfied: tqdm>=4.27 in /Users/catherineyeh/miniconda3/lib/python3.9/site-packages (from transformers) (4.64.1)\n",
      "Collecting tokenizers<0.15,>=0.14\n",
      "  Downloading tokenizers-0.14.1-cp39-cp39-macosx_11_0_arm64.whl (2.5 MB)\n",
      "\u001b[2K     \u001b[90m━━━━━━━━━━━━━━━━━━━━━━━━━━━━━━━━━━━━━━━━\u001b[0m \u001b[32m2.5/2.5 MB\u001b[0m \u001b[31m1.1 MB/s\u001b[0m eta \u001b[36m0:00:00\u001b[0m00:01\u001b[0m00:01\u001b[0m\n",
      "\u001b[?25hCollecting safetensors>=0.3.1\n",
      "  Downloading safetensors-0.4.0-cp39-cp39-macosx_11_0_arm64.whl (425 kB)\n",
      "\u001b[2K     \u001b[90m━━━━━━━━━━━━━━━━━━━━━━━━━━━━━━━━━━━━━━━\u001b[0m \u001b[32m425.9/425.9 kB\u001b[0m \u001b[31m1.4 MB/s\u001b[0m eta \u001b[36m0:00:00\u001b[0m00:01\u001b[0m00:01\u001b[0m\n",
      "\u001b[?25hCollecting fsspec>=2023.5.0\n",
      "  Downloading fsspec-2023.10.0-py3-none-any.whl (166 kB)\n",
      "\u001b[2K     \u001b[90m━━━━━━━━━━━━━━━━━━━━━━━━━━━━━━━━━━━━━━━\u001b[0m \u001b[32m166.4/166.4 kB\u001b[0m \u001b[31m1.0 MB/s\u001b[0m eta \u001b[36m0:00:00\u001b[0ma \u001b[36m0:00:01\u001b[0m\n",
      "\u001b[?25hRequirement already satisfied: typing-extensions>=3.7.4.3 in /Users/catherineyeh/miniconda3/lib/python3.9/site-packages (from huggingface-hub->accelerate) (4.3.0)\n",
      "Collecting huggingface-hub\n",
      "  Downloading huggingface_hub-0.17.3-py3-none-any.whl (295 kB)\n",
      "\u001b[2K     \u001b[90m━━━━━━━━━━━━━━━━━━━━━━━━━━━━━━━━━━━━━━━\u001b[0m \u001b[32m295.0/295.0 kB\u001b[0m \u001b[31m1.0 MB/s\u001b[0m eta \u001b[36m0:00:00\u001b[0ma \u001b[36m0:00:01\u001b[0m\n",
      "\u001b[?25hRequirement already satisfied: idna<4,>=2.5 in /Users/catherineyeh/miniconda3/lib/python3.9/site-packages (from requests->transformers) (3.4)\n",
      "Requirement already satisfied: charset-normalizer<4,>=2 in /Users/catherineyeh/miniconda3/lib/python3.9/site-packages (from requests->transformers) (3.0.1)\n",
      "Requirement already satisfied: certifi>=2017.4.17 in /Users/catherineyeh/miniconda3/lib/python3.9/site-packages (from requests->transformers) (2023.7.22)\n",
      "Requirement already satisfied: urllib3<1.27,>=1.21.1 in /Users/catherineyeh/miniconda3/lib/python3.9/site-packages (from requests->transformers) (1.26.14)\n",
      "Installing collected packages: safetensors, regex, fsspec, huggingface-hub, tokenizers, accelerate, transformers\n",
      "Successfully installed accelerate-0.24.1 fsspec-2023.10.0 huggingface-hub-0.17.3 regex-2023.10.3 safetensors-0.4.0 tokenizers-0.14.1 transformers-4.35.0\n"
     ]
    }
   ],
   "source": [
    "!pip install --upgrade accelerate transformers"
   ]
  },
  {
   "cell_type": "code",
   "execution_count": 1,
   "metadata": {},
   "outputs": [
    {
     "name": "stderr",
     "output_type": "stream",
     "text": [
      "Some weights of the model checkpoint at distilbert-base-uncased were not used when initializing DistilBertModel: ['vocab_layer_norm.weight', 'vocab_projector.weight', 'vocab_transform.bias', 'vocab_layer_norm.bias', 'vocab_projector.bias', 'vocab_transform.weight']\n",
      "- This IS expected if you are initializing DistilBertModel from the checkpoint of a model trained on another task or with another architecture (e.g. initializing a BertForSequenceClassification model from a BertForPreTraining model).\n",
      "- This IS NOT expected if you are initializing DistilBertModel from the checkpoint of a model that you expect to be exactly identical (initializing a BertForSequenceClassification model from a BertForSequenceClassification model).\n"
     ]
    }
   ],
   "source": [
    "from transformers import AutoTokenizer, DistilBertModel\n",
    "import torch\n",
    "\n",
    "# https://huggingface.co/distilbert-base-uncased\n",
    "# https://huggingface.co/docs/transformers/v4.35.0/en/model_doc/distilbert\n",
    "tokenizer = AutoTokenizer.from_pretrained(\"distilbert-base-uncased\")\n",
    "model = DistilBertModel.from_pretrained(\"distilbert-base-uncased\")"
   ]
  },
  {
   "cell_type": "code",
   "execution_count": 2,
   "metadata": {},
   "outputs": [
    {
     "name": "stdout",
     "output_type": "stream",
     "text": [
      "['person', 'bicycle', 'car', 'motorcycle', 'airplane', 'bus', 'train', 'truck', 'boat', 'traffic light', 'fire hydrant', 'stop sign', 'parking meter', 'bench', 'bird', 'cat', 'dog', 'horse', 'sheep', 'cow', 'elephant', 'bear', 'zebra', 'giraffe', 'backpack', 'umbrella', 'handbag', 'tie', 'suitcase', 'frisbee', 'skis', 'snowboard', 'sports ball', 'kite', 'baseball bat', 'baseball glove', 'skateboard', 'surfboard', 'tennis racket', 'bottle', 'wine glass', 'cup', 'fork', 'knife', 'spoon', 'bowl', 'banana', 'apple', 'sandwich', 'orange', 'broccoli', 'carrot', 'hot dog', 'pizza', 'donut', 'cake', 'chair', 'couch', 'potted plant', 'bed', 'dining table', 'toilet', 'tv', 'laptop', 'mouse', 'remote', 'keyboard', 'cell phone', 'microwave', 'oven', 'toaster', 'sink', 'refrigerator', 'book', 'clock', 'vase', 'scissors', 'teddy bear', 'hair drier', 'toothbrush']\n",
      "80\n"
     ]
    }
   ],
   "source": [
    "# load in coco classes from 'coco-classes.json'\n",
    "import json\n",
    "with open('coco-classes.json') as f:\n",
    "  coco_classes = json.load(f)\n",
    "print(coco_classes)\n",
    "print(len(coco_classes))"
   ]
  },
  {
   "cell_type": "markdown",
   "metadata": {},
   "source": [
    "### Tokenizer + BERT"
   ]
  },
  {
   "cell_type": "code",
   "execution_count": 3,
   "metadata": {},
   "outputs": [],
   "source": [
    "# get embedding for each class\n",
    "# ❗️ note: I am only getting the embedding for the first token in each class\n",
    "# ❓ question: are we interested in the final contextual embedding for each class? currently, we're looking at the final hidden state.\n",
    "embeddings = []\n",
    "for i in range(len(coco_classes)):\n",
    "    input_ids = torch.tensor(tokenizer.encode(coco_classes[i])).unsqueeze(0)\n",
    "    outputs = model(input_ids)\n",
    "    last_hidden_states = outputs[0]\n",
    "    # skip the first token, which is the [CLS] token\n",
    "    embeddings.append(last_hidden_states[0][1].tolist())"
   ]
  },
  {
   "cell_type": "code",
   "execution_count": 4,
   "metadata": {},
   "outputs": [
    {
     "name": "stdout",
     "output_type": "stream",
     "text": [
      "80\n"
     ]
    }
   ],
   "source": [
    "print(len(embeddings))"
   ]
  },
  {
   "cell_type": "code",
   "execution_count": 5,
   "metadata": {},
   "outputs": [],
   "source": [
    "import numpy as np\n",
    "# round each val in embedding to 3 decimal places\n",
    "embeddings = [list(np.around(np.array(e),3)) for e in embeddings]"
   ]
  },
  {
   "cell_type": "code",
   "execution_count": 6,
   "metadata": {},
   "outputs": [],
   "source": [
    "# create string of all classes and their embeddings & save to text file\n",
    "# ❗️ note: only taking first 10 axes for now due to context window length\n",
    "with open(\"output.txt\", \"w\") as text_file:\n",
    "    for i in range(len(coco_classes)):\n",
    "        class_str = f\"{coco_classes[i]}: {embeddings[i][:10]}\\n\"\n",
    "        text_file.write(class_str)"
   ]
  },
  {
   "cell_type": "markdown",
   "metadata": {},
   "source": [
    "## visualization"
   ]
  },
  {
   "cell_type": "code",
   "execution_count": 9,
   "metadata": {},
   "outputs": [],
   "source": [
    "import plotly.express as px\n",
    "from sklearn.decomposition import PCA\n",
    "import pandas as pd"
   ]
  },
  {
   "cell_type": "code",
   "execution_count": 74,
   "metadata": {},
   "outputs": [],
   "source": [
    "# categories from ChatGPT-4\n",
    "# 1 = transportation/traffic\n",
    "# 2 = animals/living beings\n",
    "# 3 - household items/personal belongings\n",
    "categories = [2, 1, 1, 1, 1, 1, 1, 1, 1, 1, 1, 1, 1, 3, 2, 2, 2, 2, 2, 2, 2, 2, 2, 2, 3, 3, 3, 3, 3, 3, 3, 3, 3, 3, 3, 3, 3, 3, 3, 3, 3, 3, 3, 3, 3, 3, 3, 3, 3, 3, 3, 3, 3, 3, 3, 3, 3, 3, 3, 3, 3, 3, 3, 3, 3, 3, 3, 3, 3, 3, 3, 3, 3, 3, 3, 3, 3, 3, 3, 3]\n",
    "cat_dict = {1: 'transport', 2: 'living', 3: 'household'}"
   ]
  },
  {
   "cell_type": "markdown",
   "metadata": {},
   "source": [
    "#### PCA on original embeddings"
   ]
  },
  {
   "cell_type": "code",
   "execution_count": 112,
   "metadata": {},
   "outputs": [
    {
     "name": "stdout",
     "output_type": "stream",
     "text": [
      "(80, 768)\n"
     ]
    },
    {
     "data": {
      "text/html": [
       "<div>\n",
       "<style scoped>\n",
       "    .dataframe tbody tr th:only-of-type {\n",
       "        vertical-align: middle;\n",
       "    }\n",
       "\n",
       "    .dataframe tbody tr th {\n",
       "        vertical-align: top;\n",
       "    }\n",
       "\n",
       "    .dataframe thead th {\n",
       "        text-align: right;\n",
       "    }\n",
       "</style>\n",
       "<table border=\"1\" class=\"dataframe\">\n",
       "  <thead>\n",
       "    <tr style=\"text-align: right;\">\n",
       "      <th></th>\n",
       "      <th>0</th>\n",
       "      <th>1</th>\n",
       "      <th>2</th>\n",
       "      <th>3</th>\n",
       "      <th>4</th>\n",
       "      <th>5</th>\n",
       "      <th>6</th>\n",
       "      <th>7</th>\n",
       "      <th>8</th>\n",
       "      <th>9</th>\n",
       "      <th>...</th>\n",
       "      <th>758</th>\n",
       "      <th>759</th>\n",
       "      <th>760</th>\n",
       "      <th>761</th>\n",
       "      <th>762</th>\n",
       "      <th>763</th>\n",
       "      <th>764</th>\n",
       "      <th>765</th>\n",
       "      <th>766</th>\n",
       "      <th>767</th>\n",
       "    </tr>\n",
       "  </thead>\n",
       "  <tbody>\n",
       "    <tr>\n",
       "      <th>0</th>\n",
       "      <td>-0.375</td>\n",
       "      <td>-0.251</td>\n",
       "      <td>-0.046</td>\n",
       "      <td>-0.120</td>\n",
       "      <td>-0.020</td>\n",
       "      <td>0.713</td>\n",
       "      <td>-0.144</td>\n",
       "      <td>0.427</td>\n",
       "      <td>-0.022</td>\n",
       "      <td>-0.458</td>\n",
       "      <td>...</td>\n",
       "      <td>0.678</td>\n",
       "      <td>-0.576</td>\n",
       "      <td>0.600</td>\n",
       "      <td>-0.078</td>\n",
       "      <td>-0.002</td>\n",
       "      <td>-0.154</td>\n",
       "      <td>0.148</td>\n",
       "      <td>0.055</td>\n",
       "      <td>0.459</td>\n",
       "      <td>-0.115</td>\n",
       "    </tr>\n",
       "    <tr>\n",
       "      <th>1</th>\n",
       "      <td>0.998</td>\n",
       "      <td>0.142</td>\n",
       "      <td>-0.379</td>\n",
       "      <td>-0.093</td>\n",
       "      <td>0.538</td>\n",
       "      <td>0.109</td>\n",
       "      <td>-0.232</td>\n",
       "      <td>0.187</td>\n",
       "      <td>-0.462</td>\n",
       "      <td>-0.299</td>\n",
       "      <td>...</td>\n",
       "      <td>0.184</td>\n",
       "      <td>-0.021</td>\n",
       "      <td>0.064</td>\n",
       "      <td>-0.084</td>\n",
       "      <td>0.654</td>\n",
       "      <td>-0.150</td>\n",
       "      <td>-0.194</td>\n",
       "      <td>0.013</td>\n",
       "      <td>0.042</td>\n",
       "      <td>-0.664</td>\n",
       "    </tr>\n",
       "    <tr>\n",
       "      <th>2</th>\n",
       "      <td>0.378</td>\n",
       "      <td>-0.014</td>\n",
       "      <td>-0.001</td>\n",
       "      <td>-0.091</td>\n",
       "      <td>0.484</td>\n",
       "      <td>0.287</td>\n",
       "      <td>-0.126</td>\n",
       "      <td>0.121</td>\n",
       "      <td>0.297</td>\n",
       "      <td>-0.319</td>\n",
       "      <td>...</td>\n",
       "      <td>0.229</td>\n",
       "      <td>-0.367</td>\n",
       "      <td>0.220</td>\n",
       "      <td>-0.126</td>\n",
       "      <td>0.479</td>\n",
       "      <td>-0.342</td>\n",
       "      <td>-0.312</td>\n",
       "      <td>-0.393</td>\n",
       "      <td>0.188</td>\n",
       "      <td>-0.158</td>\n",
       "    </tr>\n",
       "    <tr>\n",
       "      <th>3</th>\n",
       "      <td>0.970</td>\n",
       "      <td>0.256</td>\n",
       "      <td>-0.249</td>\n",
       "      <td>-0.156</td>\n",
       "      <td>0.342</td>\n",
       "      <td>-0.322</td>\n",
       "      <td>-0.142</td>\n",
       "      <td>-0.129</td>\n",
       "      <td>-0.132</td>\n",
       "      <td>-0.227</td>\n",
       "      <td>...</td>\n",
       "      <td>0.381</td>\n",
       "      <td>0.035</td>\n",
       "      <td>0.134</td>\n",
       "      <td>-0.324</td>\n",
       "      <td>0.404</td>\n",
       "      <td>-0.324</td>\n",
       "      <td>-0.041</td>\n",
       "      <td>-0.021</td>\n",
       "      <td>0.081</td>\n",
       "      <td>-0.858</td>\n",
       "    </tr>\n",
       "    <tr>\n",
       "      <th>4</th>\n",
       "      <td>0.187</td>\n",
       "      <td>0.095</td>\n",
       "      <td>-0.452</td>\n",
       "      <td>0.072</td>\n",
       "      <td>0.378</td>\n",
       "      <td>-0.166</td>\n",
       "      <td>-0.381</td>\n",
       "      <td>0.118</td>\n",
       "      <td>0.108</td>\n",
       "      <td>-0.644</td>\n",
       "      <td>...</td>\n",
       "      <td>0.415</td>\n",
       "      <td>0.053</td>\n",
       "      <td>0.227</td>\n",
       "      <td>-0.219</td>\n",
       "      <td>0.252</td>\n",
       "      <td>0.098</td>\n",
       "      <td>0.132</td>\n",
       "      <td>0.044</td>\n",
       "      <td>0.553</td>\n",
       "      <td>-0.133</td>\n",
       "    </tr>\n",
       "  </tbody>\n",
       "</table>\n",
       "<p>5 rows × 768 columns</p>\n",
       "</div>"
      ],
      "text/plain": [
       "     0      1      2      3      4      5      6      7      8      9    ...  \\\n",
       "0 -0.375 -0.251 -0.046 -0.120 -0.020  0.713 -0.144  0.427 -0.022 -0.458  ...   \n",
       "1  0.998  0.142 -0.379 -0.093  0.538  0.109 -0.232  0.187 -0.462 -0.299  ...   \n",
       "2  0.378 -0.014 -0.001 -0.091  0.484  0.287 -0.126  0.121  0.297 -0.319  ...   \n",
       "3  0.970  0.256 -0.249 -0.156  0.342 -0.322 -0.142 -0.129 -0.132 -0.227  ...   \n",
       "4  0.187  0.095 -0.452  0.072  0.378 -0.166 -0.381  0.118  0.108 -0.644  ...   \n",
       "\n",
       "     758    759    760    761    762    763    764    765    766    767  \n",
       "0  0.678 -0.576  0.600 -0.078 -0.002 -0.154  0.148  0.055  0.459 -0.115  \n",
       "1  0.184 -0.021  0.064 -0.084  0.654 -0.150 -0.194  0.013  0.042 -0.664  \n",
       "2  0.229 -0.367  0.220 -0.126  0.479 -0.342 -0.312 -0.393  0.188 -0.158  \n",
       "3  0.381  0.035  0.134 -0.324  0.404 -0.324 -0.041 -0.021  0.081 -0.858  \n",
       "4  0.415  0.053  0.227 -0.219  0.252  0.098  0.132  0.044  0.553 -0.133  \n",
       "\n",
       "[5 rows x 768 columns]"
      ]
     },
     "execution_count": 112,
     "metadata": {},
     "output_type": "execute_result"
    }
   ],
   "source": [
    "# convert embedding list to dataframe\n",
    "# Convert to DataFrame\n",
    "df = pd.DataFrame(embeddings)\n",
    "\n",
    "print(df.shape)\n",
    "df.head()  # Display the first 5 rows to check the structure"
   ]
  },
  {
   "cell_type": "code",
   "execution_count": 113,
   "metadata": {},
   "outputs": [],
   "source": [
    "# perform PCA\n",
    "pca = PCA(n_components=3)\n",
    "components = pca.fit_transform(df)\n",
    "\n",
    "total_var = pca.explained_variance_ratio_.sum() * 100"
   ]
  },
  {
   "cell_type": "code",
   "execution_count": 114,
   "metadata": {},
   "outputs": [
    {
     "data": {
      "text/html": [
       "<div>\n",
       "<style scoped>\n",
       "    .dataframe tbody tr th:only-of-type {\n",
       "        vertical-align: middle;\n",
       "    }\n",
       "\n",
       "    .dataframe tbody tr th {\n",
       "        vertical-align: top;\n",
       "    }\n",
       "\n",
       "    .dataframe thead th {\n",
       "        text-align: right;\n",
       "    }\n",
       "</style>\n",
       "<table border=\"1\" class=\"dataframe\">\n",
       "  <thead>\n",
       "    <tr style=\"text-align: right;\">\n",
       "      <th></th>\n",
       "      <th>word</th>\n",
       "      <th>category</th>\n",
       "      <th>0</th>\n",
       "      <th>1</th>\n",
       "      <th>2</th>\n",
       "    </tr>\n",
       "  </thead>\n",
       "  <tbody>\n",
       "    <tr>\n",
       "      <th>0</th>\n",
       "      <td>person</td>\n",
       "      <td>living</td>\n",
       "      <td>-0.536402</td>\n",
       "      <td>2.395109</td>\n",
       "      <td>0.348883</td>\n",
       "    </tr>\n",
       "    <tr>\n",
       "      <th>1</th>\n",
       "      <td>bicycle</td>\n",
       "      <td>transport</td>\n",
       "      <td>0.319043</td>\n",
       "      <td>1.262819</td>\n",
       "      <td>2.123303</td>\n",
       "    </tr>\n",
       "    <tr>\n",
       "      <th>2</th>\n",
       "      <td>car</td>\n",
       "      <td>transport</td>\n",
       "      <td>0.736521</td>\n",
       "      <td>2.077732</td>\n",
       "      <td>0.465381</td>\n",
       "    </tr>\n",
       "    <tr>\n",
       "      <th>3</th>\n",
       "      <td>motorcycle</td>\n",
       "      <td>transport</td>\n",
       "      <td>-0.568163</td>\n",
       "      <td>0.564398</td>\n",
       "      <td>1.689769</td>\n",
       "    </tr>\n",
       "    <tr>\n",
       "      <th>4</th>\n",
       "      <td>airplane</td>\n",
       "      <td>transport</td>\n",
       "      <td>-2.447619</td>\n",
       "      <td>0.312609</td>\n",
       "      <td>0.960944</td>\n",
       "    </tr>\n",
       "  </tbody>\n",
       "</table>\n",
       "</div>"
      ],
      "text/plain": [
       "         word   category         0         1         2\n",
       "0      person     living -0.536402  2.395109  0.348883\n",
       "1     bicycle  transport  0.319043  1.262819  2.123303\n",
       "2         car  transport  0.736521  2.077732  0.465381\n",
       "3  motorcycle  transport -0.568163  0.564398  1.689769\n",
       "4    airplane  transport -2.447619  0.312609  0.960944"
      ]
     },
     "execution_count": 114,
     "metadata": {},
     "output_type": "execute_result"
    }
   ],
   "source": [
    "# new data frame with PCA result + word + category info\n",
    "new_df = pd.DataFrame(components)\n",
    "new_df.columns = new_df.columns.astype(str)\n",
    "new_df.insert(0, 'word', coco_classes)\n",
    "new_df.insert(1, 'category', [cat_dict[c] for c in categories])\n",
    "new_df.head()"
   ]
  },
  {
   "cell_type": "code",
   "execution_count": 124,
   "metadata": {},
   "outputs": [
    {
     "data": {
      "application/vnd.plotly.v1+json": {
       "config": {
        "plotlyServerURL": "https://plot.ly"
       },
       "data": [
        {
         "customdata": [
          [
           "person",
           "living"
          ],
          [
           "bird",
           "living"
          ],
          [
           "cat",
           "living"
          ],
          [
           "dog",
           "living"
          ],
          [
           "horse",
           "living"
          ],
          [
           "sheep",
           "living"
          ],
          [
           "cow",
           "living"
          ],
          [
           "elephant",
           "living"
          ],
          [
           "bear",
           "living"
          ],
          [
           "zebra",
           "living"
          ],
          [
           "giraffe",
           "living"
          ]
         ],
         "hovertemplate": "word=%{customdata[0]}<extra></extra>",
         "legendgroup": "living",
         "marker": {
          "color": "#636efa",
          "symbol": "circle"
         },
         "mode": "markers",
         "name": "living",
         "scene": "scene",
         "showlegend": true,
         "type": "scatter3d",
         "x": [
          -0.5364021169526455,
          -1.1016848795578258,
          -0.7900201196802806,
          -0.04944648891465686,
          -0.935956162710559,
          -1.4481950377274337,
          -3.485129793552448,
          -1.8167140454579376,
          -1.5071828688527875,
          -3.775660085414245,
          3.588057586406544
         ],
         "y": [
          2.3951089760692,
          2.0953221619318345,
          2.9572061030192214,
          2.514840934658269,
          1.6009794942687676,
          0.7327263011500966,
          0.4279434411399674,
          0.6014533276012545,
          1.9595630372062784,
          -0.7379945138860602,
          0.5186903855670509
         ],
         "z": [
          0.3488832818143377,
          0.46566001897888093,
          0.35902850990355395,
          0.8839785774463713,
          1.0370919035192496,
          0.026006995985766678,
          -0.3648831420702102,
          0.18086976250055473,
          0.23363774182225192,
          -0.7635392903783238,
          0.018630487325464094
         ]
        },
        {
         "customdata": [
          [
           "bicycle",
           "transport"
          ],
          [
           "car",
           "transport"
          ],
          [
           "motorcycle",
           "transport"
          ],
          [
           "airplane",
           "transport"
          ],
          [
           "bus",
           "transport"
          ],
          [
           "train",
           "transport"
          ],
          [
           "truck",
           "transport"
          ],
          [
           "boat",
           "transport"
          ],
          [
           "traffic light",
           "transport"
          ],
          [
           "fire hydrant",
           "transport"
          ],
          [
           "stop sign",
           "transport"
          ],
          [
           "parking meter",
           "transport"
          ]
         ],
         "hovertemplate": "word=%{customdata[0]}<extra></extra>",
         "legendgroup": "transport",
         "marker": {
          "color": "#EF553B",
          "symbol": "circle"
         },
         "mode": "markers",
         "name": "transport",
         "scene": "scene",
         "showlegend": true,
         "type": "scatter3d",
         "x": [
          0.319043307925983,
          0.7365210147041399,
          -0.568162579297009,
          -2.447618553507407,
          0.6476696381399897,
          2.1726296055617738,
          -0.43819340547366287,
          1.0118085411856894,
          3.720001706292723,
          2.845579957717483,
          5.255340239049774,
          3.333782084212559
         ],
         "y": [
          1.2628185730945598,
          2.077731716849928,
          0.5643977016723021,
          0.3126087281622411,
          3.558283763644291,
          4.771952633545706,
          1.7741223502726668,
          2.133000821607072,
          0.45806999053165315,
          -1.7187746935483577,
          3.457333271708443,
          1.17937816518261
         ],
         "z": [
          2.1233029822755616,
          0.4653814482100149,
          1.689768790881867,
          0.960944327172196,
          0.8504673989421361,
          0.4833172593459164,
          0.6703647503371373,
          1.992550930545589,
          -1.1125325151407115,
          -2.4992161468556278,
          -1.9404233191238358,
          -1.402219665559413
         ]
        },
        {
         "customdata": [
          [
           "bench",
           "household"
          ],
          [
           "backpack",
           "household"
          ],
          [
           "umbrella",
           "household"
          ],
          [
           "handbag",
           "household"
          ],
          [
           "tie",
           "household"
          ],
          [
           "suitcase",
           "household"
          ],
          [
           "frisbee",
           "household"
          ],
          [
           "skis",
           "household"
          ],
          [
           "snowboard",
           "household"
          ],
          [
           "sports ball",
           "household"
          ],
          [
           "kite",
           "household"
          ],
          [
           "baseball bat",
           "household"
          ],
          [
           "baseball glove",
           "household"
          ],
          [
           "skateboard",
           "household"
          ],
          [
           "surfboard",
           "household"
          ],
          [
           "tennis racket",
           "household"
          ],
          [
           "bottle",
           "household"
          ],
          [
           "wine glass",
           "household"
          ],
          [
           "cup",
           "household"
          ],
          [
           "fork",
           "household"
          ],
          [
           "knife",
           "household"
          ],
          [
           "spoon",
           "household"
          ],
          [
           "bowl",
           "household"
          ],
          [
           "banana",
           "household"
          ],
          [
           "apple",
           "household"
          ],
          [
           "sandwich",
           "household"
          ],
          [
           "orange",
           "household"
          ],
          [
           "broccoli",
           "household"
          ],
          [
           "carrot",
           "household"
          ],
          [
           "hot dog",
           "household"
          ],
          [
           "pizza",
           "household"
          ],
          [
           "donut",
           "household"
          ],
          [
           "cake",
           "household"
          ],
          [
           "chair",
           "household"
          ],
          [
           "couch",
           "household"
          ],
          [
           "potted plant",
           "household"
          ],
          [
           "bed",
           "household"
          ],
          [
           "dining table",
           "household"
          ],
          [
           "toilet",
           "household"
          ],
          [
           "tv",
           "household"
          ],
          [
           "laptop",
           "household"
          ],
          [
           "mouse",
           "household"
          ],
          [
           "remote",
           "household"
          ],
          [
           "keyboard",
           "household"
          ],
          [
           "cell phone",
           "household"
          ],
          [
           "microwave",
           "household"
          ],
          [
           "oven",
           "household"
          ],
          [
           "toaster",
           "household"
          ],
          [
           "sink",
           "household"
          ],
          [
           "refrigerator",
           "household"
          ],
          [
           "book",
           "household"
          ],
          [
           "clock",
           "household"
          ],
          [
           "vase",
           "household"
          ],
          [
           "scissors",
           "household"
          ],
          [
           "teddy bear",
           "household"
          ],
          [
           "hair drier",
           "household"
          ],
          [
           "toothbrush",
           "household"
          ]
         ],
         "hovertemplate": "word=%{customdata[0]}<extra></extra>",
         "legendgroup": "household",
         "marker": {
          "color": "#00cc96",
          "symbol": "circle"
         },
         "mode": "markers",
         "name": "household",
         "scene": "scene",
         "showlegend": true,
         "type": "scatter3d",
         "x": [
          -3.4729097093113044,
          -2.5344952479585166,
          -3.2962566987013933,
          4.092751079212889,
          0.018870206710130333,
          -3.7477082091564777,
          3.7926763106170736,
          2.618490049837571,
          4.245594952925566,
          2.3479881301228027,
          -2.0674645959238815,
          3.414086455428035,
          2.711334569212505,
          4.3954187271782965,
          4.411607162138671,
          2.2179308101224904,
          -2.816891698278906,
          1.813059518459766,
          2.5423137344041735,
          -2.0744600509435087,
          -1.078277248851086,
          -4.435757107565373,
          -0.834865908780271,
          -2.5729625244625725,
          -1.0303527461540156,
          -3.4099531975577198,
          -1.8168771855785935,
          3.1964928795072836,
          -3.5625921020150795,
          4.589251782593046,
          -1.345385683897659,
          2.6426654204448328,
          -1.6872014077346322,
          -0.3053459362778379,
          -2.2990119676299234,
          3.9068873173969725,
          -1.2969705351012448,
          2.6570356151075463,
          -2.5202803093120836,
          1.353568005637809,
          -1.7200030252373388,
          -1.412001808043962,
          -2.2374333301952336,
          -0.8864481833271795,
          5.12007727820053,
          -4.510173377368028,
          -4.230675103414821,
          1.7095192949563995,
          -2.895442378921989,
          -3.7604366354997487,
          0.6060506682600998,
          -1.67776785660972,
          -3.094689807430622,
          -3.5906621074287712,
          3.4277130629159007,
          2.631553000124482,
          3.0287501090568627
         ],
         "y": [
          -0.513494470078065,
          -1.125052725181306,
          -1.6305768099863664,
          -0.7202840820447305,
          1.7654695034122576,
          -1.6406825932233873,
          -0.20659048006919628,
          -1.5788414636342214,
          -3.7728428378150847,
          -2.6250583288748257,
          -0.20361319437363748,
          -1.483833219512785,
          -2.426526450803236,
          -1.8696939329614815,
          -3.234690784771436,
          -3.511345241049142,
          -0.3839639326983127,
          -2.132050778056998,
          3.3936654781613576,
          0.18268687924318616,
          0.5313918099894416,
          -1.4570768196018267,
          0.977706217013219,
          -0.7622126209487607,
          1.037067125838129,
          -1.17335985916763,
          1.2936045261400497,
          -1.084580716411866,
          -0.9868935613391728,
          -1.3694938670842953,
          -0.009307894486094629,
          -0.42976501616944474,
          -0.5566244245300355,
          2.424672219470559,
          -0.18742765503184491,
          -0.17983713151402508,
          0.3608020263386627,
          -2.016363492091533,
          -1.025656819058455,
          3.0144239154577153,
          -0.6435697656572559,
          2.394809992401899,
          0.14088365671360892,
          0.6848909116853565,
          1.805282790652959,
          -1.7549510168205942,
          -2.205014591240989,
          -2.228712296782891,
          -0.961459398406051,
          -2.0639936408896307,
          1.9035190996815041,
          0.3288243347976077,
          -0.7213796884435457,
          -1.658818768166003,
          -1.4370432655481662,
          -0.6205148198705744,
          -2.5432647040516216
         ],
         "z": [
          -0.09392618242510307,
          0.09065656562899879,
          0.1259559647479027,
          -1.4362732030066159,
          -0.6860734285225688,
          -0.3284805475427602,
          -2.700215943284076,
          3.889324454275997,
          4.364276392669684,
          1.3931931265339181,
          1.1159939243938517,
          1.2702418504250843,
          0.9070358601198213,
          4.47523895567263,
          3.7588624631989216,
          1.3916478481784236,
          -0.13311007158684532,
          -0.9331729040673145,
          0.3907577936872768,
          -0.5650814981399842,
          0.7306434974314586,
          -0.4674191418165538,
          0.12455293729083064,
          -0.19795962676502385,
          0.01674202795625468,
          -0.7867868831030533,
          -1.3861022835272594,
          -3.466643910143196,
          -0.8808678526400462,
          -2.9148239815425483,
          0.09674533374110819,
          -2.482346595405823,
          0.28204960633645537,
          0.8821582850350298,
          0.08142661431557678,
          -2.740746459333989,
          -0.12124718447990307,
          -2.2724284247313493,
          -0.19976922102479105,
          1.0233567352141826,
          0.6640891482262308,
          0.5760493750744358,
          0.180943206715657,
          0.7262774488657694,
          -1.0826161322490242,
          -0.9199432338007791,
          -1.6429881417411387,
          -1.889575223033199,
          -0.4064302794809071,
          -0.6611965505841354,
          0.02324429845928496,
          -0.16539227725802585,
          -0.3011291609013296,
          0.220429637876456,
          0.10453678361345932,
          -1.1050995328915458,
          -0.6456553485345312
         ]
        }
       ],
       "layout": {
        "legend": {
         "title": {
          "text": "category"
         },
         "tracegroupgap": 0
        },
        "scene": {
         "domain": {
          "x": [
           0,
           1
          ],
          "y": [
           0,
           1
          ]
         },
         "xaxis": {
          "title": {
           "text": "0"
          }
         },
         "yaxis": {
          "title": {
           "text": "1"
          }
         },
         "zaxis": {
          "title": {
           "text": "2"
          }
         }
        },
        "template": {
         "data": {
          "bar": [
           {
            "error_x": {
             "color": "#2a3f5f"
            },
            "error_y": {
             "color": "#2a3f5f"
            },
            "marker": {
             "line": {
              "color": "#E5ECF6",
              "width": 0.5
             },
             "pattern": {
              "fillmode": "overlay",
              "size": 10,
              "solidity": 0.2
             }
            },
            "type": "bar"
           }
          ],
          "barpolar": [
           {
            "marker": {
             "line": {
              "color": "#E5ECF6",
              "width": 0.5
             },
             "pattern": {
              "fillmode": "overlay",
              "size": 10,
              "solidity": 0.2
             }
            },
            "type": "barpolar"
           }
          ],
          "carpet": [
           {
            "aaxis": {
             "endlinecolor": "#2a3f5f",
             "gridcolor": "white",
             "linecolor": "white",
             "minorgridcolor": "white",
             "startlinecolor": "#2a3f5f"
            },
            "baxis": {
             "endlinecolor": "#2a3f5f",
             "gridcolor": "white",
             "linecolor": "white",
             "minorgridcolor": "white",
             "startlinecolor": "#2a3f5f"
            },
            "type": "carpet"
           }
          ],
          "choropleth": [
           {
            "colorbar": {
             "outlinewidth": 0,
             "ticks": ""
            },
            "type": "choropleth"
           }
          ],
          "contour": [
           {
            "colorbar": {
             "outlinewidth": 0,
             "ticks": ""
            },
            "colorscale": [
             [
              0,
              "#0d0887"
             ],
             [
              0.1111111111111111,
              "#46039f"
             ],
             [
              0.2222222222222222,
              "#7201a8"
             ],
             [
              0.3333333333333333,
              "#9c179e"
             ],
             [
              0.4444444444444444,
              "#bd3786"
             ],
             [
              0.5555555555555556,
              "#d8576b"
             ],
             [
              0.6666666666666666,
              "#ed7953"
             ],
             [
              0.7777777777777778,
              "#fb9f3a"
             ],
             [
              0.8888888888888888,
              "#fdca26"
             ],
             [
              1,
              "#f0f921"
             ]
            ],
            "type": "contour"
           }
          ],
          "contourcarpet": [
           {
            "colorbar": {
             "outlinewidth": 0,
             "ticks": ""
            },
            "type": "contourcarpet"
           }
          ],
          "heatmap": [
           {
            "colorbar": {
             "outlinewidth": 0,
             "ticks": ""
            },
            "colorscale": [
             [
              0,
              "#0d0887"
             ],
             [
              0.1111111111111111,
              "#46039f"
             ],
             [
              0.2222222222222222,
              "#7201a8"
             ],
             [
              0.3333333333333333,
              "#9c179e"
             ],
             [
              0.4444444444444444,
              "#bd3786"
             ],
             [
              0.5555555555555556,
              "#d8576b"
             ],
             [
              0.6666666666666666,
              "#ed7953"
             ],
             [
              0.7777777777777778,
              "#fb9f3a"
             ],
             [
              0.8888888888888888,
              "#fdca26"
             ],
             [
              1,
              "#f0f921"
             ]
            ],
            "type": "heatmap"
           }
          ],
          "heatmapgl": [
           {
            "colorbar": {
             "outlinewidth": 0,
             "ticks": ""
            },
            "colorscale": [
             [
              0,
              "#0d0887"
             ],
             [
              0.1111111111111111,
              "#46039f"
             ],
             [
              0.2222222222222222,
              "#7201a8"
             ],
             [
              0.3333333333333333,
              "#9c179e"
             ],
             [
              0.4444444444444444,
              "#bd3786"
             ],
             [
              0.5555555555555556,
              "#d8576b"
             ],
             [
              0.6666666666666666,
              "#ed7953"
             ],
             [
              0.7777777777777778,
              "#fb9f3a"
             ],
             [
              0.8888888888888888,
              "#fdca26"
             ],
             [
              1,
              "#f0f921"
             ]
            ],
            "type": "heatmapgl"
           }
          ],
          "histogram": [
           {
            "marker": {
             "pattern": {
              "fillmode": "overlay",
              "size": 10,
              "solidity": 0.2
             }
            },
            "type": "histogram"
           }
          ],
          "histogram2d": [
           {
            "colorbar": {
             "outlinewidth": 0,
             "ticks": ""
            },
            "colorscale": [
             [
              0,
              "#0d0887"
             ],
             [
              0.1111111111111111,
              "#46039f"
             ],
             [
              0.2222222222222222,
              "#7201a8"
             ],
             [
              0.3333333333333333,
              "#9c179e"
             ],
             [
              0.4444444444444444,
              "#bd3786"
             ],
             [
              0.5555555555555556,
              "#d8576b"
             ],
             [
              0.6666666666666666,
              "#ed7953"
             ],
             [
              0.7777777777777778,
              "#fb9f3a"
             ],
             [
              0.8888888888888888,
              "#fdca26"
             ],
             [
              1,
              "#f0f921"
             ]
            ],
            "type": "histogram2d"
           }
          ],
          "histogram2dcontour": [
           {
            "colorbar": {
             "outlinewidth": 0,
             "ticks": ""
            },
            "colorscale": [
             [
              0,
              "#0d0887"
             ],
             [
              0.1111111111111111,
              "#46039f"
             ],
             [
              0.2222222222222222,
              "#7201a8"
             ],
             [
              0.3333333333333333,
              "#9c179e"
             ],
             [
              0.4444444444444444,
              "#bd3786"
             ],
             [
              0.5555555555555556,
              "#d8576b"
             ],
             [
              0.6666666666666666,
              "#ed7953"
             ],
             [
              0.7777777777777778,
              "#fb9f3a"
             ],
             [
              0.8888888888888888,
              "#fdca26"
             ],
             [
              1,
              "#f0f921"
             ]
            ],
            "type": "histogram2dcontour"
           }
          ],
          "mesh3d": [
           {
            "colorbar": {
             "outlinewidth": 0,
             "ticks": ""
            },
            "type": "mesh3d"
           }
          ],
          "parcoords": [
           {
            "line": {
             "colorbar": {
              "outlinewidth": 0,
              "ticks": ""
             }
            },
            "type": "parcoords"
           }
          ],
          "pie": [
           {
            "automargin": true,
            "type": "pie"
           }
          ],
          "scatter": [
           {
            "fillpattern": {
             "fillmode": "overlay",
             "size": 10,
             "solidity": 0.2
            },
            "type": "scatter"
           }
          ],
          "scatter3d": [
           {
            "line": {
             "colorbar": {
              "outlinewidth": 0,
              "ticks": ""
             }
            },
            "marker": {
             "colorbar": {
              "outlinewidth": 0,
              "ticks": ""
             }
            },
            "type": "scatter3d"
           }
          ],
          "scattercarpet": [
           {
            "marker": {
             "colorbar": {
              "outlinewidth": 0,
              "ticks": ""
             }
            },
            "type": "scattercarpet"
           }
          ],
          "scattergeo": [
           {
            "marker": {
             "colorbar": {
              "outlinewidth": 0,
              "ticks": ""
             }
            },
            "type": "scattergeo"
           }
          ],
          "scattergl": [
           {
            "marker": {
             "colorbar": {
              "outlinewidth": 0,
              "ticks": ""
             }
            },
            "type": "scattergl"
           }
          ],
          "scattermapbox": [
           {
            "marker": {
             "colorbar": {
              "outlinewidth": 0,
              "ticks": ""
             }
            },
            "type": "scattermapbox"
           }
          ],
          "scatterpolar": [
           {
            "marker": {
             "colorbar": {
              "outlinewidth": 0,
              "ticks": ""
             }
            },
            "type": "scatterpolar"
           }
          ],
          "scatterpolargl": [
           {
            "marker": {
             "colorbar": {
              "outlinewidth": 0,
              "ticks": ""
             }
            },
            "type": "scatterpolargl"
           }
          ],
          "scatterternary": [
           {
            "marker": {
             "colorbar": {
              "outlinewidth": 0,
              "ticks": ""
             }
            },
            "type": "scatterternary"
           }
          ],
          "surface": [
           {
            "colorbar": {
             "outlinewidth": 0,
             "ticks": ""
            },
            "colorscale": [
             [
              0,
              "#0d0887"
             ],
             [
              0.1111111111111111,
              "#46039f"
             ],
             [
              0.2222222222222222,
              "#7201a8"
             ],
             [
              0.3333333333333333,
              "#9c179e"
             ],
             [
              0.4444444444444444,
              "#bd3786"
             ],
             [
              0.5555555555555556,
              "#d8576b"
             ],
             [
              0.6666666666666666,
              "#ed7953"
             ],
             [
              0.7777777777777778,
              "#fb9f3a"
             ],
             [
              0.8888888888888888,
              "#fdca26"
             ],
             [
              1,
              "#f0f921"
             ]
            ],
            "type": "surface"
           }
          ],
          "table": [
           {
            "cells": {
             "fill": {
              "color": "#EBF0F8"
             },
             "line": {
              "color": "white"
             }
            },
            "header": {
             "fill": {
              "color": "#C8D4E3"
             },
             "line": {
              "color": "white"
             }
            },
            "type": "table"
           }
          ]
         },
         "layout": {
          "annotationdefaults": {
           "arrowcolor": "#2a3f5f",
           "arrowhead": 0,
           "arrowwidth": 1
          },
          "autotypenumbers": "strict",
          "coloraxis": {
           "colorbar": {
            "outlinewidth": 0,
            "ticks": ""
           }
          },
          "colorscale": {
           "diverging": [
            [
             0,
             "#8e0152"
            ],
            [
             0.1,
             "#c51b7d"
            ],
            [
             0.2,
             "#de77ae"
            ],
            [
             0.3,
             "#f1b6da"
            ],
            [
             0.4,
             "#fde0ef"
            ],
            [
             0.5,
             "#f7f7f7"
            ],
            [
             0.6,
             "#e6f5d0"
            ],
            [
             0.7,
             "#b8e186"
            ],
            [
             0.8,
             "#7fbc41"
            ],
            [
             0.9,
             "#4d9221"
            ],
            [
             1,
             "#276419"
            ]
           ],
           "sequential": [
            [
             0,
             "#0d0887"
            ],
            [
             0.1111111111111111,
             "#46039f"
            ],
            [
             0.2222222222222222,
             "#7201a8"
            ],
            [
             0.3333333333333333,
             "#9c179e"
            ],
            [
             0.4444444444444444,
             "#bd3786"
            ],
            [
             0.5555555555555556,
             "#d8576b"
            ],
            [
             0.6666666666666666,
             "#ed7953"
            ],
            [
             0.7777777777777778,
             "#fb9f3a"
            ],
            [
             0.8888888888888888,
             "#fdca26"
            ],
            [
             1,
             "#f0f921"
            ]
           ],
           "sequentialminus": [
            [
             0,
             "#0d0887"
            ],
            [
             0.1111111111111111,
             "#46039f"
            ],
            [
             0.2222222222222222,
             "#7201a8"
            ],
            [
             0.3333333333333333,
             "#9c179e"
            ],
            [
             0.4444444444444444,
             "#bd3786"
            ],
            [
             0.5555555555555556,
             "#d8576b"
            ],
            [
             0.6666666666666666,
             "#ed7953"
            ],
            [
             0.7777777777777778,
             "#fb9f3a"
            ],
            [
             0.8888888888888888,
             "#fdca26"
            ],
            [
             1,
             "#f0f921"
            ]
           ]
          },
          "colorway": [
           "#636efa",
           "#EF553B",
           "#00cc96",
           "#ab63fa",
           "#FFA15A",
           "#19d3f3",
           "#FF6692",
           "#B6E880",
           "#FF97FF",
           "#FECB52"
          ],
          "font": {
           "color": "#2a3f5f"
          },
          "geo": {
           "bgcolor": "white",
           "lakecolor": "white",
           "landcolor": "#E5ECF6",
           "showlakes": true,
           "showland": true,
           "subunitcolor": "white"
          },
          "hoverlabel": {
           "align": "left"
          },
          "hovermode": "closest",
          "mapbox": {
           "style": "light"
          },
          "paper_bgcolor": "white",
          "plot_bgcolor": "#E5ECF6",
          "polar": {
           "angularaxis": {
            "gridcolor": "white",
            "linecolor": "white",
            "ticks": ""
           },
           "bgcolor": "#E5ECF6",
           "radialaxis": {
            "gridcolor": "white",
            "linecolor": "white",
            "ticks": ""
           }
          },
          "scene": {
           "xaxis": {
            "backgroundcolor": "#E5ECF6",
            "gridcolor": "white",
            "gridwidth": 2,
            "linecolor": "white",
            "showbackground": true,
            "ticks": "",
            "zerolinecolor": "white"
           },
           "yaxis": {
            "backgroundcolor": "#E5ECF6",
            "gridcolor": "white",
            "gridwidth": 2,
            "linecolor": "white",
            "showbackground": true,
            "ticks": "",
            "zerolinecolor": "white"
           },
           "zaxis": {
            "backgroundcolor": "#E5ECF6",
            "gridcolor": "white",
            "gridwidth": 2,
            "linecolor": "white",
            "showbackground": true,
            "ticks": "",
            "zerolinecolor": "white"
           }
          },
          "shapedefaults": {
           "line": {
            "color": "#2a3f5f"
           }
          },
          "ternary": {
           "aaxis": {
            "gridcolor": "white",
            "linecolor": "white",
            "ticks": ""
           },
           "baxis": {
            "gridcolor": "white",
            "linecolor": "white",
            "ticks": ""
           },
           "bgcolor": "#E5ECF6",
           "caxis": {
            "gridcolor": "white",
            "linecolor": "white",
            "ticks": ""
           }
          },
          "title": {
           "x": 0.05
          },
          "xaxis": {
           "automargin": true,
           "gridcolor": "white",
           "linecolor": "white",
           "ticks": "",
           "title": {
            "standoff": 15
           },
           "zerolinecolor": "white",
           "zerolinewidth": 2
          },
          "yaxis": {
           "automargin": true,
           "gridcolor": "white",
           "linecolor": "white",
           "ticks": "",
           "title": {
            "standoff": 15
           },
           "zerolinecolor": "white",
           "zerolinewidth": 2
          }
         }
        },
        "title": {
         "text": "COCO Class Embeddings (Total Explained Variance: 27.65%)"
        }
       }
      }
     },
     "metadata": {},
     "output_type": "display_data"
    }
   ],
   "source": [
    "fig = px.scatter_3d(\n",
    "    new_df, x='0', y='1', z='2', \n",
    "    color='category',\n",
    "    title=f'COCO Class Embeddings (Total Explained Variance: {total_var:.2f}%)',\n",
    "    hover_data={'word': True, 'category': False, '0': False, '1': False, '2': False},\n",
    ")\n",
    "fig.show()"
   ]
  },
  {
   "cell_type": "markdown",
   "metadata": {},
   "source": [
    "#### now using axes from chatgpt"
   ]
  },
  {
   "cell_type": "code",
   "execution_count": 122,
   "metadata": {},
   "outputs": [
    {
     "data": {
      "text/html": [
       "<div>\n",
       "<style scoped>\n",
       "    .dataframe tbody tr th:only-of-type {\n",
       "        vertical-align: middle;\n",
       "    }\n",
       "\n",
       "    .dataframe tbody tr th {\n",
       "        vertical-align: top;\n",
       "    }\n",
       "\n",
       "    .dataframe thead th {\n",
       "        text-align: right;\n",
       "    }\n",
       "</style>\n",
       "<table border=\"1\" class=\"dataframe\">\n",
       "  <thead>\n",
       "    <tr style=\"text-align: right;\">\n",
       "      <th></th>\n",
       "      <th>word</th>\n",
       "      <th>category</th>\n",
       "      <th>0</th>\n",
       "      <th>4</th>\n",
       "      <th>5</th>\n",
       "    </tr>\n",
       "  </thead>\n",
       "  <tbody>\n",
       "    <tr>\n",
       "      <th>0</th>\n",
       "      <td>person</td>\n",
       "      <td>living</td>\n",
       "      <td>-1.927416</td>\n",
       "      <td>-0.883672</td>\n",
       "      <td>2.323592</td>\n",
       "    </tr>\n",
       "    <tr>\n",
       "      <th>1</th>\n",
       "      <td>bicycle</td>\n",
       "      <td>transport</td>\n",
       "      <td>1.954417</td>\n",
       "      <td>0.760643</td>\n",
       "      <td>-0.002744</td>\n",
       "    </tr>\n",
       "    <tr>\n",
       "      <th>2</th>\n",
       "      <td>car</td>\n",
       "      <td>transport</td>\n",
       "      <td>0.201513</td>\n",
       "      <td>0.601516</td>\n",
       "      <td>0.682832</td>\n",
       "    </tr>\n",
       "    <tr>\n",
       "      <th>3</th>\n",
       "      <td>motorcycle</td>\n",
       "      <td>transport</td>\n",
       "      <td>1.875253</td>\n",
       "      <td>0.183070</td>\n",
       "      <td>-1.662763</td>\n",
       "    </tr>\n",
       "    <tr>\n",
       "      <th>4</th>\n",
       "      <td>airplane</td>\n",
       "      <td>transport</td>\n",
       "      <td>-0.338494</td>\n",
       "      <td>0.289155</td>\n",
       "      <td>-1.061921</td>\n",
       "    </tr>\n",
       "  </tbody>\n",
       "</table>\n",
       "</div>"
      ],
      "text/plain": [
       "         word   category         0         4         5\n",
       "0      person     living -1.927416 -0.883672  2.323592\n",
       "1     bicycle  transport  1.954417  0.760643 -0.002744\n",
       "2         car  transport  0.201513  0.601516  0.682832\n",
       "3  motorcycle  transport  1.875253  0.183070 -1.662763\n",
       "4    airplane  transport -0.338494  0.289155 -1.061921"
      ]
     },
     "execution_count": 122,
     "metadata": {},
     "output_type": "execute_result"
    }
   ],
   "source": [
    "# create dataframe with 3 axes chosen by chatgpt: \n",
    "gpt_df = df[[0, 4, 5]]\n",
    "\n",
    "# normalize\n",
    "gpt_df = (gpt_df - gpt_df.mean()) / gpt_df.std()\n",
    "\n",
    "# convert columns to string\n",
    "gpt_df.columns = gpt_df.columns.astype(str)\n",
    "\n",
    "# insert word and category columns\n",
    "gpt_df.insert(0, 'word', coco_classes)\n",
    "gpt_df.insert(1, 'category', [cat_dict[c] for c in categories])\n",
    "\n",
    "# preview df\n",
    "gpt_df.head()"
   ]
  },
  {
   "cell_type": "code",
   "execution_count": 123,
   "metadata": {},
   "outputs": [
    {
     "data": {
      "application/vnd.plotly.v1+json": {
       "config": {
        "plotlyServerURL": "https://plot.ly"
       },
       "data": [
        {
         "customdata": [
          [
           "person",
           "living"
          ],
          [
           "bird",
           "living"
          ],
          [
           "cat",
           "living"
          ],
          [
           "dog",
           "living"
          ],
          [
           "horse",
           "living"
          ],
          [
           "sheep",
           "living"
          ],
          [
           "cow",
           "living"
          ],
          [
           "elephant",
           "living"
          ],
          [
           "bear",
           "living"
          ],
          [
           "zebra",
           "living"
          ],
          [
           "giraffe",
           "living"
          ]
         ],
         "hovertemplate": "word=%{customdata[0]}<extra></extra>",
         "legendgroup": "living",
         "marker": {
          "color": "#636efa",
          "symbol": "circle"
         },
         "mode": "markers",
         "name": "living",
         "scene": "scene",
         "showlegend": true,
         "type": "scatter3d",
         "x": [
          -1.9274164323962093,
          -0.2734670936573008,
          -1.1584006714782893,
          0.10255899532094685,
          0.5945029012022632,
          0.8489566456236336,
          0.3117765185118514,
          -0.22257634477302665,
          -0.1292766384851908,
          0.39376716949207086,
          -0.2565035106958761
         ],
         "y": [
          -0.8836721771792996,
          2.0984912019134927,
          0.5484734772071602,
          0.41881419985529955,
          -0.9190337982752615,
          -1.0162782562891568,
          -2.144903329601943,
          -0.19706736756603802,
          -0.23537579041999676,
          -0.7923213226813977,
          -0.4210243011737971
         ],
         "z": [
          2.3235923911237335,
          1.0525806611097153,
          0.2707158696162435,
          0.9447372415933744,
          0.6366131858324003,
          1.2798221522334339,
          0.4902542593459375,
          0.3092313765863653,
          0.1320600445238051,
          -0.014298881962657575,
          0.6597224900144735
         ]
        },
        {
         "customdata": [
          [
           "bicycle",
           "transport"
          ],
          [
           "car",
           "transport"
          ],
          [
           "motorcycle",
           "transport"
          ],
          [
           "airplane",
           "transport"
          ],
          [
           "bus",
           "transport"
          ],
          [
           "train",
           "transport"
          ],
          [
           "truck",
           "transport"
          ],
          [
           "boat",
           "transport"
          ],
          [
           "traffic light",
           "transport"
          ],
          [
           "fire hydrant",
           "transport"
          ],
          [
           "stop sign",
           "transport"
          ],
          [
           "parking meter",
           "transport"
          ]
         ],
         "hovertemplate": "word=%{customdata[0]}<extra></extra>",
         "legendgroup": "transport",
         "marker": {
          "color": "#EF553B",
          "symbol": "circle"
         },
         "mode": "markers",
         "name": "transport",
         "scene": "scene",
         "showlegend": true,
         "type": "scatter3d",
         "x": [
          1.9544168019431434,
          0.20151322926259088,
          1.875253414789828,
          -0.3384941616760955,
          0.5323030970103726,
          1.3295914961973336,
          0.6878026074900991,
          0.8744020200657707,
          1.5670816576572795,
          0.7471751478550853,
          0.4927214034337149,
          0.5068577225682355
         ],
         "y": [
          0.760643203782932,
          0.601515908851103,
          0.18307005921555322,
          0.28915492250343905,
          -0.28841822206393974,
          0.16244244690957538,
          -1.0074378510151663,
          -0.37387547304584784,
          0.9050364899247765,
          1.5680668854740636,
          1.7242473786478953,
          1.8774810700637308
         ],
         "z": [
          -0.002744229871621034,
          0.6828317941965464,
          -1.662762580283869,
          -1.0619206715499696,
          -0.31086828563259516,
          0.7791205616218508,
          -0.32242293772363173,
          0.4401841002847793,
          1.5263213968422131,
          -0.26079812657143686,
          0.0781383347656347,
          -0.5958830372114963
         ]
        },
        {
         "customdata": [
          [
           "bench",
           "household"
          ],
          [
           "backpack",
           "household"
          ],
          [
           "umbrella",
           "household"
          ],
          [
           "handbag",
           "household"
          ],
          [
           "tie",
           "household"
          ],
          [
           "suitcase",
           "household"
          ],
          [
           "frisbee",
           "household"
          ],
          [
           "skis",
           "household"
          ],
          [
           "snowboard",
           "household"
          ],
          [
           "sports ball",
           "household"
          ],
          [
           "kite",
           "household"
          ],
          [
           "baseball bat",
           "household"
          ],
          [
           "baseball glove",
           "household"
          ],
          [
           "skateboard",
           "household"
          ],
          [
           "surfboard",
           "household"
          ],
          [
           "tennis racket",
           "household"
          ],
          [
           "bottle",
           "household"
          ],
          [
           "wine glass",
           "household"
          ],
          [
           "cup",
           "household"
          ],
          [
           "fork",
           "household"
          ],
          [
           "knife",
           "household"
          ],
          [
           "spoon",
           "household"
          ],
          [
           "bowl",
           "household"
          ],
          [
           "banana",
           "household"
          ],
          [
           "apple",
           "household"
          ],
          [
           "sandwich",
           "household"
          ],
          [
           "orange",
           "household"
          ],
          [
           "broccoli",
           "household"
          ],
          [
           "carrot",
           "household"
          ],
          [
           "hot dog",
           "household"
          ],
          [
           "pizza",
           "household"
          ],
          [
           "donut",
           "household"
          ],
          [
           "cake",
           "household"
          ],
          [
           "chair",
           "household"
          ],
          [
           "couch",
           "household"
          ],
          [
           "potted plant",
           "household"
          ],
          [
           "bed",
           "household"
          ],
          [
           "dining table",
           "household"
          ],
          [
           "toilet",
           "household"
          ],
          [
           "tv",
           "household"
          ],
          [
           "laptop",
           "household"
          ],
          [
           "mouse",
           "household"
          ],
          [
           "remote",
           "household"
          ],
          [
           "keyboard",
           "household"
          ],
          [
           "cell phone",
           "household"
          ],
          [
           "microwave",
           "household"
          ],
          [
           "oven",
           "household"
          ],
          [
           "toaster",
           "household"
          ],
          [
           "sink",
           "household"
          ],
          [
           "refrigerator",
           "household"
          ],
          [
           "book",
           "household"
          ],
          [
           "clock",
           "household"
          ],
          [
           "vase",
           "household"
          ],
          [
           "scissors",
           "household"
          ],
          [
           "teddy bear",
           "household"
          ],
          [
           "hair drier",
           "household"
          ],
          [
           "toothbrush",
           "household"
          ]
         ],
         "hovertemplate": "word=%{customdata[0]}<extra></extra>",
         "legendgroup": "household",
         "marker": {
          "color": "#00cc96",
          "symbol": "circle"
         },
         "mode": "markers",
         "name": "household",
         "scene": "scene",
         "showlegend": true,
         "type": "scatter3d",
         "x": [
          -0.35828500846442435,
          0.22978586753163208,
          0.11952257828237141,
          -1.0792372843249742,
          -0.13493116613899903,
          -0.26498530217658844,
          -1.3110729181311118,
          0.5096849863951396,
          0.2778493525890021,
          0.45313970985705737,
          0.950738143392182,
          -0.759756471884809,
          -1.1923278374011388,
          1.4935727981577722,
          1.996825759346705,
          -0.4685482977136849,
          0.7330388287205647,
          0.8008931605662636,
          -1.8001895601855238,
          -0.010531557755217932,
          0.04318645495596034,
          -0.6183932805396031,
          -0.8502289143457407,
          -0.41765754882941075,
          -1.1697097267859058,
          0.1902041739549744,
          -1.5768357178600987,
          -0.2593307745227802,
          -1.5626993987255782,
          -0.9915921056909465,
          0.23544039518544033,
          -1.9161073770885928,
          0.21282228457020735,
          -1.3704454584960981,
          -0.004877030101409692,
          1.3550368706394706,
          0.30612199085804315,
          -0.38938491056036956,
          0.0007774975523985465,
          -0.16885833206184847,
          -1.1555734076513853,
          -1.4043726244189476,
          -1.4100271520727559,
          -1.7068898538976882,
          0.3117765185118514,
          -0.5731570593091373,
          -0.11514031935067019,
          -0.052940515158779726,
          -0.3215305787146708,
          -0.09252220873543725,
          -0.11514031935067019,
          1.2362917899094976,
          -0.8247835399036035,
          0.5323030970103726,
          2.4350516525168433,
          2.5311786226315833,
          0.7782750499510307
         ],
         "y": [
          -1.5732237885505578,
          0.3657717682113567,
          -0.7540128998274389,
          0.37755897524334386,
          1.3264291413183233,
          -0.23242898866199993,
          -1.5938514008565356,
          -0.612566415443591,
          0.7576964020249352,
          -1.0310122650791411,
          -1.2019267670429572,
          -0.9072465912432742,
          -0.8394701508093471,
          -1.0251186615631473,
          -0.40334349062581615,
          0.4600694244672552,
          -0.5742579925896322,
          1.196769863966463,
          -0.17349295350206334,
          0.35103775942137255,
          -0.04383367615020277,
          -1.3492668549427986,
          -0.7923213226813977,
          -1.2255011811069318,
          2.2811929109092963,
          -0.24126939393599042,
          0.7694836090569225,
          -0.20296097108203168,
          -0.5182687591876926,
          1.0612169830986087,
          -0.9190337982752615,
          -0.2943118255799334,
          -0.7157044769734802,
          -1.1400439301250236,
          -0.19117376405004433,
          0.7547496002669383,
          -0.4593327240277559,
          1.591641299538038,
          -1.1370971283670268,
          -1.3168520356048337,
          1.836225845451775,
          1.889268277095718,
          0.32746334535739785,
          0.860834463554824,
          1.1997166657244598,
          -0.4328115082057844,
          0.09761280823364506,
          -0.9720762299192044,
          -0.31788623964390805,
          0.13592123108760387,
          1.1702486481444914,
          1.523864859104111,
          -0.751066098069442,
          -0.7274916840054675,
          -0.4239711029317939,
          0.6044627106090998,
          1.296961123738355
         ],
         "z": [
          -0.7961636734561295,
          -1.8553401151344782,
          -1.3122714668557611,
          1.98080437908965,
          0.2707158696162435,
          -1.046514468761921,
          -1.2198342501274688,
          -0.8770462380933851,
          1.0641353132007518,
          -0.44952411072503357,
          -1.2082795980364323,
          -1.3970055821900291,
          -1.2968652640677125,
          1.1950880368991659,
          0.1551693487058782,
          -0.6421016455756423,
          -0.6074376893025328,
          -1.0734753236410062,
          -0.010447331265645394,
          1.3684078182647141,
          0.28997362310130437,
          0.1320600445238051,
          0.12050539243276857,
          1.6996411782077612,
          1.5840946572973957,
          -0.49189116839216745,
          1.214345790384227,
          0.5980976788622786,
          -0.1028845479939376,
          0.016513523613439867,
          -0.05281438893277932,
          -0.5304066753622892,
          -0.4033055023608874,
          -0.6421016455756423,
          -1.6011377691316742,
          -0.7961636734561295,
          -0.47648496560411874,
          -1.1312485840961888,
          1.067986863897764,
          -0.43411790793698485,
          -1.3161230175527734,
          0.4324809988907549,
          -1.0542175701559453,
          0.6404647365294126,
          0.782972112318863,
          -0.28005588005649773,
          0.30152827519234093,
          -0.9502257013366165,
          0.8445969234710579,
          -1.1928733952483837,
          -1.069623772943994,
          -0.1028845479939376,
          0.03577127709850071,
          0.9485887922903865,
          -1.7821606518912467,
          1.587946207994408,
          2.4969121724892815
         ]
        }
       ],
       "layout": {
        "legend": {
         "title": {
          "text": "category"
         },
         "tracegroupgap": 0
        },
        "scene": {
         "domain": {
          "x": [
           0,
           1
          ],
          "y": [
           0,
           1
          ]
         },
         "xaxis": {
          "title": {
           "text": "0"
          }
         },
         "yaxis": {
          "title": {
           "text": "4"
          }
         },
         "zaxis": {
          "title": {
           "text": "5"
          }
         }
        },
        "template": {
         "data": {
          "bar": [
           {
            "error_x": {
             "color": "#2a3f5f"
            },
            "error_y": {
             "color": "#2a3f5f"
            },
            "marker": {
             "line": {
              "color": "#E5ECF6",
              "width": 0.5
             },
             "pattern": {
              "fillmode": "overlay",
              "size": 10,
              "solidity": 0.2
             }
            },
            "type": "bar"
           }
          ],
          "barpolar": [
           {
            "marker": {
             "line": {
              "color": "#E5ECF6",
              "width": 0.5
             },
             "pattern": {
              "fillmode": "overlay",
              "size": 10,
              "solidity": 0.2
             }
            },
            "type": "barpolar"
           }
          ],
          "carpet": [
           {
            "aaxis": {
             "endlinecolor": "#2a3f5f",
             "gridcolor": "white",
             "linecolor": "white",
             "minorgridcolor": "white",
             "startlinecolor": "#2a3f5f"
            },
            "baxis": {
             "endlinecolor": "#2a3f5f",
             "gridcolor": "white",
             "linecolor": "white",
             "minorgridcolor": "white",
             "startlinecolor": "#2a3f5f"
            },
            "type": "carpet"
           }
          ],
          "choropleth": [
           {
            "colorbar": {
             "outlinewidth": 0,
             "ticks": ""
            },
            "type": "choropleth"
           }
          ],
          "contour": [
           {
            "colorbar": {
             "outlinewidth": 0,
             "ticks": ""
            },
            "colorscale": [
             [
              0,
              "#0d0887"
             ],
             [
              0.1111111111111111,
              "#46039f"
             ],
             [
              0.2222222222222222,
              "#7201a8"
             ],
             [
              0.3333333333333333,
              "#9c179e"
             ],
             [
              0.4444444444444444,
              "#bd3786"
             ],
             [
              0.5555555555555556,
              "#d8576b"
             ],
             [
              0.6666666666666666,
              "#ed7953"
             ],
             [
              0.7777777777777778,
              "#fb9f3a"
             ],
             [
              0.8888888888888888,
              "#fdca26"
             ],
             [
              1,
              "#f0f921"
             ]
            ],
            "type": "contour"
           }
          ],
          "contourcarpet": [
           {
            "colorbar": {
             "outlinewidth": 0,
             "ticks": ""
            },
            "type": "contourcarpet"
           }
          ],
          "heatmap": [
           {
            "colorbar": {
             "outlinewidth": 0,
             "ticks": ""
            },
            "colorscale": [
             [
              0,
              "#0d0887"
             ],
             [
              0.1111111111111111,
              "#46039f"
             ],
             [
              0.2222222222222222,
              "#7201a8"
             ],
             [
              0.3333333333333333,
              "#9c179e"
             ],
             [
              0.4444444444444444,
              "#bd3786"
             ],
             [
              0.5555555555555556,
              "#d8576b"
             ],
             [
              0.6666666666666666,
              "#ed7953"
             ],
             [
              0.7777777777777778,
              "#fb9f3a"
             ],
             [
              0.8888888888888888,
              "#fdca26"
             ],
             [
              1,
              "#f0f921"
             ]
            ],
            "type": "heatmap"
           }
          ],
          "heatmapgl": [
           {
            "colorbar": {
             "outlinewidth": 0,
             "ticks": ""
            },
            "colorscale": [
             [
              0,
              "#0d0887"
             ],
             [
              0.1111111111111111,
              "#46039f"
             ],
             [
              0.2222222222222222,
              "#7201a8"
             ],
             [
              0.3333333333333333,
              "#9c179e"
             ],
             [
              0.4444444444444444,
              "#bd3786"
             ],
             [
              0.5555555555555556,
              "#d8576b"
             ],
             [
              0.6666666666666666,
              "#ed7953"
             ],
             [
              0.7777777777777778,
              "#fb9f3a"
             ],
             [
              0.8888888888888888,
              "#fdca26"
             ],
             [
              1,
              "#f0f921"
             ]
            ],
            "type": "heatmapgl"
           }
          ],
          "histogram": [
           {
            "marker": {
             "pattern": {
              "fillmode": "overlay",
              "size": 10,
              "solidity": 0.2
             }
            },
            "type": "histogram"
           }
          ],
          "histogram2d": [
           {
            "colorbar": {
             "outlinewidth": 0,
             "ticks": ""
            },
            "colorscale": [
             [
              0,
              "#0d0887"
             ],
             [
              0.1111111111111111,
              "#46039f"
             ],
             [
              0.2222222222222222,
              "#7201a8"
             ],
             [
              0.3333333333333333,
              "#9c179e"
             ],
             [
              0.4444444444444444,
              "#bd3786"
             ],
             [
              0.5555555555555556,
              "#d8576b"
             ],
             [
              0.6666666666666666,
              "#ed7953"
             ],
             [
              0.7777777777777778,
              "#fb9f3a"
             ],
             [
              0.8888888888888888,
              "#fdca26"
             ],
             [
              1,
              "#f0f921"
             ]
            ],
            "type": "histogram2d"
           }
          ],
          "histogram2dcontour": [
           {
            "colorbar": {
             "outlinewidth": 0,
             "ticks": ""
            },
            "colorscale": [
             [
              0,
              "#0d0887"
             ],
             [
              0.1111111111111111,
              "#46039f"
             ],
             [
              0.2222222222222222,
              "#7201a8"
             ],
             [
              0.3333333333333333,
              "#9c179e"
             ],
             [
              0.4444444444444444,
              "#bd3786"
             ],
             [
              0.5555555555555556,
              "#d8576b"
             ],
             [
              0.6666666666666666,
              "#ed7953"
             ],
             [
              0.7777777777777778,
              "#fb9f3a"
             ],
             [
              0.8888888888888888,
              "#fdca26"
             ],
             [
              1,
              "#f0f921"
             ]
            ],
            "type": "histogram2dcontour"
           }
          ],
          "mesh3d": [
           {
            "colorbar": {
             "outlinewidth": 0,
             "ticks": ""
            },
            "type": "mesh3d"
           }
          ],
          "parcoords": [
           {
            "line": {
             "colorbar": {
              "outlinewidth": 0,
              "ticks": ""
             }
            },
            "type": "parcoords"
           }
          ],
          "pie": [
           {
            "automargin": true,
            "type": "pie"
           }
          ],
          "scatter": [
           {
            "fillpattern": {
             "fillmode": "overlay",
             "size": 10,
             "solidity": 0.2
            },
            "type": "scatter"
           }
          ],
          "scatter3d": [
           {
            "line": {
             "colorbar": {
              "outlinewidth": 0,
              "ticks": ""
             }
            },
            "marker": {
             "colorbar": {
              "outlinewidth": 0,
              "ticks": ""
             }
            },
            "type": "scatter3d"
           }
          ],
          "scattercarpet": [
           {
            "marker": {
             "colorbar": {
              "outlinewidth": 0,
              "ticks": ""
             }
            },
            "type": "scattercarpet"
           }
          ],
          "scattergeo": [
           {
            "marker": {
             "colorbar": {
              "outlinewidth": 0,
              "ticks": ""
             }
            },
            "type": "scattergeo"
           }
          ],
          "scattergl": [
           {
            "marker": {
             "colorbar": {
              "outlinewidth": 0,
              "ticks": ""
             }
            },
            "type": "scattergl"
           }
          ],
          "scattermapbox": [
           {
            "marker": {
             "colorbar": {
              "outlinewidth": 0,
              "ticks": ""
             }
            },
            "type": "scattermapbox"
           }
          ],
          "scatterpolar": [
           {
            "marker": {
             "colorbar": {
              "outlinewidth": 0,
              "ticks": ""
             }
            },
            "type": "scatterpolar"
           }
          ],
          "scatterpolargl": [
           {
            "marker": {
             "colorbar": {
              "outlinewidth": 0,
              "ticks": ""
             }
            },
            "type": "scatterpolargl"
           }
          ],
          "scatterternary": [
           {
            "marker": {
             "colorbar": {
              "outlinewidth": 0,
              "ticks": ""
             }
            },
            "type": "scatterternary"
           }
          ],
          "surface": [
           {
            "colorbar": {
             "outlinewidth": 0,
             "ticks": ""
            },
            "colorscale": [
             [
              0,
              "#0d0887"
             ],
             [
              0.1111111111111111,
              "#46039f"
             ],
             [
              0.2222222222222222,
              "#7201a8"
             ],
             [
              0.3333333333333333,
              "#9c179e"
             ],
             [
              0.4444444444444444,
              "#bd3786"
             ],
             [
              0.5555555555555556,
              "#d8576b"
             ],
             [
              0.6666666666666666,
              "#ed7953"
             ],
             [
              0.7777777777777778,
              "#fb9f3a"
             ],
             [
              0.8888888888888888,
              "#fdca26"
             ],
             [
              1,
              "#f0f921"
             ]
            ],
            "type": "surface"
           }
          ],
          "table": [
           {
            "cells": {
             "fill": {
              "color": "#EBF0F8"
             },
             "line": {
              "color": "white"
             }
            },
            "header": {
             "fill": {
              "color": "#C8D4E3"
             },
             "line": {
              "color": "white"
             }
            },
            "type": "table"
           }
          ]
         },
         "layout": {
          "annotationdefaults": {
           "arrowcolor": "#2a3f5f",
           "arrowhead": 0,
           "arrowwidth": 1
          },
          "autotypenumbers": "strict",
          "coloraxis": {
           "colorbar": {
            "outlinewidth": 0,
            "ticks": ""
           }
          },
          "colorscale": {
           "diverging": [
            [
             0,
             "#8e0152"
            ],
            [
             0.1,
             "#c51b7d"
            ],
            [
             0.2,
             "#de77ae"
            ],
            [
             0.3,
             "#f1b6da"
            ],
            [
             0.4,
             "#fde0ef"
            ],
            [
             0.5,
             "#f7f7f7"
            ],
            [
             0.6,
             "#e6f5d0"
            ],
            [
             0.7,
             "#b8e186"
            ],
            [
             0.8,
             "#7fbc41"
            ],
            [
             0.9,
             "#4d9221"
            ],
            [
             1,
             "#276419"
            ]
           ],
           "sequential": [
            [
             0,
             "#0d0887"
            ],
            [
             0.1111111111111111,
             "#46039f"
            ],
            [
             0.2222222222222222,
             "#7201a8"
            ],
            [
             0.3333333333333333,
             "#9c179e"
            ],
            [
             0.4444444444444444,
             "#bd3786"
            ],
            [
             0.5555555555555556,
             "#d8576b"
            ],
            [
             0.6666666666666666,
             "#ed7953"
            ],
            [
             0.7777777777777778,
             "#fb9f3a"
            ],
            [
             0.8888888888888888,
             "#fdca26"
            ],
            [
             1,
             "#f0f921"
            ]
           ],
           "sequentialminus": [
            [
             0,
             "#0d0887"
            ],
            [
             0.1111111111111111,
             "#46039f"
            ],
            [
             0.2222222222222222,
             "#7201a8"
            ],
            [
             0.3333333333333333,
             "#9c179e"
            ],
            [
             0.4444444444444444,
             "#bd3786"
            ],
            [
             0.5555555555555556,
             "#d8576b"
            ],
            [
             0.6666666666666666,
             "#ed7953"
            ],
            [
             0.7777777777777778,
             "#fb9f3a"
            ],
            [
             0.8888888888888888,
             "#fdca26"
            ],
            [
             1,
             "#f0f921"
            ]
           ]
          },
          "colorway": [
           "#636efa",
           "#EF553B",
           "#00cc96",
           "#ab63fa",
           "#FFA15A",
           "#19d3f3",
           "#FF6692",
           "#B6E880",
           "#FF97FF",
           "#FECB52"
          ],
          "font": {
           "color": "#2a3f5f"
          },
          "geo": {
           "bgcolor": "white",
           "lakecolor": "white",
           "landcolor": "#E5ECF6",
           "showlakes": true,
           "showland": true,
           "subunitcolor": "white"
          },
          "hoverlabel": {
           "align": "left"
          },
          "hovermode": "closest",
          "mapbox": {
           "style": "light"
          },
          "paper_bgcolor": "white",
          "plot_bgcolor": "#E5ECF6",
          "polar": {
           "angularaxis": {
            "gridcolor": "white",
            "linecolor": "white",
            "ticks": ""
           },
           "bgcolor": "#E5ECF6",
           "radialaxis": {
            "gridcolor": "white",
            "linecolor": "white",
            "ticks": ""
           }
          },
          "scene": {
           "xaxis": {
            "backgroundcolor": "#E5ECF6",
            "gridcolor": "white",
            "gridwidth": 2,
            "linecolor": "white",
            "showbackground": true,
            "ticks": "",
            "zerolinecolor": "white"
           },
           "yaxis": {
            "backgroundcolor": "#E5ECF6",
            "gridcolor": "white",
            "gridwidth": 2,
            "linecolor": "white",
            "showbackground": true,
            "ticks": "",
            "zerolinecolor": "white"
           },
           "zaxis": {
            "backgroundcolor": "#E5ECF6",
            "gridcolor": "white",
            "gridwidth": 2,
            "linecolor": "white",
            "showbackground": true,
            "ticks": "",
            "zerolinecolor": "white"
           }
          },
          "shapedefaults": {
           "line": {
            "color": "#2a3f5f"
           }
          },
          "ternary": {
           "aaxis": {
            "gridcolor": "white",
            "linecolor": "white",
            "ticks": ""
           },
           "baxis": {
            "gridcolor": "white",
            "linecolor": "white",
            "ticks": ""
           },
           "bgcolor": "#E5ECF6",
           "caxis": {
            "gridcolor": "white",
            "linecolor": "white",
            "ticks": ""
           }
          },
          "title": {
           "x": 0.05
          },
          "xaxis": {
           "automargin": true,
           "gridcolor": "white",
           "linecolor": "white",
           "ticks": "",
           "title": {
            "standoff": 15
           },
           "zerolinecolor": "white",
           "zerolinewidth": 2
          },
          "yaxis": {
           "automargin": true,
           "gridcolor": "white",
           "linecolor": "white",
           "ticks": "",
           "title": {
            "standoff": 15
           },
           "zerolinecolor": "white",
           "zerolinewidth": 2
          }
         }
        },
        "title": {
         "text": "COCO Class Embeddings (GPT4)"
        }
       }
      }
     },
     "metadata": {},
     "output_type": "display_data"
    }
   ],
   "source": [
    "# plot results\n",
    "fig = px.scatter_3d(\n",
    "    gpt_df, x='0', y='4', z='5',\n",
    "    color='category',\n",
    "    title=f'COCO Class Embeddings (GPT4)',\n",
    "    hover_data={'word': True, 'category': False, '0': False, '4': False, '5': False},\n",
    ")\n",
    "fig.show()"
   ]
  },
  {
   "cell_type": "markdown",
   "metadata": {},
   "source": [
    "## Baseline (random embeddings)\n"
   ]
  },
  {
   "cell_type": "code",
   "execution_count": 128,
   "metadata": {},
   "outputs": [
    {
     "data": {
      "text/html": [
       "<div>\n",
       "<style scoped>\n",
       "    .dataframe tbody tr th:only-of-type {\n",
       "        vertical-align: middle;\n",
       "    }\n",
       "\n",
       "    .dataframe tbody tr th {\n",
       "        vertical-align: top;\n",
       "    }\n",
       "\n",
       "    .dataframe thead th {\n",
       "        text-align: right;\n",
       "    }\n",
       "</style>\n",
       "<table border=\"1\" class=\"dataframe\">\n",
       "  <thead>\n",
       "    <tr style=\"text-align: right;\">\n",
       "      <th></th>\n",
       "      <th>0</th>\n",
       "      <th>1</th>\n",
       "      <th>2</th>\n",
       "      <th>3</th>\n",
       "      <th>4</th>\n",
       "      <th>5</th>\n",
       "      <th>6</th>\n",
       "      <th>7</th>\n",
       "      <th>8</th>\n",
       "      <th>9</th>\n",
       "      <th>...</th>\n",
       "      <th>758</th>\n",
       "      <th>759</th>\n",
       "      <th>760</th>\n",
       "      <th>761</th>\n",
       "      <th>762</th>\n",
       "      <th>763</th>\n",
       "      <th>764</th>\n",
       "      <th>765</th>\n",
       "      <th>766</th>\n",
       "      <th>767</th>\n",
       "    </tr>\n",
       "  </thead>\n",
       "  <tbody>\n",
       "    <tr>\n",
       "      <th>0</th>\n",
       "      <td>0.903</td>\n",
       "      <td>-0.812</td>\n",
       "      <td>0.864</td>\n",
       "      <td>-0.864</td>\n",
       "      <td>-0.112</td>\n",
       "      <td>0.438</td>\n",
       "      <td>0.944</td>\n",
       "      <td>0.399</td>\n",
       "      <td>-0.064</td>\n",
       "      <td>-0.540</td>\n",
       "      <td>...</td>\n",
       "      <td>-0.596</td>\n",
       "      <td>0.858</td>\n",
       "      <td>-0.549</td>\n",
       "      <td>0.303</td>\n",
       "      <td>-0.804</td>\n",
       "      <td>0.325</td>\n",
       "      <td>0.281</td>\n",
       "      <td>0.231</td>\n",
       "      <td>-0.819</td>\n",
       "      <td>0.772</td>\n",
       "    </tr>\n",
       "    <tr>\n",
       "      <th>1</th>\n",
       "      <td>-0.932</td>\n",
       "      <td>0.271</td>\n",
       "      <td>0.245</td>\n",
       "      <td>0.358</td>\n",
       "      <td>0.422</td>\n",
       "      <td>0.526</td>\n",
       "      <td>-0.286</td>\n",
       "      <td>-0.514</td>\n",
       "      <td>0.846</td>\n",
       "      <td>-0.441</td>\n",
       "      <td>...</td>\n",
       "      <td>-0.045</td>\n",
       "      <td>0.137</td>\n",
       "      <td>0.590</td>\n",
       "      <td>-0.794</td>\n",
       "      <td>0.635</td>\n",
       "      <td>0.035</td>\n",
       "      <td>0.757</td>\n",
       "      <td>0.747</td>\n",
       "      <td>0.654</td>\n",
       "      <td>-0.964</td>\n",
       "    </tr>\n",
       "    <tr>\n",
       "      <th>2</th>\n",
       "      <td>-0.200</td>\n",
       "      <td>-0.413</td>\n",
       "      <td>-0.985</td>\n",
       "      <td>-0.449</td>\n",
       "      <td>0.402</td>\n",
       "      <td>-0.804</td>\n",
       "      <td>0.615</td>\n",
       "      <td>0.400</td>\n",
       "      <td>-0.539</td>\n",
       "      <td>-0.340</td>\n",
       "      <td>...</td>\n",
       "      <td>-0.104</td>\n",
       "      <td>-0.268</td>\n",
       "      <td>-0.489</td>\n",
       "      <td>0.264</td>\n",
       "      <td>0.701</td>\n",
       "      <td>0.360</td>\n",
       "      <td>0.900</td>\n",
       "      <td>-0.525</td>\n",
       "      <td>-0.840</td>\n",
       "      <td>0.082</td>\n",
       "    </tr>\n",
       "    <tr>\n",
       "      <th>3</th>\n",
       "      <td>-0.136</td>\n",
       "      <td>-0.597</td>\n",
       "      <td>-0.156</td>\n",
       "      <td>0.975</td>\n",
       "      <td>0.567</td>\n",
       "      <td>0.910</td>\n",
       "      <td>-0.010</td>\n",
       "      <td>-0.759</td>\n",
       "      <td>-0.616</td>\n",
       "      <td>0.440</td>\n",
       "      <td>...</td>\n",
       "      <td>-0.159</td>\n",
       "      <td>0.898</td>\n",
       "      <td>0.981</td>\n",
       "      <td>0.819</td>\n",
       "      <td>0.091</td>\n",
       "      <td>0.390</td>\n",
       "      <td>-0.643</td>\n",
       "      <td>-0.404</td>\n",
       "      <td>0.911</td>\n",
       "      <td>0.837</td>\n",
       "    </tr>\n",
       "    <tr>\n",
       "      <th>4</th>\n",
       "      <td>0.321</td>\n",
       "      <td>-0.388</td>\n",
       "      <td>0.282</td>\n",
       "      <td>-0.804</td>\n",
       "      <td>-0.568</td>\n",
       "      <td>0.142</td>\n",
       "      <td>-0.253</td>\n",
       "      <td>-0.422</td>\n",
       "      <td>0.479</td>\n",
       "      <td>-0.662</td>\n",
       "      <td>...</td>\n",
       "      <td>0.688</td>\n",
       "      <td>0.159</td>\n",
       "      <td>0.753</td>\n",
       "      <td>-0.753</td>\n",
       "      <td>-0.087</td>\n",
       "      <td>-0.183</td>\n",
       "      <td>-0.927</td>\n",
       "      <td>-0.509</td>\n",
       "      <td>0.068</td>\n",
       "      <td>0.803</td>\n",
       "    </tr>\n",
       "  </tbody>\n",
       "</table>\n",
       "<p>5 rows × 768 columns</p>\n",
       "</div>"
      ],
      "text/plain": [
       "     0      1      2      3      4      5      6      7      8      9    ...  \\\n",
       "0  0.903 -0.812  0.864 -0.864 -0.112  0.438  0.944  0.399 -0.064 -0.540  ...   \n",
       "1 -0.932  0.271  0.245  0.358  0.422  0.526 -0.286 -0.514  0.846 -0.441  ...   \n",
       "2 -0.200 -0.413 -0.985 -0.449  0.402 -0.804  0.615  0.400 -0.539 -0.340  ...   \n",
       "3 -0.136 -0.597 -0.156  0.975  0.567  0.910 -0.010 -0.759 -0.616  0.440  ...   \n",
       "4  0.321 -0.388  0.282 -0.804 -0.568  0.142 -0.253 -0.422  0.479 -0.662  ...   \n",
       "\n",
       "     758    759    760    761    762    763    764    765    766    767  \n",
       "0 -0.596  0.858 -0.549  0.303 -0.804  0.325  0.281  0.231 -0.819  0.772  \n",
       "1 -0.045  0.137  0.590 -0.794  0.635  0.035  0.757  0.747  0.654 -0.964  \n",
       "2 -0.104 -0.268 -0.489  0.264  0.701  0.360  0.900 -0.525 -0.840  0.082  \n",
       "3 -0.159  0.898  0.981  0.819  0.091  0.390 -0.643 -0.404  0.911  0.837  \n",
       "4  0.688  0.159  0.753 -0.753 -0.087 -0.183 -0.927 -0.509  0.068  0.803  \n",
       "\n",
       "[5 rows x 768 columns]"
      ]
     },
     "execution_count": 128,
     "metadata": {},
     "output_type": "execute_result"
    }
   ],
   "source": [
    "# create dataframe with random embeddings\n",
    "# Create a DataFrame with 80 rows and 768 columns with random decimals between -1 and 1\n",
    "df = pd.DataFrame(np.random.uniform(-1, 1, size=(80, 768)))\n",
    "df = df.round(3)\n",
    "\n",
    "df.head()  # Display the first few rows of the DataFrame for verification"
   ]
  },
  {
   "cell_type": "code",
   "execution_count": 134,
   "metadata": {},
   "outputs": [
    {
     "name": "stdout",
     "output_type": "stream",
     "text": [
      "80\n",
      "768\n"
     ]
    }
   ],
   "source": [
    "# convert to lists\n",
    "list_of_rows = df.values.tolist()\n",
    "print(len(list_of_rows))\n",
    "print(len(list_of_rows[0]))"
   ]
  },
  {
   "cell_type": "code",
   "execution_count": 135,
   "metadata": {},
   "outputs": [],
   "source": [
    "# save to text file\n",
    "# ❗️ note: only taking first 10 axes for now due to context window length\n",
    "with open(\"output.txt\", \"w\") as text_file:\n",
    "    for i in range(len(coco_classes)):\n",
    "        class_str = f\"{coco_classes[i]}: {list_of_rows[i][:10]}\\n\"\n",
    "        text_file.write(class_str)"
   ]
  },
  {
   "cell_type": "markdown",
   "metadata": {},
   "source": [
    "### PCA"
   ]
  },
  {
   "cell_type": "code",
   "execution_count": 129,
   "metadata": {},
   "outputs": [],
   "source": [
    "# perform PCA\n",
    "pca = PCA(n_components=3)\n",
    "components = pca.fit_transform(df)\n",
    "\n",
    "total_var = pca.explained_variance_ratio_.sum() * 100"
   ]
  },
  {
   "cell_type": "code",
   "execution_count": 130,
   "metadata": {},
   "outputs": [
    {
     "data": {
      "text/html": [
       "<div>\n",
       "<style scoped>\n",
       "    .dataframe tbody tr th:only-of-type {\n",
       "        vertical-align: middle;\n",
       "    }\n",
       "\n",
       "    .dataframe tbody tr th {\n",
       "        vertical-align: top;\n",
       "    }\n",
       "\n",
       "    .dataframe thead th {\n",
       "        text-align: right;\n",
       "    }\n",
       "</style>\n",
       "<table border=\"1\" class=\"dataframe\">\n",
       "  <thead>\n",
       "    <tr style=\"text-align: right;\">\n",
       "      <th></th>\n",
       "      <th>word</th>\n",
       "      <th>category</th>\n",
       "      <th>0</th>\n",
       "      <th>1</th>\n",
       "      <th>2</th>\n",
       "    </tr>\n",
       "  </thead>\n",
       "  <tbody>\n",
       "    <tr>\n",
       "      <th>0</th>\n",
       "      <td>person</td>\n",
       "      <td>living</td>\n",
       "      <td>0.123572</td>\n",
       "      <td>-1.578426</td>\n",
       "      <td>-0.642939</td>\n",
       "    </tr>\n",
       "    <tr>\n",
       "      <th>1</th>\n",
       "      <td>bicycle</td>\n",
       "      <td>transport</td>\n",
       "      <td>-1.426884</td>\n",
       "      <td>4.007871</td>\n",
       "      <td>-1.276315</td>\n",
       "    </tr>\n",
       "    <tr>\n",
       "      <th>2</th>\n",
       "      <td>car</td>\n",
       "      <td>transport</td>\n",
       "      <td>2.256814</td>\n",
       "      <td>-2.052701</td>\n",
       "      <td>-0.709009</td>\n",
       "    </tr>\n",
       "    <tr>\n",
       "      <th>3</th>\n",
       "      <td>motorcycle</td>\n",
       "      <td>transport</td>\n",
       "      <td>-2.174602</td>\n",
       "      <td>-2.320101</td>\n",
       "      <td>-1.483317</td>\n",
       "    </tr>\n",
       "    <tr>\n",
       "      <th>4</th>\n",
       "      <td>airplane</td>\n",
       "      <td>transport</td>\n",
       "      <td>0.188296</td>\n",
       "      <td>1.380676</td>\n",
       "      <td>-0.886813</td>\n",
       "    </tr>\n",
       "  </tbody>\n",
       "</table>\n",
       "</div>"
      ],
      "text/plain": [
       "         word   category         0         1         2\n",
       "0      person     living  0.123572 -1.578426 -0.642939\n",
       "1     bicycle  transport -1.426884  4.007871 -1.276315\n",
       "2         car  transport  2.256814 -2.052701 -0.709009\n",
       "3  motorcycle  transport -2.174602 -2.320101 -1.483317\n",
       "4    airplane  transport  0.188296  1.380676 -0.886813"
      ]
     },
     "execution_count": 130,
     "metadata": {},
     "output_type": "execute_result"
    }
   ],
   "source": [
    "# new data frame with PCA result + word + category info\n",
    "new_df = pd.DataFrame(components)\n",
    "new_df.columns = new_df.columns.astype(str)\n",
    "new_df.insert(0, 'word', coco_classes)\n",
    "new_df.insert(1, 'category', [cat_dict[c] for c in categories])\n",
    "new_df.head()"
   ]
  },
  {
   "cell_type": "code",
   "execution_count": 131,
   "metadata": {},
   "outputs": [
    {
     "data": {
      "application/vnd.plotly.v1+json": {
       "config": {
        "plotlyServerURL": "https://plot.ly"
       },
       "data": [
        {
         "customdata": [
          [
           "person",
           "living"
          ],
          [
           "bird",
           "living"
          ],
          [
           "cat",
           "living"
          ],
          [
           "dog",
           "living"
          ],
          [
           "horse",
           "living"
          ],
          [
           "sheep",
           "living"
          ],
          [
           "cow",
           "living"
          ],
          [
           "elephant",
           "living"
          ],
          [
           "bear",
           "living"
          ],
          [
           "zebra",
           "living"
          ],
          [
           "giraffe",
           "living"
          ]
         ],
         "hovertemplate": "word=%{customdata[0]}<extra></extra>",
         "legendgroup": "living",
         "marker": {
          "color": "#636efa",
          "symbol": "circle"
         },
         "mode": "markers",
         "name": "living",
         "scene": "scene",
         "showlegend": true,
         "type": "scatter3d",
         "x": [
          0.1235724449558841,
          -1.68974128387053,
          -1.699979225888732,
          0.9693812246936498,
          -4.666291183612425,
          5.2458583034832555,
          -4.782890497749501,
          3.0772192157397558,
          0.3934890299157988,
          -1.3883125426515317,
          -0.2875811424322335
         ],
         "y": [
          -1.5784258508890998,
          -1.953239552652568,
          -0.7657116902994153,
          -0.5004352077138748,
          1.0522819012010916,
          1.2880963302410915,
          -4.137308601139355,
          -0.2757923524462578,
          -1.342579627787225,
          1.225102433218278,
          -0.13207861475820842
         ],
         "z": [
          -0.6429388736150884,
          0.27309548755185165,
          2.6737509030813893,
          3.026391310278502,
          1.6679706755201114,
          2.4967293649569977,
          2.437169993924264,
          -2.5334476756551108,
          0.6231186798514746,
          1.1075275544865537,
          -1.5372664709193788
         ]
        },
        {
         "customdata": [
          [
           "bicycle",
           "transport"
          ],
          [
           "car",
           "transport"
          ],
          [
           "motorcycle",
           "transport"
          ],
          [
           "airplane",
           "transport"
          ],
          [
           "bus",
           "transport"
          ],
          [
           "train",
           "transport"
          ],
          [
           "truck",
           "transport"
          ],
          [
           "boat",
           "transport"
          ],
          [
           "traffic light",
           "transport"
          ],
          [
           "fire hydrant",
           "transport"
          ],
          [
           "stop sign",
           "transport"
          ],
          [
           "parking meter",
           "transport"
          ]
         ],
         "hovertemplate": "word=%{customdata[0]}<extra></extra>",
         "legendgroup": "transport",
         "marker": {
          "color": "#EF553B",
          "symbol": "circle"
         },
         "mode": "markers",
         "name": "transport",
         "scene": "scene",
         "showlegend": true,
         "type": "scatter3d",
         "x": [
          -1.4268839920318934,
          2.256814079844386,
          -2.174601780269693,
          0.18829587257404534,
          -1.5295404814092675,
          1.0594077126866832,
          -1.5347340646842955,
          2.4193560590916423,
          -0.04943394666464766,
          3.5512645046074005,
          -1.0559174743449362,
          1.1374244193456091
         ],
         "y": [
          4.007871120690325,
          -2.052700909957388,
          -2.3201012274345016,
          1.3806759925798437,
          -2.6010538008176867,
          -0.10027281880871544,
          0.10033140378998132,
          1.311762405465745,
          -1.3520621558672077,
          6.158490946536302,
          2.421597217298938,
          -3.6874708303098074
         ],
         "z": [
          -1.276315082757839,
          -0.709009070831111,
          -1.48331666659175,
          -0.8868127886801485,
          1.394070504325277,
          -1.1664683957450366,
          -2.3307653116134897,
          0.8395063658333983,
          1.0081057476579356,
          -3.4780943990821167,
          3.761801339575781,
          -4.194539854726986
         ]
        },
        {
         "customdata": [
          [
           "bench",
           "household"
          ],
          [
           "backpack",
           "household"
          ],
          [
           "umbrella",
           "household"
          ],
          [
           "handbag",
           "household"
          ],
          [
           "tie",
           "household"
          ],
          [
           "suitcase",
           "household"
          ],
          [
           "frisbee",
           "household"
          ],
          [
           "skis",
           "household"
          ],
          [
           "snowboard",
           "household"
          ],
          [
           "sports ball",
           "household"
          ],
          [
           "kite",
           "household"
          ],
          [
           "baseball bat",
           "household"
          ],
          [
           "baseball glove",
           "household"
          ],
          [
           "skateboard",
           "household"
          ],
          [
           "surfboard",
           "household"
          ],
          [
           "tennis racket",
           "household"
          ],
          [
           "bottle",
           "household"
          ],
          [
           "wine glass",
           "household"
          ],
          [
           "cup",
           "household"
          ],
          [
           "fork",
           "household"
          ],
          [
           "knife",
           "household"
          ],
          [
           "spoon",
           "household"
          ],
          [
           "bowl",
           "household"
          ],
          [
           "banana",
           "household"
          ],
          [
           "apple",
           "household"
          ],
          [
           "sandwich",
           "household"
          ],
          [
           "orange",
           "household"
          ],
          [
           "broccoli",
           "household"
          ],
          [
           "carrot",
           "household"
          ],
          [
           "hot dog",
           "household"
          ],
          [
           "pizza",
           "household"
          ],
          [
           "donut",
           "household"
          ],
          [
           "cake",
           "household"
          ],
          [
           "chair",
           "household"
          ],
          [
           "couch",
           "household"
          ],
          [
           "potted plant",
           "household"
          ],
          [
           "bed",
           "household"
          ],
          [
           "dining table",
           "household"
          ],
          [
           "toilet",
           "household"
          ],
          [
           "tv",
           "household"
          ],
          [
           "laptop",
           "household"
          ],
          [
           "mouse",
           "household"
          ],
          [
           "remote",
           "household"
          ],
          [
           "keyboard",
           "household"
          ],
          [
           "cell phone",
           "household"
          ],
          [
           "microwave",
           "household"
          ],
          [
           "oven",
           "household"
          ],
          [
           "toaster",
           "household"
          ],
          [
           "sink",
           "household"
          ],
          [
           "refrigerator",
           "household"
          ],
          [
           "book",
           "household"
          ],
          [
           "clock",
           "household"
          ],
          [
           "vase",
           "household"
          ],
          [
           "scissors",
           "household"
          ],
          [
           "teddy bear",
           "household"
          ],
          [
           "hair drier",
           "household"
          ],
          [
           "toothbrush",
           "household"
          ]
         ],
         "hovertemplate": "word=%{customdata[0]}<extra></extra>",
         "legendgroup": "household",
         "marker": {
          "color": "#00cc96",
          "symbol": "circle"
         },
         "mode": "markers",
         "name": "household",
         "scene": "scene",
         "showlegend": true,
         "type": "scatter3d",
         "x": [
          3.417028288724136,
          2.5241318194888964,
          0.7804486681687439,
          -0.5876066741822832,
          -3.2082362883321403,
          2.435429117789474,
          -1.3491563785252652,
          -1.9667630167681442,
          1.9267108382788245,
          0.49454000547733246,
          -4.229583124266403,
          0.31082841425755914,
          -2.2256366146156434,
          -0.9051235066544211,
          5.204368965254975,
          -0.7280861616377005,
          -4.105291713263448,
          1.5312546459447485,
          -0.03895565068108319,
          4.732272891328158,
          3.2738020817364575,
          -1.875237595517034,
          -1.7452543210839575,
          0.39513794109102013,
          -1.2721097239285764,
          -1.2648001361809513,
          -1.7036506291081377,
          -3.9774081430897876,
          0.638798110245373,
          1.0690837000451998,
          -3.6833247765900063,
          1.8106865226736208,
          -1.4648618258680564,
          2.630420513501498,
          0.5884508231957097,
          1.4486815783543159,
          0.845340284030549,
          0.967100412815502,
          0.6122295975032603,
          2.1026249212553147,
          3.202254500732506,
          -2.551946751123019,
          4.330226140175171,
          -2.798489502672637,
          0.2011300477495278,
          2.7294594902580807,
          -1.1867285027642522,
          -3.9923275167359296,
          0.46718879701756694,
          0.8549707069217021,
          -0.1345478183441897,
          2.2886511996101673,
          1.3381239750196972,
          -2.135772157541316,
          0.5868303096569388,
          -4.545163748506811,
          -0.19831828164924875
         ],
         "y": [
          0.48463187469831714,
          1.650457320686006,
          1.78266974494966,
          3.236970694604874,
          0.7288566487818031,
          -0.19025791411893953,
          2.6598501813241735,
          -1.018682972762851,
          -4.775995558676869,
          -1.7070569421006512,
          3.4139024975319803,
          0.36969872924154107,
          1.8461648348875048,
          0.6797218993559622,
          0.7508274309031946,
          -2.0025797292240064,
          -1.0140103330808818,
          -0.12603902848637263,
          0.7897421468732093,
          -0.51101505382552,
          -4.876562234009777,
          -0.785525145711683,
          5.0136472711922035,
          0.15791801707136538,
          0.6283126750449346,
          -5.134800680029831,
          0.35950800093858754,
          -2.4515898561418386,
          4.21996981550959,
          -0.8185414838988796,
          -2.7044935157098955,
          1.1823039489068963,
          -0.641032745514092,
          1.303774539606826,
          2.409518243987861,
          1.3629657584664068,
          0.3918182717125628,
          0.6478882495197247,
          -3.6429808348861727,
          -2.7973675795404636,
          -3.4798955915857874,
          -0.17116915310564956,
          0.4559117689669252,
          1.544206879405295,
          0.8459911765292978,
          0.013449251784000913,
          0.1122791695341802,
          3.2036271142974417,
          -0.6375022532262954,
          4.468270458985278,
          -0.19874067745789278,
          -1.5332524275899042,
          1.5738498263876406,
          -0.6833031265484194,
          -3.3237988047190234,
          0.04068359679849409,
          0.749829093327679
         ],
         "z": [
          0.614624990246308,
          -1.043640614449796,
          1.2012025204524248,
          -0.6932298783444045,
          1.0471264219052598,
          0.2285181238678172,
          -2.1909355422262062,
          -2.249946429792161,
          0.2079028146718506,
          -0.6791649784895539,
          -1.2790694309252446,
          1.749321080249074,
          1.6196356772850247,
          5.370974773989346,
          0.4087157253870071,
          2.0144826793202064,
          2.6100647021134797,
          0.07465047207511291,
          -4.0955650139208295,
          -1.6153549374275338,
          3.999207114424603,
          -3.6160075821041215,
          -2.1286076985146996,
          -0.36851765468299313,
          4.387637209461305,
          0.9647294509676356,
          -2.295351236236271,
          -0.8314814931000216,
          4.044659210545506,
          -0.4165482852057655,
          -1.1414562539268833,
          -2.450513840335575,
          -3.91783267178608,
          1.3900656038101815,
          1.7194466703351037,
          3.1779137854826343,
          2.372518249813254,
          -3.183427713241657,
          1.1945540392154719,
          -1.2476430597346106,
          -3.535278889531442,
          -0.4177809134985902,
          2.5532914887144322,
          -0.5490786855025427,
          -0.4059879507023699,
          1.8519208763171036,
          0.18492861677138192,
          3.4403616734065094,
          1.8444735160723618,
          0.7782837389133614,
          -5.2500205255279955,
          0.02353511536288704,
          -2.028773009262617,
          -0.43846963288120583,
          0.9759112923056922,
          -3.2205772591995014,
          -1.830659789757155
         ]
        }
       ],
       "layout": {
        "legend": {
         "title": {
          "text": "category"
         },
         "tracegroupgap": 0
        },
        "scene": {
         "domain": {
          "x": [
           0,
           1
          ],
          "y": [
           0,
           1
          ]
         },
         "xaxis": {
          "title": {
           "text": "0"
          }
         },
         "yaxis": {
          "title": {
           "text": "1"
          }
         },
         "zaxis": {
          "title": {
           "text": "2"
          }
         }
        },
        "template": {
         "data": {
          "bar": [
           {
            "error_x": {
             "color": "#2a3f5f"
            },
            "error_y": {
             "color": "#2a3f5f"
            },
            "marker": {
             "line": {
              "color": "#E5ECF6",
              "width": 0.5
             },
             "pattern": {
              "fillmode": "overlay",
              "size": 10,
              "solidity": 0.2
             }
            },
            "type": "bar"
           }
          ],
          "barpolar": [
           {
            "marker": {
             "line": {
              "color": "#E5ECF6",
              "width": 0.5
             },
             "pattern": {
              "fillmode": "overlay",
              "size": 10,
              "solidity": 0.2
             }
            },
            "type": "barpolar"
           }
          ],
          "carpet": [
           {
            "aaxis": {
             "endlinecolor": "#2a3f5f",
             "gridcolor": "white",
             "linecolor": "white",
             "minorgridcolor": "white",
             "startlinecolor": "#2a3f5f"
            },
            "baxis": {
             "endlinecolor": "#2a3f5f",
             "gridcolor": "white",
             "linecolor": "white",
             "minorgridcolor": "white",
             "startlinecolor": "#2a3f5f"
            },
            "type": "carpet"
           }
          ],
          "choropleth": [
           {
            "colorbar": {
             "outlinewidth": 0,
             "ticks": ""
            },
            "type": "choropleth"
           }
          ],
          "contour": [
           {
            "colorbar": {
             "outlinewidth": 0,
             "ticks": ""
            },
            "colorscale": [
             [
              0,
              "#0d0887"
             ],
             [
              0.1111111111111111,
              "#46039f"
             ],
             [
              0.2222222222222222,
              "#7201a8"
             ],
             [
              0.3333333333333333,
              "#9c179e"
             ],
             [
              0.4444444444444444,
              "#bd3786"
             ],
             [
              0.5555555555555556,
              "#d8576b"
             ],
             [
              0.6666666666666666,
              "#ed7953"
             ],
             [
              0.7777777777777778,
              "#fb9f3a"
             ],
             [
              0.8888888888888888,
              "#fdca26"
             ],
             [
              1,
              "#f0f921"
             ]
            ],
            "type": "contour"
           }
          ],
          "contourcarpet": [
           {
            "colorbar": {
             "outlinewidth": 0,
             "ticks": ""
            },
            "type": "contourcarpet"
           }
          ],
          "heatmap": [
           {
            "colorbar": {
             "outlinewidth": 0,
             "ticks": ""
            },
            "colorscale": [
             [
              0,
              "#0d0887"
             ],
             [
              0.1111111111111111,
              "#46039f"
             ],
             [
              0.2222222222222222,
              "#7201a8"
             ],
             [
              0.3333333333333333,
              "#9c179e"
             ],
             [
              0.4444444444444444,
              "#bd3786"
             ],
             [
              0.5555555555555556,
              "#d8576b"
             ],
             [
              0.6666666666666666,
              "#ed7953"
             ],
             [
              0.7777777777777778,
              "#fb9f3a"
             ],
             [
              0.8888888888888888,
              "#fdca26"
             ],
             [
              1,
              "#f0f921"
             ]
            ],
            "type": "heatmap"
           }
          ],
          "heatmapgl": [
           {
            "colorbar": {
             "outlinewidth": 0,
             "ticks": ""
            },
            "colorscale": [
             [
              0,
              "#0d0887"
             ],
             [
              0.1111111111111111,
              "#46039f"
             ],
             [
              0.2222222222222222,
              "#7201a8"
             ],
             [
              0.3333333333333333,
              "#9c179e"
             ],
             [
              0.4444444444444444,
              "#bd3786"
             ],
             [
              0.5555555555555556,
              "#d8576b"
             ],
             [
              0.6666666666666666,
              "#ed7953"
             ],
             [
              0.7777777777777778,
              "#fb9f3a"
             ],
             [
              0.8888888888888888,
              "#fdca26"
             ],
             [
              1,
              "#f0f921"
             ]
            ],
            "type": "heatmapgl"
           }
          ],
          "histogram": [
           {
            "marker": {
             "pattern": {
              "fillmode": "overlay",
              "size": 10,
              "solidity": 0.2
             }
            },
            "type": "histogram"
           }
          ],
          "histogram2d": [
           {
            "colorbar": {
             "outlinewidth": 0,
             "ticks": ""
            },
            "colorscale": [
             [
              0,
              "#0d0887"
             ],
             [
              0.1111111111111111,
              "#46039f"
             ],
             [
              0.2222222222222222,
              "#7201a8"
             ],
             [
              0.3333333333333333,
              "#9c179e"
             ],
             [
              0.4444444444444444,
              "#bd3786"
             ],
             [
              0.5555555555555556,
              "#d8576b"
             ],
             [
              0.6666666666666666,
              "#ed7953"
             ],
             [
              0.7777777777777778,
              "#fb9f3a"
             ],
             [
              0.8888888888888888,
              "#fdca26"
             ],
             [
              1,
              "#f0f921"
             ]
            ],
            "type": "histogram2d"
           }
          ],
          "histogram2dcontour": [
           {
            "colorbar": {
             "outlinewidth": 0,
             "ticks": ""
            },
            "colorscale": [
             [
              0,
              "#0d0887"
             ],
             [
              0.1111111111111111,
              "#46039f"
             ],
             [
              0.2222222222222222,
              "#7201a8"
             ],
             [
              0.3333333333333333,
              "#9c179e"
             ],
             [
              0.4444444444444444,
              "#bd3786"
             ],
             [
              0.5555555555555556,
              "#d8576b"
             ],
             [
              0.6666666666666666,
              "#ed7953"
             ],
             [
              0.7777777777777778,
              "#fb9f3a"
             ],
             [
              0.8888888888888888,
              "#fdca26"
             ],
             [
              1,
              "#f0f921"
             ]
            ],
            "type": "histogram2dcontour"
           }
          ],
          "mesh3d": [
           {
            "colorbar": {
             "outlinewidth": 0,
             "ticks": ""
            },
            "type": "mesh3d"
           }
          ],
          "parcoords": [
           {
            "line": {
             "colorbar": {
              "outlinewidth": 0,
              "ticks": ""
             }
            },
            "type": "parcoords"
           }
          ],
          "pie": [
           {
            "automargin": true,
            "type": "pie"
           }
          ],
          "scatter": [
           {
            "fillpattern": {
             "fillmode": "overlay",
             "size": 10,
             "solidity": 0.2
            },
            "type": "scatter"
           }
          ],
          "scatter3d": [
           {
            "line": {
             "colorbar": {
              "outlinewidth": 0,
              "ticks": ""
             }
            },
            "marker": {
             "colorbar": {
              "outlinewidth": 0,
              "ticks": ""
             }
            },
            "type": "scatter3d"
           }
          ],
          "scattercarpet": [
           {
            "marker": {
             "colorbar": {
              "outlinewidth": 0,
              "ticks": ""
             }
            },
            "type": "scattercarpet"
           }
          ],
          "scattergeo": [
           {
            "marker": {
             "colorbar": {
              "outlinewidth": 0,
              "ticks": ""
             }
            },
            "type": "scattergeo"
           }
          ],
          "scattergl": [
           {
            "marker": {
             "colorbar": {
              "outlinewidth": 0,
              "ticks": ""
             }
            },
            "type": "scattergl"
           }
          ],
          "scattermapbox": [
           {
            "marker": {
             "colorbar": {
              "outlinewidth": 0,
              "ticks": ""
             }
            },
            "type": "scattermapbox"
           }
          ],
          "scatterpolar": [
           {
            "marker": {
             "colorbar": {
              "outlinewidth": 0,
              "ticks": ""
             }
            },
            "type": "scatterpolar"
           }
          ],
          "scatterpolargl": [
           {
            "marker": {
             "colorbar": {
              "outlinewidth": 0,
              "ticks": ""
             }
            },
            "type": "scatterpolargl"
           }
          ],
          "scatterternary": [
           {
            "marker": {
             "colorbar": {
              "outlinewidth": 0,
              "ticks": ""
             }
            },
            "type": "scatterternary"
           }
          ],
          "surface": [
           {
            "colorbar": {
             "outlinewidth": 0,
             "ticks": ""
            },
            "colorscale": [
             [
              0,
              "#0d0887"
             ],
             [
              0.1111111111111111,
              "#46039f"
             ],
             [
              0.2222222222222222,
              "#7201a8"
             ],
             [
              0.3333333333333333,
              "#9c179e"
             ],
             [
              0.4444444444444444,
              "#bd3786"
             ],
             [
              0.5555555555555556,
              "#d8576b"
             ],
             [
              0.6666666666666666,
              "#ed7953"
             ],
             [
              0.7777777777777778,
              "#fb9f3a"
             ],
             [
              0.8888888888888888,
              "#fdca26"
             ],
             [
              1,
              "#f0f921"
             ]
            ],
            "type": "surface"
           }
          ],
          "table": [
           {
            "cells": {
             "fill": {
              "color": "#EBF0F8"
             },
             "line": {
              "color": "white"
             }
            },
            "header": {
             "fill": {
              "color": "#C8D4E3"
             },
             "line": {
              "color": "white"
             }
            },
            "type": "table"
           }
          ]
         },
         "layout": {
          "annotationdefaults": {
           "arrowcolor": "#2a3f5f",
           "arrowhead": 0,
           "arrowwidth": 1
          },
          "autotypenumbers": "strict",
          "coloraxis": {
           "colorbar": {
            "outlinewidth": 0,
            "ticks": ""
           }
          },
          "colorscale": {
           "diverging": [
            [
             0,
             "#8e0152"
            ],
            [
             0.1,
             "#c51b7d"
            ],
            [
             0.2,
             "#de77ae"
            ],
            [
             0.3,
             "#f1b6da"
            ],
            [
             0.4,
             "#fde0ef"
            ],
            [
             0.5,
             "#f7f7f7"
            ],
            [
             0.6,
             "#e6f5d0"
            ],
            [
             0.7,
             "#b8e186"
            ],
            [
             0.8,
             "#7fbc41"
            ],
            [
             0.9,
             "#4d9221"
            ],
            [
             1,
             "#276419"
            ]
           ],
           "sequential": [
            [
             0,
             "#0d0887"
            ],
            [
             0.1111111111111111,
             "#46039f"
            ],
            [
             0.2222222222222222,
             "#7201a8"
            ],
            [
             0.3333333333333333,
             "#9c179e"
            ],
            [
             0.4444444444444444,
             "#bd3786"
            ],
            [
             0.5555555555555556,
             "#d8576b"
            ],
            [
             0.6666666666666666,
             "#ed7953"
            ],
            [
             0.7777777777777778,
             "#fb9f3a"
            ],
            [
             0.8888888888888888,
             "#fdca26"
            ],
            [
             1,
             "#f0f921"
            ]
           ],
           "sequentialminus": [
            [
             0,
             "#0d0887"
            ],
            [
             0.1111111111111111,
             "#46039f"
            ],
            [
             0.2222222222222222,
             "#7201a8"
            ],
            [
             0.3333333333333333,
             "#9c179e"
            ],
            [
             0.4444444444444444,
             "#bd3786"
            ],
            [
             0.5555555555555556,
             "#d8576b"
            ],
            [
             0.6666666666666666,
             "#ed7953"
            ],
            [
             0.7777777777777778,
             "#fb9f3a"
            ],
            [
             0.8888888888888888,
             "#fdca26"
            ],
            [
             1,
             "#f0f921"
            ]
           ]
          },
          "colorway": [
           "#636efa",
           "#EF553B",
           "#00cc96",
           "#ab63fa",
           "#FFA15A",
           "#19d3f3",
           "#FF6692",
           "#B6E880",
           "#FF97FF",
           "#FECB52"
          ],
          "font": {
           "color": "#2a3f5f"
          },
          "geo": {
           "bgcolor": "white",
           "lakecolor": "white",
           "landcolor": "#E5ECF6",
           "showlakes": true,
           "showland": true,
           "subunitcolor": "white"
          },
          "hoverlabel": {
           "align": "left"
          },
          "hovermode": "closest",
          "mapbox": {
           "style": "light"
          },
          "paper_bgcolor": "white",
          "plot_bgcolor": "#E5ECF6",
          "polar": {
           "angularaxis": {
            "gridcolor": "white",
            "linecolor": "white",
            "ticks": ""
           },
           "bgcolor": "#E5ECF6",
           "radialaxis": {
            "gridcolor": "white",
            "linecolor": "white",
            "ticks": ""
           }
          },
          "scene": {
           "xaxis": {
            "backgroundcolor": "#E5ECF6",
            "gridcolor": "white",
            "gridwidth": 2,
            "linecolor": "white",
            "showbackground": true,
            "ticks": "",
            "zerolinecolor": "white"
           },
           "yaxis": {
            "backgroundcolor": "#E5ECF6",
            "gridcolor": "white",
            "gridwidth": 2,
            "linecolor": "white",
            "showbackground": true,
            "ticks": "",
            "zerolinecolor": "white"
           },
           "zaxis": {
            "backgroundcolor": "#E5ECF6",
            "gridcolor": "white",
            "gridwidth": 2,
            "linecolor": "white",
            "showbackground": true,
            "ticks": "",
            "zerolinecolor": "white"
           }
          },
          "shapedefaults": {
           "line": {
            "color": "#2a3f5f"
           }
          },
          "ternary": {
           "aaxis": {
            "gridcolor": "white",
            "linecolor": "white",
            "ticks": ""
           },
           "baxis": {
            "gridcolor": "white",
            "linecolor": "white",
            "ticks": ""
           },
           "bgcolor": "#E5ECF6",
           "caxis": {
            "gridcolor": "white",
            "linecolor": "white",
            "ticks": ""
           }
          },
          "title": {
           "x": 0.05
          },
          "xaxis": {
           "automargin": true,
           "gridcolor": "white",
           "linecolor": "white",
           "ticks": "",
           "title": {
            "standoff": 15
           },
           "zerolinecolor": "white",
           "zerolinewidth": 2
          },
          "yaxis": {
           "automargin": true,
           "gridcolor": "white",
           "linecolor": "white",
           "ticks": "",
           "title": {
            "standoff": 15
           },
           "zerolinecolor": "white",
           "zerolinewidth": 2
          }
         }
        },
        "title": {
         "text": "COCO Class Embeddings (Total Explained Variance: 6.21%)"
        }
       }
      }
     },
     "metadata": {},
     "output_type": "display_data"
    }
   ],
   "source": [
    "fig = px.scatter_3d(\n",
    "    new_df, x='0', y='1', z='2', \n",
    "    color='category',\n",
    "    title=f'COCO Class Embeddings (Total Explained Variance: {total_var:.2f}%)',\n",
    "    hover_data={'word': True, 'category': False, '0': False, '1': False, '2': False},\n",
    ")\n",
    "fig.show()"
   ]
  },
  {
   "cell_type": "markdown",
   "metadata": {},
   "source": [
    "#### now using axes from chatgpt"
   ]
  },
  {
   "cell_type": "code",
   "execution_count": 136,
   "metadata": {},
   "outputs": [
    {
     "data": {
      "text/html": [
       "<div>\n",
       "<style scoped>\n",
       "    .dataframe tbody tr th:only-of-type {\n",
       "        vertical-align: middle;\n",
       "    }\n",
       "\n",
       "    .dataframe tbody tr th {\n",
       "        vertical-align: top;\n",
       "    }\n",
       "\n",
       "    .dataframe thead th {\n",
       "        text-align: right;\n",
       "    }\n",
       "</style>\n",
       "<table border=\"1\" class=\"dataframe\">\n",
       "  <thead>\n",
       "    <tr style=\"text-align: right;\">\n",
       "      <th></th>\n",
       "      <th>word</th>\n",
       "      <th>category</th>\n",
       "      <th>1</th>\n",
       "      <th>3</th>\n",
       "      <th>6</th>\n",
       "    </tr>\n",
       "  </thead>\n",
       "  <tbody>\n",
       "    <tr>\n",
       "      <th>0</th>\n",
       "      <td>person</td>\n",
       "      <td>living</td>\n",
       "      <td>-1.631767</td>\n",
       "      <td>-1.509136</td>\n",
       "      <td>1.562313</td>\n",
       "    </tr>\n",
       "    <tr>\n",
       "      <th>1</th>\n",
       "      <td>bicycle</td>\n",
       "      <td>transport</td>\n",
       "      <td>0.360066</td>\n",
       "      <td>0.552160</td>\n",
       "      <td>-0.357101</td>\n",
       "    </tr>\n",
       "    <tr>\n",
       "      <th>2</th>\n",
       "      <td>car</td>\n",
       "      <td>transport</td>\n",
       "      <td>-0.897934</td>\n",
       "      <td>-0.809105</td>\n",
       "      <td>1.048909</td>\n",
       "    </tr>\n",
       "    <tr>\n",
       "      <th>3</th>\n",
       "      <td>motorcycle</td>\n",
       "      <td>transport</td>\n",
       "      <td>-1.236343</td>\n",
       "      <td>1.592929</td>\n",
       "      <td>0.073597</td>\n",
       "    </tr>\n",
       "    <tr>\n",
       "      <th>4</th>\n",
       "      <td>airplane</td>\n",
       "      <td>transport</td>\n",
       "      <td>-0.851955</td>\n",
       "      <td>-1.407927</td>\n",
       "      <td>-0.305604</td>\n",
       "    </tr>\n",
       "  </tbody>\n",
       "</table>\n",
       "</div>"
      ],
      "text/plain": [
       "         word   category         1         3         6\n",
       "0      person     living -1.631767 -1.509136  1.562313\n",
       "1     bicycle  transport  0.360066  0.552160 -0.357101\n",
       "2         car  transport -0.897934 -0.809105  1.048909\n",
       "3  motorcycle  transport -1.236343  1.592929  0.073597\n",
       "4    airplane  transport -0.851955 -1.407927 -0.305604"
      ]
     },
     "execution_count": 136,
     "metadata": {},
     "output_type": "execute_result"
    }
   ],
   "source": [
    "# create dataframe with 3 axes chosen by chatgpt: \n",
    "gpt_df = df[[1, 3, 6]]\n",
    "\n",
    "# normalize\n",
    "gpt_df = (gpt_df - gpt_df.mean()) / gpt_df.std()\n",
    "\n",
    "# convert columns to string\n",
    "gpt_df.columns = gpt_df.columns.astype(str)\n",
    "\n",
    "# insert word and category columns\n",
    "gpt_df.insert(0, 'word', coco_classes)\n",
    "gpt_df.insert(1, 'category', [cat_dict[c] for c in categories])\n",
    "\n",
    "# preview df\n",
    "gpt_df.head()"
   ]
  },
  {
   "cell_type": "code",
   "execution_count": 137,
   "metadata": {},
   "outputs": [
    {
     "data": {
      "application/vnd.plotly.v1+json": {
       "config": {
        "plotlyServerURL": "https://plot.ly"
       },
       "data": [
        {
         "customdata": [
          [
           "person",
           "living"
          ],
          [
           "bird",
           "living"
          ],
          [
           "cat",
           "living"
          ],
          [
           "dog",
           "living"
          ],
          [
           "horse",
           "living"
          ],
          [
           "sheep",
           "living"
          ],
          [
           "cow",
           "living"
          ],
          [
           "elephant",
           "living"
          ],
          [
           "bear",
           "living"
          ],
          [
           "zebra",
           "living"
          ],
          [
           "giraffe",
           "living"
          ]
         ],
         "hovertemplate": "word=%{customdata[0]}<extra></extra>",
         "legendgroup": "living",
         "marker": {
          "color": "#636efa",
          "symbol": "circle"
         },
         "mode": "markers",
         "name": "living",
         "scene": "scene",
         "showlegend": true,
         "type": "scatter3d",
         "x": [
          -1.6317672701677937,
          -0.5172236473870075,
          0.7187059145085174,
          1.0828637318527348,
          1.0607935611046004,
          -1.0321942981768095,
          -0.007770539284239066,
          -0.3976768891679463,
          -0.7949399626343651,
          -0.23398978945261636,
          -0.42710378349879213
         ],
         "y": [
          -1.509136397522131,
          -1.2257502996542555,
          0.9401291626216484,
          -0.14618421253854014,
          1.511961824390754,
          1.1020640756890059,
          -0.316553235661489,
          -1.455158093166345,
          1.628352543157917,
          0.26540035817432633,
          -0.6707858579963331
         ],
         "z": [
          1.562312875768602,
          0.7773819814216736,
          -1.4073163328640121,
          1.331359053972687,
          -0.5584049878844315,
          -1.118624055619118,
          1.5076954179114601,
          0.963081338135957,
          0.7399300103196332,
          -0.038758888843621976,
          1.1284942105033018
         ]
        },
        {
         "customdata": [
          [
           "bicycle",
           "transport"
          ],
          [
           "car",
           "transport"
          ],
          [
           "motorcycle",
           "transport"
          ],
          [
           "airplane",
           "transport"
          ],
          [
           "bus",
           "transport"
          ],
          [
           "train",
           "transport"
          ],
          [
           "truck",
           "transport"
          ],
          [
           "boat",
           "transport"
          ],
          [
           "traffic light",
           "transport"
          ],
          [
           "fire hydrant",
           "transport"
          ],
          [
           "stop sign",
           "transport"
          ],
          [
           "parking meter",
           "transport"
          ]
         ],
         "hovertemplate": "word=%{customdata[0]}<extra></extra>",
         "legendgroup": "transport",
         "marker": {
          "color": "#EF553B",
          "symbol": "circle"
         },
         "mode": "markers",
         "name": "transport",
         "scene": "scene",
         "showlegend": true,
         "type": "scatter3d",
         "x": [
          0.3600656398513339,
          -0.8979340927923254,
          -1.2363433775970525,
          -0.8519545704003788,
          0.12097212341321144,
          0.39501007686921324,
          1.5555332220419458,
          0.7131883718214839,
          0.520074377775308,
          1.0460801139391773,
          1.513232061441355,
          0.34903055447726666
         ],
         "y": [
          0.5521601000644383,
          -0.8091052629080342,
          1.5929292809244326,
          -1.4079270768550327,
          -0.18329429678314285,
          -1.4315425850106889,
          1.5305168665130553,
          0.20467476577406735,
          0.9569973827328315,
          -1.7048077508118544,
          1.290988140934256,
          -0.009551629637957406
         ],
         "z": [
          -0.35710064321096474,
          1.048908771911466,
          0.07359702446249902,
          -0.30560418294565933,
          1.0348642827482009,
          0.2452518920135172,
          1.1706276779930969,
          -0.1651592913130081,
          0.19687642934004843,
          -1.1342290435783016,
          -1.2028909905987089,
          -0.9891026555578952
         ]
        },
        {
         "customdata": [
          [
           "bench",
           "household"
          ],
          [
           "backpack",
           "household"
          ],
          [
           "umbrella",
           "household"
          ],
          [
           "handbag",
           "household"
          ],
          [
           "tie",
           "household"
          ],
          [
           "suitcase",
           "household"
          ],
          [
           "frisbee",
           "household"
          ],
          [
           "skis",
           "household"
          ],
          [
           "snowboard",
           "household"
          ],
          [
           "sports ball",
           "household"
          ],
          [
           "kite",
           "household"
          ],
          [
           "baseball bat",
           "household"
          ],
          [
           "baseball glove",
           "household"
          ],
          [
           "skateboard",
           "household"
          ],
          [
           "surfboard",
           "household"
          ],
          [
           "tennis racket",
           "household"
          ],
          [
           "bottle",
           "household"
          ],
          [
           "wine glass",
           "household"
          ],
          [
           "cup",
           "household"
          ],
          [
           "fork",
           "household"
          ],
          [
           "knife",
           "household"
          ],
          [
           "spoon",
           "household"
          ],
          [
           "bowl",
           "household"
          ],
          [
           "banana",
           "household"
          ],
          [
           "apple",
           "household"
          ],
          [
           "sandwich",
           "household"
          ],
          [
           "orange",
           "household"
          ],
          [
           "broccoli",
           "household"
          ],
          [
           "carrot",
           "household"
          ],
          [
           "hot dog",
           "household"
          ],
          [
           "pizza",
           "household"
          ],
          [
           "donut",
           "household"
          ],
          [
           "cake",
           "household"
          ],
          [
           "chair",
           "household"
          ],
          [
           "couch",
           "household"
          ],
          [
           "potted plant",
           "household"
          ],
          [
           "bed",
           "household"
          ],
          [
           "dining table",
           "household"
          ],
          [
           "toilet",
           "household"
          ],
          [
           "tv",
           "household"
          ],
          [
           "laptop",
           "household"
          ],
          [
           "mouse",
           "household"
          ],
          [
           "remote",
           "household"
          ],
          [
           "keyboard",
           "household"
          ],
          [
           "cell phone",
           "household"
          ],
          [
           "microwave",
           "household"
          ],
          [
           "oven",
           "household"
          ],
          [
           "toaster",
           "household"
          ],
          [
           "sink",
           "household"
          ],
          [
           "refrigerator",
           "household"
          ],
          [
           "book",
           "household"
          ],
          [
           "clock",
           "household"
          ],
          [
           "vase",
           "household"
          ],
          [
           "scissors",
           "household"
          ],
          [
           "teddy bear",
           "household"
          ],
          [
           "hair drier",
           "household"
          ],
          [
           "toothbrush",
           "household"
          ]
         ],
         "hovertemplate": "word=%{customdata[0]}<extra></extra>",
         "legendgroup": "household",
         "marker": {
          "color": "#00cc96",
          "symbol": "circle"
         },
         "mode": "markers",
         "name": "household",
         "scene": "scene",
         "showlegend": true,
         "type": "scatter3d",
         "x": [
          0.2864984040242193,
          -0.3829634420025234,
          0.30305103208532,
          0.3435130117902331,
          -0.25422077930507286,
          -0.8133317715911437,
          1.3532233235173807,
          1.1693052339495942,
          0.7407760852566517,
          -1.2253082922229854,
          1.309082982021112,
          -1.457045085078396,
          0.2736241377544742,
          -1.1793287698310384,
          -0.33330555781922105,
          1.6438139050344833,
          1.4617349963623747,
          0.6396211359943692,
          0.737097723465296,
          -1.9315537561632852,
          -1.8212029024226135,
          1.2888519921686554,
          1.5113928805456769,
          0.9173374512417267,
          -0.5025102002215847,
          1.0405625712521436,
          -1.4386532761216173,
          -1.228986654014341,
          0.35638727805997816,
          1.4690917199450861,
          0.4225977903043812,
          -0.5172236473870075,
          -0.35169736677599966,
          -1.5232555973227992,
          -1.7678666564479553,
          -0.4767616676820945,
          -0.8114925906954658,
          -0.5723990742573434,
          -0.4068727936463356,
          0.8014690548140213,
          0.9338900793028274,
          0.9210158130330826,
          0.25707150969337345,
          -0.7489604402424185,
          0.3214428410420987,
          -0.9200042635404598,
          -0.6901066515807267,
          0.1228113043088893,
          0.6543345831597921,
          0.9118199085546931,
          1.5408197748765227,
          -0.9604662432453729,
          1.6364571814517719,
          -1.1756504080396828,
          -1.5250947782184774,
          -1.133349247439092,
          -0.6257353202320015
         ],
         "y": [
          1.5929292809244326,
          1.3162904711010306,
          0.30925773046340227,
          -1.5293782616555507,
          0.5690283201756213,
          1.064953991444403,
          0.22154298588525043,
          -1.2797286040100413,
          0.28564222230774605,
          -1.2240634776431372,
          -1.2004479694874812,
          -0.8057316188857975,
          -1.2746681379766864,
          0.1422623513626901,
          -0.18160747477202455,
          1.3331586912122135,
          0.46781899950852307,
          0.8878376802769811,
          -0.498730012862266,
          1.2184547944561688,
          -0.0702772220382164,
          0.6297539125758804,
          -1.3708169926104299,
          0.6246934465425255,
          -0.5628292492847615,
          0.09671815706249583,
          -0.07871133209380793,
          0.3699833228636613,
          -0.9642928879309184,
          -0.5678897153181165,
          0.45263760140845827,
          -1.5648015238890352,
          -0.658978103918505,
          1.4647308080794414,
          1.3027958950120841,
          -1.1683983512762333,
          0.3261259505745854,
          -1.4399766950662805,
          0.48974768565306104,
          0.3548019247635965,
          -0.5898184014626544,
          -0.34354238783938185,
          -0.2794431514168863,
          0.24684531605202498,
          -0.5678897153181165,
          1.5490719086353566,
          -0.9069409395528959,
          0.6618035307871282,
          0.5538469220755566,
          -0.17654700873866963,
          0.9367555185994118,
          0.4695058215196414,
          1.441115299923785,
          -1.4062402548439144,
          -1.2021347914985994,
          -1.409613898866151,
          1.2370098365784703
         ],
         "z": [
          0.7134015307890214,
          -0.6130224457415737,
          -0.6754423975783075,
          -0.609901448149737,
          0.36072880291147486,
          0.8101524561359588,
          -0.9547716820476917,
          -1.0718090917415677,
          0.3934992776257602,
          -0.06840836596607057,
          -1.401074337680339,
          0.518339181299228,
          1.638777316768601,
          -0.942287691680345,
          0.8163944513196322,
          -1.2169354797619738,
          -1.4634942895170728,
          -0.31184617812933274,
          0.4215882559522904,
          0.7055990368094296,
          1.3391615479522785,
          -1.3667433641701354,
          -1.351138376210952,
          -1.1779230098640154,
          1.520179408278807,
          0.15474296185025307,
          -0.08869485031300908,
          1.5716758685441121,
          -1.0530831061905475,
          1.634095820380846,
          1.5825993601155404,
          0.7352485139318782,
          -0.7550278361701432,
          1.2392896250135044,
          -1.0000261471293237,
          -1.312125906312993,
          -1.2996419159456465,
          1.440593969686971,
          1.4343519745032978,
          0.15474296185025307,
          -1.4619337907211545,
          -1.123305552006873,
          -0.08245285512933569,
          -1.149834031537485,
          0.6384975885849407,
          -1.455691795537481,
          -1.0671275953538126,
          0.6338160921971856,
          -0.33213266247627127,
          -0.6473534192517773,
          0.518339181299228,
          1.0879212418094246,
          -0.3414956552517813,
          -0.7347413518232048,
          -0.11990482623137604,
          1.2236846370543208,
          -0.5412395011293297
         ]
        }
       ],
       "layout": {
        "legend": {
         "title": {
          "text": "category"
         },
         "tracegroupgap": 0
        },
        "scene": {
         "domain": {
          "x": [
           0,
           1
          ],
          "y": [
           0,
           1
          ]
         },
         "xaxis": {
          "title": {
           "text": "1"
          }
         },
         "yaxis": {
          "title": {
           "text": "3"
          }
         },
         "zaxis": {
          "title": {
           "text": "6"
          }
         }
        },
        "template": {
         "data": {
          "bar": [
           {
            "error_x": {
             "color": "#2a3f5f"
            },
            "error_y": {
             "color": "#2a3f5f"
            },
            "marker": {
             "line": {
              "color": "#E5ECF6",
              "width": 0.5
             },
             "pattern": {
              "fillmode": "overlay",
              "size": 10,
              "solidity": 0.2
             }
            },
            "type": "bar"
           }
          ],
          "barpolar": [
           {
            "marker": {
             "line": {
              "color": "#E5ECF6",
              "width": 0.5
             },
             "pattern": {
              "fillmode": "overlay",
              "size": 10,
              "solidity": 0.2
             }
            },
            "type": "barpolar"
           }
          ],
          "carpet": [
           {
            "aaxis": {
             "endlinecolor": "#2a3f5f",
             "gridcolor": "white",
             "linecolor": "white",
             "minorgridcolor": "white",
             "startlinecolor": "#2a3f5f"
            },
            "baxis": {
             "endlinecolor": "#2a3f5f",
             "gridcolor": "white",
             "linecolor": "white",
             "minorgridcolor": "white",
             "startlinecolor": "#2a3f5f"
            },
            "type": "carpet"
           }
          ],
          "choropleth": [
           {
            "colorbar": {
             "outlinewidth": 0,
             "ticks": ""
            },
            "type": "choropleth"
           }
          ],
          "contour": [
           {
            "colorbar": {
             "outlinewidth": 0,
             "ticks": ""
            },
            "colorscale": [
             [
              0,
              "#0d0887"
             ],
             [
              0.1111111111111111,
              "#46039f"
             ],
             [
              0.2222222222222222,
              "#7201a8"
             ],
             [
              0.3333333333333333,
              "#9c179e"
             ],
             [
              0.4444444444444444,
              "#bd3786"
             ],
             [
              0.5555555555555556,
              "#d8576b"
             ],
             [
              0.6666666666666666,
              "#ed7953"
             ],
             [
              0.7777777777777778,
              "#fb9f3a"
             ],
             [
              0.8888888888888888,
              "#fdca26"
             ],
             [
              1,
              "#f0f921"
             ]
            ],
            "type": "contour"
           }
          ],
          "contourcarpet": [
           {
            "colorbar": {
             "outlinewidth": 0,
             "ticks": ""
            },
            "type": "contourcarpet"
           }
          ],
          "heatmap": [
           {
            "colorbar": {
             "outlinewidth": 0,
             "ticks": ""
            },
            "colorscale": [
             [
              0,
              "#0d0887"
             ],
             [
              0.1111111111111111,
              "#46039f"
             ],
             [
              0.2222222222222222,
              "#7201a8"
             ],
             [
              0.3333333333333333,
              "#9c179e"
             ],
             [
              0.4444444444444444,
              "#bd3786"
             ],
             [
              0.5555555555555556,
              "#d8576b"
             ],
             [
              0.6666666666666666,
              "#ed7953"
             ],
             [
              0.7777777777777778,
              "#fb9f3a"
             ],
             [
              0.8888888888888888,
              "#fdca26"
             ],
             [
              1,
              "#f0f921"
             ]
            ],
            "type": "heatmap"
           }
          ],
          "heatmapgl": [
           {
            "colorbar": {
             "outlinewidth": 0,
             "ticks": ""
            },
            "colorscale": [
             [
              0,
              "#0d0887"
             ],
             [
              0.1111111111111111,
              "#46039f"
             ],
             [
              0.2222222222222222,
              "#7201a8"
             ],
             [
              0.3333333333333333,
              "#9c179e"
             ],
             [
              0.4444444444444444,
              "#bd3786"
             ],
             [
              0.5555555555555556,
              "#d8576b"
             ],
             [
              0.6666666666666666,
              "#ed7953"
             ],
             [
              0.7777777777777778,
              "#fb9f3a"
             ],
             [
              0.8888888888888888,
              "#fdca26"
             ],
             [
              1,
              "#f0f921"
             ]
            ],
            "type": "heatmapgl"
           }
          ],
          "histogram": [
           {
            "marker": {
             "pattern": {
              "fillmode": "overlay",
              "size": 10,
              "solidity": 0.2
             }
            },
            "type": "histogram"
           }
          ],
          "histogram2d": [
           {
            "colorbar": {
             "outlinewidth": 0,
             "ticks": ""
            },
            "colorscale": [
             [
              0,
              "#0d0887"
             ],
             [
              0.1111111111111111,
              "#46039f"
             ],
             [
              0.2222222222222222,
              "#7201a8"
             ],
             [
              0.3333333333333333,
              "#9c179e"
             ],
             [
              0.4444444444444444,
              "#bd3786"
             ],
             [
              0.5555555555555556,
              "#d8576b"
             ],
             [
              0.6666666666666666,
              "#ed7953"
             ],
             [
              0.7777777777777778,
              "#fb9f3a"
             ],
             [
              0.8888888888888888,
              "#fdca26"
             ],
             [
              1,
              "#f0f921"
             ]
            ],
            "type": "histogram2d"
           }
          ],
          "histogram2dcontour": [
           {
            "colorbar": {
             "outlinewidth": 0,
             "ticks": ""
            },
            "colorscale": [
             [
              0,
              "#0d0887"
             ],
             [
              0.1111111111111111,
              "#46039f"
             ],
             [
              0.2222222222222222,
              "#7201a8"
             ],
             [
              0.3333333333333333,
              "#9c179e"
             ],
             [
              0.4444444444444444,
              "#bd3786"
             ],
             [
              0.5555555555555556,
              "#d8576b"
             ],
             [
              0.6666666666666666,
              "#ed7953"
             ],
             [
              0.7777777777777778,
              "#fb9f3a"
             ],
             [
              0.8888888888888888,
              "#fdca26"
             ],
             [
              1,
              "#f0f921"
             ]
            ],
            "type": "histogram2dcontour"
           }
          ],
          "mesh3d": [
           {
            "colorbar": {
             "outlinewidth": 0,
             "ticks": ""
            },
            "type": "mesh3d"
           }
          ],
          "parcoords": [
           {
            "line": {
             "colorbar": {
              "outlinewidth": 0,
              "ticks": ""
             }
            },
            "type": "parcoords"
           }
          ],
          "pie": [
           {
            "automargin": true,
            "type": "pie"
           }
          ],
          "scatter": [
           {
            "fillpattern": {
             "fillmode": "overlay",
             "size": 10,
             "solidity": 0.2
            },
            "type": "scatter"
           }
          ],
          "scatter3d": [
           {
            "line": {
             "colorbar": {
              "outlinewidth": 0,
              "ticks": ""
             }
            },
            "marker": {
             "colorbar": {
              "outlinewidth": 0,
              "ticks": ""
             }
            },
            "type": "scatter3d"
           }
          ],
          "scattercarpet": [
           {
            "marker": {
             "colorbar": {
              "outlinewidth": 0,
              "ticks": ""
             }
            },
            "type": "scattercarpet"
           }
          ],
          "scattergeo": [
           {
            "marker": {
             "colorbar": {
              "outlinewidth": 0,
              "ticks": ""
             }
            },
            "type": "scattergeo"
           }
          ],
          "scattergl": [
           {
            "marker": {
             "colorbar": {
              "outlinewidth": 0,
              "ticks": ""
             }
            },
            "type": "scattergl"
           }
          ],
          "scattermapbox": [
           {
            "marker": {
             "colorbar": {
              "outlinewidth": 0,
              "ticks": ""
             }
            },
            "type": "scattermapbox"
           }
          ],
          "scatterpolar": [
           {
            "marker": {
             "colorbar": {
              "outlinewidth": 0,
              "ticks": ""
             }
            },
            "type": "scatterpolar"
           }
          ],
          "scatterpolargl": [
           {
            "marker": {
             "colorbar": {
              "outlinewidth": 0,
              "ticks": ""
             }
            },
            "type": "scatterpolargl"
           }
          ],
          "scatterternary": [
           {
            "marker": {
             "colorbar": {
              "outlinewidth": 0,
              "ticks": ""
             }
            },
            "type": "scatterternary"
           }
          ],
          "surface": [
           {
            "colorbar": {
             "outlinewidth": 0,
             "ticks": ""
            },
            "colorscale": [
             [
              0,
              "#0d0887"
             ],
             [
              0.1111111111111111,
              "#46039f"
             ],
             [
              0.2222222222222222,
              "#7201a8"
             ],
             [
              0.3333333333333333,
              "#9c179e"
             ],
             [
              0.4444444444444444,
              "#bd3786"
             ],
             [
              0.5555555555555556,
              "#d8576b"
             ],
             [
              0.6666666666666666,
              "#ed7953"
             ],
             [
              0.7777777777777778,
              "#fb9f3a"
             ],
             [
              0.8888888888888888,
              "#fdca26"
             ],
             [
              1,
              "#f0f921"
             ]
            ],
            "type": "surface"
           }
          ],
          "table": [
           {
            "cells": {
             "fill": {
              "color": "#EBF0F8"
             },
             "line": {
              "color": "white"
             }
            },
            "header": {
             "fill": {
              "color": "#C8D4E3"
             },
             "line": {
              "color": "white"
             }
            },
            "type": "table"
           }
          ]
         },
         "layout": {
          "annotationdefaults": {
           "arrowcolor": "#2a3f5f",
           "arrowhead": 0,
           "arrowwidth": 1
          },
          "autotypenumbers": "strict",
          "coloraxis": {
           "colorbar": {
            "outlinewidth": 0,
            "ticks": ""
           }
          },
          "colorscale": {
           "diverging": [
            [
             0,
             "#8e0152"
            ],
            [
             0.1,
             "#c51b7d"
            ],
            [
             0.2,
             "#de77ae"
            ],
            [
             0.3,
             "#f1b6da"
            ],
            [
             0.4,
             "#fde0ef"
            ],
            [
             0.5,
             "#f7f7f7"
            ],
            [
             0.6,
             "#e6f5d0"
            ],
            [
             0.7,
             "#b8e186"
            ],
            [
             0.8,
             "#7fbc41"
            ],
            [
             0.9,
             "#4d9221"
            ],
            [
             1,
             "#276419"
            ]
           ],
           "sequential": [
            [
             0,
             "#0d0887"
            ],
            [
             0.1111111111111111,
             "#46039f"
            ],
            [
             0.2222222222222222,
             "#7201a8"
            ],
            [
             0.3333333333333333,
             "#9c179e"
            ],
            [
             0.4444444444444444,
             "#bd3786"
            ],
            [
             0.5555555555555556,
             "#d8576b"
            ],
            [
             0.6666666666666666,
             "#ed7953"
            ],
            [
             0.7777777777777778,
             "#fb9f3a"
            ],
            [
             0.8888888888888888,
             "#fdca26"
            ],
            [
             1,
             "#f0f921"
            ]
           ],
           "sequentialminus": [
            [
             0,
             "#0d0887"
            ],
            [
             0.1111111111111111,
             "#46039f"
            ],
            [
             0.2222222222222222,
             "#7201a8"
            ],
            [
             0.3333333333333333,
             "#9c179e"
            ],
            [
             0.4444444444444444,
             "#bd3786"
            ],
            [
             0.5555555555555556,
             "#d8576b"
            ],
            [
             0.6666666666666666,
             "#ed7953"
            ],
            [
             0.7777777777777778,
             "#fb9f3a"
            ],
            [
             0.8888888888888888,
             "#fdca26"
            ],
            [
             1,
             "#f0f921"
            ]
           ]
          },
          "colorway": [
           "#636efa",
           "#EF553B",
           "#00cc96",
           "#ab63fa",
           "#FFA15A",
           "#19d3f3",
           "#FF6692",
           "#B6E880",
           "#FF97FF",
           "#FECB52"
          ],
          "font": {
           "color": "#2a3f5f"
          },
          "geo": {
           "bgcolor": "white",
           "lakecolor": "white",
           "landcolor": "#E5ECF6",
           "showlakes": true,
           "showland": true,
           "subunitcolor": "white"
          },
          "hoverlabel": {
           "align": "left"
          },
          "hovermode": "closest",
          "mapbox": {
           "style": "light"
          },
          "paper_bgcolor": "white",
          "plot_bgcolor": "#E5ECF6",
          "polar": {
           "angularaxis": {
            "gridcolor": "white",
            "linecolor": "white",
            "ticks": ""
           },
           "bgcolor": "#E5ECF6",
           "radialaxis": {
            "gridcolor": "white",
            "linecolor": "white",
            "ticks": ""
           }
          },
          "scene": {
           "xaxis": {
            "backgroundcolor": "#E5ECF6",
            "gridcolor": "white",
            "gridwidth": 2,
            "linecolor": "white",
            "showbackground": true,
            "ticks": "",
            "zerolinecolor": "white"
           },
           "yaxis": {
            "backgroundcolor": "#E5ECF6",
            "gridcolor": "white",
            "gridwidth": 2,
            "linecolor": "white",
            "showbackground": true,
            "ticks": "",
            "zerolinecolor": "white"
           },
           "zaxis": {
            "backgroundcolor": "#E5ECF6",
            "gridcolor": "white",
            "gridwidth": 2,
            "linecolor": "white",
            "showbackground": true,
            "ticks": "",
            "zerolinecolor": "white"
           }
          },
          "shapedefaults": {
           "line": {
            "color": "#2a3f5f"
           }
          },
          "ternary": {
           "aaxis": {
            "gridcolor": "white",
            "linecolor": "white",
            "ticks": ""
           },
           "baxis": {
            "gridcolor": "white",
            "linecolor": "white",
            "ticks": ""
           },
           "bgcolor": "#E5ECF6",
           "caxis": {
            "gridcolor": "white",
            "linecolor": "white",
            "ticks": ""
           }
          },
          "title": {
           "x": 0.05
          },
          "xaxis": {
           "automargin": true,
           "gridcolor": "white",
           "linecolor": "white",
           "ticks": "",
           "title": {
            "standoff": 15
           },
           "zerolinecolor": "white",
           "zerolinewidth": 2
          },
          "yaxis": {
           "automargin": true,
           "gridcolor": "white",
           "linecolor": "white",
           "ticks": "",
           "title": {
            "standoff": 15
           },
           "zerolinecolor": "white",
           "zerolinewidth": 2
          }
         }
        },
        "title": {
         "text": "COCO Class Embeddings (GPT4)"
        }
       }
      }
     },
     "metadata": {},
     "output_type": "display_data"
    }
   ],
   "source": [
    "# plot results\n",
    "fig = px.scatter_3d(\n",
    "    gpt_df, x='1', y='3', z='6',\n",
    "    color='category',\n",
    "    title=f'COCO Class Embeddings (GPT4)',\n",
    "    hover_data={'word': True, 'category': False, '1': False, '3': False, '6': False},\n",
    ")\n",
    "fig.show()"
   ]
  },
  {
   "cell_type": "markdown",
   "metadata": {},
   "source": [
    "## synthetic dataset"
   ]
  },
  {
   "cell_type": "code",
   "execution_count": 147,
   "metadata": {},
   "outputs": [],
   "source": [
    "import random"
   ]
  },
  {
   "cell_type": "code",
   "execution_count": 143,
   "metadata": {},
   "outputs": [],
   "source": [
    "# domain-specific words\n",
    "\n",
    "# art\n",
    "art_words = [\n",
    "    \"Canvas\", \"Palette\", \"Sculpture\", \"Mural\", \"Abstract\",\n",
    "    \"Impressionism\", \"Gallery\", \"Fresco\", \"Landscape\", \"Portrait\",\n",
    "    \"Cubism\", \"Watercolor\", \"Expressionism\", \"Aesthetic\", \"Sketch\",\n",
    "    \"Acrylic\", \"Installation\", \"Surrealism\", \"Brushstroke\", \"Perspective\"\n",
    "]\n",
    "\n",
    "# medicine\n",
    "medicine_words = [\n",
    "    \"Diagnosis\", \"Antibiotic\", \"Surgery\", \"Vaccine\", \"Oncology\",\n",
    "    \"Cardiology\", \"Neurology\", \"Therapy\", \"Radiology\", \"Anesthesia\",\n",
    "    \"Hematology\", \"Pathology\", \"Dermatology\", \"Pharmacology\", \"Biopsy\",\n",
    "    \"Immunology\", \"Endocrinology\", \"Pediatrics\", \"Psychiatry\", \"Epidemiology\"\n",
    "]\n",
    "\n",
    "# food\n",
    "food_words = [\n",
    "    \"Gastronomy\", \"Culinary\", \"Umami\", \"Gourmet\", \"Sauté\",\n",
    "    \"Fermentation\", \"Organic\", \"Nutrition\", \"Appetizer\", \"Seasoning\",\n",
    "    \"Marinade\", \"Probiotic\", \"Vegan\", \"Barbecue\", \"Aromatics\",\n",
    "    \"Infusion\", \"Sous-vide\", \"Dessert\", \"Artisanal\", \"Palate\"\n",
    "]"
   ]
  },
  {
   "cell_type": "code",
   "execution_count": 153,
   "metadata": {},
   "outputs": [
    {
     "name": "stdout",
     "output_type": "stream",
     "text": [
      "60\n",
      "['Canvas', 'Palette', 'Sculpture', 'Mural', 'Abstract', 'Impressionism', 'Gallery', 'Fresco', 'Landscape', 'Portrait', 'Cubism', 'Watercolor', 'Expressionism', 'Aesthetic', 'Sketch', 'Acrylic', 'Installation', 'Surrealism', 'Brushstroke', 'Perspective', 'Diagnosis', 'Antibiotic', 'Surgery', 'Vaccine', 'Oncology', 'Cardiology', 'Neurology', 'Therapy', 'Radiology', 'Anesthesia', 'Hematology', 'Pathology', 'Dermatology', 'Pharmacology', 'Biopsy', 'Immunology', 'Endocrinology', 'Pediatrics', 'Psychiatry', 'Epidemiology', 'Gastronomy', 'Culinary', 'Umami', 'Gourmet', 'Sauté', 'Fermentation', 'Organic', 'Nutrition', 'Appetizer', 'Seasoning', 'Marinade', 'Probiotic', 'Vegan', 'Barbecue', 'Aromatics', 'Infusion', 'Sous-vide', 'Dessert', 'Artisanal', 'Palate']\n",
      "['art', 'art', 'art', 'art', 'art', 'art', 'art', 'art', 'art', 'art', 'art', 'art', 'art', 'art', 'art', 'art', 'art', 'art', 'art', 'art', 'medicine', 'medicine', 'medicine', 'medicine', 'medicine', 'medicine', 'medicine', 'medicine', 'medicine', 'medicine', 'medicine', 'medicine', 'medicine', 'medicine', 'medicine', 'medicine', 'medicine', 'medicine', 'medicine', 'medicine', 'food', 'food', 'food', 'food', 'food', 'food', 'food', 'food', 'food', 'food', 'food', 'food', 'food', 'food', 'food', 'food', 'food', 'food', 'food', 'food']\n"
     ]
    }
   ],
   "source": [
    "# combine lists and randomize order\n",
    "all_words = art_words + medicine_words + food_words\n",
    "print(len(all_words))\n",
    "print(all_words)\n",
    "\n",
    "# create category labels\n",
    "categories = [\"art\"] * len(art_words) + [\"medicine\"] * len(medicine_words) + [\"food\"] * len(food_words)\n",
    "print(categories)"
   ]
  },
  {
   "cell_type": "code",
   "execution_count": 154,
   "metadata": {},
   "outputs": [
    {
     "name": "stdout",
     "output_type": "stream",
     "text": [
      "60\n"
     ]
    }
   ],
   "source": [
    "# get embedding for each word\n",
    "# ❗️ note: I am only getting the embedding for the first token in each word\n",
    "# ❓ question: are we interested in the final contextual embedding for each word? currently, we're looking at the final hidden state.\n",
    "embeddings = []\n",
    "for i in range(len(all_words)):\n",
    "    input_ids = torch.tensor(tokenizer.encode(coco_classes[i])).unsqueeze(0)\n",
    "    outputs = model(input_ids)\n",
    "    last_hidden_states = outputs[0]\n",
    "    # skip the first token, which is the [CLS] token\n",
    "    embeddings.append(last_hidden_states[0][1].tolist())\n",
    "\n",
    "print(len(embeddings))"
   ]
  },
  {
   "cell_type": "code",
   "execution_count": 155,
   "metadata": {},
   "outputs": [],
   "source": [
    "# round each val in embedding to 3 decimal places\n",
    "embeddings = [list(np.around(np.array(e),3)) for e in embeddings]\n",
    "\n",
    "# create string of all classes and their embeddings & save to text file\n",
    "# ❗️ note: only taking first 10 axes for now due to context window length\n",
    "with open(\"output.txt\", \"w\") as text_file:\n",
    "    for i in range(len(all_words)):\n",
    "        class_str = f\"{all_words[i]}: {embeddings[i][:10]}\\n\"\n",
    "        text_file.write(class_str)"
   ]
  },
  {
   "cell_type": "markdown",
   "metadata": {},
   "source": [
    "#### plot pca"
   ]
  },
  {
   "cell_type": "code",
   "execution_count": 156,
   "metadata": {},
   "outputs": [
    {
     "name": "stdout",
     "output_type": "stream",
     "text": [
      "(60, 768)\n"
     ]
    },
    {
     "data": {
      "text/html": [
       "<div>\n",
       "<style scoped>\n",
       "    .dataframe tbody tr th:only-of-type {\n",
       "        vertical-align: middle;\n",
       "    }\n",
       "\n",
       "    .dataframe tbody tr th {\n",
       "        vertical-align: top;\n",
       "    }\n",
       "\n",
       "    .dataframe thead th {\n",
       "        text-align: right;\n",
       "    }\n",
       "</style>\n",
       "<table border=\"1\" class=\"dataframe\">\n",
       "  <thead>\n",
       "    <tr style=\"text-align: right;\">\n",
       "      <th></th>\n",
       "      <th>0</th>\n",
       "      <th>1</th>\n",
       "      <th>2</th>\n",
       "      <th>3</th>\n",
       "      <th>4</th>\n",
       "      <th>5</th>\n",
       "      <th>6</th>\n",
       "      <th>7</th>\n",
       "      <th>8</th>\n",
       "      <th>9</th>\n",
       "      <th>...</th>\n",
       "      <th>758</th>\n",
       "      <th>759</th>\n",
       "      <th>760</th>\n",
       "      <th>761</th>\n",
       "      <th>762</th>\n",
       "      <th>763</th>\n",
       "      <th>764</th>\n",
       "      <th>765</th>\n",
       "      <th>766</th>\n",
       "      <th>767</th>\n",
       "    </tr>\n",
       "  </thead>\n",
       "  <tbody>\n",
       "    <tr>\n",
       "      <th>0</th>\n",
       "      <td>-0.375</td>\n",
       "      <td>-0.251</td>\n",
       "      <td>-0.046</td>\n",
       "      <td>-0.120</td>\n",
       "      <td>-0.020</td>\n",
       "      <td>0.713</td>\n",
       "      <td>-0.144</td>\n",
       "      <td>0.427</td>\n",
       "      <td>-0.022</td>\n",
       "      <td>-0.458</td>\n",
       "      <td>...</td>\n",
       "      <td>0.678</td>\n",
       "      <td>-0.576</td>\n",
       "      <td>0.600</td>\n",
       "      <td>-0.078</td>\n",
       "      <td>-0.002</td>\n",
       "      <td>-0.154</td>\n",
       "      <td>0.148</td>\n",
       "      <td>0.055</td>\n",
       "      <td>0.459</td>\n",
       "      <td>-0.115</td>\n",
       "    </tr>\n",
       "    <tr>\n",
       "      <th>1</th>\n",
       "      <td>0.998</td>\n",
       "      <td>0.142</td>\n",
       "      <td>-0.379</td>\n",
       "      <td>-0.093</td>\n",
       "      <td>0.538</td>\n",
       "      <td>0.109</td>\n",
       "      <td>-0.232</td>\n",
       "      <td>0.187</td>\n",
       "      <td>-0.462</td>\n",
       "      <td>-0.299</td>\n",
       "      <td>...</td>\n",
       "      <td>0.184</td>\n",
       "      <td>-0.021</td>\n",
       "      <td>0.064</td>\n",
       "      <td>-0.084</td>\n",
       "      <td>0.654</td>\n",
       "      <td>-0.150</td>\n",
       "      <td>-0.194</td>\n",
       "      <td>0.013</td>\n",
       "      <td>0.042</td>\n",
       "      <td>-0.664</td>\n",
       "    </tr>\n",
       "    <tr>\n",
       "      <th>2</th>\n",
       "      <td>0.378</td>\n",
       "      <td>-0.014</td>\n",
       "      <td>-0.001</td>\n",
       "      <td>-0.091</td>\n",
       "      <td>0.484</td>\n",
       "      <td>0.287</td>\n",
       "      <td>-0.126</td>\n",
       "      <td>0.121</td>\n",
       "      <td>0.297</td>\n",
       "      <td>-0.319</td>\n",
       "      <td>...</td>\n",
       "      <td>0.229</td>\n",
       "      <td>-0.367</td>\n",
       "      <td>0.220</td>\n",
       "      <td>-0.126</td>\n",
       "      <td>0.479</td>\n",
       "      <td>-0.342</td>\n",
       "      <td>-0.312</td>\n",
       "      <td>-0.393</td>\n",
       "      <td>0.188</td>\n",
       "      <td>-0.158</td>\n",
       "    </tr>\n",
       "    <tr>\n",
       "      <th>3</th>\n",
       "      <td>0.970</td>\n",
       "      <td>0.256</td>\n",
       "      <td>-0.249</td>\n",
       "      <td>-0.156</td>\n",
       "      <td>0.342</td>\n",
       "      <td>-0.322</td>\n",
       "      <td>-0.142</td>\n",
       "      <td>-0.129</td>\n",
       "      <td>-0.132</td>\n",
       "      <td>-0.227</td>\n",
       "      <td>...</td>\n",
       "      <td>0.381</td>\n",
       "      <td>0.035</td>\n",
       "      <td>0.134</td>\n",
       "      <td>-0.324</td>\n",
       "      <td>0.404</td>\n",
       "      <td>-0.324</td>\n",
       "      <td>-0.041</td>\n",
       "      <td>-0.021</td>\n",
       "      <td>0.081</td>\n",
       "      <td>-0.858</td>\n",
       "    </tr>\n",
       "    <tr>\n",
       "      <th>4</th>\n",
       "      <td>0.187</td>\n",
       "      <td>0.095</td>\n",
       "      <td>-0.452</td>\n",
       "      <td>0.072</td>\n",
       "      <td>0.378</td>\n",
       "      <td>-0.166</td>\n",
       "      <td>-0.381</td>\n",
       "      <td>0.118</td>\n",
       "      <td>0.108</td>\n",
       "      <td>-0.644</td>\n",
       "      <td>...</td>\n",
       "      <td>0.415</td>\n",
       "      <td>0.053</td>\n",
       "      <td>0.227</td>\n",
       "      <td>-0.219</td>\n",
       "      <td>0.252</td>\n",
       "      <td>0.098</td>\n",
       "      <td>0.132</td>\n",
       "      <td>0.044</td>\n",
       "      <td>0.553</td>\n",
       "      <td>-0.133</td>\n",
       "    </tr>\n",
       "  </tbody>\n",
       "</table>\n",
       "<p>5 rows × 768 columns</p>\n",
       "</div>"
      ],
      "text/plain": [
       "     0      1      2      3      4      5      6      7      8      9    ...  \\\n",
       "0 -0.375 -0.251 -0.046 -0.120 -0.020  0.713 -0.144  0.427 -0.022 -0.458  ...   \n",
       "1  0.998  0.142 -0.379 -0.093  0.538  0.109 -0.232  0.187 -0.462 -0.299  ...   \n",
       "2  0.378 -0.014 -0.001 -0.091  0.484  0.287 -0.126  0.121  0.297 -0.319  ...   \n",
       "3  0.970  0.256 -0.249 -0.156  0.342 -0.322 -0.142 -0.129 -0.132 -0.227  ...   \n",
       "4  0.187  0.095 -0.452  0.072  0.378 -0.166 -0.381  0.118  0.108 -0.644  ...   \n",
       "\n",
       "     758    759    760    761    762    763    764    765    766    767  \n",
       "0  0.678 -0.576  0.600 -0.078 -0.002 -0.154  0.148  0.055  0.459 -0.115  \n",
       "1  0.184 -0.021  0.064 -0.084  0.654 -0.150 -0.194  0.013  0.042 -0.664  \n",
       "2  0.229 -0.367  0.220 -0.126  0.479 -0.342 -0.312 -0.393  0.188 -0.158  \n",
       "3  0.381  0.035  0.134 -0.324  0.404 -0.324 -0.041 -0.021  0.081 -0.858  \n",
       "4  0.415  0.053  0.227 -0.219  0.252  0.098  0.132  0.044  0.553 -0.133  \n",
       "\n",
       "[5 rows x 768 columns]"
      ]
     },
     "execution_count": 156,
     "metadata": {},
     "output_type": "execute_result"
    }
   ],
   "source": [
    "# convert embedding list to dataframe\n",
    "# Convert to DataFrame\n",
    "df = pd.DataFrame(embeddings)\n",
    "\n",
    "print(df.shape)\n",
    "df.head()  # Display the first 5 rows to check the structure"
   ]
  },
  {
   "cell_type": "code",
   "execution_count": 157,
   "metadata": {},
   "outputs": [],
   "source": [
    "# perform PCA\n",
    "pca = PCA(n_components=3)\n",
    "components = pca.fit_transform(df)\n",
    "\n",
    "total_var = pca.explained_variance_ratio_.sum() * 100"
   ]
  },
  {
   "cell_type": "code",
   "execution_count": 158,
   "metadata": {},
   "outputs": [
    {
     "data": {
      "text/html": [
       "<div>\n",
       "<style scoped>\n",
       "    .dataframe tbody tr th:only-of-type {\n",
       "        vertical-align: middle;\n",
       "    }\n",
       "\n",
       "    .dataframe tbody tr th {\n",
       "        vertical-align: top;\n",
       "    }\n",
       "\n",
       "    .dataframe thead th {\n",
       "        text-align: right;\n",
       "    }\n",
       "</style>\n",
       "<table border=\"1\" class=\"dataframe\">\n",
       "  <thead>\n",
       "    <tr style=\"text-align: right;\">\n",
       "      <th></th>\n",
       "      <th>word</th>\n",
       "      <th>category</th>\n",
       "      <th>0</th>\n",
       "      <th>1</th>\n",
       "      <th>2</th>\n",
       "    </tr>\n",
       "  </thead>\n",
       "  <tbody>\n",
       "    <tr>\n",
       "      <th>0</th>\n",
       "      <td>Canvas</td>\n",
       "      <td>art</td>\n",
       "      <td>-0.963129</td>\n",
       "      <td>2.046412</td>\n",
       "      <td>-0.828837</td>\n",
       "    </tr>\n",
       "    <tr>\n",
       "      <th>1</th>\n",
       "      <td>Palette</td>\n",
       "      <td>art</td>\n",
       "      <td>0.054236</td>\n",
       "      <td>0.646644</td>\n",
       "      <td>-2.024781</td>\n",
       "    </tr>\n",
       "    <tr>\n",
       "      <th>2</th>\n",
       "      <td>Sculpture</td>\n",
       "      <td>art</td>\n",
       "      <td>0.441001</td>\n",
       "      <td>2.192032</td>\n",
       "      <td>-1.279854</td>\n",
       "    </tr>\n",
       "    <tr>\n",
       "      <th>3</th>\n",
       "      <td>Mural</td>\n",
       "      <td>art</td>\n",
       "      <td>-0.843135</td>\n",
       "      <td>0.023495</td>\n",
       "      <td>-1.571297</td>\n",
       "    </tr>\n",
       "    <tr>\n",
       "      <th>4</th>\n",
       "      <td>Abstract</td>\n",
       "      <td>art</td>\n",
       "      <td>-2.521516</td>\n",
       "      <td>-0.135397</td>\n",
       "      <td>-1.171969</td>\n",
       "    </tr>\n",
       "  </tbody>\n",
       "</table>\n",
       "</div>"
      ],
      "text/plain": [
       "        word category         0         1         2\n",
       "0     Canvas      art -0.963129  2.046412 -0.828837\n",
       "1    Palette      art  0.054236  0.646644 -2.024781\n",
       "2  Sculpture      art  0.441001  2.192032 -1.279854\n",
       "3      Mural      art -0.843135  0.023495 -1.571297\n",
       "4   Abstract      art -2.521516 -0.135397 -1.171969"
      ]
     },
     "execution_count": 158,
     "metadata": {},
     "output_type": "execute_result"
    }
   ],
   "source": [
    "# new data frame with PCA result + word + category info\n",
    "new_df = pd.DataFrame(components)\n",
    "new_df.columns = new_df.columns.astype(str)\n",
    "new_df.insert(0, 'word', all_words)\n",
    "new_df.insert(1, 'category', categories)\n",
    "new_df.head()"
   ]
  },
  {
   "cell_type": "code",
   "execution_count": 159,
   "metadata": {},
   "outputs": [
    {
     "data": {
      "application/vnd.plotly.v1+json": {
       "config": {
        "plotlyServerURL": "https://plot.ly"
       },
       "data": [
        {
         "customdata": [
          [
           "Canvas",
           "art"
          ],
          [
           "Palette",
           "art"
          ],
          [
           "Sculpture",
           "art"
          ],
          [
           "Mural",
           "art"
          ],
          [
           "Abstract",
           "art"
          ],
          [
           "Impressionism",
           "art"
          ],
          [
           "Gallery",
           "art"
          ],
          [
           "Fresco",
           "art"
          ],
          [
           "Landscape",
           "art"
          ],
          [
           "Portrait",
           "art"
          ],
          [
           "Cubism",
           "art"
          ],
          [
           "Watercolor",
           "art"
          ],
          [
           "Expressionism",
           "art"
          ],
          [
           "Aesthetic",
           "art"
          ],
          [
           "Sketch",
           "art"
          ],
          [
           "Acrylic",
           "art"
          ],
          [
           "Installation",
           "art"
          ],
          [
           "Surrealism",
           "art"
          ],
          [
           "Brushstroke",
           "art"
          ],
          [
           "Perspective",
           "art"
          ]
         ],
         "hovertemplate": "word=%{customdata[0]}<extra></extra>",
         "legendgroup": "art",
         "marker": {
          "color": "#636efa",
          "symbol": "circle"
         },
         "mode": "markers",
         "name": "art",
         "scene": "scene",
         "showlegend": true,
         "type": "scatter3d",
         "x": [
          -0.9631294656786352,
          0.05423552227375183,
          0.44100058518321544,
          -0.843135270580107,
          -2.5215159972457917,
          0.10676657012656277,
          1.6954674931433469,
          -0.7032658725984838,
          0.630805647821829,
          3.7019022179910266,
          3.004393619252801,
          5.040470258227634,
          3.186105669364817,
          -3.514628725682475,
          -1.6132070409547978,
          -1.4454137245555074,
          -0.6566216472150437,
          -1.360471152022237,
          -1.8519724154349586,
          -3.743440477570721
         ],
         "y": [
          2.046411901085256,
          0.6466441170128427,
          2.1920322329679673,
          0.02349490326858782,
          -0.13539720832948968,
          3.205626648938176,
          5.024537637602529,
          1.7012809600449514,
          1.6536751015695426,
          1.5709947674002602,
          -0.8198007091015436,
          5.108651259950006,
          2.405470655303028,
          -0.8145844683046768,
          1.2009725052727078,
          1.8337231800237646,
          1.6025652564170676,
          0.7775972249971506,
          0.13376505821179024,
          -0.04496041508516196
         ],
         "z": [
          -0.8288371000304209,
          -2.024780728011159,
          -1.2798539844024892,
          -1.5712971728571383,
          -1.1719693584326116,
          -1.5574264546520031,
          -2.1219003048904046,
          -1.3621000210256735,
          -2.3118472712161933,
          -0.46962231645049135,
          2.609967300745255,
          -0.5202063464960927,
          -0.37684628473460513,
          -0.2180063755813387,
          0.12982470508773053,
          0.9402380708736078,
          0.11700387917203145,
          -0.40338997555510253,
          0.6315527452193398,
          0.6880376978719716
         ]
        },
        {
         "customdata": [
          [
           "Diagnosis",
           "medicine"
          ],
          [
           "Antibiotic",
           "medicine"
          ],
          [
           "Surgery",
           "medicine"
          ],
          [
           "Vaccine",
           "medicine"
          ],
          [
           "Oncology",
           "medicine"
          ],
          [
           "Cardiology",
           "medicine"
          ],
          [
           "Neurology",
           "medicine"
          ],
          [
           "Therapy",
           "medicine"
          ],
          [
           "Radiology",
           "medicine"
          ],
          [
           "Anesthesia",
           "medicine"
          ],
          [
           "Hematology",
           "medicine"
          ],
          [
           "Pathology",
           "medicine"
          ],
          [
           "Dermatology",
           "medicine"
          ],
          [
           "Pharmacology",
           "medicine"
          ],
          [
           "Biopsy",
           "medicine"
          ],
          [
           "Immunology",
           "medicine"
          ],
          [
           "Endocrinology",
           "medicine"
          ],
          [
           "Pediatrics",
           "medicine"
          ],
          [
           "Psychiatry",
           "medicine"
          ],
          [
           "Epidemiology",
           "medicine"
          ]
         ],
         "hovertemplate": "word=%{customdata[0]}<extra></extra>",
         "legendgroup": "medicine",
         "marker": {
          "color": "#EF553B",
          "symbol": "circle"
         },
         "mode": "markers",
         "name": "medicine",
         "scene": "scene",
         "showlegend": true,
         "type": "scatter3d",
         "x": [
          -2.2689771993710104,
          -2.270062585316811,
          -3.8603212795059343,
          3.084798719941429,
          -2.562679176163215,
          -3.2249964956938473,
          3.7952234652308725,
          -0.3166553383286591,
          -3.648532321496918,
          3.4203383687108055,
          2.810110036583122,
          4.537693202936277,
          2.4746722877888283,
          -2.210856416609754,
          3.3496359233951485,
          2.7949853968690794,
          4.538909189902854,
          4.561788932836646,
          2.5176414242819063,
          -2.9012780268434737
         ],
         "y": [
          -0.005675032091254536,
          0.8348158075352169,
          -1.041196753270434,
          0.4147500802355505,
          -1.2993593291325283,
          -1.8518212123219242,
          0.06843413541846531,
          1.5650173879481537,
          -1.7821121674413074,
          0.2891975177638537,
          -2.128080617429881,
          -4.379162686755078,
          -2.8755922012057016,
          -0.8815639894442768,
          -1.9260718865610027,
          -2.722457566515506,
          -2.3340799922891193,
          -3.654346853061797,
          -4.1079316614126204,
          -0.5911009461354432
         ],
         "z": [
          0.39941154521092187,
          1.1895520122981347,
          1.0844528205702058,
          1.180431810956262,
          -0.2735030289275924,
          -0.16589992974614104,
          1.194023783866336,
          0.30665028988515974,
          0.1638751581901227,
          4.291602482173003,
          -3.1386981944083026,
          -3.0556661044413618,
          -0.7390449187814415,
          -0.8042369079897075,
          -0.35784863450484133,
          0.021798999593494916,
          -3.6523675705298624,
          -2.537859691509024,
          0.09343598810312376,
          0.052179426194426115
         ]
        },
        {
         "customdata": [
          [
           "Gastronomy",
           "food"
          ],
          [
           "Culinary",
           "food"
          ],
          [
           "Umami",
           "food"
          ],
          [
           "Gourmet",
           "food"
          ],
          [
           "Sauté",
           "food"
          ],
          [
           "Fermentation",
           "food"
          ],
          [
           "Organic",
           "food"
          ],
          [
           "Nutrition",
           "food"
          ],
          [
           "Appetizer",
           "food"
          ],
          [
           "Seasoning",
           "food"
          ],
          [
           "Marinade",
           "food"
          ],
          [
           "Probiotic",
           "food"
          ],
          [
           "Vegan",
           "food"
          ],
          [
           "Barbecue",
           "food"
          ],
          [
           "Aromatics",
           "food"
          ],
          [
           "Infusion",
           "food"
          ],
          [
           "Sous-vide",
           "food"
          ],
          [
           "Dessert",
           "food"
          ],
          [
           "Artisanal",
           "food"
          ],
          [
           "Palate",
           "food"
          ]
         ],
         "hovertemplate": "word=%{customdata[0]}<extra></extra>",
         "legendgroup": "food",
         "marker": {
          "color": "#00cc96",
          "symbol": "circle"
         },
         "mode": "markers",
         "name": "food",
         "scene": "scene",
         "showlegend": true,
         "type": "scatter3d",
         "x": [
          1.7295139408748559,
          2.1505972349828184,
          -2.163791478872822,
          -1.2476028934656214,
          -4.338481296795753,
          -1.009237505334407,
          -2.8496886537910515,
          -1.5094528372851796,
          -3.533075845026861,
          -2.297113706244908,
          3.013076986514767,
          -3.647825694989816,
          4.489278767229831,
          -1.517846437868059,
          2.4627318668783795,
          -1.8546053822548096,
          -0.776959805797949,
          -2.503262675752689,
          3.8595249705170307,
          -1.7215634565113347
         ],
         "y": [
          -1.7737862558854325,
          3.2811594627682323,
          0.5138529250795023,
          0.3266317859180522,
          -1.587499611822835,
          0.7333970501497041,
          -1.082925910829052,
          0.3808482778839112,
          -1.2136284967195183,
          0.825853022569428,
          -0.33718173859489586,
          -1.462433418613147,
          -0.4693727416138959,
          -0.36922902346954833,
          -0.10728049299292933,
          -0.8157402291999892,
          1.9955728609403447,
          -0.5224616865106955,
          0.7401891138310097,
          0.03967246403362968
         ],
         "z": [
          0.9526497687809333,
          -1.094433620494443,
          -0.2948555669852394,
          -1.0395021764129435,
          0.18670589934266035,
          -0.32678378578226075,
          0.5429469342416231,
          0.586170392496788,
          0.4742293721187393,
          1.897851599114577,
          4.5330427767203405,
          1.5599117396567412,
          3.546051717353403,
          -0.04368469433826832,
          3.3337989071816154,
          -0.3797266487310952,
          -1.2629305934588577,
          -0.08310589937588302,
          2.941267925672583,
          -0.18043408793813445
         ]
        }
       ],
       "layout": {
        "legend": {
         "title": {
          "text": "category"
         },
         "tracegroupgap": 0
        },
        "scene": {
         "domain": {
          "x": [
           0,
           1
          ],
          "y": [
           0,
           1
          ]
         },
         "xaxis": {
          "title": {
           "text": "0"
          }
         },
         "yaxis": {
          "title": {
           "text": "1"
          }
         },
         "zaxis": {
          "title": {
           "text": "2"
          }
         }
        },
        "template": {
         "data": {
          "bar": [
           {
            "error_x": {
             "color": "#2a3f5f"
            },
            "error_y": {
             "color": "#2a3f5f"
            },
            "marker": {
             "line": {
              "color": "#E5ECF6",
              "width": 0.5
             },
             "pattern": {
              "fillmode": "overlay",
              "size": 10,
              "solidity": 0.2
             }
            },
            "type": "bar"
           }
          ],
          "barpolar": [
           {
            "marker": {
             "line": {
              "color": "#E5ECF6",
              "width": 0.5
             },
             "pattern": {
              "fillmode": "overlay",
              "size": 10,
              "solidity": 0.2
             }
            },
            "type": "barpolar"
           }
          ],
          "carpet": [
           {
            "aaxis": {
             "endlinecolor": "#2a3f5f",
             "gridcolor": "white",
             "linecolor": "white",
             "minorgridcolor": "white",
             "startlinecolor": "#2a3f5f"
            },
            "baxis": {
             "endlinecolor": "#2a3f5f",
             "gridcolor": "white",
             "linecolor": "white",
             "minorgridcolor": "white",
             "startlinecolor": "#2a3f5f"
            },
            "type": "carpet"
           }
          ],
          "choropleth": [
           {
            "colorbar": {
             "outlinewidth": 0,
             "ticks": ""
            },
            "type": "choropleth"
           }
          ],
          "contour": [
           {
            "colorbar": {
             "outlinewidth": 0,
             "ticks": ""
            },
            "colorscale": [
             [
              0,
              "#0d0887"
             ],
             [
              0.1111111111111111,
              "#46039f"
             ],
             [
              0.2222222222222222,
              "#7201a8"
             ],
             [
              0.3333333333333333,
              "#9c179e"
             ],
             [
              0.4444444444444444,
              "#bd3786"
             ],
             [
              0.5555555555555556,
              "#d8576b"
             ],
             [
              0.6666666666666666,
              "#ed7953"
             ],
             [
              0.7777777777777778,
              "#fb9f3a"
             ],
             [
              0.8888888888888888,
              "#fdca26"
             ],
             [
              1,
              "#f0f921"
             ]
            ],
            "type": "contour"
           }
          ],
          "contourcarpet": [
           {
            "colorbar": {
             "outlinewidth": 0,
             "ticks": ""
            },
            "type": "contourcarpet"
           }
          ],
          "heatmap": [
           {
            "colorbar": {
             "outlinewidth": 0,
             "ticks": ""
            },
            "colorscale": [
             [
              0,
              "#0d0887"
             ],
             [
              0.1111111111111111,
              "#46039f"
             ],
             [
              0.2222222222222222,
              "#7201a8"
             ],
             [
              0.3333333333333333,
              "#9c179e"
             ],
             [
              0.4444444444444444,
              "#bd3786"
             ],
             [
              0.5555555555555556,
              "#d8576b"
             ],
             [
              0.6666666666666666,
              "#ed7953"
             ],
             [
              0.7777777777777778,
              "#fb9f3a"
             ],
             [
              0.8888888888888888,
              "#fdca26"
             ],
             [
              1,
              "#f0f921"
             ]
            ],
            "type": "heatmap"
           }
          ],
          "heatmapgl": [
           {
            "colorbar": {
             "outlinewidth": 0,
             "ticks": ""
            },
            "colorscale": [
             [
              0,
              "#0d0887"
             ],
             [
              0.1111111111111111,
              "#46039f"
             ],
             [
              0.2222222222222222,
              "#7201a8"
             ],
             [
              0.3333333333333333,
              "#9c179e"
             ],
             [
              0.4444444444444444,
              "#bd3786"
             ],
             [
              0.5555555555555556,
              "#d8576b"
             ],
             [
              0.6666666666666666,
              "#ed7953"
             ],
             [
              0.7777777777777778,
              "#fb9f3a"
             ],
             [
              0.8888888888888888,
              "#fdca26"
             ],
             [
              1,
              "#f0f921"
             ]
            ],
            "type": "heatmapgl"
           }
          ],
          "histogram": [
           {
            "marker": {
             "pattern": {
              "fillmode": "overlay",
              "size": 10,
              "solidity": 0.2
             }
            },
            "type": "histogram"
           }
          ],
          "histogram2d": [
           {
            "colorbar": {
             "outlinewidth": 0,
             "ticks": ""
            },
            "colorscale": [
             [
              0,
              "#0d0887"
             ],
             [
              0.1111111111111111,
              "#46039f"
             ],
             [
              0.2222222222222222,
              "#7201a8"
             ],
             [
              0.3333333333333333,
              "#9c179e"
             ],
             [
              0.4444444444444444,
              "#bd3786"
             ],
             [
              0.5555555555555556,
              "#d8576b"
             ],
             [
              0.6666666666666666,
              "#ed7953"
             ],
             [
              0.7777777777777778,
              "#fb9f3a"
             ],
             [
              0.8888888888888888,
              "#fdca26"
             ],
             [
              1,
              "#f0f921"
             ]
            ],
            "type": "histogram2d"
           }
          ],
          "histogram2dcontour": [
           {
            "colorbar": {
             "outlinewidth": 0,
             "ticks": ""
            },
            "colorscale": [
             [
              0,
              "#0d0887"
             ],
             [
              0.1111111111111111,
              "#46039f"
             ],
             [
              0.2222222222222222,
              "#7201a8"
             ],
             [
              0.3333333333333333,
              "#9c179e"
             ],
             [
              0.4444444444444444,
              "#bd3786"
             ],
             [
              0.5555555555555556,
              "#d8576b"
             ],
             [
              0.6666666666666666,
              "#ed7953"
             ],
             [
              0.7777777777777778,
              "#fb9f3a"
             ],
             [
              0.8888888888888888,
              "#fdca26"
             ],
             [
              1,
              "#f0f921"
             ]
            ],
            "type": "histogram2dcontour"
           }
          ],
          "mesh3d": [
           {
            "colorbar": {
             "outlinewidth": 0,
             "ticks": ""
            },
            "type": "mesh3d"
           }
          ],
          "parcoords": [
           {
            "line": {
             "colorbar": {
              "outlinewidth": 0,
              "ticks": ""
             }
            },
            "type": "parcoords"
           }
          ],
          "pie": [
           {
            "automargin": true,
            "type": "pie"
           }
          ],
          "scatter": [
           {
            "fillpattern": {
             "fillmode": "overlay",
             "size": 10,
             "solidity": 0.2
            },
            "type": "scatter"
           }
          ],
          "scatter3d": [
           {
            "line": {
             "colorbar": {
              "outlinewidth": 0,
              "ticks": ""
             }
            },
            "marker": {
             "colorbar": {
              "outlinewidth": 0,
              "ticks": ""
             }
            },
            "type": "scatter3d"
           }
          ],
          "scattercarpet": [
           {
            "marker": {
             "colorbar": {
              "outlinewidth": 0,
              "ticks": ""
             }
            },
            "type": "scattercarpet"
           }
          ],
          "scattergeo": [
           {
            "marker": {
             "colorbar": {
              "outlinewidth": 0,
              "ticks": ""
             }
            },
            "type": "scattergeo"
           }
          ],
          "scattergl": [
           {
            "marker": {
             "colorbar": {
              "outlinewidth": 0,
              "ticks": ""
             }
            },
            "type": "scattergl"
           }
          ],
          "scattermapbox": [
           {
            "marker": {
             "colorbar": {
              "outlinewidth": 0,
              "ticks": ""
             }
            },
            "type": "scattermapbox"
           }
          ],
          "scatterpolar": [
           {
            "marker": {
             "colorbar": {
              "outlinewidth": 0,
              "ticks": ""
             }
            },
            "type": "scatterpolar"
           }
          ],
          "scatterpolargl": [
           {
            "marker": {
             "colorbar": {
              "outlinewidth": 0,
              "ticks": ""
             }
            },
            "type": "scatterpolargl"
           }
          ],
          "scatterternary": [
           {
            "marker": {
             "colorbar": {
              "outlinewidth": 0,
              "ticks": ""
             }
            },
            "type": "scatterternary"
           }
          ],
          "surface": [
           {
            "colorbar": {
             "outlinewidth": 0,
             "ticks": ""
            },
            "colorscale": [
             [
              0,
              "#0d0887"
             ],
             [
              0.1111111111111111,
              "#46039f"
             ],
             [
              0.2222222222222222,
              "#7201a8"
             ],
             [
              0.3333333333333333,
              "#9c179e"
             ],
             [
              0.4444444444444444,
              "#bd3786"
             ],
             [
              0.5555555555555556,
              "#d8576b"
             ],
             [
              0.6666666666666666,
              "#ed7953"
             ],
             [
              0.7777777777777778,
              "#fb9f3a"
             ],
             [
              0.8888888888888888,
              "#fdca26"
             ],
             [
              1,
              "#f0f921"
             ]
            ],
            "type": "surface"
           }
          ],
          "table": [
           {
            "cells": {
             "fill": {
              "color": "#EBF0F8"
             },
             "line": {
              "color": "white"
             }
            },
            "header": {
             "fill": {
              "color": "#C8D4E3"
             },
             "line": {
              "color": "white"
             }
            },
            "type": "table"
           }
          ]
         },
         "layout": {
          "annotationdefaults": {
           "arrowcolor": "#2a3f5f",
           "arrowhead": 0,
           "arrowwidth": 1
          },
          "autotypenumbers": "strict",
          "coloraxis": {
           "colorbar": {
            "outlinewidth": 0,
            "ticks": ""
           }
          },
          "colorscale": {
           "diverging": [
            [
             0,
             "#8e0152"
            ],
            [
             0.1,
             "#c51b7d"
            ],
            [
             0.2,
             "#de77ae"
            ],
            [
             0.3,
             "#f1b6da"
            ],
            [
             0.4,
             "#fde0ef"
            ],
            [
             0.5,
             "#f7f7f7"
            ],
            [
             0.6,
             "#e6f5d0"
            ],
            [
             0.7,
             "#b8e186"
            ],
            [
             0.8,
             "#7fbc41"
            ],
            [
             0.9,
             "#4d9221"
            ],
            [
             1,
             "#276419"
            ]
           ],
           "sequential": [
            [
             0,
             "#0d0887"
            ],
            [
             0.1111111111111111,
             "#46039f"
            ],
            [
             0.2222222222222222,
             "#7201a8"
            ],
            [
             0.3333333333333333,
             "#9c179e"
            ],
            [
             0.4444444444444444,
             "#bd3786"
            ],
            [
             0.5555555555555556,
             "#d8576b"
            ],
            [
             0.6666666666666666,
             "#ed7953"
            ],
            [
             0.7777777777777778,
             "#fb9f3a"
            ],
            [
             0.8888888888888888,
             "#fdca26"
            ],
            [
             1,
             "#f0f921"
            ]
           ],
           "sequentialminus": [
            [
             0,
             "#0d0887"
            ],
            [
             0.1111111111111111,
             "#46039f"
            ],
            [
             0.2222222222222222,
             "#7201a8"
            ],
            [
             0.3333333333333333,
             "#9c179e"
            ],
            [
             0.4444444444444444,
             "#bd3786"
            ],
            [
             0.5555555555555556,
             "#d8576b"
            ],
            [
             0.6666666666666666,
             "#ed7953"
            ],
            [
             0.7777777777777778,
             "#fb9f3a"
            ],
            [
             0.8888888888888888,
             "#fdca26"
            ],
            [
             1,
             "#f0f921"
            ]
           ]
          },
          "colorway": [
           "#636efa",
           "#EF553B",
           "#00cc96",
           "#ab63fa",
           "#FFA15A",
           "#19d3f3",
           "#FF6692",
           "#B6E880",
           "#FF97FF",
           "#FECB52"
          ],
          "font": {
           "color": "#2a3f5f"
          },
          "geo": {
           "bgcolor": "white",
           "lakecolor": "white",
           "landcolor": "#E5ECF6",
           "showlakes": true,
           "showland": true,
           "subunitcolor": "white"
          },
          "hoverlabel": {
           "align": "left"
          },
          "hovermode": "closest",
          "mapbox": {
           "style": "light"
          },
          "paper_bgcolor": "white",
          "plot_bgcolor": "#E5ECF6",
          "polar": {
           "angularaxis": {
            "gridcolor": "white",
            "linecolor": "white",
            "ticks": ""
           },
           "bgcolor": "#E5ECF6",
           "radialaxis": {
            "gridcolor": "white",
            "linecolor": "white",
            "ticks": ""
           }
          },
          "scene": {
           "xaxis": {
            "backgroundcolor": "#E5ECF6",
            "gridcolor": "white",
            "gridwidth": 2,
            "linecolor": "white",
            "showbackground": true,
            "ticks": "",
            "zerolinecolor": "white"
           },
           "yaxis": {
            "backgroundcolor": "#E5ECF6",
            "gridcolor": "white",
            "gridwidth": 2,
            "linecolor": "white",
            "showbackground": true,
            "ticks": "",
            "zerolinecolor": "white"
           },
           "zaxis": {
            "backgroundcolor": "#E5ECF6",
            "gridcolor": "white",
            "gridwidth": 2,
            "linecolor": "white",
            "showbackground": true,
            "ticks": "",
            "zerolinecolor": "white"
           }
          },
          "shapedefaults": {
           "line": {
            "color": "#2a3f5f"
           }
          },
          "ternary": {
           "aaxis": {
            "gridcolor": "white",
            "linecolor": "white",
            "ticks": ""
           },
           "baxis": {
            "gridcolor": "white",
            "linecolor": "white",
            "ticks": ""
           },
           "bgcolor": "#E5ECF6",
           "caxis": {
            "gridcolor": "white",
            "linecolor": "white",
            "ticks": ""
           }
          },
          "title": {
           "x": 0.05
          },
          "xaxis": {
           "automargin": true,
           "gridcolor": "white",
           "linecolor": "white",
           "ticks": "",
           "title": {
            "standoff": 15
           },
           "zerolinecolor": "white",
           "zerolinewidth": 2
          },
          "yaxis": {
           "automargin": true,
           "gridcolor": "white",
           "linecolor": "white",
           "ticks": "",
           "title": {
            "standoff": 15
           },
           "zerolinecolor": "white",
           "zerolinewidth": 2
          }
         }
        },
        "title": {
         "text": "PCA Word Embeddings (Total Explained Variance: 29.02%)"
        }
       }
      }
     },
     "metadata": {},
     "output_type": "display_data"
    }
   ],
   "source": [
    "fig = px.scatter_3d(\n",
    "    new_df, x='0', y='1', z='2', \n",
    "    color='category',\n",
    "    title=f'PCA Word Embeddings (Total Explained Variance: {total_var:.2f}%)',\n",
    "    hover_data={'word': True, 'category': False, '0': False, '1': False, '2': False},\n",
    ")\n",
    "fig.show()"
   ]
  },
  {
   "cell_type": "markdown",
   "metadata": {},
   "source": [
    "#### axes from chatgpt"
   ]
  },
  {
   "cell_type": "code",
   "execution_count": 160,
   "metadata": {},
   "outputs": [
    {
     "data": {
      "text/html": [
       "<div>\n",
       "<style scoped>\n",
       "    .dataframe tbody tr th:only-of-type {\n",
       "        vertical-align: middle;\n",
       "    }\n",
       "\n",
       "    .dataframe tbody tr th {\n",
       "        vertical-align: top;\n",
       "    }\n",
       "\n",
       "    .dataframe thead th {\n",
       "        text-align: right;\n",
       "    }\n",
       "</style>\n",
       "<table border=\"1\" class=\"dataframe\">\n",
       "  <thead>\n",
       "    <tr style=\"text-align: right;\">\n",
       "      <th></th>\n",
       "      <th>word</th>\n",
       "      <th>category</th>\n",
       "      <th>0</th>\n",
       "      <th>4</th>\n",
       "      <th>5</th>\n",
       "    </tr>\n",
       "  </thead>\n",
       "  <tbody>\n",
       "    <tr>\n",
       "      <th>0</th>\n",
       "      <td>Canvas</td>\n",
       "      <td>art</td>\n",
       "      <td>-2.012219</td>\n",
       "      <td>-0.802046</td>\n",
       "      <td>2.400536</td>\n",
       "    </tr>\n",
       "    <tr>\n",
       "      <th>1</th>\n",
       "      <td>Palette</td>\n",
       "      <td>art</td>\n",
       "      <td>2.022799</td>\n",
       "      <td>0.897264</td>\n",
       "      <td>-0.005843</td>\n",
       "    </tr>\n",
       "    <tr>\n",
       "      <th>2</th>\n",
       "      <td>Sculpture</td>\n",
       "      <td>art</td>\n",
       "      <td>0.200722</td>\n",
       "      <td>0.732815</td>\n",
       "      <td>0.703321</td>\n",
       "    </tr>\n",
       "    <tr>\n",
       "      <th>3</th>\n",
       "      <td>Mural</td>\n",
       "      <td>art</td>\n",
       "      <td>1.940512</td>\n",
       "      <td>0.300374</td>\n",
       "      <td>-1.722978</td>\n",
       "    </tr>\n",
       "    <tr>\n",
       "      <th>4</th>\n",
       "      <td>Abstract</td>\n",
       "      <td>art</td>\n",
       "      <td>-0.360595</td>\n",
       "      <td>0.410007</td>\n",
       "      <td>-1.101463</td>\n",
       "    </tr>\n",
       "  </tbody>\n",
       "</table>\n",
       "</div>"
      ],
      "text/plain": [
       "        word category         0         4         5\n",
       "0     Canvas      art -2.012219 -0.802046  2.400536\n",
       "1    Palette      art  2.022799  0.897264 -0.005843\n",
       "2  Sculpture      art  0.200722  0.732815  0.703321\n",
       "3      Mural      art  1.940512  0.300374 -1.722978\n",
       "4   Abstract      art -0.360595  0.410007 -1.101463"
      ]
     },
     "execution_count": 160,
     "metadata": {},
     "output_type": "execute_result"
    }
   ],
   "source": [
    "# create dataframe with 3 axes chosen by chatgpt: \n",
    "gpt_df = df[[0, 4, 5]]\n",
    "\n",
    "# normalize\n",
    "gpt_df = (gpt_df - gpt_df.mean()) / gpt_df.std()\n",
    "\n",
    "# convert columns to string\n",
    "gpt_df.columns = gpt_df.columns.astype(str)\n",
    "\n",
    "# insert word and category columns\n",
    "gpt_df.insert(0, 'word', all_words)\n",
    "gpt_df.insert(1, 'category', categories)\n",
    "\n",
    "# preview df\n",
    "gpt_df.head()"
   ]
  },
  {
   "cell_type": "code",
   "execution_count": 161,
   "metadata": {},
   "outputs": [
    {
     "data": {
      "application/vnd.plotly.v1+json": {
       "config": {
        "plotlyServerURL": "https://plot.ly"
       },
       "data": [
        {
         "customdata": [
          [
           "Canvas",
           "art"
          ],
          [
           "Palette",
           "art"
          ],
          [
           "Sculpture",
           "art"
          ],
          [
           "Mural",
           "art"
          ],
          [
           "Abstract",
           "art"
          ],
          [
           "Impressionism",
           "art"
          ],
          [
           "Gallery",
           "art"
          ],
          [
           "Fresco",
           "art"
          ],
          [
           "Landscape",
           "art"
          ],
          [
           "Portrait",
           "art"
          ],
          [
           "Cubism",
           "art"
          ],
          [
           "Watercolor",
           "art"
          ],
          [
           "Expressionism",
           "art"
          ],
          [
           "Aesthetic",
           "art"
          ],
          [
           "Sketch",
           "art"
          ],
          [
           "Acrylic",
           "art"
          ],
          [
           "Installation",
           "art"
          ],
          [
           "Surrealism",
           "art"
          ],
          [
           "Brushstroke",
           "art"
          ],
          [
           "Perspective",
           "art"
          ]
         ],
         "hovertemplate": "word=%{customdata[0]}<extra></extra>",
         "legendgroup": "art",
         "marker": {
          "color": "#636efa",
          "symbol": "circle"
         },
         "mode": "markers",
         "name": "art",
         "scene": "scene",
         "showlegend": true,
         "type": "scatter3d",
         "x": [
          -2.0122191201125488,
          2.0227989197801475,
          0.20072231036028462,
          1.9405115890321534,
          -0.3605948386706731,
          0.5445657995572587,
          1.3733167735191962,
          0.7062016278122466,
          0.9001646217182319,
          1.6201787657631777,
          0.7679171258732417,
          0.5034221341832618,
          0.5181163003882606,
          -0.38116667135767157,
          -0.2930016741276782,
          -1.2128564785606089,
          0.09786314692529245,
          0.6092201308592539,
          0.8737151225492339,
          0.31533680675927594
         ],
         "y": [
          -0.8020459808647414,
          0.897264197552645,
          0.7328148254477366,
          0.30037388398668136,
          0.4100067987232869,
          -0.18688351484267685,
          0.2790563727878969,
          -0.9299510480574479,
          -0.275198918380498,
          1.0464867759441356,
          1.7316924930479207,
          1.8930965064101455,
          2.051455161029687,
          -1.514659926652678,
          2.2798570667309486,
          0.6779983680794339,
          0.5440025834013603,
          -0.8385902857769433,
          -0.9390871242854983,
          -2.105459522733274
         ],
         "z": [
          2.4005357507420295,
          -0.005843304549272498,
          0.7033213839306146,
          -1.7229780277786622,
          -1.1014629075378624,
          -0.3245690072368622,
          0.8029231660204865,
          -0.33652122108764687,
          0.45232489306413776,
          1.5758329950378915,
          -0.2727760805501289,
          0.07782219240621982,
          -0.6193902822228827,
          -0.8265619889698161,
          1.0857922271557223,
          0.27702575658596335,
          0.9742382312150659,
          0.6555125285274763,
          1.3208524328878197,
          0.5041178197508711
         ]
        },
        {
         "customdata": [
          [
           "Diagnosis",
           "medicine"
          ],
          [
           "Antibiotic",
           "medicine"
          ],
          [
           "Surgery",
           "medicine"
          ],
          [
           "Vaccine",
           "medicine"
          ],
          [
           "Oncology",
           "medicine"
          ],
          [
           "Cardiology",
           "medicine"
          ],
          [
           "Neurology",
           "medicine"
          ],
          [
           "Therapy",
           "medicine"
          ],
          [
           "Radiology",
           "medicine"
          ],
          [
           "Anesthesia",
           "medicine"
          ],
          [
           "Hematology",
           "medicine"
          ],
          [
           "Pathology",
           "medicine"
          ],
          [
           "Dermatology",
           "medicine"
          ],
          [
           "Pharmacology",
           "medicine"
          ],
          [
           "Biopsy",
           "medicine"
          ],
          [
           "Immunology",
           "medicine"
          ],
          [
           "Endocrinology",
           "medicine"
          ],
          [
           "Pediatrics",
           "medicine"
          ],
          [
           "Psychiatry",
           "medicine"
          ],
          [
           "Epidemiology",
           "medicine"
          ]
         ],
         "hovertemplate": "word=%{customdata[0]}<extra></extra>",
         "legendgroup": "medicine",
         "marker": {
          "color": "#EF553B",
          "symbol": "circle"
         },
         "mode": "markers",
         "name": "medicine",
         "scene": "scene",
         "showlegend": true,
         "type": "scatter3d",
         "x": [
          -0.24010267578968214,
          -0.14312117883668943,
          0.4005629707482696,
          -0.2753686746816795,
          0.23011064277028243,
          0.11549614637129098,
          -1.1305691478126152,
          -0.148998845318689,
          -0.28418517440467883,
          -1.371553473574597,
          0.5210551336292605,
          0.2800708078672787,
          0.462278468809265,
          0.979513119225226,
          -0.7984809915796401,
          -1.248122477452606,
          1.5437691014971833,
          2.066881418395144,
          -0.4957811677566629,
          0.7532229596682428
         ],
         "y": [
          -0.09247739381948872,
          -0.13206705747437403,
          -0.7076398598415533,
          -0.32392465826343375,
          0.4891861260330576,
          -0.6680501961866679,
          0.5013675610037914,
          1.4819730761478747,
          -0.12902169873169053,
          -1.5359774378514621,
          -0.5218729765378606,
          0.8942188388099614,
          -0.9543139179989159,
          -1.1309447250745583,
          -0.8264088508062094,
          -0.7563655997244891,
          -0.9482232005135488,
          -0.30565250580733294,
          0.5866376057989292,
          -0.4822833128829752
         ],
         "z": [
          0.3168664694219121,
          0.13359919037654797,
          -0.017795518400057123,
          0.6794169562290456,
          -1.9221815919584058,
          -1.360427540971529,
          2.045953406502086,
          0.27702575658596335,
          -1.0855266224034827,
          -1.264809830165252,
          -0.9102274859253082,
          1.097744441006507,
          -0.4679955734462776,
          -1.2528576163144673,
          -1.448077109210616,
          -1.3444912558371493,
          1.2332028646487325,
          0.15750361807811722,
          -0.6671991376260212,
          -0.6313424960736673
         ]
        },
        {
         "customdata": [
          [
           "Gastronomy",
           "food"
          ],
          [
           "Culinary",
           "food"
          ],
          [
           "Umami",
           "food"
          ],
          [
           "Gourmet",
           "food"
          ],
          [
           "Sauté",
           "food"
          ],
          [
           "Fermentation",
           "food"
          ],
          [
           "Organic",
           "food"
          ],
          [
           "Nutrition",
           "food"
          ],
          [
           "Appetizer",
           "food"
          ],
          [
           "Seasoning",
           "food"
          ],
          [
           "Marinade",
           "food"
          ],
          [
           "Probiotic",
           "food"
          ],
          [
           "Vegan",
           "food"
          ],
          [
           "Barbecue",
           "food"
          ],
          [
           "Aromatics",
           "food"
          ],
          [
           "Infusion",
           "food"
          ],
          [
           "Sous-vide",
           "food"
          ],
          [
           "Dessert",
           "food"
          ],
          [
           "Artisanal",
           "food"
          ],
          [
           "Palate",
           "food"
          ]
         ],
         "hovertemplate": "word=%{customdata[0]}<extra></extra>",
         "legendgroup": "food",
         "marker": {
          "color": "#00cc96",
          "symbol": "circle"
         },
         "mode": "markers",
         "name": "food",
         "scene": "scene",
         "showlegend": true,
         "type": "scatter3d",
         "x": [
          0.8237549574522376,
          -1.8799716242675588,
          -0.019690182714698794,
          0.03614764886429705,
          -0.6515393295296512,
          -0.892523655291633,
          -0.44288216941866687,
          -1.2246118115246079,
          0.1889669773962855,
          -1.647803798228576,
          -0.2783075079226793,
          -1.6331096320235772,
          -1.039465317341622,
          0.235988309252282,
          -2.0004637871485493,
          0.21247764332428376,
          -1.4332689716355922,
          -0.013812516232699232,
          1.3997662726881943,
          0.3094591402772764
         ],
         "y": [
          1.3479772914698014,
          -0.06811452387802079,
          0.47395933231964016,
          0.06588126080005273,
          -1.2832126622087325,
          -0.7076398598415533,
          -1.1553075950160263,
          2.468669308777325,
          -0.138157774959741,
          0.9064002737806954,
          -0.0985681113048557,
          -0.42442149677198887,
          1.2078907893063606,
          -0.8385902857769433,
          -0.19297423232804384,
          -0.6284605325317826,
          -1.066992191478205,
          -0.08638667633412174,
          0.891173480067278,
          -0.36351432191831917
         ],
         "z": [
          -1.113415121388647,
          -0.013811447116462249,
          1.412486072410502,
          0.29694611300393775,
          0.13359919037654797,
          0.12164697652576334,
          1.755116202799661,
          1.6355940642918148,
          -0.5118203575658212,
          1.253123221066707,
          0.6156718156915276,
          -0.10942915792273913,
          0.014077051868701878,
          -0.05763623123600582,
          -0.5516610704017699,
          -0.4201867180431391,
          -0.6671991376260212,
          -1.6592328872411441,
          -0.8265619889698161,
          -0.49588407243144167
         ]
        }
       ],
       "layout": {
        "legend": {
         "title": {
          "text": "category"
         },
         "tracegroupgap": 0
        },
        "scene": {
         "domain": {
          "x": [
           0,
           1
          ],
          "y": [
           0,
           1
          ]
         },
         "xaxis": {
          "title": {
           "text": "0"
          }
         },
         "yaxis": {
          "title": {
           "text": "4"
          }
         },
         "zaxis": {
          "title": {
           "text": "5"
          }
         }
        },
        "template": {
         "data": {
          "bar": [
           {
            "error_x": {
             "color": "#2a3f5f"
            },
            "error_y": {
             "color": "#2a3f5f"
            },
            "marker": {
             "line": {
              "color": "#E5ECF6",
              "width": 0.5
             },
             "pattern": {
              "fillmode": "overlay",
              "size": 10,
              "solidity": 0.2
             }
            },
            "type": "bar"
           }
          ],
          "barpolar": [
           {
            "marker": {
             "line": {
              "color": "#E5ECF6",
              "width": 0.5
             },
             "pattern": {
              "fillmode": "overlay",
              "size": 10,
              "solidity": 0.2
             }
            },
            "type": "barpolar"
           }
          ],
          "carpet": [
           {
            "aaxis": {
             "endlinecolor": "#2a3f5f",
             "gridcolor": "white",
             "linecolor": "white",
             "minorgridcolor": "white",
             "startlinecolor": "#2a3f5f"
            },
            "baxis": {
             "endlinecolor": "#2a3f5f",
             "gridcolor": "white",
             "linecolor": "white",
             "minorgridcolor": "white",
             "startlinecolor": "#2a3f5f"
            },
            "type": "carpet"
           }
          ],
          "choropleth": [
           {
            "colorbar": {
             "outlinewidth": 0,
             "ticks": ""
            },
            "type": "choropleth"
           }
          ],
          "contour": [
           {
            "colorbar": {
             "outlinewidth": 0,
             "ticks": ""
            },
            "colorscale": [
             [
              0,
              "#0d0887"
             ],
             [
              0.1111111111111111,
              "#46039f"
             ],
             [
              0.2222222222222222,
              "#7201a8"
             ],
             [
              0.3333333333333333,
              "#9c179e"
             ],
             [
              0.4444444444444444,
              "#bd3786"
             ],
             [
              0.5555555555555556,
              "#d8576b"
             ],
             [
              0.6666666666666666,
              "#ed7953"
             ],
             [
              0.7777777777777778,
              "#fb9f3a"
             ],
             [
              0.8888888888888888,
              "#fdca26"
             ],
             [
              1,
              "#f0f921"
             ]
            ],
            "type": "contour"
           }
          ],
          "contourcarpet": [
           {
            "colorbar": {
             "outlinewidth": 0,
             "ticks": ""
            },
            "type": "contourcarpet"
           }
          ],
          "heatmap": [
           {
            "colorbar": {
             "outlinewidth": 0,
             "ticks": ""
            },
            "colorscale": [
             [
              0,
              "#0d0887"
             ],
             [
              0.1111111111111111,
              "#46039f"
             ],
             [
              0.2222222222222222,
              "#7201a8"
             ],
             [
              0.3333333333333333,
              "#9c179e"
             ],
             [
              0.4444444444444444,
              "#bd3786"
             ],
             [
              0.5555555555555556,
              "#d8576b"
             ],
             [
              0.6666666666666666,
              "#ed7953"
             ],
             [
              0.7777777777777778,
              "#fb9f3a"
             ],
             [
              0.8888888888888888,
              "#fdca26"
             ],
             [
              1,
              "#f0f921"
             ]
            ],
            "type": "heatmap"
           }
          ],
          "heatmapgl": [
           {
            "colorbar": {
             "outlinewidth": 0,
             "ticks": ""
            },
            "colorscale": [
             [
              0,
              "#0d0887"
             ],
             [
              0.1111111111111111,
              "#46039f"
             ],
             [
              0.2222222222222222,
              "#7201a8"
             ],
             [
              0.3333333333333333,
              "#9c179e"
             ],
             [
              0.4444444444444444,
              "#bd3786"
             ],
             [
              0.5555555555555556,
              "#d8576b"
             ],
             [
              0.6666666666666666,
              "#ed7953"
             ],
             [
              0.7777777777777778,
              "#fb9f3a"
             ],
             [
              0.8888888888888888,
              "#fdca26"
             ],
             [
              1,
              "#f0f921"
             ]
            ],
            "type": "heatmapgl"
           }
          ],
          "histogram": [
           {
            "marker": {
             "pattern": {
              "fillmode": "overlay",
              "size": 10,
              "solidity": 0.2
             }
            },
            "type": "histogram"
           }
          ],
          "histogram2d": [
           {
            "colorbar": {
             "outlinewidth": 0,
             "ticks": ""
            },
            "colorscale": [
             [
              0,
              "#0d0887"
             ],
             [
              0.1111111111111111,
              "#46039f"
             ],
             [
              0.2222222222222222,
              "#7201a8"
             ],
             [
              0.3333333333333333,
              "#9c179e"
             ],
             [
              0.4444444444444444,
              "#bd3786"
             ],
             [
              0.5555555555555556,
              "#d8576b"
             ],
             [
              0.6666666666666666,
              "#ed7953"
             ],
             [
              0.7777777777777778,
              "#fb9f3a"
             ],
             [
              0.8888888888888888,
              "#fdca26"
             ],
             [
              1,
              "#f0f921"
             ]
            ],
            "type": "histogram2d"
           }
          ],
          "histogram2dcontour": [
           {
            "colorbar": {
             "outlinewidth": 0,
             "ticks": ""
            },
            "colorscale": [
             [
              0,
              "#0d0887"
             ],
             [
              0.1111111111111111,
              "#46039f"
             ],
             [
              0.2222222222222222,
              "#7201a8"
             ],
             [
              0.3333333333333333,
              "#9c179e"
             ],
             [
              0.4444444444444444,
              "#bd3786"
             ],
             [
              0.5555555555555556,
              "#d8576b"
             ],
             [
              0.6666666666666666,
              "#ed7953"
             ],
             [
              0.7777777777777778,
              "#fb9f3a"
             ],
             [
              0.8888888888888888,
              "#fdca26"
             ],
             [
              1,
              "#f0f921"
             ]
            ],
            "type": "histogram2dcontour"
           }
          ],
          "mesh3d": [
           {
            "colorbar": {
             "outlinewidth": 0,
             "ticks": ""
            },
            "type": "mesh3d"
           }
          ],
          "parcoords": [
           {
            "line": {
             "colorbar": {
              "outlinewidth": 0,
              "ticks": ""
             }
            },
            "type": "parcoords"
           }
          ],
          "pie": [
           {
            "automargin": true,
            "type": "pie"
           }
          ],
          "scatter": [
           {
            "fillpattern": {
             "fillmode": "overlay",
             "size": 10,
             "solidity": 0.2
            },
            "type": "scatter"
           }
          ],
          "scatter3d": [
           {
            "line": {
             "colorbar": {
              "outlinewidth": 0,
              "ticks": ""
             }
            },
            "marker": {
             "colorbar": {
              "outlinewidth": 0,
              "ticks": ""
             }
            },
            "type": "scatter3d"
           }
          ],
          "scattercarpet": [
           {
            "marker": {
             "colorbar": {
              "outlinewidth": 0,
              "ticks": ""
             }
            },
            "type": "scattercarpet"
           }
          ],
          "scattergeo": [
           {
            "marker": {
             "colorbar": {
              "outlinewidth": 0,
              "ticks": ""
             }
            },
            "type": "scattergeo"
           }
          ],
          "scattergl": [
           {
            "marker": {
             "colorbar": {
              "outlinewidth": 0,
              "ticks": ""
             }
            },
            "type": "scattergl"
           }
          ],
          "scattermapbox": [
           {
            "marker": {
             "colorbar": {
              "outlinewidth": 0,
              "ticks": ""
             }
            },
            "type": "scattermapbox"
           }
          ],
          "scatterpolar": [
           {
            "marker": {
             "colorbar": {
              "outlinewidth": 0,
              "ticks": ""
             }
            },
            "type": "scatterpolar"
           }
          ],
          "scatterpolargl": [
           {
            "marker": {
             "colorbar": {
              "outlinewidth": 0,
              "ticks": ""
             }
            },
            "type": "scatterpolargl"
           }
          ],
          "scatterternary": [
           {
            "marker": {
             "colorbar": {
              "outlinewidth": 0,
              "ticks": ""
             }
            },
            "type": "scatterternary"
           }
          ],
          "surface": [
           {
            "colorbar": {
             "outlinewidth": 0,
             "ticks": ""
            },
            "colorscale": [
             [
              0,
              "#0d0887"
             ],
             [
              0.1111111111111111,
              "#46039f"
             ],
             [
              0.2222222222222222,
              "#7201a8"
             ],
             [
              0.3333333333333333,
              "#9c179e"
             ],
             [
              0.4444444444444444,
              "#bd3786"
             ],
             [
              0.5555555555555556,
              "#d8576b"
             ],
             [
              0.6666666666666666,
              "#ed7953"
             ],
             [
              0.7777777777777778,
              "#fb9f3a"
             ],
             [
              0.8888888888888888,
              "#fdca26"
             ],
             [
              1,
              "#f0f921"
             ]
            ],
            "type": "surface"
           }
          ],
          "table": [
           {
            "cells": {
             "fill": {
              "color": "#EBF0F8"
             },
             "line": {
              "color": "white"
             }
            },
            "header": {
             "fill": {
              "color": "#C8D4E3"
             },
             "line": {
              "color": "white"
             }
            },
            "type": "table"
           }
          ]
         },
         "layout": {
          "annotationdefaults": {
           "arrowcolor": "#2a3f5f",
           "arrowhead": 0,
           "arrowwidth": 1
          },
          "autotypenumbers": "strict",
          "coloraxis": {
           "colorbar": {
            "outlinewidth": 0,
            "ticks": ""
           }
          },
          "colorscale": {
           "diverging": [
            [
             0,
             "#8e0152"
            ],
            [
             0.1,
             "#c51b7d"
            ],
            [
             0.2,
             "#de77ae"
            ],
            [
             0.3,
             "#f1b6da"
            ],
            [
             0.4,
             "#fde0ef"
            ],
            [
             0.5,
             "#f7f7f7"
            ],
            [
             0.6,
             "#e6f5d0"
            ],
            [
             0.7,
             "#b8e186"
            ],
            [
             0.8,
             "#7fbc41"
            ],
            [
             0.9,
             "#4d9221"
            ],
            [
             1,
             "#276419"
            ]
           ],
           "sequential": [
            [
             0,
             "#0d0887"
            ],
            [
             0.1111111111111111,
             "#46039f"
            ],
            [
             0.2222222222222222,
             "#7201a8"
            ],
            [
             0.3333333333333333,
             "#9c179e"
            ],
            [
             0.4444444444444444,
             "#bd3786"
            ],
            [
             0.5555555555555556,
             "#d8576b"
            ],
            [
             0.6666666666666666,
             "#ed7953"
            ],
            [
             0.7777777777777778,
             "#fb9f3a"
            ],
            [
             0.8888888888888888,
             "#fdca26"
            ],
            [
             1,
             "#f0f921"
            ]
           ],
           "sequentialminus": [
            [
             0,
             "#0d0887"
            ],
            [
             0.1111111111111111,
             "#46039f"
            ],
            [
             0.2222222222222222,
             "#7201a8"
            ],
            [
             0.3333333333333333,
             "#9c179e"
            ],
            [
             0.4444444444444444,
             "#bd3786"
            ],
            [
             0.5555555555555556,
             "#d8576b"
            ],
            [
             0.6666666666666666,
             "#ed7953"
            ],
            [
             0.7777777777777778,
             "#fb9f3a"
            ],
            [
             0.8888888888888888,
             "#fdca26"
            ],
            [
             1,
             "#f0f921"
            ]
           ]
          },
          "colorway": [
           "#636efa",
           "#EF553B",
           "#00cc96",
           "#ab63fa",
           "#FFA15A",
           "#19d3f3",
           "#FF6692",
           "#B6E880",
           "#FF97FF",
           "#FECB52"
          ],
          "font": {
           "color": "#2a3f5f"
          },
          "geo": {
           "bgcolor": "white",
           "lakecolor": "white",
           "landcolor": "#E5ECF6",
           "showlakes": true,
           "showland": true,
           "subunitcolor": "white"
          },
          "hoverlabel": {
           "align": "left"
          },
          "hovermode": "closest",
          "mapbox": {
           "style": "light"
          },
          "paper_bgcolor": "white",
          "plot_bgcolor": "#E5ECF6",
          "polar": {
           "angularaxis": {
            "gridcolor": "white",
            "linecolor": "white",
            "ticks": ""
           },
           "bgcolor": "#E5ECF6",
           "radialaxis": {
            "gridcolor": "white",
            "linecolor": "white",
            "ticks": ""
           }
          },
          "scene": {
           "xaxis": {
            "backgroundcolor": "#E5ECF6",
            "gridcolor": "white",
            "gridwidth": 2,
            "linecolor": "white",
            "showbackground": true,
            "ticks": "",
            "zerolinecolor": "white"
           },
           "yaxis": {
            "backgroundcolor": "#E5ECF6",
            "gridcolor": "white",
            "gridwidth": 2,
            "linecolor": "white",
            "showbackground": true,
            "ticks": "",
            "zerolinecolor": "white"
           },
           "zaxis": {
            "backgroundcolor": "#E5ECF6",
            "gridcolor": "white",
            "gridwidth": 2,
            "linecolor": "white",
            "showbackground": true,
            "ticks": "",
            "zerolinecolor": "white"
           }
          },
          "shapedefaults": {
           "line": {
            "color": "#2a3f5f"
           }
          },
          "ternary": {
           "aaxis": {
            "gridcolor": "white",
            "linecolor": "white",
            "ticks": ""
           },
           "baxis": {
            "gridcolor": "white",
            "linecolor": "white",
            "ticks": ""
           },
           "bgcolor": "#E5ECF6",
           "caxis": {
            "gridcolor": "white",
            "linecolor": "white",
            "ticks": ""
           }
          },
          "title": {
           "x": 0.05
          },
          "xaxis": {
           "automargin": true,
           "gridcolor": "white",
           "linecolor": "white",
           "ticks": "",
           "title": {
            "standoff": 15
           },
           "zerolinecolor": "white",
           "zerolinewidth": 2
          },
          "yaxis": {
           "automargin": true,
           "gridcolor": "white",
           "linecolor": "white",
           "ticks": "",
           "title": {
            "standoff": 15
           },
           "zerolinecolor": "white",
           "zerolinewidth": 2
          }
         }
        },
        "title": {
         "text": "Word Embeddings (GPT4)"
        }
       }
      }
     },
     "metadata": {},
     "output_type": "display_data"
    }
   ],
   "source": [
    "# plot results\n",
    "fig = px.scatter_3d(\n",
    "    gpt_df, x='0', y='4', z='5',\n",
    "    color='category',\n",
    "    title=f'Word Embeddings (GPT4)',\n",
    "    hover_data={'word': True, 'category': False, '0': False, '4': False, '5': False},\n",
    ")\n",
    "fig.show()"
   ]
  }
 ],
 "metadata": {
  "kernelspec": {
   "display_name": "Python 3.9.13 ('env')",
   "language": "python",
   "name": "python3"
  },
  "language_info": {
   "codemirror_mode": {
    "name": "ipython",
    "version": 3
   },
   "file_extension": ".py",
   "mimetype": "text/x-python",
   "name": "python",
   "nbconvert_exporter": "python",
   "pygments_lexer": "ipython3",
   "version": "3.9.13"
  },
  "vscode": {
   "interpreter": {
    "hash": "946d8ab810ccf0fda35d8421fe75059925cdc2acab76b2b4a2b82ec2be7a9b6e"
   }
  }
 },
 "nbformat": 4,
 "nbformat_minor": 2
}
