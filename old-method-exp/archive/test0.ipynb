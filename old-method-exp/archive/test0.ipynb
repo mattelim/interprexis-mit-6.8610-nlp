{
 "cells": [
  {
   "cell_type": "markdown",
   "metadata": {},
   "source": [
    "Installing an environment like conda is recommended. This notebook last ran on Python 3.8.18 without issues."
   ]
  },
  {
   "cell_type": "code",
   "execution_count": 2,
   "metadata": {},
   "outputs": [
    {
     "name": "stdout",
     "output_type": "stream",
     "text": [
      "Requirement already satisfied: accelerate in /Users/mattelim/miniforge3/envs/6861/lib/python3.8/site-packages (0.24.0)\n",
      "Requirement already satisfied: transformers in /Users/mattelim/miniforge3/envs/6861/lib/python3.8/site-packages (4.34.1)\n",
      "Requirement already satisfied: numpy>=1.17 in /Users/mattelim/miniforge3/envs/6861/lib/python3.8/site-packages (from accelerate) (1.24.4)\n",
      "Requirement already satisfied: packaging>=20.0 in /Users/mattelim/miniforge3/envs/6861/lib/python3.8/site-packages (from accelerate) (23.2)\n",
      "Requirement already satisfied: psutil in /Users/mattelim/miniforge3/envs/6861/lib/python3.8/site-packages (from accelerate) (5.9.5)\n",
      "Requirement already satisfied: pyyaml in /Users/mattelim/miniforge3/envs/6861/lib/python3.8/site-packages (from accelerate) (6.0.1)\n",
      "Requirement already satisfied: torch>=1.10.0 in /Users/mattelim/miniforge3/envs/6861/lib/python3.8/site-packages (from accelerate) (2.1.0)\n",
      "Requirement already satisfied: huggingface-hub in /Users/mattelim/miniforge3/envs/6861/lib/python3.8/site-packages (from accelerate) (0.17.3)\n",
      "Requirement already satisfied: filelock in /Users/mattelim/miniforge3/envs/6861/lib/python3.8/site-packages (from transformers) (3.13.0)\n",
      "Requirement already satisfied: regex!=2019.12.17 in /Users/mattelim/miniforge3/envs/6861/lib/python3.8/site-packages (from transformers) (2023.10.3)\n",
      "Requirement already satisfied: requests in /Users/mattelim/miniforge3/envs/6861/lib/python3.8/site-packages (from transformers) (2.31.0)\n",
      "Requirement already satisfied: tokenizers<0.15,>=0.14 in /Users/mattelim/miniforge3/envs/6861/lib/python3.8/site-packages (from transformers) (0.14.1)\n",
      "Requirement already satisfied: safetensors>=0.3.1 in /Users/mattelim/miniforge3/envs/6861/lib/python3.8/site-packages (from transformers) (0.4.0)\n",
      "Requirement already satisfied: tqdm>=4.27 in /Users/mattelim/miniforge3/envs/6861/lib/python3.8/site-packages (from transformers) (4.66.1)\n",
      "Requirement already satisfied: fsspec in /Users/mattelim/miniforge3/envs/6861/lib/python3.8/site-packages (from huggingface-hub->accelerate) (2023.10.0)\n",
      "Requirement already satisfied: typing-extensions>=3.7.4.3 in /Users/mattelim/miniforge3/envs/6861/lib/python3.8/site-packages (from huggingface-hub->accelerate) (4.8.0)\n",
      "Requirement already satisfied: sympy in /Users/mattelim/miniforge3/envs/6861/lib/python3.8/site-packages (from torch>=1.10.0->accelerate) (1.12)\n",
      "Requirement already satisfied: networkx in /Users/mattelim/miniforge3/envs/6861/lib/python3.8/site-packages (from torch>=1.10.0->accelerate) (2.8.8)\n",
      "Requirement already satisfied: jinja2 in /Users/mattelim/miniforge3/envs/6861/lib/python3.8/site-packages (from torch>=1.10.0->accelerate) (3.1.2)\n",
      "Requirement already satisfied: charset-normalizer<4,>=2 in /Users/mattelim/miniforge3/envs/6861/lib/python3.8/site-packages (from requests->transformers) (3.3.1)\n",
      "Requirement already satisfied: idna<4,>=2.5 in /Users/mattelim/miniforge3/envs/6861/lib/python3.8/site-packages (from requests->transformers) (3.4)\n",
      "Requirement already satisfied: urllib3<3,>=1.21.1 in /Users/mattelim/miniforge3/envs/6861/lib/python3.8/site-packages (from requests->transformers) (2.0.7)\n",
      "Requirement already satisfied: certifi>=2017.4.17 in /Users/mattelim/miniforge3/envs/6861/lib/python3.8/site-packages (from requests->transformers) (2023.7.22)\n",
      "Requirement already satisfied: MarkupSafe>=2.0 in /Users/mattelim/miniforge3/envs/6861/lib/python3.8/site-packages (from jinja2->torch>=1.10.0->accelerate) (2.1.3)\n",
      "Requirement already satisfied: mpmath>=0.19 in /Users/mattelim/miniforge3/envs/6861/lib/python3.8/site-packages (from sympy->torch>=1.10.0->accelerate) (1.3.0)\n"
     ]
    }
   ],
   "source": [
    "!pip install --upgrade accelerate transformers"
   ]
  },
  {
   "cell_type": "code",
   "execution_count": 3,
   "metadata": {},
   "outputs": [
    {
     "name": "stderr",
     "output_type": "stream",
     "text": [
      "/Users/mattelim/miniforge3/envs/6861/lib/python3.8/site-packages/tqdm/auto.py:21: TqdmWarning: IProgress not found. Please update jupyter and ipywidgets. See https://ipywidgets.readthedocs.io/en/stable/user_install.html\n",
      "  from .autonotebook import tqdm as notebook_tqdm\n",
      "Downloading (…)okenizer_config.json: 100%|██████████| 28.0/28.0 [00:00<00:00, 17.5kB/s]\n",
      "Downloading (…)lve/main/config.json: 100%|██████████| 483/483 [00:00<00:00, 540kB/s]\n",
      "Downloading (…)solve/main/vocab.txt: 100%|██████████| 232k/232k [00:00<00:00, 4.79MB/s]\n",
      "Downloading (…)/main/tokenizer.json: 100%|██████████| 466k/466k [00:00<00:00, 10.5MB/s]\n",
      "Downloading model.safetensors: 100%|██████████| 268M/268M [00:15<00:00, 17.5MB/s] \n"
     ]
    }
   ],
   "source": [
    "from transformers import AutoTokenizer, DistilBertModel\n",
    "import torch\n",
    "\n",
    "tokenizer = AutoTokenizer.from_pretrained(\"distilbert-base-uncased\")\n",
    "model = DistilBertModel.from_pretrained(\"distilbert-base-uncased\")"
   ]
  },
  {
   "cell_type": "code",
   "execution_count": 41,
   "metadata": {},
   "outputs": [],
   "source": [
    "inputs = tokenizer(\"We can fish in this tuna factory. On my boat, we can fish with rods. We can buy fish at the market.\", return_tensors=\"pt\")\n",
    "outputs = model(**inputs)\n",
    "\n",
    "last_hidden_states = outputs.last_hidden_state"
   ]
  },
  {
   "cell_type": "code",
   "execution_count": 42,
   "metadata": {},
   "outputs": [
    {
     "name": "stdout",
     "output_type": "stream",
     "text": [
      "{'input_ids': tensor([[  101,  2057,  2064,  3869,  1999,  2023, 24799,  4713,  1012,  2006,\n",
      "          2026,  4049,  1010,  2057,  2064,  3869,  2007, 19485,  1012,  2057,\n",
      "          2064,  4965,  3869,  2012,  1996,  3006,  1012,   102]]), 'attention_mask': tensor([[1, 1, 1, 1, 1, 1, 1, 1, 1, 1, 1, 1, 1, 1, 1, 1, 1, 1, 1, 1, 1, 1, 1, 1,\n",
      "         1, 1, 1, 1]])}\n",
      "BaseModelOutput(last_hidden_state=tensor([[[ 0.3900, -0.1034, -0.0069,  ..., -0.1726,  0.6129,  0.1126],\n",
      "         [ 0.5231, -0.2701, -0.4278,  ...,  0.0057,  1.2746, -0.3986],\n",
      "         [ 0.6302,  0.1093,  0.0641,  ..., -0.5545,  0.3978,  0.0500],\n",
      "         ...,\n",
      "         [ 0.5518, -0.3305,  0.2988,  ..., -0.0380,  0.1218, -0.7721],\n",
      "         [ 0.7416, -0.2597, -0.3573,  ...,  0.1659, -0.0477, -0.6666],\n",
      "         [ 0.5474,  0.1444,  0.1064,  ..., -0.1008,  0.1836, -0.4818]]],\n",
      "       grad_fn=<NativeLayerNormBackward0>), hidden_states=None, attentions=None)\n",
      "torch.Size([1, 28, 768])\n"
     ]
    }
   ],
   "source": [
    "print(inputs)\n",
    "print(outputs)\n",
    "print(last_hidden_states.shape)   # last_hidden_states = outputs.last_hidden_state"
   ]
  },
  {
   "cell_type": "code",
   "execution_count": 43,
   "metadata": {},
   "outputs": [
    {
     "name": "stdout",
     "output_type": "stream",
     "text": [
      "Length of inputs string:  torch.Size([1, 28])\n",
      "0: 101: [CLS]\n",
      "1: 2057: we\n",
      "2: 2064: can\n",
      "3: 3869: fish\n",
      "4: 1999: in\n",
      "5: 2023: this\n",
      "6: 24799: tuna\n",
      "7: 4713: factory\n",
      "8: 1012: .\n",
      "9: 2006: on\n",
      "10: 2026: my\n",
      "11: 4049: boat\n",
      "12: 1010: ,\n",
      "13: 2057: we\n",
      "14: 2064: can\n",
      "15: 3869: fish\n",
      "16: 2007: with\n",
      "17: 19485: rods\n",
      "18: 1012: .\n",
      "19: 2057: we\n",
      "20: 2064: can\n",
      "21: 4965: buy\n",
      "22: 3869: fish\n",
      "23: 2012: at\n",
      "24: 1996: the\n",
      "25: 3006: market\n",
      "26: 1012: .\n",
      "27: 102: [SEP]\n"
     ]
    }
   ],
   "source": [
    "print(\"Length of inputs string: \", inputs['input_ids'].shape)\n",
    "\n",
    "# print index, token, and matching token id\n",
    "for i in range(len(inputs['input_ids'][0])):\n",
    "    print(f'{i}: {inputs[\"input_ids\"][0][i]}: {tokenizer.decode([inputs[\"input_ids\"][0][i]])}')"
   ]
  },
  {
   "cell_type": "code",
   "execution_count": 40,
   "metadata": {},
   "outputs": [],
   "source": [
    "# Assert that the token input id is equal to \"can\"\n",
    "assert inputs[\"input_ids\"][0][2] == tokenizer.encode(\"can\", add_special_tokens=False)[0]  # verb\n",
    "assert inputs[\"input_ids\"][0][14] == tokenizer.encode(\"can\", add_special_tokens=False)[0]   # modal\n",
    "assert inputs[\"input_ids\"][0][20] == tokenizer.encode(\"can\", add_special_tokens=False)[0]   # modal\n",
    "\n",
    "# Assert that the token input id is equal to \"fish\"\n",
    "assert inputs[\"input_ids\"][0][3] == tokenizer.encode(\"fish\", add_special_tokens=False)[0] # noun\n",
    "assert inputs[\"input_ids\"][0][15] == tokenizer.encode(\"fish\", add_special_tokens=False)[0] # verb\n",
    "assert inputs[\"input_ids\"][0][22] == tokenizer.encode(\"fish\", add_special_tokens=False)[0]  # noun"
   ]
  },
  {
   "cell_type": "code",
   "execution_count": 54,
   "metadata": {},
   "outputs": [
    {
     "name": "stdout",
     "output_type": "stream",
     "text": [
      "Cos similarity, verb, modal:  tensor(0.9615, grad_fn=<SumBackward1>)\n",
      "Cos similarity, modal, modal:  tensor(0.9690, grad_fn=<SumBackward1>)\n",
      "Cos similarity, verb, modal:  tensor(0.9540, grad_fn=<SumBackward1>)\n",
      "Hypothesis is true\n"
     ]
    }
   ],
   "source": [
    "# Compare the last hidden state of the first two \"can\" tokens by subtracting the second one from the first one\n",
    "# difference1_can = last_hidden_states[0][2] - last_hidden_states[0][14]\n",
    "# print(difference1_can.shape)\n",
    "# print(difference1_can[0:5])  # print first 5 elements\n",
    "\n",
    "# Compare the last hidden state of the second and third \"can\" tokens by subtraction\n",
    "# difference2_can = last_hidden_states[0][14] - last_hidden_states[0][20]\n",
    "# print(difference2_can.shape)\n",
    "# print(difference2_can[0:5])  # print first 5 elements\n",
    "\n",
    "cos = torch.nn.CosineSimilarity(dim=0, eps=1e-6)\n",
    "# Cosine similarity between the 1st and 2nd \"can\" tokens\n",
    "cos_sim_can1 = cos(last_hidden_states[0][2], last_hidden_states[0][14])\n",
    "print(\"Cos similarity, verb, modal1: \", cos_sim_can1)\n",
    "\n",
    "# Cosine similarity between the 2nd and 3rd \"can\" tokens\n",
    "cos_sim_can2 = cos(last_hidden_states[0][14], last_hidden_states[0][20])\n",
    "print(\"Cos similarity, modal1, modal2: \", cos_sim_can2)\n",
    "\n",
    "# Cosine similarity between the 1nd and 3rd \"can\" tokens\n",
    "cos_sim_can3 = cos(last_hidden_states[0][2], last_hidden_states[0][20])\n",
    "print(\"Cos similarity, verb, modal2: \", cos_sim_can3)\n",
    "\n",
    "# The cosine similarity between the 1st and 2nd \"can\" tokens should be less than that of the 2nd and 3rd \"can\" tokens\n",
    "if cos_sim_can1 < cos_sim_can2:\n",
    "  print(\"Hypothesis is true\")\n",
    "else:\n",
    "  print(\"Hypothesis is false\")"
   ]
  },
  {
   "cell_type": "code",
   "execution_count": 55,
   "metadata": {},
   "outputs": [
    {
     "name": "stdout",
     "output_type": "stream",
     "text": [
      "Cos similarity, noun1, verb:  tensor(0.9604, grad_fn=<SumBackward1>)\n",
      "Cos similarity, verb, noun2:  tensor(0.8949, grad_fn=<SumBackward1>)\n",
      "Cos similarity, noun1, noun2:  tensor(0.8968, grad_fn=<SumBackward1>)\n",
      "Hypothesis is false, suggesting that the model thinks that the first 2 'fish' are verbs.\n"
     ]
    }
   ],
   "source": [
    "# Compare the last hidden state of the two \"can\" tokens by subtracting the second one from the first one\n",
    "# difference_fish = last_hidden_states[0][3] - last_hidden_states[0][15]\n",
    "# print(difference_fish.shape)\n",
    "# print(difference_fish[0:5])  # print first 5 elements\n",
    "\n",
    "# Cosine similarity between the 1st and 2nd \"fish\" tokens\n",
    "cos_sim_fish1 = cos(last_hidden_states[0][3], last_hidden_states[0][15])\n",
    "print(\"Cos similarity, noun1, verb: \", cos_sim_fish1)\n",
    "\n",
    "# Cosine similarity between the 2st and 3rd \"fish\" tokens\n",
    "cos_sim_fish2 = cos(last_hidden_states[0][15], last_hidden_states[0][22])\n",
    "print(\"Cos similarity, verb, noun2: \", cos_sim_fish2)\n",
    "\n",
    "# Cosine similarity between the 1st and 3rd \"fish\" tokens\n",
    "cos_sim_fish3 = cos(last_hidden_states[0][3], last_hidden_states[0][22])\n",
    "print(\"Cos similarity, noun1, noun2: \", cos_sim_fish3)\n",
    "\n",
    "# The cosine similarity between the 1st and 2nd \"fish\" tokens should be less than that of the 1st and 3rd \"fish\" tokens\n",
    "if cos_sim_fish1 < cos_sim_fish3:\n",
    "  print(\"Hypothesis is true\")\n",
    "else:\n",
    "  print(\"Hypothesis is false, suggesting that the model thinks that the first 2 'fish' are verbs.\")"
   ]
  },
  {
   "cell_type": "code",
   "execution_count": null,
   "metadata": {},
   "outputs": [],
   "source": []
  }
 ],
 "metadata": {
  "kernelspec": {
   "display_name": "6861",
   "language": "python",
   "name": "python3"
  },
  "language_info": {
   "codemirror_mode": {
    "name": "ipython",
    "version": 3
   },
   "file_extension": ".py",
   "mimetype": "text/x-python",
   "name": "python",
   "nbconvert_exporter": "python",
   "pygments_lexer": "ipython3",
   "version": "3.8.18"
  }
 },
 "nbformat": 4,
 "nbformat_minor": 2
}
