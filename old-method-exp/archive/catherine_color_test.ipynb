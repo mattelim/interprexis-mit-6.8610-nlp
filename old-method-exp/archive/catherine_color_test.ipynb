{
 "cells": [
  {
   "cell_type": "markdown",
   "metadata": {},
   "source": [
    "## setup"
   ]
  },
  {
   "cell_type": "code",
   "execution_count": 1,
   "metadata": {},
   "outputs": [],
   "source": [
    "import umap"
   ]
  },
  {
   "cell_type": "code",
   "execution_count": 2,
   "metadata": {},
   "outputs": [
    {
     "name": "stderr",
     "output_type": "stream",
     "text": [
      "Some weights of the model checkpoint at distilbert-base-uncased were not used when initializing DistilBertModel: ['vocab_projector.bias', 'vocab_transform.weight', 'vocab_layer_norm.weight', 'vocab_layer_norm.bias', 'vocab_transform.bias', 'vocab_projector.weight']\n",
      "- This IS expected if you are initializing DistilBertModel from the checkpoint of a model trained on another task or with another architecture (e.g. initializing a BertForSequenceClassification model from a BertForPreTraining model).\n",
      "- This IS NOT expected if you are initializing DistilBertModel from the checkpoint of a model that you expect to be exactly identical (initializing a BertForSequenceClassification model from a BertForSequenceClassification model).\n"
     ]
    }
   ],
   "source": [
    "from transformers import AutoTokenizer, DistilBertModel\n",
    "import torch\n",
    "import pandas as pd\n",
    "import numpy as np\n",
    "from sklearn.decomposition import PCA\n",
    "import matplotlib.pyplot as plt\n",
    "import plotly.express as px\n",
    "\n",
    "# https://huggingface.co/distilbert-base-uncased\n",
    "# https://huggingface.co/docs/transformers/v4.35.0/en/model_doc/distilbert\n",
    "tokenizer = AutoTokenizer.from_pretrained(\"distilbert-base-uncased\")\n",
    "model = DistilBertModel.from_pretrained(\"distilbert-base-uncased\")"
   ]
  },
  {
   "cell_type": "code",
   "execution_count": 3,
   "metadata": {},
   "outputs": [],
   "source": [
    "# create embeddings\n",
    "\n",
    "def get_embeddings(tokenizer, model, words):\n",
    "    # get embedding for each class\n",
    "    # ❗️ note: I am averaging the embeddings for each word in the class\n",
    "    # ❓ question: are we interested in the final contextual embedding for each class? currently, we're looking at the final hidden state.\n",
    "    embeddings = []\n",
    "    for i in range(len(words)):\n",
    "        input_ids = torch.tensor(tokenizer.encode(words[i])).unsqueeze(0)\n",
    "        outputs = model(input_ids)\n",
    "        last_hidden_states = outputs[0]\n",
    "        # skip the first token, which is the [CLS] token, and skip the last token, which is the [SEP] token\n",
    "        # average the rest of the tokens\n",
    "        embeddings.append(last_hidden_states[0][1:-1].mean(dim=0).tolist())\n",
    "    return embeddings"
   ]
  },
  {
   "cell_type": "code",
   "execution_count": 4,
   "metadata": {},
   "outputs": [],
   "source": [
    "# convert embeddings to df and save as csv\n",
    "def process_embeddings(words, embeddings):\n",
    "    # round to 3 decimal places\n",
    "    # embeddings = [list(np.around(np.array(e),3)) for e in embeddings]\n",
    "\n",
    "    # convert embeddings to pandas dataframe\n",
    "    df = pd.DataFrame(embeddings)\n",
    "    df.insert(0, 'word', words)\n",
    "\n",
    "    return df"
   ]
  },
  {
   "cell_type": "markdown",
   "metadata": {},
   "source": [
    "## hex colors"
   ]
  },
  {
   "cell_type": "code",
   "execution_count": 5,
   "metadata": {},
   "outputs": [],
   "source": [
    "# hex color list\n",
    "hex_colors = [\n",
    "    '#016B75', '#319C04', '#4D1630', '#A1BF45', '#B75DC2', '#9FB278', '#B1A35F', '#17FCA4', '#C1EA3F', '#5B76FD', \n",
    "    '#AEB607', '#B71F50', '#AFD624', '#CEA521', '#C64073', '#01C59A', '#B847A6', '#AFE746', '#6DFE18', '#DAF20C', \n",
    "    '#819DBC', '#209E63', '#958DEB', '#A05248', '#60FC17', '#219E8A', '#F9B6A3', '#7D296F', '#613298', '#2058C9', \n",
    "    '#7650C1', '#16845F', '#5931AD', '#F6985E', '#62D81F', '#0391EA', '#5E10AF', '#4EFA57', '#5DC76E', '#6A9382', \n",
    "    '#7ADB3F', '#A903DF', '#1D398C', '#A75C9B', '#3FC60D', '#67DEB5', '#C7D4FE', '#29364B', '#D64B9C', '#FD12E7', \n",
    "    '#34FDAB', '#E90D12', '#BD76E4', '#96A2B5', '#E1B7F2', '#A8B6DF', '#DE825C', '#3086B9', '#F529AB', '#54F3EC', \n",
    "    '#74FAC8', '#FA839E', '#BA8562', '#F920BE', '#20973F', '#DAC279', '#A97C02', '#69B4F1', '#BF934D', '#15C290', \n",
    "    '#24AD70', '#08CE7F', '#1698F5', '#75B6EF', '#C462BD', '#1045EC', '#891B30', '#752A31', '#83D175', '#9B6580', \n",
    "    '#5F6AEC', '#38C7FD', '#E9D763', '#7E432F', '#72E8C3', '#F84071', '#C3A5E4', '#3C7654', '#C05D28', '#267F5C', \n",
    "    '#CB1865', '#CF9514', '#923E6B', '#42D56C', '#76F2BD', '#E7029A', '#8F49C3', '#A6D253', '#1F0B82', '#1AC9B3'\n",
    "]\n"
   ]
  },
  {
   "cell_type": "code",
   "execution_count": 6,
   "metadata": {},
   "outputs": [
    {
     "data": {
      "text/plain": [
       "100"
      ]
     },
     "execution_count": 6,
     "metadata": {},
     "output_type": "execute_result"
    }
   ],
   "source": [
    "# sanity check\n",
    "len(hex_colors)"
   ]
  },
  {
   "cell_type": "code",
   "execution_count": 7,
   "metadata": {},
   "outputs": [
    {
     "data": {
      "text/html": [
       "<div>\n",
       "<style scoped>\n",
       "    .dataframe tbody tr th:only-of-type {\n",
       "        vertical-align: middle;\n",
       "    }\n",
       "\n",
       "    .dataframe tbody tr th {\n",
       "        vertical-align: top;\n",
       "    }\n",
       "\n",
       "    .dataframe thead th {\n",
       "        text-align: right;\n",
       "    }\n",
       "</style>\n",
       "<table border=\"1\" class=\"dataframe\">\n",
       "  <thead>\n",
       "    <tr style=\"text-align: right;\">\n",
       "      <th></th>\n",
       "      <th>word</th>\n",
       "      <th>0</th>\n",
       "      <th>1</th>\n",
       "      <th>2</th>\n",
       "      <th>3</th>\n",
       "      <th>4</th>\n",
       "      <th>5</th>\n",
       "      <th>6</th>\n",
       "      <th>7</th>\n",
       "      <th>8</th>\n",
       "      <th>...</th>\n",
       "      <th>758</th>\n",
       "      <th>759</th>\n",
       "      <th>760</th>\n",
       "      <th>761</th>\n",
       "      <th>762</th>\n",
       "      <th>763</th>\n",
       "      <th>764</th>\n",
       "      <th>765</th>\n",
       "      <th>766</th>\n",
       "      <th>767</th>\n",
       "    </tr>\n",
       "  </thead>\n",
       "  <tbody>\n",
       "    <tr>\n",
       "      <th>0</th>\n",
       "      <td>#016B75</td>\n",
       "      <td>-0.041097</td>\n",
       "      <td>-0.060254</td>\n",
       "      <td>0.015227</td>\n",
       "      <td>-0.335000</td>\n",
       "      <td>0.472685</td>\n",
       "      <td>0.027859</td>\n",
       "      <td>-0.038826</td>\n",
       "      <td>0.167444</td>\n",
       "      <td>-0.329404</td>\n",
       "      <td>...</td>\n",
       "      <td>0.108277</td>\n",
       "      <td>0.139460</td>\n",
       "      <td>-0.233798</td>\n",
       "      <td>-0.478629</td>\n",
       "      <td>0.383578</td>\n",
       "      <td>-0.133250</td>\n",
       "      <td>0.017718</td>\n",
       "      <td>-0.139436</td>\n",
       "      <td>0.148138</td>\n",
       "      <td>-0.033521</td>\n",
       "    </tr>\n",
       "    <tr>\n",
       "      <th>1</th>\n",
       "      <td>#319C04</td>\n",
       "      <td>-0.033801</td>\n",
       "      <td>-0.166829</td>\n",
       "      <td>0.371787</td>\n",
       "      <td>-0.261019</td>\n",
       "      <td>0.449360</td>\n",
       "      <td>0.068444</td>\n",
       "      <td>-0.087322</td>\n",
       "      <td>0.293612</td>\n",
       "      <td>-0.423338</td>\n",
       "      <td>...</td>\n",
       "      <td>0.123100</td>\n",
       "      <td>0.166820</td>\n",
       "      <td>-0.065852</td>\n",
       "      <td>-0.540716</td>\n",
       "      <td>0.140492</td>\n",
       "      <td>-0.099883</td>\n",
       "      <td>0.144653</td>\n",
       "      <td>-0.149762</td>\n",
       "      <td>0.159682</td>\n",
       "      <td>0.104678</td>\n",
       "    </tr>\n",
       "    <tr>\n",
       "      <th>2</th>\n",
       "      <td>#4D1630</td>\n",
       "      <td>-0.047302</td>\n",
       "      <td>-0.056122</td>\n",
       "      <td>0.258664</td>\n",
       "      <td>-0.035974</td>\n",
       "      <td>0.207901</td>\n",
       "      <td>0.120440</td>\n",
       "      <td>-0.078138</td>\n",
       "      <td>-0.110812</td>\n",
       "      <td>-0.256565</td>\n",
       "      <td>...</td>\n",
       "      <td>0.175543</td>\n",
       "      <td>0.175414</td>\n",
       "      <td>-0.193573</td>\n",
       "      <td>-0.381425</td>\n",
       "      <td>0.147723</td>\n",
       "      <td>-0.053388</td>\n",
       "      <td>0.128342</td>\n",
       "      <td>-0.074220</td>\n",
       "      <td>0.175073</td>\n",
       "      <td>0.086331</td>\n",
       "    </tr>\n",
       "    <tr>\n",
       "      <th>3</th>\n",
       "      <td>#A1BF45</td>\n",
       "      <td>0.003316</td>\n",
       "      <td>0.148153</td>\n",
       "      <td>0.124057</td>\n",
       "      <td>-0.252602</td>\n",
       "      <td>0.200356</td>\n",
       "      <td>0.198172</td>\n",
       "      <td>0.130850</td>\n",
       "      <td>-0.078454</td>\n",
       "      <td>-0.362433</td>\n",
       "      <td>...</td>\n",
       "      <td>0.162428</td>\n",
       "      <td>0.177945</td>\n",
       "      <td>0.019736</td>\n",
       "      <td>-0.172148</td>\n",
       "      <td>0.355101</td>\n",
       "      <td>-0.138481</td>\n",
       "      <td>-0.025503</td>\n",
       "      <td>-0.075893</td>\n",
       "      <td>0.052348</td>\n",
       "      <td>-0.048452</td>\n",
       "    </tr>\n",
       "    <tr>\n",
       "      <th>4</th>\n",
       "      <td>#B75DC2</td>\n",
       "      <td>0.039551</td>\n",
       "      <td>-0.145425</td>\n",
       "      <td>0.071734</td>\n",
       "      <td>-0.187510</td>\n",
       "      <td>0.266204</td>\n",
       "      <td>-0.126067</td>\n",
       "      <td>0.136231</td>\n",
       "      <td>0.035757</td>\n",
       "      <td>-0.347607</td>\n",
       "      <td>...</td>\n",
       "      <td>0.299077</td>\n",
       "      <td>0.241600</td>\n",
       "      <td>-0.142906</td>\n",
       "      <td>-0.412847</td>\n",
       "      <td>0.337690</td>\n",
       "      <td>-0.149937</td>\n",
       "      <td>0.065814</td>\n",
       "      <td>-0.151042</td>\n",
       "      <td>0.138075</td>\n",
       "      <td>0.107318</td>\n",
       "    </tr>\n",
       "  </tbody>\n",
       "</table>\n",
       "<p>5 rows × 769 columns</p>\n",
       "</div>"
      ],
      "text/plain": [
       "      word         0         1         2         3         4         5  \\\n",
       "0  #016B75 -0.041097 -0.060254  0.015227 -0.335000  0.472685  0.027859   \n",
       "1  #319C04 -0.033801 -0.166829  0.371787 -0.261019  0.449360  0.068444   \n",
       "2  #4D1630 -0.047302 -0.056122  0.258664 -0.035974  0.207901  0.120440   \n",
       "3  #A1BF45  0.003316  0.148153  0.124057 -0.252602  0.200356  0.198172   \n",
       "4  #B75DC2  0.039551 -0.145425  0.071734 -0.187510  0.266204 -0.126067   \n",
       "\n",
       "          6         7         8  ...       758       759       760       761  \\\n",
       "0 -0.038826  0.167444 -0.329404  ...  0.108277  0.139460 -0.233798 -0.478629   \n",
       "1 -0.087322  0.293612 -0.423338  ...  0.123100  0.166820 -0.065852 -0.540716   \n",
       "2 -0.078138 -0.110812 -0.256565  ...  0.175543  0.175414 -0.193573 -0.381425   \n",
       "3  0.130850 -0.078454 -0.362433  ...  0.162428  0.177945  0.019736 -0.172148   \n",
       "4  0.136231  0.035757 -0.347607  ...  0.299077  0.241600 -0.142906 -0.412847   \n",
       "\n",
       "        762       763       764       765       766       767  \n",
       "0  0.383578 -0.133250  0.017718 -0.139436  0.148138 -0.033521  \n",
       "1  0.140492 -0.099883  0.144653 -0.149762  0.159682  0.104678  \n",
       "2  0.147723 -0.053388  0.128342 -0.074220  0.175073  0.086331  \n",
       "3  0.355101 -0.138481 -0.025503 -0.075893  0.052348 -0.048452  \n",
       "4  0.337690 -0.149937  0.065814 -0.151042  0.138075  0.107318  \n",
       "\n",
       "[5 rows x 769 columns]"
      ]
     },
     "execution_count": 7,
     "metadata": {},
     "output_type": "execute_result"
    }
   ],
   "source": [
    "hex_embeddings = get_embeddings(tokenizer, model, hex_colors)\n",
    "hex_df = process_embeddings(hex_colors, hex_embeddings)\n",
    "\n",
    "# sanity check\n",
    "hex_df.head()"
   ]
  },
  {
   "cell_type": "code",
   "execution_count": 8,
   "metadata": {},
   "outputs": [],
   "source": [
    "# perform pca of hex colors (2d)\n",
    "pca = PCA(n_components=2)\n",
    "hex_pca = pca.fit_transform(hex_embeddings)\n"
   ]
  },
  {
   "cell_type": "code",
   "execution_count": 9,
   "metadata": {},
   "outputs": [],
   "source": [
    "# perform pca of hex colors (3d)\n",
    "pca3d = PCA(n_components=3)\n",
    "hex_pca3d = pca3d.fit_transform(hex_embeddings)\n"
   ]
  },
  {
   "cell_type": "code",
   "execution_count": 10,
   "metadata": {},
   "outputs": [
    {
     "data": {
      "application/vnd.plotly.v1+json": {
       "config": {
        "plotlyServerURL": "https://plot.ly"
       },
       "data": [
        {
         "hovertemplate": "hex color=#016B75<br>0=%{x}<br>1=%{y}<extra></extra>",
         "legendgroup": "#016B75",
         "marker": {
          "color": "#636efa",
          "symbol": "circle"
         },
         "mode": "markers",
         "name": "#016B75",
         "orientation": "v",
         "showlegend": true,
         "type": "scatter",
         "x": [
          -1.1740491763063323
         ],
         "xaxis": "x",
         "y": [
          0.7906352660712963
         ],
         "yaxis": "y"
        },
        {
         "hovertemplate": "hex color=#319C04<br>0=%{x}<br>1=%{y}<extra></extra>",
         "legendgroup": "#319C04",
         "marker": {
          "color": "#EF553B",
          "symbol": "circle"
         },
         "mode": "markers",
         "name": "#319C04",
         "orientation": "v",
         "showlegend": true,
         "type": "scatter",
         "x": [
          -0.21299401437508717
         ],
         "xaxis": "x",
         "y": [
          0.03213786197337379
         ],
         "yaxis": "y"
        },
        {
         "hovertemplate": "hex color=#4D1630<br>0=%{x}<br>1=%{y}<extra></extra>",
         "legendgroup": "#4D1630",
         "marker": {
          "color": "#00cc96",
          "symbol": "circle"
         },
         "mode": "markers",
         "name": "#4D1630",
         "orientation": "v",
         "showlegend": true,
         "type": "scatter",
         "x": [
          -0.33331079150333714
         ],
         "xaxis": "x",
         "y": [
          -0.6191883864688162
         ],
         "yaxis": "y"
        },
        {
         "hovertemplate": "hex color=#A1BF45<br>0=%{x}<br>1=%{y}<extra></extra>",
         "legendgroup": "#A1BF45",
         "marker": {
          "color": "#ab63fa",
          "symbol": "circle"
         },
         "mode": "markers",
         "name": "#A1BF45",
         "orientation": "v",
         "showlegend": true,
         "type": "scatter",
         "x": [
          -0.3462402098207916
         ],
         "xaxis": "x",
         "y": [
          -1.0409400605038877
         ],
         "yaxis": "y"
        },
        {
         "hovertemplate": "hex color=#B75DC2<br>0=%{x}<br>1=%{y}<extra></extra>",
         "legendgroup": "#B75DC2",
         "marker": {
          "color": "#FFA15A",
          "symbol": "circle"
         },
         "mode": "markers",
         "name": "#B75DC2",
         "orientation": "v",
         "showlegend": true,
         "type": "scatter",
         "x": [
          0.2982442081697002
         ],
         "xaxis": "x",
         "y": [
          0.038116163644096555
         ],
         "yaxis": "y"
        },
        {
         "hovertemplate": "hex color=#9FB278<br>0=%{x}<br>1=%{y}<extra></extra>",
         "legendgroup": "#9FB278",
         "marker": {
          "color": "#19d3f3",
          "symbol": "circle"
         },
         "mode": "markers",
         "name": "#9FB278",
         "orientation": "v",
         "showlegend": true,
         "type": "scatter",
         "x": [
          -0.97080951013053
         ],
         "xaxis": "x",
         "y": [
          -0.4138746857893664
         ],
         "yaxis": "y"
        },
        {
         "hovertemplate": "hex color=#B1A35F<br>0=%{x}<br>1=%{y}<extra></extra>",
         "legendgroup": "#B1A35F",
         "marker": {
          "color": "#FF6692",
          "symbol": "circle"
         },
         "mode": "markers",
         "name": "#B1A35F",
         "orientation": "v",
         "showlegend": true,
         "type": "scatter",
         "x": [
          0.5532977129685751
         ],
         "xaxis": "x",
         "y": [
          -0.6273220436702888
         ],
         "yaxis": "y"
        },
        {
         "hovertemplate": "hex color=#17FCA4<br>0=%{x}<br>1=%{y}<extra></extra>",
         "legendgroup": "#17FCA4",
         "marker": {
          "color": "#B6E880",
          "symbol": "circle"
         },
         "mode": "markers",
         "name": "#17FCA4",
         "orientation": "v",
         "showlegend": true,
         "type": "scatter",
         "x": [
          0.7519730036333404
         ],
         "xaxis": "x",
         "y": [
          -1.3378014035947685
         ],
         "yaxis": "y"
        },
        {
         "hovertemplate": "hex color=#C1EA3F<br>0=%{x}<br>1=%{y}<extra></extra>",
         "legendgroup": "#C1EA3F",
         "marker": {
          "color": "#FF97FF",
          "symbol": "circle"
         },
         "mode": "markers",
         "name": "#C1EA3F",
         "orientation": "v",
         "showlegend": true,
         "type": "scatter",
         "x": [
          1.446493230330384
         ],
         "xaxis": "x",
         "y": [
          -0.9214422990104534
         ],
         "yaxis": "y"
        },
        {
         "hovertemplate": "hex color=#5B76FD<br>0=%{x}<br>1=%{y}<extra></extra>",
         "legendgroup": "#5B76FD",
         "marker": {
          "color": "#FECB52",
          "symbol": "circle"
         },
         "mode": "markers",
         "name": "#5B76FD",
         "orientation": "v",
         "showlegend": true,
         "type": "scatter",
         "x": [
          1.0971936919918839
         ],
         "xaxis": "x",
         "y": [
          0.33535750226685535
         ],
         "yaxis": "y"
        },
        {
         "hovertemplate": "hex color=#AEB607<br>0=%{x}<br>1=%{y}<extra></extra>",
         "legendgroup": "#AEB607",
         "marker": {
          "color": "#636efa",
          "symbol": "circle"
         },
         "mode": "markers",
         "name": "#AEB607",
         "orientation": "v",
         "showlegend": true,
         "type": "scatter",
         "x": [
          -0.329905299496734
         ],
         "xaxis": "x",
         "y": [
          0.4798450972187571
         ],
         "yaxis": "y"
        },
        {
         "hovertemplate": "hex color=#B71F50<br>0=%{x}<br>1=%{y}<extra></extra>",
         "legendgroup": "#B71F50",
         "marker": {
          "color": "#EF553B",
          "symbol": "circle"
         },
         "mode": "markers",
         "name": "#B71F50",
         "orientation": "v",
         "showlegend": true,
         "type": "scatter",
         "x": [
          0.8653725884240675
         ],
         "xaxis": "x",
         "y": [
          0.7800836056767457
         ],
         "yaxis": "y"
        },
        {
         "hovertemplate": "hex color=#AFD624<br>0=%{x}<br>1=%{y}<extra></extra>",
         "legendgroup": "#AFD624",
         "marker": {
          "color": "#00cc96",
          "symbol": "circle"
         },
         "mode": "markers",
         "name": "#AFD624",
         "orientation": "v",
         "showlegend": true,
         "type": "scatter",
         "x": [
          -0.17384776477553823
         ],
         "xaxis": "x",
         "y": [
          0.07710408823861122
         ],
         "yaxis": "y"
        },
        {
         "hovertemplate": "hex color=#CEA521<br>0=%{x}<br>1=%{y}<extra></extra>",
         "legendgroup": "#CEA521",
         "marker": {
          "color": "#ab63fa",
          "symbol": "circle"
         },
         "mode": "markers",
         "name": "#CEA521",
         "orientation": "v",
         "showlegend": true,
         "type": "scatter",
         "x": [
          -0.0508582329034736
         ],
         "xaxis": "x",
         "y": [
          0.38992274549006906
         ],
         "yaxis": "y"
        },
        {
         "hovertemplate": "hex color=#C64073<br>0=%{x}<br>1=%{y}<extra></extra>",
         "legendgroup": "#C64073",
         "marker": {
          "color": "#FFA15A",
          "symbol": "circle"
         },
         "mode": "markers",
         "name": "#C64073",
         "orientation": "v",
         "showlegend": true,
         "type": "scatter",
         "x": [
          0.09268784278127813
         ],
         "xaxis": "x",
         "y": [
          2.35223140752916
         ],
         "yaxis": "y"
        },
        {
         "hovertemplate": "hex color=#01C59A<br>0=%{x}<br>1=%{y}<extra></extra>",
         "legendgroup": "#01C59A",
         "marker": {
          "color": "#19d3f3",
          "symbol": "circle"
         },
         "mode": "markers",
         "name": "#01C59A",
         "orientation": "v",
         "showlegend": true,
         "type": "scatter",
         "x": [
          -0.7382455047454426
         ],
         "xaxis": "x",
         "y": [
          -0.06423870744236099
         ],
         "yaxis": "y"
        },
        {
         "hovertemplate": "hex color=#B847A6<br>0=%{x}<br>1=%{y}<extra></extra>",
         "legendgroup": "#B847A6",
         "marker": {
          "color": "#FF6692",
          "symbol": "circle"
         },
         "mode": "markers",
         "name": "#B847A6",
         "orientation": "v",
         "showlegend": true,
         "type": "scatter",
         "x": [
          0.3398950303764839
         ],
         "xaxis": "x",
         "y": [
          1.6561478246934842
         ],
         "yaxis": "y"
        },
        {
         "hovertemplate": "hex color=#AFE746<br>0=%{x}<br>1=%{y}<extra></extra>",
         "legendgroup": "#AFE746",
         "marker": {
          "color": "#B6E880",
          "symbol": "circle"
         },
         "mode": "markers",
         "name": "#AFE746",
         "orientation": "v",
         "showlegend": true,
         "type": "scatter",
         "x": [
          -0.03077417501249409
         ],
         "xaxis": "x",
         "y": [
          0.30073614091362066
         ],
         "yaxis": "y"
        },
        {
         "hovertemplate": "hex color=#6DFE18<br>0=%{x}<br>1=%{y}<extra></extra>",
         "legendgroup": "#6DFE18",
         "marker": {
          "color": "#FF97FF",
          "symbol": "circle"
         },
         "mode": "markers",
         "name": "#6DFE18",
         "orientation": "v",
         "showlegend": true,
         "type": "scatter",
         "x": [
          0.13906125830321425
         ],
         "xaxis": "x",
         "y": [
          -1.8406752264545716
         ],
         "yaxis": "y"
        },
        {
         "hovertemplate": "hex color=#DAF20C<br>0=%{x}<br>1=%{y}<extra></extra>",
         "legendgroup": "#DAF20C",
         "marker": {
          "color": "#FECB52",
          "symbol": "circle"
         },
         "mode": "markers",
         "name": "#DAF20C",
         "orientation": "v",
         "showlegend": true,
         "type": "scatter",
         "x": [
          1.3307193284733225
         ],
         "xaxis": "x",
         "y": [
          -1.5479806825308395
         ],
         "yaxis": "y"
        },
        {
         "hovertemplate": "hex color=#819DBC<br>0=%{x}<br>1=%{y}<extra></extra>",
         "legendgroup": "#819DBC",
         "marker": {
          "color": "#636efa",
          "symbol": "circle"
         },
         "mode": "markers",
         "name": "#819DBC",
         "orientation": "v",
         "showlegend": true,
         "type": "scatter",
         "x": [
          -0.9728498071336756
         ],
         "xaxis": "x",
         "y": [
          0.028768809465926967
         ],
         "yaxis": "y"
        },
        {
         "hovertemplate": "hex color=#209E63<br>0=%{x}<br>1=%{y}<extra></extra>",
         "legendgroup": "#209E63",
         "marker": {
          "color": "#EF553B",
          "symbol": "circle"
         },
         "mode": "markers",
         "name": "#209E63",
         "orientation": "v",
         "showlegend": true,
         "type": "scatter",
         "x": [
          -1.1673954243287872
         ],
         "xaxis": "x",
         "y": [
          -0.028838354049540882
         ],
         "yaxis": "y"
        },
        {
         "hovertemplate": "hex color=#958DEB<br>0=%{x}<br>1=%{y}<extra></extra>",
         "legendgroup": "#958DEB",
         "marker": {
          "color": "#00cc96",
          "symbol": "circle"
         },
         "mode": "markers",
         "name": "#958DEB",
         "orientation": "v",
         "showlegend": true,
         "type": "scatter",
         "x": [
          -0.3062784031661125
         ],
         "xaxis": "x",
         "y": [
          -0.3482735397490424
         ],
         "yaxis": "y"
        },
        {
         "hovertemplate": "hex color=#A05248<br>0=%{x}<br>1=%{y}<extra></extra>",
         "legendgroup": "#A05248",
         "marker": {
          "color": "#ab63fa",
          "symbol": "circle"
         },
         "mode": "markers",
         "name": "#A05248",
         "orientation": "v",
         "showlegend": true,
         "type": "scatter",
         "x": [
          -1.0239367733139844
         ],
         "xaxis": "x",
         "y": [
          1.3325157810613975
         ],
         "yaxis": "y"
        },
        {
         "hovertemplate": "hex color=#60FC17<br>0=%{x}<br>1=%{y}<extra></extra>",
         "legendgroup": "#60FC17",
         "marker": {
          "color": "#FFA15A",
          "symbol": "circle"
         },
         "mode": "markers",
         "name": "#60FC17",
         "orientation": "v",
         "showlegend": true,
         "type": "scatter",
         "x": [
          -1.1015531553607385
         ],
         "xaxis": "x",
         "y": [
          -1.987747022356694
         ],
         "yaxis": "y"
        },
        {
         "hovertemplate": "hex color=#219E8A<br>0=%{x}<br>1=%{y}<extra></extra>",
         "legendgroup": "#219E8A",
         "marker": {
          "color": "#19d3f3",
          "symbol": "circle"
         },
         "mode": "markers",
         "name": "#219E8A",
         "orientation": "v",
         "showlegend": true,
         "type": "scatter",
         "x": [
          -0.17598653572831144
         ],
         "xaxis": "x",
         "y": [
          -0.3773981030095621
         ],
         "yaxis": "y"
        },
        {
         "hovertemplate": "hex color=#F9B6A3<br>0=%{x}<br>1=%{y}<extra></extra>",
         "legendgroup": "#F9B6A3",
         "marker": {
          "color": "#FF6692",
          "symbol": "circle"
         },
         "mode": "markers",
         "name": "#F9B6A3",
         "orientation": "v",
         "showlegend": true,
         "type": "scatter",
         "x": [
          1.8642978913689632
         ],
         "xaxis": "x",
         "y": [
          1.2528908719492284
         ],
         "yaxis": "y"
        },
        {
         "hovertemplate": "hex color=#7D296F<br>0=%{x}<br>1=%{y}<extra></extra>",
         "legendgroup": "#7D296F",
         "marker": {
          "color": "#B6E880",
          "symbol": "circle"
         },
         "mode": "markers",
         "name": "#7D296F",
         "orientation": "v",
         "showlegend": true,
         "type": "scatter",
         "x": [
          -0.05713265396719189
         ],
         "xaxis": "x",
         "y": [
          0.2072124127298203
         ],
         "yaxis": "y"
        },
        {
         "hovertemplate": "hex color=#613298<br>0=%{x}<br>1=%{y}<extra></extra>",
         "legendgroup": "#613298",
         "marker": {
          "color": "#FF97FF",
          "symbol": "circle"
         },
         "mode": "markers",
         "name": "#613298",
         "orientation": "v",
         "showlegend": true,
         "type": "scatter",
         "x": [
          -2.7501837558705824
         ],
         "xaxis": "x",
         "y": [
          1.8299846451542816
         ],
         "yaxis": "y"
        },
        {
         "hovertemplate": "hex color=#2058C9<br>0=%{x}<br>1=%{y}<extra></extra>",
         "legendgroup": "#2058C9",
         "marker": {
          "color": "#FECB52",
          "symbol": "circle"
         },
         "mode": "markers",
         "name": "#2058C9",
         "orientation": "v",
         "showlegend": true,
         "type": "scatter",
         "x": [
          -1.223885447443344
         ],
         "xaxis": "x",
         "y": [
          0.11260558470643374
         ],
         "yaxis": "y"
        },
        {
         "hovertemplate": "hex color=#7650C1<br>0=%{x}<br>1=%{y}<extra></extra>",
         "legendgroup": "#7650C1",
         "marker": {
          "color": "#636efa",
          "symbol": "circle"
         },
         "mode": "markers",
         "name": "#7650C1",
         "orientation": "v",
         "showlegend": true,
         "type": "scatter",
         "x": [
          -1.1609233537877006
         ],
         "xaxis": "x",
         "y": [
          0.3284307723904114
         ],
         "yaxis": "y"
        },
        {
         "hovertemplate": "hex color=#16845F<br>0=%{x}<br>1=%{y}<extra></extra>",
         "legendgroup": "#16845F",
         "marker": {
          "color": "#EF553B",
          "symbol": "circle"
         },
         "mode": "markers",
         "name": "#16845F",
         "orientation": "v",
         "showlegend": true,
         "type": "scatter",
         "x": [
          -1.0649243025718345
         ],
         "xaxis": "x",
         "y": [
          -1.5290663135284452
         ],
         "yaxis": "y"
        },
        {
         "hovertemplate": "hex color=#5931AD<br>0=%{x}<br>1=%{y}<extra></extra>",
         "legendgroup": "#5931AD",
         "marker": {
          "color": "#00cc96",
          "symbol": "circle"
         },
         "mode": "markers",
         "name": "#5931AD",
         "orientation": "v",
         "showlegend": true,
         "type": "scatter",
         "x": [
          -2.364913410560979
         ],
         "xaxis": "x",
         "y": [
          -0.4652590088643142
         ],
         "yaxis": "y"
        },
        {
         "hovertemplate": "hex color=#F6985E<br>0=%{x}<br>1=%{y}<extra></extra>",
         "legendgroup": "#F6985E",
         "marker": {
          "color": "#ab63fa",
          "symbol": "circle"
         },
         "mode": "markers",
         "name": "#F6985E",
         "orientation": "v",
         "showlegend": true,
         "type": "scatter",
         "x": [
          -0.23474461546223083
         ],
         "xaxis": "x",
         "y": [
          0.77196326941424
         ],
         "yaxis": "y"
        },
        {
         "hovertemplate": "hex color=#62D81F<br>0=%{x}<br>1=%{y}<extra></extra>",
         "legendgroup": "#62D81F",
         "marker": {
          "color": "#FFA15A",
          "symbol": "circle"
         },
         "mode": "markers",
         "name": "#62D81F",
         "orientation": "v",
         "showlegend": true,
         "type": "scatter",
         "x": [
          -0.48383502980731274
         ],
         "xaxis": "x",
         "y": [
          0.3036064482096143
         ],
         "yaxis": "y"
        },
        {
         "hovertemplate": "hex color=#0391EA<br>0=%{x}<br>1=%{y}<extra></extra>",
         "legendgroup": "#0391EA",
         "marker": {
          "color": "#19d3f3",
          "symbol": "circle"
         },
         "mode": "markers",
         "name": "#0391EA",
         "orientation": "v",
         "showlegend": true,
         "type": "scatter",
         "x": [
          -1.8981008485779136
         ],
         "xaxis": "x",
         "y": [
          0.3749275386016159
         ],
         "yaxis": "y"
        },
        {
         "hovertemplate": "hex color=#5E10AF<br>0=%{x}<br>1=%{y}<extra></extra>",
         "legendgroup": "#5E10AF",
         "marker": {
          "color": "#FF6692",
          "symbol": "circle"
         },
         "mode": "markers",
         "name": "#5E10AF",
         "orientation": "v",
         "showlegend": true,
         "type": "scatter",
         "x": [
          0.005704677376591753
         ],
         "xaxis": "x",
         "y": [
          -1.862864475601832
         ],
         "yaxis": "y"
        },
        {
         "hovertemplate": "hex color=#4EFA57<br>0=%{x}<br>1=%{y}<extra></extra>",
         "legendgroup": "#4EFA57",
         "marker": {
          "color": "#B6E880",
          "symbol": "circle"
         },
         "mode": "markers",
         "name": "#4EFA57",
         "orientation": "v",
         "showlegend": true,
         "type": "scatter",
         "x": [
          0.13614620719265275
         ],
         "xaxis": "x",
         "y": [
          -1.2005744607814501
         ],
         "yaxis": "y"
        },
        {
         "hovertemplate": "hex color=#5DC76E<br>0=%{x}<br>1=%{y}<extra></extra>",
         "legendgroup": "#5DC76E",
         "marker": {
          "color": "#FF97FF",
          "symbol": "circle"
         },
         "mode": "markers",
         "name": "#5DC76E",
         "orientation": "v",
         "showlegend": true,
         "type": "scatter",
         "x": [
          -0.06096470788928755
         ],
         "xaxis": "x",
         "y": [
          0.02495227224524
         ],
         "yaxis": "y"
        },
        {
         "hovertemplate": "hex color=#6A9382<br>0=%{x}<br>1=%{y}<extra></extra>",
         "legendgroup": "#6A9382",
         "marker": {
          "color": "#FECB52",
          "symbol": "circle"
         },
         "mode": "markers",
         "name": "#6A9382",
         "orientation": "v",
         "showlegend": true,
         "type": "scatter",
         "x": [
          -1.145949638449819
         ],
         "xaxis": "x",
         "y": [
          1.3324606328508322
         ],
         "yaxis": "y"
        },
        {
         "hovertemplate": "hex color=#7ADB3F<br>0=%{x}<br>1=%{y}<extra></extra>",
         "legendgroup": "#7ADB3F",
         "marker": {
          "color": "#636efa",
          "symbol": "circle"
         },
         "mode": "markers",
         "name": "#7ADB3F",
         "orientation": "v",
         "showlegend": true,
         "type": "scatter",
         "x": [
          1.8363624607497349
         ],
         "xaxis": "x",
         "y": [
          -0.833624172107724
         ],
         "yaxis": "y"
        },
        {
         "hovertemplate": "hex color=#A903DF<br>0=%{x}<br>1=%{y}<extra></extra>",
         "legendgroup": "#A903DF",
         "marker": {
          "color": "#EF553B",
          "symbol": "circle"
         },
         "mode": "markers",
         "name": "#A903DF",
         "orientation": "v",
         "showlegend": true,
         "type": "scatter",
         "x": [
          0.4984653517142458
         ],
         "xaxis": "x",
         "y": [
          -0.4084059848085622
         ],
         "yaxis": "y"
        },
        {
         "hovertemplate": "hex color=#1D398C<br>0=%{x}<br>1=%{y}<extra></extra>",
         "legendgroup": "#1D398C",
         "marker": {
          "color": "#00cc96",
          "symbol": "circle"
         },
         "mode": "markers",
         "name": "#1D398C",
         "orientation": "v",
         "showlegend": true,
         "type": "scatter",
         "x": [
          -0.24833154579871283
         ],
         "xaxis": "x",
         "y": [
          0.14250661693966812
         ],
         "yaxis": "y"
        },
        {
         "hovertemplate": "hex color=#A75C9B<br>0=%{x}<br>1=%{y}<extra></extra>",
         "legendgroup": "#A75C9B",
         "marker": {
          "color": "#ab63fa",
          "symbol": "circle"
         },
         "mode": "markers",
         "name": "#A75C9B",
         "orientation": "v",
         "showlegend": true,
         "type": "scatter",
         "x": [
          0.377463385118331
         ],
         "xaxis": "x",
         "y": [
          1.0165673065763234
         ],
         "yaxis": "y"
        },
        {
         "hovertemplate": "hex color=#3FC60D<br>0=%{x}<br>1=%{y}<extra></extra>",
         "legendgroup": "#3FC60D",
         "marker": {
          "color": "#FFA15A",
          "symbol": "circle"
         },
         "mode": "markers",
         "name": "#3FC60D",
         "orientation": "v",
         "showlegend": true,
         "type": "scatter",
         "x": [
          0.19567071677831518
         ],
         "xaxis": "x",
         "y": [
          -1.7187792615759154
         ],
         "yaxis": "y"
        },
        {
         "hovertemplate": "hex color=#67DEB5<br>0=%{x}<br>1=%{y}<extra></extra>",
         "legendgroup": "#67DEB5",
         "marker": {
          "color": "#19d3f3",
          "symbol": "circle"
         },
         "mode": "markers",
         "name": "#67DEB5",
         "orientation": "v",
         "showlegend": true,
         "type": "scatter",
         "x": [
          0.4985563093901437
         ],
         "xaxis": "x",
         "y": [
          -0.5742563982651732
         ],
         "yaxis": "y"
        },
        {
         "hovertemplate": "hex color=#C7D4FE<br>0=%{x}<br>1=%{y}<extra></extra>",
         "legendgroup": "#C7D4FE",
         "marker": {
          "color": "#FF6692",
          "symbol": "circle"
         },
         "mode": "markers",
         "name": "#C7D4FE",
         "orientation": "v",
         "showlegend": true,
         "type": "scatter",
         "x": [
          2.8029465451763538
         ],
         "xaxis": "x",
         "y": [
          -0.3217327556280043
         ],
         "yaxis": "y"
        },
        {
         "hovertemplate": "hex color=#29364B<br>0=%{x}<br>1=%{y}<extra></extra>",
         "legendgroup": "#29364B",
         "marker": {
          "color": "#B6E880",
          "symbol": "circle"
         },
         "mode": "markers",
         "name": "#29364B",
         "orientation": "v",
         "showlegend": true,
         "type": "scatter",
         "x": [
          -0.921933799975596
         ],
         "xaxis": "x",
         "y": [
          -0.283754573120179
         ],
         "yaxis": "y"
        },
        {
         "hovertemplate": "hex color=#D64B9C<br>0=%{x}<br>1=%{y}<extra></extra>",
         "legendgroup": "#D64B9C",
         "marker": {
          "color": "#FF97FF",
          "symbol": "circle"
         },
         "mode": "markers",
         "name": "#D64B9C",
         "orientation": "v",
         "showlegend": true,
         "type": "scatter",
         "x": [
          1.1374059509050622
         ],
         "xaxis": "x",
         "y": [
          0.7838931817977367
         ],
         "yaxis": "y"
        },
        {
         "hovertemplate": "hex color=#FD12E7<br>0=%{x}<br>1=%{y}<extra></extra>",
         "legendgroup": "#FD12E7",
         "marker": {
          "color": "#FECB52",
          "symbol": "circle"
         },
         "mode": "markers",
         "name": "#FD12E7",
         "orientation": "v",
         "showlegend": true,
         "type": "scatter",
         "x": [
          1.1677739406395247
         ],
         "xaxis": "x",
         "y": [
          -0.023970613077890834
         ],
         "yaxis": "y"
        },
        {
         "hovertemplate": "hex color=#34FDAB<br>0=%{x}<br>1=%{y}<extra></extra>",
         "legendgroup": "#34FDAB",
         "marker": {
          "color": "#636efa",
          "symbol": "circle"
         },
         "mode": "markers",
         "name": "#34FDAB",
         "orientation": "v",
         "showlegend": true,
         "type": "scatter",
         "x": [
          0.6094439183781517
         ],
         "xaxis": "x",
         "y": [
          -1.7526680275737343
         ],
         "yaxis": "y"
        },
        {
         "hovertemplate": "hex color=#E90D12<br>0=%{x}<br>1=%{y}<extra></extra>",
         "legendgroup": "#E90D12",
         "marker": {
          "color": "#EF553B",
          "symbol": "circle"
         },
         "mode": "markers",
         "name": "#E90D12",
         "orientation": "v",
         "showlegend": true,
         "type": "scatter",
         "x": [
          -0.04906927446814998
         ],
         "xaxis": "x",
         "y": [
          -0.6304461038309997
         ],
         "yaxis": "y"
        },
        {
         "hovertemplate": "hex color=#BD76E4<br>0=%{x}<br>1=%{y}<extra></extra>",
         "legendgroup": "#BD76E4",
         "marker": {
          "color": "#00cc96",
          "symbol": "circle"
         },
         "mode": "markers",
         "name": "#BD76E4",
         "orientation": "v",
         "showlegend": true,
         "type": "scatter",
         "x": [
          2.2517429387433605
         ],
         "xaxis": "x",
         "y": [
          1.4557173608837097
         ],
         "yaxis": "y"
        },
        {
         "hovertemplate": "hex color=#96A2B5<br>0=%{x}<br>1=%{y}<extra></extra>",
         "legendgroup": "#96A2B5",
         "marker": {
          "color": "#ab63fa",
          "symbol": "circle"
         },
         "mode": "markers",
         "name": "#96A2B5",
         "orientation": "v",
         "showlegend": true,
         "type": "scatter",
         "x": [
          0.4698389953223243
         ],
         "xaxis": "x",
         "y": [
          0.680412377785547
         ],
         "yaxis": "y"
        },
        {
         "hovertemplate": "hex color=#E1B7F2<br>0=%{x}<br>1=%{y}<extra></extra>",
         "legendgroup": "#E1B7F2",
         "marker": {
          "color": "#FFA15A",
          "symbol": "circle"
         },
         "mode": "markers",
         "name": "#E1B7F2",
         "orientation": "v",
         "showlegend": true,
         "type": "scatter",
         "x": [
          2.478615130824617
         ],
         "xaxis": "x",
         "y": [
          0.6679444582251179
         ],
         "yaxis": "y"
        },
        {
         "hovertemplate": "hex color=#A8B6DF<br>0=%{x}<br>1=%{y}<extra></extra>",
         "legendgroup": "#A8B6DF",
         "marker": {
          "color": "#19d3f3",
          "symbol": "circle"
         },
         "mode": "markers",
         "name": "#A8B6DF",
         "orientation": "v",
         "showlegend": true,
         "type": "scatter",
         "x": [
          1.5103404141882852
         ],
         "xaxis": "x",
         "y": [
          0.6302707604272094
         ],
         "yaxis": "y"
        },
        {
         "hovertemplate": "hex color=#DE825C<br>0=%{x}<br>1=%{y}<extra></extra>",
         "legendgroup": "#DE825C",
         "marker": {
          "color": "#FF6692",
          "symbol": "circle"
         },
         "mode": "markers",
         "name": "#DE825C",
         "orientation": "v",
         "showlegend": true,
         "type": "scatter",
         "x": [
          0.326015658033771
         ],
         "xaxis": "x",
         "y": [
          -0.5216865258544637
         ],
         "yaxis": "y"
        },
        {
         "hovertemplate": "hex color=#3086B9<br>0=%{x}<br>1=%{y}<extra></extra>",
         "legendgroup": "#3086B9",
         "marker": {
          "color": "#B6E880",
          "symbol": "circle"
         },
         "mode": "markers",
         "name": "#3086B9",
         "orientation": "v",
         "showlegend": true,
         "type": "scatter",
         "x": [
          -0.9838703578545491
         ],
         "xaxis": "x",
         "y": [
          0.5108110886189204
         ],
         "yaxis": "y"
        },
        {
         "hovertemplate": "hex color=#F529AB<br>0=%{x}<br>1=%{y}<extra></extra>",
         "legendgroup": "#F529AB",
         "marker": {
          "color": "#FF97FF",
          "symbol": "circle"
         },
         "mode": "markers",
         "name": "#F529AB",
         "orientation": "v",
         "showlegend": true,
         "type": "scatter",
         "x": [
          -0.1900024231641716
         ],
         "xaxis": "x",
         "y": [
          0.10105601190991127
         ],
         "yaxis": "y"
        },
        {
         "hovertemplate": "hex color=#54F3EC<br>0=%{x}<br>1=%{y}<extra></extra>",
         "legendgroup": "#54F3EC",
         "marker": {
          "color": "#FECB52",
          "symbol": "circle"
         },
         "mode": "markers",
         "name": "#54F3EC",
         "orientation": "v",
         "showlegend": true,
         "type": "scatter",
         "x": [
          0.12957792968069526
         ],
         "xaxis": "x",
         "y": [
          -1.4424131201911365
         ],
         "yaxis": "y"
        },
        {
         "hovertemplate": "hex color=#74FAC8<br>0=%{x}<br>1=%{y}<extra></extra>",
         "legendgroup": "#74FAC8",
         "marker": {
          "color": "#636efa",
          "symbol": "circle"
         },
         "mode": "markers",
         "name": "#74FAC8",
         "orientation": "v",
         "showlegend": true,
         "type": "scatter",
         "x": [
          -0.3128624407457211
         ],
         "xaxis": "x",
         "y": [
          -0.9043222200958412
         ],
         "yaxis": "y"
        },
        {
         "hovertemplate": "hex color=#FA839E<br>0=%{x}<br>1=%{y}<extra></extra>",
         "legendgroup": "#FA839E",
         "marker": {
          "color": "#EF553B",
          "symbol": "circle"
         },
         "mode": "markers",
         "name": "#FA839E",
         "orientation": "v",
         "showlegend": true,
         "type": "scatter",
         "x": [
          -0.13420149350522464
         ],
         "xaxis": "x",
         "y": [
          -0.4073570722868375
         ],
         "yaxis": "y"
        },
        {
         "hovertemplate": "hex color=#BA8562<br>0=%{x}<br>1=%{y}<extra></extra>",
         "legendgroup": "#BA8562",
         "marker": {
          "color": "#00cc96",
          "symbol": "circle"
         },
         "mode": "markers",
         "name": "#BA8562",
         "orientation": "v",
         "showlegend": true,
         "type": "scatter",
         "x": [
          -1.0110469703006817
         ],
         "xaxis": "x",
         "y": [
          1.0386601069865007
         ],
         "yaxis": "y"
        },
        {
         "hovertemplate": "hex color=#F920BE<br>0=%{x}<br>1=%{y}<extra></extra>",
         "legendgroup": "#F920BE",
         "marker": {
          "color": "#ab63fa",
          "symbol": "circle"
         },
         "mode": "markers",
         "name": "#F920BE",
         "orientation": "v",
         "showlegend": true,
         "type": "scatter",
         "x": [
          0.46524759908838975
         ],
         "xaxis": "x",
         "y": [
          -0.46849956364402806
         ],
         "yaxis": "y"
        },
        {
         "hovertemplate": "hex color=#20973F<br>0=%{x}<br>1=%{y}<extra></extra>",
         "legendgroup": "#20973F",
         "marker": {
          "color": "#FFA15A",
          "symbol": "circle"
         },
         "mode": "markers",
         "name": "#20973F",
         "orientation": "v",
         "showlegend": true,
         "type": "scatter",
         "x": [
          -1.2294886639936644
         ],
         "xaxis": "x",
         "y": [
          0.026673545708920283
         ],
         "yaxis": "y"
        },
        {
         "hovertemplate": "hex color=#DAC279<br>0=%{x}<br>1=%{y}<extra></extra>",
         "legendgroup": "#DAC279",
         "marker": {
          "color": "#19d3f3",
          "symbol": "circle"
         },
         "mode": "markers",
         "name": "#DAC279",
         "orientation": "v",
         "showlegend": true,
         "type": "scatter",
         "x": [
          -0.2268324555971919
         ],
         "xaxis": "x",
         "y": [
          -0.08425800785394051
         ],
         "yaxis": "y"
        },
        {
         "hovertemplate": "hex color=#A97C02<br>0=%{x}<br>1=%{y}<extra></extra>",
         "legendgroup": "#A97C02",
         "marker": {
          "color": "#FF6692",
          "symbol": "circle"
         },
         "mode": "markers",
         "name": "#A97C02",
         "orientation": "v",
         "showlegend": true,
         "type": "scatter",
         "x": [
          0.12577655319568648
         ],
         "xaxis": "x",
         "y": [
          1.875599968672114
         ],
         "yaxis": "y"
        },
        {
         "hovertemplate": "hex color=#69B4F1<br>0=%{x}<br>1=%{y}<extra></extra>",
         "legendgroup": "#69B4F1",
         "marker": {
          "color": "#B6E880",
          "symbol": "circle"
         },
         "mode": "markers",
         "name": "#69B4F1",
         "orientation": "v",
         "showlegend": true,
         "type": "scatter",
         "x": [
          1.3107710604135945
         ],
         "xaxis": "x",
         "y": [
          0.10862365264996002
         ],
         "yaxis": "y"
        },
        {
         "hovertemplate": "hex color=#BF934D<br>0=%{x}<br>1=%{y}<extra></extra>",
         "legendgroup": "#BF934D",
         "marker": {
          "color": "#FF97FF",
          "symbol": "circle"
         },
         "mode": "markers",
         "name": "#BF934D",
         "orientation": "v",
         "showlegend": true,
         "type": "scatter",
         "x": [
          -0.13488537450588378
         ],
         "xaxis": "x",
         "y": [
          -0.426280636702278
         ],
         "yaxis": "y"
        },
        {
         "hovertemplate": "hex color=#15C290<br>0=%{x}<br>1=%{y}<extra></extra>",
         "legendgroup": "#15C290",
         "marker": {
          "color": "#FECB52",
          "symbol": "circle"
         },
         "mode": "markers",
         "name": "#15C290",
         "orientation": "v",
         "showlegend": true,
         "type": "scatter",
         "x": [
          -1.113861009227589
         ],
         "xaxis": "x",
         "y": [
          -0.0761663827042713
         ],
         "yaxis": "y"
        },
        {
         "hovertemplate": "hex color=#24AD70<br>0=%{x}<br>1=%{y}<extra></extra>",
         "legendgroup": "#24AD70",
         "marker": {
          "color": "#636efa",
          "symbol": "circle"
         },
         "mode": "markers",
         "name": "#24AD70",
         "orientation": "v",
         "showlegend": true,
         "type": "scatter",
         "x": [
          -1.0742359220142002
         ],
         "xaxis": "x",
         "y": [
          -1.0947959029059082
         ],
         "yaxis": "y"
        },
        {
         "hovertemplate": "hex color=#08CE7F<br>0=%{x}<br>1=%{y}<extra></extra>",
         "legendgroup": "#08CE7F",
         "marker": {
          "color": "#EF553B",
          "symbol": "circle"
         },
         "mode": "markers",
         "name": "#08CE7F",
         "orientation": "v",
         "showlegend": true,
         "type": "scatter",
         "x": [
          -0.1336771461176533
         ],
         "xaxis": "x",
         "y": [
          -1.0897759541168728
         ],
         "yaxis": "y"
        },
        {
         "hovertemplate": "hex color=#1698F5<br>0=%{x}<br>1=%{y}<extra></extra>",
         "legendgroup": "#1698F5",
         "marker": {
          "color": "#00cc96",
          "symbol": "circle"
         },
         "mode": "markers",
         "name": "#1698F5",
         "orientation": "v",
         "showlegend": true,
         "type": "scatter",
         "x": [
          0.23440199322528585
         ],
         "xaxis": "x",
         "y": [
          -0.7128407482379742
         ],
         "yaxis": "y"
        },
        {
         "hovertemplate": "hex color=#75B6EF<br>0=%{x}<br>1=%{y}<extra></extra>",
         "legendgroup": "#75B6EF",
         "marker": {
          "color": "#ab63fa",
          "symbol": "circle"
         },
         "mode": "markers",
         "name": "#75B6EF",
         "orientation": "v",
         "showlegend": true,
         "type": "scatter",
         "x": [
          -0.0963372848394714
         ],
         "xaxis": "x",
         "y": [
          -0.5916530388163932
         ],
         "yaxis": "y"
        },
        {
         "hovertemplate": "hex color=#C462BD<br>0=%{x}<br>1=%{y}<extra></extra>",
         "legendgroup": "#C462BD",
         "marker": {
          "color": "#FFA15A",
          "symbol": "circle"
         },
         "mode": "markers",
         "name": "#C462BD",
         "orientation": "v",
         "showlegend": true,
         "type": "scatter",
         "x": [
          1.2695275638664723
         ],
         "xaxis": "x",
         "y": [
          0.6742738856497533
         ],
         "yaxis": "y"
        },
        {
         "hovertemplate": "hex color=#1045EC<br>0=%{x}<br>1=%{y}<extra></extra>",
         "legendgroup": "#1045EC",
         "marker": {
          "color": "#19d3f3",
          "symbol": "circle"
         },
         "mode": "markers",
         "name": "#1045EC",
         "orientation": "v",
         "showlegend": true,
         "type": "scatter",
         "x": [
          -1.2749821091579332
         ],
         "xaxis": "x",
         "y": [
          -1.229910114782317
         ],
         "yaxis": "y"
        },
        {
         "hovertemplate": "hex color=#891B30<br>0=%{x}<br>1=%{y}<extra></extra>",
         "legendgroup": "#891B30",
         "marker": {
          "color": "#FF6692",
          "symbol": "circle"
         },
         "mode": "markers",
         "name": "#891B30",
         "orientation": "v",
         "showlegend": true,
         "type": "scatter",
         "x": [
          -1.2150086514664107
         ],
         "xaxis": "x",
         "y": [
          0.6756457073933446
         ],
         "yaxis": "y"
        },
        {
         "hovertemplate": "hex color=#752A31<br>0=%{x}<br>1=%{y}<extra></extra>",
         "legendgroup": "#752A31",
         "marker": {
          "color": "#B6E880",
          "symbol": "circle"
         },
         "mode": "markers",
         "name": "#752A31",
         "orientation": "v",
         "showlegend": true,
         "type": "scatter",
         "x": [
          -1.4703780125871195
         ],
         "xaxis": "x",
         "y": [
          0.7032412751949793
         ],
         "yaxis": "y"
        },
        {
         "hovertemplate": "hex color=#83D175<br>0=%{x}<br>1=%{y}<extra></extra>",
         "legendgroup": "#83D175",
         "marker": {
          "color": "#FF97FF",
          "symbol": "circle"
         },
         "mode": "markers",
         "name": "#83D175",
         "orientation": "v",
         "showlegend": true,
         "type": "scatter",
         "x": [
          -1.1363937203205214
         ],
         "xaxis": "x",
         "y": [
          -0.016474130404844044
         ],
         "yaxis": "y"
        },
        {
         "hovertemplate": "hex color=#9B6580<br>0=%{x}<br>1=%{y}<extra></extra>",
         "legendgroup": "#9B6580",
         "marker": {
          "color": "#FECB52",
          "symbol": "circle"
         },
         "mode": "markers",
         "name": "#9B6580",
         "orientation": "v",
         "showlegend": true,
         "type": "scatter",
         "x": [
          -1.3318247790435525
         ],
         "xaxis": "x",
         "y": [
          0.45098893943370266
         ],
         "yaxis": "y"
        },
        {
         "hovertemplate": "hex color=#5F6AEC<br>0=%{x}<br>1=%{y}<extra></extra>",
         "legendgroup": "#5F6AEC",
         "marker": {
          "color": "#636efa",
          "symbol": "circle"
         },
         "mode": "markers",
         "name": "#5F6AEC",
         "orientation": "v",
         "showlegend": true,
         "type": "scatter",
         "x": [
          1.1845292785501373
         ],
         "xaxis": "x",
         "y": [
          -1.1764546704162158
         ],
         "yaxis": "y"
        },
        {
         "hovertemplate": "hex color=#38C7FD<br>0=%{x}<br>1=%{y}<extra></extra>",
         "legendgroup": "#38C7FD",
         "marker": {
          "color": "#EF553B",
          "symbol": "circle"
         },
         "mode": "markers",
         "name": "#38C7FD",
         "orientation": "v",
         "showlegend": true,
         "type": "scatter",
         "x": [
          0.3043803654586596
         ],
         "xaxis": "x",
         "y": [
          -0.6155953047901603
         ],
         "yaxis": "y"
        },
        {
         "hovertemplate": "hex color=#E9D763<br>0=%{x}<br>1=%{y}<extra></extra>",
         "legendgroup": "#E9D763",
         "marker": {
          "color": "#00cc96",
          "symbol": "circle"
         },
         "mode": "markers",
         "name": "#E9D763",
         "orientation": "v",
         "showlegend": true,
         "type": "scatter",
         "x": [
          0.653120891993997
         ],
         "xaxis": "x",
         "y": [
          1.2249894360369866
         ],
         "yaxis": "y"
        },
        {
         "hovertemplate": "hex color=#7E432F<br>0=%{x}<br>1=%{y}<extra></extra>",
         "legendgroup": "#7E432F",
         "marker": {
          "color": "#ab63fa",
          "symbol": "circle"
         },
         "mode": "markers",
         "name": "#7E432F",
         "orientation": "v",
         "showlegend": true,
         "type": "scatter",
         "x": [
          -0.12475310460966539
         ],
         "xaxis": "x",
         "y": [
          -0.018273738918518988
         ],
         "yaxis": "y"
        },
        {
         "hovertemplate": "hex color=#72E8C3<br>0=%{x}<br>1=%{y}<extra></extra>",
         "legendgroup": "#72E8C3",
         "marker": {
          "color": "#FFA15A",
          "symbol": "circle"
         },
         "mode": "markers",
         "name": "#72E8C3",
         "orientation": "v",
         "showlegend": true,
         "type": "scatter",
         "x": [
          0.16855994358839366
         ],
         "xaxis": "x",
         "y": [
          0.2973019472425981
         ],
         "yaxis": "y"
        },
        {
         "hovertemplate": "hex color=#F84071<br>0=%{x}<br>1=%{y}<extra></extra>",
         "legendgroup": "#F84071",
         "marker": {
          "color": "#19d3f3",
          "symbol": "circle"
         },
         "mode": "markers",
         "name": "#F84071",
         "orientation": "v",
         "showlegend": true,
         "type": "scatter",
         "x": [
          -0.35297906682252916
         ],
         "xaxis": "x",
         "y": [
          1.5431848926248586
         ],
         "yaxis": "y"
        },
        {
         "hovertemplate": "hex color=#C3A5E4<br>0=%{x}<br>1=%{y}<extra></extra>",
         "legendgroup": "#C3A5E4",
         "marker": {
          "color": "#FF6692",
          "symbol": "circle"
         },
         "mode": "markers",
         "name": "#C3A5E4",
         "orientation": "v",
         "showlegend": true,
         "type": "scatter",
         "x": [
          3.0548772445998966
         ],
         "xaxis": "x",
         "y": [
          0.9599374737228076
         ],
         "yaxis": "y"
        },
        {
         "hovertemplate": "hex color=#3C7654<br>0=%{x}<br>1=%{y}<extra></extra>",
         "legendgroup": "#3C7654",
         "marker": {
          "color": "#B6E880",
          "symbol": "circle"
         },
         "mode": "markers",
         "name": "#3C7654",
         "orientation": "v",
         "showlegend": true,
         "type": "scatter",
         "x": [
          -0.3825056991961904
         ],
         "xaxis": "x",
         "y": [
          0.8691408031235012
         ],
         "yaxis": "y"
        },
        {
         "hovertemplate": "hex color=#C05D28<br>0=%{x}<br>1=%{y}<extra></extra>",
         "legendgroup": "#C05D28",
         "marker": {
          "color": "#FF97FF",
          "symbol": "circle"
         },
         "mode": "markers",
         "name": "#C05D28",
         "orientation": "v",
         "showlegend": true,
         "type": "scatter",
         "x": [
          0.9547239870936817
         ],
         "xaxis": "x",
         "y": [
          0.5503754233851672
         ],
         "yaxis": "y"
        },
        {
         "hovertemplate": "hex color=#267F5C<br>0=%{x}<br>1=%{y}<extra></extra>",
         "legendgroup": "#267F5C",
         "marker": {
          "color": "#FECB52",
          "symbol": "circle"
         },
         "mode": "markers",
         "name": "#267F5C",
         "orientation": "v",
         "showlegend": true,
         "type": "scatter",
         "x": [
          0.8208291408858824
         ],
         "xaxis": "x",
         "y": [
          -1.2004318518909902
         ],
         "yaxis": "y"
        },
        {
         "hovertemplate": "hex color=#CB1865<br>0=%{x}<br>1=%{y}<extra></extra>",
         "legendgroup": "#CB1865",
         "marker": {
          "color": "#636efa",
          "symbol": "circle"
         },
         "mode": "markers",
         "name": "#CB1865",
         "orientation": "v",
         "showlegend": true,
         "type": "scatter",
         "x": [
          -1.216669944966745
         ],
         "xaxis": "x",
         "y": [
          -0.5434245306583149
         ],
         "yaxis": "y"
        },
        {
         "hovertemplate": "hex color=#CF9514<br>0=%{x}<br>1=%{y}<extra></extra>",
         "legendgroup": "#CF9514",
         "marker": {
          "color": "#EF553B",
          "symbol": "circle"
         },
         "mode": "markers",
         "name": "#CF9514",
         "orientation": "v",
         "showlegend": true,
         "type": "scatter",
         "x": [
          -0.6986014437294426
         ],
         "xaxis": "x",
         "y": [
          0.6560758967087722
         ],
         "yaxis": "y"
        },
        {
         "hovertemplate": "hex color=#923E6B<br>0=%{x}<br>1=%{y}<extra></extra>",
         "legendgroup": "#923E6B",
         "marker": {
          "color": "#00cc96",
          "symbol": "circle"
         },
         "mode": "markers",
         "name": "#923E6B",
         "orientation": "v",
         "showlegend": true,
         "type": "scatter",
         "x": [
          -0.061086078758891715
         ],
         "xaxis": "x",
         "y": [
          0.7593496519197386
         ],
         "yaxis": "y"
        },
        {
         "hovertemplate": "hex color=#42D56C<br>0=%{x}<br>1=%{y}<extra></extra>",
         "legendgroup": "#42D56C",
         "marker": {
          "color": "#ab63fa",
          "symbol": "circle"
         },
         "mode": "markers",
         "name": "#42D56C",
         "orientation": "v",
         "showlegend": true,
         "type": "scatter",
         "x": [
          -0.4751380481398972
         ],
         "xaxis": "x",
         "y": [
          -0.7042838554394665
         ],
         "yaxis": "y"
        },
        {
         "hovertemplate": "hex color=#76F2BD<br>0=%{x}<br>1=%{y}<extra></extra>",
         "legendgroup": "#76F2BD",
         "marker": {
          "color": "#FFA15A",
          "symbol": "circle"
         },
         "mode": "markers",
         "name": "#76F2BD",
         "orientation": "v",
         "showlegend": true,
         "type": "scatter",
         "x": [
          0.9242418755621504
         ],
         "xaxis": "x",
         "y": [
          -0.41595240273271333
         ],
         "yaxis": "y"
        },
        {
         "hovertemplate": "hex color=#E7029A<br>0=%{x}<br>1=%{y}<extra></extra>",
         "legendgroup": "#E7029A",
         "marker": {
          "color": "#19d3f3",
          "symbol": "circle"
         },
         "mode": "markers",
         "name": "#E7029A",
         "orientation": "v",
         "showlegend": true,
         "type": "scatter",
         "x": [
          -0.7869888803518783
         ],
         "xaxis": "x",
         "y": [
          0.8137048630080156
         ],
         "yaxis": "y"
        },
        {
         "hovertemplate": "hex color=#8F49C3<br>0=%{x}<br>1=%{y}<extra></extra>",
         "legendgroup": "#8F49C3",
         "marker": {
          "color": "#FF6692",
          "symbol": "circle"
         },
         "mode": "markers",
         "name": "#8F49C3",
         "orientation": "v",
         "showlegend": true,
         "type": "scatter",
         "x": [
          0.5034632220562875
         ],
         "xaxis": "x",
         "y": [
          -0.25745090047224206
         ],
         "yaxis": "y"
        },
        {
         "hovertemplate": "hex color=#A6D253<br>0=%{x}<br>1=%{y}<extra></extra>",
         "legendgroup": "#A6D253",
         "marker": {
          "color": "#B6E880",
          "symbol": "circle"
         },
         "mode": "markers",
         "name": "#A6D253",
         "orientation": "v",
         "showlegend": true,
         "type": "scatter",
         "x": [
          0.5108966155491426
         ],
         "xaxis": "x",
         "y": [
          1.0726946112542808
         ],
         "yaxis": "y"
        },
        {
         "hovertemplate": "hex color=#1F0B82<br>0=%{x}<br>1=%{y}<extra></extra>",
         "legendgroup": "#1F0B82",
         "marker": {
          "color": "#FF97FF",
          "symbol": "circle"
         },
         "mode": "markers",
         "name": "#1F0B82",
         "orientation": "v",
         "showlegend": true,
         "type": "scatter",
         "x": [
          1.2345578931197867
         ],
         "xaxis": "x",
         "y": [
          0.631304119184441
         ],
         "yaxis": "y"
        },
        {
         "hovertemplate": "hex color=#1AC9B3<br>0=%{x}<br>1=%{y}<extra></extra>",
         "legendgroup": "#1AC9B3",
         "marker": {
          "color": "#FECB52",
          "symbol": "circle"
         },
         "mode": "markers",
         "name": "#1AC9B3",
         "orientation": "v",
         "showlegend": true,
         "type": "scatter",
         "x": [
          1.0113266984679823
         ],
         "xaxis": "x",
         "y": [
          0.7058412317504461
         ],
         "yaxis": "y"
        }
       ],
       "layout": {
        "legend": {
         "title": {
          "text": "hex color"
         },
         "tracegroupgap": 0
        },
        "showlegend": false,
        "template": {
         "data": {
          "bar": [
           {
            "error_x": {
             "color": "#2a3f5f"
            },
            "error_y": {
             "color": "#2a3f5f"
            },
            "marker": {
             "line": {
              "color": "#E5ECF6",
              "width": 0.5
             },
             "pattern": {
              "fillmode": "overlay",
              "size": 10,
              "solidity": 0.2
             }
            },
            "type": "bar"
           }
          ],
          "barpolar": [
           {
            "marker": {
             "line": {
              "color": "#E5ECF6",
              "width": 0.5
             },
             "pattern": {
              "fillmode": "overlay",
              "size": 10,
              "solidity": 0.2
             }
            },
            "type": "barpolar"
           }
          ],
          "carpet": [
           {
            "aaxis": {
             "endlinecolor": "#2a3f5f",
             "gridcolor": "white",
             "linecolor": "white",
             "minorgridcolor": "white",
             "startlinecolor": "#2a3f5f"
            },
            "baxis": {
             "endlinecolor": "#2a3f5f",
             "gridcolor": "white",
             "linecolor": "white",
             "minorgridcolor": "white",
             "startlinecolor": "#2a3f5f"
            },
            "type": "carpet"
           }
          ],
          "choropleth": [
           {
            "colorbar": {
             "outlinewidth": 0,
             "ticks": ""
            },
            "type": "choropleth"
           }
          ],
          "contour": [
           {
            "colorbar": {
             "outlinewidth": 0,
             "ticks": ""
            },
            "colorscale": [
             [
              0,
              "#0d0887"
             ],
             [
              0.1111111111111111,
              "#46039f"
             ],
             [
              0.2222222222222222,
              "#7201a8"
             ],
             [
              0.3333333333333333,
              "#9c179e"
             ],
             [
              0.4444444444444444,
              "#bd3786"
             ],
             [
              0.5555555555555556,
              "#d8576b"
             ],
             [
              0.6666666666666666,
              "#ed7953"
             ],
             [
              0.7777777777777778,
              "#fb9f3a"
             ],
             [
              0.8888888888888888,
              "#fdca26"
             ],
             [
              1,
              "#f0f921"
             ]
            ],
            "type": "contour"
           }
          ],
          "contourcarpet": [
           {
            "colorbar": {
             "outlinewidth": 0,
             "ticks": ""
            },
            "type": "contourcarpet"
           }
          ],
          "heatmap": [
           {
            "colorbar": {
             "outlinewidth": 0,
             "ticks": ""
            },
            "colorscale": [
             [
              0,
              "#0d0887"
             ],
             [
              0.1111111111111111,
              "#46039f"
             ],
             [
              0.2222222222222222,
              "#7201a8"
             ],
             [
              0.3333333333333333,
              "#9c179e"
             ],
             [
              0.4444444444444444,
              "#bd3786"
             ],
             [
              0.5555555555555556,
              "#d8576b"
             ],
             [
              0.6666666666666666,
              "#ed7953"
             ],
             [
              0.7777777777777778,
              "#fb9f3a"
             ],
             [
              0.8888888888888888,
              "#fdca26"
             ],
             [
              1,
              "#f0f921"
             ]
            ],
            "type": "heatmap"
           }
          ],
          "heatmapgl": [
           {
            "colorbar": {
             "outlinewidth": 0,
             "ticks": ""
            },
            "colorscale": [
             [
              0,
              "#0d0887"
             ],
             [
              0.1111111111111111,
              "#46039f"
             ],
             [
              0.2222222222222222,
              "#7201a8"
             ],
             [
              0.3333333333333333,
              "#9c179e"
             ],
             [
              0.4444444444444444,
              "#bd3786"
             ],
             [
              0.5555555555555556,
              "#d8576b"
             ],
             [
              0.6666666666666666,
              "#ed7953"
             ],
             [
              0.7777777777777778,
              "#fb9f3a"
             ],
             [
              0.8888888888888888,
              "#fdca26"
             ],
             [
              1,
              "#f0f921"
             ]
            ],
            "type": "heatmapgl"
           }
          ],
          "histogram": [
           {
            "marker": {
             "pattern": {
              "fillmode": "overlay",
              "size": 10,
              "solidity": 0.2
             }
            },
            "type": "histogram"
           }
          ],
          "histogram2d": [
           {
            "colorbar": {
             "outlinewidth": 0,
             "ticks": ""
            },
            "colorscale": [
             [
              0,
              "#0d0887"
             ],
             [
              0.1111111111111111,
              "#46039f"
             ],
             [
              0.2222222222222222,
              "#7201a8"
             ],
             [
              0.3333333333333333,
              "#9c179e"
             ],
             [
              0.4444444444444444,
              "#bd3786"
             ],
             [
              0.5555555555555556,
              "#d8576b"
             ],
             [
              0.6666666666666666,
              "#ed7953"
             ],
             [
              0.7777777777777778,
              "#fb9f3a"
             ],
             [
              0.8888888888888888,
              "#fdca26"
             ],
             [
              1,
              "#f0f921"
             ]
            ],
            "type": "histogram2d"
           }
          ],
          "histogram2dcontour": [
           {
            "colorbar": {
             "outlinewidth": 0,
             "ticks": ""
            },
            "colorscale": [
             [
              0,
              "#0d0887"
             ],
             [
              0.1111111111111111,
              "#46039f"
             ],
             [
              0.2222222222222222,
              "#7201a8"
             ],
             [
              0.3333333333333333,
              "#9c179e"
             ],
             [
              0.4444444444444444,
              "#bd3786"
             ],
             [
              0.5555555555555556,
              "#d8576b"
             ],
             [
              0.6666666666666666,
              "#ed7953"
             ],
             [
              0.7777777777777778,
              "#fb9f3a"
             ],
             [
              0.8888888888888888,
              "#fdca26"
             ],
             [
              1,
              "#f0f921"
             ]
            ],
            "type": "histogram2dcontour"
           }
          ],
          "mesh3d": [
           {
            "colorbar": {
             "outlinewidth": 0,
             "ticks": ""
            },
            "type": "mesh3d"
           }
          ],
          "parcoords": [
           {
            "line": {
             "colorbar": {
              "outlinewidth": 0,
              "ticks": ""
             }
            },
            "type": "parcoords"
           }
          ],
          "pie": [
           {
            "automargin": true,
            "type": "pie"
           }
          ],
          "scatter": [
           {
            "fillpattern": {
             "fillmode": "overlay",
             "size": 10,
             "solidity": 0.2
            },
            "type": "scatter"
           }
          ],
          "scatter3d": [
           {
            "line": {
             "colorbar": {
              "outlinewidth": 0,
              "ticks": ""
             }
            },
            "marker": {
             "colorbar": {
              "outlinewidth": 0,
              "ticks": ""
             }
            },
            "type": "scatter3d"
           }
          ],
          "scattercarpet": [
           {
            "marker": {
             "colorbar": {
              "outlinewidth": 0,
              "ticks": ""
             }
            },
            "type": "scattercarpet"
           }
          ],
          "scattergeo": [
           {
            "marker": {
             "colorbar": {
              "outlinewidth": 0,
              "ticks": ""
             }
            },
            "type": "scattergeo"
           }
          ],
          "scattergl": [
           {
            "marker": {
             "colorbar": {
              "outlinewidth": 0,
              "ticks": ""
             }
            },
            "type": "scattergl"
           }
          ],
          "scattermapbox": [
           {
            "marker": {
             "colorbar": {
              "outlinewidth": 0,
              "ticks": ""
             }
            },
            "type": "scattermapbox"
           }
          ],
          "scatterpolar": [
           {
            "marker": {
             "colorbar": {
              "outlinewidth": 0,
              "ticks": ""
             }
            },
            "type": "scatterpolar"
           }
          ],
          "scatterpolargl": [
           {
            "marker": {
             "colorbar": {
              "outlinewidth": 0,
              "ticks": ""
             }
            },
            "type": "scatterpolargl"
           }
          ],
          "scatterternary": [
           {
            "marker": {
             "colorbar": {
              "outlinewidth": 0,
              "ticks": ""
             }
            },
            "type": "scatterternary"
           }
          ],
          "surface": [
           {
            "colorbar": {
             "outlinewidth": 0,
             "ticks": ""
            },
            "colorscale": [
             [
              0,
              "#0d0887"
             ],
             [
              0.1111111111111111,
              "#46039f"
             ],
             [
              0.2222222222222222,
              "#7201a8"
             ],
             [
              0.3333333333333333,
              "#9c179e"
             ],
             [
              0.4444444444444444,
              "#bd3786"
             ],
             [
              0.5555555555555556,
              "#d8576b"
             ],
             [
              0.6666666666666666,
              "#ed7953"
             ],
             [
              0.7777777777777778,
              "#fb9f3a"
             ],
             [
              0.8888888888888888,
              "#fdca26"
             ],
             [
              1,
              "#f0f921"
             ]
            ],
            "type": "surface"
           }
          ],
          "table": [
           {
            "cells": {
             "fill": {
              "color": "#EBF0F8"
             },
             "line": {
              "color": "white"
             }
            },
            "header": {
             "fill": {
              "color": "#C8D4E3"
             },
             "line": {
              "color": "white"
             }
            },
            "type": "table"
           }
          ]
         },
         "layout": {
          "annotationdefaults": {
           "arrowcolor": "#2a3f5f",
           "arrowhead": 0,
           "arrowwidth": 1
          },
          "autotypenumbers": "strict",
          "coloraxis": {
           "colorbar": {
            "outlinewidth": 0,
            "ticks": ""
           }
          },
          "colorscale": {
           "diverging": [
            [
             0,
             "#8e0152"
            ],
            [
             0.1,
             "#c51b7d"
            ],
            [
             0.2,
             "#de77ae"
            ],
            [
             0.3,
             "#f1b6da"
            ],
            [
             0.4,
             "#fde0ef"
            ],
            [
             0.5,
             "#f7f7f7"
            ],
            [
             0.6,
             "#e6f5d0"
            ],
            [
             0.7,
             "#b8e186"
            ],
            [
             0.8,
             "#7fbc41"
            ],
            [
             0.9,
             "#4d9221"
            ],
            [
             1,
             "#276419"
            ]
           ],
           "sequential": [
            [
             0,
             "#0d0887"
            ],
            [
             0.1111111111111111,
             "#46039f"
            ],
            [
             0.2222222222222222,
             "#7201a8"
            ],
            [
             0.3333333333333333,
             "#9c179e"
            ],
            [
             0.4444444444444444,
             "#bd3786"
            ],
            [
             0.5555555555555556,
             "#d8576b"
            ],
            [
             0.6666666666666666,
             "#ed7953"
            ],
            [
             0.7777777777777778,
             "#fb9f3a"
            ],
            [
             0.8888888888888888,
             "#fdca26"
            ],
            [
             1,
             "#f0f921"
            ]
           ],
           "sequentialminus": [
            [
             0,
             "#0d0887"
            ],
            [
             0.1111111111111111,
             "#46039f"
            ],
            [
             0.2222222222222222,
             "#7201a8"
            ],
            [
             0.3333333333333333,
             "#9c179e"
            ],
            [
             0.4444444444444444,
             "#bd3786"
            ],
            [
             0.5555555555555556,
             "#d8576b"
            ],
            [
             0.6666666666666666,
             "#ed7953"
            ],
            [
             0.7777777777777778,
             "#fb9f3a"
            ],
            [
             0.8888888888888888,
             "#fdca26"
            ],
            [
             1,
             "#f0f921"
            ]
           ]
          },
          "colorway": [
           "#636efa",
           "#EF553B",
           "#00cc96",
           "#ab63fa",
           "#FFA15A",
           "#19d3f3",
           "#FF6692",
           "#B6E880",
           "#FF97FF",
           "#FECB52"
          ],
          "font": {
           "color": "#2a3f5f"
          },
          "geo": {
           "bgcolor": "white",
           "lakecolor": "white",
           "landcolor": "#E5ECF6",
           "showlakes": true,
           "showland": true,
           "subunitcolor": "white"
          },
          "hoverlabel": {
           "align": "left"
          },
          "hovermode": "closest",
          "mapbox": {
           "style": "light"
          },
          "paper_bgcolor": "white",
          "plot_bgcolor": "#E5ECF6",
          "polar": {
           "angularaxis": {
            "gridcolor": "white",
            "linecolor": "white",
            "ticks": ""
           },
           "bgcolor": "#E5ECF6",
           "radialaxis": {
            "gridcolor": "white",
            "linecolor": "white",
            "ticks": ""
           }
          },
          "scene": {
           "xaxis": {
            "backgroundcolor": "#E5ECF6",
            "gridcolor": "white",
            "gridwidth": 2,
            "linecolor": "white",
            "showbackground": true,
            "ticks": "",
            "zerolinecolor": "white"
           },
           "yaxis": {
            "backgroundcolor": "#E5ECF6",
            "gridcolor": "white",
            "gridwidth": 2,
            "linecolor": "white",
            "showbackground": true,
            "ticks": "",
            "zerolinecolor": "white"
           },
           "zaxis": {
            "backgroundcolor": "#E5ECF6",
            "gridcolor": "white",
            "gridwidth": 2,
            "linecolor": "white",
            "showbackground": true,
            "ticks": "",
            "zerolinecolor": "white"
           }
          },
          "shapedefaults": {
           "line": {
            "color": "#2a3f5f"
           }
          },
          "ternary": {
           "aaxis": {
            "gridcolor": "white",
            "linecolor": "white",
            "ticks": ""
           },
           "baxis": {
            "gridcolor": "white",
            "linecolor": "white",
            "ticks": ""
           },
           "bgcolor": "#E5ECF6",
           "caxis": {
            "gridcolor": "white",
            "linecolor": "white",
            "ticks": ""
           }
          },
          "title": {
           "x": 0.05
          },
          "xaxis": {
           "automargin": true,
           "gridcolor": "white",
           "linecolor": "white",
           "ticks": "",
           "title": {
            "standoff": 15
           },
           "zerolinecolor": "white",
           "zerolinewidth": 2
          },
          "yaxis": {
           "automargin": true,
           "gridcolor": "white",
           "linecolor": "white",
           "ticks": "",
           "title": {
            "standoff": 15
           },
           "zerolinecolor": "white",
           "zerolinewidth": 2
          }
         }
        },
        "title": {
         "text": "PCA of DistilBERT embeddings of hex colors (2d)"
        },
        "xaxis": {
         "anchor": "y",
         "domain": [
          0,
          1
         ],
         "title": {
          "text": "0"
         }
        },
        "yaxis": {
         "anchor": "x",
         "domain": [
          0,
          1
         ],
         "title": {
          "text": "1"
         }
        }
       }
      }
     },
     "metadata": {},
     "output_type": "display_data"
    }
   ],
   "source": [
    "# plot 2d results with plotly\n",
    "fig = px.scatter(\n",
    "    hex_pca3d, x=0, y=1, color=hex_colors,\n",
    "    labels={'color': 'hex color'},\n",
    "    title='PCA of DistilBERT embeddings of hex colors (2d)'\n",
    ")\n",
    "\n",
    "# hide legend\n",
    "fig.update_layout(showlegend=False)\n",
    "fig.show()"
   ]
  },
  {
   "cell_type": "code",
   "execution_count": 11,
   "metadata": {},
   "outputs": [
    {
     "data": {
      "application/vnd.plotly.v1+json": {
       "config": {
        "plotlyServerURL": "https://plot.ly"
       },
       "data": [
        {
         "hovertemplate": "hex color=#016B75<br>0=%{x}<br>1=%{y}<br>2=%{z}<extra></extra>",
         "legendgroup": "#016B75",
         "marker": {
          "color": "#636efa",
          "symbol": "circle"
         },
         "mode": "markers",
         "name": "#016B75",
         "scene": "scene",
         "showlegend": true,
         "type": "scatter3d",
         "x": [
          -1.1740491763063323
         ],
         "y": [
          0.7906352660712963
         ],
         "z": [
          -0.8414251454672462
         ]
        },
        {
         "hovertemplate": "hex color=#319C04<br>0=%{x}<br>1=%{y}<br>2=%{z}<extra></extra>",
         "legendgroup": "#319C04",
         "marker": {
          "color": "#EF553B",
          "symbol": "circle"
         },
         "mode": "markers",
         "name": "#319C04",
         "scene": "scene",
         "showlegend": true,
         "type": "scatter3d",
         "x": [
          -0.21299401437508717
         ],
         "y": [
          0.03213786197337379
         ],
         "z": [
          0.9989919792717504
         ]
        },
        {
         "hovertemplate": "hex color=#4D1630<br>0=%{x}<br>1=%{y}<br>2=%{z}<extra></extra>",
         "legendgroup": "#4D1630",
         "marker": {
          "color": "#00cc96",
          "symbol": "circle"
         },
         "mode": "markers",
         "name": "#4D1630",
         "scene": "scene",
         "showlegend": true,
         "type": "scatter3d",
         "x": [
          -0.33331079150333714
         ],
         "y": [
          -0.6191883864688162
         ],
         "z": [
          0.26141148169623013
         ]
        },
        {
         "hovertemplate": "hex color=#A1BF45<br>0=%{x}<br>1=%{y}<br>2=%{z}<extra></extra>",
         "legendgroup": "#A1BF45",
         "marker": {
          "color": "#ab63fa",
          "symbol": "circle"
         },
         "mode": "markers",
         "name": "#A1BF45",
         "scene": "scene",
         "showlegend": true,
         "type": "scatter3d",
         "x": [
          -0.3462402098207916
         ],
         "y": [
          -1.0409400605038877
         ],
         "z": [
          0.574688421296304
         ]
        },
        {
         "hovertemplate": "hex color=#B75DC2<br>0=%{x}<br>1=%{y}<br>2=%{z}<extra></extra>",
         "legendgroup": "#B75DC2",
         "marker": {
          "color": "#FFA15A",
          "symbol": "circle"
         },
         "mode": "markers",
         "name": "#B75DC2",
         "scene": "scene",
         "showlegend": true,
         "type": "scatter3d",
         "x": [
          0.2982442081697002
         ],
         "y": [
          0.038116163644096555
         ],
         "z": [
          0.03027789737402041
         ]
        },
        {
         "hovertemplate": "hex color=#9FB278<br>0=%{x}<br>1=%{y}<br>2=%{z}<extra></extra>",
         "legendgroup": "#9FB278",
         "marker": {
          "color": "#19d3f3",
          "symbol": "circle"
         },
         "mode": "markers",
         "name": "#9FB278",
         "scene": "scene",
         "showlegend": true,
         "type": "scatter3d",
         "x": [
          -0.97080951013053
         ],
         "y": [
          -0.4138746857893664
         ],
         "z": [
          0.41399272317287145
         ]
        },
        {
         "hovertemplate": "hex color=#B1A35F<br>0=%{x}<br>1=%{y}<br>2=%{z}<extra></extra>",
         "legendgroup": "#B1A35F",
         "marker": {
          "color": "#FF6692",
          "symbol": "circle"
         },
         "mode": "markers",
         "name": "#B1A35F",
         "scene": "scene",
         "showlegend": true,
         "type": "scatter3d",
         "x": [
          0.5532977129685751
         ],
         "y": [
          -0.6273220436702888
         ],
         "z": [
          -0.6920442845630839
         ]
        },
        {
         "hovertemplate": "hex color=#17FCA4<br>0=%{x}<br>1=%{y}<br>2=%{z}<extra></extra>",
         "legendgroup": "#17FCA4",
         "marker": {
          "color": "#B6E880",
          "symbol": "circle"
         },
         "mode": "markers",
         "name": "#17FCA4",
         "scene": "scene",
         "showlegend": true,
         "type": "scatter3d",
         "x": [
          0.7519730036333404
         ],
         "y": [
          -1.3378014035947685
         ],
         "z": [
          -0.5819540357724955
         ]
        },
        {
         "hovertemplate": "hex color=#C1EA3F<br>0=%{x}<br>1=%{y}<br>2=%{z}<extra></extra>",
         "legendgroup": "#C1EA3F",
         "marker": {
          "color": "#FF97FF",
          "symbol": "circle"
         },
         "mode": "markers",
         "name": "#C1EA3F",
         "scene": "scene",
         "showlegend": true,
         "type": "scatter3d",
         "x": [
          1.446493230330384
         ],
         "y": [
          -0.9214422990104534
         ],
         "z": [
          1.384001658383998
         ]
        },
        {
         "hovertemplate": "hex color=#5B76FD<br>0=%{x}<br>1=%{y}<br>2=%{z}<extra></extra>",
         "legendgroup": "#5B76FD",
         "marker": {
          "color": "#FECB52",
          "symbol": "circle"
         },
         "mode": "markers",
         "name": "#5B76FD",
         "scene": "scene",
         "showlegend": true,
         "type": "scatter3d",
         "x": [
          1.0971936919918839
         ],
         "y": [
          0.33535750226685535
         ],
         "z": [
          -1.1045238982358856
         ]
        },
        {
         "hovertemplate": "hex color=#AEB607<br>0=%{x}<br>1=%{y}<br>2=%{z}<extra></extra>",
         "legendgroup": "#AEB607",
         "marker": {
          "color": "#636efa",
          "symbol": "circle"
         },
         "mode": "markers",
         "name": "#AEB607",
         "scene": "scene",
         "showlegend": true,
         "type": "scatter3d",
         "x": [
          -0.329905299496734
         ],
         "y": [
          0.4798450972187571
         ],
         "z": [
          0.9953921363491418
         ]
        },
        {
         "hovertemplate": "hex color=#B71F50<br>0=%{x}<br>1=%{y}<br>2=%{z}<extra></extra>",
         "legendgroup": "#B71F50",
         "marker": {
          "color": "#EF553B",
          "symbol": "circle"
         },
         "mode": "markers",
         "name": "#B71F50",
         "scene": "scene",
         "showlegend": true,
         "type": "scatter3d",
         "x": [
          0.8653725884240675
         ],
         "y": [
          0.7800836056767457
         ],
         "z": [
          0.16568456116740488
         ]
        },
        {
         "hovertemplate": "hex color=#AFD624<br>0=%{x}<br>1=%{y}<br>2=%{z}<extra></extra>",
         "legendgroup": "#AFD624",
         "marker": {
          "color": "#00cc96",
          "symbol": "circle"
         },
         "mode": "markers",
         "name": "#AFD624",
         "scene": "scene",
         "showlegend": true,
         "type": "scatter3d",
         "x": [
          -0.17384776477553823
         ],
         "y": [
          0.07710408823861122
         ],
         "z": [
          1.2978232034632047
         ]
        },
        {
         "hovertemplate": "hex color=#CEA521<br>0=%{x}<br>1=%{y}<br>2=%{z}<extra></extra>",
         "legendgroup": "#CEA521",
         "marker": {
          "color": "#ab63fa",
          "symbol": "circle"
         },
         "mode": "markers",
         "name": "#CEA521",
         "scene": "scene",
         "showlegend": true,
         "type": "scatter3d",
         "x": [
          -0.0508582329034736
         ],
         "y": [
          0.38992274549006906
         ],
         "z": [
          0.7611819456031302
         ]
        },
        {
         "hovertemplate": "hex color=#C64073<br>0=%{x}<br>1=%{y}<br>2=%{z}<extra></extra>",
         "legendgroup": "#C64073",
         "marker": {
          "color": "#FFA15A",
          "symbol": "circle"
         },
         "mode": "markers",
         "name": "#C64073",
         "scene": "scene",
         "showlegend": true,
         "type": "scatter3d",
         "x": [
          0.09268784278127813
         ],
         "y": [
          2.35223140752916
         ],
         "z": [
          1.8003220019171173
         ]
        },
        {
         "hovertemplate": "hex color=#01C59A<br>0=%{x}<br>1=%{y}<br>2=%{z}<extra></extra>",
         "legendgroup": "#01C59A",
         "marker": {
          "color": "#19d3f3",
          "symbol": "circle"
         },
         "mode": "markers",
         "name": "#01C59A",
         "scene": "scene",
         "showlegend": true,
         "type": "scatter3d",
         "x": [
          -0.7382455047454426
         ],
         "y": [
          -0.06423870744236099
         ],
         "z": [
          -0.47594848951662816
         ]
        },
        {
         "hovertemplate": "hex color=#B847A6<br>0=%{x}<br>1=%{y}<br>2=%{z}<extra></extra>",
         "legendgroup": "#B847A6",
         "marker": {
          "color": "#FF6692",
          "symbol": "circle"
         },
         "mode": "markers",
         "name": "#B847A6",
         "scene": "scene",
         "showlegend": true,
         "type": "scatter3d",
         "x": [
          0.3398950303764839
         ],
         "y": [
          1.6561478246934842
         ],
         "z": [
          -0.44131155861504257
         ]
        },
        {
         "hovertemplate": "hex color=#AFE746<br>0=%{x}<br>1=%{y}<br>2=%{z}<extra></extra>",
         "legendgroup": "#AFE746",
         "marker": {
          "color": "#B6E880",
          "symbol": "circle"
         },
         "mode": "markers",
         "name": "#AFE746",
         "scene": "scene",
         "showlegend": true,
         "type": "scatter3d",
         "x": [
          -0.03077417501249409
         ],
         "y": [
          0.30073614091362066
         ],
         "z": [
          1.32739968186038
         ]
        },
        {
         "hovertemplate": "hex color=#6DFE18<br>0=%{x}<br>1=%{y}<br>2=%{z}<extra></extra>",
         "legendgroup": "#6DFE18",
         "marker": {
          "color": "#FF97FF",
          "symbol": "circle"
         },
         "mode": "markers",
         "name": "#6DFE18",
         "scene": "scene",
         "showlegend": true,
         "type": "scatter3d",
         "x": [
          0.13906125830321425
         ],
         "y": [
          -1.8406752264545716
         ],
         "z": [
          0.04366842746185106
         ]
        },
        {
         "hovertemplate": "hex color=#DAF20C<br>0=%{x}<br>1=%{y}<br>2=%{z}<extra></extra>",
         "legendgroup": "#DAF20C",
         "marker": {
          "color": "#FECB52",
          "symbol": "circle"
         },
         "mode": "markers",
         "name": "#DAF20C",
         "scene": "scene",
         "showlegend": true,
         "type": "scatter3d",
         "x": [
          1.3307193284733225
         ],
         "y": [
          -1.5479806825308395
         ],
         "z": [
          1.438253868022227
         ]
        },
        {
         "hovertemplate": "hex color=#819DBC<br>0=%{x}<br>1=%{y}<br>2=%{z}<extra></extra>",
         "legendgroup": "#819DBC",
         "marker": {
          "color": "#636efa",
          "symbol": "circle"
         },
         "mode": "markers",
         "name": "#819DBC",
         "scene": "scene",
         "showlegend": true,
         "type": "scatter3d",
         "x": [
          -0.9728498071336756
         ],
         "y": [
          0.028768809465926967
         ],
         "z": [
          -0.29504483369911316
         ]
        },
        {
         "hovertemplate": "hex color=#209E63<br>0=%{x}<br>1=%{y}<br>2=%{z}<extra></extra>",
         "legendgroup": "#209E63",
         "marker": {
          "color": "#EF553B",
          "symbol": "circle"
         },
         "mode": "markers",
         "name": "#209E63",
         "scene": "scene",
         "showlegend": true,
         "type": "scatter3d",
         "x": [
          -1.1673954243287872
         ],
         "y": [
          -0.028838354049540882
         ],
         "z": [
          -0.379475447778671
         ]
        },
        {
         "hovertemplate": "hex color=#958DEB<br>0=%{x}<br>1=%{y}<br>2=%{z}<extra></extra>",
         "legendgroup": "#958DEB",
         "marker": {
          "color": "#00cc96",
          "symbol": "circle"
         },
         "mode": "markers",
         "name": "#958DEB",
         "scene": "scene",
         "showlegend": true,
         "type": "scatter3d",
         "x": [
          -0.3062784031661125
         ],
         "y": [
          -0.3482735397490424
         ],
         "z": [
          -0.3624962667093923
         ]
        },
        {
         "hovertemplate": "hex color=#A05248<br>0=%{x}<br>1=%{y}<br>2=%{z}<extra></extra>",
         "legendgroup": "#A05248",
         "marker": {
          "color": "#ab63fa",
          "symbol": "circle"
         },
         "mode": "markers",
         "name": "#A05248",
         "scene": "scene",
         "showlegend": true,
         "type": "scatter3d",
         "x": [
          -1.0239367733139844
         ],
         "y": [
          1.3325157810613975
         ],
         "z": [
          0.9430757461422905
         ]
        },
        {
         "hovertemplate": "hex color=#60FC17<br>0=%{x}<br>1=%{y}<br>2=%{z}<extra></extra>",
         "legendgroup": "#60FC17",
         "marker": {
          "color": "#FFA15A",
          "symbol": "circle"
         },
         "mode": "markers",
         "name": "#60FC17",
         "scene": "scene",
         "showlegend": true,
         "type": "scatter3d",
         "x": [
          -1.1015531553607385
         ],
         "y": [
          -1.987747022356694
         ],
         "z": [
          0.2595954474210237
         ]
        },
        {
         "hovertemplate": "hex color=#219E8A<br>0=%{x}<br>1=%{y}<br>2=%{z}<extra></extra>",
         "legendgroup": "#219E8A",
         "marker": {
          "color": "#19d3f3",
          "symbol": "circle"
         },
         "mode": "markers",
         "name": "#219E8A",
         "scene": "scene",
         "showlegend": true,
         "type": "scatter3d",
         "x": [
          -0.17598653572831144
         ],
         "y": [
          -0.3773981030095621
         ],
         "z": [
          -0.5680588083133785
         ]
        },
        {
         "hovertemplate": "hex color=#F9B6A3<br>0=%{x}<br>1=%{y}<br>2=%{z}<extra></extra>",
         "legendgroup": "#F9B6A3",
         "marker": {
          "color": "#FF6692",
          "symbol": "circle"
         },
         "mode": "markers",
         "name": "#F9B6A3",
         "scene": "scene",
         "showlegend": true,
         "type": "scatter3d",
         "x": [
          1.8642978913689632
         ],
         "y": [
          1.2528908719492284
         ],
         "z": [
          -0.7706514523158071
         ]
        },
        {
         "hovertemplate": "hex color=#7D296F<br>0=%{x}<br>1=%{y}<br>2=%{z}<extra></extra>",
         "legendgroup": "#7D296F",
         "marker": {
          "color": "#B6E880",
          "symbol": "circle"
         },
         "mode": "markers",
         "name": "#7D296F",
         "scene": "scene",
         "showlegend": true,
         "type": "scatter3d",
         "x": [
          -0.05713265396719189
         ],
         "y": [
          0.2072124127298203
         ],
         "z": [
          -0.5552457873746097
         ]
        },
        {
         "hovertemplate": "hex color=#613298<br>0=%{x}<br>1=%{y}<br>2=%{z}<extra></extra>",
         "legendgroup": "#613298",
         "marker": {
          "color": "#FF97FF",
          "symbol": "circle"
         },
         "mode": "markers",
         "name": "#613298",
         "scene": "scene",
         "showlegend": true,
         "type": "scatter3d",
         "x": [
          -2.7501837558705824
         ],
         "y": [
          1.8299846451542816
         ],
         "z": [
          0.3731748564925248
         ]
        },
        {
         "hovertemplate": "hex color=#2058C9<br>0=%{x}<br>1=%{y}<br>2=%{z}<extra></extra>",
         "legendgroup": "#2058C9",
         "marker": {
          "color": "#FECB52",
          "symbol": "circle"
         },
         "mode": "markers",
         "name": "#2058C9",
         "scene": "scene",
         "showlegend": true,
         "type": "scatter3d",
         "x": [
          -1.223885447443344
         ],
         "y": [
          0.11260558470643374
         ],
         "z": [
          -0.369383190450542
         ]
        },
        {
         "hovertemplate": "hex color=#7650C1<br>0=%{x}<br>1=%{y}<br>2=%{z}<extra></extra>",
         "legendgroup": "#7650C1",
         "marker": {
          "color": "#636efa",
          "symbol": "circle"
         },
         "mode": "markers",
         "name": "#7650C1",
         "scene": "scene",
         "showlegend": true,
         "type": "scatter3d",
         "x": [
          -1.1609233537877006
         ],
         "y": [
          0.3284307723904114
         ],
         "z": [
          -0.5181903441530785
         ]
        },
        {
         "hovertemplate": "hex color=#16845F<br>0=%{x}<br>1=%{y}<br>2=%{z}<extra></extra>",
         "legendgroup": "#16845F",
         "marker": {
          "color": "#EF553B",
          "symbol": "circle"
         },
         "mode": "markers",
         "name": "#16845F",
         "scene": "scene",
         "showlegend": true,
         "type": "scatter3d",
         "x": [
          -1.0649243025718345
         ],
         "y": [
          -1.5290663135284452
         ],
         "z": [
          0.11578900893884092
         ]
        },
        {
         "hovertemplate": "hex color=#5931AD<br>0=%{x}<br>1=%{y}<br>2=%{z}<extra></extra>",
         "legendgroup": "#5931AD",
         "marker": {
          "color": "#00cc96",
          "symbol": "circle"
         },
         "mode": "markers",
         "name": "#5931AD",
         "scene": "scene",
         "showlegend": true,
         "type": "scatter3d",
         "x": [
          -2.364913410560979
         ],
         "y": [
          -0.4652590088643142
         ],
         "z": [
          -0.16351346554315366
         ]
        },
        {
         "hovertemplate": "hex color=#F6985E<br>0=%{x}<br>1=%{y}<br>2=%{z}<extra></extra>",
         "legendgroup": "#F6985E",
         "marker": {
          "color": "#ab63fa",
          "symbol": "circle"
         },
         "mode": "markers",
         "name": "#F6985E",
         "scene": "scene",
         "showlegend": true,
         "type": "scatter3d",
         "x": [
          -0.23474461546223083
         ],
         "y": [
          0.77196326941424
         ],
         "z": [
          0.2723519145115006
         ]
        },
        {
         "hovertemplate": "hex color=#62D81F<br>0=%{x}<br>1=%{y}<br>2=%{z}<extra></extra>",
         "legendgroup": "#62D81F",
         "marker": {
          "color": "#FFA15A",
          "symbol": "circle"
         },
         "mode": "markers",
         "name": "#62D81F",
         "scene": "scene",
         "showlegend": true,
         "type": "scatter3d",
         "x": [
          -0.48383502980731274
         ],
         "y": [
          0.3036064482096143
         ],
         "z": [
          -0.5751424685214332
         ]
        },
        {
         "hovertemplate": "hex color=#0391EA<br>0=%{x}<br>1=%{y}<br>2=%{z}<extra></extra>",
         "legendgroup": "#0391EA",
         "marker": {
          "color": "#19d3f3",
          "symbol": "circle"
         },
         "mode": "markers",
         "name": "#0391EA",
         "scene": "scene",
         "showlegend": true,
         "type": "scatter3d",
         "x": [
          -1.8981008485779136
         ],
         "y": [
          0.3749275386016159
         ],
         "z": [
          0.4749271840262566
         ]
        },
        {
         "hovertemplate": "hex color=#5E10AF<br>0=%{x}<br>1=%{y}<br>2=%{z}<extra></extra>",
         "legendgroup": "#5E10AF",
         "marker": {
          "color": "#FF6692",
          "symbol": "circle"
         },
         "mode": "markers",
         "name": "#5E10AF",
         "scene": "scene",
         "showlegend": true,
         "type": "scatter3d",
         "x": [
          0.005704677376591753
         ],
         "y": [
          -1.862864475601832
         ],
         "z": [
          -0.028962758174168567
         ]
        },
        {
         "hovertemplate": "hex color=#4EFA57<br>0=%{x}<br>1=%{y}<br>2=%{z}<extra></extra>",
         "legendgroup": "#4EFA57",
         "marker": {
          "color": "#B6E880",
          "symbol": "circle"
         },
         "mode": "markers",
         "name": "#4EFA57",
         "scene": "scene",
         "showlegend": true,
         "type": "scatter3d",
         "x": [
          0.13614620719265275
         ],
         "y": [
          -1.2005744607814501
         ],
         "z": [
          -0.4726124516007026
         ]
        },
        {
         "hovertemplate": "hex color=#5DC76E<br>0=%{x}<br>1=%{y}<br>2=%{z}<extra></extra>",
         "legendgroup": "#5DC76E",
         "marker": {
          "color": "#FF97FF",
          "symbol": "circle"
         },
         "mode": "markers",
         "name": "#5DC76E",
         "scene": "scene",
         "showlegend": true,
         "type": "scatter3d",
         "x": [
          -0.06096470788928755
         ],
         "y": [
          0.02495227224524
         ],
         "z": [
          -0.7505422450161777
         ]
        },
        {
         "hovertemplate": "hex color=#6A9382<br>0=%{x}<br>1=%{y}<br>2=%{z}<extra></extra>",
         "legendgroup": "#6A9382",
         "marker": {
          "color": "#FECB52",
          "symbol": "circle"
         },
         "mode": "markers",
         "name": "#6A9382",
         "scene": "scene",
         "showlegend": true,
         "type": "scatter3d",
         "x": [
          -1.145949638449819
         ],
         "y": [
          1.3324606328508322
         ],
         "z": [
          -0.9362290470471256
         ]
        },
        {
         "hovertemplate": "hex color=#7ADB3F<br>0=%{x}<br>1=%{y}<br>2=%{z}<extra></extra>",
         "legendgroup": "#7ADB3F",
         "marker": {
          "color": "#636efa",
          "symbol": "circle"
         },
         "mode": "markers",
         "name": "#7ADB3F",
         "scene": "scene",
         "showlegend": true,
         "type": "scatter3d",
         "x": [
          1.8363624607497349
         ],
         "y": [
          -0.833624172107724
         ],
         "z": [
          -0.607771601936898
         ]
        },
        {
         "hovertemplate": "hex color=#A903DF<br>0=%{x}<br>1=%{y}<br>2=%{z}<extra></extra>",
         "legendgroup": "#A903DF",
         "marker": {
          "color": "#EF553B",
          "symbol": "circle"
         },
         "mode": "markers",
         "name": "#A903DF",
         "scene": "scene",
         "showlegend": true,
         "type": "scatter3d",
         "x": [
          0.4984653517142458
         ],
         "y": [
          -0.4084059848085622
         ],
         "z": [
          1.7774171773981136
         ]
        },
        {
         "hovertemplate": "hex color=#1D398C<br>0=%{x}<br>1=%{y}<br>2=%{z}<extra></extra>",
         "legendgroup": "#1D398C",
         "marker": {
          "color": "#00cc96",
          "symbol": "circle"
         },
         "mode": "markers",
         "name": "#1D398C",
         "scene": "scene",
         "showlegend": true,
         "type": "scatter3d",
         "x": [
          -0.24833154579871283
         ],
         "y": [
          0.14250661693966812
         ],
         "z": [
          -0.31879823317372485
         ]
        },
        {
         "hovertemplate": "hex color=#A75C9B<br>0=%{x}<br>1=%{y}<br>2=%{z}<extra></extra>",
         "legendgroup": "#A75C9B",
         "marker": {
          "color": "#ab63fa",
          "symbol": "circle"
         },
         "mode": "markers",
         "name": "#A75C9B",
         "scene": "scene",
         "showlegend": true,
         "type": "scatter3d",
         "x": [
          0.377463385118331
         ],
         "y": [
          1.0165673065763234
         ],
         "z": [
          -0.5768069589764524
         ]
        },
        {
         "hovertemplate": "hex color=#3FC60D<br>0=%{x}<br>1=%{y}<br>2=%{z}<extra></extra>",
         "legendgroup": "#3FC60D",
         "marker": {
          "color": "#FFA15A",
          "symbol": "circle"
         },
         "mode": "markers",
         "name": "#3FC60D",
         "scene": "scene",
         "showlegend": true,
         "type": "scatter3d",
         "x": [
          0.19567071677831518
         ],
         "y": [
          -1.7187792615759154
         ],
         "z": [
          -0.002241889824733788
         ]
        },
        {
         "hovertemplate": "hex color=#67DEB5<br>0=%{x}<br>1=%{y}<br>2=%{z}<extra></extra>",
         "legendgroup": "#67DEB5",
         "marker": {
          "color": "#19d3f3",
          "symbol": "circle"
         },
         "mode": "markers",
         "name": "#67DEB5",
         "scene": "scene",
         "showlegend": true,
         "type": "scatter3d",
         "x": [
          0.4985563093901437
         ],
         "y": [
          -0.5742563982651732
         ],
         "z": [
          -0.8157884091272514
         ]
        },
        {
         "hovertemplate": "hex color=#C7D4FE<br>0=%{x}<br>1=%{y}<br>2=%{z}<extra></extra>",
         "legendgroup": "#C7D4FE",
         "marker": {
          "color": "#FF6692",
          "symbol": "circle"
         },
         "mode": "markers",
         "name": "#C7D4FE",
         "scene": "scene",
         "showlegend": true,
         "type": "scatter3d",
         "x": [
          2.8029465451763538
         ],
         "y": [
          -0.3217327556280043
         ],
         "z": [
          1.1216347442531387
         ]
        },
        {
         "hovertemplate": "hex color=#29364B<br>0=%{x}<br>1=%{y}<br>2=%{z}<extra></extra>",
         "legendgroup": "#29364B",
         "marker": {
          "color": "#B6E880",
          "symbol": "circle"
         },
         "mode": "markers",
         "name": "#29364B",
         "scene": "scene",
         "showlegend": true,
         "type": "scatter3d",
         "x": [
          -0.921933799975596
         ],
         "y": [
          -0.283754573120179
         ],
         "z": [
          0.17180123321987834
         ]
        },
        {
         "hovertemplate": "hex color=#D64B9C<br>0=%{x}<br>1=%{y}<br>2=%{z}<extra></extra>",
         "legendgroup": "#D64B9C",
         "marker": {
          "color": "#FF97FF",
          "symbol": "circle"
         },
         "mode": "markers",
         "name": "#D64B9C",
         "scene": "scene",
         "showlegend": true,
         "type": "scatter3d",
         "x": [
          1.1374059509050622
         ],
         "y": [
          0.7838931817977367
         ],
         "z": [
          0.2631431162340805
         ]
        },
        {
         "hovertemplate": "hex color=#FD12E7<br>0=%{x}<br>1=%{y}<br>2=%{z}<extra></extra>",
         "legendgroup": "#FD12E7",
         "marker": {
          "color": "#FECB52",
          "symbol": "circle"
         },
         "mode": "markers",
         "name": "#FD12E7",
         "scene": "scene",
         "showlegend": true,
         "type": "scatter3d",
         "x": [
          1.1677739406395247
         ],
         "y": [
          -0.023970613077890834
         ],
         "z": [
          0.5889515689500735
         ]
        },
        {
         "hovertemplate": "hex color=#34FDAB<br>0=%{x}<br>1=%{y}<br>2=%{z}<extra></extra>",
         "legendgroup": "#34FDAB",
         "marker": {
          "color": "#636efa",
          "symbol": "circle"
         },
         "mode": "markers",
         "name": "#34FDAB",
         "scene": "scene",
         "showlegend": true,
         "type": "scatter3d",
         "x": [
          0.6094439183781517
         ],
         "y": [
          -1.7526680275737343
         ],
         "z": [
          -0.6639425597790576
         ]
        },
        {
         "hovertemplate": "hex color=#E90D12<br>0=%{x}<br>1=%{y}<br>2=%{z}<extra></extra>",
         "legendgroup": "#E90D12",
         "marker": {
          "color": "#EF553B",
          "symbol": "circle"
         },
         "mode": "markers",
         "name": "#E90D12",
         "scene": "scene",
         "showlegend": true,
         "type": "scatter3d",
         "x": [
          -0.04906927446814998
         ],
         "y": [
          -0.6304461038309997
         ],
         "z": [
          0.9949778621891463
         ]
        },
        {
         "hovertemplate": "hex color=#BD76E4<br>0=%{x}<br>1=%{y}<br>2=%{z}<extra></extra>",
         "legendgroup": "#BD76E4",
         "marker": {
          "color": "#00cc96",
          "symbol": "circle"
         },
         "mode": "markers",
         "name": "#BD76E4",
         "scene": "scene",
         "showlegend": true,
         "type": "scatter3d",
         "x": [
          2.2517429387433605
         ],
         "y": [
          1.4557173608837097
         ],
         "z": [
          -0.3295231922482165
         ]
        },
        {
         "hovertemplate": "hex color=#96A2B5<br>0=%{x}<br>1=%{y}<br>2=%{z}<extra></extra>",
         "legendgroup": "#96A2B5",
         "marker": {
          "color": "#ab63fa",
          "symbol": "circle"
         },
         "mode": "markers",
         "name": "#96A2B5",
         "scene": "scene",
         "showlegend": true,
         "type": "scatter3d",
         "x": [
          0.4698389953223243
         ],
         "y": [
          0.680412377785547
         ],
         "z": [
          -1.6310140028309068
         ]
        },
        {
         "hovertemplate": "hex color=#E1B7F2<br>0=%{x}<br>1=%{y}<br>2=%{z}<extra></extra>",
         "legendgroup": "#E1B7F2",
         "marker": {
          "color": "#FFA15A",
          "symbol": "circle"
         },
         "mode": "markers",
         "name": "#E1B7F2",
         "scene": "scene",
         "showlegend": true,
         "type": "scatter3d",
         "x": [
          2.478615130824617
         ],
         "y": [
          0.6679444582251179
         ],
         "z": [
          -0.07412266006895585
         ]
        },
        {
         "hovertemplate": "hex color=#A8B6DF<br>0=%{x}<br>1=%{y}<br>2=%{z}<extra></extra>",
         "legendgroup": "#A8B6DF",
         "marker": {
          "color": "#19d3f3",
          "symbol": "circle"
         },
         "mode": "markers",
         "name": "#A8B6DF",
         "scene": "scene",
         "showlegend": true,
         "type": "scatter3d",
         "x": [
          1.5103404141882852
         ],
         "y": [
          0.6302707604272094
         ],
         "z": [
          -0.08565706121589717
         ]
        },
        {
         "hovertemplate": "hex color=#DE825C<br>0=%{x}<br>1=%{y}<br>2=%{z}<extra></extra>",
         "legendgroup": "#DE825C",
         "marker": {
          "color": "#FF6692",
          "symbol": "circle"
         },
         "mode": "markers",
         "name": "#DE825C",
         "scene": "scene",
         "showlegend": true,
         "type": "scatter3d",
         "x": [
          0.326015658033771
         ],
         "y": [
          -0.5216865258544637
         ],
         "z": [
          0.7570455176449673
         ]
        },
        {
         "hovertemplate": "hex color=#3086B9<br>0=%{x}<br>1=%{y}<br>2=%{z}<extra></extra>",
         "legendgroup": "#3086B9",
         "marker": {
          "color": "#B6E880",
          "symbol": "circle"
         },
         "mode": "markers",
         "name": "#3086B9",
         "scene": "scene",
         "showlegend": true,
         "type": "scatter3d",
         "x": [
          -0.9838703578545491
         ],
         "y": [
          0.5108110886189204
         ],
         "z": [
          -0.7164839695308995
         ]
        },
        {
         "hovertemplate": "hex color=#F529AB<br>0=%{x}<br>1=%{y}<br>2=%{z}<extra></extra>",
         "legendgroup": "#F529AB",
         "marker": {
          "color": "#FF97FF",
          "symbol": "circle"
         },
         "mode": "markers",
         "name": "#F529AB",
         "scene": "scene",
         "showlegend": true,
         "type": "scatter3d",
         "x": [
          -0.1900024231641716
         ],
         "y": [
          0.10105601190991127
         ],
         "z": [
          0.44970264837385926
         ]
        },
        {
         "hovertemplate": "hex color=#54F3EC<br>0=%{x}<br>1=%{y}<br>2=%{z}<extra></extra>",
         "legendgroup": "#54F3EC",
         "marker": {
          "color": "#FECB52",
          "symbol": "circle"
         },
         "mode": "markers",
         "name": "#54F3EC",
         "scene": "scene",
         "showlegend": true,
         "type": "scatter3d",
         "x": [
          0.12957792968069526
         ],
         "y": [
          -1.4424131201911365
         ],
         "z": [
          -0.5625284492655186
         ]
        },
        {
         "hovertemplate": "hex color=#74FAC8<br>0=%{x}<br>1=%{y}<br>2=%{z}<extra></extra>",
         "legendgroup": "#74FAC8",
         "marker": {
          "color": "#636efa",
          "symbol": "circle"
         },
         "mode": "markers",
         "name": "#74FAC8",
         "scene": "scene",
         "showlegend": true,
         "type": "scatter3d",
         "x": [
          -0.3128624407457211
         ],
         "y": [
          -0.9043222200958412
         ],
         "z": [
          0.027630901768101297
         ]
        },
        {
         "hovertemplate": "hex color=#FA839E<br>0=%{x}<br>1=%{y}<br>2=%{z}<extra></extra>",
         "legendgroup": "#FA839E",
         "marker": {
          "color": "#EF553B",
          "symbol": "circle"
         },
         "mode": "markers",
         "name": "#FA839E",
         "scene": "scene",
         "showlegend": true,
         "type": "scatter3d",
         "x": [
          -0.13420149350522464
         ],
         "y": [
          -0.4073570722868375
         ],
         "z": [
          1.0318770462666176
         ]
        },
        {
         "hovertemplate": "hex color=#BA8562<br>0=%{x}<br>1=%{y}<br>2=%{z}<extra></extra>",
         "legendgroup": "#BA8562",
         "marker": {
          "color": "#00cc96",
          "symbol": "circle"
         },
         "mode": "markers",
         "name": "#BA8562",
         "scene": "scene",
         "showlegend": true,
         "type": "scatter3d",
         "x": [
          -1.0110469703006817
         ],
         "y": [
          1.0386601069865007
         ],
         "z": [
          0.15399238846387606
         ]
        },
        {
         "hovertemplate": "hex color=#F920BE<br>0=%{x}<br>1=%{y}<br>2=%{z}<extra></extra>",
         "legendgroup": "#F920BE",
         "marker": {
          "color": "#ab63fa",
          "symbol": "circle"
         },
         "mode": "markers",
         "name": "#F920BE",
         "scene": "scene",
         "showlegend": true,
         "type": "scatter3d",
         "x": [
          0.46524759908838975
         ],
         "y": [
          -0.46849956364402806
         ],
         "z": [
          1.148773105004353
         ]
        },
        {
         "hovertemplate": "hex color=#20973F<br>0=%{x}<br>1=%{y}<br>2=%{z}<extra></extra>",
         "legendgroup": "#20973F",
         "marker": {
          "color": "#FFA15A",
          "symbol": "circle"
         },
         "mode": "markers",
         "name": "#20973F",
         "scene": "scene",
         "showlegend": true,
         "type": "scatter3d",
         "x": [
          -1.2294886639936644
         ],
         "y": [
          0.026673545708920283
         ],
         "z": [
          -0.16981318175161636
         ]
        },
        {
         "hovertemplate": "hex color=#DAC279<br>0=%{x}<br>1=%{y}<br>2=%{z}<extra></extra>",
         "legendgroup": "#DAC279",
         "marker": {
          "color": "#19d3f3",
          "symbol": "circle"
         },
         "mode": "markers",
         "name": "#DAC279",
         "scene": "scene",
         "showlegend": true,
         "type": "scatter3d",
         "x": [
          -0.2268324555971919
         ],
         "y": [
          -0.08425800785394051
         ],
         "z": [
          1.0683795494984634
         ]
        },
        {
         "hovertemplate": "hex color=#A97C02<br>0=%{x}<br>1=%{y}<br>2=%{z}<extra></extra>",
         "legendgroup": "#A97C02",
         "marker": {
          "color": "#FF6692",
          "symbol": "circle"
         },
         "mode": "markers",
         "name": "#A97C02",
         "scene": "scene",
         "showlegend": true,
         "type": "scatter3d",
         "x": [
          0.12577655319568648
         ],
         "y": [
          1.875599968672114
         ],
         "z": [
          0.37637906144139616
         ]
        },
        {
         "hovertemplate": "hex color=#69B4F1<br>0=%{x}<br>1=%{y}<br>2=%{z}<extra></extra>",
         "legendgroup": "#69B4F1",
         "marker": {
          "color": "#B6E880",
          "symbol": "circle"
         },
         "mode": "markers",
         "name": "#69B4F1",
         "scene": "scene",
         "showlegend": true,
         "type": "scatter3d",
         "x": [
          1.3107710604135945
         ],
         "y": [
          0.10862365264996002
         ],
         "z": [
          -0.7328748754722654
         ]
        },
        {
         "hovertemplate": "hex color=#BF934D<br>0=%{x}<br>1=%{y}<br>2=%{z}<extra></extra>",
         "legendgroup": "#BF934D",
         "marker": {
          "color": "#FF97FF",
          "symbol": "circle"
         },
         "mode": "markers",
         "name": "#BF934D",
         "scene": "scene",
         "showlegend": true,
         "type": "scatter3d",
         "x": [
          -0.13488537450588378
         ],
         "y": [
          -0.426280636702278
         ],
         "z": [
          0.19235136431343547
         ]
        },
        {
         "hovertemplate": "hex color=#15C290<br>0=%{x}<br>1=%{y}<br>2=%{z}<extra></extra>",
         "legendgroup": "#15C290",
         "marker": {
          "color": "#FECB52",
          "symbol": "circle"
         },
         "mode": "markers",
         "name": "#15C290",
         "scene": "scene",
         "showlegend": true,
         "type": "scatter3d",
         "x": [
          -1.113861009227589
         ],
         "y": [
          -0.0761663827042713
         ],
         "z": [
          0.08452427169043625
         ]
        },
        {
         "hovertemplate": "hex color=#24AD70<br>0=%{x}<br>1=%{y}<br>2=%{z}<extra></extra>",
         "legendgroup": "#24AD70",
         "marker": {
          "color": "#636efa",
          "symbol": "circle"
         },
         "mode": "markers",
         "name": "#24AD70",
         "scene": "scene",
         "showlegend": true,
         "type": "scatter3d",
         "x": [
          -1.0742359220142002
         ],
         "y": [
          -1.0947959029059082
         ],
         "z": [
          -0.18165587563121544
         ]
        },
        {
         "hovertemplate": "hex color=#08CE7F<br>0=%{x}<br>1=%{y}<br>2=%{z}<extra></extra>",
         "legendgroup": "#08CE7F",
         "marker": {
          "color": "#EF553B",
          "symbol": "circle"
         },
         "mode": "markers",
         "name": "#08CE7F",
         "scene": "scene",
         "showlegend": true,
         "type": "scatter3d",
         "x": [
          -0.1336771461176533
         ],
         "y": [
          -1.0897759541168728
         ],
         "z": [
          0.5575411953859939
         ]
        },
        {
         "hovertemplate": "hex color=#1698F5<br>0=%{x}<br>1=%{y}<br>2=%{z}<extra></extra>",
         "legendgroup": "#1698F5",
         "marker": {
          "color": "#00cc96",
          "symbol": "circle"
         },
         "mode": "markers",
         "name": "#1698F5",
         "scene": "scene",
         "showlegend": true,
         "type": "scatter3d",
         "x": [
          0.23440199322528585
         ],
         "y": [
          -0.7128407482379742
         ],
         "z": [
          0.20059239997368436
         ]
        },
        {
         "hovertemplate": "hex color=#75B6EF<br>0=%{x}<br>1=%{y}<br>2=%{z}<extra></extra>",
         "legendgroup": "#75B6EF",
         "marker": {
          "color": "#ab63fa",
          "symbol": "circle"
         },
         "mode": "markers",
         "name": "#75B6EF",
         "scene": "scene",
         "showlegend": true,
         "type": "scatter3d",
         "x": [
          -0.0963372848394714
         ],
         "y": [
          -0.5916530388163932
         ],
         "z": [
          -0.6270364913298467
         ]
        },
        {
         "hovertemplate": "hex color=#C462BD<br>0=%{x}<br>1=%{y}<br>2=%{z}<extra></extra>",
         "legendgroup": "#C462BD",
         "marker": {
          "color": "#FFA15A",
          "symbol": "circle"
         },
         "mode": "markers",
         "name": "#C462BD",
         "scene": "scene",
         "showlegend": true,
         "type": "scatter3d",
         "x": [
          1.2695275638664723
         ],
         "y": [
          0.6742738856497533
         ],
         "z": [
          -0.05338575780962596
         ]
        },
        {
         "hovertemplate": "hex color=#1045EC<br>0=%{x}<br>1=%{y}<br>2=%{z}<extra></extra>",
         "legendgroup": "#1045EC",
         "marker": {
          "color": "#19d3f3",
          "symbol": "circle"
         },
         "mode": "markers",
         "name": "#1045EC",
         "scene": "scene",
         "showlegend": true,
         "type": "scatter3d",
         "x": [
          -1.2749821091579332
         ],
         "y": [
          -1.229910114782317
         ],
         "z": [
          0.11305699712376469
         ]
        },
        {
         "hovertemplate": "hex color=#891B30<br>0=%{x}<br>1=%{y}<br>2=%{z}<extra></extra>",
         "legendgroup": "#891B30",
         "marker": {
          "color": "#FF6692",
          "symbol": "circle"
         },
         "mode": "markers",
         "name": "#891B30",
         "scene": "scene",
         "showlegend": true,
         "type": "scatter3d",
         "x": [
          -1.2150086514664107
         ],
         "y": [
          0.6756457073933446
         ],
         "z": [
          -0.5984456609680456
         ]
        },
        {
         "hovertemplate": "hex color=#752A31<br>0=%{x}<br>1=%{y}<br>2=%{z}<extra></extra>",
         "legendgroup": "#752A31",
         "marker": {
          "color": "#B6E880",
          "symbol": "circle"
         },
         "mode": "markers",
         "name": "#752A31",
         "scene": "scene",
         "showlegend": true,
         "type": "scatter3d",
         "x": [
          -1.4703780125871195
         ],
         "y": [
          0.7032412751949793
         ],
         "z": [
          -0.9377631562488709
         ]
        },
        {
         "hovertemplate": "hex color=#83D175<br>0=%{x}<br>1=%{y}<br>2=%{z}<extra></extra>",
         "legendgroup": "#83D175",
         "marker": {
          "color": "#FF97FF",
          "symbol": "circle"
         },
         "mode": "markers",
         "name": "#83D175",
         "scene": "scene",
         "showlegend": true,
         "type": "scatter3d",
         "x": [
          -1.1363937203205214
         ],
         "y": [
          -0.016474130404844044
         ],
         "z": [
          -0.24180150691241206
         ]
        },
        {
         "hovertemplate": "hex color=#9B6580<br>0=%{x}<br>1=%{y}<br>2=%{z}<extra></extra>",
         "legendgroup": "#9B6580",
         "marker": {
          "color": "#FECB52",
          "symbol": "circle"
         },
         "mode": "markers",
         "name": "#9B6580",
         "scene": "scene",
         "showlegend": true,
         "type": "scatter3d",
         "x": [
          -1.3318247790435525
         ],
         "y": [
          0.45098893943370266
         ],
         "z": [
          -0.13748368515335022
         ]
        },
        {
         "hovertemplate": "hex color=#5F6AEC<br>0=%{x}<br>1=%{y}<br>2=%{z}<extra></extra>",
         "legendgroup": "#5F6AEC",
         "marker": {
          "color": "#636efa",
          "symbol": "circle"
         },
         "mode": "markers",
         "name": "#5F6AEC",
         "scene": "scene",
         "showlegend": true,
         "type": "scatter3d",
         "x": [
          1.1845292785501373
         ],
         "y": [
          -1.1764546704162158
         ],
         "z": [
          -0.5254593659918672
         ]
        },
        {
         "hovertemplate": "hex color=#38C7FD<br>0=%{x}<br>1=%{y}<br>2=%{z}<extra></extra>",
         "legendgroup": "#38C7FD",
         "marker": {
          "color": "#EF553B",
          "symbol": "circle"
         },
         "mode": "markers",
         "name": "#38C7FD",
         "scene": "scene",
         "showlegend": true,
         "type": "scatter3d",
         "x": [
          0.3043803654586596
         ],
         "y": [
          -0.6155953047901603
         ],
         "z": [
          -0.562347180019866
         ]
        },
        {
         "hovertemplate": "hex color=#E9D763<br>0=%{x}<br>1=%{y}<br>2=%{z}<extra></extra>",
         "legendgroup": "#E9D763",
         "marker": {
          "color": "#00cc96",
          "symbol": "circle"
         },
         "mode": "markers",
         "name": "#E9D763",
         "scene": "scene",
         "showlegend": true,
         "type": "scatter3d",
         "x": [
          0.653120891993997
         ],
         "y": [
          1.2249894360369866
         ],
         "z": [
          0.4893347866650057
         ]
        },
        {
         "hovertemplate": "hex color=#7E432F<br>0=%{x}<br>1=%{y}<br>2=%{z}<extra></extra>",
         "legendgroup": "#7E432F",
         "marker": {
          "color": "#ab63fa",
          "symbol": "circle"
         },
         "mode": "markers",
         "name": "#7E432F",
         "scene": "scene",
         "showlegend": true,
         "type": "scatter3d",
         "x": [
          -0.12475310460966539
         ],
         "y": [
          -0.018273738918518988
         ],
         "z": [
          -0.3941216085588848
         ]
        },
        {
         "hovertemplate": "hex color=#72E8C3<br>0=%{x}<br>1=%{y}<br>2=%{z}<extra></extra>",
         "legendgroup": "#72E8C3",
         "marker": {
          "color": "#FFA15A",
          "symbol": "circle"
         },
         "mode": "markers",
         "name": "#72E8C3",
         "scene": "scene",
         "showlegend": true,
         "type": "scatter3d",
         "x": [
          0.16855994358839366
         ],
         "y": [
          0.2973019472425981
         ],
         "z": [
          -0.7989492398589739
         ]
        },
        {
         "hovertemplate": "hex color=#F84071<br>0=%{x}<br>1=%{y}<br>2=%{z}<extra></extra>",
         "legendgroup": "#F84071",
         "marker": {
          "color": "#19d3f3",
          "symbol": "circle"
         },
         "mode": "markers",
         "name": "#F84071",
         "scene": "scene",
         "showlegend": true,
         "type": "scatter3d",
         "x": [
          -0.35297906682252916
         ],
         "y": [
          1.5431848926248586
         ],
         "z": [
          0.8667030931566925
         ]
        },
        {
         "hovertemplate": "hex color=#C3A5E4<br>0=%{x}<br>1=%{y}<br>2=%{z}<extra></extra>",
         "legendgroup": "#C3A5E4",
         "marker": {
          "color": "#FF6692",
          "symbol": "circle"
         },
         "mode": "markers",
         "name": "#C3A5E4",
         "scene": "scene",
         "showlegend": true,
         "type": "scatter3d",
         "x": [
          3.0548772445998966
         ],
         "y": [
          0.9599374737228076
         ],
         "z": [
          -0.16506814211036566
         ]
        },
        {
         "hovertemplate": "hex color=#3C7654<br>0=%{x}<br>1=%{y}<br>2=%{z}<extra></extra>",
         "legendgroup": "#3C7654",
         "marker": {
          "color": "#B6E880",
          "symbol": "circle"
         },
         "mode": "markers",
         "name": "#3C7654",
         "scene": "scene",
         "showlegend": true,
         "type": "scatter3d",
         "x": [
          -0.3825056991961904
         ],
         "y": [
          0.8691408031235012
         ],
         "z": [
          -0.31100491017933113
         ]
        },
        {
         "hovertemplate": "hex color=#C05D28<br>0=%{x}<br>1=%{y}<br>2=%{z}<extra></extra>",
         "legendgroup": "#C05D28",
         "marker": {
          "color": "#FF97FF",
          "symbol": "circle"
         },
         "mode": "markers",
         "name": "#C05D28",
         "scene": "scene",
         "showlegend": true,
         "type": "scatter3d",
         "x": [
          0.9547239870936817
         ],
         "y": [
          0.5503754233851672
         ],
         "z": [
          1.2816953946704999
         ]
        },
        {
         "hovertemplate": "hex color=#267F5C<br>0=%{x}<br>1=%{y}<br>2=%{z}<extra></extra>",
         "legendgroup": "#267F5C",
         "marker": {
          "color": "#FECB52",
          "symbol": "circle"
         },
         "mode": "markers",
         "name": "#267F5C",
         "scene": "scene",
         "showlegend": true,
         "type": "scatter3d",
         "x": [
          0.8208291408858824
         ],
         "y": [
          -1.2004318518909902
         ],
         "z": [
          -0.3102770946981927
         ]
        },
        {
         "hovertemplate": "hex color=#CB1865<br>0=%{x}<br>1=%{y}<br>2=%{z}<extra></extra>",
         "legendgroup": "#CB1865",
         "marker": {
          "color": "#636efa",
          "symbol": "circle"
         },
         "mode": "markers",
         "name": "#CB1865",
         "scene": "scene",
         "showlegend": true,
         "type": "scatter3d",
         "x": [
          -1.216669944966745
         ],
         "y": [
          -0.5434245306583149
         ],
         "z": [
          0.8101221727090567
         ]
        },
        {
         "hovertemplate": "hex color=#CF9514<br>0=%{x}<br>1=%{y}<br>2=%{z}<extra></extra>",
         "legendgroup": "#CF9514",
         "marker": {
          "color": "#EF553B",
          "symbol": "circle"
         },
         "mode": "markers",
         "name": "#CF9514",
         "scene": "scene",
         "showlegend": true,
         "type": "scatter3d",
         "x": [
          -0.6986014437294426
         ],
         "y": [
          0.6560758967087722
         ],
         "z": [
          1.1393516620940625
         ]
        },
        {
         "hovertemplate": "hex color=#923E6B<br>0=%{x}<br>1=%{y}<br>2=%{z}<extra></extra>",
         "legendgroup": "#923E6B",
         "marker": {
          "color": "#00cc96",
          "symbol": "circle"
         },
         "mode": "markers",
         "name": "#923E6B",
         "scene": "scene",
         "showlegend": true,
         "type": "scatter3d",
         "x": [
          -0.061086078758891715
         ],
         "y": [
          0.7593496519197386
         ],
         "z": [
          -1.7153016749867407
         ]
        },
        {
         "hovertemplate": "hex color=#42D56C<br>0=%{x}<br>1=%{y}<br>2=%{z}<extra></extra>",
         "legendgroup": "#42D56C",
         "marker": {
          "color": "#ab63fa",
          "symbol": "circle"
         },
         "mode": "markers",
         "name": "#42D56C",
         "scene": "scene",
         "showlegend": true,
         "type": "scatter3d",
         "x": [
          -0.4751380481398972
         ],
         "y": [
          -0.7042838554394665
         ],
         "z": [
          -1.2032545319950658
         ]
        },
        {
         "hovertemplate": "hex color=#76F2BD<br>0=%{x}<br>1=%{y}<br>2=%{z}<extra></extra>",
         "legendgroup": "#76F2BD",
         "marker": {
          "color": "#FFA15A",
          "symbol": "circle"
         },
         "mode": "markers",
         "name": "#76F2BD",
         "scene": "scene",
         "showlegend": true,
         "type": "scatter3d",
         "x": [
          0.9242418755621504
         ],
         "y": [
          -0.41595240273271333
         ],
         "z": [
          -1.2515055472152001
         ]
        },
        {
         "hovertemplate": "hex color=#E7029A<br>0=%{x}<br>1=%{y}<br>2=%{z}<extra></extra>",
         "legendgroup": "#E7029A",
         "marker": {
          "color": "#19d3f3",
          "symbol": "circle"
         },
         "mode": "markers",
         "name": "#E7029A",
         "scene": "scene",
         "showlegend": true,
         "type": "scatter3d",
         "x": [
          -0.7869888803518783
         ],
         "y": [
          0.8137048630080156
         ],
         "z": [
          0.22134479479613256
         ]
        },
        {
         "hovertemplate": "hex color=#8F49C3<br>0=%{x}<br>1=%{y}<br>2=%{z}<extra></extra>",
         "legendgroup": "#8F49C3",
         "marker": {
          "color": "#FF6692",
          "symbol": "circle"
         },
         "mode": "markers",
         "name": "#8F49C3",
         "scene": "scene",
         "showlegend": true,
         "type": "scatter3d",
         "x": [
          0.5034632220562875
         ],
         "y": [
          -0.25745090047224206
         ],
         "z": [
          -0.23112960312493566
         ]
        },
        {
         "hovertemplate": "hex color=#A6D253<br>0=%{x}<br>1=%{y}<br>2=%{z}<extra></extra>",
         "legendgroup": "#A6D253",
         "marker": {
          "color": "#B6E880",
          "symbol": "circle"
         },
         "mode": "markers",
         "name": "#A6D253",
         "scene": "scene",
         "showlegend": true,
         "type": "scatter3d",
         "x": [
          0.5108966155491426
         ],
         "y": [
          1.0726946112542808
         ],
         "z": [
          -0.03412451530443346
         ]
        },
        {
         "hovertemplate": "hex color=#1F0B82<br>0=%{x}<br>1=%{y}<br>2=%{z}<extra></extra>",
         "legendgroup": "#1F0B82",
         "marker": {
          "color": "#FF97FF",
          "symbol": "circle"
         },
         "mode": "markers",
         "name": "#1F0B82",
         "scene": "scene",
         "showlegend": true,
         "type": "scatter3d",
         "x": [
          1.2345578931197867
         ],
         "y": [
          0.631304119184441
         ],
         "z": [
          -0.1283737177108856
         ]
        },
        {
         "hovertemplate": "hex color=#1AC9B3<br>0=%{x}<br>1=%{y}<br>2=%{z}<extra></extra>",
         "legendgroup": "#1AC9B3",
         "marker": {
          "color": "#FECB52",
          "symbol": "circle"
         },
         "mode": "markers",
         "name": "#1AC9B3",
         "scene": "scene",
         "showlegend": true,
         "type": "scatter3d",
         "x": [
          1.0113266984679823
         ],
         "y": [
          0.7058412317504461
         ],
         "z": [
          -1.2417159079786566
         ]
        }
       ],
       "layout": {
        "legend": {
         "title": {
          "text": "hex color"
         },
         "tracegroupgap": 0
        },
        "scene": {
         "domain": {
          "x": [
           0,
           1
          ],
          "y": [
           0,
           1
          ]
         },
         "xaxis": {
          "title": {
           "text": "0"
          }
         },
         "yaxis": {
          "title": {
           "text": "1"
          }
         },
         "zaxis": {
          "title": {
           "text": "2"
          }
         }
        },
        "showlegend": false,
        "template": {
         "data": {
          "bar": [
           {
            "error_x": {
             "color": "#2a3f5f"
            },
            "error_y": {
             "color": "#2a3f5f"
            },
            "marker": {
             "line": {
              "color": "#E5ECF6",
              "width": 0.5
             },
             "pattern": {
              "fillmode": "overlay",
              "size": 10,
              "solidity": 0.2
             }
            },
            "type": "bar"
           }
          ],
          "barpolar": [
           {
            "marker": {
             "line": {
              "color": "#E5ECF6",
              "width": 0.5
             },
             "pattern": {
              "fillmode": "overlay",
              "size": 10,
              "solidity": 0.2
             }
            },
            "type": "barpolar"
           }
          ],
          "carpet": [
           {
            "aaxis": {
             "endlinecolor": "#2a3f5f",
             "gridcolor": "white",
             "linecolor": "white",
             "minorgridcolor": "white",
             "startlinecolor": "#2a3f5f"
            },
            "baxis": {
             "endlinecolor": "#2a3f5f",
             "gridcolor": "white",
             "linecolor": "white",
             "minorgridcolor": "white",
             "startlinecolor": "#2a3f5f"
            },
            "type": "carpet"
           }
          ],
          "choropleth": [
           {
            "colorbar": {
             "outlinewidth": 0,
             "ticks": ""
            },
            "type": "choropleth"
           }
          ],
          "contour": [
           {
            "colorbar": {
             "outlinewidth": 0,
             "ticks": ""
            },
            "colorscale": [
             [
              0,
              "#0d0887"
             ],
             [
              0.1111111111111111,
              "#46039f"
             ],
             [
              0.2222222222222222,
              "#7201a8"
             ],
             [
              0.3333333333333333,
              "#9c179e"
             ],
             [
              0.4444444444444444,
              "#bd3786"
             ],
             [
              0.5555555555555556,
              "#d8576b"
             ],
             [
              0.6666666666666666,
              "#ed7953"
             ],
             [
              0.7777777777777778,
              "#fb9f3a"
             ],
             [
              0.8888888888888888,
              "#fdca26"
             ],
             [
              1,
              "#f0f921"
             ]
            ],
            "type": "contour"
           }
          ],
          "contourcarpet": [
           {
            "colorbar": {
             "outlinewidth": 0,
             "ticks": ""
            },
            "type": "contourcarpet"
           }
          ],
          "heatmap": [
           {
            "colorbar": {
             "outlinewidth": 0,
             "ticks": ""
            },
            "colorscale": [
             [
              0,
              "#0d0887"
             ],
             [
              0.1111111111111111,
              "#46039f"
             ],
             [
              0.2222222222222222,
              "#7201a8"
             ],
             [
              0.3333333333333333,
              "#9c179e"
             ],
             [
              0.4444444444444444,
              "#bd3786"
             ],
             [
              0.5555555555555556,
              "#d8576b"
             ],
             [
              0.6666666666666666,
              "#ed7953"
             ],
             [
              0.7777777777777778,
              "#fb9f3a"
             ],
             [
              0.8888888888888888,
              "#fdca26"
             ],
             [
              1,
              "#f0f921"
             ]
            ],
            "type": "heatmap"
           }
          ],
          "heatmapgl": [
           {
            "colorbar": {
             "outlinewidth": 0,
             "ticks": ""
            },
            "colorscale": [
             [
              0,
              "#0d0887"
             ],
             [
              0.1111111111111111,
              "#46039f"
             ],
             [
              0.2222222222222222,
              "#7201a8"
             ],
             [
              0.3333333333333333,
              "#9c179e"
             ],
             [
              0.4444444444444444,
              "#bd3786"
             ],
             [
              0.5555555555555556,
              "#d8576b"
             ],
             [
              0.6666666666666666,
              "#ed7953"
             ],
             [
              0.7777777777777778,
              "#fb9f3a"
             ],
             [
              0.8888888888888888,
              "#fdca26"
             ],
             [
              1,
              "#f0f921"
             ]
            ],
            "type": "heatmapgl"
           }
          ],
          "histogram": [
           {
            "marker": {
             "pattern": {
              "fillmode": "overlay",
              "size": 10,
              "solidity": 0.2
             }
            },
            "type": "histogram"
           }
          ],
          "histogram2d": [
           {
            "colorbar": {
             "outlinewidth": 0,
             "ticks": ""
            },
            "colorscale": [
             [
              0,
              "#0d0887"
             ],
             [
              0.1111111111111111,
              "#46039f"
             ],
             [
              0.2222222222222222,
              "#7201a8"
             ],
             [
              0.3333333333333333,
              "#9c179e"
             ],
             [
              0.4444444444444444,
              "#bd3786"
             ],
             [
              0.5555555555555556,
              "#d8576b"
             ],
             [
              0.6666666666666666,
              "#ed7953"
             ],
             [
              0.7777777777777778,
              "#fb9f3a"
             ],
             [
              0.8888888888888888,
              "#fdca26"
             ],
             [
              1,
              "#f0f921"
             ]
            ],
            "type": "histogram2d"
           }
          ],
          "histogram2dcontour": [
           {
            "colorbar": {
             "outlinewidth": 0,
             "ticks": ""
            },
            "colorscale": [
             [
              0,
              "#0d0887"
             ],
             [
              0.1111111111111111,
              "#46039f"
             ],
             [
              0.2222222222222222,
              "#7201a8"
             ],
             [
              0.3333333333333333,
              "#9c179e"
             ],
             [
              0.4444444444444444,
              "#bd3786"
             ],
             [
              0.5555555555555556,
              "#d8576b"
             ],
             [
              0.6666666666666666,
              "#ed7953"
             ],
             [
              0.7777777777777778,
              "#fb9f3a"
             ],
             [
              0.8888888888888888,
              "#fdca26"
             ],
             [
              1,
              "#f0f921"
             ]
            ],
            "type": "histogram2dcontour"
           }
          ],
          "mesh3d": [
           {
            "colorbar": {
             "outlinewidth": 0,
             "ticks": ""
            },
            "type": "mesh3d"
           }
          ],
          "parcoords": [
           {
            "line": {
             "colorbar": {
              "outlinewidth": 0,
              "ticks": ""
             }
            },
            "type": "parcoords"
           }
          ],
          "pie": [
           {
            "automargin": true,
            "type": "pie"
           }
          ],
          "scatter": [
           {
            "fillpattern": {
             "fillmode": "overlay",
             "size": 10,
             "solidity": 0.2
            },
            "type": "scatter"
           }
          ],
          "scatter3d": [
           {
            "line": {
             "colorbar": {
              "outlinewidth": 0,
              "ticks": ""
             }
            },
            "marker": {
             "colorbar": {
              "outlinewidth": 0,
              "ticks": ""
             }
            },
            "type": "scatter3d"
           }
          ],
          "scattercarpet": [
           {
            "marker": {
             "colorbar": {
              "outlinewidth": 0,
              "ticks": ""
             }
            },
            "type": "scattercarpet"
           }
          ],
          "scattergeo": [
           {
            "marker": {
             "colorbar": {
              "outlinewidth": 0,
              "ticks": ""
             }
            },
            "type": "scattergeo"
           }
          ],
          "scattergl": [
           {
            "marker": {
             "colorbar": {
              "outlinewidth": 0,
              "ticks": ""
             }
            },
            "type": "scattergl"
           }
          ],
          "scattermapbox": [
           {
            "marker": {
             "colorbar": {
              "outlinewidth": 0,
              "ticks": ""
             }
            },
            "type": "scattermapbox"
           }
          ],
          "scatterpolar": [
           {
            "marker": {
             "colorbar": {
              "outlinewidth": 0,
              "ticks": ""
             }
            },
            "type": "scatterpolar"
           }
          ],
          "scatterpolargl": [
           {
            "marker": {
             "colorbar": {
              "outlinewidth": 0,
              "ticks": ""
             }
            },
            "type": "scatterpolargl"
           }
          ],
          "scatterternary": [
           {
            "marker": {
             "colorbar": {
              "outlinewidth": 0,
              "ticks": ""
             }
            },
            "type": "scatterternary"
           }
          ],
          "surface": [
           {
            "colorbar": {
             "outlinewidth": 0,
             "ticks": ""
            },
            "colorscale": [
             [
              0,
              "#0d0887"
             ],
             [
              0.1111111111111111,
              "#46039f"
             ],
             [
              0.2222222222222222,
              "#7201a8"
             ],
             [
              0.3333333333333333,
              "#9c179e"
             ],
             [
              0.4444444444444444,
              "#bd3786"
             ],
             [
              0.5555555555555556,
              "#d8576b"
             ],
             [
              0.6666666666666666,
              "#ed7953"
             ],
             [
              0.7777777777777778,
              "#fb9f3a"
             ],
             [
              0.8888888888888888,
              "#fdca26"
             ],
             [
              1,
              "#f0f921"
             ]
            ],
            "type": "surface"
           }
          ],
          "table": [
           {
            "cells": {
             "fill": {
              "color": "#EBF0F8"
             },
             "line": {
              "color": "white"
             }
            },
            "header": {
             "fill": {
              "color": "#C8D4E3"
             },
             "line": {
              "color": "white"
             }
            },
            "type": "table"
           }
          ]
         },
         "layout": {
          "annotationdefaults": {
           "arrowcolor": "#2a3f5f",
           "arrowhead": 0,
           "arrowwidth": 1
          },
          "autotypenumbers": "strict",
          "coloraxis": {
           "colorbar": {
            "outlinewidth": 0,
            "ticks": ""
           }
          },
          "colorscale": {
           "diverging": [
            [
             0,
             "#8e0152"
            ],
            [
             0.1,
             "#c51b7d"
            ],
            [
             0.2,
             "#de77ae"
            ],
            [
             0.3,
             "#f1b6da"
            ],
            [
             0.4,
             "#fde0ef"
            ],
            [
             0.5,
             "#f7f7f7"
            ],
            [
             0.6,
             "#e6f5d0"
            ],
            [
             0.7,
             "#b8e186"
            ],
            [
             0.8,
             "#7fbc41"
            ],
            [
             0.9,
             "#4d9221"
            ],
            [
             1,
             "#276419"
            ]
           ],
           "sequential": [
            [
             0,
             "#0d0887"
            ],
            [
             0.1111111111111111,
             "#46039f"
            ],
            [
             0.2222222222222222,
             "#7201a8"
            ],
            [
             0.3333333333333333,
             "#9c179e"
            ],
            [
             0.4444444444444444,
             "#bd3786"
            ],
            [
             0.5555555555555556,
             "#d8576b"
            ],
            [
             0.6666666666666666,
             "#ed7953"
            ],
            [
             0.7777777777777778,
             "#fb9f3a"
            ],
            [
             0.8888888888888888,
             "#fdca26"
            ],
            [
             1,
             "#f0f921"
            ]
           ],
           "sequentialminus": [
            [
             0,
             "#0d0887"
            ],
            [
             0.1111111111111111,
             "#46039f"
            ],
            [
             0.2222222222222222,
             "#7201a8"
            ],
            [
             0.3333333333333333,
             "#9c179e"
            ],
            [
             0.4444444444444444,
             "#bd3786"
            ],
            [
             0.5555555555555556,
             "#d8576b"
            ],
            [
             0.6666666666666666,
             "#ed7953"
            ],
            [
             0.7777777777777778,
             "#fb9f3a"
            ],
            [
             0.8888888888888888,
             "#fdca26"
            ],
            [
             1,
             "#f0f921"
            ]
           ]
          },
          "colorway": [
           "#636efa",
           "#EF553B",
           "#00cc96",
           "#ab63fa",
           "#FFA15A",
           "#19d3f3",
           "#FF6692",
           "#B6E880",
           "#FF97FF",
           "#FECB52"
          ],
          "font": {
           "color": "#2a3f5f"
          },
          "geo": {
           "bgcolor": "white",
           "lakecolor": "white",
           "landcolor": "#E5ECF6",
           "showlakes": true,
           "showland": true,
           "subunitcolor": "white"
          },
          "hoverlabel": {
           "align": "left"
          },
          "hovermode": "closest",
          "mapbox": {
           "style": "light"
          },
          "paper_bgcolor": "white",
          "plot_bgcolor": "#E5ECF6",
          "polar": {
           "angularaxis": {
            "gridcolor": "white",
            "linecolor": "white",
            "ticks": ""
           },
           "bgcolor": "#E5ECF6",
           "radialaxis": {
            "gridcolor": "white",
            "linecolor": "white",
            "ticks": ""
           }
          },
          "scene": {
           "xaxis": {
            "backgroundcolor": "#E5ECF6",
            "gridcolor": "white",
            "gridwidth": 2,
            "linecolor": "white",
            "showbackground": true,
            "ticks": "",
            "zerolinecolor": "white"
           },
           "yaxis": {
            "backgroundcolor": "#E5ECF6",
            "gridcolor": "white",
            "gridwidth": 2,
            "linecolor": "white",
            "showbackground": true,
            "ticks": "",
            "zerolinecolor": "white"
           },
           "zaxis": {
            "backgroundcolor": "#E5ECF6",
            "gridcolor": "white",
            "gridwidth": 2,
            "linecolor": "white",
            "showbackground": true,
            "ticks": "",
            "zerolinecolor": "white"
           }
          },
          "shapedefaults": {
           "line": {
            "color": "#2a3f5f"
           }
          },
          "ternary": {
           "aaxis": {
            "gridcolor": "white",
            "linecolor": "white",
            "ticks": ""
           },
           "baxis": {
            "gridcolor": "white",
            "linecolor": "white",
            "ticks": ""
           },
           "bgcolor": "#E5ECF6",
           "caxis": {
            "gridcolor": "white",
            "linecolor": "white",
            "ticks": ""
           }
          },
          "title": {
           "x": 0.05
          },
          "xaxis": {
           "automargin": true,
           "gridcolor": "white",
           "linecolor": "white",
           "ticks": "",
           "title": {
            "standoff": 15
           },
           "zerolinecolor": "white",
           "zerolinewidth": 2
          },
          "yaxis": {
           "automargin": true,
           "gridcolor": "white",
           "linecolor": "white",
           "ticks": "",
           "title": {
            "standoff": 15
           },
           "zerolinecolor": "white",
           "zerolinewidth": 2
          }
         }
        },
        "title": {
         "text": "PCA of DistilBERT embeddings of hex colors (3d)"
        }
       }
      }
     },
     "metadata": {},
     "output_type": "display_data"
    }
   ],
   "source": [
    "# plot 3d results with plotly\n",
    "fig = px.scatter_3d(\n",
    "    hex_pca3d, x=0, y=1, z=2, color=hex_colors,\n",
    "    labels={'color': 'hex color'},\n",
    "    title='PCA of DistilBERT embeddings of hex colors (3d)'\n",
    ")\n",
    "\n",
    "# hide legend\n",
    "fig.update_layout(showlegend=False)\n",
    "fig.show()"
   ]
  },
  {
   "cell_type": "code",
   "execution_count": 19,
   "metadata": {},
   "outputs": [
    {
     "name": "stdout",
     "output_type": "stream",
     "text": [
      "huggingface/tokenizers: The current process just got forked, after parallelism has already been used. Disabling parallelism to avoid deadlocks...\n",
      "To disable this warning, you can either:\n",
      "\t- Avoid using `tokenizers` before the fork if possible\n",
      "\t- Explicitly set the environment variable TOKENIZERS_PARALLELISM=(true | false)\n"
     ]
    },
    {
     "data": {
      "application/vnd.plotly.v1+json": {
       "config": {
        "plotlyServerURL": "https://plot.ly"
       },
       "data": [
        {
         "hovertemplate": "hex color=#016B75<br>0=%{x}<br>1=%{y}<extra></extra>",
         "legendgroup": "#016B75",
         "marker": {
          "color": "#636efa",
          "symbol": "circle"
         },
         "mode": "markers",
         "name": "#016B75",
         "orientation": "v",
         "showlegend": true,
         "type": "scatter",
         "x": [
          1.1538281440734863
         ],
         "xaxis": "x",
         "y": [
          3.791154623031616
         ],
         "yaxis": "y"
        },
        {
         "hovertemplate": "hex color=#319C04<br>0=%{x}<br>1=%{y}<extra></extra>",
         "legendgroup": "#319C04",
         "marker": {
          "color": "#EF553B",
          "symbol": "circle"
         },
         "mode": "markers",
         "name": "#319C04",
         "orientation": "v",
         "showlegend": true,
         "type": "scatter",
         "x": [
          1.7744455337524414
         ],
         "xaxis": "x",
         "y": [
          2.434664487838745
         ],
         "yaxis": "y"
        },
        {
         "hovertemplate": "hex color=#4D1630<br>0=%{x}<br>1=%{y}<extra></extra>",
         "legendgroup": "#4D1630",
         "marker": {
          "color": "#00cc96",
          "symbol": "circle"
         },
         "mode": "markers",
         "name": "#4D1630",
         "orientation": "v",
         "showlegend": true,
         "type": "scatter",
         "x": [
          1.0227549076080322
         ],
         "xaxis": "x",
         "y": [
          2.1604347229003906
         ],
         "yaxis": "y"
        },
        {
         "hovertemplate": "hex color=#A1BF45<br>0=%{x}<br>1=%{y}<extra></extra>",
         "legendgroup": "#A1BF45",
         "marker": {
          "color": "#ab63fa",
          "symbol": "circle"
         },
         "mode": "markers",
         "name": "#A1BF45",
         "orientation": "v",
         "showlegend": true,
         "type": "scatter",
         "x": [
          1.2019660472869873
         ],
         "xaxis": "x",
         "y": [
          3.2949059009552
         ],
         "yaxis": "y"
        },
        {
         "hovertemplate": "hex color=#B75DC2<br>0=%{x}<br>1=%{y}<extra></extra>",
         "legendgroup": "#B75DC2",
         "marker": {
          "color": "#FFA15A",
          "symbol": "circle"
         },
         "mode": "markers",
         "name": "#B75DC2",
         "orientation": "v",
         "showlegend": true,
         "type": "scatter",
         "x": [
          3.6372978687286377
         ],
         "xaxis": "x",
         "y": [
          0.6266964077949524
         ],
         "yaxis": "y"
        },
        {
         "hovertemplate": "hex color=#9FB278<br>0=%{x}<br>1=%{y}<extra></extra>",
         "legendgroup": "#9FB278",
         "marker": {
          "color": "#19d3f3",
          "symbol": "circle"
         },
         "mode": "markers",
         "name": "#9FB278",
         "orientation": "v",
         "showlegend": true,
         "type": "scatter",
         "x": [
          2.0738587379455566
         ],
         "xaxis": "x",
         "y": [
          2.845323085784912
         ],
         "yaxis": "y"
        },
        {
         "hovertemplate": "hex color=#B1A35F<br>0=%{x}<br>1=%{y}<extra></extra>",
         "legendgroup": "#B1A35F",
         "marker": {
          "color": "#FF6692",
          "symbol": "circle"
         },
         "mode": "markers",
         "name": "#B1A35F",
         "orientation": "v",
         "showlegend": true,
         "type": "scatter",
         "x": [
          2.356818675994873
         ],
         "xaxis": "x",
         "y": [
          0.9851092100143433
         ],
         "yaxis": "y"
        },
        {
         "hovertemplate": "hex color=#17FCA4<br>0=%{x}<br>1=%{y}<extra></extra>",
         "legendgroup": "#17FCA4",
         "marker": {
          "color": "#B6E880",
          "symbol": "circle"
         },
         "mode": "markers",
         "name": "#17FCA4",
         "orientation": "v",
         "showlegend": true,
         "type": "scatter",
         "x": [
          0.1483479142189026
         ],
         "xaxis": "x",
         "y": [
          2.1605422496795654
         ],
         "yaxis": "y"
        },
        {
         "hovertemplate": "hex color=#C1EA3F<br>0=%{x}<br>1=%{y}<extra></extra>",
         "legendgroup": "#C1EA3F",
         "marker": {
          "color": "#FF97FF",
          "symbol": "circle"
         },
         "mode": "markers",
         "name": "#C1EA3F",
         "orientation": "v",
         "showlegend": true,
         "type": "scatter",
         "x": [
          2.0025711059570312
         ],
         "xaxis": "x",
         "y": [
          1.2336193323135376
         ],
         "yaxis": "y"
        },
        {
         "hovertemplate": "hex color=#5B76FD<br>0=%{x}<br>1=%{y}<extra></extra>",
         "legendgroup": "#5B76FD",
         "marker": {
          "color": "#FECB52",
          "symbol": "circle"
         },
         "mode": "markers",
         "name": "#5B76FD",
         "orientation": "v",
         "showlegend": true,
         "type": "scatter",
         "x": [
          1.4656093120574951
         ],
         "xaxis": "x",
         "y": [
          0.904695987701416
         ],
         "yaxis": "y"
        },
        {
         "hovertemplate": "hex color=#AEB607<br>0=%{x}<br>1=%{y}<extra></extra>",
         "legendgroup": "#AEB607",
         "marker": {
          "color": "#636efa",
          "symbol": "circle"
         },
         "mode": "markers",
         "name": "#AEB607",
         "orientation": "v",
         "showlegend": true,
         "type": "scatter",
         "x": [
          3.6890389919281006
         ],
         "xaxis": "x",
         "y": [
          1.6616125106811523
         ],
         "yaxis": "y"
        },
        {
         "hovertemplate": "hex color=#B71F50<br>0=%{x}<br>1=%{y}<extra></extra>",
         "legendgroup": "#B71F50",
         "marker": {
          "color": "#EF553B",
          "symbol": "circle"
         },
         "mode": "markers",
         "name": "#B71F50",
         "orientation": "v",
         "showlegend": true,
         "type": "scatter",
         "x": [
          2.7226450443267822
         ],
         "xaxis": "x",
         "y": [
          0.287484347820282
         ],
         "yaxis": "y"
        },
        {
         "hovertemplate": "hex color=#AFD624<br>0=%{x}<br>1=%{y}<extra></extra>",
         "legendgroup": "#AFD624",
         "marker": {
          "color": "#00cc96",
          "symbol": "circle"
         },
         "mode": "markers",
         "name": "#AFD624",
         "orientation": "v",
         "showlegend": true,
         "type": "scatter",
         "x": [
          3.390092134475708
         ],
         "xaxis": "x",
         "y": [
          2.2181904315948486
         ],
         "yaxis": "y"
        },
        {
         "hovertemplate": "hex color=#CEA521<br>0=%{x}<br>1=%{y}<extra></extra>",
         "legendgroup": "#CEA521",
         "marker": {
          "color": "#ab63fa",
          "symbol": "circle"
         },
         "mode": "markers",
         "name": "#CEA521",
         "orientation": "v",
         "showlegend": true,
         "type": "scatter",
         "x": [
          3.87825870513916
         ],
         "xaxis": "x",
         "y": [
          1.923866629600525
         ],
         "yaxis": "y"
        },
        {
         "hovertemplate": "hex color=#C64073<br>0=%{x}<br>1=%{y}<extra></extra>",
         "legendgroup": "#C64073",
         "marker": {
          "color": "#FFA15A",
          "symbol": "circle"
         },
         "mode": "markers",
         "name": "#C64073",
         "orientation": "v",
         "showlegend": true,
         "type": "scatter",
         "x": [
          3.522695302963257
         ],
         "xaxis": "x",
         "y": [
          0.8356415629386902
         ],
         "yaxis": "y"
        },
        {
         "hovertemplate": "hex color=#01C59A<br>0=%{x}<br>1=%{y}<extra></extra>",
         "legendgroup": "#01C59A",
         "marker": {
          "color": "#19d3f3",
          "symbol": "circle"
         },
         "mode": "markers",
         "name": "#01C59A",
         "orientation": "v",
         "showlegend": true,
         "type": "scatter",
         "x": [
          1.0051618814468384
         ],
         "xaxis": "x",
         "y": [
          4.015750885009766
         ],
         "yaxis": "y"
        },
        {
         "hovertemplate": "hex color=#B847A6<br>0=%{x}<br>1=%{y}<extra></extra>",
         "legendgroup": "#B847A6",
         "marker": {
          "color": "#FF6692",
          "symbol": "circle"
         },
         "mode": "markers",
         "name": "#B847A6",
         "orientation": "v",
         "showlegend": true,
         "type": "scatter",
         "x": [
          3.4490251541137695
         ],
         "xaxis": "x",
         "y": [
          0.15582290291786194
         ],
         "yaxis": "y"
        },
        {
         "hovertemplate": "hex color=#AFE746<br>0=%{x}<br>1=%{y}<extra></extra>",
         "legendgroup": "#AFE746",
         "marker": {
          "color": "#B6E880",
          "symbol": "circle"
         },
         "mode": "markers",
         "name": "#AFE746",
         "orientation": "v",
         "showlegend": true,
         "type": "scatter",
         "x": [
          3.579763650894165
         ],
         "xaxis": "x",
         "y": [
          1.9273148775100708
         ],
         "yaxis": "y"
        },
        {
         "hovertemplate": "hex color=#6DFE18<br>0=%{x}<br>1=%{y}<extra></extra>",
         "legendgroup": "#6DFE18",
         "marker": {
          "color": "#FF97FF",
          "symbol": "circle"
         },
         "mode": "markers",
         "name": "#6DFE18",
         "orientation": "v",
         "showlegend": true,
         "type": "scatter",
         "x": [
          0.1441267728805542
         ],
         "xaxis": "x",
         "y": [
          3.0032272338867188
         ],
         "yaxis": "y"
        },
        {
         "hovertemplate": "hex color=#DAF20C<br>0=%{x}<br>1=%{y}<extra></extra>",
         "legendgroup": "#DAF20C",
         "marker": {
          "color": "#FECB52",
          "symbol": "circle"
         },
         "mode": "markers",
         "name": "#DAF20C",
         "orientation": "v",
         "showlegend": true,
         "type": "scatter",
         "x": [
          2.971231698989868
         ],
         "xaxis": "x",
         "y": [
          1.8805443048477173
         ],
         "yaxis": "y"
        },
        {
         "hovertemplate": "hex color=#819DBC<br>0=%{x}<br>1=%{y}<extra></extra>",
         "legendgroup": "#819DBC",
         "marker": {
          "color": "#636efa",
          "symbol": "circle"
         },
         "mode": "markers",
         "name": "#819DBC",
         "orientation": "v",
         "showlegend": true,
         "type": "scatter",
         "x": [
          1.9323363304138184
         ],
         "xaxis": "x",
         "y": [
          3.833359718322754
         ],
         "yaxis": "y"
        },
        {
         "hovertemplate": "hex color=#209E63<br>0=%{x}<br>1=%{y}<extra></extra>",
         "legendgroup": "#209E63",
         "marker": {
          "color": "#EF553B",
          "symbol": "circle"
         },
         "mode": "markers",
         "name": "#209E63",
         "orientation": "v",
         "showlegend": true,
         "type": "scatter",
         "x": [
          2.9840281009674072
         ],
         "xaxis": "x",
         "y": [
          4.001128196716309
         ],
         "yaxis": "y"
        },
        {
         "hovertemplate": "hex color=#958DEB<br>0=%{x}<br>1=%{y}<extra></extra>",
         "legendgroup": "#958DEB",
         "marker": {
          "color": "#00cc96",
          "symbol": "circle"
         },
         "mode": "markers",
         "name": "#958DEB",
         "orientation": "v",
         "showlegend": true,
         "type": "scatter",
         "x": [
          2.404548168182373
         ],
         "xaxis": "x",
         "y": [
          3.0667624473571777
         ],
         "yaxis": "y"
        },
        {
         "hovertemplate": "hex color=#A05248<br>0=%{x}<br>1=%{y}<extra></extra>",
         "legendgroup": "#A05248",
         "marker": {
          "color": "#ab63fa",
          "symbol": "circle"
         },
         "mode": "markers",
         "name": "#A05248",
         "orientation": "v",
         "showlegend": true,
         "type": "scatter",
         "x": [
          4.079820156097412
         ],
         "xaxis": "x",
         "y": [
          0.695355236530304
         ],
         "yaxis": "y"
        },
        {
         "hovertemplate": "hex color=#60FC17<br>0=%{x}<br>1=%{y}<extra></extra>",
         "legendgroup": "#60FC17",
         "marker": {
          "color": "#FFA15A",
          "symbol": "circle"
         },
         "mode": "markers",
         "name": "#60FC17",
         "orientation": "v",
         "showlegend": true,
         "type": "scatter",
         "x": [
          -0.06881266832351685
         ],
         "xaxis": "x",
         "y": [
          2.478431224822998
         ],
         "yaxis": "y"
        },
        {
         "hovertemplate": "hex color=#219E8A<br>0=%{x}<br>1=%{y}<extra></extra>",
         "legendgroup": "#219E8A",
         "marker": {
          "color": "#19d3f3",
          "symbol": "circle"
         },
         "mode": "markers",
         "name": "#219E8A",
         "orientation": "v",
         "showlegend": true,
         "type": "scatter",
         "x": [
          2.1152148246765137
         ],
         "xaxis": "x",
         "y": [
          2.332674503326416
         ],
         "yaxis": "y"
        },
        {
         "hovertemplate": "hex color=#F9B6A3<br>0=%{x}<br>1=%{y}<extra></extra>",
         "legendgroup": "#F9B6A3",
         "marker": {
          "color": "#FF6692",
          "symbol": "circle"
         },
         "mode": "markers",
         "name": "#F9B6A3",
         "orientation": "v",
         "showlegend": true,
         "type": "scatter",
         "x": [
          2.424185276031494
         ],
         "xaxis": "x",
         "y": [
          -0.15327563881874084
         ],
         "yaxis": "y"
        },
        {
         "hovertemplate": "hex color=#7D296F<br>0=%{x}<br>1=%{y}<extra></extra>",
         "legendgroup": "#7D296F",
         "marker": {
          "color": "#B6E880",
          "symbol": "circle"
         },
         "mode": "markers",
         "name": "#7D296F",
         "orientation": "v",
         "showlegend": true,
         "type": "scatter",
         "x": [
          1.606415867805481
         ],
         "xaxis": "x",
         "y": [
          1.6347522735595703
         ],
         "yaxis": "y"
        },
        {
         "hovertemplate": "hex color=#613298<br>0=%{x}<br>1=%{y}<extra></extra>",
         "legendgroup": "#613298",
         "marker": {
          "color": "#FF97FF",
          "symbol": "circle"
         },
         "mode": "markers",
         "name": "#613298",
         "orientation": "v",
         "showlegend": true,
         "type": "scatter",
         "x": [
          2.3941338062286377
         ],
         "xaxis": "x",
         "y": [
          4.143984794616699
         ],
         "yaxis": "y"
        },
        {
         "hovertemplate": "hex color=#2058C9<br>0=%{x}<br>1=%{y}<extra></extra>",
         "legendgroup": "#2058C9",
         "marker": {
          "color": "#FECB52",
          "symbol": "circle"
         },
         "mode": "markers",
         "name": "#2058C9",
         "orientation": "v",
         "showlegend": true,
         "type": "scatter",
         "x": [
          2.9055068492889404
         ],
         "xaxis": "x",
         "y": [
          3.748392343521118
         ],
         "yaxis": "y"
        },
        {
         "hovertemplate": "hex color=#7650C1<br>0=%{x}<br>1=%{y}<extra></extra>",
         "legendgroup": "#7650C1",
         "marker": {
          "color": "#636efa",
          "symbol": "circle"
         },
         "mode": "markers",
         "name": "#7650C1",
         "orientation": "v",
         "showlegend": true,
         "type": "scatter",
         "x": [
          0.929155707359314
         ],
         "xaxis": "x",
         "y": [
          4.073328018188477
         ],
         "yaxis": "y"
        },
        {
         "hovertemplate": "hex color=#16845F<br>0=%{x}<br>1=%{y}<extra></extra>",
         "legendgroup": "#16845F",
         "marker": {
          "color": "#EF553B",
          "symbol": "circle"
         },
         "mode": "markers",
         "name": "#16845F",
         "orientation": "v",
         "showlegend": true,
         "type": "scatter",
         "x": [
          0.10646643489599228
         ],
         "xaxis": "x",
         "y": [
          1.98158597946167
         ],
         "yaxis": "y"
        },
        {
         "hovertemplate": "hex color=#5931AD<br>0=%{x}<br>1=%{y}<extra></extra>",
         "legendgroup": "#5931AD",
         "marker": {
          "color": "#00cc96",
          "symbol": "circle"
         },
         "mode": "markers",
         "name": "#5931AD",
         "orientation": "v",
         "showlegend": true,
         "type": "scatter",
         "x": [
          2.055422306060791
         ],
         "xaxis": "x",
         "y": [
          4.316095352172852
         ],
         "yaxis": "y"
        },
        {
         "hovertemplate": "hex color=#F6985E<br>0=%{x}<br>1=%{y}<extra></extra>",
         "legendgroup": "#F6985E",
         "marker": {
          "color": "#ab63fa",
          "symbol": "circle"
         },
         "mode": "markers",
         "name": "#F6985E",
         "orientation": "v",
         "showlegend": true,
         "type": "scatter",
         "x": [
          3.7249252796173096
         ],
         "xaxis": "x",
         "y": [
          1.3327006101608276
         ],
         "yaxis": "y"
        },
        {
         "hovertemplate": "hex color=#62D81F<br>0=%{x}<br>1=%{y}<extra></extra>",
         "legendgroup": "#62D81F",
         "marker": {
          "color": "#FFA15A",
          "symbol": "circle"
         },
         "mode": "markers",
         "name": "#62D81F",
         "orientation": "v",
         "showlegend": true,
         "type": "scatter",
         "x": [
          1.7722477912902832
         ],
         "xaxis": "x",
         "y": [
          1.7973041534423828
         ],
         "yaxis": "y"
        },
        {
         "hovertemplate": "hex color=#0391EA<br>0=%{x}<br>1=%{y}<extra></extra>",
         "legendgroup": "#0391EA",
         "marker": {
          "color": "#19d3f3",
          "symbol": "circle"
         },
         "mode": "markers",
         "name": "#0391EA",
         "orientation": "v",
         "showlegend": true,
         "type": "scatter",
         "x": [
          1.3663406372070312
         ],
         "xaxis": "x",
         "y": [
          4.363376617431641
         ],
         "yaxis": "y"
        },
        {
         "hovertemplate": "hex color=#5E10AF<br>0=%{x}<br>1=%{y}<extra></extra>",
         "legendgroup": "#5E10AF",
         "marker": {
          "color": "#FF6692",
          "symbol": "circle"
         },
         "mode": "markers",
         "name": "#5E10AF",
         "orientation": "v",
         "showlegend": true,
         "type": "scatter",
         "x": [
          0.044883232563734055
         ],
         "xaxis": "x",
         "y": [
          2.89957594871521
         ],
         "yaxis": "y"
        },
        {
         "hovertemplate": "hex color=#4EFA57<br>0=%{x}<br>1=%{y}<extra></extra>",
         "legendgroup": "#4EFA57",
         "marker": {
          "color": "#B6E880",
          "symbol": "circle"
         },
         "mode": "markers",
         "name": "#4EFA57",
         "orientation": "v",
         "showlegend": true,
         "type": "scatter",
         "x": [
          0.25244906544685364
         ],
         "xaxis": "x",
         "y": [
          3.0538010597229004
         ],
         "yaxis": "y"
        },
        {
         "hovertemplate": "hex color=#5DC76E<br>0=%{x}<br>1=%{y}<extra></extra>",
         "legendgroup": "#5DC76E",
         "marker": {
          "color": "#FF97FF",
          "symbol": "circle"
         },
         "mode": "markers",
         "name": "#5DC76E",
         "orientation": "v",
         "showlegend": true,
         "type": "scatter",
         "x": [
          0.9479594826698303
         ],
         "xaxis": "x",
         "y": [
          3.0697734355926514
         ],
         "yaxis": "y"
        },
        {
         "hovertemplate": "hex color=#6A9382<br>0=%{x}<br>1=%{y}<extra></extra>",
         "legendgroup": "#6A9382",
         "marker": {
          "color": "#FECB52",
          "symbol": "circle"
         },
         "mode": "markers",
         "name": "#6A9382",
         "orientation": "v",
         "showlegend": true,
         "type": "scatter",
         "x": [
          2.3050341606140137
         ],
         "xaxis": "x",
         "y": [
          3.8655354976654053
         ],
         "yaxis": "y"
        },
        {
         "hovertemplate": "hex color=#7ADB3F<br>0=%{x}<br>1=%{y}<extra></extra>",
         "legendgroup": "#7ADB3F",
         "marker": {
          "color": "#636efa",
          "symbol": "circle"
         },
         "mode": "markers",
         "name": "#7ADB3F",
         "orientation": "v",
         "showlegend": true,
         "type": "scatter",
         "x": [
          1.311270833015442
         ],
         "xaxis": "x",
         "y": [
          0.6066019535064697
         ],
         "yaxis": "y"
        },
        {
         "hovertemplate": "hex color=#A903DF<br>0=%{x}<br>1=%{y}<extra></extra>",
         "legendgroup": "#A903DF",
         "marker": {
          "color": "#EF553B",
          "symbol": "circle"
         },
         "mode": "markers",
         "name": "#A903DF",
         "orientation": "v",
         "showlegend": true,
         "type": "scatter",
         "x": [
          3.2722878456115723
         ],
         "xaxis": "x",
         "y": [
          1.4976966381072998
         ],
         "yaxis": "y"
        },
        {
         "hovertemplate": "hex color=#1D398C<br>0=%{x}<br>1=%{y}<extra></extra>",
         "legendgroup": "#1D398C",
         "marker": {
          "color": "#00cc96",
          "symbol": "circle"
         },
         "mode": "markers",
         "name": "#1D398C",
         "orientation": "v",
         "showlegend": true,
         "type": "scatter",
         "x": [
          1.5636414289474487
         ],
         "xaxis": "x",
         "y": [
          2.1387977600097656
         ],
         "yaxis": "y"
        },
        {
         "hovertemplate": "hex color=#A75C9B<br>0=%{x}<br>1=%{y}<extra></extra>",
         "legendgroup": "#A75C9B",
         "marker": {
          "color": "#ab63fa",
          "symbol": "circle"
         },
         "mode": "markers",
         "name": "#A75C9B",
         "orientation": "v",
         "showlegend": true,
         "type": "scatter",
         "x": [
          3.680344581604004
         ],
         "xaxis": "x",
         "y": [
          0.8986376523971558
         ],
         "yaxis": "y"
        },
        {
         "hovertemplate": "hex color=#3FC60D<br>0=%{x}<br>1=%{y}<extra></extra>",
         "legendgroup": "#3FC60D",
         "marker": {
          "color": "#FFA15A",
          "symbol": "circle"
         },
         "mode": "markers",
         "name": "#3FC60D",
         "orientation": "v",
         "showlegend": true,
         "type": "scatter",
         "x": [
          0.5468878149986267
         ],
         "xaxis": "x",
         "y": [
          2.001408576965332
         ],
         "yaxis": "y"
        },
        {
         "hovertemplate": "hex color=#67DEB5<br>0=%{x}<br>1=%{y}<extra></extra>",
         "legendgroup": "#67DEB5",
         "marker": {
          "color": "#19d3f3",
          "symbol": "circle"
         },
         "mode": "markers",
         "name": "#67DEB5",
         "orientation": "v",
         "showlegend": true,
         "type": "scatter",
         "x": [
          0.6194251179695129
         ],
         "xaxis": "x",
         "y": [
          2.9565951824188232
         ],
         "yaxis": "y"
        },
        {
         "hovertemplate": "hex color=#C7D4FE<br>0=%{x}<br>1=%{y}<extra></extra>",
         "legendgroup": "#C7D4FE",
         "marker": {
          "color": "#FF6692",
          "symbol": "circle"
         },
         "mode": "markers",
         "name": "#C7D4FE",
         "orientation": "v",
         "showlegend": true,
         "type": "scatter",
         "x": [
          2.889702796936035
         ],
         "xaxis": "x",
         "y": [
          -0.35553109645843506
         ],
         "yaxis": "y"
        },
        {
         "hovertemplate": "hex color=#29364B<br>0=%{x}<br>1=%{y}<extra></extra>",
         "legendgroup": "#29364B",
         "marker": {
          "color": "#B6E880",
          "symbol": "circle"
         },
         "mode": "markers",
         "name": "#29364B",
         "orientation": "v",
         "showlegend": true,
         "type": "scatter",
         "x": [
          2.403332233428955
         ],
         "xaxis": "x",
         "y": [
          3.429640054702759
         ],
         "yaxis": "y"
        },
        {
         "hovertemplate": "hex color=#D64B9C<br>0=%{x}<br>1=%{y}<extra></extra>",
         "legendgroup": "#D64B9C",
         "marker": {
          "color": "#FF97FF",
          "symbol": "circle"
         },
         "mode": "markers",
         "name": "#D64B9C",
         "orientation": "v",
         "showlegend": true,
         "type": "scatter",
         "x": [
          2.893493413925171
         ],
         "xaxis": "x",
         "y": [
          0.6440980434417725
         ],
         "yaxis": "y"
        },
        {
         "hovertemplate": "hex color=#FD12E7<br>0=%{x}<br>1=%{y}<extra></extra>",
         "legendgroup": "#FD12E7",
         "marker": {
          "color": "#FECB52",
          "symbol": "circle"
         },
         "mode": "markers",
         "name": "#FD12E7",
         "orientation": "v",
         "showlegend": true,
         "type": "scatter",
         "x": [
          2.8594038486480713
         ],
         "xaxis": "x",
         "y": [
          1.0576581954956055
         ],
         "yaxis": "y"
        },
        {
         "hovertemplate": "hex color=#34FDAB<br>0=%{x}<br>1=%{y}<extra></extra>",
         "legendgroup": "#34FDAB",
         "marker": {
          "color": "#636efa",
          "symbol": "circle"
         },
         "mode": "markers",
         "name": "#34FDAB",
         "orientation": "v",
         "showlegend": true,
         "type": "scatter",
         "x": [
          1.0640019178390503
         ],
         "xaxis": "x",
         "y": [
          0.8650491833686829
         ],
         "yaxis": "y"
        },
        {
         "hovertemplate": "hex color=#E90D12<br>0=%{x}<br>1=%{y}<extra></extra>",
         "legendgroup": "#E90D12",
         "marker": {
          "color": "#EF553B",
          "symbol": "circle"
         },
         "mode": "markers",
         "name": "#E90D12",
         "orientation": "v",
         "showlegend": true,
         "type": "scatter",
         "x": [
          3.0458436012268066
         ],
         "xaxis": "x",
         "y": [
          1.1646360158920288
         ],
         "yaxis": "y"
        },
        {
         "hovertemplate": "hex color=#BD76E4<br>0=%{x}<br>1=%{y}<extra></extra>",
         "legendgroup": "#BD76E4",
         "marker": {
          "color": "#00cc96",
          "symbol": "circle"
         },
         "mode": "markers",
         "name": "#BD76E4",
         "orientation": "v",
         "showlegend": true,
         "type": "scatter",
         "x": [
          3.071270227432251
         ],
         "xaxis": "x",
         "y": [
          -0.3699245750904083
         ],
         "yaxis": "y"
        },
        {
         "hovertemplate": "hex color=#96A2B5<br>0=%{x}<br>1=%{y}<extra></extra>",
         "legendgroup": "#96A2B5",
         "marker": {
          "color": "#ab63fa",
          "symbol": "circle"
         },
         "mode": "markers",
         "name": "#96A2B5",
         "orientation": "v",
         "showlegend": true,
         "type": "scatter",
         "x": [
          1.7853057384490967
         ],
         "xaxis": "x",
         "y": [
          0.6643787026405334
         ],
         "yaxis": "y"
        },
        {
         "hovertemplate": "hex color=#E1B7F2<br>0=%{x}<br>1=%{y}<extra></extra>",
         "legendgroup": "#E1B7F2",
         "marker": {
          "color": "#FFA15A",
          "symbol": "circle"
         },
         "mode": "markers",
         "name": "#E1B7F2",
         "orientation": "v",
         "showlegend": true,
         "type": "scatter",
         "x": [
          2.06186580657959
         ],
         "xaxis": "x",
         "y": [
          -0.2054373323917389
         ],
         "yaxis": "y"
        },
        {
         "hovertemplate": "hex color=#A8B6DF<br>0=%{x}<br>1=%{y}<extra></extra>",
         "legendgroup": "#A8B6DF",
         "marker": {
          "color": "#19d3f3",
          "symbol": "circle"
         },
         "mode": "markers",
         "name": "#A8B6DF",
         "orientation": "v",
         "showlegend": true,
         "type": "scatter",
         "x": [
          3.051579236984253
         ],
         "xaxis": "x",
         "y": [
          0.012173685245215893
         ],
         "yaxis": "y"
        },
        {
         "hovertemplate": "hex color=#DE825C<br>0=%{x}<br>1=%{y}<extra></extra>",
         "legendgroup": "#DE825C",
         "marker": {
          "color": "#FF6692",
          "symbol": "circle"
         },
         "mode": "markers",
         "name": "#DE825C",
         "orientation": "v",
         "showlegend": true,
         "type": "scatter",
         "x": [
          2.7314136028289795
         ],
         "xaxis": "x",
         "y": [
          2.2109405994415283
         ],
         "yaxis": "y"
        },
        {
         "hovertemplate": "hex color=#3086B9<br>0=%{x}<br>1=%{y}<extra></extra>",
         "legendgroup": "#3086B9",
         "marker": {
          "color": "#B6E880",
          "symbol": "circle"
         },
         "mode": "markers",
         "name": "#3086B9",
         "orientation": "v",
         "showlegend": true,
         "type": "scatter",
         "x": [
          2.607480764389038
         ],
         "xaxis": "x",
         "y": [
          3.6825287342071533
         ],
         "yaxis": "y"
        },
        {
         "hovertemplate": "hex color=#F529AB<br>0=%{x}<br>1=%{y}<extra></extra>",
         "legendgroup": "#F529AB",
         "marker": {
          "color": "#FF97FF",
          "symbol": "circle"
         },
         "mode": "markers",
         "name": "#F529AB",
         "orientation": "v",
         "showlegend": true,
         "type": "scatter",
         "x": [
          2.9114506244659424
         ],
         "xaxis": "x",
         "y": [
          1.6463028192520142
         ],
         "yaxis": "y"
        },
        {
         "hovertemplate": "hex color=#54F3EC<br>0=%{x}<br>1=%{y}<extra></extra>",
         "legendgroup": "#54F3EC",
         "marker": {
          "color": "#FECB52",
          "symbol": "circle"
         },
         "mode": "markers",
         "name": "#54F3EC",
         "orientation": "v",
         "showlegend": true,
         "type": "scatter",
         "x": [
          0.6958680152893066
         ],
         "xaxis": "x",
         "y": [
          2.1677987575531006
         ],
         "yaxis": "y"
        },
        {
         "hovertemplate": "hex color=#74FAC8<br>0=%{x}<br>1=%{y}<extra></extra>",
         "legendgroup": "#74FAC8",
         "marker": {
          "color": "#636efa",
          "symbol": "circle"
         },
         "mode": "markers",
         "name": "#74FAC8",
         "orientation": "v",
         "showlegend": true,
         "type": "scatter",
         "x": [
          1.393480896949768
         ],
         "xaxis": "x",
         "y": [
          2.527289628982544
         ],
         "yaxis": "y"
        },
        {
         "hovertemplate": "hex color=#FA839E<br>0=%{x}<br>1=%{y}<extra></extra>",
         "legendgroup": "#FA839E",
         "marker": {
          "color": "#EF553B",
          "symbol": "circle"
         },
         "mode": "markers",
         "name": "#FA839E",
         "orientation": "v",
         "showlegend": true,
         "type": "scatter",
         "x": [
          2.390242099761963
         ],
         "xaxis": "x",
         "y": [
          1.9579391479492188
         ],
         "yaxis": "y"
        },
        {
         "hovertemplate": "hex color=#BA8562<br>0=%{x}<br>1=%{y}<extra></extra>",
         "legendgroup": "#BA8562",
         "marker": {
          "color": "#00cc96",
          "symbol": "circle"
         },
         "mode": "markers",
         "name": "#BA8562",
         "orientation": "v",
         "showlegend": true,
         "type": "scatter",
         "x": [
          3.7122738361358643
         ],
         "xaxis": "x",
         "y": [
          2.426076889038086
         ],
         "yaxis": "y"
        },
        {
         "hovertemplate": "hex color=#F920BE<br>0=%{x}<br>1=%{y}<extra></extra>",
         "legendgroup": "#F920BE",
         "marker": {
          "color": "#ab63fa",
          "symbol": "circle"
         },
         "mode": "markers",
         "name": "#F920BE",
         "orientation": "v",
         "showlegend": true,
         "type": "scatter",
         "x": [
          3.057689666748047
         ],
         "xaxis": "x",
         "y": [
          1.8395673036575317
         ],
         "yaxis": "y"
        },
        {
         "hovertemplate": "hex color=#20973F<br>0=%{x}<br>1=%{y}<extra></extra>",
         "legendgroup": "#20973F",
         "marker": {
          "color": "#FFA15A",
          "symbol": "circle"
         },
         "mode": "markers",
         "name": "#20973F",
         "orientation": "v",
         "showlegend": true,
         "type": "scatter",
         "x": [
          2.702406167984009
         ],
         "xaxis": "x",
         "y": [
          4.169595241546631
         ],
         "yaxis": "y"
        },
        {
         "hovertemplate": "hex color=#DAC279<br>0=%{x}<br>1=%{y}<extra></extra>",
         "legendgroup": "#DAC279",
         "marker": {
          "color": "#19d3f3",
          "symbol": "circle"
         },
         "mode": "markers",
         "name": "#DAC279",
         "orientation": "v",
         "showlegend": true,
         "type": "scatter",
         "x": [
          3.0423800945281982
         ],
         "xaxis": "x",
         "y": [
          2.3106374740600586
         ],
         "yaxis": "y"
        },
        {
         "hovertemplate": "hex color=#A97C02<br>0=%{x}<br>1=%{y}<extra></extra>",
         "legendgroup": "#A97C02",
         "marker": {
          "color": "#FF6692",
          "symbol": "circle"
         },
         "mode": "markers",
         "name": "#A97C02",
         "orientation": "v",
         "showlegend": true,
         "type": "scatter",
         "x": [
          4.026209354400635
         ],
         "xaxis": "x",
         "y": [
          0.9353355169296265
         ],
         "yaxis": "y"
        },
        {
         "hovertemplate": "hex color=#69B4F1<br>0=%{x}<br>1=%{y}<extra></extra>",
         "legendgroup": "#69B4F1",
         "marker": {
          "color": "#B6E880",
          "symbol": "circle"
         },
         "mode": "markers",
         "name": "#69B4F1",
         "orientation": "v",
         "showlegend": true,
         "type": "scatter",
         "x": [
          1.6955862045288086
         ],
         "xaxis": "x",
         "y": [
          -0.06147165223956108
         ],
         "yaxis": "y"
        },
        {
         "hovertemplate": "hex color=#BF934D<br>0=%{x}<br>1=%{y}<extra></extra>",
         "legendgroup": "#BF934D",
         "marker": {
          "color": "#FF97FF",
          "symbol": "circle"
         },
         "mode": "markers",
         "name": "#BF934D",
         "orientation": "v",
         "showlegend": true,
         "type": "scatter",
         "x": [
          2.2331550121307373
         ],
         "xaxis": "x",
         "y": [
          1.5214451551437378
         ],
         "yaxis": "y"
        },
        {
         "hovertemplate": "hex color=#15C290<br>0=%{x}<br>1=%{y}<extra></extra>",
         "legendgroup": "#15C290",
         "marker": {
          "color": "#FECB52",
          "symbol": "circle"
         },
         "mode": "markers",
         "name": "#15C290",
         "orientation": "v",
         "showlegend": true,
         "type": "scatter",
         "x": [
          1.0758380889892578
         ],
         "xaxis": "x",
         "y": [
          4.182127475738525
         ],
         "yaxis": "y"
        },
        {
         "hovertemplate": "hex color=#24AD70<br>0=%{x}<br>1=%{y}<extra></extra>",
         "legendgroup": "#24AD70",
         "marker": {
          "color": "#636efa",
          "symbol": "circle"
         },
         "mode": "markers",
         "name": "#24AD70",
         "orientation": "v",
         "showlegend": true,
         "type": "scatter",
         "x": [
          0.5046666860580444
         ],
         "xaxis": "x",
         "y": [
          3.2515244483947754
         ],
         "yaxis": "y"
        },
        {
         "hovertemplate": "hex color=#08CE7F<br>0=%{x}<br>1=%{y}<extra></extra>",
         "legendgroup": "#08CE7F",
         "marker": {
          "color": "#EF553B",
          "symbol": "circle"
         },
         "mode": "markers",
         "name": "#08CE7F",
         "orientation": "v",
         "showlegend": true,
         "type": "scatter",
         "x": [
          2.1503891944885254
         ],
         "xaxis": "x",
         "y": [
          2.172273635864258
         ],
         "yaxis": "y"
        },
        {
         "hovertemplate": "hex color=#1698F5<br>0=%{x}<br>1=%{y}<extra></extra>",
         "legendgroup": "#1698F5",
         "marker": {
          "color": "#00cc96",
          "symbol": "circle"
         },
         "mode": "markers",
         "name": "#1698F5",
         "orientation": "v",
         "showlegend": true,
         "type": "scatter",
         "x": [
          0.36826732754707336
         ],
         "xaxis": "x",
         "y": [
          1.6039583683013916
         ],
         "yaxis": "y"
        },
        {
         "hovertemplate": "hex color=#75B6EF<br>0=%{x}<br>1=%{y}<extra></extra>",
         "legendgroup": "#75B6EF",
         "marker": {
          "color": "#ab63fa",
          "symbol": "circle"
         },
         "mode": "markers",
         "name": "#75B6EF",
         "orientation": "v",
         "showlegend": true,
         "type": "scatter",
         "x": [
          0.685844361782074
         ],
         "xaxis": "x",
         "y": [
          3.2141635417938232
         ],
         "yaxis": "y"
        },
        {
         "hovertemplate": "hex color=#C462BD<br>0=%{x}<br>1=%{y}<extra></extra>",
         "legendgroup": "#C462BD",
         "marker": {
          "color": "#FFA15A",
          "symbol": "circle"
         },
         "mode": "markers",
         "name": "#C462BD",
         "orientation": "v",
         "showlegend": true,
         "type": "scatter",
         "x": [
          2.48171067237854
         ],
         "xaxis": "x",
         "y": [
          0.6233786940574646
         ],
         "yaxis": "y"
        },
        {
         "hovertemplate": "hex color=#1045EC<br>0=%{x}<br>1=%{y}<extra></extra>",
         "legendgroup": "#1045EC",
         "marker": {
          "color": "#19d3f3",
          "symbol": "circle"
         },
         "mode": "markers",
         "name": "#1045EC",
         "orientation": "v",
         "showlegend": true,
         "type": "scatter",
         "x": [
          0.9332334399223328
         ],
         "xaxis": "x",
         "y": [
          2.709669828414917
         ],
         "yaxis": "y"
        },
        {
         "hovertemplate": "hex color=#891B30<br>0=%{x}<br>1=%{y}<extra></extra>",
         "legendgroup": "#891B30",
         "marker": {
          "color": "#FF6692",
          "symbol": "circle"
         },
         "mode": "markers",
         "name": "#891B30",
         "orientation": "v",
         "showlegend": true,
         "type": "scatter",
         "x": [
          1.483443021774292
         ],
         "xaxis": "x",
         "y": [
          4.435806751251221
         ],
         "yaxis": "y"
        },
        {
         "hovertemplate": "hex color=#752A31<br>0=%{x}<br>1=%{y}<extra></extra>",
         "legendgroup": "#752A31",
         "marker": {
          "color": "#B6E880",
          "symbol": "circle"
         },
         "mode": "markers",
         "name": "#752A31",
         "orientation": "v",
         "showlegend": true,
         "type": "scatter",
         "x": [
          1.8354181051254272
         ],
         "xaxis": "x",
         "y": [
          4.547745227813721
         ],
         "yaxis": "y"
        },
        {
         "hovertemplate": "hex color=#83D175<br>0=%{x}<br>1=%{y}<extra></extra>",
         "legendgroup": "#83D175",
         "marker": {
          "color": "#FF97FF",
          "symbol": "circle"
         },
         "mode": "markers",
         "name": "#83D175",
         "orientation": "v",
         "showlegend": true,
         "type": "scatter",
         "x": [
          1.5375804901123047
         ],
         "xaxis": "x",
         "y": [
          3.9851205348968506
         ],
         "yaxis": "y"
        },
        {
         "hovertemplate": "hex color=#9B6580<br>0=%{x}<br>1=%{y}<extra></extra>",
         "legendgroup": "#9B6580",
         "marker": {
          "color": "#FECB52",
          "symbol": "circle"
         },
         "mode": "markers",
         "name": "#9B6580",
         "orientation": "v",
         "showlegend": true,
         "type": "scatter",
         "x": [
          1.8723571300506592
         ],
         "xaxis": "x",
         "y": [
          3.351055145263672
         ],
         "yaxis": "y"
        },
        {
         "hovertemplate": "hex color=#5F6AEC<br>0=%{x}<br>1=%{y}<extra></extra>",
         "legendgroup": "#5F6AEC",
         "marker": {
          "color": "#636efa",
          "symbol": "circle"
         },
         "mode": "markers",
         "name": "#5F6AEC",
         "orientation": "v",
         "showlegend": true,
         "type": "scatter",
         "x": [
          0.33995580673217773
         ],
         "xaxis": "x",
         "y": [
          2.6630361080169678
         ],
         "yaxis": "y"
        },
        {
         "hovertemplate": "hex color=#38C7FD<br>0=%{x}<br>1=%{y}<extra></extra>",
         "legendgroup": "#38C7FD",
         "marker": {
          "color": "#EF553B",
          "symbol": "circle"
         },
         "mode": "markers",
         "name": "#38C7FD",
         "orientation": "v",
         "showlegend": true,
         "type": "scatter",
         "x": [
          1.1425753831863403
         ],
         "xaxis": "x",
         "y": [
          1.1942622661590576
         ],
         "yaxis": "y"
        },
        {
         "hovertemplate": "hex color=#E9D763<br>0=%{x}<br>1=%{y}<extra></extra>",
         "legendgroup": "#E9D763",
         "marker": {
          "color": "#00cc96",
          "symbol": "circle"
         },
         "mode": "markers",
         "name": "#E9D763",
         "orientation": "v",
         "showlegend": true,
         "type": "scatter",
         "x": [
          3.5740966796875
         ],
         "xaxis": "x",
         "y": [
          0.09223143756389618
         ],
         "yaxis": "y"
        },
        {
         "hovertemplate": "hex color=#7E432F<br>0=%{x}<br>1=%{y}<extra></extra>",
         "legendgroup": "#7E432F",
         "marker": {
          "color": "#ab63fa",
          "symbol": "circle"
         },
         "mode": "markers",
         "name": "#7E432F",
         "orientation": "v",
         "showlegend": true,
         "type": "scatter",
         "x": [
          1.7899231910705566
         ],
         "xaxis": "x",
         "y": [
          2.010820150375366
         ],
         "yaxis": "y"
        },
        {
         "hovertemplate": "hex color=#72E8C3<br>0=%{x}<br>1=%{y}<extra></extra>",
         "legendgroup": "#72E8C3",
         "marker": {
          "color": "#FFA15A",
          "symbol": "circle"
         },
         "mode": "markers",
         "name": "#72E8C3",
         "orientation": "v",
         "showlegend": true,
         "type": "scatter",
         "x": [
          1.3988605737686157
         ],
         "xaxis": "x",
         "y": [
          1.8544684648513794
         ],
         "yaxis": "y"
        },
        {
         "hovertemplate": "hex color=#F84071<br>0=%{x}<br>1=%{y}<extra></extra>",
         "legendgroup": "#F84071",
         "marker": {
          "color": "#19d3f3",
          "symbol": "circle"
         },
         "mode": "markers",
         "name": "#F84071",
         "orientation": "v",
         "showlegend": true,
         "type": "scatter",
         "x": [
          3.9480032920837402
         ],
         "xaxis": "x",
         "y": [
          1.1815513372421265
         ],
         "yaxis": "y"
        },
        {
         "hovertemplate": "hex color=#C3A5E4<br>0=%{x}<br>1=%{y}<extra></extra>",
         "legendgroup": "#C3A5E4",
         "marker": {
          "color": "#FF6692",
          "symbol": "circle"
         },
         "mode": "markers",
         "name": "#C3A5E4",
         "orientation": "v",
         "showlegend": true,
         "type": "scatter",
         "x": [
          2.7035763263702393
         ],
         "xaxis": "x",
         "y": [
          -0.5544883608818054
         ],
         "yaxis": "y"
        },
        {
         "hovertemplate": "hex color=#3C7654<br>0=%{x}<br>1=%{y}<extra></extra>",
         "legendgroup": "#3C7654",
         "marker": {
          "color": "#B6E880",
          "symbol": "circle"
         },
         "mode": "markers",
         "name": "#3C7654",
         "orientation": "v",
         "showlegend": true,
         "type": "scatter",
         "x": [
          1.7460291385650635
         ],
         "xaxis": "x",
         "y": [
          2.8440322875976562
         ],
         "yaxis": "y"
        },
        {
         "hovertemplate": "hex color=#C05D28<br>0=%{x}<br>1=%{y}<extra></extra>",
         "legendgroup": "#C05D28",
         "marker": {
          "color": "#FF97FF",
          "symbol": "circle"
         },
         "mode": "markers",
         "name": "#C05D28",
         "orientation": "v",
         "showlegend": true,
         "type": "scatter",
         "x": [
          3.0509185791015625
         ],
         "xaxis": "x",
         "y": [
          0.5840060114860535
         ],
         "yaxis": "y"
        },
        {
         "hovertemplate": "hex color=#267F5C<br>0=%{x}<br>1=%{y}<extra></extra>",
         "legendgroup": "#267F5C",
         "marker": {
          "color": "#FECB52",
          "symbol": "circle"
         },
         "mode": "markers",
         "name": "#267F5C",
         "orientation": "v",
         "showlegend": true,
         "type": "scatter",
         "x": [
          0.41072386503219604
         ],
         "xaxis": "x",
         "y": [
          1.7095694541931152
         ],
         "yaxis": "y"
        },
        {
         "hovertemplate": "hex color=#CB1865<br>0=%{x}<br>1=%{y}<extra></extra>",
         "legendgroup": "#CB1865",
         "marker": {
          "color": "#636efa",
          "symbol": "circle"
         },
         "mode": "markers",
         "name": "#CB1865",
         "orientation": "v",
         "showlegend": true,
         "type": "scatter",
         "x": [
          1.834847092628479
         ],
         "xaxis": "x",
         "y": [
          3.4049570560455322
         ],
         "yaxis": "y"
        },
        {
         "hovertemplate": "hex color=#CF9514<br>0=%{x}<br>1=%{y}<extra></extra>",
         "legendgroup": "#CF9514",
         "marker": {
          "color": "#EF553B",
          "symbol": "circle"
         },
         "mode": "markers",
         "name": "#CF9514",
         "orientation": "v",
         "showlegend": true,
         "type": "scatter",
         "x": [
          2.7696683406829834
         ],
         "xaxis": "x",
         "y": [
          2.6615116596221924
         ],
         "yaxis": "y"
        },
        {
         "hovertemplate": "hex color=#923E6B<br>0=%{x}<br>1=%{y}<extra></extra>",
         "legendgroup": "#923E6B",
         "marker": {
          "color": "#00cc96",
          "symbol": "circle"
         },
         "mode": "markers",
         "name": "#923E6B",
         "orientation": "v",
         "showlegend": true,
         "type": "scatter",
         "x": [
          1.5459071397781372
         ],
         "xaxis": "x",
         "y": [
          1.3478809595108032
         ],
         "yaxis": "y"
        },
        {
         "hovertemplate": "hex color=#42D56C<br>0=%{x}<br>1=%{y}<extra></extra>",
         "legendgroup": "#42D56C",
         "marker": {
          "color": "#ab63fa",
          "symbol": "circle"
         },
         "mode": "markers",
         "name": "#42D56C",
         "orientation": "v",
         "showlegend": true,
         "type": "scatter",
         "x": [
          1.1447579860687256
         ],
         "xaxis": "x",
         "y": [
          1.4116305112838745
         ],
         "yaxis": "y"
        },
        {
         "hovertemplate": "hex color=#76F2BD<br>0=%{x}<br>1=%{y}<extra></extra>",
         "legendgroup": "#76F2BD",
         "marker": {
          "color": "#FFA15A",
          "symbol": "circle"
         },
         "mode": "markers",
         "name": "#76F2BD",
         "orientation": "v",
         "showlegend": true,
         "type": "scatter",
         "x": [
          1.2577571868896484
         ],
         "xaxis": "x",
         "y": [
          0.6478444337844849
         ],
         "yaxis": "y"
        },
        {
         "hovertemplate": "hex color=#E7029A<br>0=%{x}<br>1=%{y}<extra></extra>",
         "legendgroup": "#E7029A",
         "marker": {
          "color": "#19d3f3",
          "symbol": "circle"
         },
         "mode": "markers",
         "name": "#E7029A",
         "orientation": "v",
         "showlegend": true,
         "type": "scatter",
         "x": [
          3.960552453994751
         ],
         "xaxis": "x",
         "y": [
          1.5530308485031128
         ],
         "yaxis": "y"
        },
        {
         "hovertemplate": "hex color=#8F49C3<br>0=%{x}<br>1=%{y}<extra></extra>",
         "legendgroup": "#8F49C3",
         "marker": {
          "color": "#FF6692",
          "symbol": "circle"
         },
         "mode": "markers",
         "name": "#8F49C3",
         "orientation": "v",
         "showlegend": true,
         "type": "scatter",
         "x": [
          0.8827346563339233
         ],
         "xaxis": "x",
         "y": [
          1.5139902830123901
         ],
         "yaxis": "y"
        },
        {
         "hovertemplate": "hex color=#A6D253<br>0=%{x}<br>1=%{y}<extra></extra>",
         "legendgroup": "#A6D253",
         "marker": {
          "color": "#B6E880",
          "symbol": "circle"
         },
         "mode": "markers",
         "name": "#A6D253",
         "orientation": "v",
         "showlegend": true,
         "type": "scatter",
         "x": [
          3.8134963512420654
         ],
         "xaxis": "x",
         "y": [
          0.234943687915802
         ],
         "yaxis": "y"
        },
        {
         "hovertemplate": "hex color=#1F0B82<br>0=%{x}<br>1=%{y}<extra></extra>",
         "legendgroup": "#1F0B82",
         "marker": {
          "color": "#FF97FF",
          "symbol": "circle"
         },
         "mode": "markers",
         "name": "#1F0B82",
         "orientation": "v",
         "showlegend": true,
         "type": "scatter",
         "x": [
          1.9349112510681152
         ],
         "xaxis": "x",
         "y": [
          0.014717602171003819
         ],
         "yaxis": "y"
        },
        {
         "hovertemplate": "hex color=#1AC9B3<br>0=%{x}<br>1=%{y}<extra></extra>",
         "legendgroup": "#1AC9B3",
         "marker": {
          "color": "#FECB52",
          "symbol": "circle"
         },
         "mode": "markers",
         "name": "#1AC9B3",
         "orientation": "v",
         "showlegend": true,
         "type": "scatter",
         "x": [
          1.9533708095550537
         ],
         "xaxis": "x",
         "y": [
          0.18529178202152252
         ],
         "yaxis": "y"
        }
       ],
       "layout": {
        "legend": {
         "title": {
          "text": "hex color"
         },
         "tracegroupgap": 0
        },
        "showlegend": false,
        "template": {
         "data": {
          "bar": [
           {
            "error_x": {
             "color": "#2a3f5f"
            },
            "error_y": {
             "color": "#2a3f5f"
            },
            "marker": {
             "line": {
              "color": "#E5ECF6",
              "width": 0.5
             },
             "pattern": {
              "fillmode": "overlay",
              "size": 10,
              "solidity": 0.2
             }
            },
            "type": "bar"
           }
          ],
          "barpolar": [
           {
            "marker": {
             "line": {
              "color": "#E5ECF6",
              "width": 0.5
             },
             "pattern": {
              "fillmode": "overlay",
              "size": 10,
              "solidity": 0.2
             }
            },
            "type": "barpolar"
           }
          ],
          "carpet": [
           {
            "aaxis": {
             "endlinecolor": "#2a3f5f",
             "gridcolor": "white",
             "linecolor": "white",
             "minorgridcolor": "white",
             "startlinecolor": "#2a3f5f"
            },
            "baxis": {
             "endlinecolor": "#2a3f5f",
             "gridcolor": "white",
             "linecolor": "white",
             "minorgridcolor": "white",
             "startlinecolor": "#2a3f5f"
            },
            "type": "carpet"
           }
          ],
          "choropleth": [
           {
            "colorbar": {
             "outlinewidth": 0,
             "ticks": ""
            },
            "type": "choropleth"
           }
          ],
          "contour": [
           {
            "colorbar": {
             "outlinewidth": 0,
             "ticks": ""
            },
            "colorscale": [
             [
              0,
              "#0d0887"
             ],
             [
              0.1111111111111111,
              "#46039f"
             ],
             [
              0.2222222222222222,
              "#7201a8"
             ],
             [
              0.3333333333333333,
              "#9c179e"
             ],
             [
              0.4444444444444444,
              "#bd3786"
             ],
             [
              0.5555555555555556,
              "#d8576b"
             ],
             [
              0.6666666666666666,
              "#ed7953"
             ],
             [
              0.7777777777777778,
              "#fb9f3a"
             ],
             [
              0.8888888888888888,
              "#fdca26"
             ],
             [
              1,
              "#f0f921"
             ]
            ],
            "type": "contour"
           }
          ],
          "contourcarpet": [
           {
            "colorbar": {
             "outlinewidth": 0,
             "ticks": ""
            },
            "type": "contourcarpet"
           }
          ],
          "heatmap": [
           {
            "colorbar": {
             "outlinewidth": 0,
             "ticks": ""
            },
            "colorscale": [
             [
              0,
              "#0d0887"
             ],
             [
              0.1111111111111111,
              "#46039f"
             ],
             [
              0.2222222222222222,
              "#7201a8"
             ],
             [
              0.3333333333333333,
              "#9c179e"
             ],
             [
              0.4444444444444444,
              "#bd3786"
             ],
             [
              0.5555555555555556,
              "#d8576b"
             ],
             [
              0.6666666666666666,
              "#ed7953"
             ],
             [
              0.7777777777777778,
              "#fb9f3a"
             ],
             [
              0.8888888888888888,
              "#fdca26"
             ],
             [
              1,
              "#f0f921"
             ]
            ],
            "type": "heatmap"
           }
          ],
          "heatmapgl": [
           {
            "colorbar": {
             "outlinewidth": 0,
             "ticks": ""
            },
            "colorscale": [
             [
              0,
              "#0d0887"
             ],
             [
              0.1111111111111111,
              "#46039f"
             ],
             [
              0.2222222222222222,
              "#7201a8"
             ],
             [
              0.3333333333333333,
              "#9c179e"
             ],
             [
              0.4444444444444444,
              "#bd3786"
             ],
             [
              0.5555555555555556,
              "#d8576b"
             ],
             [
              0.6666666666666666,
              "#ed7953"
             ],
             [
              0.7777777777777778,
              "#fb9f3a"
             ],
             [
              0.8888888888888888,
              "#fdca26"
             ],
             [
              1,
              "#f0f921"
             ]
            ],
            "type": "heatmapgl"
           }
          ],
          "histogram": [
           {
            "marker": {
             "pattern": {
              "fillmode": "overlay",
              "size": 10,
              "solidity": 0.2
             }
            },
            "type": "histogram"
           }
          ],
          "histogram2d": [
           {
            "colorbar": {
             "outlinewidth": 0,
             "ticks": ""
            },
            "colorscale": [
             [
              0,
              "#0d0887"
             ],
             [
              0.1111111111111111,
              "#46039f"
             ],
             [
              0.2222222222222222,
              "#7201a8"
             ],
             [
              0.3333333333333333,
              "#9c179e"
             ],
             [
              0.4444444444444444,
              "#bd3786"
             ],
             [
              0.5555555555555556,
              "#d8576b"
             ],
             [
              0.6666666666666666,
              "#ed7953"
             ],
             [
              0.7777777777777778,
              "#fb9f3a"
             ],
             [
              0.8888888888888888,
              "#fdca26"
             ],
             [
              1,
              "#f0f921"
             ]
            ],
            "type": "histogram2d"
           }
          ],
          "histogram2dcontour": [
           {
            "colorbar": {
             "outlinewidth": 0,
             "ticks": ""
            },
            "colorscale": [
             [
              0,
              "#0d0887"
             ],
             [
              0.1111111111111111,
              "#46039f"
             ],
             [
              0.2222222222222222,
              "#7201a8"
             ],
             [
              0.3333333333333333,
              "#9c179e"
             ],
             [
              0.4444444444444444,
              "#bd3786"
             ],
             [
              0.5555555555555556,
              "#d8576b"
             ],
             [
              0.6666666666666666,
              "#ed7953"
             ],
             [
              0.7777777777777778,
              "#fb9f3a"
             ],
             [
              0.8888888888888888,
              "#fdca26"
             ],
             [
              1,
              "#f0f921"
             ]
            ],
            "type": "histogram2dcontour"
           }
          ],
          "mesh3d": [
           {
            "colorbar": {
             "outlinewidth": 0,
             "ticks": ""
            },
            "type": "mesh3d"
           }
          ],
          "parcoords": [
           {
            "line": {
             "colorbar": {
              "outlinewidth": 0,
              "ticks": ""
             }
            },
            "type": "parcoords"
           }
          ],
          "pie": [
           {
            "automargin": true,
            "type": "pie"
           }
          ],
          "scatter": [
           {
            "fillpattern": {
             "fillmode": "overlay",
             "size": 10,
             "solidity": 0.2
            },
            "type": "scatter"
           }
          ],
          "scatter3d": [
           {
            "line": {
             "colorbar": {
              "outlinewidth": 0,
              "ticks": ""
             }
            },
            "marker": {
             "colorbar": {
              "outlinewidth": 0,
              "ticks": ""
             }
            },
            "type": "scatter3d"
           }
          ],
          "scattercarpet": [
           {
            "marker": {
             "colorbar": {
              "outlinewidth": 0,
              "ticks": ""
             }
            },
            "type": "scattercarpet"
           }
          ],
          "scattergeo": [
           {
            "marker": {
             "colorbar": {
              "outlinewidth": 0,
              "ticks": ""
             }
            },
            "type": "scattergeo"
           }
          ],
          "scattergl": [
           {
            "marker": {
             "colorbar": {
              "outlinewidth": 0,
              "ticks": ""
             }
            },
            "type": "scattergl"
           }
          ],
          "scattermapbox": [
           {
            "marker": {
             "colorbar": {
              "outlinewidth": 0,
              "ticks": ""
             }
            },
            "type": "scattermapbox"
           }
          ],
          "scatterpolar": [
           {
            "marker": {
             "colorbar": {
              "outlinewidth": 0,
              "ticks": ""
             }
            },
            "type": "scatterpolar"
           }
          ],
          "scatterpolargl": [
           {
            "marker": {
             "colorbar": {
              "outlinewidth": 0,
              "ticks": ""
             }
            },
            "type": "scatterpolargl"
           }
          ],
          "scatterternary": [
           {
            "marker": {
             "colorbar": {
              "outlinewidth": 0,
              "ticks": ""
             }
            },
            "type": "scatterternary"
           }
          ],
          "surface": [
           {
            "colorbar": {
             "outlinewidth": 0,
             "ticks": ""
            },
            "colorscale": [
             [
              0,
              "#0d0887"
             ],
             [
              0.1111111111111111,
              "#46039f"
             ],
             [
              0.2222222222222222,
              "#7201a8"
             ],
             [
              0.3333333333333333,
              "#9c179e"
             ],
             [
              0.4444444444444444,
              "#bd3786"
             ],
             [
              0.5555555555555556,
              "#d8576b"
             ],
             [
              0.6666666666666666,
              "#ed7953"
             ],
             [
              0.7777777777777778,
              "#fb9f3a"
             ],
             [
              0.8888888888888888,
              "#fdca26"
             ],
             [
              1,
              "#f0f921"
             ]
            ],
            "type": "surface"
           }
          ],
          "table": [
           {
            "cells": {
             "fill": {
              "color": "#EBF0F8"
             },
             "line": {
              "color": "white"
             }
            },
            "header": {
             "fill": {
              "color": "#C8D4E3"
             },
             "line": {
              "color": "white"
             }
            },
            "type": "table"
           }
          ]
         },
         "layout": {
          "annotationdefaults": {
           "arrowcolor": "#2a3f5f",
           "arrowhead": 0,
           "arrowwidth": 1
          },
          "autotypenumbers": "strict",
          "coloraxis": {
           "colorbar": {
            "outlinewidth": 0,
            "ticks": ""
           }
          },
          "colorscale": {
           "diverging": [
            [
             0,
             "#8e0152"
            ],
            [
             0.1,
             "#c51b7d"
            ],
            [
             0.2,
             "#de77ae"
            ],
            [
             0.3,
             "#f1b6da"
            ],
            [
             0.4,
             "#fde0ef"
            ],
            [
             0.5,
             "#f7f7f7"
            ],
            [
             0.6,
             "#e6f5d0"
            ],
            [
             0.7,
             "#b8e186"
            ],
            [
             0.8,
             "#7fbc41"
            ],
            [
             0.9,
             "#4d9221"
            ],
            [
             1,
             "#276419"
            ]
           ],
           "sequential": [
            [
             0,
             "#0d0887"
            ],
            [
             0.1111111111111111,
             "#46039f"
            ],
            [
             0.2222222222222222,
             "#7201a8"
            ],
            [
             0.3333333333333333,
             "#9c179e"
            ],
            [
             0.4444444444444444,
             "#bd3786"
            ],
            [
             0.5555555555555556,
             "#d8576b"
            ],
            [
             0.6666666666666666,
             "#ed7953"
            ],
            [
             0.7777777777777778,
             "#fb9f3a"
            ],
            [
             0.8888888888888888,
             "#fdca26"
            ],
            [
             1,
             "#f0f921"
            ]
           ],
           "sequentialminus": [
            [
             0,
             "#0d0887"
            ],
            [
             0.1111111111111111,
             "#46039f"
            ],
            [
             0.2222222222222222,
             "#7201a8"
            ],
            [
             0.3333333333333333,
             "#9c179e"
            ],
            [
             0.4444444444444444,
             "#bd3786"
            ],
            [
             0.5555555555555556,
             "#d8576b"
            ],
            [
             0.6666666666666666,
             "#ed7953"
            ],
            [
             0.7777777777777778,
             "#fb9f3a"
            ],
            [
             0.8888888888888888,
             "#fdca26"
            ],
            [
             1,
             "#f0f921"
            ]
           ]
          },
          "colorway": [
           "#636efa",
           "#EF553B",
           "#00cc96",
           "#ab63fa",
           "#FFA15A",
           "#19d3f3",
           "#FF6692",
           "#B6E880",
           "#FF97FF",
           "#FECB52"
          ],
          "font": {
           "color": "#2a3f5f"
          },
          "geo": {
           "bgcolor": "white",
           "lakecolor": "white",
           "landcolor": "#E5ECF6",
           "showlakes": true,
           "showland": true,
           "subunitcolor": "white"
          },
          "hoverlabel": {
           "align": "left"
          },
          "hovermode": "closest",
          "mapbox": {
           "style": "light"
          },
          "paper_bgcolor": "white",
          "plot_bgcolor": "#E5ECF6",
          "polar": {
           "angularaxis": {
            "gridcolor": "white",
            "linecolor": "white",
            "ticks": ""
           },
           "bgcolor": "#E5ECF6",
           "radialaxis": {
            "gridcolor": "white",
            "linecolor": "white",
            "ticks": ""
           }
          },
          "scene": {
           "xaxis": {
            "backgroundcolor": "#E5ECF6",
            "gridcolor": "white",
            "gridwidth": 2,
            "linecolor": "white",
            "showbackground": true,
            "ticks": "",
            "zerolinecolor": "white"
           },
           "yaxis": {
            "backgroundcolor": "#E5ECF6",
            "gridcolor": "white",
            "gridwidth": 2,
            "linecolor": "white",
            "showbackground": true,
            "ticks": "",
            "zerolinecolor": "white"
           },
           "zaxis": {
            "backgroundcolor": "#E5ECF6",
            "gridcolor": "white",
            "gridwidth": 2,
            "linecolor": "white",
            "showbackground": true,
            "ticks": "",
            "zerolinecolor": "white"
           }
          },
          "shapedefaults": {
           "line": {
            "color": "#2a3f5f"
           }
          },
          "ternary": {
           "aaxis": {
            "gridcolor": "white",
            "linecolor": "white",
            "ticks": ""
           },
           "baxis": {
            "gridcolor": "white",
            "linecolor": "white",
            "ticks": ""
           },
           "bgcolor": "#E5ECF6",
           "caxis": {
            "gridcolor": "white",
            "linecolor": "white",
            "ticks": ""
           }
          },
          "title": {
           "x": 0.05
          },
          "xaxis": {
           "automargin": true,
           "gridcolor": "white",
           "linecolor": "white",
           "ticks": "",
           "title": {
            "standoff": 15
           },
           "zerolinecolor": "white",
           "zerolinewidth": 2
          },
          "yaxis": {
           "automargin": true,
           "gridcolor": "white",
           "linecolor": "white",
           "ticks": "",
           "title": {
            "standoff": 15
           },
           "zerolinecolor": "white",
           "zerolinewidth": 2
          }
         }
        },
        "title": {
         "text": "UMAP of DistilBERT embeddings of hex colors"
        },
        "xaxis": {
         "anchor": "y",
         "domain": [
          0,
          1
         ],
         "title": {
          "text": "0"
         }
        },
        "yaxis": {
         "anchor": "x",
         "domain": [
          0,
          1
         ],
         "title": {
          "text": "1"
         }
        }
       }
      }
     },
     "metadata": {},
     "output_type": "display_data"
    }
   ],
   "source": [
    "# try umap \n",
    "reducer = umap.UMAP()\n",
    "hex_umap = reducer.fit_transform(hex_embeddings)\n",
    "\n",
    "# plot umap results with plotly\n",
    "fig = px.scatter(\n",
    "    hex_umap, x=0, y=1, color=hex_colors,\n",
    "    labels={'color': 'hex color'},\n",
    "    title='UMAP of DistilBERT embeddings of hex colors'\n",
    ")\n",
    "\n",
    "# hide legend\n",
    "fig.update_layout(showlegend=False)\n",
    "fig.show()"
   ]
  },
  {
   "cell_type": "code",
   "execution_count": 20,
   "metadata": {},
   "outputs": [
    {
     "data": {
      "application/vnd.plotly.v1+json": {
       "config": {
        "plotlyServerURL": "https://plot.ly"
       },
       "data": [
        {
         "hovertemplate": "hex color=#016B75<br>0=%{x}<br>1=%{y}<br>2=%{z}<extra></extra>",
         "legendgroup": "#016B75",
         "marker": {
          "color": "#636efa",
          "symbol": "circle"
         },
         "mode": "markers",
         "name": "#016B75",
         "scene": "scene",
         "showlegend": true,
         "type": "scatter3d",
         "x": [
          2.0378763675689697
         ],
         "y": [
          2.308208465576172
         ],
         "z": [
          4.7626166343688965
         ]
        },
        {
         "hovertemplate": "hex color=#319C04<br>0=%{x}<br>1=%{y}<br>2=%{z}<extra></extra>",
         "legendgroup": "#319C04",
         "marker": {
          "color": "#EF553B",
          "symbol": "circle"
         },
         "mode": "markers",
         "name": "#319C04",
         "scene": "scene",
         "showlegend": true,
         "type": "scatter3d",
         "x": [
          1.4434008598327637
         ],
         "y": [
          1.5113394260406494
         ],
         "z": [
          5.83921480178833
         ]
        },
        {
         "hovertemplate": "hex color=#4D1630<br>0=%{x}<br>1=%{y}<br>2=%{z}<extra></extra>",
         "legendgroup": "#4D1630",
         "marker": {
          "color": "#00cc96",
          "symbol": "circle"
         },
         "mode": "markers",
         "name": "#4D1630",
         "scene": "scene",
         "showlegend": true,
         "type": "scatter3d",
         "x": [
          1.0804429054260254
         ],
         "y": [
          0.9285908937454224
         ],
         "z": [
          4.973229885101318
         ]
        },
        {
         "hovertemplate": "hex color=#A1BF45<br>0=%{x}<br>1=%{y}<br>2=%{z}<extra></extra>",
         "legendgroup": "#A1BF45",
         "marker": {
          "color": "#ab63fa",
          "symbol": "circle"
         },
         "mode": "markers",
         "name": "#A1BF45",
         "scene": "scene",
         "showlegend": true,
         "type": "scatter3d",
         "x": [
          0.5683950781822205
         ],
         "y": [
          1.679823875427246
         ],
         "z": [
          4.426781177520752
         ]
        },
        {
         "hovertemplate": "hex color=#B75DC2<br>0=%{x}<br>1=%{y}<br>2=%{z}<extra></extra>",
         "legendgroup": "#B75DC2",
         "marker": {
          "color": "#FFA15A",
          "symbol": "circle"
         },
         "mode": "markers",
         "name": "#B75DC2",
         "scene": "scene",
         "showlegend": true,
         "type": "scatter3d",
         "x": [
          0.8379842638969421
         ],
         "y": [
          1.1628074645996094
         ],
         "z": [
          7.005903244018555
         ]
        },
        {
         "hovertemplate": "hex color=#9FB278<br>0=%{x}<br>1=%{y}<br>2=%{z}<extra></extra>",
         "legendgroup": "#9FB278",
         "marker": {
          "color": "#19d3f3",
          "symbol": "circle"
         },
         "mode": "markers",
         "name": "#9FB278",
         "scene": "scene",
         "showlegend": true,
         "type": "scatter3d",
         "x": [
          1.1822490692138672
         ],
         "y": [
          2.201829671859741
         ],
         "z": [
          5.158870220184326
         ]
        },
        {
         "hovertemplate": "hex color=#B1A35F<br>0=%{x}<br>1=%{y}<br>2=%{z}<extra></extra>",
         "legendgroup": "#B1A35F",
         "marker": {
          "color": "#FF6692",
          "symbol": "circle"
         },
         "mode": "markers",
         "name": "#B1A35F",
         "scene": "scene",
         "showlegend": true,
         "type": "scatter3d",
         "x": [
          1.054809331893921
         ],
         "y": [
          0.87981778383255
         ],
         "z": [
          6.9487786293029785
         ]
        },
        {
         "hovertemplate": "hex color=#17FCA4<br>0=%{x}<br>1=%{y}<br>2=%{z}<extra></extra>",
         "legendgroup": "#17FCA4",
         "marker": {
          "color": "#B6E880",
          "symbol": "circle"
         },
         "mode": "markers",
         "name": "#17FCA4",
         "scene": "scene",
         "showlegend": true,
         "type": "scatter3d",
         "x": [
          0.9156107902526855
         ],
         "y": [
          0.39027854800224304
         ],
         "z": [
          4.221823215484619
         ]
        },
        {
         "hovertemplate": "hex color=#C1EA3F<br>0=%{x}<br>1=%{y}<br>2=%{z}<extra></extra>",
         "legendgroup": "#C1EA3F",
         "marker": {
          "color": "#FF97FF",
          "symbol": "circle"
         },
         "mode": "markers",
         "name": "#C1EA3F",
         "scene": "scene",
         "showlegend": true,
         "type": "scatter3d",
         "x": [
          0.6008475422859192
         ],
         "y": [
          0.7524702548980713
         ],
         "z": [
          5.743918418884277
         ]
        },
        {
         "hovertemplate": "hex color=#5B76FD<br>0=%{x}<br>1=%{y}<br>2=%{z}<extra></extra>",
         "legendgroup": "#5B76FD",
         "marker": {
          "color": "#FECB52",
          "symbol": "circle"
         },
         "mode": "markers",
         "name": "#5B76FD",
         "scene": "scene",
         "showlegend": true,
         "type": "scatter3d",
         "x": [
          0.4171403646469116
         ],
         "y": [
          0.09910950064659119
         ],
         "z": [
          5.66297721862793
         ]
        },
        {
         "hovertemplate": "hex color=#AEB607<br>0=%{x}<br>1=%{y}<br>2=%{z}<extra></extra>",
         "legendgroup": "#AEB607",
         "marker": {
          "color": "#636efa",
          "symbol": "circle"
         },
         "mode": "markers",
         "name": "#AEB607",
         "scene": "scene",
         "showlegend": true,
         "type": "scatter3d",
         "x": [
          0.36339184641838074
         ],
         "y": [
          2.2644498348236084
         ],
         "z": [
          6.7325215339660645
         ]
        },
        {
         "hovertemplate": "hex color=#B71F50<br>0=%{x}<br>1=%{y}<br>2=%{z}<extra></extra>",
         "legendgroup": "#B71F50",
         "marker": {
          "color": "#EF553B",
          "symbol": "circle"
         },
         "mode": "markers",
         "name": "#B71F50",
         "scene": "scene",
         "showlegend": true,
         "type": "scatter3d",
         "x": [
          0.4047856628894806
         ],
         "y": [
          0.5907777547836304
         ],
         "z": [
          6.807779312133789
         ]
        },
        {
         "hovertemplate": "hex color=#AFD624<br>0=%{x}<br>1=%{y}<br>2=%{z}<extra></extra>",
         "legendgroup": "#AFD624",
         "marker": {
          "color": "#00cc96",
          "symbol": "circle"
         },
         "mode": "markers",
         "name": "#AFD624",
         "scene": "scene",
         "showlegend": true,
         "type": "scatter3d",
         "x": [
          -0.05492548644542694
         ],
         "y": [
          2.1540310382843018
         ],
         "z": [
          6.062148094177246
         ]
        },
        {
         "hovertemplate": "hex color=#CEA521<br>0=%{x}<br>1=%{y}<br>2=%{z}<extra></extra>",
         "legendgroup": "#CEA521",
         "marker": {
          "color": "#ab63fa",
          "symbol": "circle"
         },
         "mode": "markers",
         "name": "#CEA521",
         "scene": "scene",
         "showlegend": true,
         "type": "scatter3d",
         "x": [
          0.05192800611257553
         ],
         "y": [
          2.432525157928467
         ],
         "z": [
          6.459846496582031
         ]
        },
        {
         "hovertemplate": "hex color=#C64073<br>0=%{x}<br>1=%{y}<br>2=%{z}<extra></extra>",
         "legendgroup": "#C64073",
         "marker": {
          "color": "#FFA15A",
          "symbol": "circle"
         },
         "mode": "markers",
         "name": "#C64073",
         "scene": "scene",
         "showlegend": true,
         "type": "scatter3d",
         "x": [
          -0.24457310140132904
         ],
         "y": [
          1.3767333030700684
         ],
         "z": [
          6.574011325836182
         ]
        },
        {
         "hovertemplate": "hex color=#01C59A<br>0=%{x}<br>1=%{y}<br>2=%{z}<extra></extra>",
         "legendgroup": "#01C59A",
         "marker": {
          "color": "#19d3f3",
          "symbol": "circle"
         },
         "mode": "markers",
         "name": "#01C59A",
         "scene": "scene",
         "showlegend": true,
         "type": "scatter3d",
         "x": [
          2.0805554389953613
         ],
         "y": [
          2.282866954803467
         ],
         "z": [
          4.389317989349365
         ]
        },
        {
         "hovertemplate": "hex color=#B847A6<br>0=%{x}<br>1=%{y}<br>2=%{z}<extra></extra>",
         "legendgroup": "#B847A6",
         "marker": {
          "color": "#FF6692",
          "symbol": "circle"
         },
         "mode": "markers",
         "name": "#B847A6",
         "scene": "scene",
         "showlegend": true,
         "type": "scatter3d",
         "x": [
          0.2532137632369995
         ],
         "y": [
          0.6524635553359985
         ],
         "z": [
          7.342115879058838
         ]
        },
        {
         "hovertemplate": "hex color=#AFE746<br>0=%{x}<br>1=%{y}<br>2=%{z}<extra></extra>",
         "legendgroup": "#AFE746",
         "marker": {
          "color": "#B6E880",
          "symbol": "circle"
         },
         "mode": "markers",
         "name": "#AFE746",
         "scene": "scene",
         "showlegend": true,
         "type": "scatter3d",
         "x": [
          -0.1260916143655777
         ],
         "y": [
          2.1293818950653076
         ],
         "z": [
          6.517014503479004
         ]
        },
        {
         "hovertemplate": "hex color=#6DFE18<br>0=%{x}<br>1=%{y}<br>2=%{z}<extra></extra>",
         "legendgroup": "#6DFE18",
         "marker": {
          "color": "#FF97FF",
          "symbol": "circle"
         },
         "mode": "markers",
         "name": "#6DFE18",
         "scene": "scene",
         "showlegend": true,
         "type": "scatter3d",
         "x": [
          0.5965732932090759
         ],
         "y": [
          1.047947645187378
         ],
         "z": [
          3.9297661781311035
         ]
        },
        {
         "hovertemplate": "hex color=#DAF20C<br>0=%{x}<br>1=%{y}<br>2=%{z}<extra></extra>",
         "legendgroup": "#DAF20C",
         "marker": {
          "color": "#FECB52",
          "symbol": "circle"
         },
         "mode": "markers",
         "name": "#DAF20C",
         "scene": "scene",
         "showlegend": true,
         "type": "scatter3d",
         "x": [
          0.04542085528373718
         ],
         "y": [
          1.7490565776824951
         ],
         "z": [
          5.760871410369873
         ]
        },
        {
         "hovertemplate": "hex color=#819DBC<br>0=%{x}<br>1=%{y}<br>2=%{z}<extra></extra>",
         "legendgroup": "#819DBC",
         "marker": {
          "color": "#636efa",
          "symbol": "circle"
         },
         "mode": "markers",
         "name": "#819DBC",
         "scene": "scene",
         "showlegend": true,
         "type": "scatter3d",
         "x": [
          2.3581080436706543
         ],
         "y": [
          1.3723565340042114
         ],
         "z": [
          4.7474212646484375
         ]
        },
        {
         "hovertemplate": "hex color=#209E63<br>0=%{x}<br>1=%{y}<br>2=%{z}<extra></extra>",
         "legendgroup": "#209E63",
         "marker": {
          "color": "#EF553B",
          "symbol": "circle"
         },
         "mode": "markers",
         "name": "#209E63",
         "scene": "scene",
         "showlegend": true,
         "type": "scatter3d",
         "x": [
          2.2986958026885986
         ],
         "y": [
          2.158395528793335
         ],
         "z": [
          5.480426788330078
         ]
        },
        {
         "hovertemplate": "hex color=#958DEB<br>0=%{x}<br>1=%{y}<br>2=%{z}<extra></extra>",
         "legendgroup": "#958DEB",
         "marker": {
          "color": "#00cc96",
          "symbol": "circle"
         },
         "mode": "markers",
         "name": "#958DEB",
         "scene": "scene",
         "showlegend": true,
         "type": "scatter3d",
         "x": [
          2.1075665950775146
         ],
         "y": [
          0.9183204174041748
         ],
         "z": [
          4.872028827667236
         ]
        },
        {
         "hovertemplate": "hex color=#A05248<br>0=%{x}<br>1=%{y}<br>2=%{z}<extra></extra>",
         "legendgroup": "#A05248",
         "marker": {
          "color": "#ab63fa",
          "symbol": "circle"
         },
         "mode": "markers",
         "name": "#A05248",
         "scene": "scene",
         "showlegend": true,
         "type": "scatter3d",
         "x": [
          -0.07026660442352295
         ],
         "y": [
          1.3658219575881958
         ],
         "z": [
          7.307627201080322
         ]
        },
        {
         "hovertemplate": "hex color=#60FC17<br>0=%{x}<br>1=%{y}<br>2=%{z}<extra></extra>",
         "legendgroup": "#60FC17",
         "marker": {
          "color": "#FFA15A",
          "symbol": "circle"
         },
         "mode": "markers",
         "name": "#60FC17",
         "scene": "scene",
         "showlegend": true,
         "type": "scatter3d",
         "x": [
          0.8903017044067383
         ],
         "y": [
          1.1005074977874756
         ],
         "z": [
          4.094677448272705
         ]
        },
        {
         "hovertemplate": "hex color=#219E8A<br>0=%{x}<br>1=%{y}<br>2=%{z}<extra></extra>",
         "legendgroup": "#219E8A",
         "marker": {
          "color": "#19d3f3",
          "symbol": "circle"
         },
         "mode": "markers",
         "name": "#219E8A",
         "scene": "scene",
         "showlegend": true,
         "type": "scatter3d",
         "x": [
          1.3814359903335571
         ],
         "y": [
          1.9768247604370117
         ],
         "z": [
          5.596031188964844
         ]
        },
        {
         "hovertemplate": "hex color=#F9B6A3<br>0=%{x}<br>1=%{y}<br>2=%{z}<extra></extra>",
         "legendgroup": "#F9B6A3",
         "marker": {
          "color": "#FF6692",
          "symbol": "circle"
         },
         "mode": "markers",
         "name": "#F9B6A3",
         "scene": "scene",
         "showlegend": true,
         "type": "scatter3d",
         "x": [
          0.47330111265182495
         ],
         "y": [
          0.014045401476323605
         ],
         "z": [
          6.9610090255737305
         ]
        },
        {
         "hovertemplate": "hex color=#7D296F<br>0=%{x}<br>1=%{y}<br>2=%{z}<extra></extra>",
         "legendgroup": "#7D296F",
         "marker": {
          "color": "#B6E880",
          "symbol": "circle"
         },
         "mode": "markers",
         "name": "#7D296F",
         "scene": "scene",
         "showlegend": true,
         "type": "scatter3d",
         "x": [
          0.5114305019378662
         ],
         "y": [
          0.701108455657959
         ],
         "z": [
          5.292961120605469
         ]
        },
        {
         "hovertemplate": "hex color=#613298<br>0=%{x}<br>1=%{y}<br>2=%{z}<extra></extra>",
         "legendgroup": "#613298",
         "marker": {
          "color": "#FF97FF",
          "symbol": "circle"
         },
         "mode": "markers",
         "name": "#613298",
         "scene": "scene",
         "showlegend": true,
         "type": "scatter3d",
         "x": [
          2.497016191482544
         ],
         "y": [
          1.6645997762680054
         ],
         "z": [
          5.669326305389404
         ]
        },
        {
         "hovertemplate": "hex color=#2058C9<br>0=%{x}<br>1=%{y}<br>2=%{z}<extra></extra>",
         "legendgroup": "#2058C9",
         "marker": {
          "color": "#FECB52",
          "symbol": "circle"
         },
         "mode": "markers",
         "name": "#2058C9",
         "scene": "scene",
         "showlegend": true,
         "type": "scatter3d",
         "x": [
          2.5832712650299072
         ],
         "y": [
          1.8809529542922974
         ],
         "z": [
          5.453682899475098
         ]
        },
        {
         "hovertemplate": "hex color=#7650C1<br>0=%{x}<br>1=%{y}<br>2=%{z}<extra></extra>",
         "legendgroup": "#7650C1",
         "marker": {
          "color": "#636efa",
          "symbol": "circle"
         },
         "mode": "markers",
         "name": "#7650C1",
         "scene": "scene",
         "showlegend": true,
         "type": "scatter3d",
         "x": [
          1.9622375965118408
         ],
         "y": [
          2.0709784030914307
         ],
         "z": [
          4.750526428222656
         ]
        },
        {
         "hovertemplate": "hex color=#16845F<br>0=%{x}<br>1=%{y}<br>2=%{z}<extra></extra>",
         "legendgroup": "#16845F",
         "marker": {
          "color": "#EF553B",
          "symbol": "circle"
         },
         "mode": "markers",
         "name": "#16845F",
         "scene": "scene",
         "showlegend": true,
         "type": "scatter3d",
         "x": [
          1.0886011123657227
         ],
         "y": [
          1.1477406024932861
         ],
         "z": [
          4.536893367767334
         ]
        },
        {
         "hovertemplate": "hex color=#5931AD<br>0=%{x}<br>1=%{y}<br>2=%{z}<extra></extra>",
         "legendgroup": "#5931AD",
         "marker": {
          "color": "#00cc96",
          "symbol": "circle"
         },
         "mode": "markers",
         "name": "#5931AD",
         "scene": "scene",
         "showlegend": true,
         "type": "scatter3d",
         "x": [
          2.709683418273926
         ],
         "y": [
          1.5840801000595093
         ],
         "z": [
          4.904952526092529
         ]
        },
        {
         "hovertemplate": "hex color=#F6985E<br>0=%{x}<br>1=%{y}<br>2=%{z}<extra></extra>",
         "legendgroup": "#F6985E",
         "marker": {
          "color": "#ab63fa",
          "symbol": "circle"
         },
         "mode": "markers",
         "name": "#F6985E",
         "scene": "scene",
         "showlegend": true,
         "type": "scatter3d",
         "x": [
          0.7650557160377502
         ],
         "y": [
          1.7276802062988281
         ],
         "z": [
          6.646474838256836
         ]
        },
        {
         "hovertemplate": "hex color=#62D81F<br>0=%{x}<br>1=%{y}<br>2=%{z}<extra></extra>",
         "legendgroup": "#62D81F",
         "marker": {
          "color": "#FFA15A",
          "symbol": "circle"
         },
         "mode": "markers",
         "name": "#62D81F",
         "scene": "scene",
         "showlegend": true,
         "type": "scatter3d",
         "x": [
          1.5552902221679688
         ],
         "y": [
          0.6587258577346802
         ],
         "z": [
          5.442652702331543
         ]
        },
        {
         "hovertemplate": "hex color=#0391EA<br>0=%{x}<br>1=%{y}<br>2=%{z}<extra></extra>",
         "legendgroup": "#0391EA",
         "marker": {
          "color": "#19d3f3",
          "symbol": "circle"
         },
         "mode": "markers",
         "name": "#0391EA",
         "scene": "scene",
         "showlegend": true,
         "type": "scatter3d",
         "x": [
          2.453303813934326
         ],
         "y": [
          2.250308036804199
         ],
         "z": [
          4.47514009475708
         ]
        },
        {
         "hovertemplate": "hex color=#5E10AF<br>0=%{x}<br>1=%{y}<br>2=%{z}<extra></extra>",
         "legendgroup": "#5E10AF",
         "marker": {
          "color": "#FF6692",
          "symbol": "circle"
         },
         "mode": "markers",
         "name": "#5E10AF",
         "scene": "scene",
         "showlegend": true,
         "type": "scatter3d",
         "x": [
          0.3147439956665039
         ],
         "y": [
          0.8328816294670105
         ],
         "z": [
          3.8754396438598633
         ]
        },
        {
         "hovertemplate": "hex color=#4EFA57<br>0=%{x}<br>1=%{y}<br>2=%{z}<extra></extra>",
         "legendgroup": "#4EFA57",
         "marker": {
          "color": "#B6E880",
          "symbol": "circle"
         },
         "mode": "markers",
         "name": "#4EFA57",
         "scene": "scene",
         "showlegend": true,
         "type": "scatter3d",
         "x": [
          0.6036750078201294
         ],
         "y": [
          0.7023696899414062
         ],
         "z": [
          4.083732604980469
         ]
        },
        {
         "hovertemplate": "hex color=#5DC76E<br>0=%{x}<br>1=%{y}<br>2=%{z}<extra></extra>",
         "legendgroup": "#5DC76E",
         "marker": {
          "color": "#FF97FF",
          "symbol": "circle"
         },
         "mode": "markers",
         "name": "#5DC76E",
         "scene": "scene",
         "showlegend": true,
         "type": "scatter3d",
         "x": [
          0.011578110978007317
         ],
         "y": [
          0.8348686695098877
         ],
         "z": [
          4.922710418701172
         ]
        },
        {
         "hovertemplate": "hex color=#6A9382<br>0=%{x}<br>1=%{y}<br>2=%{z}<extra></extra>",
         "legendgroup": "#6A9382",
         "marker": {
          "color": "#FECB52",
          "symbol": "circle"
         },
         "mode": "markers",
         "name": "#6A9382",
         "scene": "scene",
         "showlegend": true,
         "type": "scatter3d",
         "x": [
          2.382347822189331
         ],
         "y": [
          1.4134258031845093
         ],
         "z": [
          5.643749237060547
         ]
        },
        {
         "hovertemplate": "hex color=#7ADB3F<br>0=%{x}<br>1=%{y}<br>2=%{z}<extra></extra>",
         "legendgroup": "#7ADB3F",
         "marker": {
          "color": "#636efa",
          "symbol": "circle"
         },
         "mode": "markers",
         "name": "#7ADB3F",
         "scene": "scene",
         "showlegend": true,
         "type": "scatter3d",
         "x": [
          0.6756603717803955
         ],
         "y": [
          -0.040329866111278534
         ],
         "z": [
          5.859957218170166
         ]
        },
        {
         "hovertemplate": "hex color=#A903DF<br>0=%{x}<br>1=%{y}<br>2=%{z}<extra></extra>",
         "legendgroup": "#A903DF",
         "marker": {
          "color": "#EF553B",
          "symbol": "circle"
         },
         "mode": "markers",
         "name": "#A903DF",
         "scene": "scene",
         "showlegend": true,
         "type": "scatter3d",
         "x": [
          0.4232225716114044
         ],
         "y": [
          2.2805376052856445
         ],
         "z": [
          6.540739059448242
         ]
        },
        {
         "hovertemplate": "hex color=#1D398C<br>0=%{x}<br>1=%{y}<br>2=%{z}<extra></extra>",
         "legendgroup": "#1D398C",
         "marker": {
          "color": "#00cc96",
          "symbol": "circle"
         },
         "mode": "markers",
         "name": "#1D398C",
         "scene": "scene",
         "showlegend": true,
         "type": "scatter3d",
         "x": [
          1.2222105264663696
         ],
         "y": [
          0.9114867448806763
         ],
         "z": [
          5.32862663269043
         ]
        },
        {
         "hovertemplate": "hex color=#A75C9B<br>0=%{x}<br>1=%{y}<br>2=%{z}<extra></extra>",
         "legendgroup": "#A75C9B",
         "marker": {
          "color": "#ab63fa",
          "symbol": "circle"
         },
         "mode": "markers",
         "name": "#A75C9B",
         "scene": "scene",
         "showlegend": true,
         "type": "scatter3d",
         "x": [
          0.605610191822052
         ],
         "y": [
          1.2130887508392334
         ],
         "z": [
          7.307670593261719
         ]
        },
        {
         "hovertemplate": "hex color=#3FC60D<br>0=%{x}<br>1=%{y}<br>2=%{z}<extra></extra>",
         "legendgroup": "#3FC60D",
         "marker": {
          "color": "#FFA15A",
          "symbol": "circle"
         },
         "mode": "markers",
         "name": "#3FC60D",
         "scene": "scene",
         "showlegend": true,
         "type": "scatter3d",
         "x": [
          1.0310258865356445
         ],
         "y": [
          0.6550568342208862
         ],
         "z": [
          4.620826244354248
         ]
        },
        {
         "hovertemplate": "hex color=#67DEB5<br>0=%{x}<br>1=%{y}<br>2=%{z}<extra></extra>",
         "legendgroup": "#67DEB5",
         "marker": {
          "color": "#19d3f3",
          "symbol": "circle"
         },
         "mode": "markers",
         "name": "#67DEB5",
         "scene": "scene",
         "showlegend": true,
         "type": "scatter3d",
         "x": [
          0.16579586267471313
         ],
         "y": [
          0.6254289746284485
         ],
         "z": [
          4.634135723114014
         ]
        },
        {
         "hovertemplate": "hex color=#C7D4FE<br>0=%{x}<br>1=%{y}<br>2=%{z}<extra></extra>",
         "legendgroup": "#C7D4FE",
         "marker": {
          "color": "#FF6692",
          "symbol": "circle"
         },
         "mode": "markers",
         "name": "#C7D4FE",
         "scene": "scene",
         "showlegend": true,
         "type": "scatter3d",
         "x": [
          -0.4143717586994171
         ],
         "y": [
          0.5261813998222351
         ],
         "z": [
          6.713927745819092
         ]
        },
        {
         "hovertemplate": "hex color=#29364B<br>0=%{x}<br>1=%{y}<br>2=%{z}<extra></extra>",
         "legendgroup": "#29364B",
         "marker": {
          "color": "#B6E880",
          "symbol": "circle"
         },
         "mode": "markers",
         "name": "#29364B",
         "scene": "scene",
         "showlegend": true,
         "type": "scatter3d",
         "x": [
          2.303870677947998
         ],
         "y": [
          1.118227243423462
         ],
         "z": [
          4.88181734085083
         ]
        },
        {
         "hovertemplate": "hex color=#D64B9C<br>0=%{x}<br>1=%{y}<br>2=%{z}<extra></extra>",
         "legendgroup": "#D64B9C",
         "marker": {
          "color": "#FF97FF",
          "symbol": "circle"
         },
         "mode": "markers",
         "name": "#D64B9C",
         "scene": "scene",
         "showlegend": true,
         "type": "scatter3d",
         "x": [
          -0.36740997433662415
         ],
         "y": [
          0.797580361366272
         ],
         "z": [
          6.088184356689453
         ]
        },
        {
         "hovertemplate": "hex color=#FD12E7<br>0=%{x}<br>1=%{y}<br>2=%{z}<extra></extra>",
         "legendgroup": "#FD12E7",
         "marker": {
          "color": "#FECB52",
          "symbol": "circle"
         },
         "mode": "markers",
         "name": "#FD12E7",
         "scene": "scene",
         "showlegend": true,
         "type": "scatter3d",
         "x": [
          0.049184512346982956
         ],
         "y": [
          1.2017841339111328
         ],
         "z": [
          6.111259937286377
         ]
        },
        {
         "hovertemplate": "hex color=#34FDAB<br>0=%{x}<br>1=%{y}<br>2=%{z}<extra></extra>",
         "legendgroup": "#34FDAB",
         "marker": {
          "color": "#636efa",
          "symbol": "circle"
         },
         "mode": "markers",
         "name": "#34FDAB",
         "scene": "scene",
         "showlegend": true,
         "type": "scatter3d",
         "x": [
          1.03622567653656
         ],
         "y": [
          -0.1382082998752594
         ],
         "z": [
          5.476674556732178
         ]
        },
        {
         "hovertemplate": "hex color=#E90D12<br>0=%{x}<br>1=%{y}<br>2=%{z}<extra></extra>",
         "legendgroup": "#E90D12",
         "marker": {
          "color": "#EF553B",
          "symbol": "circle"
         },
         "mode": "markers",
         "name": "#E90D12",
         "scene": "scene",
         "showlegend": true,
         "type": "scatter3d",
         "x": [
          0.21960964798927307
         ],
         "y": [
          1.464964747428894
         ],
         "z": [
          6.300261974334717
         ]
        },
        {
         "hovertemplate": "hex color=#BD76E4<br>0=%{x}<br>1=%{y}<br>2=%{z}<extra></extra>",
         "legendgroup": "#BD76E4",
         "marker": {
          "color": "#00cc96",
          "symbol": "circle"
         },
         "mode": "markers",
         "name": "#BD76E4",
         "scene": "scene",
         "showlegend": true,
         "type": "scatter3d",
         "x": [
          -0.2069002240896225
         ],
         "y": [
          0.3308127820491791
         ],
         "z": [
          6.980112075805664
         ]
        },
        {
         "hovertemplate": "hex color=#96A2B5<br>0=%{x}<br>1=%{y}<br>2=%{z}<extra></extra>",
         "legendgroup": "#96A2B5",
         "marker": {
          "color": "#ab63fa",
          "symbol": "circle"
         },
         "mode": "markers",
         "name": "#96A2B5",
         "scene": "scene",
         "showlegend": true,
         "type": "scatter3d",
         "x": [
          1.2701771259307861
         ],
         "y": [
          0.20322155952453613
         ],
         "z": [
          6.512595176696777
         ]
        },
        {
         "hovertemplate": "hex color=#E1B7F2<br>0=%{x}<br>1=%{y}<br>2=%{z}<extra></extra>",
         "legendgroup": "#E1B7F2",
         "marker": {
          "color": "#FFA15A",
          "symbol": "circle"
         },
         "mode": "markers",
         "name": "#E1B7F2",
         "scene": "scene",
         "showlegend": true,
         "type": "scatter3d",
         "x": [
          0.3539113998413086
         ],
         "y": [
          0.0505625419318676
         ],
         "z": [
          6.541895866394043
         ]
        },
        {
         "hovertemplate": "hex color=#A8B6DF<br>0=%{x}<br>1=%{y}<br>2=%{z}<extra></extra>",
         "legendgroup": "#A8B6DF",
         "marker": {
          "color": "#19d3f3",
          "symbol": "circle"
         },
         "mode": "markers",
         "name": "#A8B6DF",
         "scene": "scene",
         "showlegend": true,
         "type": "scatter3d",
         "x": [
          0.2728720009326935
         ],
         "y": [
          0.30027177929878235
         ],
         "z": [
          7.255057334899902
         ]
        },
        {
         "hovertemplate": "hex color=#DE825C<br>0=%{x}<br>1=%{y}<br>2=%{z}<extra></extra>",
         "legendgroup": "#DE825C",
         "marker": {
          "color": "#FF6692",
          "symbol": "circle"
         },
         "mode": "markers",
         "name": "#DE825C",
         "scene": "scene",
         "showlegend": true,
         "type": "scatter3d",
         "x": [
          -0.2766132652759552
         ],
         "y": [
          1.5811693668365479
         ],
         "z": [
          5.50549840927124
         ]
        },
        {
         "hovertemplate": "hex color=#3086B9<br>0=%{x}<br>1=%{y}<br>2=%{z}<extra></extra>",
         "legendgroup": "#3086B9",
         "marker": {
          "color": "#B6E880",
          "symbol": "circle"
         },
         "mode": "markers",
         "name": "#3086B9",
         "scene": "scene",
         "showlegend": true,
         "type": "scatter3d",
         "x": [
          2.52982497215271
         ],
         "y": [
          1.3009752035140991
         ],
         "z": [
          5.307121276855469
         ]
        },
        {
         "hovertemplate": "hex color=#F529AB<br>0=%{x}<br>1=%{y}<br>2=%{z}<extra></extra>",
         "legendgroup": "#F529AB",
         "marker": {
          "color": "#FF97FF",
          "symbol": "circle"
         },
         "mode": "markers",
         "name": "#F529AB",
         "scene": "scene",
         "showlegend": true,
         "type": "scatter3d",
         "x": [
          0.8810913562774658
         ],
         "y": [
          1.9527881145477295
         ],
         "z": [
          6.212589263916016
         ]
        },
        {
         "hovertemplate": "hex color=#54F3EC<br>0=%{x}<br>1=%{y}<br>2=%{z}<extra></extra>",
         "legendgroup": "#54F3EC",
         "marker": {
          "color": "#FECB52",
          "symbol": "circle"
         },
         "mode": "markers",
         "name": "#54F3EC",
         "scene": "scene",
         "showlegend": true,
         "type": "scatter3d",
         "x": [
          1.3158462047576904
         ],
         "y": [
          0.2878139913082123
         ],
         "z": [
          4.7415452003479
         ]
        },
        {
         "hovertemplate": "hex color=#74FAC8<br>0=%{x}<br>1=%{y}<br>2=%{z}<extra></extra>",
         "legendgroup": "#74FAC8",
         "marker": {
          "color": "#636efa",
          "symbol": "circle"
         },
         "mode": "markers",
         "name": "#74FAC8",
         "scene": "scene",
         "showlegend": true,
         "type": "scatter3d",
         "x": [
          1.6172466278076172
         ],
         "y": [
          1.0968763828277588
         ],
         "z": [
          4.9685959815979
         ]
        },
        {
         "hovertemplate": "hex color=#FA839E<br>0=%{x}<br>1=%{y}<br>2=%{z}<extra></extra>",
         "legendgroup": "#FA839E",
         "marker": {
          "color": "#EF553B",
          "symbol": "circle"
         },
         "mode": "markers",
         "name": "#FA839E",
         "scene": "scene",
         "showlegend": true,
         "type": "scatter3d",
         "x": [
          0.6910462975502014
         ],
         "y": [
          1.8575854301452637
         ],
         "z": [
          5.499594688415527
         ]
        },
        {
         "hovertemplate": "hex color=#BA8562<br>0=%{x}<br>1=%{y}<br>2=%{z}<extra></extra>",
         "legendgroup": "#BA8562",
         "marker": {
          "color": "#00cc96",
          "symbol": "circle"
         },
         "mode": "markers",
         "name": "#BA8562",
         "scene": "scene",
         "showlegend": true,
         "type": "scatter3d",
         "x": [
          1.1697063446044922
         ],
         "y": [
          2.0841097831726074
         ],
         "z": [
          6.705180644989014
         ]
        },
        {
         "hovertemplate": "hex color=#F920BE<br>0=%{x}<br>1=%{y}<br>2=%{z}<extra></extra>",
         "legendgroup": "#F920BE",
         "marker": {
          "color": "#ab63fa",
          "symbol": "circle"
         },
         "mode": "markers",
         "name": "#F920BE",
         "scene": "scene",
         "showlegend": true,
         "type": "scatter3d",
         "x": [
          0.37140506505966187
         ],
         "y": [
          1.915994644165039
         ],
         "z": [
          5.950287342071533
         ]
        },
        {
         "hovertemplate": "hex color=#20973F<br>0=%{x}<br>1=%{y}<br>2=%{z}<extra></extra>",
         "legendgroup": "#20973F",
         "marker": {
          "color": "#FFA15A",
          "symbol": "circle"
         },
         "mode": "markers",
         "name": "#20973F",
         "scene": "scene",
         "showlegend": true,
         "type": "scatter3d",
         "x": [
          2.5360426902770996
         ],
         "y": [
          2.0515823364257812
         ],
         "z": [
          5.518477916717529
         ]
        },
        {
         "hovertemplate": "hex color=#DAC279<br>0=%{x}<br>1=%{y}<br>2=%{z}<extra></extra>",
         "legendgroup": "#DAC279",
         "marker": {
          "color": "#19d3f3",
          "symbol": "circle"
         },
         "mode": "markers",
         "name": "#DAC279",
         "scene": "scene",
         "showlegend": true,
         "type": "scatter3d",
         "x": [
          -0.2820155918598175
         ],
         "y": [
          1.971083164215088
         ],
         "z": [
          5.705235958099365
         ]
        },
        {
         "hovertemplate": "hex color=#A97C02<br>0=%{x}<br>1=%{y}<br>2=%{z}<extra></extra>",
         "legendgroup": "#A97C02",
         "marker": {
          "color": "#FF6692",
          "symbol": "circle"
         },
         "mode": "markers",
         "name": "#A97C02",
         "scene": "scene",
         "showlegend": true,
         "type": "scatter3d",
         "x": [
          0.35453668236732483
         ],
         "y": [
          1.2656376361846924
         ],
         "z": [
          7.238509654998779
         ]
        },
        {
         "hovertemplate": "hex color=#69B4F1<br>0=%{x}<br>1=%{y}<br>2=%{z}<extra></extra>",
         "legendgroup": "#69B4F1",
         "marker": {
          "color": "#B6E880",
          "symbol": "circle"
         },
         "mode": "markers",
         "name": "#69B4F1",
         "scene": "scene",
         "showlegend": true,
         "type": "scatter3d",
         "x": [
          0.6082010865211487
         ],
         "y": [
          -0.20602262020111084
         ],
         "z": [
          6.330397129058838
         ]
        },
        {
         "hovertemplate": "hex color=#BF934D<br>0=%{x}<br>1=%{y}<br>2=%{z}<extra></extra>",
         "legendgroup": "#BF934D",
         "marker": {
          "color": "#FF97FF",
          "symbol": "circle"
         },
         "mode": "markers",
         "name": "#BF934D",
         "scene": "scene",
         "showlegend": true,
         "type": "scatter3d",
         "x": [
          1.0871466398239136
         ],
         "y": [
          0.986148476600647
         ],
         "z": [
          5.843599319458008
         ]
        },
        {
         "hovertemplate": "hex color=#15C290<br>0=%{x}<br>1=%{y}<br>2=%{z}<extra></extra>",
         "legendgroup": "#15C290",
         "marker": {
          "color": "#FECB52",
          "symbol": "circle"
         },
         "mode": "markers",
         "name": "#15C290",
         "scene": "scene",
         "showlegend": true,
         "type": "scatter3d",
         "x": [
          2.1147196292877197
         ],
         "y": [
          2.1913435459136963
         ],
         "z": [
          4.351802825927734
         ]
        },
        {
         "hovertemplate": "hex color=#24AD70<br>0=%{x}<br>1=%{y}<br>2=%{z}<extra></extra>",
         "legendgroup": "#24AD70",
         "marker": {
          "color": "#636efa",
          "symbol": "circle"
         },
         "mode": "markers",
         "name": "#24AD70",
         "scene": "scene",
         "showlegend": true,
         "type": "scatter3d",
         "x": [
          0.3520243465900421
         ],
         "y": [
          1.2248902320861816
         ],
         "z": [
          4.251720428466797
         ]
        },
        {
         "hovertemplate": "hex color=#08CE7F<br>0=%{x}<br>1=%{y}<br>2=%{z}<extra></extra>",
         "legendgroup": "#08CE7F",
         "marker": {
          "color": "#EF553B",
          "symbol": "circle"
         },
         "mode": "markers",
         "name": "#08CE7F",
         "scene": "scene",
         "showlegend": true,
         "type": "scatter3d",
         "x": [
          0.8095564842224121
         ],
         "y": [
          1.9667425155639648
         ],
         "z": [
          5.517057418823242
         ]
        },
        {
         "hovertemplate": "hex color=#1698F5<br>0=%{x}<br>1=%{y}<br>2=%{z}<extra></extra>",
         "legendgroup": "#1698F5",
         "marker": {
          "color": "#00cc96",
          "symbol": "circle"
         },
         "mode": "markers",
         "name": "#1698F5",
         "scene": "scene",
         "showlegend": true,
         "type": "scatter3d",
         "x": [
          0.9373642802238464
         ],
         "y": [
          0.408110648393631
         ],
         "z": [
          4.696617126464844
         ]
        },
        {
         "hovertemplate": "hex color=#75B6EF<br>0=%{x}<br>1=%{y}<br>2=%{z}<extra></extra>",
         "legendgroup": "#75B6EF",
         "marker": {
          "color": "#ab63fa",
          "symbol": "circle"
         },
         "mode": "markers",
         "name": "#75B6EF",
         "scene": "scene",
         "showlegend": true,
         "type": "scatter3d",
         "x": [
          0.22473637759685516
         ],
         "y": [
          1.0843119621276855
         ],
         "z": [
          4.433054447174072
         ]
        },
        {
         "hovertemplate": "hex color=#C462BD<br>0=%{x}<br>1=%{y}<br>2=%{z}<extra></extra>",
         "legendgroup": "#C462BD",
         "marker": {
          "color": "#FFA15A",
          "symbol": "circle"
         },
         "mode": "markers",
         "name": "#C462BD",
         "scene": "scene",
         "showlegend": true,
         "type": "scatter3d",
         "x": [
          -0.2218012511730194
         ],
         "y": [
          0.6254327893257141
         ],
         "z": [
          6.128787040710449
         ]
        },
        {
         "hovertemplate": "hex color=#1045EC<br>0=%{x}<br>1=%{y}<br>2=%{z}<extra></extra>",
         "legendgroup": "#1045EC",
         "marker": {
          "color": "#19d3f3",
          "symbol": "circle"
         },
         "mode": "markers",
         "name": "#1045EC",
         "scene": "scene",
         "showlegend": true,
         "type": "scatter3d",
         "x": [
          1.8081735372543335
         ],
         "y": [
          0.9270971417427063
         ],
         "z": [
          4.414558410644531
         ]
        },
        {
         "hovertemplate": "hex color=#891B30<br>0=%{x}<br>1=%{y}<br>2=%{z}<extra></extra>",
         "legendgroup": "#891B30",
         "marker": {
          "color": "#FF6692",
          "symbol": "circle"
         },
         "mode": "markers",
         "name": "#891B30",
         "scene": "scene",
         "showlegend": true,
         "type": "scatter3d",
         "x": [
          2.4741830825805664
         ],
         "y": [
          2.049006700515747
         ],
         "z": [
          4.608608245849609
         ]
        },
        {
         "hovertemplate": "hex color=#752A31<br>0=%{x}<br>1=%{y}<br>2=%{z}<extra></extra>",
         "legendgroup": "#752A31",
         "marker": {
          "color": "#B6E880",
          "symbol": "circle"
         },
         "mode": "markers",
         "name": "#752A31",
         "scene": "scene",
         "showlegend": true,
         "type": "scatter3d",
         "x": [
          2.5970494747161865
         ],
         "y": [
          1.797785997390747
         ],
         "z": [
          4.884319305419922
         ]
        },
        {
         "hovertemplate": "hex color=#83D175<br>0=%{x}<br>1=%{y}<br>2=%{z}<extra></extra>",
         "legendgroup": "#83D175",
         "marker": {
          "color": "#FF97FF",
          "symbol": "circle"
         },
         "mode": "markers",
         "name": "#83D175",
         "scene": "scene",
         "showlegend": true,
         "type": "scatter3d",
         "x": [
          2.1908600330352783
         ],
         "y": [
          1.7569913864135742
         ],
         "z": [
          4.468808650970459
         ]
        },
        {
         "hovertemplate": "hex color=#9B6580<br>0=%{x}<br>1=%{y}<br>2=%{z}<extra></extra>",
         "legendgroup": "#9B6580",
         "marker": {
          "color": "#FECB52",
          "symbol": "circle"
         },
         "mode": "markers",
         "name": "#9B6580",
         "scene": "scene",
         "showlegend": true,
         "type": "scatter3d",
         "x": [
          1.3770774602890015
         ],
         "y": [
          2.1192567348480225
         ],
         "z": [
          4.961142063140869
         ]
        },
        {
         "hovertemplate": "hex color=#5F6AEC<br>0=%{x}<br>1=%{y}<br>2=%{z}<extra></extra>",
         "legendgroup": "#5F6AEC",
         "marker": {
          "color": "#636efa",
          "symbol": "circle"
         },
         "mode": "markers",
         "name": "#5F6AEC",
         "scene": "scene",
         "showlegend": true,
         "type": "scatter3d",
         "x": [
          0.26047927141189575
         ],
         "y": [
          0.44965308904647827
         ],
         "z": [
          4.292508125305176
         ]
        },
        {
         "hovertemplate": "hex color=#38C7FD<br>0=%{x}<br>1=%{y}<br>2=%{z}<extra></extra>",
         "legendgroup": "#38C7FD",
         "marker": {
          "color": "#EF553B",
          "symbol": "circle"
         },
         "mode": "markers",
         "name": "#38C7FD",
         "scene": "scene",
         "showlegend": true,
         "type": "scatter3d",
         "x": [
          1.2280200719833374
         ],
         "y": [
          0.22591367363929749
         ],
         "z": [
          5.402093887329102
         ]
        },
        {
         "hovertemplate": "hex color=#E9D763<br>0=%{x}<br>1=%{y}<br>2=%{z}<extra></extra>",
         "legendgroup": "#E9D763",
         "marker": {
          "color": "#00cc96",
          "symbol": "circle"
         },
         "mode": "markers",
         "name": "#E9D763",
         "scene": "scene",
         "showlegend": true,
         "type": "scatter3d",
         "x": [
          -0.24063259363174438
         ],
         "y": [
          0.9965695738792419
         ],
         "z": [
          6.994540214538574
         ]
        },
        {
         "hovertemplate": "hex color=#7E432F<br>0=%{x}<br>1=%{y}<br>2=%{z}<extra></extra>",
         "legendgroup": "#7E432F",
         "marker": {
          "color": "#ab63fa",
          "symbol": "circle"
         },
         "mode": "markers",
         "name": "#7E432F",
         "scene": "scene",
         "showlegend": true,
         "type": "scatter3d",
         "x": [
          1.3267896175384521
         ],
         "y": [
          1.4471688270568848
         ],
         "z": [
          5.1269330978393555
         ]
        },
        {
         "hovertemplate": "hex color=#72E8C3<br>0=%{x}<br>1=%{y}<br>2=%{z}<extra></extra>",
         "legendgroup": "#72E8C3",
         "marker": {
          "color": "#FFA15A",
          "symbol": "circle"
         },
         "mode": "markers",
         "name": "#72E8C3",
         "scene": "scene",
         "showlegend": true,
         "type": "scatter3d",
         "x": [
          1.7199552059173584
         ],
         "y": [
          0.9905203580856323
         ],
         "z": [
          5.735701560974121
         ]
        },
        {
         "hovertemplate": "hex color=#F84071<br>0=%{x}<br>1=%{y}<br>2=%{z}<extra></extra>",
         "legendgroup": "#F84071",
         "marker": {
          "color": "#19d3f3",
          "symbol": "circle"
         },
         "mode": "markers",
         "name": "#F84071",
         "scene": "scene",
         "showlegend": true,
         "type": "scatter3d",
         "x": [
          0.4967627227306366
         ],
         "y": [
          1.729827642440796
         ],
         "z": [
          6.902585506439209
         ]
        },
        {
         "hovertemplate": "hex color=#C3A5E4<br>0=%{x}<br>1=%{y}<br>2=%{z}<extra></extra>",
         "legendgroup": "#C3A5E4",
         "marker": {
          "color": "#FF6692",
          "symbol": "circle"
         },
         "mode": "markers",
         "name": "#C3A5E4",
         "scene": "scene",
         "showlegend": true,
         "type": "scatter3d",
         "x": [
          -0.26535123586654663
         ],
         "y": [
          0.21715858578681946
         ],
         "z": [
          6.8671650886535645
         ]
        },
        {
         "hovertemplate": "hex color=#3C7654<br>0=%{x}<br>1=%{y}<br>2=%{z}<extra></extra>",
         "legendgroup": "#3C7654",
         "marker": {
          "color": "#B6E880",
          "symbol": "circle"
         },
         "mode": "markers",
         "name": "#3C7654",
         "scene": "scene",
         "showlegend": true,
         "type": "scatter3d",
         "x": [
          1.598879098892212
         ],
         "y": [
          1.5502784252166748
         ],
         "z": [
          5.276307582855225
         ]
        },
        {
         "hovertemplate": "hex color=#C05D28<br>0=%{x}<br>1=%{y}<br>2=%{z}<extra></extra>",
         "legendgroup": "#C05D28",
         "marker": {
          "color": "#FF97FF",
          "symbol": "circle"
         },
         "mode": "markers",
         "name": "#C05D28",
         "scene": "scene",
         "showlegend": true,
         "type": "scatter3d",
         "x": [
          -0.44836947321891785
         ],
         "y": [
          1.0570175647735596
         ],
         "z": [
          6.354242324829102
         ]
        },
        {
         "hovertemplate": "hex color=#267F5C<br>0=%{x}<br>1=%{y}<br>2=%{z}<extra></extra>",
         "legendgroup": "#267F5C",
         "marker": {
          "color": "#FECB52",
          "symbol": "circle"
         },
         "mode": "markers",
         "name": "#267F5C",
         "scene": "scene",
         "showlegend": true,
         "type": "scatter3d",
         "x": [
          0.5301274657249451
         ],
         "y": [
          0.14930011332035065
         ],
         "z": [
          4.626746654510498
         ]
        },
        {
         "hovertemplate": "hex color=#CB1865<br>0=%{x}<br>1=%{y}<br>2=%{z}<extra></extra>",
         "legendgroup": "#CB1865",
         "marker": {
          "color": "#636efa",
          "symbol": "circle"
         },
         "mode": "markers",
         "name": "#CB1865",
         "scene": "scene",
         "showlegend": true,
         "type": "scatter3d",
         "x": [
          0.9327024221420288
         ],
         "y": [
          2.046903371810913
         ],
         "z": [
          4.579095363616943
         ]
        },
        {
         "hovertemplate": "hex color=#CF9514<br>0=%{x}<br>1=%{y}<br>2=%{z}<extra></extra>",
         "legendgroup": "#CF9514",
         "marker": {
          "color": "#EF553B",
          "symbol": "circle"
         },
         "mode": "markers",
         "name": "#CF9514",
         "scene": "scene",
         "showlegend": true,
         "type": "scatter3d",
         "x": [
          1.2325810194015503
         ],
         "y": [
          1.9062578678131104
         ],
         "z": [
          6.2449517250061035
         ]
        },
        {
         "hovertemplate": "hex color=#923E6B<br>0=%{x}<br>1=%{y}<br>2=%{z}<extra></extra>",
         "legendgroup": "#923E6B",
         "marker": {
          "color": "#00cc96",
          "symbol": "circle"
         },
         "mode": "markers",
         "name": "#923E6B",
         "scene": "scene",
         "showlegend": true,
         "type": "scatter3d",
         "x": [
          1.8785346746444702
         ],
         "y": [
          0.5718547701835632
         ],
         "z": [
          6.01521110534668
         ]
        },
        {
         "hovertemplate": "hex color=#42D56C<br>0=%{x}<br>1=%{y}<br>2=%{z}<extra></extra>",
         "legendgroup": "#42D56C",
         "marker": {
          "color": "#ab63fa",
          "symbol": "circle"
         },
         "mode": "markers",
         "name": "#42D56C",
         "scene": "scene",
         "showlegend": true,
         "type": "scatter3d",
         "x": [
          1.7945259809494019
         ],
         "y": [
          0.43555113673210144
         ],
         "z": [
          5.674437522888184
         ]
        },
        {
         "hovertemplate": "hex color=#76F2BD<br>0=%{x}<br>1=%{y}<br>2=%{z}<extra></extra>",
         "legendgroup": "#76F2BD",
         "marker": {
          "color": "#FFA15A",
          "symbol": "circle"
         },
         "mode": "markers",
         "name": "#76F2BD",
         "scene": "scene",
         "showlegend": true,
         "type": "scatter3d",
         "x": [
          0.7851632237434387
         ],
         "y": [
          -0.042825594544410706
         ],
         "z": [
          5.832571506500244
         ]
        },
        {
         "hovertemplate": "hex color=#E7029A<br>0=%{x}<br>1=%{y}<br>2=%{z}<extra></extra>",
         "legendgroup": "#E7029A",
         "marker": {
          "color": "#19d3f3",
          "symbol": "circle"
         },
         "mode": "markers",
         "name": "#E7029A",
         "scene": "scene",
         "showlegend": true,
         "type": "scatter3d",
         "x": [
          0.6848127841949463
         ],
         "y": [
          2.191152334213257
         ],
         "z": [
          6.9260149002075195
         ]
        },
        {
         "hovertemplate": "hex color=#8F49C3<br>0=%{x}<br>1=%{y}<br>2=%{z}<extra></extra>",
         "legendgroup": "#8F49C3",
         "marker": {
          "color": "#FF6692",
          "symbol": "circle"
         },
         "mode": "markers",
         "name": "#8F49C3",
         "scene": "scene",
         "showlegend": true,
         "type": "scatter3d",
         "x": [
          0.9476204514503479
         ],
         "y": [
          0.5153356790542603
         ],
         "z": [
          5.278294086456299
         ]
        },
        {
         "hovertemplate": "hex color=#A6D253<br>0=%{x}<br>1=%{y}<br>2=%{z}<extra></extra>",
         "legendgroup": "#A6D253",
         "marker": {
          "color": "#B6E880",
          "symbol": "circle"
         },
         "mode": "markers",
         "name": "#A6D253",
         "scene": "scene",
         "showlegend": true,
         "type": "scatter3d",
         "x": [
          0.06395956128835678
         ],
         "y": [
          0.8730480670928955
         ],
         "z": [
          7.256716728210449
         ]
        },
        {
         "hovertemplate": "hex color=#1F0B82<br>0=%{x}<br>1=%{y}<br>2=%{z}<extra></extra>",
         "legendgroup": "#1F0B82",
         "marker": {
          "color": "#FF97FF",
          "symbol": "circle"
         },
         "mode": "markers",
         "name": "#1F0B82",
         "scene": "scene",
         "showlegend": true,
         "type": "scatter3d",
         "x": [
          0.5718994140625
         ],
         "y": [
          0.07298914343118668
         ],
         "z": [
          6.521490097045898
         ]
        },
        {
         "hovertemplate": "hex color=#1AC9B3<br>0=%{x}<br>1=%{y}<br>2=%{z}<extra></extra>",
         "legendgroup": "#1AC9B3",
         "marker": {
          "color": "#FECB52",
          "symbol": "circle"
         },
         "mode": "markers",
         "name": "#1AC9B3",
         "scene": "scene",
         "showlegend": true,
         "type": "scatter3d",
         "x": [
          0.9058553576469421
         ],
         "y": [
          -0.16569006443023682
         ],
         "z": [
          6.6713666915893555
         ]
        }
       ],
       "layout": {
        "legend": {
         "title": {
          "text": "hex color"
         },
         "tracegroupgap": 0
        },
        "scene": {
         "domain": {
          "x": [
           0,
           1
          ],
          "y": [
           0,
           1
          ]
         },
         "xaxis": {
          "title": {
           "text": "0"
          }
         },
         "yaxis": {
          "title": {
           "text": "1"
          }
         },
         "zaxis": {
          "title": {
           "text": "2"
          }
         }
        },
        "showlegend": false,
        "template": {
         "data": {
          "bar": [
           {
            "error_x": {
             "color": "#2a3f5f"
            },
            "error_y": {
             "color": "#2a3f5f"
            },
            "marker": {
             "line": {
              "color": "#E5ECF6",
              "width": 0.5
             },
             "pattern": {
              "fillmode": "overlay",
              "size": 10,
              "solidity": 0.2
             }
            },
            "type": "bar"
           }
          ],
          "barpolar": [
           {
            "marker": {
             "line": {
              "color": "#E5ECF6",
              "width": 0.5
             },
             "pattern": {
              "fillmode": "overlay",
              "size": 10,
              "solidity": 0.2
             }
            },
            "type": "barpolar"
           }
          ],
          "carpet": [
           {
            "aaxis": {
             "endlinecolor": "#2a3f5f",
             "gridcolor": "white",
             "linecolor": "white",
             "minorgridcolor": "white",
             "startlinecolor": "#2a3f5f"
            },
            "baxis": {
             "endlinecolor": "#2a3f5f",
             "gridcolor": "white",
             "linecolor": "white",
             "minorgridcolor": "white",
             "startlinecolor": "#2a3f5f"
            },
            "type": "carpet"
           }
          ],
          "choropleth": [
           {
            "colorbar": {
             "outlinewidth": 0,
             "ticks": ""
            },
            "type": "choropleth"
           }
          ],
          "contour": [
           {
            "colorbar": {
             "outlinewidth": 0,
             "ticks": ""
            },
            "colorscale": [
             [
              0,
              "#0d0887"
             ],
             [
              0.1111111111111111,
              "#46039f"
             ],
             [
              0.2222222222222222,
              "#7201a8"
             ],
             [
              0.3333333333333333,
              "#9c179e"
             ],
             [
              0.4444444444444444,
              "#bd3786"
             ],
             [
              0.5555555555555556,
              "#d8576b"
             ],
             [
              0.6666666666666666,
              "#ed7953"
             ],
             [
              0.7777777777777778,
              "#fb9f3a"
             ],
             [
              0.8888888888888888,
              "#fdca26"
             ],
             [
              1,
              "#f0f921"
             ]
            ],
            "type": "contour"
           }
          ],
          "contourcarpet": [
           {
            "colorbar": {
             "outlinewidth": 0,
             "ticks": ""
            },
            "type": "contourcarpet"
           }
          ],
          "heatmap": [
           {
            "colorbar": {
             "outlinewidth": 0,
             "ticks": ""
            },
            "colorscale": [
             [
              0,
              "#0d0887"
             ],
             [
              0.1111111111111111,
              "#46039f"
             ],
             [
              0.2222222222222222,
              "#7201a8"
             ],
             [
              0.3333333333333333,
              "#9c179e"
             ],
             [
              0.4444444444444444,
              "#bd3786"
             ],
             [
              0.5555555555555556,
              "#d8576b"
             ],
             [
              0.6666666666666666,
              "#ed7953"
             ],
             [
              0.7777777777777778,
              "#fb9f3a"
             ],
             [
              0.8888888888888888,
              "#fdca26"
             ],
             [
              1,
              "#f0f921"
             ]
            ],
            "type": "heatmap"
           }
          ],
          "heatmapgl": [
           {
            "colorbar": {
             "outlinewidth": 0,
             "ticks": ""
            },
            "colorscale": [
             [
              0,
              "#0d0887"
             ],
             [
              0.1111111111111111,
              "#46039f"
             ],
             [
              0.2222222222222222,
              "#7201a8"
             ],
             [
              0.3333333333333333,
              "#9c179e"
             ],
             [
              0.4444444444444444,
              "#bd3786"
             ],
             [
              0.5555555555555556,
              "#d8576b"
             ],
             [
              0.6666666666666666,
              "#ed7953"
             ],
             [
              0.7777777777777778,
              "#fb9f3a"
             ],
             [
              0.8888888888888888,
              "#fdca26"
             ],
             [
              1,
              "#f0f921"
             ]
            ],
            "type": "heatmapgl"
           }
          ],
          "histogram": [
           {
            "marker": {
             "pattern": {
              "fillmode": "overlay",
              "size": 10,
              "solidity": 0.2
             }
            },
            "type": "histogram"
           }
          ],
          "histogram2d": [
           {
            "colorbar": {
             "outlinewidth": 0,
             "ticks": ""
            },
            "colorscale": [
             [
              0,
              "#0d0887"
             ],
             [
              0.1111111111111111,
              "#46039f"
             ],
             [
              0.2222222222222222,
              "#7201a8"
             ],
             [
              0.3333333333333333,
              "#9c179e"
             ],
             [
              0.4444444444444444,
              "#bd3786"
             ],
             [
              0.5555555555555556,
              "#d8576b"
             ],
             [
              0.6666666666666666,
              "#ed7953"
             ],
             [
              0.7777777777777778,
              "#fb9f3a"
             ],
             [
              0.8888888888888888,
              "#fdca26"
             ],
             [
              1,
              "#f0f921"
             ]
            ],
            "type": "histogram2d"
           }
          ],
          "histogram2dcontour": [
           {
            "colorbar": {
             "outlinewidth": 0,
             "ticks": ""
            },
            "colorscale": [
             [
              0,
              "#0d0887"
             ],
             [
              0.1111111111111111,
              "#46039f"
             ],
             [
              0.2222222222222222,
              "#7201a8"
             ],
             [
              0.3333333333333333,
              "#9c179e"
             ],
             [
              0.4444444444444444,
              "#bd3786"
             ],
             [
              0.5555555555555556,
              "#d8576b"
             ],
             [
              0.6666666666666666,
              "#ed7953"
             ],
             [
              0.7777777777777778,
              "#fb9f3a"
             ],
             [
              0.8888888888888888,
              "#fdca26"
             ],
             [
              1,
              "#f0f921"
             ]
            ],
            "type": "histogram2dcontour"
           }
          ],
          "mesh3d": [
           {
            "colorbar": {
             "outlinewidth": 0,
             "ticks": ""
            },
            "type": "mesh3d"
           }
          ],
          "parcoords": [
           {
            "line": {
             "colorbar": {
              "outlinewidth": 0,
              "ticks": ""
             }
            },
            "type": "parcoords"
           }
          ],
          "pie": [
           {
            "automargin": true,
            "type": "pie"
           }
          ],
          "scatter": [
           {
            "fillpattern": {
             "fillmode": "overlay",
             "size": 10,
             "solidity": 0.2
            },
            "type": "scatter"
           }
          ],
          "scatter3d": [
           {
            "line": {
             "colorbar": {
              "outlinewidth": 0,
              "ticks": ""
             }
            },
            "marker": {
             "colorbar": {
              "outlinewidth": 0,
              "ticks": ""
             }
            },
            "type": "scatter3d"
           }
          ],
          "scattercarpet": [
           {
            "marker": {
             "colorbar": {
              "outlinewidth": 0,
              "ticks": ""
             }
            },
            "type": "scattercarpet"
           }
          ],
          "scattergeo": [
           {
            "marker": {
             "colorbar": {
              "outlinewidth": 0,
              "ticks": ""
             }
            },
            "type": "scattergeo"
           }
          ],
          "scattergl": [
           {
            "marker": {
             "colorbar": {
              "outlinewidth": 0,
              "ticks": ""
             }
            },
            "type": "scattergl"
           }
          ],
          "scattermapbox": [
           {
            "marker": {
             "colorbar": {
              "outlinewidth": 0,
              "ticks": ""
             }
            },
            "type": "scattermapbox"
           }
          ],
          "scatterpolar": [
           {
            "marker": {
             "colorbar": {
              "outlinewidth": 0,
              "ticks": ""
             }
            },
            "type": "scatterpolar"
           }
          ],
          "scatterpolargl": [
           {
            "marker": {
             "colorbar": {
              "outlinewidth": 0,
              "ticks": ""
             }
            },
            "type": "scatterpolargl"
           }
          ],
          "scatterternary": [
           {
            "marker": {
             "colorbar": {
              "outlinewidth": 0,
              "ticks": ""
             }
            },
            "type": "scatterternary"
           }
          ],
          "surface": [
           {
            "colorbar": {
             "outlinewidth": 0,
             "ticks": ""
            },
            "colorscale": [
             [
              0,
              "#0d0887"
             ],
             [
              0.1111111111111111,
              "#46039f"
             ],
             [
              0.2222222222222222,
              "#7201a8"
             ],
             [
              0.3333333333333333,
              "#9c179e"
             ],
             [
              0.4444444444444444,
              "#bd3786"
             ],
             [
              0.5555555555555556,
              "#d8576b"
             ],
             [
              0.6666666666666666,
              "#ed7953"
             ],
             [
              0.7777777777777778,
              "#fb9f3a"
             ],
             [
              0.8888888888888888,
              "#fdca26"
             ],
             [
              1,
              "#f0f921"
             ]
            ],
            "type": "surface"
           }
          ],
          "table": [
           {
            "cells": {
             "fill": {
              "color": "#EBF0F8"
             },
             "line": {
              "color": "white"
             }
            },
            "header": {
             "fill": {
              "color": "#C8D4E3"
             },
             "line": {
              "color": "white"
             }
            },
            "type": "table"
           }
          ]
         },
         "layout": {
          "annotationdefaults": {
           "arrowcolor": "#2a3f5f",
           "arrowhead": 0,
           "arrowwidth": 1
          },
          "autotypenumbers": "strict",
          "coloraxis": {
           "colorbar": {
            "outlinewidth": 0,
            "ticks": ""
           }
          },
          "colorscale": {
           "diverging": [
            [
             0,
             "#8e0152"
            ],
            [
             0.1,
             "#c51b7d"
            ],
            [
             0.2,
             "#de77ae"
            ],
            [
             0.3,
             "#f1b6da"
            ],
            [
             0.4,
             "#fde0ef"
            ],
            [
             0.5,
             "#f7f7f7"
            ],
            [
             0.6,
             "#e6f5d0"
            ],
            [
             0.7,
             "#b8e186"
            ],
            [
             0.8,
             "#7fbc41"
            ],
            [
             0.9,
             "#4d9221"
            ],
            [
             1,
             "#276419"
            ]
           ],
           "sequential": [
            [
             0,
             "#0d0887"
            ],
            [
             0.1111111111111111,
             "#46039f"
            ],
            [
             0.2222222222222222,
             "#7201a8"
            ],
            [
             0.3333333333333333,
             "#9c179e"
            ],
            [
             0.4444444444444444,
             "#bd3786"
            ],
            [
             0.5555555555555556,
             "#d8576b"
            ],
            [
             0.6666666666666666,
             "#ed7953"
            ],
            [
             0.7777777777777778,
             "#fb9f3a"
            ],
            [
             0.8888888888888888,
             "#fdca26"
            ],
            [
             1,
             "#f0f921"
            ]
           ],
           "sequentialminus": [
            [
             0,
             "#0d0887"
            ],
            [
             0.1111111111111111,
             "#46039f"
            ],
            [
             0.2222222222222222,
             "#7201a8"
            ],
            [
             0.3333333333333333,
             "#9c179e"
            ],
            [
             0.4444444444444444,
             "#bd3786"
            ],
            [
             0.5555555555555556,
             "#d8576b"
            ],
            [
             0.6666666666666666,
             "#ed7953"
            ],
            [
             0.7777777777777778,
             "#fb9f3a"
            ],
            [
             0.8888888888888888,
             "#fdca26"
            ],
            [
             1,
             "#f0f921"
            ]
           ]
          },
          "colorway": [
           "#636efa",
           "#EF553B",
           "#00cc96",
           "#ab63fa",
           "#FFA15A",
           "#19d3f3",
           "#FF6692",
           "#B6E880",
           "#FF97FF",
           "#FECB52"
          ],
          "font": {
           "color": "#2a3f5f"
          },
          "geo": {
           "bgcolor": "white",
           "lakecolor": "white",
           "landcolor": "#E5ECF6",
           "showlakes": true,
           "showland": true,
           "subunitcolor": "white"
          },
          "hoverlabel": {
           "align": "left"
          },
          "hovermode": "closest",
          "mapbox": {
           "style": "light"
          },
          "paper_bgcolor": "white",
          "plot_bgcolor": "#E5ECF6",
          "polar": {
           "angularaxis": {
            "gridcolor": "white",
            "linecolor": "white",
            "ticks": ""
           },
           "bgcolor": "#E5ECF6",
           "radialaxis": {
            "gridcolor": "white",
            "linecolor": "white",
            "ticks": ""
           }
          },
          "scene": {
           "xaxis": {
            "backgroundcolor": "#E5ECF6",
            "gridcolor": "white",
            "gridwidth": 2,
            "linecolor": "white",
            "showbackground": true,
            "ticks": "",
            "zerolinecolor": "white"
           },
           "yaxis": {
            "backgroundcolor": "#E5ECF6",
            "gridcolor": "white",
            "gridwidth": 2,
            "linecolor": "white",
            "showbackground": true,
            "ticks": "",
            "zerolinecolor": "white"
           },
           "zaxis": {
            "backgroundcolor": "#E5ECF6",
            "gridcolor": "white",
            "gridwidth": 2,
            "linecolor": "white",
            "showbackground": true,
            "ticks": "",
            "zerolinecolor": "white"
           }
          },
          "shapedefaults": {
           "line": {
            "color": "#2a3f5f"
           }
          },
          "ternary": {
           "aaxis": {
            "gridcolor": "white",
            "linecolor": "white",
            "ticks": ""
           },
           "baxis": {
            "gridcolor": "white",
            "linecolor": "white",
            "ticks": ""
           },
           "bgcolor": "#E5ECF6",
           "caxis": {
            "gridcolor": "white",
            "linecolor": "white",
            "ticks": ""
           }
          },
          "title": {
           "x": 0.05
          },
          "xaxis": {
           "automargin": true,
           "gridcolor": "white",
           "linecolor": "white",
           "ticks": "",
           "title": {
            "standoff": 15
           },
           "zerolinecolor": "white",
           "zerolinewidth": 2
          },
          "yaxis": {
           "automargin": true,
           "gridcolor": "white",
           "linecolor": "white",
           "ticks": "",
           "title": {
            "standoff": 15
           },
           "zerolinecolor": "white",
           "zerolinewidth": 2
          }
         }
        },
        "title": {
         "text": "UMAP of DistilBERT embeddings of hex colors"
        }
       }
      }
     },
     "metadata": {},
     "output_type": "display_data"
    }
   ],
   "source": [
    "# try umap in 3d\n",
    "reducer3d = umap.UMAP(n_components=3)\n",
    "hex_umap3d = reducer3d.fit_transform(hex_embeddings)\n",
    "\n",
    "# plot umap results with plotly\n",
    "fig = px.scatter_3d(\n",
    "    hex_umap3d, x=0, y=1, z=2, color=hex_colors,\n",
    "    labels={'color': 'hex color'},\n",
    "    title='UMAP of DistilBERT embeddings of hex colors'\n",
    ")\n",
    "\n",
    "# hide legend\n",
    "fig.update_layout(showlegend=False)\n",
    "fig.show()"
   ]
  },
  {
   "cell_type": "markdown",
   "metadata": {},
   "source": [
    "## rgb colors"
   ]
  },
  {
   "cell_type": "code",
   "execution_count": 13,
   "metadata": {},
   "outputs": [],
   "source": [
    "rgb_colors = [\n",
    "    'rgb(188,103,238)', 'rgb(97,81,54)', 'rgb(252,15,162)', 'rgb(84,85,58)', 'rgb(14,216,69)', \n",
    "    'rgb(130,60,47)', 'rgb(176,71,183)', 'rgb(254,115,20)', 'rgb(98,64,237)', 'rgb(40,156,255)', \n",
    "    'rgb(126,203,31)', 'rgb(121,30,28)', 'rgb(240,33,189)', 'rgb(150,8,42)', 'rgb(47,160,19)', \n",
    "    'rgb(251,42,60)', 'rgb(192,90,121)', 'rgb(55,109,123)', 'rgb(87,210,111)', 'rgb(142,245,129)', \n",
    "    'rgb(186,165,150)', 'rgb(249,160,157)', 'rgb(209,241,224)', 'rgb(21,137,107)', 'rgb(33,189,179)', \n",
    "    'rgb(101,235,204)', 'rgb(177,113,97)', 'rgb(0,202,112)', 'rgb(60,139,204)', 'rgb(201,172,176)', \n",
    "    'rgb(192,192,156)', 'rgb(244,168,222)', 'rgb(200,213,123)', 'rgb(192,37,81)', 'rgb(234,240,134)', \n",
    "    'rgb(223,133,22)', 'rgb(141,4,108)', 'rgb(131,213,43)', 'rgb(68,62,57)', 'rgb(108,67,56)', \n",
    "    'rgb(16,96,145)', 'rgb(149,121,63)', 'rgb(111,238,142)', 'rgb(76,33,241)', 'rgb(169,100,217)', \n",
    "    'rgb(38,33,179)', 'rgb(240,131,30)', 'rgb(219,104,187)', 'rgb(229,197,107)', 'rgb(107,42,232)', \n",
    "    'rgb(134,85,163)', 'rgb(196,162,157)', 'rgb(171,62,119)', 'rgb(110,50,193)', 'rgb(165,241,54)', \n",
    "    'rgb(121,210,47)', 'rgb(153,76,23)', 'rgb(93,131,47)', 'rgb(67,27,213)', 'rgb(194,67,93)', \n",
    "    'rgb(232,97,13)', 'rgb(60,113,122)', 'rgb(88,112,214)', 'rgb(54,193,89)', 'rgb(135,50,51)', \n",
    "    'rgb(86,42,236)', 'rgb(182,76,18)', 'rgb(1,142,71)', 'rgb(188,64,197)', 'rgb(80,78,33)', \n",
    "    'rgb(132,59,110)', 'rgb(140,197,241)', 'rgb(30,14,77)', 'rgb(148,98,34)', 'rgb(194,75,211)', \n",
    "    'rgb(11,74,194)', 'rgb(141,72,201)', 'rgb(14,153,214)', 'rgb(100,153,76)', 'rgb(98,220,10)', \n",
    "    'rgb(174,242,82)', 'rgb(164,206,205)', 'rgb(146,59,190)', 'rgb(166,95,171)', 'rgb(46,81,210)', \n",
    "    'rgb(52,132,191)', 'rgb(203,152,93)', 'rgb(79,255,95)', 'rgb(190,105,145)', 'rgb(196,244,215)', \n",
    "    'rgb(21,28,245)', 'rgb(177,79,212)', 'rgb(160,67,120)', 'rgb(237,101,163)', 'rgb(133,22,133)', \n",
    "    'rgb(70,144,59)', 'rgb(217,230,170)', 'rgb(86,155,9)', 'rgb(222,101,185)', 'rgb(16,75,0)'\n",
    "]\n"
   ]
  },
  {
   "cell_type": "code",
   "execution_count": 14,
   "metadata": {},
   "outputs": [
    {
     "data": {
      "text/plain": [
       "100"
      ]
     },
     "execution_count": 14,
     "metadata": {},
     "output_type": "execute_result"
    }
   ],
   "source": [
    "# sanity check\n",
    "len(rgb_colors)"
   ]
  },
  {
   "cell_type": "code",
   "execution_count": 15,
   "metadata": {},
   "outputs": [
    {
     "data": {
      "text/html": [
       "<div>\n",
       "<style scoped>\n",
       "    .dataframe tbody tr th:only-of-type {\n",
       "        vertical-align: middle;\n",
       "    }\n",
       "\n",
       "    .dataframe tbody tr th {\n",
       "        vertical-align: top;\n",
       "    }\n",
       "\n",
       "    .dataframe thead th {\n",
       "        text-align: right;\n",
       "    }\n",
       "</style>\n",
       "<table border=\"1\" class=\"dataframe\">\n",
       "  <thead>\n",
       "    <tr style=\"text-align: right;\">\n",
       "      <th></th>\n",
       "      <th>word</th>\n",
       "      <th>0</th>\n",
       "      <th>1</th>\n",
       "      <th>2</th>\n",
       "      <th>3</th>\n",
       "      <th>4</th>\n",
       "      <th>5</th>\n",
       "      <th>6</th>\n",
       "      <th>7</th>\n",
       "      <th>8</th>\n",
       "      <th>...</th>\n",
       "      <th>758</th>\n",
       "      <th>759</th>\n",
       "      <th>760</th>\n",
       "      <th>761</th>\n",
       "      <th>762</th>\n",
       "      <th>763</th>\n",
       "      <th>764</th>\n",
       "      <th>765</th>\n",
       "      <th>766</th>\n",
       "      <th>767</th>\n",
       "    </tr>\n",
       "  </thead>\n",
       "  <tbody>\n",
       "    <tr>\n",
       "      <th>0</th>\n",
       "      <td>rgb(188,103,238)</td>\n",
       "      <td>0.017656</td>\n",
       "      <td>0.112886</td>\n",
       "      <td>0.390108</td>\n",
       "      <td>-0.018283</td>\n",
       "      <td>0.078841</td>\n",
       "      <td>0.201212</td>\n",
       "      <td>-0.062687</td>\n",
       "      <td>0.198341</td>\n",
       "      <td>-0.179660</td>\n",
       "      <td>...</td>\n",
       "      <td>0.133042</td>\n",
       "      <td>0.355880</td>\n",
       "      <td>-0.188991</td>\n",
       "      <td>-0.060454</td>\n",
       "      <td>0.260127</td>\n",
       "      <td>-0.252567</td>\n",
       "      <td>-0.134221</td>\n",
       "      <td>-0.095889</td>\n",
       "      <td>0.175725</td>\n",
       "      <td>-0.084634</td>\n",
       "    </tr>\n",
       "    <tr>\n",
       "      <th>1</th>\n",
       "      <td>rgb(97,81,54)</td>\n",
       "      <td>-0.217185</td>\n",
       "      <td>-0.068490</td>\n",
       "      <td>0.559675</td>\n",
       "      <td>-0.071991</td>\n",
       "      <td>-0.000890</td>\n",
       "      <td>0.244733</td>\n",
       "      <td>0.017081</td>\n",
       "      <td>0.259954</td>\n",
       "      <td>-0.209885</td>\n",
       "      <td>...</td>\n",
       "      <td>0.198512</td>\n",
       "      <td>0.321227</td>\n",
       "      <td>-0.090673</td>\n",
       "      <td>-0.128226</td>\n",
       "      <td>0.271363</td>\n",
       "      <td>-0.162526</td>\n",
       "      <td>-0.032537</td>\n",
       "      <td>-0.093063</td>\n",
       "      <td>0.183469</td>\n",
       "      <td>-0.133734</td>\n",
       "    </tr>\n",
       "    <tr>\n",
       "      <th>2</th>\n",
       "      <td>rgb(252,15,162)</td>\n",
       "      <td>-0.106713</td>\n",
       "      <td>0.112892</td>\n",
       "      <td>0.445009</td>\n",
       "      <td>-0.077836</td>\n",
       "      <td>0.081173</td>\n",
       "      <td>0.386877</td>\n",
       "      <td>-0.058155</td>\n",
       "      <td>0.245033</td>\n",
       "      <td>-0.228639</td>\n",
       "      <td>...</td>\n",
       "      <td>0.216179</td>\n",
       "      <td>0.278108</td>\n",
       "      <td>-0.100687</td>\n",
       "      <td>-0.120121</td>\n",
       "      <td>0.237165</td>\n",
       "      <td>-0.257660</td>\n",
       "      <td>-0.047887</td>\n",
       "      <td>-0.116470</td>\n",
       "      <td>0.206646</td>\n",
       "      <td>-0.087084</td>\n",
       "    </tr>\n",
       "    <tr>\n",
       "      <th>3</th>\n",
       "      <td>rgb(84,85,58)</td>\n",
       "      <td>-0.180302</td>\n",
       "      <td>0.150298</td>\n",
       "      <td>0.599966</td>\n",
       "      <td>-0.175220</td>\n",
       "      <td>-0.031473</td>\n",
       "      <td>0.286632</td>\n",
       "      <td>-0.044158</td>\n",
       "      <td>0.219023</td>\n",
       "      <td>-0.365295</td>\n",
       "      <td>...</td>\n",
       "      <td>0.228512</td>\n",
       "      <td>0.301177</td>\n",
       "      <td>-0.186266</td>\n",
       "      <td>-0.055869</td>\n",
       "      <td>0.242304</td>\n",
       "      <td>-0.216334</td>\n",
       "      <td>-0.072357</td>\n",
       "      <td>-0.140031</td>\n",
       "      <td>0.052190</td>\n",
       "      <td>-0.108971</td>\n",
       "    </tr>\n",
       "    <tr>\n",
       "      <th>4</th>\n",
       "      <td>rgb(14,216,69)</td>\n",
       "      <td>-0.035112</td>\n",
       "      <td>0.014865</td>\n",
       "      <td>0.461914</td>\n",
       "      <td>-0.055620</td>\n",
       "      <td>-0.018628</td>\n",
       "      <td>0.404290</td>\n",
       "      <td>-0.017759</td>\n",
       "      <td>0.323656</td>\n",
       "      <td>-0.300444</td>\n",
       "      <td>...</td>\n",
       "      <td>0.171201</td>\n",
       "      <td>0.350442</td>\n",
       "      <td>-0.094125</td>\n",
       "      <td>-0.147213</td>\n",
       "      <td>0.333543</td>\n",
       "      <td>-0.221303</td>\n",
       "      <td>-0.059972</td>\n",
       "      <td>-0.077612</td>\n",
       "      <td>0.239908</td>\n",
       "      <td>-0.002455</td>\n",
       "    </tr>\n",
       "  </tbody>\n",
       "</table>\n",
       "<p>5 rows × 769 columns</p>\n",
       "</div>"
      ],
      "text/plain": [
       "               word         0         1         2         3         4  \\\n",
       "0  rgb(188,103,238)  0.017656  0.112886  0.390108 -0.018283  0.078841   \n",
       "1     rgb(97,81,54) -0.217185 -0.068490  0.559675 -0.071991 -0.000890   \n",
       "2   rgb(252,15,162) -0.106713  0.112892  0.445009 -0.077836  0.081173   \n",
       "3     rgb(84,85,58) -0.180302  0.150298  0.599966 -0.175220 -0.031473   \n",
       "4    rgb(14,216,69) -0.035112  0.014865  0.461914 -0.055620 -0.018628   \n",
       "\n",
       "          5         6         7         8  ...       758       759       760  \\\n",
       "0  0.201212 -0.062687  0.198341 -0.179660  ...  0.133042  0.355880 -0.188991   \n",
       "1  0.244733  0.017081  0.259954 -0.209885  ...  0.198512  0.321227 -0.090673   \n",
       "2  0.386877 -0.058155  0.245033 -0.228639  ...  0.216179  0.278108 -0.100687   \n",
       "3  0.286632 -0.044158  0.219023 -0.365295  ...  0.228512  0.301177 -0.186266   \n",
       "4  0.404290 -0.017759  0.323656 -0.300444  ...  0.171201  0.350442 -0.094125   \n",
       "\n",
       "        761       762       763       764       765       766       767  \n",
       "0 -0.060454  0.260127 -0.252567 -0.134221 -0.095889  0.175725 -0.084634  \n",
       "1 -0.128226  0.271363 -0.162526 -0.032537 -0.093063  0.183469 -0.133734  \n",
       "2 -0.120121  0.237165 -0.257660 -0.047887 -0.116470  0.206646 -0.087084  \n",
       "3 -0.055869  0.242304 -0.216334 -0.072357 -0.140031  0.052190 -0.108971  \n",
       "4 -0.147213  0.333543 -0.221303 -0.059972 -0.077612  0.239908 -0.002455  \n",
       "\n",
       "[5 rows x 769 columns]"
      ]
     },
     "execution_count": 15,
     "metadata": {},
     "output_type": "execute_result"
    }
   ],
   "source": [
    "rgb_embeddings = get_embeddings(tokenizer, model, rgb_colors)\n",
    "rgb_df = process_embeddings(rgb_colors, rgb_embeddings)\n",
    "\n",
    "# sanity check\n",
    "rgb_df.head()"
   ]
  },
  {
   "cell_type": "code",
   "execution_count": 16,
   "metadata": {},
   "outputs": [],
   "source": [
    "# perform rgb of hex colors (2d)\n",
    "pca = PCA(n_components=2)\n",
    "rgb_pca = pca.fit_transform(rgb_embeddings)\n",
    "\n",
    "# perform pca of rgb colors (3d)\n",
    "pca3d = PCA(n_components=3)\n",
    "rgb_pca3d = pca3d.fit_transform(rgb_embeddings)\n"
   ]
  },
  {
   "cell_type": "code",
   "execution_count": 17,
   "metadata": {},
   "outputs": [
    {
     "data": {
      "application/vnd.plotly.v1+json": {
       "config": {
        "plotlyServerURL": "https://plot.ly"
       },
       "data": [
        {
         "hovertemplate": "rgb color=rgb(188,103,238)<br>0=%{x}<br>1=%{y}<extra></extra>",
         "legendgroup": "rgb(188,103,238)",
         "marker": {
          "color": "#636efa",
          "symbol": "circle"
         },
         "mode": "markers",
         "name": "rgb(188,103,238)",
         "orientation": "v",
         "showlegend": true,
         "type": "scatter",
         "x": [
          -0.5679756568651595
         ],
         "xaxis": "x",
         "y": [
          -0.47602445636599683
         ],
         "yaxis": "y"
        },
        {
         "hovertemplate": "rgb color=rgb(97,81,54)<br>0=%{x}<br>1=%{y}<extra></extra>",
         "legendgroup": "rgb(97,81,54)",
         "marker": {
          "color": "#EF553B",
          "symbol": "circle"
         },
         "mode": "markers",
         "name": "rgb(97,81,54)",
         "orientation": "v",
         "showlegend": true,
         "type": "scatter",
         "x": [
          0.3899957484340724
         ],
         "xaxis": "x",
         "y": [
          1.1305419536086236
         ],
         "yaxis": "y"
        },
        {
         "hovertemplate": "rgb color=rgb(252,15,162)<br>0=%{x}<br>1=%{y}<extra></extra>",
         "legendgroup": "rgb(252,15,162)",
         "marker": {
          "color": "#00cc96",
          "symbol": "circle"
         },
         "mode": "markers",
         "name": "rgb(252,15,162)",
         "orientation": "v",
         "showlegend": true,
         "type": "scatter",
         "x": [
          -0.1699100171736119
         ],
         "xaxis": "x",
         "y": [
          -0.5508325062096473
         ],
         "yaxis": "y"
        },
        {
         "hovertemplate": "rgb color=rgb(84,85,58)<br>0=%{x}<br>1=%{y}<extra></extra>",
         "legendgroup": "rgb(84,85,58)",
         "marker": {
          "color": "#ab63fa",
          "symbol": "circle"
         },
         "mode": "markers",
         "name": "rgb(84,85,58)",
         "orientation": "v",
         "showlegend": true,
         "type": "scatter",
         "x": [
          0.8943557866789598
         ],
         "xaxis": "x",
         "y": [
          1.4590428906215578
         ],
         "yaxis": "y"
        },
        {
         "hovertemplate": "rgb color=rgb(14,216,69)<br>0=%{x}<br>1=%{y}<extra></extra>",
         "legendgroup": "rgb(14,216,69)",
         "marker": {
          "color": "#FFA15A",
          "symbol": "circle"
         },
         "mode": "markers",
         "name": "rgb(14,216,69)",
         "orientation": "v",
         "showlegend": true,
         "type": "scatter",
         "x": [
          -0.47725882843596756
         ],
         "xaxis": "x",
         "y": [
          0.5771063024318819
         ],
         "yaxis": "y"
        },
        {
         "hovertemplate": "rgb color=rgb(130,60,47)<br>0=%{x}<br>1=%{y}<extra></extra>",
         "legendgroup": "rgb(130,60,47)",
         "marker": {
          "color": "#19d3f3",
          "symbol": "circle"
         },
         "mode": "markers",
         "name": "rgb(130,60,47)",
         "orientation": "v",
         "showlegend": true,
         "type": "scatter",
         "x": [
          1.0312891517842873
         ],
         "xaxis": "x",
         "y": [
          -0.007416166079983057
         ],
         "yaxis": "y"
        },
        {
         "hovertemplate": "rgb color=rgb(176,71,183)<br>0=%{x}<br>1=%{y}<extra></extra>",
         "legendgroup": "rgb(176,71,183)",
         "marker": {
          "color": "#FF6692",
          "symbol": "circle"
         },
         "mode": "markers",
         "name": "rgb(176,71,183)",
         "orientation": "v",
         "showlegend": true,
         "type": "scatter",
         "x": [
          -0.1858700889296593
         ],
         "xaxis": "x",
         "y": [
          -0.16722884273192182
         ],
         "yaxis": "y"
        },
        {
         "hovertemplate": "rgb color=rgb(254,115,20)<br>0=%{x}<br>1=%{y}<extra></extra>",
         "legendgroup": "rgb(254,115,20)",
         "marker": {
          "color": "#B6E880",
          "symbol": "circle"
         },
         "mode": "markers",
         "name": "rgb(254,115,20)",
         "orientation": "v",
         "showlegend": true,
         "type": "scatter",
         "x": [
          1.0028192022155435
         ],
         "xaxis": "x",
         "y": [
          -0.3907877615956607
         ],
         "yaxis": "y"
        },
        {
         "hovertemplate": "rgb color=rgb(98,64,237)<br>0=%{x}<br>1=%{y}<extra></extra>",
         "legendgroup": "rgb(98,64,237)",
         "marker": {
          "color": "#FF97FF",
          "symbol": "circle"
         },
         "mode": "markers",
         "name": "rgb(98,64,237)",
         "orientation": "v",
         "showlegend": true,
         "type": "scatter",
         "x": [
          0.6773161858254036
         ],
         "xaxis": "x",
         "y": [
          -0.22681526067070165
         ],
         "yaxis": "y"
        },
        {
         "hovertemplate": "rgb color=rgb(40,156,255)<br>0=%{x}<br>1=%{y}<extra></extra>",
         "legendgroup": "rgb(40,156,255)",
         "marker": {
          "color": "#FECB52",
          "symbol": "circle"
         },
         "mode": "markers",
         "name": "rgb(40,156,255)",
         "orientation": "v",
         "showlegend": true,
         "type": "scatter",
         "x": [
          0.7619519476814264
         ],
         "xaxis": "x",
         "y": [
          -0.7813784664570037
         ],
         "yaxis": "y"
        },
        {
         "hovertemplate": "rgb color=rgb(126,203,31)<br>0=%{x}<br>1=%{y}<extra></extra>",
         "legendgroup": "rgb(126,203,31)",
         "marker": {
          "color": "#636efa",
          "symbol": "circle"
         },
         "mode": "markers",
         "name": "rgb(126,203,31)",
         "orientation": "v",
         "showlegend": true,
         "type": "scatter",
         "x": [
          -0.5800052176271813
         ],
         "xaxis": "x",
         "y": [
          0.2991951381966321
         ],
         "yaxis": "y"
        },
        {
         "hovertemplate": "rgb color=rgb(121,30,28)<br>0=%{x}<br>1=%{y}<extra></extra>",
         "legendgroup": "rgb(121,30,28)",
         "marker": {
          "color": "#EF553B",
          "symbol": "circle"
         },
         "mode": "markers",
         "name": "rgb(121,30,28)",
         "orientation": "v",
         "showlegend": true,
         "type": "scatter",
         "x": [
          0.7500364172694377
         ],
         "xaxis": "x",
         "y": [
          0.6151624769074149
         ],
         "yaxis": "y"
        },
        {
         "hovertemplate": "rgb color=rgb(240,33,189)<br>0=%{x}<br>1=%{y}<extra></extra>",
         "legendgroup": "rgb(240,33,189)",
         "marker": {
          "color": "#00cc96",
          "symbol": "circle"
         },
         "mode": "markers",
         "name": "rgb(240,33,189)",
         "orientation": "v",
         "showlegend": true,
         "type": "scatter",
         "x": [
          0.052889131191018686
         ],
         "xaxis": "x",
         "y": [
          -0.5185550981062627
         ],
         "yaxis": "y"
        },
        {
         "hovertemplate": "rgb color=rgb(150,8,42)<br>0=%{x}<br>1=%{y}<extra></extra>",
         "legendgroup": "rgb(150,8,42)",
         "marker": {
          "color": "#ab63fa",
          "symbol": "circle"
         },
         "mode": "markers",
         "name": "rgb(150,8,42)",
         "orientation": "v",
         "showlegend": true,
         "type": "scatter",
         "x": [
          1.1836565090683586
         ],
         "xaxis": "x",
         "y": [
          0.13176229925653596
         ],
         "yaxis": "y"
        },
        {
         "hovertemplate": "rgb color=rgb(47,160,19)<br>0=%{x}<br>1=%{y}<extra></extra>",
         "legendgroup": "rgb(47,160,19)",
         "marker": {
          "color": "#FFA15A",
          "symbol": "circle"
         },
         "mode": "markers",
         "name": "rgb(47,160,19)",
         "orientation": "v",
         "showlegend": true,
         "type": "scatter",
         "x": [
          0.3870210600193505
         ],
         "xaxis": "x",
         "y": [
          -0.06615396420554959
         ],
         "yaxis": "y"
        },
        {
         "hovertemplate": "rgb color=rgb(251,42,60)<br>0=%{x}<br>1=%{y}<extra></extra>",
         "legendgroup": "rgb(251,42,60)",
         "marker": {
          "color": "#19d3f3",
          "symbol": "circle"
         },
         "mode": "markers",
         "name": "rgb(251,42,60)",
         "orientation": "v",
         "showlegend": true,
         "type": "scatter",
         "x": [
          0.4387438279429576
         ],
         "xaxis": "x",
         "y": [
          0.039089098120633936
         ],
         "yaxis": "y"
        },
        {
         "hovertemplate": "rgb color=rgb(192,90,121)<br>0=%{x}<br>1=%{y}<extra></extra>",
         "legendgroup": "rgb(192,90,121)",
         "marker": {
          "color": "#FF6692",
          "symbol": "circle"
         },
         "mode": "markers",
         "name": "rgb(192,90,121)",
         "orientation": "v",
         "showlegend": true,
         "type": "scatter",
         "x": [
          0.9120396613099712
         ],
         "xaxis": "x",
         "y": [
          -0.40256335708546087
         ],
         "yaxis": "y"
        },
        {
         "hovertemplate": "rgb color=rgb(55,109,123)<br>0=%{x}<br>1=%{y}<extra></extra>",
         "legendgroup": "rgb(55,109,123)",
         "marker": {
          "color": "#B6E880",
          "symbol": "circle"
         },
         "mode": "markers",
         "name": "rgb(55,109,123)",
         "orientation": "v",
         "showlegend": true,
         "type": "scatter",
         "x": [
          -0.39680714088398644
         ],
         "xaxis": "x",
         "y": [
          0.7841236255287308
         ],
         "yaxis": "y"
        },
        {
         "hovertemplate": "rgb color=rgb(87,210,111)<br>0=%{x}<br>1=%{y}<extra></extra>",
         "legendgroup": "rgb(87,210,111)",
         "marker": {
          "color": "#FF97FF",
          "symbol": "circle"
         },
         "mode": "markers",
         "name": "rgb(87,210,111)",
         "orientation": "v",
         "showlegend": true,
         "type": "scatter",
         "x": [
          -0.34648030748974473
         ],
         "xaxis": "x",
         "y": [
          0.1180240873871305
         ],
         "yaxis": "y"
        },
        {
         "hovertemplate": "rgb color=rgb(142,245,129)<br>0=%{x}<br>1=%{y}<extra></extra>",
         "legendgroup": "rgb(142,245,129)",
         "marker": {
          "color": "#FECB52",
          "symbol": "circle"
         },
         "mode": "markers",
         "name": "rgb(142,245,129)",
         "orientation": "v",
         "showlegend": true,
         "type": "scatter",
         "x": [
          -0.5460459600381224
         ],
         "xaxis": "x",
         "y": [
          -0.32192029131006555
         ],
         "yaxis": "y"
        },
        {
         "hovertemplate": "rgb color=rgb(186,165,150)<br>0=%{x}<br>1=%{y}<extra></extra>",
         "legendgroup": "rgb(186,165,150)",
         "marker": {
          "color": "#636efa",
          "symbol": "circle"
         },
         "mode": "markers",
         "name": "rgb(186,165,150)",
         "orientation": "v",
         "showlegend": true,
         "type": "scatter",
         "x": [
          0.206131491587443
         ],
         "xaxis": "x",
         "y": [
          -1.0131352745628097
         ],
         "yaxis": "y"
        },
        {
         "hovertemplate": "rgb color=rgb(249,160,157)<br>0=%{x}<br>1=%{y}<extra></extra>",
         "legendgroup": "rgb(249,160,157)",
         "marker": {
          "color": "#EF553B",
          "symbol": "circle"
         },
         "mode": "markers",
         "name": "rgb(249,160,157)",
         "orientation": "v",
         "showlegend": true,
         "type": "scatter",
         "x": [
          0.09282961070129143
         ],
         "xaxis": "x",
         "y": [
          -1.0509017917828212
         ],
         "yaxis": "y"
        },
        {
         "hovertemplate": "rgb color=rgb(209,241,224)<br>0=%{x}<br>1=%{y}<extra></extra>",
         "legendgroup": "rgb(209,241,224)",
         "marker": {
          "color": "#00cc96",
          "symbol": "circle"
         },
         "mode": "markers",
         "name": "rgb(209,241,224)",
         "orientation": "v",
         "showlegend": true,
         "type": "scatter",
         "x": [
          -0.5526934205969146
         ],
         "xaxis": "x",
         "y": [
          -0.822106027230609
         ],
         "yaxis": "y"
        },
        {
         "hovertemplate": "rgb color=rgb(21,137,107)<br>0=%{x}<br>1=%{y}<extra></extra>",
         "legendgroup": "rgb(21,137,107)",
         "marker": {
          "color": "#ab63fa",
          "symbol": "circle"
         },
         "mode": "markers",
         "name": "rgb(21,137,107)",
         "orientation": "v",
         "showlegend": true,
         "type": "scatter",
         "x": [
          -0.619840284301451
         ],
         "xaxis": "x",
         "y": [
          0.6134081468966438
         ],
         "yaxis": "y"
        },
        {
         "hovertemplate": "rgb color=rgb(33,189,179)<br>0=%{x}<br>1=%{y}<extra></extra>",
         "legendgroup": "rgb(33,189,179)",
         "marker": {
          "color": "#FFA15A",
          "symbol": "circle"
         },
         "mode": "markers",
         "name": "rgb(33,189,179)",
         "orientation": "v",
         "showlegend": true,
         "type": "scatter",
         "x": [
          -1.4317342512539257
         ],
         "xaxis": "x",
         "y": [
          0.3921451036831893
         ],
         "yaxis": "y"
        },
        {
         "hovertemplate": "rgb color=rgb(101,235,204)<br>0=%{x}<br>1=%{y}<extra></extra>",
         "legendgroup": "rgb(101,235,204)",
         "marker": {
          "color": "#19d3f3",
          "symbol": "circle"
         },
         "mode": "markers",
         "name": "rgb(101,235,204)",
         "orientation": "v",
         "showlegend": true,
         "type": "scatter",
         "x": [
          -0.6041242981917291
         ],
         "xaxis": "x",
         "y": [
          -0.5249891168607907
         ],
         "yaxis": "y"
        },
        {
         "hovertemplate": "rgb color=rgb(177,113,97)<br>0=%{x}<br>1=%{y}<extra></extra>",
         "legendgroup": "rgb(177,113,97)",
         "marker": {
          "color": "#FF6692",
          "symbol": "circle"
         },
         "mode": "markers",
         "name": "rgb(177,113,97)",
         "orientation": "v",
         "showlegend": true,
         "type": "scatter",
         "x": [
          -0.23862061031454143
         ],
         "xaxis": "x",
         "y": [
          0.3322785121639614
         ],
         "yaxis": "y"
        },
        {
         "hovertemplate": "rgb color=rgb(0,202,112)<br>0=%{x}<br>1=%{y}<extra></extra>",
         "legendgroup": "rgb(0,202,112)",
         "marker": {
          "color": "#B6E880",
          "symbol": "circle"
         },
         "mode": "markers",
         "name": "rgb(0,202,112)",
         "orientation": "v",
         "showlegend": true,
         "type": "scatter",
         "x": [
          0.7753860425540153
         ],
         "xaxis": "x",
         "y": [
          -0.6470664400463246
         ],
         "yaxis": "y"
        },
        {
         "hovertemplate": "rgb color=rgb(60,139,204)<br>0=%{x}<br>1=%{y}<extra></extra>",
         "legendgroup": "rgb(60,139,204)",
         "marker": {
          "color": "#FF97FF",
          "symbol": "circle"
         },
         "mode": "markers",
         "name": "rgb(60,139,204)",
         "orientation": "v",
         "showlegend": true,
         "type": "scatter",
         "x": [
          0.01589989873016489
         ],
         "xaxis": "x",
         "y": [
          -0.4522570273383988
         ],
         "yaxis": "y"
        },
        {
         "hovertemplate": "rgb color=rgb(201,172,176)<br>0=%{x}<br>1=%{y}<extra></extra>",
         "legendgroup": "rgb(201,172,176)",
         "marker": {
          "color": "#FECB52",
          "symbol": "circle"
         },
         "mode": "markers",
         "name": "rgb(201,172,176)",
         "orientation": "v",
         "showlegend": true,
         "type": "scatter",
         "x": [
          -0.3789219743527715
         ],
         "xaxis": "x",
         "y": [
          -0.7394951815240502
         ],
         "yaxis": "y"
        },
        {
         "hovertemplate": "rgb color=rgb(192,192,156)<br>0=%{x}<br>1=%{y}<extra></extra>",
         "legendgroup": "rgb(192,192,156)",
         "marker": {
          "color": "#636efa",
          "symbol": "circle"
         },
         "mode": "markers",
         "name": "rgb(192,192,156)",
         "orientation": "v",
         "showlegend": true,
         "type": "scatter",
         "x": [
          0.8541951565275618
         ],
         "xaxis": "x",
         "y": [
          -1.229569082172367
         ],
         "yaxis": "y"
        },
        {
         "hovertemplate": "rgb color=rgb(244,168,222)<br>0=%{x}<br>1=%{y}<extra></extra>",
         "legendgroup": "rgb(244,168,222)",
         "marker": {
          "color": "#EF553B",
          "symbol": "circle"
         },
         "mode": "markers",
         "name": "rgb(244,168,222)",
         "orientation": "v",
         "showlegend": true,
         "type": "scatter",
         "x": [
          -0.5604154058036126
         ],
         "xaxis": "x",
         "y": [
          -0.762084347479554
         ],
         "yaxis": "y"
        },
        {
         "hovertemplate": "rgb color=rgb(200,213,123)<br>0=%{x}<br>1=%{y}<extra></extra>",
         "legendgroup": "rgb(200,213,123)",
         "marker": {
          "color": "#00cc96",
          "symbol": "circle"
         },
         "mode": "markers",
         "name": "rgb(200,213,123)",
         "orientation": "v",
         "showlegend": true,
         "type": "scatter",
         "x": [
          -0.018495663873542064
         ],
         "xaxis": "x",
         "y": [
          -0.5611905484657219
         ],
         "yaxis": "y"
        },
        {
         "hovertemplate": "rgb color=rgb(192,37,81)<br>0=%{x}<br>1=%{y}<extra></extra>",
         "legendgroup": "rgb(192,37,81)",
         "marker": {
          "color": "#ab63fa",
          "symbol": "circle"
         },
         "mode": "markers",
         "name": "rgb(192,37,81)",
         "orientation": "v",
         "showlegend": true,
         "type": "scatter",
         "x": [
          0.43732380301111584
         ],
         "xaxis": "x",
         "y": [
          -0.05719375740935017
         ],
         "yaxis": "y"
        },
        {
         "hovertemplate": "rgb color=rgb(234,240,134)<br>0=%{x}<br>1=%{y}<extra></extra>",
         "legendgroup": "rgb(234,240,134)",
         "marker": {
          "color": "#FFA15A",
          "symbol": "circle"
         },
         "mode": "markers",
         "name": "rgb(234,240,134)",
         "orientation": "v",
         "showlegend": true,
         "type": "scatter",
         "x": [
          -0.49624505013354164
         ],
         "xaxis": "x",
         "y": [
          -0.5762034518921914
         ],
         "yaxis": "y"
        },
        {
         "hovertemplate": "rgb color=rgb(223,133,22)<br>0=%{x}<br>1=%{y}<extra></extra>",
         "legendgroup": "rgb(223,133,22)",
         "marker": {
          "color": "#19d3f3",
          "symbol": "circle"
         },
         "mode": "markers",
         "name": "rgb(223,133,22)",
         "orientation": "v",
         "showlegend": true,
         "type": "scatter",
         "x": [
          -0.582839471056298
         ],
         "xaxis": "x",
         "y": [
          0.3518288946963199
         ],
         "yaxis": "y"
        },
        {
         "hovertemplate": "rgb color=rgb(141,4,108)<br>0=%{x}<br>1=%{y}<extra></extra>",
         "legendgroup": "rgb(141,4,108)",
         "marker": {
          "color": "#FF6692",
          "symbol": "circle"
         },
         "mode": "markers",
         "name": "rgb(141,4,108)",
         "orientation": "v",
         "showlegend": true,
         "type": "scatter",
         "x": [
          0.29225139887765306
         ],
         "xaxis": "x",
         "y": [
          0.23937255157414775
         ],
         "yaxis": "y"
        },
        {
         "hovertemplate": "rgb color=rgb(131,213,43)<br>0=%{x}<br>1=%{y}<extra></extra>",
         "legendgroup": "rgb(131,213,43)",
         "marker": {
          "color": "#B6E880",
          "symbol": "circle"
         },
         "mode": "markers",
         "name": "rgb(131,213,43)",
         "orientation": "v",
         "showlegend": true,
         "type": "scatter",
         "x": [
          -0.5931432443554054
         ],
         "xaxis": "x",
         "y": [
          0.39493827807890397
         ],
         "yaxis": "y"
        },
        {
         "hovertemplate": "rgb color=rgb(68,62,57)<br>0=%{x}<br>1=%{y}<extra></extra>",
         "legendgroup": "rgb(68,62,57)",
         "marker": {
          "color": "#FF97FF",
          "symbol": "circle"
         },
         "mode": "markers",
         "name": "rgb(68,62,57)",
         "orientation": "v",
         "showlegend": true,
         "type": "scatter",
         "x": [
          0.9675520515897922
         ],
         "xaxis": "x",
         "y": [
          0.7471681556468646
         ],
         "yaxis": "y"
        },
        {
         "hovertemplate": "rgb color=rgb(108,67,56)<br>0=%{x}<br>1=%{y}<extra></extra>",
         "legendgroup": "rgb(108,67,56)",
         "marker": {
          "color": "#FECB52",
          "symbol": "circle"
         },
         "mode": "markers",
         "name": "rgb(108,67,56)",
         "orientation": "v",
         "showlegend": true,
         "type": "scatter",
         "x": [
          1.0881387252190549
         ],
         "xaxis": "x",
         "y": [
          0.43428809876198926
         ],
         "yaxis": "y"
        },
        {
         "hovertemplate": "rgb color=rgb(16,96,145)<br>0=%{x}<br>1=%{y}<extra></extra>",
         "legendgroup": "rgb(16,96,145)",
         "marker": {
          "color": "#636efa",
          "symbol": "circle"
         },
         "mode": "markers",
         "name": "rgb(16,96,145)",
         "orientation": "v",
         "showlegend": true,
         "type": "scatter",
         "x": [
          0.3881896341330389
         ],
         "xaxis": "x",
         "y": [
          0.10907781355322047
         ],
         "yaxis": "y"
        },
        {
         "hovertemplate": "rgb color=rgb(149,121,63)<br>0=%{x}<br>1=%{y}<extra></extra>",
         "legendgroup": "rgb(149,121,63)",
         "marker": {
          "color": "#EF553B",
          "symbol": "circle"
         },
         "mode": "markers",
         "name": "rgb(149,121,63)",
         "orientation": "v",
         "showlegend": true,
         "type": "scatter",
         "x": [
          0.022797559306526976
         ],
         "xaxis": "x",
         "y": [
          0.22153310927604325
         ],
         "yaxis": "y"
        },
        {
         "hovertemplate": "rgb color=rgb(111,238,142)<br>0=%{x}<br>1=%{y}<extra></extra>",
         "legendgroup": "rgb(111,238,142)",
         "marker": {
          "color": "#00cc96",
          "symbol": "circle"
         },
         "mode": "markers",
         "name": "rgb(111,238,142)",
         "orientation": "v",
         "showlegend": true,
         "type": "scatter",
         "x": [
          -0.7548081769090882
         ],
         "xaxis": "x",
         "y": [
          -0.1532172467390341
         ],
         "yaxis": "y"
        },
        {
         "hovertemplate": "rgb color=rgb(76,33,241)<br>0=%{x}<br>1=%{y}<extra></extra>",
         "legendgroup": "rgb(76,33,241)",
         "marker": {
          "color": "#ab63fa",
          "symbol": "circle"
         },
         "mode": "markers",
         "name": "rgb(76,33,241)",
         "orientation": "v",
         "showlegend": true,
         "type": "scatter",
         "x": [
          -0.08122928121246059
         ],
         "xaxis": "x",
         "y": [
          0.1636084877833982
         ],
         "yaxis": "y"
        },
        {
         "hovertemplate": "rgb color=rgb(169,100,217)<br>0=%{x}<br>1=%{y}<extra></extra>",
         "legendgroup": "rgb(169,100,217)",
         "marker": {
          "color": "#FFA15A",
          "symbol": "circle"
         },
         "mode": "markers",
         "name": "rgb(169,100,217)",
         "orientation": "v",
         "showlegend": true,
         "type": "scatter",
         "x": [
          0.028077176783416116
         ],
         "xaxis": "x",
         "y": [
          -0.43681363792544076
         ],
         "yaxis": "y"
        },
        {
         "hovertemplate": "rgb color=rgb(38,33,179)<br>0=%{x}<br>1=%{y}<extra></extra>",
         "legendgroup": "rgb(38,33,179)",
         "marker": {
          "color": "#19d3f3",
          "symbol": "circle"
         },
         "mode": "markers",
         "name": "rgb(38,33,179)",
         "orientation": "v",
         "showlegend": true,
         "type": "scatter",
         "x": [
          -0.4168863837298723
         ],
         "xaxis": "x",
         "y": [
          0.6070743781897044
         ],
         "yaxis": "y"
        },
        {
         "hovertemplate": "rgb color=rgb(240,131,30)<br>0=%{x}<br>1=%{y}<extra></extra>",
         "legendgroup": "rgb(240,131,30)",
         "marker": {
          "color": "#FF6692",
          "symbol": "circle"
         },
         "mode": "markers",
         "name": "rgb(240,131,30)",
         "orientation": "v",
         "showlegend": true,
         "type": "scatter",
         "x": [
          0.9477340014061365
         ],
         "xaxis": "x",
         "y": [
          -0.5527679239047946
         ],
         "yaxis": "y"
        },
        {
         "hovertemplate": "rgb color=rgb(219,104,187)<br>0=%{x}<br>1=%{y}<extra></extra>",
         "legendgroup": "rgb(219,104,187)",
         "marker": {
          "color": "#B6E880",
          "symbol": "circle"
         },
         "mode": "markers",
         "name": "rgb(219,104,187)",
         "orientation": "v",
         "showlegend": true,
         "type": "scatter",
         "x": [
          -0.2846133137525874
         ],
         "xaxis": "x",
         "y": [
          -0.3820202556716948
         ],
         "yaxis": "y"
        },
        {
         "hovertemplate": "rgb color=rgb(229,197,107)<br>0=%{x}<br>1=%{y}<extra></extra>",
         "legendgroup": "rgb(229,197,107)",
         "marker": {
          "color": "#FF97FF",
          "symbol": "circle"
         },
         "mode": "markers",
         "name": "rgb(229,197,107)",
         "orientation": "v",
         "showlegend": true,
         "type": "scatter",
         "x": [
          -1.0611958396980377
         ],
         "xaxis": "x",
         "y": [
          -0.07771759233072933
         ],
         "yaxis": "y"
        },
        {
         "hovertemplate": "rgb color=rgb(107,42,232)<br>0=%{x}<br>1=%{y}<extra></extra>",
         "legendgroup": "rgb(107,42,232)",
         "marker": {
          "color": "#FECB52",
          "symbol": "circle"
         },
         "mode": "markers",
         "name": "rgb(107,42,232)",
         "orientation": "v",
         "showlegend": true,
         "type": "scatter",
         "x": [
          0.14955760052395795
         ],
         "xaxis": "x",
         "y": [
          -0.15049192723520308
         ],
         "yaxis": "y"
        },
        {
         "hovertemplate": "rgb color=rgb(134,85,163)<br>0=%{x}<br>1=%{y}<extra></extra>",
         "legendgroup": "rgb(134,85,163)",
         "marker": {
          "color": "#636efa",
          "symbol": "circle"
         },
         "mode": "markers",
         "name": "rgb(134,85,163)",
         "orientation": "v",
         "showlegend": true,
         "type": "scatter",
         "x": [
          -0.4256334746093644
         ],
         "xaxis": "x",
         "y": [
          0.5897629085369989
         ],
         "yaxis": "y"
        },
        {
         "hovertemplate": "rgb color=rgb(196,162,157)<br>0=%{x}<br>1=%{y}<extra></extra>",
         "legendgroup": "rgb(196,162,157)",
         "marker": {
          "color": "#EF553B",
          "symbol": "circle"
         },
         "mode": "markers",
         "name": "rgb(196,162,157)",
         "orientation": "v",
         "showlegend": true,
         "type": "scatter",
         "x": [
          -0.7905787158403635
         ],
         "xaxis": "x",
         "y": [
          -0.7452720944564135
         ],
         "yaxis": "y"
        },
        {
         "hovertemplate": "rgb color=rgb(171,62,119)<br>0=%{x}<br>1=%{y}<extra></extra>",
         "legendgroup": "rgb(171,62,119)",
         "marker": {
          "color": "#00cc96",
          "symbol": "circle"
         },
         "mode": "markers",
         "name": "rgb(171,62,119)",
         "orientation": "v",
         "showlegend": true,
         "type": "scatter",
         "x": [
          -0.40296820384572735
         ],
         "xaxis": "x",
         "y": [
          0.11868765876745616
         ],
         "yaxis": "y"
        },
        {
         "hovertemplate": "rgb color=rgb(110,50,193)<br>0=%{x}<br>1=%{y}<extra></extra>",
         "legendgroup": "rgb(110,50,193)",
         "marker": {
          "color": "#ab63fa",
          "symbol": "circle"
         },
         "mode": "markers",
         "name": "rgb(110,50,193)",
         "orientation": "v",
         "showlegend": true,
         "type": "scatter",
         "x": [
          0.6580969603402673
         ],
         "xaxis": "x",
         "y": [
          -0.41583105929232483
         ],
         "yaxis": "y"
        },
        {
         "hovertemplate": "rgb color=rgb(165,241,54)<br>0=%{x}<br>1=%{y}<extra></extra>",
         "legendgroup": "rgb(165,241,54)",
         "marker": {
          "color": "#FFA15A",
          "symbol": "circle"
         },
         "mode": "markers",
         "name": "rgb(165,241,54)",
         "orientation": "v",
         "showlegend": true,
         "type": "scatter",
         "x": [
          -0.2597382058223196
         ],
         "xaxis": "x",
         "y": [
          -0.21793803733897768
         ],
         "yaxis": "y"
        },
        {
         "hovertemplate": "rgb color=rgb(121,210,47)<br>0=%{x}<br>1=%{y}<extra></extra>",
         "legendgroup": "rgb(121,210,47)",
         "marker": {
          "color": "#19d3f3",
          "symbol": "circle"
         },
         "mode": "markers",
         "name": "rgb(121,210,47)",
         "orientation": "v",
         "showlegend": true,
         "type": "scatter",
         "x": [
          0.26359945990435757
         ],
         "xaxis": "x",
         "y": [
          -0.30499835240153417
         ],
         "yaxis": "y"
        },
        {
         "hovertemplate": "rgb color=rgb(153,76,23)<br>0=%{x}<br>1=%{y}<extra></extra>",
         "legendgroup": "rgb(153,76,23)",
         "marker": {
          "color": "#FF6692",
          "symbol": "circle"
         },
         "mode": "markers",
         "name": "rgb(153,76,23)",
         "orientation": "v",
         "showlegend": true,
         "type": "scatter",
         "x": [
          -0.025602991823024345
         ],
         "xaxis": "x",
         "y": [
          0.6621489372980608
         ],
         "yaxis": "y"
        },
        {
         "hovertemplate": "rgb color=rgb(93,131,47)<br>0=%{x}<br>1=%{y}<extra></extra>",
         "legendgroup": "rgb(93,131,47)",
         "marker": {
          "color": "#B6E880",
          "symbol": "circle"
         },
         "mode": "markers",
         "name": "rgb(93,131,47)",
         "orientation": "v",
         "showlegend": true,
         "type": "scatter",
         "x": [
          -0.06712373906213553
         ],
         "xaxis": "x",
         "y": [
          0.8694856200264401
         ],
         "yaxis": "y"
        },
        {
         "hovertemplate": "rgb color=rgb(67,27,213)<br>0=%{x}<br>1=%{y}<extra></extra>",
         "legendgroup": "rgb(67,27,213)",
         "marker": {
          "color": "#FF97FF",
          "symbol": "circle"
         },
         "mode": "markers",
         "name": "rgb(67,27,213)",
         "orientation": "v",
         "showlegend": true,
         "type": "scatter",
         "x": [
          -0.6481708530902343
         ],
         "xaxis": "x",
         "y": [
          0.4357359770981367
         ],
         "yaxis": "y"
        },
        {
         "hovertemplate": "rgb color=rgb(194,67,93)<br>0=%{x}<br>1=%{y}<extra></extra>",
         "legendgroup": "rgb(194,67,93)",
         "marker": {
          "color": "#FECB52",
          "symbol": "circle"
         },
         "mode": "markers",
         "name": "rgb(194,67,93)",
         "orientation": "v",
         "showlegend": true,
         "type": "scatter",
         "x": [
          -0.36796439158834154
         ],
         "xaxis": "x",
         "y": [
          0.6143201070110419
         ],
         "yaxis": "y"
        },
        {
         "hovertemplate": "rgb color=rgb(232,97,13)<br>0=%{x}<br>1=%{y}<extra></extra>",
         "legendgroup": "rgb(232,97,13)",
         "marker": {
          "color": "#636efa",
          "symbol": "circle"
         },
         "mode": "markers",
         "name": "rgb(232,97,13)",
         "orientation": "v",
         "showlegend": true,
         "type": "scatter",
         "x": [
          0.44507415264731165
         ],
         "xaxis": "x",
         "y": [
          0.3308443554178787
         ],
         "yaxis": "y"
        },
        {
         "hovertemplate": "rgb color=rgb(60,113,122)<br>0=%{x}<br>1=%{y}<extra></extra>",
         "legendgroup": "rgb(60,113,122)",
         "marker": {
          "color": "#EF553B",
          "symbol": "circle"
         },
         "mode": "markers",
         "name": "rgb(60,113,122)",
         "orientation": "v",
         "showlegend": true,
         "type": "scatter",
         "x": [
          0.2399316659449159
         ],
         "xaxis": "x",
         "y": [
          -0.008546901753841247
         ],
         "yaxis": "y"
        },
        {
         "hovertemplate": "rgb color=rgb(88,112,214)<br>0=%{x}<br>1=%{y}<extra></extra>",
         "legendgroup": "rgb(88,112,214)",
         "marker": {
          "color": "#00cc96",
          "symbol": "circle"
         },
         "mode": "markers",
         "name": "rgb(88,112,214)",
         "orientation": "v",
         "showlegend": true,
         "type": "scatter",
         "x": [
          -0.5602875049795633
         ],
         "xaxis": "x",
         "y": [
          0.3473286162007104
         ],
         "yaxis": "y"
        },
        {
         "hovertemplate": "rgb color=rgb(54,193,89)<br>0=%{x}<br>1=%{y}<extra></extra>",
         "legendgroup": "rgb(54,193,89)",
         "marker": {
          "color": "#ab63fa",
          "symbol": "circle"
         },
         "mode": "markers",
         "name": "rgb(54,193,89)",
         "orientation": "v",
         "showlegend": true,
         "type": "scatter",
         "x": [
          -0.582117040615677
         ],
         "xaxis": "x",
         "y": [
          0.6864539179697697
         ],
         "yaxis": "y"
        },
        {
         "hovertemplate": "rgb color=rgb(135,50,51)<br>0=%{x}<br>1=%{y}<extra></extra>",
         "legendgroup": "rgb(135,50,51)",
         "marker": {
          "color": "#FFA15A",
          "symbol": "circle"
         },
         "mode": "markers",
         "name": "rgb(135,50,51)",
         "orientation": "v",
         "showlegend": true,
         "type": "scatter",
         "x": [
          1.045684430873145
         ],
         "xaxis": "x",
         "y": [
          0.37649909419815525
         ],
         "yaxis": "y"
        },
        {
         "hovertemplate": "rgb color=rgb(86,42,236)<br>0=%{x}<br>1=%{y}<extra></extra>",
         "legendgroup": "rgb(86,42,236)",
         "marker": {
          "color": "#19d3f3",
          "symbol": "circle"
         },
         "mode": "markers",
         "name": "rgb(86,42,236)",
         "orientation": "v",
         "showlegend": true,
         "type": "scatter",
         "x": [
          -0.21613102796454364
         ],
         "xaxis": "x",
         "y": [
          0.3438823791329335
         ],
         "yaxis": "y"
        },
        {
         "hovertemplate": "rgb color=rgb(182,76,18)<br>0=%{x}<br>1=%{y}<extra></extra>",
         "legendgroup": "rgb(182,76,18)",
         "marker": {
          "color": "#FF6692",
          "symbol": "circle"
         },
         "mode": "markers",
         "name": "rgb(182,76,18)",
         "orientation": "v",
         "showlegend": true,
         "type": "scatter",
         "x": [
          0.10674256405651253
         ],
         "xaxis": "x",
         "y": [
          0.5312377774095486
         ],
         "yaxis": "y"
        },
        {
         "hovertemplate": "rgb color=rgb(1,142,71)<br>0=%{x}<br>1=%{y}<extra></extra>",
         "legendgroup": "rgb(1,142,71)",
         "marker": {
          "color": "#B6E880",
          "symbol": "circle"
         },
         "mode": "markers",
         "name": "rgb(1,142,71)",
         "orientation": "v",
         "showlegend": true,
         "type": "scatter",
         "x": [
          0.18656510236646118
         ],
         "xaxis": "x",
         "y": [
          0.10776537739990757
         ],
         "yaxis": "y"
        },
        {
         "hovertemplate": "rgb color=rgb(188,64,197)<br>0=%{x}<br>1=%{y}<extra></extra>",
         "legendgroup": "rgb(188,64,197)",
         "marker": {
          "color": "#FF97FF",
          "symbol": "circle"
         },
         "mode": "markers",
         "name": "rgb(188,64,197)",
         "orientation": "v",
         "showlegend": true,
         "type": "scatter",
         "x": [
          0.0017111940688479608
         ],
         "xaxis": "x",
         "y": [
          -0.6594371760395021
         ],
         "yaxis": "y"
        },
        {
         "hovertemplate": "rgb color=rgb(80,78,33)<br>0=%{x}<br>1=%{y}<extra></extra>",
         "legendgroup": "rgb(80,78,33)",
         "marker": {
          "color": "#FECB52",
          "symbol": "circle"
         },
         "mode": "markers",
         "name": "rgb(80,78,33)",
         "orientation": "v",
         "showlegend": true,
         "type": "scatter",
         "x": [
          1.6215476764801506
         ],
         "xaxis": "x",
         "y": [
          0.783490336128946
         ],
         "yaxis": "y"
        },
        {
         "hovertemplate": "rgb color=rgb(132,59,110)<br>0=%{x}<br>1=%{y}<extra></extra>",
         "legendgroup": "rgb(132,59,110)",
         "marker": {
          "color": "#636efa",
          "symbol": "circle"
         },
         "mode": "markers",
         "name": "rgb(132,59,110)",
         "orientation": "v",
         "showlegend": true,
         "type": "scatter",
         "x": [
          0.24018951005780753
         ],
         "xaxis": "x",
         "y": [
          0.3002249254235127
         ],
         "yaxis": "y"
        },
        {
         "hovertemplate": "rgb color=rgb(140,197,241)<br>0=%{x}<br>1=%{y}<extra></extra>",
         "legendgroup": "rgb(140,197,241)",
         "marker": {
          "color": "#EF553B",
          "symbol": "circle"
         },
         "mode": "markers",
         "name": "rgb(140,197,241)",
         "orientation": "v",
         "showlegend": true,
         "type": "scatter",
         "x": [
          -0.8426702324754628
         ],
         "xaxis": "x",
         "y": [
          -0.6867610620309805
         ],
         "yaxis": "y"
        },
        {
         "hovertemplate": "rgb color=rgb(30,14,77)<br>0=%{x}<br>1=%{y}<extra></extra>",
         "legendgroup": "rgb(30,14,77)",
         "marker": {
          "color": "#00cc96",
          "symbol": "circle"
         },
         "mode": "markers",
         "name": "rgb(30,14,77)",
         "orientation": "v",
         "showlegend": true,
         "type": "scatter",
         "x": [
          0.5076871353303529
         ],
         "xaxis": "x",
         "y": [
          1.066525045603258
         ],
         "yaxis": "y"
        },
        {
         "hovertemplate": "rgb color=rgb(148,98,34)<br>0=%{x}<br>1=%{y}<extra></extra>",
         "legendgroup": "rgb(148,98,34)",
         "marker": {
          "color": "#ab63fa",
          "symbol": "circle"
         },
         "mode": "markers",
         "name": "rgb(148,98,34)",
         "orientation": "v",
         "showlegend": true,
         "type": "scatter",
         "x": [
          0.5560977752005357
         ],
         "xaxis": "x",
         "y": [
          0.3082826690094479
         ],
         "yaxis": "y"
        },
        {
         "hovertemplate": "rgb color=rgb(194,75,211)<br>0=%{x}<br>1=%{y}<extra></extra>",
         "legendgroup": "rgb(194,75,211)",
         "marker": {
          "color": "#FFA15A",
          "symbol": "circle"
         },
         "mode": "markers",
         "name": "rgb(194,75,211)",
         "orientation": "v",
         "showlegend": true,
         "type": "scatter",
         "x": [
          -0.5704284402104034
         ],
         "xaxis": "x",
         "y": [
          -0.12414041682229957
         ],
         "yaxis": "y"
        },
        {
         "hovertemplate": "rgb color=rgb(11,74,194)<br>0=%{x}<br>1=%{y}<extra></extra>",
         "legendgroup": "rgb(11,74,194)",
         "marker": {
          "color": "#19d3f3",
          "symbol": "circle"
         },
         "mode": "markers",
         "name": "rgb(11,74,194)",
         "orientation": "v",
         "showlegend": true,
         "type": "scatter",
         "x": [
          -0.9367311938727328
         ],
         "xaxis": "x",
         "y": [
          0.6607213266800309
         ],
         "yaxis": "y"
        },
        {
         "hovertemplate": "rgb color=rgb(141,72,201)<br>0=%{x}<br>1=%{y}<extra></extra>",
         "legendgroup": "rgb(141,72,201)",
         "marker": {
          "color": "#FF6692",
          "symbol": "circle"
         },
         "mode": "markers",
         "name": "rgb(141,72,201)",
         "orientation": "v",
         "showlegend": true,
         "type": "scatter",
         "x": [
          -0.1488279642163656
         ],
         "xaxis": "x",
         "y": [
          0.024311589841492197
         ],
         "yaxis": "y"
        },
        {
         "hovertemplate": "rgb color=rgb(14,153,214)<br>0=%{x}<br>1=%{y}<extra></extra>",
         "legendgroup": "rgb(14,153,214)",
         "marker": {
          "color": "#B6E880",
          "symbol": "circle"
         },
         "mode": "markers",
         "name": "rgb(14,153,214)",
         "orientation": "v",
         "showlegend": true,
         "type": "scatter",
         "x": [
          -1.5626061160145435
         ],
         "xaxis": "x",
         "y": [
          0.5134315558608378
         ],
         "yaxis": "y"
        },
        {
         "hovertemplate": "rgb color=rgb(100,153,76)<br>0=%{x}<br>1=%{y}<extra></extra>",
         "legendgroup": "rgb(100,153,76)",
         "marker": {
          "color": "#FF97FF",
          "symbol": "circle"
         },
         "mode": "markers",
         "name": "rgb(100,153,76)",
         "orientation": "v",
         "showlegend": true,
         "type": "scatter",
         "x": [
          0.7714709327450311
         ],
         "xaxis": "x",
         "y": [
          -0.023910807242773932
         ],
         "yaxis": "y"
        },
        {
         "hovertemplate": "rgb color=rgb(98,220,10)<br>0=%{x}<br>1=%{y}<extra></extra>",
         "legendgroup": "rgb(98,220,10)",
         "marker": {
          "color": "#FECB52",
          "symbol": "circle"
         },
         "mode": "markers",
         "name": "rgb(98,220,10)",
         "orientation": "v",
         "showlegend": true,
         "type": "scatter",
         "x": [
          1.3546224787279846
         ],
         "xaxis": "x",
         "y": [
          -0.3106632010337682
         ],
         "yaxis": "y"
        },
        {
         "hovertemplate": "rgb color=rgb(174,242,82)<br>0=%{x}<br>1=%{y}<extra></extra>",
         "legendgroup": "rgb(174,242,82)",
         "marker": {
          "color": "#636efa",
          "symbol": "circle"
         },
         "mode": "markers",
         "name": "rgb(174,242,82)",
         "orientation": "v",
         "showlegend": true,
         "type": "scatter",
         "x": [
          -0.639488045722515
         ],
         "xaxis": "x",
         "y": [
          -0.09792662193770171
         ],
         "yaxis": "y"
        },
        {
         "hovertemplate": "rgb color=rgb(164,206,205)<br>0=%{x}<br>1=%{y}<extra></extra>",
         "legendgroup": "rgb(164,206,205)",
         "marker": {
          "color": "#EF553B",
          "symbol": "circle"
         },
         "mode": "markers",
         "name": "rgb(164,206,205)",
         "orientation": "v",
         "showlegend": true,
         "type": "scatter",
         "x": [
          -0.6886834326604817
         ],
         "xaxis": "x",
         "y": [
          -0.7818965100615753
         ],
         "yaxis": "y"
        },
        {
         "hovertemplate": "rgb color=rgb(146,59,190)<br>0=%{x}<br>1=%{y}<extra></extra>",
         "legendgroup": "rgb(146,59,190)",
         "marker": {
          "color": "#00cc96",
          "symbol": "circle"
         },
         "mode": "markers",
         "name": "rgb(146,59,190)",
         "orientation": "v",
         "showlegend": true,
         "type": "scatter",
         "x": [
          -0.5843066282759347
         ],
         "xaxis": "x",
         "y": [
          -0.03730088411227512
         ],
         "yaxis": "y"
        },
        {
         "hovertemplate": "rgb color=rgb(166,95,171)<br>0=%{x}<br>1=%{y}<extra></extra>",
         "legendgroup": "rgb(166,95,171)",
         "marker": {
          "color": "#ab63fa",
          "symbol": "circle"
         },
         "mode": "markers",
         "name": "rgb(166,95,171)",
         "orientation": "v",
         "showlegend": true,
         "type": "scatter",
         "x": [
          -0.07347023346071196
         ],
         "xaxis": "x",
         "y": [
          -0.17865787131942734
         ],
         "yaxis": "y"
        },
        {
         "hovertemplate": "rgb color=rgb(46,81,210)<br>0=%{x}<br>1=%{y}<extra></extra>",
         "legendgroup": "rgb(46,81,210)",
         "marker": {
          "color": "#FFA15A",
          "symbol": "circle"
         },
         "mode": "markers",
         "name": "rgb(46,81,210)",
         "orientation": "v",
         "showlegend": true,
         "type": "scatter",
         "x": [
          -0.1963324079174058
         ],
         "xaxis": "x",
         "y": [
          0.11130286692839593
         ],
         "yaxis": "y"
        },
        {
         "hovertemplate": "rgb color=rgb(52,132,191)<br>0=%{x}<br>1=%{y}<extra></extra>",
         "legendgroup": "rgb(52,132,191)",
         "marker": {
          "color": "#19d3f3",
          "symbol": "circle"
         },
         "mode": "markers",
         "name": "rgb(52,132,191)",
         "orientation": "v",
         "showlegend": true,
         "type": "scatter",
         "x": [
          -0.7445172972618713
         ],
         "xaxis": "x",
         "y": [
          0.16732571591158352
         ],
         "yaxis": "y"
        },
        {
         "hovertemplate": "rgb color=rgb(203,152,93)<br>0=%{x}<br>1=%{y}<extra></extra>",
         "legendgroup": "rgb(203,152,93)",
         "marker": {
          "color": "#FF6692",
          "symbol": "circle"
         },
         "mode": "markers",
         "name": "rgb(203,152,93)",
         "orientation": "v",
         "showlegend": true,
         "type": "scatter",
         "x": [
          -0.7111549771135466
         ],
         "xaxis": "x",
         "y": [
          0.4453295305261585
         ],
         "yaxis": "y"
        },
        {
         "hovertemplate": "rgb color=rgb(79,255,95)<br>0=%{x}<br>1=%{y}<extra></extra>",
         "legendgroup": "rgb(79,255,95)",
         "marker": {
          "color": "#B6E880",
          "symbol": "circle"
         },
         "mode": "markers",
         "name": "rgb(79,255,95)",
         "orientation": "v",
         "showlegend": true,
         "type": "scatter",
         "x": [
          0.8488945587207035
         ],
         "xaxis": "x",
         "y": [
          -0.08843517107170099
         ],
         "yaxis": "y"
        },
        {
         "hovertemplate": "rgb color=rgb(190,105,145)<br>0=%{x}<br>1=%{y}<extra></extra>",
         "legendgroup": "rgb(190,105,145)",
         "marker": {
          "color": "#FF97FF",
          "symbol": "circle"
         },
         "mode": "markers",
         "name": "rgb(190,105,145)",
         "orientation": "v",
         "showlegend": true,
         "type": "scatter",
         "x": [
          0.08538821786596262
         ],
         "xaxis": "x",
         "y": [
          -0.275178490536762
         ],
         "yaxis": "y"
        },
        {
         "hovertemplate": "rgb color=rgb(196,244,215)<br>0=%{x}<br>1=%{y}<extra></extra>",
         "legendgroup": "rgb(196,244,215)",
         "marker": {
          "color": "#FECB52",
          "symbol": "circle"
         },
         "mode": "markers",
         "name": "rgb(196,244,215)",
         "orientation": "v",
         "showlegend": true,
         "type": "scatter",
         "x": [
          -1.0360512242497018
         ],
         "xaxis": "x",
         "y": [
          -0.7186651932359518
         ],
         "yaxis": "y"
        },
        {
         "hovertemplate": "rgb color=rgb(21,28,245)<br>0=%{x}<br>1=%{y}<extra></extra>",
         "legendgroup": "rgb(21,28,245)",
         "marker": {
          "color": "#636efa",
          "symbol": "circle"
         },
         "mode": "markers",
         "name": "rgb(21,28,245)",
         "orientation": "v",
         "showlegend": true,
         "type": "scatter",
         "x": [
          -0.658779509352982
         ],
         "xaxis": "x",
         "y": [
          0.4280510935847207
         ],
         "yaxis": "y"
        },
        {
         "hovertemplate": "rgb color=rgb(177,79,212)<br>0=%{x}<br>1=%{y}<extra></extra>",
         "legendgroup": "rgb(177,79,212)",
         "marker": {
          "color": "#EF553B",
          "symbol": "circle"
         },
         "mode": "markers",
         "name": "rgb(177,79,212)",
         "orientation": "v",
         "showlegend": true,
         "type": "scatter",
         "x": [
          -0.7769097625659519
         ],
         "xaxis": "x",
         "y": [
          -0.04652509314928995
         ],
         "yaxis": "y"
        },
        {
         "hovertemplate": "rgb color=rgb(160,67,120)<br>0=%{x}<br>1=%{y}<extra></extra>",
         "legendgroup": "rgb(160,67,120)",
         "marker": {
          "color": "#00cc96",
          "symbol": "circle"
         },
         "mode": "markers",
         "name": "rgb(160,67,120)",
         "orientation": "v",
         "showlegend": true,
         "type": "scatter",
         "x": [
          1.0938505299390584
         ],
         "xaxis": "x",
         "y": [
          -0.7203428841894439
         ],
         "yaxis": "y"
        },
        {
         "hovertemplate": "rgb color=rgb(237,101,163)<br>0=%{x}<br>1=%{y}<extra></extra>",
         "legendgroup": "rgb(237,101,163)",
         "marker": {
          "color": "#ab63fa",
          "symbol": "circle"
         },
         "mode": "markers",
         "name": "rgb(237,101,163)",
         "orientation": "v",
         "showlegend": true,
         "type": "scatter",
         "x": [
          -0.6538740848368966
         ],
         "xaxis": "x",
         "y": [
          -0.19537150611791226
         ],
         "yaxis": "y"
        },
        {
         "hovertemplate": "rgb color=rgb(133,22,133)<br>0=%{x}<br>1=%{y}<extra></extra>",
         "legendgroup": "rgb(133,22,133)",
         "marker": {
          "color": "#FFA15A",
          "symbol": "circle"
         },
         "mode": "markers",
         "name": "rgb(133,22,133)",
         "orientation": "v",
         "showlegend": true,
         "type": "scatter",
         "x": [
          -0.35490935528357254
         ],
         "xaxis": "x",
         "y": [
          0.8306994928768296
         ],
         "yaxis": "y"
        },
        {
         "hovertemplate": "rgb color=rgb(70,144,59)<br>0=%{x}<br>1=%{y}<extra></extra>",
         "legendgroup": "rgb(70,144,59)",
         "marker": {
          "color": "#19d3f3",
          "symbol": "circle"
         },
         "mode": "markers",
         "name": "rgb(70,144,59)",
         "orientation": "v",
         "showlegend": true,
         "type": "scatter",
         "x": [
          0.8004582532013619
         ],
         "xaxis": "x",
         "y": [
          0.13481245091757055
         ],
         "yaxis": "y"
        },
        {
         "hovertemplate": "rgb color=rgb(217,230,170)<br>0=%{x}<br>1=%{y}<extra></extra>",
         "legendgroup": "rgb(217,230,170)",
         "marker": {
          "color": "#FF6692",
          "symbol": "circle"
         },
         "mode": "markers",
         "name": "rgb(217,230,170)",
         "orientation": "v",
         "showlegend": true,
         "type": "scatter",
         "x": [
          -0.292836403958076
         ],
         "xaxis": "x",
         "y": [
          -0.9162302074484825
         ],
         "yaxis": "y"
        },
        {
         "hovertemplate": "rgb color=rgb(86,155,9)<br>0=%{x}<br>1=%{y}<extra></extra>",
         "legendgroup": "rgb(86,155,9)",
         "marker": {
          "color": "#B6E880",
          "symbol": "circle"
         },
         "mode": "markers",
         "name": "rgb(86,155,9)",
         "orientation": "v",
         "showlegend": true,
         "type": "scatter",
         "x": [
          0.2852859691915605
         ],
         "xaxis": "x",
         "y": [
          0.577239773973048
         ],
         "yaxis": "y"
        },
        {
         "hovertemplate": "rgb color=rgb(222,101,185)<br>0=%{x}<br>1=%{y}<extra></extra>",
         "legendgroup": "rgb(222,101,185)",
         "marker": {
          "color": "#FF97FF",
          "symbol": "circle"
         },
         "mode": "markers",
         "name": "rgb(222,101,185)",
         "orientation": "v",
         "showlegend": true,
         "type": "scatter",
         "x": [
          -0.3954048698159263
         ],
         "xaxis": "x",
         "y": [
          -0.3465869341254068
         ],
         "yaxis": "y"
        },
        {
         "hovertemplate": "rgb color=rgb(16,75,0)<br>0=%{x}<br>1=%{y}<extra></extra>",
         "legendgroup": "rgb(16,75,0)",
         "marker": {
          "color": "#FECB52",
          "symbol": "circle"
         },
         "mode": "markers",
         "name": "rgb(16,75,0)",
         "orientation": "v",
         "showlegend": true,
         "type": "scatter",
         "x": [
          2.299380867451303
         ],
         "xaxis": "x",
         "y": [
          -0.12715722498790982
         ],
         "yaxis": "y"
        }
       ],
       "layout": {
        "legend": {
         "title": {
          "text": "rgb color"
         },
         "tracegroupgap": 0
        },
        "showlegend": false,
        "template": {
         "data": {
          "bar": [
           {
            "error_x": {
             "color": "#2a3f5f"
            },
            "error_y": {
             "color": "#2a3f5f"
            },
            "marker": {
             "line": {
              "color": "#E5ECF6",
              "width": 0.5
             },
             "pattern": {
              "fillmode": "overlay",
              "size": 10,
              "solidity": 0.2
             }
            },
            "type": "bar"
           }
          ],
          "barpolar": [
           {
            "marker": {
             "line": {
              "color": "#E5ECF6",
              "width": 0.5
             },
             "pattern": {
              "fillmode": "overlay",
              "size": 10,
              "solidity": 0.2
             }
            },
            "type": "barpolar"
           }
          ],
          "carpet": [
           {
            "aaxis": {
             "endlinecolor": "#2a3f5f",
             "gridcolor": "white",
             "linecolor": "white",
             "minorgridcolor": "white",
             "startlinecolor": "#2a3f5f"
            },
            "baxis": {
             "endlinecolor": "#2a3f5f",
             "gridcolor": "white",
             "linecolor": "white",
             "minorgridcolor": "white",
             "startlinecolor": "#2a3f5f"
            },
            "type": "carpet"
           }
          ],
          "choropleth": [
           {
            "colorbar": {
             "outlinewidth": 0,
             "ticks": ""
            },
            "type": "choropleth"
           }
          ],
          "contour": [
           {
            "colorbar": {
             "outlinewidth": 0,
             "ticks": ""
            },
            "colorscale": [
             [
              0,
              "#0d0887"
             ],
             [
              0.1111111111111111,
              "#46039f"
             ],
             [
              0.2222222222222222,
              "#7201a8"
             ],
             [
              0.3333333333333333,
              "#9c179e"
             ],
             [
              0.4444444444444444,
              "#bd3786"
             ],
             [
              0.5555555555555556,
              "#d8576b"
             ],
             [
              0.6666666666666666,
              "#ed7953"
             ],
             [
              0.7777777777777778,
              "#fb9f3a"
             ],
             [
              0.8888888888888888,
              "#fdca26"
             ],
             [
              1,
              "#f0f921"
             ]
            ],
            "type": "contour"
           }
          ],
          "contourcarpet": [
           {
            "colorbar": {
             "outlinewidth": 0,
             "ticks": ""
            },
            "type": "contourcarpet"
           }
          ],
          "heatmap": [
           {
            "colorbar": {
             "outlinewidth": 0,
             "ticks": ""
            },
            "colorscale": [
             [
              0,
              "#0d0887"
             ],
             [
              0.1111111111111111,
              "#46039f"
             ],
             [
              0.2222222222222222,
              "#7201a8"
             ],
             [
              0.3333333333333333,
              "#9c179e"
             ],
             [
              0.4444444444444444,
              "#bd3786"
             ],
             [
              0.5555555555555556,
              "#d8576b"
             ],
             [
              0.6666666666666666,
              "#ed7953"
             ],
             [
              0.7777777777777778,
              "#fb9f3a"
             ],
             [
              0.8888888888888888,
              "#fdca26"
             ],
             [
              1,
              "#f0f921"
             ]
            ],
            "type": "heatmap"
           }
          ],
          "heatmapgl": [
           {
            "colorbar": {
             "outlinewidth": 0,
             "ticks": ""
            },
            "colorscale": [
             [
              0,
              "#0d0887"
             ],
             [
              0.1111111111111111,
              "#46039f"
             ],
             [
              0.2222222222222222,
              "#7201a8"
             ],
             [
              0.3333333333333333,
              "#9c179e"
             ],
             [
              0.4444444444444444,
              "#bd3786"
             ],
             [
              0.5555555555555556,
              "#d8576b"
             ],
             [
              0.6666666666666666,
              "#ed7953"
             ],
             [
              0.7777777777777778,
              "#fb9f3a"
             ],
             [
              0.8888888888888888,
              "#fdca26"
             ],
             [
              1,
              "#f0f921"
             ]
            ],
            "type": "heatmapgl"
           }
          ],
          "histogram": [
           {
            "marker": {
             "pattern": {
              "fillmode": "overlay",
              "size": 10,
              "solidity": 0.2
             }
            },
            "type": "histogram"
           }
          ],
          "histogram2d": [
           {
            "colorbar": {
             "outlinewidth": 0,
             "ticks": ""
            },
            "colorscale": [
             [
              0,
              "#0d0887"
             ],
             [
              0.1111111111111111,
              "#46039f"
             ],
             [
              0.2222222222222222,
              "#7201a8"
             ],
             [
              0.3333333333333333,
              "#9c179e"
             ],
             [
              0.4444444444444444,
              "#bd3786"
             ],
             [
              0.5555555555555556,
              "#d8576b"
             ],
             [
              0.6666666666666666,
              "#ed7953"
             ],
             [
              0.7777777777777778,
              "#fb9f3a"
             ],
             [
              0.8888888888888888,
              "#fdca26"
             ],
             [
              1,
              "#f0f921"
             ]
            ],
            "type": "histogram2d"
           }
          ],
          "histogram2dcontour": [
           {
            "colorbar": {
             "outlinewidth": 0,
             "ticks": ""
            },
            "colorscale": [
             [
              0,
              "#0d0887"
             ],
             [
              0.1111111111111111,
              "#46039f"
             ],
             [
              0.2222222222222222,
              "#7201a8"
             ],
             [
              0.3333333333333333,
              "#9c179e"
             ],
             [
              0.4444444444444444,
              "#bd3786"
             ],
             [
              0.5555555555555556,
              "#d8576b"
             ],
             [
              0.6666666666666666,
              "#ed7953"
             ],
             [
              0.7777777777777778,
              "#fb9f3a"
             ],
             [
              0.8888888888888888,
              "#fdca26"
             ],
             [
              1,
              "#f0f921"
             ]
            ],
            "type": "histogram2dcontour"
           }
          ],
          "mesh3d": [
           {
            "colorbar": {
             "outlinewidth": 0,
             "ticks": ""
            },
            "type": "mesh3d"
           }
          ],
          "parcoords": [
           {
            "line": {
             "colorbar": {
              "outlinewidth": 0,
              "ticks": ""
             }
            },
            "type": "parcoords"
           }
          ],
          "pie": [
           {
            "automargin": true,
            "type": "pie"
           }
          ],
          "scatter": [
           {
            "fillpattern": {
             "fillmode": "overlay",
             "size": 10,
             "solidity": 0.2
            },
            "type": "scatter"
           }
          ],
          "scatter3d": [
           {
            "line": {
             "colorbar": {
              "outlinewidth": 0,
              "ticks": ""
             }
            },
            "marker": {
             "colorbar": {
              "outlinewidth": 0,
              "ticks": ""
             }
            },
            "type": "scatter3d"
           }
          ],
          "scattercarpet": [
           {
            "marker": {
             "colorbar": {
              "outlinewidth": 0,
              "ticks": ""
             }
            },
            "type": "scattercarpet"
           }
          ],
          "scattergeo": [
           {
            "marker": {
             "colorbar": {
              "outlinewidth": 0,
              "ticks": ""
             }
            },
            "type": "scattergeo"
           }
          ],
          "scattergl": [
           {
            "marker": {
             "colorbar": {
              "outlinewidth": 0,
              "ticks": ""
             }
            },
            "type": "scattergl"
           }
          ],
          "scattermapbox": [
           {
            "marker": {
             "colorbar": {
              "outlinewidth": 0,
              "ticks": ""
             }
            },
            "type": "scattermapbox"
           }
          ],
          "scatterpolar": [
           {
            "marker": {
             "colorbar": {
              "outlinewidth": 0,
              "ticks": ""
             }
            },
            "type": "scatterpolar"
           }
          ],
          "scatterpolargl": [
           {
            "marker": {
             "colorbar": {
              "outlinewidth": 0,
              "ticks": ""
             }
            },
            "type": "scatterpolargl"
           }
          ],
          "scatterternary": [
           {
            "marker": {
             "colorbar": {
              "outlinewidth": 0,
              "ticks": ""
             }
            },
            "type": "scatterternary"
           }
          ],
          "surface": [
           {
            "colorbar": {
             "outlinewidth": 0,
             "ticks": ""
            },
            "colorscale": [
             [
              0,
              "#0d0887"
             ],
             [
              0.1111111111111111,
              "#46039f"
             ],
             [
              0.2222222222222222,
              "#7201a8"
             ],
             [
              0.3333333333333333,
              "#9c179e"
             ],
             [
              0.4444444444444444,
              "#bd3786"
             ],
             [
              0.5555555555555556,
              "#d8576b"
             ],
             [
              0.6666666666666666,
              "#ed7953"
             ],
             [
              0.7777777777777778,
              "#fb9f3a"
             ],
             [
              0.8888888888888888,
              "#fdca26"
             ],
             [
              1,
              "#f0f921"
             ]
            ],
            "type": "surface"
           }
          ],
          "table": [
           {
            "cells": {
             "fill": {
              "color": "#EBF0F8"
             },
             "line": {
              "color": "white"
             }
            },
            "header": {
             "fill": {
              "color": "#C8D4E3"
             },
             "line": {
              "color": "white"
             }
            },
            "type": "table"
           }
          ]
         },
         "layout": {
          "annotationdefaults": {
           "arrowcolor": "#2a3f5f",
           "arrowhead": 0,
           "arrowwidth": 1
          },
          "autotypenumbers": "strict",
          "coloraxis": {
           "colorbar": {
            "outlinewidth": 0,
            "ticks": ""
           }
          },
          "colorscale": {
           "diverging": [
            [
             0,
             "#8e0152"
            ],
            [
             0.1,
             "#c51b7d"
            ],
            [
             0.2,
             "#de77ae"
            ],
            [
             0.3,
             "#f1b6da"
            ],
            [
             0.4,
             "#fde0ef"
            ],
            [
             0.5,
             "#f7f7f7"
            ],
            [
             0.6,
             "#e6f5d0"
            ],
            [
             0.7,
             "#b8e186"
            ],
            [
             0.8,
             "#7fbc41"
            ],
            [
             0.9,
             "#4d9221"
            ],
            [
             1,
             "#276419"
            ]
           ],
           "sequential": [
            [
             0,
             "#0d0887"
            ],
            [
             0.1111111111111111,
             "#46039f"
            ],
            [
             0.2222222222222222,
             "#7201a8"
            ],
            [
             0.3333333333333333,
             "#9c179e"
            ],
            [
             0.4444444444444444,
             "#bd3786"
            ],
            [
             0.5555555555555556,
             "#d8576b"
            ],
            [
             0.6666666666666666,
             "#ed7953"
            ],
            [
             0.7777777777777778,
             "#fb9f3a"
            ],
            [
             0.8888888888888888,
             "#fdca26"
            ],
            [
             1,
             "#f0f921"
            ]
           ],
           "sequentialminus": [
            [
             0,
             "#0d0887"
            ],
            [
             0.1111111111111111,
             "#46039f"
            ],
            [
             0.2222222222222222,
             "#7201a8"
            ],
            [
             0.3333333333333333,
             "#9c179e"
            ],
            [
             0.4444444444444444,
             "#bd3786"
            ],
            [
             0.5555555555555556,
             "#d8576b"
            ],
            [
             0.6666666666666666,
             "#ed7953"
            ],
            [
             0.7777777777777778,
             "#fb9f3a"
            ],
            [
             0.8888888888888888,
             "#fdca26"
            ],
            [
             1,
             "#f0f921"
            ]
           ]
          },
          "colorway": [
           "#636efa",
           "#EF553B",
           "#00cc96",
           "#ab63fa",
           "#FFA15A",
           "#19d3f3",
           "#FF6692",
           "#B6E880",
           "#FF97FF",
           "#FECB52"
          ],
          "font": {
           "color": "#2a3f5f"
          },
          "geo": {
           "bgcolor": "white",
           "lakecolor": "white",
           "landcolor": "#E5ECF6",
           "showlakes": true,
           "showland": true,
           "subunitcolor": "white"
          },
          "hoverlabel": {
           "align": "left"
          },
          "hovermode": "closest",
          "mapbox": {
           "style": "light"
          },
          "paper_bgcolor": "white",
          "plot_bgcolor": "#E5ECF6",
          "polar": {
           "angularaxis": {
            "gridcolor": "white",
            "linecolor": "white",
            "ticks": ""
           },
           "bgcolor": "#E5ECF6",
           "radialaxis": {
            "gridcolor": "white",
            "linecolor": "white",
            "ticks": ""
           }
          },
          "scene": {
           "xaxis": {
            "backgroundcolor": "#E5ECF6",
            "gridcolor": "white",
            "gridwidth": 2,
            "linecolor": "white",
            "showbackground": true,
            "ticks": "",
            "zerolinecolor": "white"
           },
           "yaxis": {
            "backgroundcolor": "#E5ECF6",
            "gridcolor": "white",
            "gridwidth": 2,
            "linecolor": "white",
            "showbackground": true,
            "ticks": "",
            "zerolinecolor": "white"
           },
           "zaxis": {
            "backgroundcolor": "#E5ECF6",
            "gridcolor": "white",
            "gridwidth": 2,
            "linecolor": "white",
            "showbackground": true,
            "ticks": "",
            "zerolinecolor": "white"
           }
          },
          "shapedefaults": {
           "line": {
            "color": "#2a3f5f"
           }
          },
          "ternary": {
           "aaxis": {
            "gridcolor": "white",
            "linecolor": "white",
            "ticks": ""
           },
           "baxis": {
            "gridcolor": "white",
            "linecolor": "white",
            "ticks": ""
           },
           "bgcolor": "#E5ECF6",
           "caxis": {
            "gridcolor": "white",
            "linecolor": "white",
            "ticks": ""
           }
          },
          "title": {
           "x": 0.05
          },
          "xaxis": {
           "automargin": true,
           "gridcolor": "white",
           "linecolor": "white",
           "ticks": "",
           "title": {
            "standoff": 15
           },
           "zerolinecolor": "white",
           "zerolinewidth": 2
          },
          "yaxis": {
           "automargin": true,
           "gridcolor": "white",
           "linecolor": "white",
           "ticks": "",
           "title": {
            "standoff": 15
           },
           "zerolinecolor": "white",
           "zerolinewidth": 2
          }
         }
        },
        "title": {
         "text": "PCA of DistilBERT embeddings of rgb colors (2d)"
        },
        "xaxis": {
         "anchor": "y",
         "domain": [
          0,
          1
         ],
         "title": {
          "text": "0"
         }
        },
        "yaxis": {
         "anchor": "x",
         "domain": [
          0,
          1
         ],
         "title": {
          "text": "1"
         }
        }
       }
      }
     },
     "metadata": {},
     "output_type": "display_data"
    }
   ],
   "source": [
    "# plot 2d results with plotly\n",
    "fig = px.scatter(\n",
    "    rgb_pca3d, x=0, y=1, color=rgb_colors,\n",
    "    labels={'color': 'rgb color'},\n",
    "    title='PCA of DistilBERT embeddings of rgb colors (2d)'\n",
    ")\n",
    "\n",
    "# hide legend\n",
    "fig.update_layout(showlegend=False)\n",
    "fig.show()"
   ]
  },
  {
   "cell_type": "code",
   "execution_count": 18,
   "metadata": {},
   "outputs": [
    {
     "data": {
      "application/vnd.plotly.v1+json": {
       "config": {
        "plotlyServerURL": "https://plot.ly"
       },
       "data": [
        {
         "hovertemplate": "rgb color=rgb(188,103,238)<br>0=%{x}<br>1=%{y}<br>2=%{z}<extra></extra>",
         "legendgroup": "rgb(188,103,238)",
         "marker": {
          "color": "#636efa",
          "symbol": "circle"
         },
         "mode": "markers",
         "name": "rgb(188,103,238)",
         "scene": "scene",
         "showlegend": true,
         "type": "scatter3d",
         "x": [
          -0.5679756568651595
         ],
         "y": [
          -0.47602445636599683
         ],
         "z": [
          0.2546782499849498
         ]
        },
        {
         "hovertemplate": "rgb color=rgb(97,81,54)<br>0=%{x}<br>1=%{y}<br>2=%{z}<extra></extra>",
         "legendgroup": "rgb(97,81,54)",
         "marker": {
          "color": "#EF553B",
          "symbol": "circle"
         },
         "mode": "markers",
         "name": "rgb(97,81,54)",
         "scene": "scene",
         "showlegend": true,
         "type": "scatter3d",
         "x": [
          0.3899957484340724
         ],
         "y": [
          1.1305419536086236
         ],
         "z": [
          0.4355779426095121
         ]
        },
        {
         "hovertemplate": "rgb color=rgb(252,15,162)<br>0=%{x}<br>1=%{y}<br>2=%{z}<extra></extra>",
         "legendgroup": "rgb(252,15,162)",
         "marker": {
          "color": "#00cc96",
          "symbol": "circle"
         },
         "mode": "markers",
         "name": "rgb(252,15,162)",
         "scene": "scene",
         "showlegend": true,
         "type": "scatter3d",
         "x": [
          -0.1699100171736119
         ],
         "y": [
          -0.5508325062096473
         ],
         "z": [
          -0.14344755441753734
         ]
        },
        {
         "hovertemplate": "rgb color=rgb(84,85,58)<br>0=%{x}<br>1=%{y}<br>2=%{z}<extra></extra>",
         "legendgroup": "rgb(84,85,58)",
         "marker": {
          "color": "#ab63fa",
          "symbol": "circle"
         },
         "mode": "markers",
         "name": "rgb(84,85,58)",
         "scene": "scene",
         "showlegend": true,
         "type": "scatter3d",
         "x": [
          0.8943557866789598
         ],
         "y": [
          1.4590428906215578
         ],
         "z": [
          0.26329394388588667
         ]
        },
        {
         "hovertemplate": "rgb color=rgb(14,216,69)<br>0=%{x}<br>1=%{y}<br>2=%{z}<extra></extra>",
         "legendgroup": "rgb(14,216,69)",
         "marker": {
          "color": "#FFA15A",
          "symbol": "circle"
         },
         "mode": "markers",
         "name": "rgb(14,216,69)",
         "scene": "scene",
         "showlegend": true,
         "type": "scatter3d",
         "x": [
          -0.47725882843596756
         ],
         "y": [
          0.5771063024318819
         ],
         "z": [
          0.6802964992175516
         ]
        },
        {
         "hovertemplate": "rgb color=rgb(130,60,47)<br>0=%{x}<br>1=%{y}<br>2=%{z}<extra></extra>",
         "legendgroup": "rgb(130,60,47)",
         "marker": {
          "color": "#19d3f3",
          "symbol": "circle"
         },
         "mode": "markers",
         "name": "rgb(130,60,47)",
         "scene": "scene",
         "showlegend": true,
         "type": "scatter3d",
         "x": [
          1.0312891517842873
         ],
         "y": [
          -0.007416166079983057
         ],
         "z": [
          -0.6046086166517248
         ]
        },
        {
         "hovertemplate": "rgb color=rgb(176,71,183)<br>0=%{x}<br>1=%{y}<br>2=%{z}<extra></extra>",
         "legendgroup": "rgb(176,71,183)",
         "marker": {
          "color": "#FF6692",
          "symbol": "circle"
         },
         "mode": "markers",
         "name": "rgb(176,71,183)",
         "scene": "scene",
         "showlegend": true,
         "type": "scatter3d",
         "x": [
          -0.1858700889296593
         ],
         "y": [
          -0.16722884273192182
         ],
         "z": [
          -0.022858634180840668
         ]
        },
        {
         "hovertemplate": "rgb color=rgb(254,115,20)<br>0=%{x}<br>1=%{y}<br>2=%{z}<extra></extra>",
         "legendgroup": "rgb(254,115,20)",
         "marker": {
          "color": "#B6E880",
          "symbol": "circle"
         },
         "mode": "markers",
         "name": "rgb(254,115,20)",
         "scene": "scene",
         "showlegend": true,
         "type": "scatter3d",
         "x": [
          1.0028192022155435
         ],
         "y": [
          -0.3907877615956607
         ],
         "z": [
          -0.2488139072977831
         ]
        },
        {
         "hovertemplate": "rgb color=rgb(98,64,237)<br>0=%{x}<br>1=%{y}<br>2=%{z}<extra></extra>",
         "legendgroup": "rgb(98,64,237)",
         "marker": {
          "color": "#FF97FF",
          "symbol": "circle"
         },
         "mode": "markers",
         "name": "rgb(98,64,237)",
         "scene": "scene",
         "showlegend": true,
         "type": "scatter3d",
         "x": [
          0.6773161858254036
         ],
         "y": [
          -0.22681526067070165
         ],
         "z": [
          1.194324585527105
         ]
        },
        {
         "hovertemplate": "rgb color=rgb(40,156,255)<br>0=%{x}<br>1=%{y}<br>2=%{z}<extra></extra>",
         "legendgroup": "rgb(40,156,255)",
         "marker": {
          "color": "#FECB52",
          "symbol": "circle"
         },
         "mode": "markers",
         "name": "rgb(40,156,255)",
         "scene": "scene",
         "showlegend": true,
         "type": "scatter3d",
         "x": [
          0.7619519476814264
         ],
         "y": [
          -0.7813784664570037
         ],
         "z": [
          0.683748424207924
         ]
        },
        {
         "hovertemplate": "rgb color=rgb(126,203,31)<br>0=%{x}<br>1=%{y}<br>2=%{z}<extra></extra>",
         "legendgroup": "rgb(126,203,31)",
         "marker": {
          "color": "#636efa",
          "symbol": "circle"
         },
         "mode": "markers",
         "name": "rgb(126,203,31)",
         "scene": "scene",
         "showlegend": true,
         "type": "scatter3d",
         "x": [
          -0.5800052176271813
         ],
         "y": [
          0.2991951381966321
         ],
         "z": [
          -0.8968258971564909
         ]
        },
        {
         "hovertemplate": "rgb color=rgb(121,30,28)<br>0=%{x}<br>1=%{y}<br>2=%{z}<extra></extra>",
         "legendgroup": "rgb(121,30,28)",
         "marker": {
          "color": "#EF553B",
          "symbol": "circle"
         },
         "mode": "markers",
         "name": "rgb(121,30,28)",
         "scene": "scene",
         "showlegend": true,
         "type": "scatter3d",
         "x": [
          0.7500364172694377
         ],
         "y": [
          0.6151624769074149
         ],
         "z": [
          -0.9936281948916722
         ]
        },
        {
         "hovertemplate": "rgb color=rgb(240,33,189)<br>0=%{x}<br>1=%{y}<br>2=%{z}<extra></extra>",
         "legendgroup": "rgb(240,33,189)",
         "marker": {
          "color": "#00cc96",
          "symbol": "circle"
         },
         "mode": "markers",
         "name": "rgb(240,33,189)",
         "scene": "scene",
         "showlegend": true,
         "type": "scatter3d",
         "x": [
          0.052889131191018686
         ],
         "y": [
          -0.5185550981062627
         ],
         "z": [
          0.2797240565287925
         ]
        },
        {
         "hovertemplate": "rgb color=rgb(150,8,42)<br>0=%{x}<br>1=%{y}<br>2=%{z}<extra></extra>",
         "legendgroup": "rgb(150,8,42)",
         "marker": {
          "color": "#ab63fa",
          "symbol": "circle"
         },
         "mode": "markers",
         "name": "rgb(150,8,42)",
         "scene": "scene",
         "showlegend": true,
         "type": "scatter3d",
         "x": [
          1.1836565090683586
         ],
         "y": [
          0.13176229925653596
         ],
         "z": [
          -0.16075095081144777
         ]
        },
        {
         "hovertemplate": "rgb color=rgb(47,160,19)<br>0=%{x}<br>1=%{y}<br>2=%{z}<extra></extra>",
         "legendgroup": "rgb(47,160,19)",
         "marker": {
          "color": "#FFA15A",
          "symbol": "circle"
         },
         "mode": "markers",
         "name": "rgb(47,160,19)",
         "scene": "scene",
         "showlegend": true,
         "type": "scatter3d",
         "x": [
          0.3870210600193505
         ],
         "y": [
          -0.06615396420554959
         ],
         "z": [
          -0.7323181333705173
         ]
        },
        {
         "hovertemplate": "rgb color=rgb(251,42,60)<br>0=%{x}<br>1=%{y}<br>2=%{z}<extra></extra>",
         "legendgroup": "rgb(251,42,60)",
         "marker": {
          "color": "#19d3f3",
          "symbol": "circle"
         },
         "mode": "markers",
         "name": "rgb(251,42,60)",
         "scene": "scene",
         "showlegend": true,
         "type": "scatter3d",
         "x": [
          0.4387438279429576
         ],
         "y": [
          0.039089098120633936
         ],
         "z": [
          -0.056742631965471586
         ]
        },
        {
         "hovertemplate": "rgb color=rgb(192,90,121)<br>0=%{x}<br>1=%{y}<br>2=%{z}<extra></extra>",
         "legendgroup": "rgb(192,90,121)",
         "marker": {
          "color": "#FF6692",
          "symbol": "circle"
         },
         "mode": "markers",
         "name": "rgb(192,90,121)",
         "scene": "scene",
         "showlegend": true,
         "type": "scatter3d",
         "x": [
          0.9120396613099712
         ],
         "y": [
          -0.40256335708546087
         ],
         "z": [
          -0.14236925833627803
         ]
        },
        {
         "hovertemplate": "rgb color=rgb(55,109,123)<br>0=%{x}<br>1=%{y}<br>2=%{z}<extra></extra>",
         "legendgroup": "rgb(55,109,123)",
         "marker": {
          "color": "#B6E880",
          "symbol": "circle"
         },
         "mode": "markers",
         "name": "rgb(55,109,123)",
         "scene": "scene",
         "showlegend": true,
         "type": "scatter3d",
         "x": [
          -0.39680714088398644
         ],
         "y": [
          0.7841236255287308
         ],
         "z": [
          -0.4383512721457295
         ]
        },
        {
         "hovertemplate": "rgb color=rgb(87,210,111)<br>0=%{x}<br>1=%{y}<br>2=%{z}<extra></extra>",
         "legendgroup": "rgb(87,210,111)",
         "marker": {
          "color": "#FF97FF",
          "symbol": "circle"
         },
         "mode": "markers",
         "name": "rgb(87,210,111)",
         "scene": "scene",
         "showlegend": true,
         "type": "scatter3d",
         "x": [
          -0.34648030748974473
         ],
         "y": [
          0.1180240873871305
         ],
         "z": [
          0.5836527663554375
         ]
        },
        {
         "hovertemplate": "rgb color=rgb(142,245,129)<br>0=%{x}<br>1=%{y}<br>2=%{z}<extra></extra>",
         "legendgroup": "rgb(142,245,129)",
         "marker": {
          "color": "#FECB52",
          "symbol": "circle"
         },
         "mode": "markers",
         "name": "rgb(142,245,129)",
         "scene": "scene",
         "showlegend": true,
         "type": "scatter3d",
         "x": [
          -0.5460459600381224
         ],
         "y": [
          -0.32192029131006555
         ],
         "z": [
          -0.33553100571236927
         ]
        },
        {
         "hovertemplate": "rgb color=rgb(186,165,150)<br>0=%{x}<br>1=%{y}<br>2=%{z}<extra></extra>",
         "legendgroup": "rgb(186,165,150)",
         "marker": {
          "color": "#636efa",
          "symbol": "circle"
         },
         "mode": "markers",
         "name": "rgb(186,165,150)",
         "scene": "scene",
         "showlegend": true,
         "type": "scatter3d",
         "x": [
          0.206131491587443
         ],
         "y": [
          -1.0131352745628097
         ],
         "z": [
          -0.33028730362375386
         ]
        },
        {
         "hovertemplate": "rgb color=rgb(249,160,157)<br>0=%{x}<br>1=%{y}<br>2=%{z}<extra></extra>",
         "legendgroup": "rgb(249,160,157)",
         "marker": {
          "color": "#EF553B",
          "symbol": "circle"
         },
         "mode": "markers",
         "name": "rgb(249,160,157)",
         "scene": "scene",
         "showlegend": true,
         "type": "scatter3d",
         "x": [
          0.09282961070129143
         ],
         "y": [
          -1.0509017917828212
         ],
         "z": [
          -0.6841137526249523
         ]
        },
        {
         "hovertemplate": "rgb color=rgb(209,241,224)<br>0=%{x}<br>1=%{y}<br>2=%{z}<extra></extra>",
         "legendgroup": "rgb(209,241,224)",
         "marker": {
          "color": "#00cc96",
          "symbol": "circle"
         },
         "mode": "markers",
         "name": "rgb(209,241,224)",
         "scene": "scene",
         "showlegend": true,
         "type": "scatter3d",
         "x": [
          -0.5526934205969146
         ],
         "y": [
          -0.822106027230609
         ],
         "z": [
          0.48699143170365444
         ]
        },
        {
         "hovertemplate": "rgb color=rgb(21,137,107)<br>0=%{x}<br>1=%{y}<br>2=%{z}<extra></extra>",
         "legendgroup": "rgb(21,137,107)",
         "marker": {
          "color": "#ab63fa",
          "symbol": "circle"
         },
         "mode": "markers",
         "name": "rgb(21,137,107)",
         "scene": "scene",
         "showlegend": true,
         "type": "scatter3d",
         "x": [
          -0.619840284301451
         ],
         "y": [
          0.6134081468966438
         ],
         "z": [
          0.45385804995769197
         ]
        },
        {
         "hovertemplate": "rgb color=rgb(33,189,179)<br>0=%{x}<br>1=%{y}<br>2=%{z}<extra></extra>",
         "legendgroup": "rgb(33,189,179)",
         "marker": {
          "color": "#FFA15A",
          "symbol": "circle"
         },
         "mode": "markers",
         "name": "rgb(33,189,179)",
         "scene": "scene",
         "showlegend": true,
         "type": "scatter3d",
         "x": [
          -1.4317342512539257
         ],
         "y": [
          0.3921451036831893
         ],
         "z": [
          0.06884266378819279
         ]
        },
        {
         "hovertemplate": "rgb color=rgb(101,235,204)<br>0=%{x}<br>1=%{y}<br>2=%{z}<extra></extra>",
         "legendgroup": "rgb(101,235,204)",
         "marker": {
          "color": "#19d3f3",
          "symbol": "circle"
         },
         "mode": "markers",
         "name": "rgb(101,235,204)",
         "scene": "scene",
         "showlegend": true,
         "type": "scatter3d",
         "x": [
          -0.6041242981917291
         ],
         "y": [
          -0.5249891168607907
         ],
         "z": [
          0.36158004099389085
         ]
        },
        {
         "hovertemplate": "rgb color=rgb(177,113,97)<br>0=%{x}<br>1=%{y}<br>2=%{z}<extra></extra>",
         "legendgroup": "rgb(177,113,97)",
         "marker": {
          "color": "#FF6692",
          "symbol": "circle"
         },
         "mode": "markers",
         "name": "rgb(177,113,97)",
         "scene": "scene",
         "showlegend": true,
         "type": "scatter3d",
         "x": [
          -0.23862061031454143
         ],
         "y": [
          0.3322785121639614
         ],
         "z": [
          0.008862474687478663
         ]
        },
        {
         "hovertemplate": "rgb color=rgb(0,202,112)<br>0=%{x}<br>1=%{y}<br>2=%{z}<extra></extra>",
         "legendgroup": "rgb(0,202,112)",
         "marker": {
          "color": "#B6E880",
          "symbol": "circle"
         },
         "mode": "markers",
         "name": "rgb(0,202,112)",
         "scene": "scene",
         "showlegend": true,
         "type": "scatter3d",
         "x": [
          0.7753860425540153
         ],
         "y": [
          -0.6470664400463246
         ],
         "z": [
          0.7963310421503709
         ]
        },
        {
         "hovertemplate": "rgb color=rgb(60,139,204)<br>0=%{x}<br>1=%{y}<br>2=%{z}<extra></extra>",
         "legendgroup": "rgb(60,139,204)",
         "marker": {
          "color": "#FF97FF",
          "symbol": "circle"
         },
         "mode": "markers",
         "name": "rgb(60,139,204)",
         "scene": "scene",
         "showlegend": true,
         "type": "scatter3d",
         "x": [
          0.01589989873016489
         ],
         "y": [
          -0.4522570273383988
         ],
         "z": [
          0.24524741812823747
         ]
        },
        {
         "hovertemplate": "rgb color=rgb(201,172,176)<br>0=%{x}<br>1=%{y}<br>2=%{z}<extra></extra>",
         "legendgroup": "rgb(201,172,176)",
         "marker": {
          "color": "#FECB52",
          "symbol": "circle"
         },
         "mode": "markers",
         "name": "rgb(201,172,176)",
         "scene": "scene",
         "showlegend": true,
         "type": "scatter3d",
         "x": [
          -0.3789219743527715
         ],
         "y": [
          -0.7394951815240502
         ],
         "z": [
          -0.05578247839303792
         ]
        },
        {
         "hovertemplate": "rgb color=rgb(192,192,156)<br>0=%{x}<br>1=%{y}<br>2=%{z}<extra></extra>",
         "legendgroup": "rgb(192,192,156)",
         "marker": {
          "color": "#636efa",
          "symbol": "circle"
         },
         "mode": "markers",
         "name": "rgb(192,192,156)",
         "scene": "scene",
         "showlegend": true,
         "type": "scatter3d",
         "x": [
          0.8541951565275618
         ],
         "y": [
          -1.229569082172367
         ],
         "z": [
          -0.11732132558956339
         ]
        },
        {
         "hovertemplate": "rgb color=rgb(244,168,222)<br>0=%{x}<br>1=%{y}<br>2=%{z}<extra></extra>",
         "legendgroup": "rgb(244,168,222)",
         "marker": {
          "color": "#EF553B",
          "symbol": "circle"
         },
         "mode": "markers",
         "name": "rgb(244,168,222)",
         "scene": "scene",
         "showlegend": true,
         "type": "scatter3d",
         "x": [
          -0.5604154058036126
         ],
         "y": [
          -0.762084347479554
         ],
         "z": [
          0.07676861522298219
         ]
        },
        {
         "hovertemplate": "rgb color=rgb(200,213,123)<br>0=%{x}<br>1=%{y}<br>2=%{z}<extra></extra>",
         "legendgroup": "rgb(200,213,123)",
         "marker": {
          "color": "#00cc96",
          "symbol": "circle"
         },
         "mode": "markers",
         "name": "rgb(200,213,123)",
         "scene": "scene",
         "showlegend": true,
         "type": "scatter3d",
         "x": [
          -0.018495663873542064
         ],
         "y": [
          -0.5611905484657219
         ],
         "z": [
          0.1569976408937796
         ]
        },
        {
         "hovertemplate": "rgb color=rgb(192,37,81)<br>0=%{x}<br>1=%{y}<br>2=%{z}<extra></extra>",
         "legendgroup": "rgb(192,37,81)",
         "marker": {
          "color": "#ab63fa",
          "symbol": "circle"
         },
         "mode": "markers",
         "name": "rgb(192,37,81)",
         "scene": "scene",
         "showlegend": true,
         "type": "scatter3d",
         "x": [
          0.43732380301111584
         ],
         "y": [
          -0.05719375740935017
         ],
         "z": [
          0.17027689812476834
         ]
        },
        {
         "hovertemplate": "rgb color=rgb(234,240,134)<br>0=%{x}<br>1=%{y}<br>2=%{z}<extra></extra>",
         "legendgroup": "rgb(234,240,134)",
         "marker": {
          "color": "#FFA15A",
          "symbol": "circle"
         },
         "mode": "markers",
         "name": "rgb(234,240,134)",
         "scene": "scene",
         "showlegend": true,
         "type": "scatter3d",
         "x": [
          -0.49624505013354164
         ],
         "y": [
          -0.5762034518921914
         ],
         "z": [
          0.38975862980751025
         ]
        },
        {
         "hovertemplate": "rgb color=rgb(223,133,22)<br>0=%{x}<br>1=%{y}<br>2=%{z}<extra></extra>",
         "legendgroup": "rgb(223,133,22)",
         "marker": {
          "color": "#19d3f3",
          "symbol": "circle"
         },
         "mode": "markers",
         "name": "rgb(223,133,22)",
         "scene": "scene",
         "showlegend": true,
         "type": "scatter3d",
         "x": [
          -0.582839471056298
         ],
         "y": [
          0.3518288946963199
         ],
         "z": [
          -0.5322633904869442
         ]
        },
        {
         "hovertemplate": "rgb color=rgb(141,4,108)<br>0=%{x}<br>1=%{y}<br>2=%{z}<extra></extra>",
         "legendgroup": "rgb(141,4,108)",
         "marker": {
          "color": "#FF6692",
          "symbol": "circle"
         },
         "mode": "markers",
         "name": "rgb(141,4,108)",
         "scene": "scene",
         "showlegend": true,
         "type": "scatter3d",
         "x": [
          0.29225139887765306
         ],
         "y": [
          0.23937255157414775
         ],
         "z": [
          0.08911459549946892
         ]
        },
        {
         "hovertemplate": "rgb color=rgb(131,213,43)<br>0=%{x}<br>1=%{y}<br>2=%{z}<extra></extra>",
         "legendgroup": "rgb(131,213,43)",
         "marker": {
          "color": "#B6E880",
          "symbol": "circle"
         },
         "mode": "markers",
         "name": "rgb(131,213,43)",
         "scene": "scene",
         "showlegend": true,
         "type": "scatter3d",
         "x": [
          -0.5931432443554054
         ],
         "y": [
          0.39493827807890397
         ],
         "z": [
          -0.15562440066434646
         ]
        },
        {
         "hovertemplate": "rgb color=rgb(68,62,57)<br>0=%{x}<br>1=%{y}<br>2=%{z}<extra></extra>",
         "legendgroup": "rgb(68,62,57)",
         "marker": {
          "color": "#FF97FF",
          "symbol": "circle"
         },
         "mode": "markers",
         "name": "rgb(68,62,57)",
         "scene": "scene",
         "showlegend": true,
         "type": "scatter3d",
         "x": [
          0.9675520515897922
         ],
         "y": [
          0.7471681556468646
         ],
         "z": [
          0.16856912109587757
         ]
        },
        {
         "hovertemplate": "rgb color=rgb(108,67,56)<br>0=%{x}<br>1=%{y}<br>2=%{z}<extra></extra>",
         "legendgroup": "rgb(108,67,56)",
         "marker": {
          "color": "#FECB52",
          "symbol": "circle"
         },
         "mode": "markers",
         "name": "rgb(108,67,56)",
         "scene": "scene",
         "showlegend": true,
         "type": "scatter3d",
         "x": [
          1.0881387252190549
         ],
         "y": [
          0.43428809876198926
         ],
         "z": [
          0.42145226623444126
         ]
        },
        {
         "hovertemplate": "rgb color=rgb(16,96,145)<br>0=%{x}<br>1=%{y}<br>2=%{z}<extra></extra>",
         "legendgroup": "rgb(16,96,145)",
         "marker": {
          "color": "#636efa",
          "symbol": "circle"
         },
         "mode": "markers",
         "name": "rgb(16,96,145)",
         "scene": "scene",
         "showlegend": true,
         "type": "scatter3d",
         "x": [
          0.3881896341330389
         ],
         "y": [
          0.10907781355322047
         ],
         "z": [
          0.7793034997395802
         ]
        },
        {
         "hovertemplate": "rgb color=rgb(149,121,63)<br>0=%{x}<br>1=%{y}<br>2=%{z}<extra></extra>",
         "legendgroup": "rgb(149,121,63)",
         "marker": {
          "color": "#EF553B",
          "symbol": "circle"
         },
         "mode": "markers",
         "name": "rgb(149,121,63)",
         "scene": "scene",
         "showlegend": true,
         "type": "scatter3d",
         "x": [
          0.022797559306526976
         ],
         "y": [
          0.22153310927604325
         ],
         "z": [
          -0.6604278318339497
         ]
        },
        {
         "hovertemplate": "rgb color=rgb(111,238,142)<br>0=%{x}<br>1=%{y}<br>2=%{z}<extra></extra>",
         "legendgroup": "rgb(111,238,142)",
         "marker": {
          "color": "#00cc96",
          "symbol": "circle"
         },
         "mode": "markers",
         "name": "rgb(111,238,142)",
         "scene": "scene",
         "showlegend": true,
         "type": "scatter3d",
         "x": [
          -0.7548081769090882
         ],
         "y": [
          -0.1532172467390341
         ],
         "z": [
          0.12805515885916507
         ]
        },
        {
         "hovertemplate": "rgb color=rgb(76,33,241)<br>0=%{x}<br>1=%{y}<br>2=%{z}<extra></extra>",
         "legendgroup": "rgb(76,33,241)",
         "marker": {
          "color": "#ab63fa",
          "symbol": "circle"
         },
         "mode": "markers",
         "name": "rgb(76,33,241)",
         "scene": "scene",
         "showlegend": true,
         "type": "scatter3d",
         "x": [
          -0.08122928121246059
         ],
         "y": [
          0.1636084877833982
         ],
         "z": [
          0.2198150967210191
         ]
        },
        {
         "hovertemplate": "rgb color=rgb(169,100,217)<br>0=%{x}<br>1=%{y}<br>2=%{z}<extra></extra>",
         "legendgroup": "rgb(169,100,217)",
         "marker": {
          "color": "#FFA15A",
          "symbol": "circle"
         },
         "mode": "markers",
         "name": "rgb(169,100,217)",
         "scene": "scene",
         "showlegend": true,
         "type": "scatter3d",
         "x": [
          0.028077176783416116
         ],
         "y": [
          -0.43681363792544076
         ],
         "z": [
          0.20010137327890196
         ]
        },
        {
         "hovertemplate": "rgb color=rgb(38,33,179)<br>0=%{x}<br>1=%{y}<br>2=%{z}<extra></extra>",
         "legendgroup": "rgb(38,33,179)",
         "marker": {
          "color": "#19d3f3",
          "symbol": "circle"
         },
         "mode": "markers",
         "name": "rgb(38,33,179)",
         "scene": "scene",
         "showlegend": true,
         "type": "scatter3d",
         "x": [
          -0.4168863837298723
         ],
         "y": [
          0.6070743781897044
         ],
         "z": [
          -0.02291047622031165
         ]
        },
        {
         "hovertemplate": "rgb color=rgb(240,131,30)<br>0=%{x}<br>1=%{y}<br>2=%{z}<extra></extra>",
         "legendgroup": "rgb(240,131,30)",
         "marker": {
          "color": "#FF6692",
          "symbol": "circle"
         },
         "mode": "markers",
         "name": "rgb(240,131,30)",
         "scene": "scene",
         "showlegend": true,
         "type": "scatter3d",
         "x": [
          0.9477340014061365
         ],
         "y": [
          -0.5527679239047946
         ],
         "z": [
          -0.3330893095670157
         ]
        },
        {
         "hovertemplate": "rgb color=rgb(219,104,187)<br>0=%{x}<br>1=%{y}<br>2=%{z}<extra></extra>",
         "legendgroup": "rgb(219,104,187)",
         "marker": {
          "color": "#B6E880",
          "symbol": "circle"
         },
         "mode": "markers",
         "name": "rgb(219,104,187)",
         "scene": "scene",
         "showlegend": true,
         "type": "scatter3d",
         "x": [
          -0.2846133137525874
         ],
         "y": [
          -0.3820202556716948
         ],
         "z": [
          -0.04184304682723233
         ]
        },
        {
         "hovertemplate": "rgb color=rgb(229,197,107)<br>0=%{x}<br>1=%{y}<br>2=%{z}<extra></extra>",
         "legendgroup": "rgb(229,197,107)",
         "marker": {
          "color": "#FF97FF",
          "symbol": "circle"
         },
         "mode": "markers",
         "name": "rgb(229,197,107)",
         "scene": "scene",
         "showlegend": true,
         "type": "scatter3d",
         "x": [
          -1.0611958396980377
         ],
         "y": [
          -0.07771759233072933
         ],
         "z": [
          -0.1977274741705161
         ]
        },
        {
         "hovertemplate": "rgb color=rgb(107,42,232)<br>0=%{x}<br>1=%{y}<br>2=%{z}<extra></extra>",
         "legendgroup": "rgb(107,42,232)",
         "marker": {
          "color": "#FECB52",
          "symbol": "circle"
         },
         "mode": "markers",
         "name": "rgb(107,42,232)",
         "scene": "scene",
         "showlegend": true,
         "type": "scatter3d",
         "x": [
          0.14955760052395795
         ],
         "y": [
          -0.15049192723520308
         ],
         "z": [
          0.5989916083975159
         ]
        },
        {
         "hovertemplate": "rgb color=rgb(134,85,163)<br>0=%{x}<br>1=%{y}<br>2=%{z}<extra></extra>",
         "legendgroup": "rgb(134,85,163)",
         "marker": {
          "color": "#636efa",
          "symbol": "circle"
         },
         "mode": "markers",
         "name": "rgb(134,85,163)",
         "scene": "scene",
         "showlegend": true,
         "type": "scatter3d",
         "x": [
          -0.4256334746093644
         ],
         "y": [
          0.5897629085369989
         ],
         "z": [
          -0.23353383469000455
         ]
        },
        {
         "hovertemplate": "rgb color=rgb(196,162,157)<br>0=%{x}<br>1=%{y}<br>2=%{z}<extra></extra>",
         "legendgroup": "rgb(196,162,157)",
         "marker": {
          "color": "#EF553B",
          "symbol": "circle"
         },
         "mode": "markers",
         "name": "rgb(196,162,157)",
         "scene": "scene",
         "showlegend": true,
         "type": "scatter3d",
         "x": [
          -0.7905787158403635
         ],
         "y": [
          -0.7452720944564135
         ],
         "z": [
          -1.0600321247284967
         ]
        },
        {
         "hovertemplate": "rgb color=rgb(171,62,119)<br>0=%{x}<br>1=%{y}<br>2=%{z}<extra></extra>",
         "legendgroup": "rgb(171,62,119)",
         "marker": {
          "color": "#00cc96",
          "symbol": "circle"
         },
         "mode": "markers",
         "name": "rgb(171,62,119)",
         "scene": "scene",
         "showlegend": true,
         "type": "scatter3d",
         "x": [
          -0.40296820384572735
         ],
         "y": [
          0.11868765876745616
         ],
         "z": [
          -0.2143446911961326
         ]
        },
        {
         "hovertemplate": "rgb color=rgb(110,50,193)<br>0=%{x}<br>1=%{y}<br>2=%{z}<extra></extra>",
         "legendgroup": "rgb(110,50,193)",
         "marker": {
          "color": "#ab63fa",
          "symbol": "circle"
         },
         "mode": "markers",
         "name": "rgb(110,50,193)",
         "scene": "scene",
         "showlegend": true,
         "type": "scatter3d",
         "x": [
          0.6580969603402673
         ],
         "y": [
          -0.41583105929232483
         ],
         "z": [
          -0.3677239091346248
         ]
        },
        {
         "hovertemplate": "rgb color=rgb(165,241,54)<br>0=%{x}<br>1=%{y}<br>2=%{z}<extra></extra>",
         "legendgroup": "rgb(165,241,54)",
         "marker": {
          "color": "#FFA15A",
          "symbol": "circle"
         },
         "mode": "markers",
         "name": "rgb(165,241,54)",
         "scene": "scene",
         "showlegend": true,
         "type": "scatter3d",
         "x": [
          -0.2597382058223196
         ],
         "y": [
          -0.21793803733897768
         ],
         "z": [
          -0.25782523911892924
         ]
        },
        {
         "hovertemplate": "rgb color=rgb(121,210,47)<br>0=%{x}<br>1=%{y}<br>2=%{z}<extra></extra>",
         "legendgroup": "rgb(121,210,47)",
         "marker": {
          "color": "#19d3f3",
          "symbol": "circle"
         },
         "mode": "markers",
         "name": "rgb(121,210,47)",
         "scene": "scene",
         "showlegend": true,
         "type": "scatter3d",
         "x": [
          0.26359945990435757
         ],
         "y": [
          -0.30499835240153417
         ],
         "z": [
          -0.32569347305290763
         ]
        },
        {
         "hovertemplate": "rgb color=rgb(153,76,23)<br>0=%{x}<br>1=%{y}<br>2=%{z}<extra></extra>",
         "legendgroup": "rgb(153,76,23)",
         "marker": {
          "color": "#FF6692",
          "symbol": "circle"
         },
         "mode": "markers",
         "name": "rgb(153,76,23)",
         "scene": "scene",
         "showlegend": true,
         "type": "scatter3d",
         "x": [
          -0.025602991823024345
         ],
         "y": [
          0.6621489372980608
         ],
         "z": [
          -0.7093785945643356
         ]
        },
        {
         "hovertemplate": "rgb color=rgb(93,131,47)<br>0=%{x}<br>1=%{y}<br>2=%{z}<extra></extra>",
         "legendgroup": "rgb(93,131,47)",
         "marker": {
          "color": "#B6E880",
          "symbol": "circle"
         },
         "mode": "markers",
         "name": "rgb(93,131,47)",
         "scene": "scene",
         "showlegend": true,
         "type": "scatter3d",
         "x": [
          -0.06712373906213553
         ],
         "y": [
          0.8694856200264401
         ],
         "z": [
          -0.1456959466158914
         ]
        },
        {
         "hovertemplate": "rgb color=rgb(67,27,213)<br>0=%{x}<br>1=%{y}<br>2=%{z}<extra></extra>",
         "legendgroup": "rgb(67,27,213)",
         "marker": {
          "color": "#FF97FF",
          "symbol": "circle"
         },
         "mode": "markers",
         "name": "rgb(67,27,213)",
         "scene": "scene",
         "showlegend": true,
         "type": "scatter3d",
         "x": [
          -0.6481708530902343
         ],
         "y": [
          0.4357359770981367
         ],
         "z": [
          0.41094661745511374
         ]
        },
        {
         "hovertemplate": "rgb color=rgb(194,67,93)<br>0=%{x}<br>1=%{y}<br>2=%{z}<extra></extra>",
         "legendgroup": "rgb(194,67,93)",
         "marker": {
          "color": "#FECB52",
          "symbol": "circle"
         },
         "mode": "markers",
         "name": "rgb(194,67,93)",
         "scene": "scene",
         "showlegend": true,
         "type": "scatter3d",
         "x": [
          -0.36796439158834154
         ],
         "y": [
          0.6143201070110419
         ],
         "z": [
          0.16757042831409047
         ]
        },
        {
         "hovertemplate": "rgb color=rgb(232,97,13)<br>0=%{x}<br>1=%{y}<br>2=%{z}<extra></extra>",
         "legendgroup": "rgb(232,97,13)",
         "marker": {
          "color": "#636efa",
          "symbol": "circle"
         },
         "mode": "markers",
         "name": "rgb(232,97,13)",
         "scene": "scene",
         "showlegend": true,
         "type": "scatter3d",
         "x": [
          0.44507415264731165
         ],
         "y": [
          0.3308443554178787
         ],
         "z": [
          0.1570802055093712
         ]
        },
        {
         "hovertemplate": "rgb color=rgb(60,113,122)<br>0=%{x}<br>1=%{y}<br>2=%{z}<extra></extra>",
         "legendgroup": "rgb(60,113,122)",
         "marker": {
          "color": "#EF553B",
          "symbol": "circle"
         },
         "mode": "markers",
         "name": "rgb(60,113,122)",
         "scene": "scene",
         "showlegend": true,
         "type": "scatter3d",
         "x": [
          0.2399316659449159
         ],
         "y": [
          -0.008546901753841247
         ],
         "z": [
          -0.05617223274098674
         ]
        },
        {
         "hovertemplate": "rgb color=rgb(88,112,214)<br>0=%{x}<br>1=%{y}<br>2=%{z}<extra></extra>",
         "legendgroup": "rgb(88,112,214)",
         "marker": {
          "color": "#00cc96",
          "symbol": "circle"
         },
         "mode": "markers",
         "name": "rgb(88,112,214)",
         "scene": "scene",
         "showlegend": true,
         "type": "scatter3d",
         "x": [
          -0.5602875049795633
         ],
         "y": [
          0.3473286162007104
         ],
         "z": [
          0.6577023078242588
         ]
        },
        {
         "hovertemplate": "rgb color=rgb(54,193,89)<br>0=%{x}<br>1=%{y}<br>2=%{z}<extra></extra>",
         "legendgroup": "rgb(54,193,89)",
         "marker": {
          "color": "#ab63fa",
          "symbol": "circle"
         },
         "mode": "markers",
         "name": "rgb(54,193,89)",
         "scene": "scene",
         "showlegend": true,
         "type": "scatter3d",
         "x": [
          -0.582117040615677
         ],
         "y": [
          0.6864539179697697
         ],
         "z": [
          0.34276344595511554
         ]
        },
        {
         "hovertemplate": "rgb color=rgb(135,50,51)<br>0=%{x}<br>1=%{y}<br>2=%{z}<extra></extra>",
         "legendgroup": "rgb(135,50,51)",
         "marker": {
          "color": "#FFA15A",
          "symbol": "circle"
         },
         "mode": "markers",
         "name": "rgb(135,50,51)",
         "scene": "scene",
         "showlegend": true,
         "type": "scatter3d",
         "x": [
          1.045684430873145
         ],
         "y": [
          0.37649909419815525
         ],
         "z": [
          -0.8653560077203917
         ]
        },
        {
         "hovertemplate": "rgb color=rgb(86,42,236)<br>0=%{x}<br>1=%{y}<br>2=%{z}<extra></extra>",
         "legendgroup": "rgb(86,42,236)",
         "marker": {
          "color": "#19d3f3",
          "symbol": "circle"
         },
         "mode": "markers",
         "name": "rgb(86,42,236)",
         "scene": "scene",
         "showlegend": true,
         "type": "scatter3d",
         "x": [
          -0.21613102796454364
         ],
         "y": [
          0.3438823791329335
         ],
         "z": [
          0.8520849256841112
         ]
        },
        {
         "hovertemplate": "rgb color=rgb(182,76,18)<br>0=%{x}<br>1=%{y}<br>2=%{z}<extra></extra>",
         "legendgroup": "rgb(182,76,18)",
         "marker": {
          "color": "#FF6692",
          "symbol": "circle"
         },
         "mode": "markers",
         "name": "rgb(182,76,18)",
         "scene": "scene",
         "showlegend": true,
         "type": "scatter3d",
         "x": [
          0.10674256405651253
         ],
         "y": [
          0.5312377774095486
         ],
         "z": [
          -0.6490776576140567
         ]
        },
        {
         "hovertemplate": "rgb color=rgb(1,142,71)<br>0=%{x}<br>1=%{y}<br>2=%{z}<extra></extra>",
         "legendgroup": "rgb(1,142,71)",
         "marker": {
          "color": "#B6E880",
          "symbol": "circle"
         },
         "mode": "markers",
         "name": "rgb(1,142,71)",
         "scene": "scene",
         "showlegend": true,
         "type": "scatter3d",
         "x": [
          0.18656510236646118
         ],
         "y": [
          0.10776537739990757
         ],
         "z": [
          0.5382635646387925
         ]
        },
        {
         "hovertemplate": "rgb color=rgb(188,64,197)<br>0=%{x}<br>1=%{y}<br>2=%{z}<extra></extra>",
         "legendgroup": "rgb(188,64,197)",
         "marker": {
          "color": "#FF97FF",
          "symbol": "circle"
         },
         "mode": "markers",
         "name": "rgb(188,64,197)",
         "scene": "scene",
         "showlegend": true,
         "type": "scatter3d",
         "x": [
          0.0017111940688479608
         ],
         "y": [
          -0.6594371760395021
         ],
         "z": [
          0.09806253811545622
         ]
        },
        {
         "hovertemplate": "rgb color=rgb(80,78,33)<br>0=%{x}<br>1=%{y}<br>2=%{z}<extra></extra>",
         "legendgroup": "rgb(80,78,33)",
         "marker": {
          "color": "#FECB52",
          "symbol": "circle"
         },
         "mode": "markers",
         "name": "rgb(80,78,33)",
         "scene": "scene",
         "showlegend": true,
         "type": "scatter3d",
         "x": [
          1.6215476764801506
         ],
         "y": [
          0.783490336128946
         ],
         "z": [
          -0.10492706060896217
         ]
        },
        {
         "hovertemplate": "rgb color=rgb(132,59,110)<br>0=%{x}<br>1=%{y}<br>2=%{z}<extra></extra>",
         "legendgroup": "rgb(132,59,110)",
         "marker": {
          "color": "#636efa",
          "symbol": "circle"
         },
         "mode": "markers",
         "name": "rgb(132,59,110)",
         "scene": "scene",
         "showlegend": true,
         "type": "scatter3d",
         "x": [
          0.24018951005780753
         ],
         "y": [
          0.3002249254235127
         ],
         "z": [
          -0.25009427164365405
         ]
        },
        {
         "hovertemplate": "rgb color=rgb(140,197,241)<br>0=%{x}<br>1=%{y}<br>2=%{z}<extra></extra>",
         "legendgroup": "rgb(140,197,241)",
         "marker": {
          "color": "#EF553B",
          "symbol": "circle"
         },
         "mode": "markers",
         "name": "rgb(140,197,241)",
         "scene": "scene",
         "showlegend": true,
         "type": "scatter3d",
         "x": [
          -0.8426702324754628
         ],
         "y": [
          -0.6867610620309805
         ],
         "z": [
          -0.43974668677974144
         ]
        },
        {
         "hovertemplate": "rgb color=rgb(30,14,77)<br>0=%{x}<br>1=%{y}<br>2=%{z}<extra></extra>",
         "legendgroup": "rgb(30,14,77)",
         "marker": {
          "color": "#00cc96",
          "symbol": "circle"
         },
         "mode": "markers",
         "name": "rgb(30,14,77)",
         "scene": "scene",
         "showlegend": true,
         "type": "scatter3d",
         "x": [
          0.5076871353303529
         ],
         "y": [
          1.066525045603258
         ],
         "z": [
          -0.4886477910017043
         ]
        },
        {
         "hovertemplate": "rgb color=rgb(148,98,34)<br>0=%{x}<br>1=%{y}<br>2=%{z}<extra></extra>",
         "legendgroup": "rgb(148,98,34)",
         "marker": {
          "color": "#ab63fa",
          "symbol": "circle"
         },
         "mode": "markers",
         "name": "rgb(148,98,34)",
         "scene": "scene",
         "showlegend": true,
         "type": "scatter3d",
         "x": [
          0.5560977752005357
         ],
         "y": [
          0.3082826690094479
         ],
         "z": [
          0.21244129602575526
         ]
        },
        {
         "hovertemplate": "rgb color=rgb(194,75,211)<br>0=%{x}<br>1=%{y}<br>2=%{z}<extra></extra>",
         "legendgroup": "rgb(194,75,211)",
         "marker": {
          "color": "#FFA15A",
          "symbol": "circle"
         },
         "mode": "markers",
         "name": "rgb(194,75,211)",
         "scene": "scene",
         "showlegend": true,
         "type": "scatter3d",
         "x": [
          -0.5704284402104034
         ],
         "y": [
          -0.12414041682229957
         ],
         "z": [
          0.03542282263703466
         ]
        },
        {
         "hovertemplate": "rgb color=rgb(11,74,194)<br>0=%{x}<br>1=%{y}<br>2=%{z}<extra></extra>",
         "legendgroup": "rgb(11,74,194)",
         "marker": {
          "color": "#19d3f3",
          "symbol": "circle"
         },
         "mode": "markers",
         "name": "rgb(11,74,194)",
         "scene": "scene",
         "showlegend": true,
         "type": "scatter3d",
         "x": [
          -0.9367311938727328
         ],
         "y": [
          0.6607213266800309
         ],
         "z": [
          0.5690413770659727
         ]
        },
        {
         "hovertemplate": "rgb color=rgb(141,72,201)<br>0=%{x}<br>1=%{y}<br>2=%{z}<extra></extra>",
         "legendgroup": "rgb(141,72,201)",
         "marker": {
          "color": "#FF6692",
          "symbol": "circle"
         },
         "mode": "markers",
         "name": "rgb(141,72,201)",
         "scene": "scene",
         "showlegend": true,
         "type": "scatter3d",
         "x": [
          -0.1488279642163656
         ],
         "y": [
          0.024311589841492197
         ],
         "z": [
          -0.1390276571281984
         ]
        },
        {
         "hovertemplate": "rgb color=rgb(14,153,214)<br>0=%{x}<br>1=%{y}<br>2=%{z}<extra></extra>",
         "legendgroup": "rgb(14,153,214)",
         "marker": {
          "color": "#B6E880",
          "symbol": "circle"
         },
         "mode": "markers",
         "name": "rgb(14,153,214)",
         "scene": "scene",
         "showlegend": true,
         "type": "scatter3d",
         "x": [
          -1.5626061160145435
         ],
         "y": [
          0.5134315558608378
         ],
         "z": [
          0.48301121173664097
         ]
        },
        {
         "hovertemplate": "rgb color=rgb(100,153,76)<br>0=%{x}<br>1=%{y}<br>2=%{z}<extra></extra>",
         "legendgroup": "rgb(100,153,76)",
         "marker": {
          "color": "#FF97FF",
          "symbol": "circle"
         },
         "mode": "markers",
         "name": "rgb(100,153,76)",
         "scene": "scene",
         "showlegend": true,
         "type": "scatter3d",
         "x": [
          0.7714709327450311
         ],
         "y": [
          -0.023910807242773932
         ],
         "z": [
          0.10376290688293498
         ]
        },
        {
         "hovertemplate": "rgb color=rgb(98,220,10)<br>0=%{x}<br>1=%{y}<br>2=%{z}<extra></extra>",
         "legendgroup": "rgb(98,220,10)",
         "marker": {
          "color": "#FECB52",
          "symbol": "circle"
         },
         "mode": "markers",
         "name": "rgb(98,220,10)",
         "scene": "scene",
         "showlegend": true,
         "type": "scatter3d",
         "x": [
          1.3546224787279846
         ],
         "y": [
          -0.3106632010337682
         ],
         "z": [
          0.22573293420922866
         ]
        },
        {
         "hovertemplate": "rgb color=rgb(174,242,82)<br>0=%{x}<br>1=%{y}<br>2=%{z}<extra></extra>",
         "legendgroup": "rgb(174,242,82)",
         "marker": {
          "color": "#636efa",
          "symbol": "circle"
         },
         "mode": "markers",
         "name": "rgb(174,242,82)",
         "scene": "scene",
         "showlegend": true,
         "type": "scatter3d",
         "x": [
          -0.639488045722515
         ],
         "y": [
          -0.09792662193770171
         ],
         "z": [
          -0.15454389394102042
         ]
        },
        {
         "hovertemplate": "rgb color=rgb(164,206,205)<br>0=%{x}<br>1=%{y}<br>2=%{z}<extra></extra>",
         "legendgroup": "rgb(164,206,205)",
         "marker": {
          "color": "#EF553B",
          "symbol": "circle"
         },
         "mode": "markers",
         "name": "rgb(164,206,205)",
         "scene": "scene",
         "showlegend": true,
         "type": "scatter3d",
         "x": [
          -0.6886834326604817
         ],
         "y": [
          -0.7818965100615753
         ],
         "z": [
          -0.25905765437023315
         ]
        },
        {
         "hovertemplate": "rgb color=rgb(146,59,190)<br>0=%{x}<br>1=%{y}<br>2=%{z}<extra></extra>",
         "legendgroup": "rgb(146,59,190)",
         "marker": {
          "color": "#00cc96",
          "symbol": "circle"
         },
         "mode": "markers",
         "name": "rgb(146,59,190)",
         "scene": "scene",
         "showlegend": true,
         "type": "scatter3d",
         "x": [
          -0.5843066282759347
         ],
         "y": [
          -0.03730088411227512
         ],
         "z": [
          0.11329319000596864
         ]
        },
        {
         "hovertemplate": "rgb color=rgb(166,95,171)<br>0=%{x}<br>1=%{y}<br>2=%{z}<extra></extra>",
         "legendgroup": "rgb(166,95,171)",
         "marker": {
          "color": "#ab63fa",
          "symbol": "circle"
         },
         "mode": "markers",
         "name": "rgb(166,95,171)",
         "scene": "scene",
         "showlegend": true,
         "type": "scatter3d",
         "x": [
          -0.07347023346071196
         ],
         "y": [
          -0.17865787131942734
         ],
         "z": [
          -0.1561413526945638
         ]
        },
        {
         "hovertemplate": "rgb color=rgb(46,81,210)<br>0=%{x}<br>1=%{y}<br>2=%{z}<extra></extra>",
         "legendgroup": "rgb(46,81,210)",
         "marker": {
          "color": "#FFA15A",
          "symbol": "circle"
         },
         "mode": "markers",
         "name": "rgb(46,81,210)",
         "scene": "scene",
         "showlegend": true,
         "type": "scatter3d",
         "x": [
          -0.1963324079174058
         ],
         "y": [
          0.11130286692839593
         ],
         "z": [
          0.7262154971348564
         ]
        },
        {
         "hovertemplate": "rgb color=rgb(52,132,191)<br>0=%{x}<br>1=%{y}<br>2=%{z}<extra></extra>",
         "legendgroup": "rgb(52,132,191)",
         "marker": {
          "color": "#19d3f3",
          "symbol": "circle"
         },
         "mode": "markers",
         "name": "rgb(52,132,191)",
         "scene": "scene",
         "showlegend": true,
         "type": "scatter3d",
         "x": [
          -0.7445172972618713
         ],
         "y": [
          0.16732571591158352
         ],
         "z": [
          -0.04600938366117473
         ]
        },
        {
         "hovertemplate": "rgb color=rgb(203,152,93)<br>0=%{x}<br>1=%{y}<br>2=%{z}<extra></extra>",
         "legendgroup": "rgb(203,152,93)",
         "marker": {
          "color": "#FF6692",
          "symbol": "circle"
         },
         "mode": "markers",
         "name": "rgb(203,152,93)",
         "scene": "scene",
         "showlegend": true,
         "type": "scatter3d",
         "x": [
          -0.7111549771135466
         ],
         "y": [
          0.4453295305261585
         ],
         "z": [
          -0.3675960146862026
         ]
        },
        {
         "hovertemplate": "rgb color=rgb(79,255,95)<br>0=%{x}<br>1=%{y}<br>2=%{z}<extra></extra>",
         "legendgroup": "rgb(79,255,95)",
         "marker": {
          "color": "#B6E880",
          "symbol": "circle"
         },
         "mode": "markers",
         "name": "rgb(79,255,95)",
         "scene": "scene",
         "showlegend": true,
         "type": "scatter3d",
         "x": [
          0.8488945587207035
         ],
         "y": [
          -0.08843517107170099
         ],
         "z": [
          0.6715384736494989
         ]
        },
        {
         "hovertemplate": "rgb color=rgb(190,105,145)<br>0=%{x}<br>1=%{y}<br>2=%{z}<extra></extra>",
         "legendgroup": "rgb(190,105,145)",
         "marker": {
          "color": "#FF97FF",
          "symbol": "circle"
         },
         "mode": "markers",
         "name": "rgb(190,105,145)",
         "scene": "scene",
         "showlegend": true,
         "type": "scatter3d",
         "x": [
          0.08538821786596262
         ],
         "y": [
          -0.275178490536762
         ],
         "z": [
          -0.2525470121410862
         ]
        },
        {
         "hovertemplate": "rgb color=rgb(196,244,215)<br>0=%{x}<br>1=%{y}<br>2=%{z}<extra></extra>",
         "legendgroup": "rgb(196,244,215)",
         "marker": {
          "color": "#FECB52",
          "symbol": "circle"
         },
         "mode": "markers",
         "name": "rgb(196,244,215)",
         "scene": "scene",
         "showlegend": true,
         "type": "scatter3d",
         "x": [
          -1.0360512242497018
         ],
         "y": [
          -0.7186651932359518
         ],
         "z": [
          0.17037370649233327
         ]
        },
        {
         "hovertemplate": "rgb color=rgb(21,28,245)<br>0=%{x}<br>1=%{y}<br>2=%{z}<extra></extra>",
         "legendgroup": "rgb(21,28,245)",
         "marker": {
          "color": "#636efa",
          "symbol": "circle"
         },
         "mode": "markers",
         "name": "rgb(21,28,245)",
         "scene": "scene",
         "showlegend": true,
         "type": "scatter3d",
         "x": [
          -0.658779509352982
         ],
         "y": [
          0.4280510935847207
         ],
         "z": [
          0.011050618713030931
         ]
        },
        {
         "hovertemplate": "rgb color=rgb(177,79,212)<br>0=%{x}<br>1=%{y}<br>2=%{z}<extra></extra>",
         "legendgroup": "rgb(177,79,212)",
         "marker": {
          "color": "#EF553B",
          "symbol": "circle"
         },
         "mode": "markers",
         "name": "rgb(177,79,212)",
         "scene": "scene",
         "showlegend": true,
         "type": "scatter3d",
         "x": [
          -0.7769097625659519
         ],
         "y": [
          -0.04652509314928995
         ],
         "z": [
          0.10352525536613273
         ]
        },
        {
         "hovertemplate": "rgb color=rgb(160,67,120)<br>0=%{x}<br>1=%{y}<br>2=%{z}<extra></extra>",
         "legendgroup": "rgb(160,67,120)",
         "marker": {
          "color": "#00cc96",
          "symbol": "circle"
         },
         "mode": "markers",
         "name": "rgb(160,67,120)",
         "scene": "scene",
         "showlegend": true,
         "type": "scatter3d",
         "x": [
          1.0938505299390584
         ],
         "y": [
          -0.7203428841894439
         ],
         "z": [
          -0.2513290484962578
         ]
        },
        {
         "hovertemplate": "rgb color=rgb(237,101,163)<br>0=%{x}<br>1=%{y}<br>2=%{z}<extra></extra>",
         "legendgroup": "rgb(237,101,163)",
         "marker": {
          "color": "#ab63fa",
          "symbol": "circle"
         },
         "mode": "markers",
         "name": "rgb(237,101,163)",
         "scene": "scene",
         "showlegend": true,
         "type": "scatter3d",
         "x": [
          -0.6538740848368966
         ],
         "y": [
          -0.19537150611791226
         ],
         "z": [
          -0.26567427261623355
         ]
        },
        {
         "hovertemplate": "rgb color=rgb(133,22,133)<br>0=%{x}<br>1=%{y}<br>2=%{z}<extra></extra>",
         "legendgroup": "rgb(133,22,133)",
         "marker": {
          "color": "#FFA15A",
          "symbol": "circle"
         },
         "mode": "markers",
         "name": "rgb(133,22,133)",
         "scene": "scene",
         "showlegend": true,
         "type": "scatter3d",
         "x": [
          -0.35490935528357254
         ],
         "y": [
          0.8306994928768296
         ],
         "z": [
          -0.7858372500488602
         ]
        },
        {
         "hovertemplate": "rgb color=rgb(70,144,59)<br>0=%{x}<br>1=%{y}<br>2=%{z}<extra></extra>",
         "legendgroup": "rgb(70,144,59)",
         "marker": {
          "color": "#19d3f3",
          "symbol": "circle"
         },
         "mode": "markers",
         "name": "rgb(70,144,59)",
         "scene": "scene",
         "showlegend": true,
         "type": "scatter3d",
         "x": [
          0.8004582532013619
         ],
         "y": [
          0.13481245091757055
         ],
         "z": [
          0.08410958884334824
         ]
        },
        {
         "hovertemplate": "rgb color=rgb(217,230,170)<br>0=%{x}<br>1=%{y}<br>2=%{z}<extra></extra>",
         "legendgroup": "rgb(217,230,170)",
         "marker": {
          "color": "#FF6692",
          "symbol": "circle"
         },
         "mode": "markers",
         "name": "rgb(217,230,170)",
         "scene": "scene",
         "showlegend": true,
         "type": "scatter3d",
         "x": [
          -0.292836403958076
         ],
         "y": [
          -0.9162302074484825
         ],
         "z": [
          -0.053223924562954876
         ]
        },
        {
         "hovertemplate": "rgb color=rgb(86,155,9)<br>0=%{x}<br>1=%{y}<br>2=%{z}<extra></extra>",
         "legendgroup": "rgb(86,155,9)",
         "marker": {
          "color": "#B6E880",
          "symbol": "circle"
         },
         "mode": "markers",
         "name": "rgb(86,155,9)",
         "scene": "scene",
         "showlegend": true,
         "type": "scatter3d",
         "x": [
          0.2852859691915605
         ],
         "y": [
          0.577239773973048
         ],
         "z": [
          -0.22021154931958284
         ]
        },
        {
         "hovertemplate": "rgb color=rgb(222,101,185)<br>0=%{x}<br>1=%{y}<br>2=%{z}<extra></extra>",
         "legendgroup": "rgb(222,101,185)",
         "marker": {
          "color": "#FF97FF",
          "symbol": "circle"
         },
         "mode": "markers",
         "name": "rgb(222,101,185)",
         "scene": "scene",
         "showlegend": true,
         "type": "scatter3d",
         "x": [
          -0.3954048698159263
         ],
         "y": [
          -0.3465869341254068
         ],
         "z": [
          -0.21120830052390316
         ]
        },
        {
         "hovertemplate": "rgb color=rgb(16,75,0)<br>0=%{x}<br>1=%{y}<br>2=%{z}<extra></extra>",
         "legendgroup": "rgb(16,75,0)",
         "marker": {
          "color": "#FECB52",
          "symbol": "circle"
         },
         "mode": "markers",
         "name": "rgb(16,75,0)",
         "scene": "scene",
         "showlegend": true,
         "type": "scatter3d",
         "x": [
          2.299380867451303
         ],
         "y": [
          -0.12715722498790982
         ],
         "z": [
          0.3080866764798469
         ]
        }
       ],
       "layout": {
        "legend": {
         "title": {
          "text": "rgb color"
         },
         "tracegroupgap": 0
        },
        "scene": {
         "domain": {
          "x": [
           0,
           1
          ],
          "y": [
           0,
           1
          ]
         },
         "xaxis": {
          "title": {
           "text": "0"
          }
         },
         "yaxis": {
          "title": {
           "text": "1"
          }
         },
         "zaxis": {
          "title": {
           "text": "2"
          }
         }
        },
        "showlegend": false,
        "template": {
         "data": {
          "bar": [
           {
            "error_x": {
             "color": "#2a3f5f"
            },
            "error_y": {
             "color": "#2a3f5f"
            },
            "marker": {
             "line": {
              "color": "#E5ECF6",
              "width": 0.5
             },
             "pattern": {
              "fillmode": "overlay",
              "size": 10,
              "solidity": 0.2
             }
            },
            "type": "bar"
           }
          ],
          "barpolar": [
           {
            "marker": {
             "line": {
              "color": "#E5ECF6",
              "width": 0.5
             },
             "pattern": {
              "fillmode": "overlay",
              "size": 10,
              "solidity": 0.2
             }
            },
            "type": "barpolar"
           }
          ],
          "carpet": [
           {
            "aaxis": {
             "endlinecolor": "#2a3f5f",
             "gridcolor": "white",
             "linecolor": "white",
             "minorgridcolor": "white",
             "startlinecolor": "#2a3f5f"
            },
            "baxis": {
             "endlinecolor": "#2a3f5f",
             "gridcolor": "white",
             "linecolor": "white",
             "minorgridcolor": "white",
             "startlinecolor": "#2a3f5f"
            },
            "type": "carpet"
           }
          ],
          "choropleth": [
           {
            "colorbar": {
             "outlinewidth": 0,
             "ticks": ""
            },
            "type": "choropleth"
           }
          ],
          "contour": [
           {
            "colorbar": {
             "outlinewidth": 0,
             "ticks": ""
            },
            "colorscale": [
             [
              0,
              "#0d0887"
             ],
             [
              0.1111111111111111,
              "#46039f"
             ],
             [
              0.2222222222222222,
              "#7201a8"
             ],
             [
              0.3333333333333333,
              "#9c179e"
             ],
             [
              0.4444444444444444,
              "#bd3786"
             ],
             [
              0.5555555555555556,
              "#d8576b"
             ],
             [
              0.6666666666666666,
              "#ed7953"
             ],
             [
              0.7777777777777778,
              "#fb9f3a"
             ],
             [
              0.8888888888888888,
              "#fdca26"
             ],
             [
              1,
              "#f0f921"
             ]
            ],
            "type": "contour"
           }
          ],
          "contourcarpet": [
           {
            "colorbar": {
             "outlinewidth": 0,
             "ticks": ""
            },
            "type": "contourcarpet"
           }
          ],
          "heatmap": [
           {
            "colorbar": {
             "outlinewidth": 0,
             "ticks": ""
            },
            "colorscale": [
             [
              0,
              "#0d0887"
             ],
             [
              0.1111111111111111,
              "#46039f"
             ],
             [
              0.2222222222222222,
              "#7201a8"
             ],
             [
              0.3333333333333333,
              "#9c179e"
             ],
             [
              0.4444444444444444,
              "#bd3786"
             ],
             [
              0.5555555555555556,
              "#d8576b"
             ],
             [
              0.6666666666666666,
              "#ed7953"
             ],
             [
              0.7777777777777778,
              "#fb9f3a"
             ],
             [
              0.8888888888888888,
              "#fdca26"
             ],
             [
              1,
              "#f0f921"
             ]
            ],
            "type": "heatmap"
           }
          ],
          "heatmapgl": [
           {
            "colorbar": {
             "outlinewidth": 0,
             "ticks": ""
            },
            "colorscale": [
             [
              0,
              "#0d0887"
             ],
             [
              0.1111111111111111,
              "#46039f"
             ],
             [
              0.2222222222222222,
              "#7201a8"
             ],
             [
              0.3333333333333333,
              "#9c179e"
             ],
             [
              0.4444444444444444,
              "#bd3786"
             ],
             [
              0.5555555555555556,
              "#d8576b"
             ],
             [
              0.6666666666666666,
              "#ed7953"
             ],
             [
              0.7777777777777778,
              "#fb9f3a"
             ],
             [
              0.8888888888888888,
              "#fdca26"
             ],
             [
              1,
              "#f0f921"
             ]
            ],
            "type": "heatmapgl"
           }
          ],
          "histogram": [
           {
            "marker": {
             "pattern": {
              "fillmode": "overlay",
              "size": 10,
              "solidity": 0.2
             }
            },
            "type": "histogram"
           }
          ],
          "histogram2d": [
           {
            "colorbar": {
             "outlinewidth": 0,
             "ticks": ""
            },
            "colorscale": [
             [
              0,
              "#0d0887"
             ],
             [
              0.1111111111111111,
              "#46039f"
             ],
             [
              0.2222222222222222,
              "#7201a8"
             ],
             [
              0.3333333333333333,
              "#9c179e"
             ],
             [
              0.4444444444444444,
              "#bd3786"
             ],
             [
              0.5555555555555556,
              "#d8576b"
             ],
             [
              0.6666666666666666,
              "#ed7953"
             ],
             [
              0.7777777777777778,
              "#fb9f3a"
             ],
             [
              0.8888888888888888,
              "#fdca26"
             ],
             [
              1,
              "#f0f921"
             ]
            ],
            "type": "histogram2d"
           }
          ],
          "histogram2dcontour": [
           {
            "colorbar": {
             "outlinewidth": 0,
             "ticks": ""
            },
            "colorscale": [
             [
              0,
              "#0d0887"
             ],
             [
              0.1111111111111111,
              "#46039f"
             ],
             [
              0.2222222222222222,
              "#7201a8"
             ],
             [
              0.3333333333333333,
              "#9c179e"
             ],
             [
              0.4444444444444444,
              "#bd3786"
             ],
             [
              0.5555555555555556,
              "#d8576b"
             ],
             [
              0.6666666666666666,
              "#ed7953"
             ],
             [
              0.7777777777777778,
              "#fb9f3a"
             ],
             [
              0.8888888888888888,
              "#fdca26"
             ],
             [
              1,
              "#f0f921"
             ]
            ],
            "type": "histogram2dcontour"
           }
          ],
          "mesh3d": [
           {
            "colorbar": {
             "outlinewidth": 0,
             "ticks": ""
            },
            "type": "mesh3d"
           }
          ],
          "parcoords": [
           {
            "line": {
             "colorbar": {
              "outlinewidth": 0,
              "ticks": ""
             }
            },
            "type": "parcoords"
           }
          ],
          "pie": [
           {
            "automargin": true,
            "type": "pie"
           }
          ],
          "scatter": [
           {
            "fillpattern": {
             "fillmode": "overlay",
             "size": 10,
             "solidity": 0.2
            },
            "type": "scatter"
           }
          ],
          "scatter3d": [
           {
            "line": {
             "colorbar": {
              "outlinewidth": 0,
              "ticks": ""
             }
            },
            "marker": {
             "colorbar": {
              "outlinewidth": 0,
              "ticks": ""
             }
            },
            "type": "scatter3d"
           }
          ],
          "scattercarpet": [
           {
            "marker": {
             "colorbar": {
              "outlinewidth": 0,
              "ticks": ""
             }
            },
            "type": "scattercarpet"
           }
          ],
          "scattergeo": [
           {
            "marker": {
             "colorbar": {
              "outlinewidth": 0,
              "ticks": ""
             }
            },
            "type": "scattergeo"
           }
          ],
          "scattergl": [
           {
            "marker": {
             "colorbar": {
              "outlinewidth": 0,
              "ticks": ""
             }
            },
            "type": "scattergl"
           }
          ],
          "scattermapbox": [
           {
            "marker": {
             "colorbar": {
              "outlinewidth": 0,
              "ticks": ""
             }
            },
            "type": "scattermapbox"
           }
          ],
          "scatterpolar": [
           {
            "marker": {
             "colorbar": {
              "outlinewidth": 0,
              "ticks": ""
             }
            },
            "type": "scatterpolar"
           }
          ],
          "scatterpolargl": [
           {
            "marker": {
             "colorbar": {
              "outlinewidth": 0,
              "ticks": ""
             }
            },
            "type": "scatterpolargl"
           }
          ],
          "scatterternary": [
           {
            "marker": {
             "colorbar": {
              "outlinewidth": 0,
              "ticks": ""
             }
            },
            "type": "scatterternary"
           }
          ],
          "surface": [
           {
            "colorbar": {
             "outlinewidth": 0,
             "ticks": ""
            },
            "colorscale": [
             [
              0,
              "#0d0887"
             ],
             [
              0.1111111111111111,
              "#46039f"
             ],
             [
              0.2222222222222222,
              "#7201a8"
             ],
             [
              0.3333333333333333,
              "#9c179e"
             ],
             [
              0.4444444444444444,
              "#bd3786"
             ],
             [
              0.5555555555555556,
              "#d8576b"
             ],
             [
              0.6666666666666666,
              "#ed7953"
             ],
             [
              0.7777777777777778,
              "#fb9f3a"
             ],
             [
              0.8888888888888888,
              "#fdca26"
             ],
             [
              1,
              "#f0f921"
             ]
            ],
            "type": "surface"
           }
          ],
          "table": [
           {
            "cells": {
             "fill": {
              "color": "#EBF0F8"
             },
             "line": {
              "color": "white"
             }
            },
            "header": {
             "fill": {
              "color": "#C8D4E3"
             },
             "line": {
              "color": "white"
             }
            },
            "type": "table"
           }
          ]
         },
         "layout": {
          "annotationdefaults": {
           "arrowcolor": "#2a3f5f",
           "arrowhead": 0,
           "arrowwidth": 1
          },
          "autotypenumbers": "strict",
          "coloraxis": {
           "colorbar": {
            "outlinewidth": 0,
            "ticks": ""
           }
          },
          "colorscale": {
           "diverging": [
            [
             0,
             "#8e0152"
            ],
            [
             0.1,
             "#c51b7d"
            ],
            [
             0.2,
             "#de77ae"
            ],
            [
             0.3,
             "#f1b6da"
            ],
            [
             0.4,
             "#fde0ef"
            ],
            [
             0.5,
             "#f7f7f7"
            ],
            [
             0.6,
             "#e6f5d0"
            ],
            [
             0.7,
             "#b8e186"
            ],
            [
             0.8,
             "#7fbc41"
            ],
            [
             0.9,
             "#4d9221"
            ],
            [
             1,
             "#276419"
            ]
           ],
           "sequential": [
            [
             0,
             "#0d0887"
            ],
            [
             0.1111111111111111,
             "#46039f"
            ],
            [
             0.2222222222222222,
             "#7201a8"
            ],
            [
             0.3333333333333333,
             "#9c179e"
            ],
            [
             0.4444444444444444,
             "#bd3786"
            ],
            [
             0.5555555555555556,
             "#d8576b"
            ],
            [
             0.6666666666666666,
             "#ed7953"
            ],
            [
             0.7777777777777778,
             "#fb9f3a"
            ],
            [
             0.8888888888888888,
             "#fdca26"
            ],
            [
             1,
             "#f0f921"
            ]
           ],
           "sequentialminus": [
            [
             0,
             "#0d0887"
            ],
            [
             0.1111111111111111,
             "#46039f"
            ],
            [
             0.2222222222222222,
             "#7201a8"
            ],
            [
             0.3333333333333333,
             "#9c179e"
            ],
            [
             0.4444444444444444,
             "#bd3786"
            ],
            [
             0.5555555555555556,
             "#d8576b"
            ],
            [
             0.6666666666666666,
             "#ed7953"
            ],
            [
             0.7777777777777778,
             "#fb9f3a"
            ],
            [
             0.8888888888888888,
             "#fdca26"
            ],
            [
             1,
             "#f0f921"
            ]
           ]
          },
          "colorway": [
           "#636efa",
           "#EF553B",
           "#00cc96",
           "#ab63fa",
           "#FFA15A",
           "#19d3f3",
           "#FF6692",
           "#B6E880",
           "#FF97FF",
           "#FECB52"
          ],
          "font": {
           "color": "#2a3f5f"
          },
          "geo": {
           "bgcolor": "white",
           "lakecolor": "white",
           "landcolor": "#E5ECF6",
           "showlakes": true,
           "showland": true,
           "subunitcolor": "white"
          },
          "hoverlabel": {
           "align": "left"
          },
          "hovermode": "closest",
          "mapbox": {
           "style": "light"
          },
          "paper_bgcolor": "white",
          "plot_bgcolor": "#E5ECF6",
          "polar": {
           "angularaxis": {
            "gridcolor": "white",
            "linecolor": "white",
            "ticks": ""
           },
           "bgcolor": "#E5ECF6",
           "radialaxis": {
            "gridcolor": "white",
            "linecolor": "white",
            "ticks": ""
           }
          },
          "scene": {
           "xaxis": {
            "backgroundcolor": "#E5ECF6",
            "gridcolor": "white",
            "gridwidth": 2,
            "linecolor": "white",
            "showbackground": true,
            "ticks": "",
            "zerolinecolor": "white"
           },
           "yaxis": {
            "backgroundcolor": "#E5ECF6",
            "gridcolor": "white",
            "gridwidth": 2,
            "linecolor": "white",
            "showbackground": true,
            "ticks": "",
            "zerolinecolor": "white"
           },
           "zaxis": {
            "backgroundcolor": "#E5ECF6",
            "gridcolor": "white",
            "gridwidth": 2,
            "linecolor": "white",
            "showbackground": true,
            "ticks": "",
            "zerolinecolor": "white"
           }
          },
          "shapedefaults": {
           "line": {
            "color": "#2a3f5f"
           }
          },
          "ternary": {
           "aaxis": {
            "gridcolor": "white",
            "linecolor": "white",
            "ticks": ""
           },
           "baxis": {
            "gridcolor": "white",
            "linecolor": "white",
            "ticks": ""
           },
           "bgcolor": "#E5ECF6",
           "caxis": {
            "gridcolor": "white",
            "linecolor": "white",
            "ticks": ""
           }
          },
          "title": {
           "x": 0.05
          },
          "xaxis": {
           "automargin": true,
           "gridcolor": "white",
           "linecolor": "white",
           "ticks": "",
           "title": {
            "standoff": 15
           },
           "zerolinecolor": "white",
           "zerolinewidth": 2
          },
          "yaxis": {
           "automargin": true,
           "gridcolor": "white",
           "linecolor": "white",
           "ticks": "",
           "title": {
            "standoff": 15
           },
           "zerolinecolor": "white",
           "zerolinewidth": 2
          }
         }
        },
        "title": {
         "text": "PCA of DistilBERT embeddings of rgb colors (3d)"
        }
       }
      }
     },
     "metadata": {},
     "output_type": "display_data"
    }
   ],
   "source": [
    "# plot 3d results with plotly\n",
    "fig = px.scatter_3d(\n",
    "    rgb_pca3d, x=0, y=1, z=2, color=rgb_colors,\n",
    "    labels={'color': 'rgb color'},\n",
    "    title='PCA of DistilBERT embeddings of rgb colors (3d)'\n",
    ")\n",
    "\n",
    "# hide legend\n",
    "fig.update_layout(showlegend=False)\n",
    "fig.show()"
   ]
  },
  {
   "cell_type": "code",
   "execution_count": 21,
   "metadata": {},
   "outputs": [
    {
     "data": {
      "application/vnd.plotly.v1+json": {
       "config": {
        "plotlyServerURL": "https://plot.ly"
       },
       "data": [
        {
         "hovertemplate": "rgb color=rgb(188,103,238)<br>0=%{x}<br>1=%{y}<extra></extra>",
         "legendgroup": "rgb(188,103,238)",
         "marker": {
          "color": "#636efa",
          "symbol": "circle"
         },
         "mode": "markers",
         "name": "rgb(188,103,238)",
         "orientation": "v",
         "showlegend": true,
         "type": "scatter",
         "x": [
          11.096446990966797
         ],
         "xaxis": "x",
         "y": [
          12.2313814163208
         ],
         "yaxis": "y"
        },
        {
         "hovertemplate": "rgb color=rgb(97,81,54)<br>0=%{x}<br>1=%{y}<extra></extra>",
         "legendgroup": "rgb(97,81,54)",
         "marker": {
          "color": "#EF553B",
          "symbol": "circle"
         },
         "mode": "markers",
         "name": "rgb(97,81,54)",
         "orientation": "v",
         "showlegend": true,
         "type": "scatter",
         "x": [
          9.541115760803223
         ],
         "xaxis": "x",
         "y": [
          9.59840202331543
         ],
         "yaxis": "y"
        },
        {
         "hovertemplate": "rgb color=rgb(252,15,162)<br>0=%{x}<br>1=%{y}<extra></extra>",
         "legendgroup": "rgb(252,15,162)",
         "marker": {
          "color": "#00cc96",
          "symbol": "circle"
         },
         "mode": "markers",
         "name": "rgb(252,15,162)",
         "orientation": "v",
         "showlegend": true,
         "type": "scatter",
         "x": [
          11.462312698364258
         ],
         "xaxis": "x",
         "y": [
          11.412210464477539
         ],
         "yaxis": "y"
        },
        {
         "hovertemplate": "rgb color=rgb(84,85,58)<br>0=%{x}<br>1=%{y}<extra></extra>",
         "legendgroup": "rgb(84,85,58)",
         "marker": {
          "color": "#ab63fa",
          "symbol": "circle"
         },
         "mode": "markers",
         "name": "rgb(84,85,58)",
         "orientation": "v",
         "showlegend": true,
         "type": "scatter",
         "x": [
          8.922560691833496
         ],
         "xaxis": "x",
         "y": [
          9.44908618927002
         ],
         "yaxis": "y"
        },
        {
         "hovertemplate": "rgb color=rgb(14,216,69)<br>0=%{x}<br>1=%{y}<extra></extra>",
         "legendgroup": "rgb(14,216,69)",
         "marker": {
          "color": "#FFA15A",
          "symbol": "circle"
         },
         "mode": "markers",
         "name": "rgb(14,216,69)",
         "orientation": "v",
         "showlegend": true,
         "type": "scatter",
         "x": [
          11.409863471984863
         ],
         "xaxis": "x",
         "y": [
          9.695405006408691
         ],
         "yaxis": "y"
        },
        {
         "hovertemplate": "rgb color=rgb(130,60,47)<br>0=%{x}<br>1=%{y}<extra></extra>",
         "legendgroup": "rgb(130,60,47)",
         "marker": {
          "color": "#19d3f3",
          "symbol": "circle"
         },
         "mode": "markers",
         "name": "rgb(130,60,47)",
         "orientation": "v",
         "showlegend": true,
         "type": "scatter",
         "x": [
          8.18579387664795
         ],
         "xaxis": "x",
         "y": [
          10.313949584960938
         ],
         "yaxis": "y"
        },
        {
         "hovertemplate": "rgb color=rgb(176,71,183)<br>0=%{x}<br>1=%{y}<extra></extra>",
         "legendgroup": "rgb(176,71,183)",
         "marker": {
          "color": "#FF6692",
          "symbol": "circle"
         },
         "mode": "markers",
         "name": "rgb(176,71,183)",
         "orientation": "v",
         "showlegend": true,
         "type": "scatter",
         "x": [
          10.144407272338867
         ],
         "xaxis": "x",
         "y": [
          12.389032363891602
         ],
         "yaxis": "y"
        },
        {
         "hovertemplate": "rgb color=rgb(254,115,20)<br>0=%{x}<br>1=%{y}<extra></extra>",
         "legendgroup": "rgb(254,115,20)",
         "marker": {
          "color": "#B6E880",
          "symbol": "circle"
         },
         "mode": "markers",
         "name": "rgb(254,115,20)",
         "orientation": "v",
         "showlegend": true,
         "type": "scatter",
         "x": [
          7.681387901306152
         ],
         "xaxis": "x",
         "y": [
          10.493512153625488
         ],
         "yaxis": "y"
        },
        {
         "hovertemplate": "rgb color=rgb(98,64,237)<br>0=%{x}<br>1=%{y}<extra></extra>",
         "legendgroup": "rgb(98,64,237)",
         "marker": {
          "color": "#FF97FF",
          "symbol": "circle"
         },
         "mode": "markers",
         "name": "rgb(98,64,237)",
         "orientation": "v",
         "showlegend": true,
         "type": "scatter",
         "x": [
          8.83582878112793
         ],
         "xaxis": "x",
         "y": [
          11.506380081176758
         ],
         "yaxis": "y"
        },
        {
         "hovertemplate": "rgb color=rgb(40,156,255)<br>0=%{x}<br>1=%{y}<extra></extra>",
         "legendgroup": "rgb(40,156,255)",
         "marker": {
          "color": "#FECB52",
          "symbol": "circle"
         },
         "mode": "markers",
         "name": "rgb(40,156,255)",
         "orientation": "v",
         "showlegend": true,
         "type": "scatter",
         "x": [
          8.86233901977539
         ],
         "xaxis": "x",
         "y": [
          11.474596977233887
         ],
         "yaxis": "y"
        },
        {
         "hovertemplate": "rgb color=rgb(126,203,31)<br>0=%{x}<br>1=%{y}<extra></extra>",
         "legendgroup": "rgb(126,203,31)",
         "marker": {
          "color": "#636efa",
          "symbol": "circle"
         },
         "mode": "markers",
         "name": "rgb(126,203,31)",
         "orientation": "v",
         "showlegend": true,
         "type": "scatter",
         "x": [
          11.742287635803223
         ],
         "xaxis": "x",
         "y": [
          9.145264625549316
         ],
         "yaxis": "y"
        },
        {
         "hovertemplate": "rgb color=rgb(121,30,28)<br>0=%{x}<br>1=%{y}<extra></extra>",
         "legendgroup": "rgb(121,30,28)",
         "marker": {
          "color": "#EF553B",
          "symbol": "circle"
         },
         "mode": "markers",
         "name": "rgb(121,30,28)",
         "orientation": "v",
         "showlegend": true,
         "type": "scatter",
         "x": [
          8.10007381439209
         ],
         "xaxis": "x",
         "y": [
          9.410399436950684
         ],
         "yaxis": "y"
        },
        {
         "hovertemplate": "rgb color=rgb(240,33,189)<br>0=%{x}<br>1=%{y}<extra></extra>",
         "legendgroup": "rgb(240,33,189)",
         "marker": {
          "color": "#00cc96",
          "symbol": "circle"
         },
         "mode": "markers",
         "name": "rgb(240,33,189)",
         "orientation": "v",
         "showlegend": true,
         "type": "scatter",
         "x": [
          10.780774116516113
         ],
         "xaxis": "x",
         "y": [
          11.056764602661133
         ],
         "yaxis": "y"
        },
        {
         "hovertemplate": "rgb color=rgb(150,8,42)<br>0=%{x}<br>1=%{y}<extra></extra>",
         "legendgroup": "rgb(150,8,42)",
         "marker": {
          "color": "#ab63fa",
          "symbol": "circle"
         },
         "mode": "markers",
         "name": "rgb(150,8,42)",
         "orientation": "v",
         "showlegend": true,
         "type": "scatter",
         "x": [
          8.215341567993164
         ],
         "xaxis": "x",
         "y": [
          10.213191032409668
         ],
         "yaxis": "y"
        },
        {
         "hovertemplate": "rgb color=rgb(47,160,19)<br>0=%{x}<br>1=%{y}<extra></extra>",
         "legendgroup": "rgb(47,160,19)",
         "marker": {
          "color": "#FFA15A",
          "symbol": "circle"
         },
         "mode": "markers",
         "name": "rgb(47,160,19)",
         "orientation": "v",
         "showlegend": true,
         "type": "scatter",
         "x": [
          8.429516792297363
         ],
         "xaxis": "x",
         "y": [
          10.136606216430664
         ],
         "yaxis": "y"
        },
        {
         "hovertemplate": "rgb color=rgb(251,42,60)<br>0=%{x}<br>1=%{y}<extra></extra>",
         "legendgroup": "rgb(251,42,60)",
         "marker": {
          "color": "#19d3f3",
          "symbol": "circle"
         },
         "mode": "markers",
         "name": "rgb(251,42,60)",
         "orientation": "v",
         "showlegend": true,
         "type": "scatter",
         "x": [
          9.169855117797852
         ],
         "xaxis": "x",
         "y": [
          10.798433303833008
         ],
         "yaxis": "y"
        },
        {
         "hovertemplate": "rgb color=rgb(192,90,121)<br>0=%{x}<br>1=%{y}<extra></extra>",
         "legendgroup": "rgb(192,90,121)",
         "marker": {
          "color": "#FF6692",
          "symbol": "circle"
         },
         "mode": "markers",
         "name": "rgb(192,90,121)",
         "orientation": "v",
         "showlegend": true,
         "type": "scatter",
         "x": [
          8.191649436950684
         ],
         "xaxis": "x",
         "y": [
          10.964041709899902
         ],
         "yaxis": "y"
        },
        {
         "hovertemplate": "rgb color=rgb(55,109,123)<br>0=%{x}<br>1=%{y}<extra></extra>",
         "legendgroup": "rgb(55,109,123)",
         "marker": {
          "color": "#B6E880",
          "symbol": "circle"
         },
         "mode": "markers",
         "name": "rgb(55,109,123)",
         "orientation": "v",
         "showlegend": true,
         "type": "scatter",
         "x": [
          10.073235511779785
         ],
         "xaxis": "x",
         "y": [
          9.83741283416748
         ],
         "yaxis": "y"
        },
        {
         "hovertemplate": "rgb color=rgb(87,210,111)<br>0=%{x}<br>1=%{y}<extra></extra>",
         "legendgroup": "rgb(87,210,111)",
         "marker": {
          "color": "#FF97FF",
          "symbol": "circle"
         },
         "mode": "markers",
         "name": "rgb(87,210,111)",
         "orientation": "v",
         "showlegend": true,
         "type": "scatter",
         "x": [
          10.790701866149902
         ],
         "xaxis": "x",
         "y": [
          10.19438362121582
         ],
         "yaxis": "y"
        },
        {
         "hovertemplate": "rgb color=rgb(142,245,129)<br>0=%{x}<br>1=%{y}<extra></extra>",
         "legendgroup": "rgb(142,245,129)",
         "marker": {
          "color": "#FECB52",
          "symbol": "circle"
         },
         "mode": "markers",
         "name": "rgb(142,245,129)",
         "orientation": "v",
         "showlegend": true,
         "type": "scatter",
         "x": [
          12.007858276367188
         ],
         "xaxis": "x",
         "y": [
          11.724305152893066
         ],
         "yaxis": "y"
        },
        {
         "hovertemplate": "rgb color=rgb(186,165,150)<br>0=%{x}<br>1=%{y}<extra></extra>",
         "legendgroup": "rgb(186,165,150)",
         "marker": {
          "color": "#636efa",
          "symbol": "circle"
         },
         "mode": "markers",
         "name": "rgb(186,165,150)",
         "orientation": "v",
         "showlegend": true,
         "type": "scatter",
         "x": [
          10.674398422241211
         ],
         "xaxis": "x",
         "y": [
          11.623414993286133
         ],
         "yaxis": "y"
        },
        {
         "hovertemplate": "rgb color=rgb(249,160,157)<br>0=%{x}<br>1=%{y}<extra></extra>",
         "legendgroup": "rgb(249,160,157)",
         "marker": {
          "color": "#EF553B",
          "symbol": "circle"
         },
         "mode": "markers",
         "name": "rgb(249,160,157)",
         "orientation": "v",
         "showlegend": true,
         "type": "scatter",
         "x": [
          11.855666160583496
         ],
         "xaxis": "x",
         "y": [
          11.547463417053223
         ],
         "yaxis": "y"
        },
        {
         "hovertemplate": "rgb color=rgb(209,241,224)<br>0=%{x}<br>1=%{y}<extra></extra>",
         "legendgroup": "rgb(209,241,224)",
         "marker": {
          "color": "#00cc96",
          "symbol": "circle"
         },
         "mode": "markers",
         "name": "rgb(209,241,224)",
         "orientation": "v",
         "showlegend": true,
         "type": "scatter",
         "x": [
          11.838868141174316
         ],
         "xaxis": "x",
         "y": [
          12.240800857543945
         ],
         "yaxis": "y"
        },
        {
         "hovertemplate": "rgb color=rgb(21,137,107)<br>0=%{x}<br>1=%{y}<extra></extra>",
         "legendgroup": "rgb(21,137,107)",
         "marker": {
          "color": "#ab63fa",
          "symbol": "circle"
         },
         "mode": "markers",
         "name": "rgb(21,137,107)",
         "orientation": "v",
         "showlegend": true,
         "type": "scatter",
         "x": [
          10.846388816833496
         ],
         "xaxis": "x",
         "y": [
          9.580890655517578
         ],
         "yaxis": "y"
        },
        {
         "hovertemplate": "rgb color=rgb(33,189,179)<br>0=%{x}<br>1=%{y}<extra></extra>",
         "legendgroup": "rgb(33,189,179)",
         "marker": {
          "color": "#FFA15A",
          "symbol": "circle"
         },
         "mode": "markers",
         "name": "rgb(33,189,179)",
         "orientation": "v",
         "showlegend": true,
         "type": "scatter",
         "x": [
          11.67533016204834
         ],
         "xaxis": "x",
         "y": [
          9.777318954467773
         ],
         "yaxis": "y"
        },
        {
         "hovertemplate": "rgb color=rgb(101,235,204)<br>0=%{x}<br>1=%{y}<extra></extra>",
         "legendgroup": "rgb(101,235,204)",
         "marker": {
          "color": "#19d3f3",
          "symbol": "circle"
         },
         "mode": "markers",
         "name": "rgb(101,235,204)",
         "orientation": "v",
         "showlegend": true,
         "type": "scatter",
         "x": [
          10.981898307800293
         ],
         "xaxis": "x",
         "y": [
          12.071101188659668
         ],
         "yaxis": "y"
        },
        {
         "hovertemplate": "rgb color=rgb(177,113,97)<br>0=%{x}<br>1=%{y}<extra></extra>",
         "legendgroup": "rgb(177,113,97)",
         "marker": {
          "color": "#FF6692",
          "symbol": "circle"
         },
         "mode": "markers",
         "name": "rgb(177,113,97)",
         "orientation": "v",
         "showlegend": true,
         "type": "scatter",
         "x": [
          10.230541229248047
         ],
         "xaxis": "x",
         "y": [
          10.460412979125977
         ],
         "yaxis": "y"
        },
        {
         "hovertemplate": "rgb color=rgb(0,202,112)<br>0=%{x}<br>1=%{y}<extra></extra>",
         "legendgroup": "rgb(0,202,112)",
         "marker": {
          "color": "#B6E880",
          "symbol": "circle"
         },
         "mode": "markers",
         "name": "rgb(0,202,112)",
         "orientation": "v",
         "showlegend": true,
         "type": "scatter",
         "x": [
          8.317090034484863
         ],
         "xaxis": "x",
         "y": [
          11.421757698059082
         ],
         "yaxis": "y"
        },
        {
         "hovertemplate": "rgb color=rgb(60,139,204)<br>0=%{x}<br>1=%{y}<extra></extra>",
         "legendgroup": "rgb(60,139,204)",
         "marker": {
          "color": "#FF97FF",
          "symbol": "circle"
         },
         "mode": "markers",
         "name": "rgb(60,139,204)",
         "orientation": "v",
         "showlegend": true,
         "type": "scatter",
         "x": [
          10.793475151062012
         ],
         "xaxis": "x",
         "y": [
          11.694215774536133
         ],
         "yaxis": "y"
        },
        {
         "hovertemplate": "rgb color=rgb(201,172,176)<br>0=%{x}<br>1=%{y}<extra></extra>",
         "legendgroup": "rgb(201,172,176)",
         "marker": {
          "color": "#FECB52",
          "symbol": "circle"
         },
         "mode": "markers",
         "name": "rgb(201,172,176)",
         "orientation": "v",
         "showlegend": true,
         "type": "scatter",
         "x": [
          10.459578514099121
         ],
         "xaxis": "x",
         "y": [
          12.68254566192627
         ],
         "yaxis": "y"
        },
        {
         "hovertemplate": "rgb color=rgb(192,192,156)<br>0=%{x}<br>1=%{y}<extra></extra>",
         "legendgroup": "rgb(192,192,156)",
         "marker": {
          "color": "#636efa",
          "symbol": "circle"
         },
         "mode": "markers",
         "name": "rgb(192,192,156)",
         "orientation": "v",
         "showlegend": true,
         "type": "scatter",
         "x": [
          8.021428108215332
         ],
         "xaxis": "x",
         "y": [
          11.26223087310791
         ],
         "yaxis": "y"
        },
        {
         "hovertemplate": "rgb color=rgb(244,168,222)<br>0=%{x}<br>1=%{y}<extra></extra>",
         "legendgroup": "rgb(244,168,222)",
         "marker": {
          "color": "#EF553B",
          "symbol": "circle"
         },
         "mode": "markers",
         "name": "rgb(244,168,222)",
         "orientation": "v",
         "showlegend": true,
         "type": "scatter",
         "x": [
          11.937186241149902
         ],
         "xaxis": "x",
         "y": [
          12.289227485656738
         ],
         "yaxis": "y"
        },
        {
         "hovertemplate": "rgb color=rgb(200,213,123)<br>0=%{x}<br>1=%{y}<extra></extra>",
         "legendgroup": "rgb(200,213,123)",
         "marker": {
          "color": "#00cc96",
          "symbol": "circle"
         },
         "mode": "markers",
         "name": "rgb(200,213,123)",
         "orientation": "v",
         "showlegend": true,
         "type": "scatter",
         "x": [
          9.858972549438477
         ],
         "xaxis": "x",
         "y": [
          12.13225269317627
         ],
         "yaxis": "y"
        },
        {
         "hovertemplate": "rgb color=rgb(192,37,81)<br>0=%{x}<br>1=%{y}<extra></extra>",
         "legendgroup": "rgb(192,37,81)",
         "marker": {
          "color": "#ab63fa",
          "symbol": "circle"
         },
         "mode": "markers",
         "name": "rgb(192,37,81)",
         "orientation": "v",
         "showlegend": true,
         "type": "scatter",
         "x": [
          8.481186866760254
         ],
         "xaxis": "x",
         "y": [
          11.112380027770996
         ],
         "yaxis": "y"
        },
        {
         "hovertemplate": "rgb color=rgb(234,240,134)<br>0=%{x}<br>1=%{y}<extra></extra>",
         "legendgroup": "rgb(234,240,134)",
         "marker": {
          "color": "#FFA15A",
          "symbol": "circle"
         },
         "mode": "markers",
         "name": "rgb(234,240,134)",
         "orientation": "v",
         "showlegend": true,
         "type": "scatter",
         "x": [
          11.490724563598633
         ],
         "xaxis": "x",
         "y": [
          12.123912811279297
         ],
         "yaxis": "y"
        },
        {
         "hovertemplate": "rgb color=rgb(223,133,22)<br>0=%{x}<br>1=%{y}<extra></extra>",
         "legendgroup": "rgb(223,133,22)",
         "marker": {
          "color": "#19d3f3",
          "symbol": "circle"
         },
         "mode": "markers",
         "name": "rgb(223,133,22)",
         "orientation": "v",
         "showlegend": true,
         "type": "scatter",
         "x": [
          10.669724464416504
         ],
         "xaxis": "x",
         "y": [
          9.018773078918457
         ],
         "yaxis": "y"
        },
        {
         "hovertemplate": "rgb color=rgb(141,4,108)<br>0=%{x}<br>1=%{y}<extra></extra>",
         "legendgroup": "rgb(141,4,108)",
         "marker": {
          "color": "#FF6692",
          "symbol": "circle"
         },
         "mode": "markers",
         "name": "rgb(141,4,108)",
         "orientation": "v",
         "showlegend": true,
         "type": "scatter",
         "x": [
          9.836278915405273
         ],
         "xaxis": "x",
         "y": [
          10.69067096710205
         ],
         "yaxis": "y"
        },
        {
         "hovertemplate": "rgb color=rgb(131,213,43)<br>0=%{x}<br>1=%{y}<extra></extra>",
         "legendgroup": "rgb(131,213,43)",
         "marker": {
          "color": "#B6E880",
          "symbol": "circle"
         },
         "mode": "markers",
         "name": "rgb(131,213,43)",
         "orientation": "v",
         "showlegend": true,
         "type": "scatter",
         "x": [
          10.423613548278809
         ],
         "xaxis": "x",
         "y": [
          9.549302101135254
         ],
         "yaxis": "y"
        },
        {
         "hovertemplate": "rgb color=rgb(68,62,57)<br>0=%{x}<br>1=%{y}<extra></extra>",
         "legendgroup": "rgb(68,62,57)",
         "marker": {
          "color": "#FF97FF",
          "symbol": "circle"
         },
         "mode": "markers",
         "name": "rgb(68,62,57)",
         "orientation": "v",
         "showlegend": true,
         "type": "scatter",
         "x": [
          8.850062370300293
         ],
         "xaxis": "x",
         "y": [
          10.504046440124512
         ],
         "yaxis": "y"
        },
        {
         "hovertemplate": "rgb color=rgb(108,67,56)<br>0=%{x}<br>1=%{y}<extra></extra>",
         "legendgroup": "rgb(108,67,56)",
         "marker": {
          "color": "#FECB52",
          "symbol": "circle"
         },
         "mode": "markers",
         "name": "rgb(108,67,56)",
         "orientation": "v",
         "showlegend": true,
         "type": "scatter",
         "x": [
          8.897665023803711
         ],
         "xaxis": "x",
         "y": [
          10.491809844970703
         ],
         "yaxis": "y"
        },
        {
         "hovertemplate": "rgb color=rgb(16,96,145)<br>0=%{x}<br>1=%{y}<extra></extra>",
         "legendgroup": "rgb(16,96,145)",
         "marker": {
          "color": "#636efa",
          "symbol": "circle"
         },
         "mode": "markers",
         "name": "rgb(16,96,145)",
         "orientation": "v",
         "showlegend": true,
         "type": "scatter",
         "x": [
          9.625418663024902
         ],
         "xaxis": "x",
         "y": [
          11.2308988571167
         ],
         "yaxis": "y"
        },
        {
         "hovertemplate": "rgb color=rgb(149,121,63)<br>0=%{x}<br>1=%{y}<extra></extra>",
         "legendgroup": "rgb(149,121,63)",
         "marker": {
          "color": "#EF553B",
          "symbol": "circle"
         },
         "mode": "markers",
         "name": "rgb(149,121,63)",
         "orientation": "v",
         "showlegend": true,
         "type": "scatter",
         "x": [
          9.731616973876953
         ],
         "xaxis": "x",
         "y": [
          10.216264724731445
         ],
         "yaxis": "y"
        },
        {
         "hovertemplate": "rgb color=rgb(111,238,142)<br>0=%{x}<br>1=%{y}<extra></extra>",
         "legendgroup": "rgb(111,238,142)",
         "marker": {
          "color": "#00cc96",
          "symbol": "circle"
         },
         "mode": "markers",
         "name": "rgb(111,238,142)",
         "orientation": "v",
         "showlegend": true,
         "type": "scatter",
         "x": [
          11.291028022766113
         ],
         "xaxis": "x",
         "y": [
          11.740938186645508
         ],
         "yaxis": "y"
        },
        {
         "hovertemplate": "rgb color=rgb(76,33,241)<br>0=%{x}<br>1=%{y}<extra></extra>",
         "legendgroup": "rgb(76,33,241)",
         "marker": {
          "color": "#ab63fa",
          "symbol": "circle"
         },
         "mode": "markers",
         "name": "rgb(76,33,241)",
         "orientation": "v",
         "showlegend": true,
         "type": "scatter",
         "x": [
          10.899714469909668
         ],
         "xaxis": "x",
         "y": [
          10.883275985717773
         ],
         "yaxis": "y"
        },
        {
         "hovertemplate": "rgb color=rgb(169,100,217)<br>0=%{x}<br>1=%{y}<extra></extra>",
         "legendgroup": "rgb(169,100,217)",
         "marker": {
          "color": "#FFA15A",
          "symbol": "circle"
         },
         "mode": "markers",
         "name": "rgb(169,100,217)",
         "orientation": "v",
         "showlegend": true,
         "type": "scatter",
         "x": [
          10.483078002929688
         ],
         "xaxis": "x",
         "y": [
          12.042181015014648
         ],
         "yaxis": "y"
        },
        {
         "hovertemplate": "rgb color=rgb(38,33,179)<br>0=%{x}<br>1=%{y}<extra></extra>",
         "legendgroup": "rgb(38,33,179)",
         "marker": {
          "color": "#19d3f3",
          "symbol": "circle"
         },
         "mode": "markers",
         "name": "rgb(38,33,179)",
         "orientation": "v",
         "showlegend": true,
         "type": "scatter",
         "x": [
          11.216253280639648
         ],
         "xaxis": "x",
         "y": [
          10.085591316223145
         ],
         "yaxis": "y"
        },
        {
         "hovertemplate": "rgb color=rgb(240,131,30)<br>0=%{x}<br>1=%{y}<extra></extra>",
         "legendgroup": "rgb(240,131,30)",
         "marker": {
          "color": "#FF6692",
          "symbol": "circle"
         },
         "mode": "markers",
         "name": "rgb(240,131,30)",
         "orientation": "v",
         "showlegend": true,
         "type": "scatter",
         "x": [
          7.742464542388916
         ],
         "xaxis": "x",
         "y": [
          10.261287689208984
         ],
         "yaxis": "y"
        },
        {
         "hovertemplate": "rgb color=rgb(219,104,187)<br>0=%{x}<br>1=%{y}<extra></extra>",
         "legendgroup": "rgb(219,104,187)",
         "marker": {
          "color": "#B6E880",
          "symbol": "circle"
         },
         "mode": "markers",
         "name": "rgb(219,104,187)",
         "orientation": "v",
         "showlegend": true,
         "type": "scatter",
         "x": [
          10.889229774475098
         ],
         "xaxis": "x",
         "y": [
          12.581425666809082
         ],
         "yaxis": "y"
        },
        {
         "hovertemplate": "rgb color=rgb(229,197,107)<br>0=%{x}<br>1=%{y}<extra></extra>",
         "legendgroup": "rgb(229,197,107)",
         "marker": {
          "color": "#FF97FF",
          "symbol": "circle"
         },
         "mode": "markers",
         "name": "rgb(229,197,107)",
         "orientation": "v",
         "showlegend": true,
         "type": "scatter",
         "x": [
          12.333134651184082
         ],
         "xaxis": "x",
         "y": [
          10.92582893371582
         ],
         "yaxis": "y"
        },
        {
         "hovertemplate": "rgb color=rgb(107,42,232)<br>0=%{x}<br>1=%{y}<extra></extra>",
         "legendgroup": "rgb(107,42,232)",
         "marker": {
          "color": "#FECB52",
          "symbol": "circle"
         },
         "mode": "markers",
         "name": "rgb(107,42,232)",
         "orientation": "v",
         "showlegend": true,
         "type": "scatter",
         "x": [
          10.093255996704102
         ],
         "xaxis": "x",
         "y": [
          10.990609169006348
         ],
         "yaxis": "y"
        },
        {
         "hovertemplate": "rgb color=rgb(134,85,163)<br>0=%{x}<br>1=%{y}<extra></extra>",
         "legendgroup": "rgb(134,85,163)",
         "marker": {
          "color": "#636efa",
          "symbol": "circle"
         },
         "mode": "markers",
         "name": "rgb(134,85,163)",
         "orientation": "v",
         "showlegend": true,
         "type": "scatter",
         "x": [
          10.384153366088867
         ],
         "xaxis": "x",
         "y": [
          9.321443557739258
         ],
         "yaxis": "y"
        },
        {
         "hovertemplate": "rgb color=rgb(196,162,157)<br>0=%{x}<br>1=%{y}<extra></extra>",
         "legendgroup": "rgb(196,162,157)",
         "marker": {
          "color": "#EF553B",
          "symbol": "circle"
         },
         "mode": "markers",
         "name": "rgb(196,162,157)",
         "orientation": "v",
         "showlegend": true,
         "type": "scatter",
         "x": [
          12.034104347229004
         ],
         "xaxis": "x",
         "y": [
          11.502090454101562
         ],
         "yaxis": "y"
        },
        {
         "hovertemplate": "rgb color=rgb(171,62,119)<br>0=%{x}<br>1=%{y}<extra></extra>",
         "legendgroup": "rgb(171,62,119)",
         "marker": {
          "color": "#00cc96",
          "symbol": "circle"
         },
         "mode": "markers",
         "name": "rgb(171,62,119)",
         "orientation": "v",
         "showlegend": true,
         "type": "scatter",
         "x": [
          9.997490882873535
         ],
         "xaxis": "x",
         "y": [
          10.448750495910645
         ],
         "yaxis": "y"
        },
        {
         "hovertemplate": "rgb color=rgb(110,50,193)<br>0=%{x}<br>1=%{y}<extra></extra>",
         "legendgroup": "rgb(110,50,193)",
         "marker": {
          "color": "#ab63fa",
          "symbol": "circle"
         },
         "mode": "markers",
         "name": "rgb(110,50,193)",
         "orientation": "v",
         "showlegend": true,
         "type": "scatter",
         "x": [
          7.977989673614502
         ],
         "xaxis": "x",
         "y": [
          10.799653053283691
         ],
         "yaxis": "y"
        },
        {
         "hovertemplate": "rgb color=rgb(165,241,54)<br>0=%{x}<br>1=%{y}<extra></extra>",
         "legendgroup": "rgb(165,241,54)",
         "marker": {
          "color": "#FFA15A",
          "symbol": "circle"
         },
         "mode": "markers",
         "name": "rgb(165,241,54)",
         "orientation": "v",
         "showlegend": true,
         "type": "scatter",
         "x": [
          11.420955657958984
         ],
         "xaxis": "x",
         "y": [
          11.244720458984375
         ],
         "yaxis": "y"
        },
        {
         "hovertemplate": "rgb color=rgb(121,210,47)<br>0=%{x}<br>1=%{y}<extra></extra>",
         "legendgroup": "rgb(121,210,47)",
         "marker": {
          "color": "#19d3f3",
          "symbol": "circle"
         },
         "mode": "markers",
         "name": "rgb(121,210,47)",
         "orientation": "v",
         "showlegend": true,
         "type": "scatter",
         "x": [
          8.473388671875
         ],
         "xaxis": "x",
         "y": [
          10.653800964355469
         ],
         "yaxis": "y"
        },
        {
         "hovertemplate": "rgb color=rgb(153,76,23)<br>0=%{x}<br>1=%{y}<extra></extra>",
         "legendgroup": "rgb(153,76,23)",
         "marker": {
          "color": "#FF6692",
          "symbol": "circle"
         },
         "mode": "markers",
         "name": "rgb(153,76,23)",
         "orientation": "v",
         "showlegend": true,
         "type": "scatter",
         "x": [
          9.102545738220215
         ],
         "xaxis": "x",
         "y": [
          9.59521198272705
         ],
         "yaxis": "y"
        },
        {
         "hovertemplate": "rgb color=rgb(93,131,47)<br>0=%{x}<br>1=%{y}<extra></extra>",
         "legendgroup": "rgb(93,131,47)",
         "marker": {
          "color": "#B6E880",
          "symbol": "circle"
         },
         "mode": "markers",
         "name": "rgb(93,131,47)",
         "orientation": "v",
         "showlegend": true,
         "type": "scatter",
         "x": [
          9.899933815002441
         ],
         "xaxis": "x",
         "y": [
          9.727742195129395
         ],
         "yaxis": "y"
        },
        {
         "hovertemplate": "rgb color=rgb(67,27,213)<br>0=%{x}<br>1=%{y}<extra></extra>",
         "legendgroup": "rgb(67,27,213)",
         "marker": {
          "color": "#FF97FF",
          "symbol": "circle"
         },
         "mode": "markers",
         "name": "rgb(67,27,213)",
         "orientation": "v",
         "showlegend": true,
         "type": "scatter",
         "x": [
          10.934243202209473
         ],
         "xaxis": "x",
         "y": [
          9.587701797485352
         ],
         "yaxis": "y"
        },
        {
         "hovertemplate": "rgb color=rgb(194,67,93)<br>0=%{x}<br>1=%{y}<extra></extra>",
         "legendgroup": "rgb(194,67,93)",
         "marker": {
          "color": "#FECB52",
          "symbol": "circle"
         },
         "mode": "markers",
         "name": "rgb(194,67,93)",
         "orientation": "v",
         "showlegend": true,
         "type": "scatter",
         "x": [
          11.622904777526855
         ],
         "xaxis": "x",
         "y": [
          10.149243354797363
         ],
         "yaxis": "y"
        },
        {
         "hovertemplate": "rgb color=rgb(232,97,13)<br>0=%{x}<br>1=%{y}<extra></extra>",
         "legendgroup": "rgb(232,97,13)",
         "marker": {
          "color": "#636efa",
          "symbol": "circle"
         },
         "mode": "markers",
         "name": "rgb(232,97,13)",
         "orientation": "v",
         "showlegend": true,
         "type": "scatter",
         "x": [
          9.427055358886719
         ],
         "xaxis": "x",
         "y": [
          10.133771896362305
         ],
         "yaxis": "y"
        },
        {
         "hovertemplate": "rgb color=rgb(60,113,122)<br>0=%{x}<br>1=%{y}<extra></extra>",
         "legendgroup": "rgb(60,113,122)",
         "marker": {
          "color": "#EF553B",
          "symbol": "circle"
         },
         "mode": "markers",
         "name": "rgb(60,113,122)",
         "orientation": "v",
         "showlegend": true,
         "type": "scatter",
         "x": [
          9.574125289916992
         ],
         "xaxis": "x",
         "y": [
          10.91946029663086
         ],
         "yaxis": "y"
        },
        {
         "hovertemplate": "rgb color=rgb(88,112,214)<br>0=%{x}<br>1=%{y}<extra></extra>",
         "legendgroup": "rgb(88,112,214)",
         "marker": {
          "color": "#00cc96",
          "symbol": "circle"
         },
         "mode": "markers",
         "name": "rgb(88,112,214)",
         "orientation": "v",
         "showlegend": true,
         "type": "scatter",
         "x": [
          10.770669937133789
         ],
         "xaxis": "x",
         "y": [
          10.12580680847168
         ],
         "yaxis": "y"
        },
        {
         "hovertemplate": "rgb color=rgb(54,193,89)<br>0=%{x}<br>1=%{y}<extra></extra>",
         "legendgroup": "rgb(54,193,89)",
         "marker": {
          "color": "#ab63fa",
          "symbol": "circle"
         },
         "mode": "markers",
         "name": "rgb(54,193,89)",
         "orientation": "v",
         "showlegend": true,
         "type": "scatter",
         "x": [
          11.31069278717041
         ],
         "xaxis": "x",
         "y": [
          9.954423904418945
         ],
         "yaxis": "y"
        },
        {
         "hovertemplate": "rgb color=rgb(135,50,51)<br>0=%{x}<br>1=%{y}<extra></extra>",
         "legendgroup": "rgb(135,50,51)",
         "marker": {
          "color": "#FFA15A",
          "symbol": "circle"
         },
         "mode": "markers",
         "name": "rgb(135,50,51)",
         "orientation": "v",
         "showlegend": true,
         "type": "scatter",
         "x": [
          8.165629386901855
         ],
         "xaxis": "x",
         "y": [
          10.095364570617676
         ],
         "yaxis": "y"
        },
        {
         "hovertemplate": "rgb color=rgb(86,42,236)<br>0=%{x}<br>1=%{y}<extra></extra>",
         "legendgroup": "rgb(86,42,236)",
         "marker": {
          "color": "#19d3f3",
          "symbol": "circle"
         },
         "mode": "markers",
         "name": "rgb(86,42,236)",
         "orientation": "v",
         "showlegend": true,
         "type": "scatter",
         "x": [
          10.484466552734375
         ],
         "xaxis": "x",
         "y": [
          10.637917518615723
         ],
         "yaxis": "y"
        },
        {
         "hovertemplate": "rgb color=rgb(182,76,18)<br>0=%{x}<br>1=%{y}<extra></extra>",
         "legendgroup": "rgb(182,76,18)",
         "marker": {
          "color": "#FF6692",
          "symbol": "circle"
         },
         "mode": "markers",
         "name": "rgb(182,76,18)",
         "orientation": "v",
         "showlegend": true,
         "type": "scatter",
         "x": [
          9.267741203308105
         ],
         "xaxis": "x",
         "y": [
          9.862893104553223
         ],
         "yaxis": "y"
        },
        {
         "hovertemplate": "rgb color=rgb(1,142,71)<br>0=%{x}<br>1=%{y}<extra></extra>",
         "legendgroup": "rgb(1,142,71)",
         "marker": {
          "color": "#B6E880",
          "symbol": "circle"
         },
         "mode": "markers",
         "name": "rgb(1,142,71)",
         "orientation": "v",
         "showlegend": true,
         "type": "scatter",
         "x": [
          9.552245140075684
         ],
         "xaxis": "x",
         "y": [
          11.620674133300781
         ],
         "yaxis": "y"
        },
        {
         "hovertemplate": "rgb color=rgb(188,64,197)<br>0=%{x}<br>1=%{y}<extra></extra>",
         "legendgroup": "rgb(188,64,197)",
         "marker": {
          "color": "#FF97FF",
          "symbol": "circle"
         },
         "mode": "markers",
         "name": "rgb(188,64,197)",
         "orientation": "v",
         "showlegend": true,
         "type": "scatter",
         "x": [
          10.348265647888184
         ],
         "xaxis": "x",
         "y": [
          12.374902725219727
         ],
         "yaxis": "y"
        },
        {
         "hovertemplate": "rgb color=rgb(80,78,33)<br>0=%{x}<br>1=%{y}<extra></extra>",
         "legendgroup": "rgb(80,78,33)",
         "marker": {
          "color": "#FECB52",
          "symbol": "circle"
         },
         "mode": "markers",
         "name": "rgb(80,78,33)",
         "orientation": "v",
         "showlegend": true,
         "type": "scatter",
         "x": [
          8.440905570983887
         ],
         "xaxis": "x",
         "y": [
          9.523896217346191
         ],
         "yaxis": "y"
        },
        {
         "hovertemplate": "rgb color=rgb(132,59,110)<br>0=%{x}<br>1=%{y}<extra></extra>",
         "legendgroup": "rgb(132,59,110)",
         "marker": {
          "color": "#636efa",
          "symbol": "circle"
         },
         "mode": "markers",
         "name": "rgb(132,59,110)",
         "orientation": "v",
         "showlegend": true,
         "type": "scatter",
         "x": [
          9.59734058380127
         ],
         "xaxis": "x",
         "y": [
          10.373085021972656
         ],
         "yaxis": "y"
        },
        {
         "hovertemplate": "rgb color=rgb(140,197,241)<br>0=%{x}<br>1=%{y}<extra></extra>",
         "legendgroup": "rgb(140,197,241)",
         "marker": {
          "color": "#EF553B",
          "symbol": "circle"
         },
         "mode": "markers",
         "name": "rgb(140,197,241)",
         "orientation": "v",
         "showlegend": true,
         "type": "scatter",
         "x": [
          12.23898696899414
         ],
         "xaxis": "x",
         "y": [
          11.527925491333008
         ],
         "yaxis": "y"
        },
        {
         "hovertemplate": "rgb color=rgb(30,14,77)<br>0=%{x}<br>1=%{y}<extra></extra>",
         "legendgroup": "rgb(30,14,77)",
         "marker": {
          "color": "#00cc96",
          "symbol": "circle"
         },
         "mode": "markers",
         "name": "rgb(30,14,77)",
         "orientation": "v",
         "showlegend": true,
         "type": "scatter",
         "x": [
          8.64003849029541
         ],
         "xaxis": "x",
         "y": [
          9.153429985046387
         ],
         "yaxis": "y"
        },
        {
         "hovertemplate": "rgb color=rgb(148,98,34)<br>0=%{x}<br>1=%{y}<extra></extra>",
         "legendgroup": "rgb(148,98,34)",
         "marker": {
          "color": "#ab63fa",
          "symbol": "circle"
         },
         "mode": "markers",
         "name": "rgb(148,98,34)",
         "orientation": "v",
         "showlegend": true,
         "type": "scatter",
         "x": [
          8.974023818969727
         ],
         "xaxis": "x",
         "y": [
          10.26502513885498
         ],
         "yaxis": "y"
        },
        {
         "hovertemplate": "rgb color=rgb(194,75,211)<br>0=%{x}<br>1=%{y}<extra></extra>",
         "legendgroup": "rgb(194,75,211)",
         "marker": {
          "color": "#FFA15A",
          "symbol": "circle"
         },
         "mode": "markers",
         "name": "rgb(194,75,211)",
         "orientation": "v",
         "showlegend": true,
         "type": "scatter",
         "x": [
          11.895088195800781
         ],
         "xaxis": "x",
         "y": [
          10.290478706359863
         ],
         "yaxis": "y"
        },
        {
         "hovertemplate": "rgb color=rgb(11,74,194)<br>0=%{x}<br>1=%{y}<extra></extra>",
         "legendgroup": "rgb(11,74,194)",
         "marker": {
          "color": "#19d3f3",
          "symbol": "circle"
         },
         "mode": "markers",
         "name": "rgb(11,74,194)",
         "orientation": "v",
         "showlegend": true,
         "type": "scatter",
         "x": [
          11.730846405029297
         ],
         "xaxis": "x",
         "y": [
          9.900065422058105
         ],
         "yaxis": "y"
        },
        {
         "hovertemplate": "rgb color=rgb(141,72,201)<br>0=%{x}<br>1=%{y}<extra></extra>",
         "legendgroup": "rgb(141,72,201)",
         "marker": {
          "color": "#FF6692",
          "symbol": "circle"
         },
         "mode": "markers",
         "name": "rgb(141,72,201)",
         "orientation": "v",
         "showlegend": true,
         "type": "scatter",
         "x": [
          10.184983253479004
         ],
         "xaxis": "x",
         "y": [
          11.789895057678223
         ],
         "yaxis": "y"
        },
        {
         "hovertemplate": "rgb color=rgb(14,153,214)<br>0=%{x}<br>1=%{y}<extra></extra>",
         "legendgroup": "rgb(14,153,214)",
         "marker": {
          "color": "#B6E880",
          "symbol": "circle"
         },
         "mode": "markers",
         "name": "rgb(14,153,214)",
         "orientation": "v",
         "showlegend": true,
         "type": "scatter",
         "x": [
          11.433748245239258
         ],
         "xaxis": "x",
         "y": [
          9.589009284973145
         ],
         "yaxis": "y"
        },
        {
         "hovertemplate": "rgb color=rgb(100,153,76)<br>0=%{x}<br>1=%{y}<extra></extra>",
         "legendgroup": "rgb(100,153,76)",
         "marker": {
          "color": "#FF97FF",
          "symbol": "circle"
         },
         "mode": "markers",
         "name": "rgb(100,153,76)",
         "orientation": "v",
         "showlegend": true,
         "type": "scatter",
         "x": [
          9.353013038635254
         ],
         "xaxis": "x",
         "y": [
          11.353336334228516
         ],
         "yaxis": "y"
        },
        {
         "hovertemplate": "rgb color=rgb(98,220,10)<br>0=%{x}<br>1=%{y}<extra></extra>",
         "legendgroup": "rgb(98,220,10)",
         "marker": {
          "color": "#FECB52",
          "symbol": "circle"
         },
         "mode": "markers",
         "name": "rgb(98,220,10)",
         "orientation": "v",
         "showlegend": true,
         "type": "scatter",
         "x": [
          7.458629608154297
         ],
         "xaxis": "x",
         "y": [
          10.648476600646973
         ],
         "yaxis": "y"
        },
        {
         "hovertemplate": "rgb color=rgb(174,242,82)<br>0=%{x}<br>1=%{y}<extra></extra>",
         "legendgroup": "rgb(174,242,82)",
         "marker": {
          "color": "#636efa",
          "symbol": "circle"
         },
         "mode": "markers",
         "name": "rgb(174,242,82)",
         "orientation": "v",
         "showlegend": true,
         "type": "scatter",
         "x": [
          11.779645919799805
         ],
         "xaxis": "x",
         "y": [
          10.735989570617676
         ],
         "yaxis": "y"
        },
        {
         "hovertemplate": "rgb color=rgb(164,206,205)<br>0=%{x}<br>1=%{y}<extra></extra>",
         "legendgroup": "rgb(164,206,205)",
         "marker": {
          "color": "#EF553B",
          "symbol": "circle"
         },
         "mode": "markers",
         "name": "rgb(164,206,205)",
         "orientation": "v",
         "showlegend": true,
         "type": "scatter",
         "x": [
          11.655397415161133
         ],
         "xaxis": "x",
         "y": [
          11.839371681213379
         ],
         "yaxis": "y"
        },
        {
         "hovertemplate": "rgb color=rgb(146,59,190)<br>0=%{x}<br>1=%{y}<extra></extra>",
         "legendgroup": "rgb(146,59,190)",
         "marker": {
          "color": "#00cc96",
          "symbol": "circle"
         },
         "mode": "markers",
         "name": "rgb(146,59,190)",
         "orientation": "v",
         "showlegend": true,
         "type": "scatter",
         "x": [
          11.334229469299316
         ],
         "xaxis": "x",
         "y": [
          10.71296215057373
         ],
         "yaxis": "y"
        },
        {
         "hovertemplate": "rgb color=rgb(166,95,171)<br>0=%{x}<br>1=%{y}<extra></extra>",
         "legendgroup": "rgb(166,95,171)",
         "marker": {
          "color": "#ab63fa",
          "symbol": "circle"
         },
         "mode": "markers",
         "name": "rgb(166,95,171)",
         "orientation": "v",
         "showlegend": true,
         "type": "scatter",
         "x": [
          10.031389236450195
         ],
         "xaxis": "x",
         "y": [
          11.51091194152832
         ],
         "yaxis": "y"
        },
        {
         "hovertemplate": "rgb color=rgb(46,81,210)<br>0=%{x}<br>1=%{y}<extra></extra>",
         "legendgroup": "rgb(46,81,210)",
         "marker": {
          "color": "#FFA15A",
          "symbol": "circle"
         },
         "mode": "markers",
         "name": "rgb(46,81,210)",
         "orientation": "v",
         "showlegend": true,
         "type": "scatter",
         "x": [
          10.96121883392334
         ],
         "xaxis": "x",
         "y": [
          10.373189926147461
         ],
         "yaxis": "y"
        },
        {
         "hovertemplate": "rgb color=rgb(52,132,191)<br>0=%{x}<br>1=%{y}<extra></extra>",
         "legendgroup": "rgb(52,132,191)",
         "marker": {
          "color": "#19d3f3",
          "symbol": "circle"
         },
         "mode": "markers",
         "name": "rgb(52,132,191)",
         "orientation": "v",
         "showlegend": true,
         "type": "scatter",
         "x": [
          11.329590797424316
         ],
         "xaxis": "x",
         "y": [
          9.450084686279297
         ],
         "yaxis": "y"
        },
        {
         "hovertemplate": "rgb color=rgb(203,152,93)<br>0=%{x}<br>1=%{y}<extra></extra>",
         "legendgroup": "rgb(203,152,93)",
         "marker": {
          "color": "#FF6692",
          "symbol": "circle"
         },
         "mode": "markers",
         "name": "rgb(203,152,93)",
         "orientation": "v",
         "showlegend": true,
         "type": "scatter",
         "x": [
          11.665482521057129
         ],
         "xaxis": "x",
         "y": [
          9.172330856323242
         ],
         "yaxis": "y"
        },
        {
         "hovertemplate": "rgb color=rgb(79,255,95)<br>0=%{x}<br>1=%{y}<extra></extra>",
         "legendgroup": "rgb(79,255,95)",
         "marker": {
          "color": "#B6E880",
          "symbol": "circle"
         },
         "mode": "markers",
         "name": "rgb(79,255,95)",
         "orientation": "v",
         "showlegend": true,
         "type": "scatter",
         "x": [
          8.733428955078125
         ],
         "xaxis": "x",
         "y": [
          11.511866569519043
         ],
         "yaxis": "y"
        },
        {
         "hovertemplate": "rgb color=rgb(190,105,145)<br>0=%{x}<br>1=%{y}<extra></extra>",
         "legendgroup": "rgb(190,105,145)",
         "marker": {
          "color": "#FF97FF",
          "symbol": "circle"
         },
         "mode": "markers",
         "name": "rgb(190,105,145)",
         "orientation": "v",
         "showlegend": true,
         "type": "scatter",
         "x": [
          10.358573913574219
         ],
         "xaxis": "x",
         "y": [
          11.266712188720703
         ],
         "yaxis": "y"
        },
        {
         "hovertemplate": "rgb color=rgb(196,244,215)<br>0=%{x}<br>1=%{y}<extra></extra>",
         "legendgroup": "rgb(196,244,215)",
         "marker": {
          "color": "#FECB52",
          "symbol": "circle"
         },
         "mode": "markers",
         "name": "rgb(196,244,215)",
         "orientation": "v",
         "showlegend": true,
         "type": "scatter",
         "x": [
          12.292163848876953
         ],
         "xaxis": "x",
         "y": [
          11.185993194580078
         ],
         "yaxis": "y"
        },
        {
         "hovertemplate": "rgb color=rgb(21,28,245)<br>0=%{x}<br>1=%{y}<extra></extra>",
         "legendgroup": "rgb(21,28,245)",
         "marker": {
          "color": "#636efa",
          "symbol": "circle"
         },
         "mode": "markers",
         "name": "rgb(21,28,245)",
         "orientation": "v",
         "showlegend": true,
         "type": "scatter",
         "x": [
          10.995838165283203
         ],
         "xaxis": "x",
         "y": [
          9.264371871948242
         ],
         "yaxis": "y"
        },
        {
         "hovertemplate": "rgb color=rgb(177,79,212)<br>0=%{x}<br>1=%{y}<extra></extra>",
         "legendgroup": "rgb(177,79,212)",
         "marker": {
          "color": "#EF553B",
          "symbol": "circle"
         },
         "mode": "markers",
         "name": "rgb(177,79,212)",
         "orientation": "v",
         "showlegend": true,
         "type": "scatter",
         "x": [
          11.950581550598145
         ],
         "xaxis": "x",
         "y": [
          10.567416191101074
         ],
         "yaxis": "y"
        },
        {
         "hovertemplate": "rgb color=rgb(160,67,120)<br>0=%{x}<br>1=%{y}<extra></extra>",
         "legendgroup": "rgb(160,67,120)",
         "marker": {
          "color": "#00cc96",
          "symbol": "circle"
         },
         "mode": "markers",
         "name": "rgb(160,67,120)",
         "orientation": "v",
         "showlegend": true,
         "type": "scatter",
         "x": [
          7.806971549987793
         ],
         "xaxis": "x",
         "y": [
          10.599409103393555
         ],
         "yaxis": "y"
        },
        {
         "hovertemplate": "rgb color=rgb(237,101,163)<br>0=%{x}<br>1=%{y}<extra></extra>",
         "legendgroup": "rgb(237,101,163)",
         "marker": {
          "color": "#ab63fa",
          "symbol": "circle"
         },
         "mode": "markers",
         "name": "rgb(237,101,163)",
         "orientation": "v",
         "showlegend": true,
         "type": "scatter",
         "x": [
          11.538280487060547
         ],
         "xaxis": "x",
         "y": [
          11.116408348083496
         ],
         "yaxis": "y"
        },
        {
         "hovertemplate": "rgb color=rgb(133,22,133)<br>0=%{x}<br>1=%{y}<extra></extra>",
         "legendgroup": "rgb(133,22,133)",
         "marker": {
          "color": "#FFA15A",
          "symbol": "circle"
         },
         "mode": "markers",
         "name": "rgb(133,22,133)",
         "orientation": "v",
         "showlegend": true,
         "type": "scatter",
         "x": [
          10.633049011230469
         ],
         "xaxis": "x",
         "y": [
          9.012188911437988
         ],
         "yaxis": "y"
        },
        {
         "hovertemplate": "rgb color=rgb(70,144,59)<br>0=%{x}<br>1=%{y}<extra></extra>",
         "legendgroup": "rgb(70,144,59)",
         "marker": {
          "color": "#19d3f3",
          "symbol": "circle"
         },
         "mode": "markers",
         "name": "rgb(70,144,59)",
         "orientation": "v",
         "showlegend": true,
         "type": "scatter",
         "x": [
          9.188535690307617
         ],
         "xaxis": "x",
         "y": [
          11.050137519836426
         ],
         "yaxis": "y"
        },
        {
         "hovertemplate": "rgb color=rgb(217,230,170)<br>0=%{x}<br>1=%{y}<extra></extra>",
         "legendgroup": "rgb(217,230,170)",
         "marker": {
          "color": "#FF6692",
          "symbol": "circle"
         },
         "mode": "markers",
         "name": "rgb(217,230,170)",
         "orientation": "v",
         "showlegend": true,
         "type": "scatter",
         "x": [
          11.590922355651855
         ],
         "xaxis": "x",
         "y": [
          12.369424819946289
         ],
         "yaxis": "y"
        },
        {
         "hovertemplate": "rgb color=rgb(86,155,9)<br>0=%{x}<br>1=%{y}<extra></extra>",
         "legendgroup": "rgb(86,155,9)",
         "marker": {
          "color": "#B6E880",
          "symbol": "circle"
         },
         "mode": "markers",
         "name": "rgb(86,155,9)",
         "orientation": "v",
         "showlegend": true,
         "type": "scatter",
         "x": [
          9.119020462036133
         ],
         "xaxis": "x",
         "y": [
          9.168532371520996
         ],
         "yaxis": "y"
        },
        {
         "hovertemplate": "rgb color=rgb(222,101,185)<br>0=%{x}<br>1=%{y}<extra></extra>",
         "legendgroup": "rgb(222,101,185)",
         "marker": {
          "color": "#FF97FF",
          "symbol": "circle"
         },
         "mode": "markers",
         "name": "rgb(222,101,185)",
         "orientation": "v",
         "showlegend": true,
         "type": "scatter",
         "x": [
          10.837553977966309
         ],
         "xaxis": "x",
         "y": [
          12.57846450805664
         ],
         "yaxis": "y"
        },
        {
         "hovertemplate": "rgb color=rgb(16,75,0)<br>0=%{x}<br>1=%{y}<extra></extra>",
         "legendgroup": "rgb(16,75,0)",
         "marker": {
          "color": "#FECB52",
          "symbol": "circle"
         },
         "mode": "markers",
         "name": "rgb(16,75,0)",
         "orientation": "v",
         "showlegend": true,
         "type": "scatter",
         "x": [
          7.98123836517334
         ],
         "xaxis": "x",
         "y": [
          10.888903617858887
         ],
         "yaxis": "y"
        }
       ],
       "layout": {
        "legend": {
         "title": {
          "text": "rgb color"
         },
         "tracegroupgap": 0
        },
        "showlegend": false,
        "template": {
         "data": {
          "bar": [
           {
            "error_x": {
             "color": "#2a3f5f"
            },
            "error_y": {
             "color": "#2a3f5f"
            },
            "marker": {
             "line": {
              "color": "#E5ECF6",
              "width": 0.5
             },
             "pattern": {
              "fillmode": "overlay",
              "size": 10,
              "solidity": 0.2
             }
            },
            "type": "bar"
           }
          ],
          "barpolar": [
           {
            "marker": {
             "line": {
              "color": "#E5ECF6",
              "width": 0.5
             },
             "pattern": {
              "fillmode": "overlay",
              "size": 10,
              "solidity": 0.2
             }
            },
            "type": "barpolar"
           }
          ],
          "carpet": [
           {
            "aaxis": {
             "endlinecolor": "#2a3f5f",
             "gridcolor": "white",
             "linecolor": "white",
             "minorgridcolor": "white",
             "startlinecolor": "#2a3f5f"
            },
            "baxis": {
             "endlinecolor": "#2a3f5f",
             "gridcolor": "white",
             "linecolor": "white",
             "minorgridcolor": "white",
             "startlinecolor": "#2a3f5f"
            },
            "type": "carpet"
           }
          ],
          "choropleth": [
           {
            "colorbar": {
             "outlinewidth": 0,
             "ticks": ""
            },
            "type": "choropleth"
           }
          ],
          "contour": [
           {
            "colorbar": {
             "outlinewidth": 0,
             "ticks": ""
            },
            "colorscale": [
             [
              0,
              "#0d0887"
             ],
             [
              0.1111111111111111,
              "#46039f"
             ],
             [
              0.2222222222222222,
              "#7201a8"
             ],
             [
              0.3333333333333333,
              "#9c179e"
             ],
             [
              0.4444444444444444,
              "#bd3786"
             ],
             [
              0.5555555555555556,
              "#d8576b"
             ],
             [
              0.6666666666666666,
              "#ed7953"
             ],
             [
              0.7777777777777778,
              "#fb9f3a"
             ],
             [
              0.8888888888888888,
              "#fdca26"
             ],
             [
              1,
              "#f0f921"
             ]
            ],
            "type": "contour"
           }
          ],
          "contourcarpet": [
           {
            "colorbar": {
             "outlinewidth": 0,
             "ticks": ""
            },
            "type": "contourcarpet"
           }
          ],
          "heatmap": [
           {
            "colorbar": {
             "outlinewidth": 0,
             "ticks": ""
            },
            "colorscale": [
             [
              0,
              "#0d0887"
             ],
             [
              0.1111111111111111,
              "#46039f"
             ],
             [
              0.2222222222222222,
              "#7201a8"
             ],
             [
              0.3333333333333333,
              "#9c179e"
             ],
             [
              0.4444444444444444,
              "#bd3786"
             ],
             [
              0.5555555555555556,
              "#d8576b"
             ],
             [
              0.6666666666666666,
              "#ed7953"
             ],
             [
              0.7777777777777778,
              "#fb9f3a"
             ],
             [
              0.8888888888888888,
              "#fdca26"
             ],
             [
              1,
              "#f0f921"
             ]
            ],
            "type": "heatmap"
           }
          ],
          "heatmapgl": [
           {
            "colorbar": {
             "outlinewidth": 0,
             "ticks": ""
            },
            "colorscale": [
             [
              0,
              "#0d0887"
             ],
             [
              0.1111111111111111,
              "#46039f"
             ],
             [
              0.2222222222222222,
              "#7201a8"
             ],
             [
              0.3333333333333333,
              "#9c179e"
             ],
             [
              0.4444444444444444,
              "#bd3786"
             ],
             [
              0.5555555555555556,
              "#d8576b"
             ],
             [
              0.6666666666666666,
              "#ed7953"
             ],
             [
              0.7777777777777778,
              "#fb9f3a"
             ],
             [
              0.8888888888888888,
              "#fdca26"
             ],
             [
              1,
              "#f0f921"
             ]
            ],
            "type": "heatmapgl"
           }
          ],
          "histogram": [
           {
            "marker": {
             "pattern": {
              "fillmode": "overlay",
              "size": 10,
              "solidity": 0.2
             }
            },
            "type": "histogram"
           }
          ],
          "histogram2d": [
           {
            "colorbar": {
             "outlinewidth": 0,
             "ticks": ""
            },
            "colorscale": [
             [
              0,
              "#0d0887"
             ],
             [
              0.1111111111111111,
              "#46039f"
             ],
             [
              0.2222222222222222,
              "#7201a8"
             ],
             [
              0.3333333333333333,
              "#9c179e"
             ],
             [
              0.4444444444444444,
              "#bd3786"
             ],
             [
              0.5555555555555556,
              "#d8576b"
             ],
             [
              0.6666666666666666,
              "#ed7953"
             ],
             [
              0.7777777777777778,
              "#fb9f3a"
             ],
             [
              0.8888888888888888,
              "#fdca26"
             ],
             [
              1,
              "#f0f921"
             ]
            ],
            "type": "histogram2d"
           }
          ],
          "histogram2dcontour": [
           {
            "colorbar": {
             "outlinewidth": 0,
             "ticks": ""
            },
            "colorscale": [
             [
              0,
              "#0d0887"
             ],
             [
              0.1111111111111111,
              "#46039f"
             ],
             [
              0.2222222222222222,
              "#7201a8"
             ],
             [
              0.3333333333333333,
              "#9c179e"
             ],
             [
              0.4444444444444444,
              "#bd3786"
             ],
             [
              0.5555555555555556,
              "#d8576b"
             ],
             [
              0.6666666666666666,
              "#ed7953"
             ],
             [
              0.7777777777777778,
              "#fb9f3a"
             ],
             [
              0.8888888888888888,
              "#fdca26"
             ],
             [
              1,
              "#f0f921"
             ]
            ],
            "type": "histogram2dcontour"
           }
          ],
          "mesh3d": [
           {
            "colorbar": {
             "outlinewidth": 0,
             "ticks": ""
            },
            "type": "mesh3d"
           }
          ],
          "parcoords": [
           {
            "line": {
             "colorbar": {
              "outlinewidth": 0,
              "ticks": ""
             }
            },
            "type": "parcoords"
           }
          ],
          "pie": [
           {
            "automargin": true,
            "type": "pie"
           }
          ],
          "scatter": [
           {
            "fillpattern": {
             "fillmode": "overlay",
             "size": 10,
             "solidity": 0.2
            },
            "type": "scatter"
           }
          ],
          "scatter3d": [
           {
            "line": {
             "colorbar": {
              "outlinewidth": 0,
              "ticks": ""
             }
            },
            "marker": {
             "colorbar": {
              "outlinewidth": 0,
              "ticks": ""
             }
            },
            "type": "scatter3d"
           }
          ],
          "scattercarpet": [
           {
            "marker": {
             "colorbar": {
              "outlinewidth": 0,
              "ticks": ""
             }
            },
            "type": "scattercarpet"
           }
          ],
          "scattergeo": [
           {
            "marker": {
             "colorbar": {
              "outlinewidth": 0,
              "ticks": ""
             }
            },
            "type": "scattergeo"
           }
          ],
          "scattergl": [
           {
            "marker": {
             "colorbar": {
              "outlinewidth": 0,
              "ticks": ""
             }
            },
            "type": "scattergl"
           }
          ],
          "scattermapbox": [
           {
            "marker": {
             "colorbar": {
              "outlinewidth": 0,
              "ticks": ""
             }
            },
            "type": "scattermapbox"
           }
          ],
          "scatterpolar": [
           {
            "marker": {
             "colorbar": {
              "outlinewidth": 0,
              "ticks": ""
             }
            },
            "type": "scatterpolar"
           }
          ],
          "scatterpolargl": [
           {
            "marker": {
             "colorbar": {
              "outlinewidth": 0,
              "ticks": ""
             }
            },
            "type": "scatterpolargl"
           }
          ],
          "scatterternary": [
           {
            "marker": {
             "colorbar": {
              "outlinewidth": 0,
              "ticks": ""
             }
            },
            "type": "scatterternary"
           }
          ],
          "surface": [
           {
            "colorbar": {
             "outlinewidth": 0,
             "ticks": ""
            },
            "colorscale": [
             [
              0,
              "#0d0887"
             ],
             [
              0.1111111111111111,
              "#46039f"
             ],
             [
              0.2222222222222222,
              "#7201a8"
             ],
             [
              0.3333333333333333,
              "#9c179e"
             ],
             [
              0.4444444444444444,
              "#bd3786"
             ],
             [
              0.5555555555555556,
              "#d8576b"
             ],
             [
              0.6666666666666666,
              "#ed7953"
             ],
             [
              0.7777777777777778,
              "#fb9f3a"
             ],
             [
              0.8888888888888888,
              "#fdca26"
             ],
             [
              1,
              "#f0f921"
             ]
            ],
            "type": "surface"
           }
          ],
          "table": [
           {
            "cells": {
             "fill": {
              "color": "#EBF0F8"
             },
             "line": {
              "color": "white"
             }
            },
            "header": {
             "fill": {
              "color": "#C8D4E3"
             },
             "line": {
              "color": "white"
             }
            },
            "type": "table"
           }
          ]
         },
         "layout": {
          "annotationdefaults": {
           "arrowcolor": "#2a3f5f",
           "arrowhead": 0,
           "arrowwidth": 1
          },
          "autotypenumbers": "strict",
          "coloraxis": {
           "colorbar": {
            "outlinewidth": 0,
            "ticks": ""
           }
          },
          "colorscale": {
           "diverging": [
            [
             0,
             "#8e0152"
            ],
            [
             0.1,
             "#c51b7d"
            ],
            [
             0.2,
             "#de77ae"
            ],
            [
             0.3,
             "#f1b6da"
            ],
            [
             0.4,
             "#fde0ef"
            ],
            [
             0.5,
             "#f7f7f7"
            ],
            [
             0.6,
             "#e6f5d0"
            ],
            [
             0.7,
             "#b8e186"
            ],
            [
             0.8,
             "#7fbc41"
            ],
            [
             0.9,
             "#4d9221"
            ],
            [
             1,
             "#276419"
            ]
           ],
           "sequential": [
            [
             0,
             "#0d0887"
            ],
            [
             0.1111111111111111,
             "#46039f"
            ],
            [
             0.2222222222222222,
             "#7201a8"
            ],
            [
             0.3333333333333333,
             "#9c179e"
            ],
            [
             0.4444444444444444,
             "#bd3786"
            ],
            [
             0.5555555555555556,
             "#d8576b"
            ],
            [
             0.6666666666666666,
             "#ed7953"
            ],
            [
             0.7777777777777778,
             "#fb9f3a"
            ],
            [
             0.8888888888888888,
             "#fdca26"
            ],
            [
             1,
             "#f0f921"
            ]
           ],
           "sequentialminus": [
            [
             0,
             "#0d0887"
            ],
            [
             0.1111111111111111,
             "#46039f"
            ],
            [
             0.2222222222222222,
             "#7201a8"
            ],
            [
             0.3333333333333333,
             "#9c179e"
            ],
            [
             0.4444444444444444,
             "#bd3786"
            ],
            [
             0.5555555555555556,
             "#d8576b"
            ],
            [
             0.6666666666666666,
             "#ed7953"
            ],
            [
             0.7777777777777778,
             "#fb9f3a"
            ],
            [
             0.8888888888888888,
             "#fdca26"
            ],
            [
             1,
             "#f0f921"
            ]
           ]
          },
          "colorway": [
           "#636efa",
           "#EF553B",
           "#00cc96",
           "#ab63fa",
           "#FFA15A",
           "#19d3f3",
           "#FF6692",
           "#B6E880",
           "#FF97FF",
           "#FECB52"
          ],
          "font": {
           "color": "#2a3f5f"
          },
          "geo": {
           "bgcolor": "white",
           "lakecolor": "white",
           "landcolor": "#E5ECF6",
           "showlakes": true,
           "showland": true,
           "subunitcolor": "white"
          },
          "hoverlabel": {
           "align": "left"
          },
          "hovermode": "closest",
          "mapbox": {
           "style": "light"
          },
          "paper_bgcolor": "white",
          "plot_bgcolor": "#E5ECF6",
          "polar": {
           "angularaxis": {
            "gridcolor": "white",
            "linecolor": "white",
            "ticks": ""
           },
           "bgcolor": "#E5ECF6",
           "radialaxis": {
            "gridcolor": "white",
            "linecolor": "white",
            "ticks": ""
           }
          },
          "scene": {
           "xaxis": {
            "backgroundcolor": "#E5ECF6",
            "gridcolor": "white",
            "gridwidth": 2,
            "linecolor": "white",
            "showbackground": true,
            "ticks": "",
            "zerolinecolor": "white"
           },
           "yaxis": {
            "backgroundcolor": "#E5ECF6",
            "gridcolor": "white",
            "gridwidth": 2,
            "linecolor": "white",
            "showbackground": true,
            "ticks": "",
            "zerolinecolor": "white"
           },
           "zaxis": {
            "backgroundcolor": "#E5ECF6",
            "gridcolor": "white",
            "gridwidth": 2,
            "linecolor": "white",
            "showbackground": true,
            "ticks": "",
            "zerolinecolor": "white"
           }
          },
          "shapedefaults": {
           "line": {
            "color": "#2a3f5f"
           }
          },
          "ternary": {
           "aaxis": {
            "gridcolor": "white",
            "linecolor": "white",
            "ticks": ""
           },
           "baxis": {
            "gridcolor": "white",
            "linecolor": "white",
            "ticks": ""
           },
           "bgcolor": "#E5ECF6",
           "caxis": {
            "gridcolor": "white",
            "linecolor": "white",
            "ticks": ""
           }
          },
          "title": {
           "x": 0.05
          },
          "xaxis": {
           "automargin": true,
           "gridcolor": "white",
           "linecolor": "white",
           "ticks": "",
           "title": {
            "standoff": 15
           },
           "zerolinecolor": "white",
           "zerolinewidth": 2
          },
          "yaxis": {
           "automargin": true,
           "gridcolor": "white",
           "linecolor": "white",
           "ticks": "",
           "title": {
            "standoff": 15
           },
           "zerolinecolor": "white",
           "zerolinewidth": 2
          }
         }
        },
        "title": {
         "text": "UMAP of DistilBERT embeddings of rgb colors"
        },
        "xaxis": {
         "anchor": "y",
         "domain": [
          0,
          1
         ],
         "title": {
          "text": "0"
         }
        },
        "yaxis": {
         "anchor": "x",
         "domain": [
          0,
          1
         ],
         "title": {
          "text": "1"
         }
        }
       }
      }
     },
     "metadata": {},
     "output_type": "display_data"
    }
   ],
   "source": [
    "# try umap in 2d\n",
    "reducer = umap.UMAP(n_components=2)\n",
    "rgb_umap = reducer.fit_transform(rgb_embeddings)\n",
    "\n",
    "# plot umap results with plotly\n",
    "fig = px.scatter(\n",
    "    rgb_umap, x=0, y=1, color=rgb_colors,\n",
    "    labels={'color': 'rgb color'},\n",
    "    title='UMAP of DistilBERT embeddings of rgb colors'\n",
    ")\n",
    "\n",
    "# hide legend\n",
    "fig.update_layout(showlegend=False)\n",
    "fig.show()"
   ]
  },
  {
   "cell_type": "code",
   "execution_count": 22,
   "metadata": {},
   "outputs": [
    {
     "data": {
      "application/vnd.plotly.v1+json": {
       "config": {
        "plotlyServerURL": "https://plot.ly"
       },
       "data": [
        {
         "hovertemplate": "rgb color=rgb(188,103,238)<br>0=%{x}<br>1=%{y}<br>2=%{z}<extra></extra>",
         "legendgroup": "rgb(188,103,238)",
         "marker": {
          "color": "#636efa",
          "symbol": "circle"
         },
         "mode": "markers",
         "name": "rgb(188,103,238)",
         "scene": "scene",
         "showlegend": true,
         "type": "scatter3d",
         "x": [
          3.3661794662475586
         ],
         "y": [
          7.75005578994751
         ],
         "z": [
          4.363178253173828
         ]
        },
        {
         "hovertemplate": "rgb color=rgb(97,81,54)<br>0=%{x}<br>1=%{y}<br>2=%{z}<extra></extra>",
         "legendgroup": "rgb(97,81,54)",
         "marker": {
          "color": "#EF553B",
          "symbol": "circle"
         },
         "mode": "markers",
         "name": "rgb(97,81,54)",
         "scene": "scene",
         "showlegend": true,
         "type": "scatter3d",
         "x": [
          4.776997089385986
         ],
         "y": [
          5.73512601852417
         ],
         "z": [
          3.2517917156219482
         ]
        },
        {
         "hovertemplate": "rgb color=rgb(252,15,162)<br>0=%{x}<br>1=%{y}<br>2=%{z}<extra></extra>",
         "legendgroup": "rgb(252,15,162)",
         "marker": {
          "color": "#00cc96",
          "symbol": "circle"
         },
         "mode": "markers",
         "name": "rgb(252,15,162)",
         "scene": "scene",
         "showlegend": true,
         "type": "scatter3d",
         "x": [
          3.818943738937378
         ],
         "y": [
          6.532350540161133
         ],
         "z": [
          5.3635711669921875
         ]
        },
        {
         "hovertemplate": "rgb color=rgb(84,85,58)<br>0=%{x}<br>1=%{y}<br>2=%{z}<extra></extra>",
         "legendgroup": "rgb(84,85,58)",
         "marker": {
          "color": "#ab63fa",
          "symbol": "circle"
         },
         "mode": "markers",
         "name": "rgb(84,85,58)",
         "scene": "scene",
         "showlegend": true,
         "type": "scatter3d",
         "x": [
          4.4474616050720215
         ],
         "y": [
          5.2473978996276855
         ],
         "z": [
          3.232635021209717
         ]
        },
        {
         "hovertemplate": "rgb color=rgb(14,216,69)<br>0=%{x}<br>1=%{y}<br>2=%{z}<extra></extra>",
         "legendgroup": "rgb(14,216,69)",
         "marker": {
          "color": "#FFA15A",
          "symbol": "circle"
         },
         "mode": "markers",
         "name": "rgb(14,216,69)",
         "scene": "scene",
         "showlegend": true,
         "type": "scatter3d",
         "x": [
          5.42204475402832
         ],
         "y": [
          6.671318054199219
         ],
         "z": [
          4.162403583526611
         ]
        },
        {
         "hovertemplate": "rgb color=rgb(130,60,47)<br>0=%{x}<br>1=%{y}<br>2=%{z}<extra></extra>",
         "legendgroup": "rgb(130,60,47)",
         "marker": {
          "color": "#19d3f3",
          "symbol": "circle"
         },
         "mode": "markers",
         "name": "rgb(130,60,47)",
         "scene": "scene",
         "showlegend": true,
         "type": "scatter3d",
         "x": [
          3.209690809249878
         ],
         "y": [
          5.442470550537109
         ],
         "z": [
          2.9577157497406006
         ]
        },
        {
         "hovertemplate": "rgb color=rgb(176,71,183)<br>0=%{x}<br>1=%{y}<br>2=%{z}<extra></extra>",
         "legendgroup": "rgb(176,71,183)",
         "marker": {
          "color": "#FF6692",
          "symbol": "circle"
         },
         "mode": "markers",
         "name": "rgb(176,71,183)",
         "scene": "scene",
         "showlegend": true,
         "type": "scatter3d",
         "x": [
          3.6478559970855713
         ],
         "y": [
          7.549067497253418
         ],
         "z": [
          2.9683518409729004
         ]
        },
        {
         "hovertemplate": "rgb color=rgb(254,115,20)<br>0=%{x}<br>1=%{y}<br>2=%{z}<extra></extra>",
         "legendgroup": "rgb(254,115,20)",
         "marker": {
          "color": "#B6E880",
          "symbol": "circle"
         },
         "mode": "markers",
         "name": "rgb(254,115,20)",
         "scene": "scene",
         "showlegend": true,
         "type": "scatter3d",
         "x": [
          2.914330005645752
         ],
         "y": [
          5.147615909576416
         ],
         "z": [
          3.2867214679718018
         ]
        },
        {
         "hovertemplate": "rgb color=rgb(98,64,237)<br>0=%{x}<br>1=%{y}<br>2=%{z}<extra></extra>",
         "legendgroup": "rgb(98,64,237)",
         "marker": {
          "color": "#FF97FF",
          "symbol": "circle"
         },
         "mode": "markers",
         "name": "rgb(98,64,237)",
         "scene": "scene",
         "showlegend": true,
         "type": "scatter3d",
         "x": [
          3.805967092514038
         ],
         "y": [
          5.249939918518066
         ],
         "z": [
          4.732306480407715
         ]
        },
        {
         "hovertemplate": "rgb color=rgb(40,156,255)<br>0=%{x}<br>1=%{y}<br>2=%{z}<extra></extra>",
         "legendgroup": "rgb(40,156,255)",
         "marker": {
          "color": "#FECB52",
          "symbol": "circle"
         },
         "mode": "markers",
         "name": "rgb(40,156,255)",
         "scene": "scene",
         "showlegend": true,
         "type": "scatter3d",
         "x": [
          3.503549814224243
         ],
         "y": [
          5.467962741851807
         ],
         "z": [
          4.871547222137451
         ]
        },
        {
         "hovertemplate": "rgb color=rgb(126,203,31)<br>0=%{x}<br>1=%{y}<br>2=%{z}<extra></extra>",
         "legendgroup": "rgb(126,203,31)",
         "marker": {
          "color": "#636efa",
          "symbol": "circle"
         },
         "mode": "markers",
         "name": "rgb(126,203,31)",
         "scene": "scene",
         "showlegend": true,
         "type": "scatter3d",
         "x": [
          4.969939708709717
         ],
         "y": [
          6.999118328094482
         ],
         "z": [
          3.205704927444458
         ]
        },
        {
         "hovertemplate": "rgb color=rgb(121,30,28)<br>0=%{x}<br>1=%{y}<br>2=%{z}<extra></extra>",
         "legendgroup": "rgb(121,30,28)",
         "marker": {
          "color": "#EF553B",
          "symbol": "circle"
         },
         "mode": "markers",
         "name": "rgb(121,30,28)",
         "scene": "scene",
         "showlegend": true,
         "type": "scatter3d",
         "x": [
          3.782681465148926
         ],
         "y": [
          5.58956241607666
         ],
         "z": [
          2.568711042404175
         ]
        },
        {
         "hovertemplate": "rgb color=rgb(240,33,189)<br>0=%{x}<br>1=%{y}<br>2=%{z}<extra></extra>",
         "legendgroup": "rgb(240,33,189)",
         "marker": {
          "color": "#00cc96",
          "symbol": "circle"
         },
         "mode": "markers",
         "name": "rgb(240,33,189)",
         "scene": "scene",
         "showlegend": true,
         "type": "scatter3d",
         "x": [
          3.0661818981170654
         ],
         "y": [
          6.127318859100342
         ],
         "z": [
          4.881899833679199
         ]
        },
        {
         "hovertemplate": "rgb color=rgb(150,8,42)<br>0=%{x}<br>1=%{y}<br>2=%{z}<extra></extra>",
         "legendgroup": "rgb(150,8,42)",
         "marker": {
          "color": "#ab63fa",
          "symbol": "circle"
         },
         "mode": "markers",
         "name": "rgb(150,8,42)",
         "scene": "scene",
         "showlegend": true,
         "type": "scatter3d",
         "x": [
          3.4483373165130615
         ],
         "y": [
          5.133961200714111
         ],
         "z": [
          3.492713451385498
         ]
        },
        {
         "hovertemplate": "rgb color=rgb(47,160,19)<br>0=%{x}<br>1=%{y}<br>2=%{z}<extra></extra>",
         "legendgroup": "rgb(47,160,19)",
         "marker": {
          "color": "#FFA15A",
          "symbol": "circle"
         },
         "mode": "markers",
         "name": "rgb(47,160,19)",
         "scene": "scene",
         "showlegend": true,
         "type": "scatter3d",
         "x": [
          3.362635374069214
         ],
         "y": [
          5.788633823394775
         ],
         "z": [
          2.6691160202026367
         ]
        },
        {
         "hovertemplate": "rgb color=rgb(251,42,60)<br>0=%{x}<br>1=%{y}<br>2=%{z}<extra></extra>",
         "legendgroup": "rgb(251,42,60)",
         "marker": {
          "color": "#19d3f3",
          "symbol": "circle"
         },
         "mode": "markers",
         "name": "rgb(251,42,60)",
         "scene": "scene",
         "showlegend": true,
         "type": "scatter3d",
         "x": [
          3.7677505016326904
         ],
         "y": [
          6.014816761016846
         ],
         "z": [
          4.887314319610596
         ]
        },
        {
         "hovertemplate": "rgb color=rgb(192,90,121)<br>0=%{x}<br>1=%{y}<br>2=%{z}<extra></extra>",
         "legendgroup": "rgb(192,90,121)",
         "marker": {
          "color": "#FF6692",
          "symbol": "circle"
         },
         "mode": "markers",
         "name": "rgb(192,90,121)",
         "scene": "scene",
         "showlegend": true,
         "type": "scatter3d",
         "x": [
          2.6626665592193604
         ],
         "y": [
          5.4355387687683105
         ],
         "z": [
          3.823000907897949
         ]
        },
        {
         "hovertemplate": "rgb color=rgb(55,109,123)<br>0=%{x}<br>1=%{y}<br>2=%{z}<extra></extra>",
         "legendgroup": "rgb(55,109,123)",
         "marker": {
          "color": "#B6E880",
          "symbol": "circle"
         },
         "mode": "markers",
         "name": "rgb(55,109,123)",
         "scene": "scene",
         "showlegend": true,
         "type": "scatter3d",
         "x": [
          4.662168979644775
         ],
         "y": [
          6.497244358062744
         ],
         "z": [
          3.26409649848938
         ]
        },
        {
         "hovertemplate": "rgb color=rgb(87,210,111)<br>0=%{x}<br>1=%{y}<br>2=%{z}<extra></extra>",
         "legendgroup": "rgb(87,210,111)",
         "marker": {
          "color": "#FF97FF",
          "symbol": "circle"
         },
         "mode": "markers",
         "name": "rgb(87,210,111)",
         "scene": "scene",
         "showlegend": true,
         "type": "scatter3d",
         "x": [
          4.699337482452393
         ],
         "y": [
          6.8110737800598145
         ],
         "z": [
          4.200648307800293
         ]
        },
        {
         "hovertemplate": "rgb color=rgb(142,245,129)<br>0=%{x}<br>1=%{y}<br>2=%{z}<extra></extra>",
         "legendgroup": "rgb(142,245,129)",
         "marker": {
          "color": "#FECB52",
          "symbol": "circle"
         },
         "mode": "markers",
         "name": "rgb(142,245,129)",
         "scene": "scene",
         "showlegend": true,
         "type": "scatter3d",
         "x": [
          3.485485792160034
         ],
         "y": [
          7.993196487426758
         ],
         "z": [
          4.998563289642334
         ]
        },
        {
         "hovertemplate": "rgb color=rgb(186,165,150)<br>0=%{x}<br>1=%{y}<br>2=%{z}<extra></extra>",
         "legendgroup": "rgb(186,165,150)",
         "marker": {
          "color": "#636efa",
          "symbol": "circle"
         },
         "mode": "markers",
         "name": "rgb(186,165,150)",
         "scene": "scene",
         "showlegend": true,
         "type": "scatter3d",
         "x": [
          3.058621883392334
         ],
         "y": [
          6.588337421417236
         ],
         "z": [
          4.2668657302856445
         ]
        },
        {
         "hovertemplate": "rgb color=rgb(249,160,157)<br>0=%{x}<br>1=%{y}<br>2=%{z}<extra></extra>",
         "legendgroup": "rgb(249,160,157)",
         "marker": {
          "color": "#EF553B",
          "symbol": "circle"
         },
         "mode": "markers",
         "name": "rgb(249,160,157)",
         "scene": "scene",
         "showlegend": true,
         "type": "scatter3d",
         "x": [
          3.5357954502105713
         ],
         "y": [
          6.765660762786865
         ],
         "z": [
          5.406373023986816
         ]
        },
        {
         "hovertemplate": "rgb color=rgb(209,241,224)<br>0=%{x}<br>1=%{y}<br>2=%{z}<extra></extra>",
         "legendgroup": "rgb(209,241,224)",
         "marker": {
          "color": "#00cc96",
          "symbol": "circle"
         },
         "mode": "markers",
         "name": "rgb(209,241,224)",
         "scene": "scene",
         "showlegend": true,
         "type": "scatter3d",
         "x": [
          3.1497068405151367
         ],
         "y": [
          7.353821277618408
         ],
         "z": [
          5.128054141998291
         ]
        },
        {
         "hovertemplate": "rgb color=rgb(21,137,107)<br>0=%{x}<br>1=%{y}<br>2=%{z}<extra></extra>",
         "legendgroup": "rgb(21,137,107)",
         "marker": {
          "color": "#ab63fa",
          "symbol": "circle"
         },
         "mode": "markers",
         "name": "rgb(21,137,107)",
         "scene": "scene",
         "showlegend": true,
         "type": "scatter3d",
         "x": [
          5.1150593757629395
         ],
         "y": [
          6.903486728668213
         ],
         "z": [
          4.554798603057861
         ]
        },
        {
         "hovertemplate": "rgb color=rgb(33,189,179)<br>0=%{x}<br>1=%{y}<br>2=%{z}<extra></extra>",
         "legendgroup": "rgb(33,189,179)",
         "marker": {
          "color": "#FFA15A",
          "symbol": "circle"
         },
         "mode": "markers",
         "name": "rgb(33,189,179)",
         "scene": "scene",
         "showlegend": true,
         "type": "scatter3d",
         "x": [
          5.578579425811768
         ],
         "y": [
          6.979291915893555
         ],
         "z": [
          4.621766567230225
         ]
        },
        {
         "hovertemplate": "rgb color=rgb(101,235,204)<br>0=%{x}<br>1=%{y}<br>2=%{z}<extra></extra>",
         "legendgroup": "rgb(101,235,204)",
         "marker": {
          "color": "#19d3f3",
          "symbol": "circle"
         },
         "mode": "markers",
         "name": "rgb(101,235,204)",
         "scene": "scene",
         "showlegend": true,
         "type": "scatter3d",
         "x": [
          3.7207326889038086
         ],
         "y": [
          7.145874977111816
         ],
         "z": [
          4.556278705596924
         ]
        },
        {
         "hovertemplate": "rgb color=rgb(177,113,97)<br>0=%{x}<br>1=%{y}<br>2=%{z}<extra></extra>",
         "legendgroup": "rgb(177,113,97)",
         "marker": {
          "color": "#FF6692",
          "symbol": "circle"
         },
         "mode": "markers",
         "name": "rgb(177,113,97)",
         "scene": "scene",
         "showlegend": true,
         "type": "scatter3d",
         "x": [
          4.230558395385742
         ],
         "y": [
          6.999532222747803
         ],
         "z": [
          3.314725399017334
         ]
        },
        {
         "hovertemplate": "rgb color=rgb(0,202,112)<br>0=%{x}<br>1=%{y}<br>2=%{z}<extra></extra>",
         "legendgroup": "rgb(0,202,112)",
         "marker": {
          "color": "#B6E880",
          "symbol": "circle"
         },
         "mode": "markers",
         "name": "rgb(0,202,112)",
         "scene": "scene",
         "showlegend": true,
         "type": "scatter3d",
         "x": [
          2.779956579208374
         ],
         "y": [
          5.675961971282959
         ],
         "z": [
          3.6208102703094482
         ]
        },
        {
         "hovertemplate": "rgb color=rgb(60,139,204)<br>0=%{x}<br>1=%{y}<br>2=%{z}<extra></extra>",
         "legendgroup": "rgb(60,139,204)",
         "marker": {
          "color": "#FF97FF",
          "symbol": "circle"
         },
         "mode": "markers",
         "name": "rgb(60,139,204)",
         "scene": "scene",
         "showlegend": true,
         "type": "scatter3d",
         "x": [
          3.489640951156616
         ],
         "y": [
          6.752313137054443
         ],
         "z": [
          4.3444342613220215
         ]
        },
        {
         "hovertemplate": "rgb color=rgb(201,172,176)<br>0=%{x}<br>1=%{y}<br>2=%{z}<extra></extra>",
         "legendgroup": "rgb(201,172,176)",
         "marker": {
          "color": "#FECB52",
          "symbol": "circle"
         },
         "mode": "markers",
         "name": "rgb(201,172,176)",
         "scene": "scene",
         "showlegend": true,
         "type": "scatter3d",
         "x": [
          3.454807996749878
         ],
         "y": [
          7.6975932121276855
         ],
         "z": [
          3.33308482170105
         ]
        },
        {
         "hovertemplate": "rgb color=rgb(192,192,156)<br>0=%{x}<br>1=%{y}<br>2=%{z}<extra></extra>",
         "legendgroup": "rgb(192,192,156)",
         "marker": {
          "color": "#636efa",
          "symbol": "circle"
         },
         "mode": "markers",
         "name": "rgb(192,192,156)",
         "scene": "scene",
         "showlegend": true,
         "type": "scatter3d",
         "x": [
          2.6482160091400146
         ],
         "y": [
          5.578425884246826
         ],
         "z": [
          4.174808979034424
         ]
        },
        {
         "hovertemplate": "rgb color=rgb(244,168,222)<br>0=%{x}<br>1=%{y}<br>2=%{z}<extra></extra>",
         "legendgroup": "rgb(244,168,222)",
         "marker": {
          "color": "#EF553B",
          "symbol": "circle"
         },
         "mode": "markers",
         "name": "rgb(244,168,222)",
         "scene": "scene",
         "showlegend": true,
         "type": "scatter3d",
         "x": [
          3.0386672019958496
         ],
         "y": [
          7.543154716491699
         ],
         "z": [
          4.903348445892334
         ]
        },
        {
         "hovertemplate": "rgb color=rgb(200,213,123)<br>0=%{x}<br>1=%{y}<br>2=%{z}<extra></extra>",
         "legendgroup": "rgb(200,213,123)",
         "marker": {
          "color": "#00cc96",
          "symbol": "circle"
         },
         "mode": "markers",
         "name": "rgb(200,213,123)",
         "scene": "scene",
         "showlegend": true,
         "type": "scatter3d",
         "x": [
          2.770726442337036
         ],
         "y": [
          6.626404762268066
         ],
         "z": [
          3.6588563919067383
         ]
        },
        {
         "hovertemplate": "rgb color=rgb(192,37,81)<br>0=%{x}<br>1=%{y}<br>2=%{z}<extra></extra>",
         "legendgroup": "rgb(192,37,81)",
         "marker": {
          "color": "#ab63fa",
          "symbol": "circle"
         },
         "mode": "markers",
         "name": "rgb(192,37,81)",
         "scene": "scene",
         "showlegend": true,
         "type": "scatter3d",
         "x": [
          3.131150245666504
         ],
         "y": [
          5.504436492919922
         ],
         "z": [
          4.393985271453857
         ]
        },
        {
         "hovertemplate": "rgb color=rgb(234,240,134)<br>0=%{x}<br>1=%{y}<br>2=%{z}<extra></extra>",
         "legendgroup": "rgb(234,240,134)",
         "marker": {
          "color": "#FFA15A",
          "symbol": "circle"
         },
         "mode": "markers",
         "name": "rgb(234,240,134)",
         "scene": "scene",
         "showlegend": true,
         "type": "scatter3d",
         "x": [
          3.0946483612060547
         ],
         "y": [
          7.091965198516846
         ],
         "z": [
          4.962893962860107
         ]
        },
        {
         "hovertemplate": "rgb color=rgb(223,133,22)<br>0=%{x}<br>1=%{y}<br>2=%{z}<extra></extra>",
         "legendgroup": "rgb(223,133,22)",
         "marker": {
          "color": "#19d3f3",
          "symbol": "circle"
         },
         "mode": "markers",
         "name": "rgb(223,133,22)",
         "scene": "scene",
         "showlegend": true,
         "type": "scatter3d",
         "x": [
          5.3959455490112305
         ],
         "y": [
          6.145591735839844
         ],
         "z": [
          4.809384346008301
         ]
        },
        {
         "hovertemplate": "rgb color=rgb(141,4,108)<br>0=%{x}<br>1=%{y}<br>2=%{z}<extra></extra>",
         "legendgroup": "rgb(141,4,108)",
         "marker": {
          "color": "#FF6692",
          "symbol": "circle"
         },
         "mode": "markers",
         "name": "rgb(141,4,108)",
         "scene": "scene",
         "showlegend": true,
         "type": "scatter3d",
         "x": [
          4.250894069671631
         ],
         "y": [
          6.115024566650391
         ],
         "z": [
          3.37451434135437
         ]
        },
        {
         "hovertemplate": "rgb color=rgb(131,213,43)<br>0=%{x}<br>1=%{y}<br>2=%{z}<extra></extra>",
         "legendgroup": "rgb(131,213,43)",
         "marker": {
          "color": "#B6E880",
          "symbol": "circle"
         },
         "mode": "markers",
         "name": "rgb(131,213,43)",
         "scene": "scene",
         "showlegend": true,
         "type": "scatter3d",
         "x": [
          5.097644329071045
         ],
         "y": [
          6.405468463897705
         ],
         "z": [
          3.7327394485473633
         ]
        },
        {
         "hovertemplate": "rgb color=rgb(68,62,57)<br>0=%{x}<br>1=%{y}<br>2=%{z}<extra></extra>",
         "legendgroup": "rgb(68,62,57)",
         "marker": {
          "color": "#FF97FF",
          "symbol": "circle"
         },
         "mode": "markers",
         "name": "rgb(68,62,57)",
         "scene": "scene",
         "showlegend": true,
         "type": "scatter3d",
         "x": [
          4.328332901000977
         ],
         "y": [
          5.160341739654541
         ],
         "z": [
          3.6108086109161377
         ]
        },
        {
         "hovertemplate": "rgb color=rgb(108,67,56)<br>0=%{x}<br>1=%{y}<br>2=%{z}<extra></extra>",
         "legendgroup": "rgb(108,67,56)",
         "marker": {
          "color": "#FECB52",
          "symbol": "circle"
         },
         "mode": "markers",
         "name": "rgb(108,67,56)",
         "scene": "scene",
         "showlegend": true,
         "type": "scatter3d",
         "x": [
          4.256257057189941
         ],
         "y": [
          5.3071393966674805
         ],
         "z": [
          3.4267890453338623
         ]
        },
        {
         "hovertemplate": "rgb color=rgb(16,96,145)<br>0=%{x}<br>1=%{y}<br>2=%{z}<extra></extra>",
         "legendgroup": "rgb(16,96,145)",
         "marker": {
          "color": "#636efa",
          "symbol": "circle"
         },
         "mode": "markers",
         "name": "rgb(16,96,145)",
         "scene": "scene",
         "showlegend": true,
         "type": "scatter3d",
         "x": [
          3.8876664638519287
         ],
         "y": [
          6.188452243804932
         ],
         "z": [
          3.836726188659668
         ]
        },
        {
         "hovertemplate": "rgb color=rgb(149,121,63)<br>0=%{x}<br>1=%{y}<br>2=%{z}<extra></extra>",
         "legendgroup": "rgb(149,121,63)",
         "marker": {
          "color": "#EF553B",
          "symbol": "circle"
         },
         "mode": "markers",
         "name": "rgb(149,121,63)",
         "scene": "scene",
         "showlegend": true,
         "type": "scatter3d",
         "x": [
          4.39890193939209
         ],
         "y": [
          6.599215984344482
         ],
         "z": [
          2.7263972759246826
         ]
        },
        {
         "hovertemplate": "rgb color=rgb(111,238,142)<br>0=%{x}<br>1=%{y}<br>2=%{z}<extra></extra>",
         "legendgroup": "rgb(111,238,142)",
         "marker": {
          "color": "#00cc96",
          "symbol": "circle"
         },
         "mode": "markers",
         "name": "rgb(111,238,142)",
         "scene": "scene",
         "showlegend": true,
         "type": "scatter3d",
         "x": [
          3.4370903968811035
         ],
         "y": [
          8.042502403259277
         ],
         "z": [
          4.581745147705078
         ]
        },
        {
         "hovertemplate": "rgb color=rgb(76,33,241)<br>0=%{x}<br>1=%{y}<br>2=%{z}<extra></extra>",
         "legendgroup": "rgb(76,33,241)",
         "marker": {
          "color": "#ab63fa",
          "symbol": "circle"
         },
         "mode": "markers",
         "name": "rgb(76,33,241)",
         "scene": "scene",
         "showlegend": true,
         "type": "scatter3d",
         "x": [
          4.180073261260986
         ],
         "y": [
          6.033223628997803
         ],
         "z": [
          4.865736961364746
         ]
        },
        {
         "hovertemplate": "rgb color=rgb(169,100,217)<br>0=%{x}<br>1=%{y}<br>2=%{z}<extra></extra>",
         "legendgroup": "rgb(169,100,217)",
         "marker": {
          "color": "#FFA15A",
          "symbol": "circle"
         },
         "mode": "markers",
         "name": "rgb(169,100,217)",
         "scene": "scene",
         "showlegend": true,
         "type": "scatter3d",
         "x": [
          2.9844658374786377
         ],
         "y": [
          7.0506911277771
         ],
         "z": [
          3.824786424636841
         ]
        },
        {
         "hovertemplate": "rgb color=rgb(38,33,179)<br>0=%{x}<br>1=%{y}<br>2=%{z}<extra></extra>",
         "legendgroup": "rgb(38,33,179)",
         "marker": {
          "color": "#19d3f3",
          "symbol": "circle"
         },
         "mode": "markers",
         "name": "rgb(38,33,179)",
         "scene": "scene",
         "showlegend": true,
         "type": "scatter3d",
         "x": [
          5.2271409034729
         ],
         "y": [
          6.337060451507568
         ],
         "z": [
          4.949775218963623
         ]
        },
        {
         "hovertemplate": "rgb color=rgb(240,131,30)<br>0=%{x}<br>1=%{y}<br>2=%{z}<extra></extra>",
         "legendgroup": "rgb(240,131,30)",
         "marker": {
          "color": "#FF6692",
          "symbol": "circle"
         },
         "mode": "markers",
         "name": "rgb(240,131,30)",
         "scene": "scene",
         "showlegend": true,
         "type": "scatter3d",
         "x": [
          2.7260489463806152
         ],
         "y": [
          5.147590637207031
         ],
         "z": [
          3.776549816131592
         ]
        },
        {
         "hovertemplate": "rgb color=rgb(219,104,187)<br>0=%{x}<br>1=%{y}<br>2=%{z}<extra></extra>",
         "legendgroup": "rgb(219,104,187)",
         "marker": {
          "color": "#B6E880",
          "symbol": "circle"
         },
         "mode": "markers",
         "name": "rgb(219,104,187)",
         "scene": "scene",
         "showlegend": true,
         "type": "scatter3d",
         "x": [
          3.3818514347076416
         ],
         "y": [
          7.912242889404297
         ],
         "z": [
          3.887970209121704
         ]
        },
        {
         "hovertemplate": "rgb color=rgb(229,197,107)<br>0=%{x}<br>1=%{y}<br>2=%{z}<extra></extra>",
         "legendgroup": "rgb(229,197,107)",
         "marker": {
          "color": "#FF97FF",
          "symbol": "circle"
         },
         "mode": "markers",
         "name": "rgb(229,197,107)",
         "scene": "scene",
         "showlegend": true,
         "type": "scatter3d",
         "x": [
          4.159902095794678
         ],
         "y": [
          7.798929214477539
         ],
         "z": [
          4.645453929901123
         ]
        },
        {
         "hovertemplate": "rgb color=rgb(107,42,232)<br>0=%{x}<br>1=%{y}<br>2=%{z}<extra></extra>",
         "legendgroup": "rgb(107,42,232)",
         "marker": {
          "color": "#FECB52",
          "symbol": "circle"
         },
         "mode": "markers",
         "name": "rgb(107,42,232)",
         "scene": "scene",
         "showlegend": true,
         "type": "scatter3d",
         "x": [
          4.322954177856445
         ],
         "y": [
          5.861632347106934
         ],
         "z": [
          4.405981063842773
         ]
        },
        {
         "hovertemplate": "rgb color=rgb(134,85,163)<br>0=%{x}<br>1=%{y}<br>2=%{z}<extra></extra>",
         "legendgroup": "rgb(134,85,163)",
         "marker": {
          "color": "#636efa",
          "symbol": "circle"
         },
         "mode": "markers",
         "name": "rgb(134,85,163)",
         "scene": "scene",
         "showlegend": true,
         "type": "scatter3d",
         "x": [
          5.183108329772949
         ],
         "y": [
          6.115089416503906
         ],
         "z": [
          4.115114212036133
         ]
        },
        {
         "hovertemplate": "rgb color=rgb(196,162,157)<br>0=%{x}<br>1=%{y}<br>2=%{z}<extra></extra>",
         "legendgroup": "rgb(196,162,157)",
         "marker": {
          "color": "#EF553B",
          "symbol": "circle"
         },
         "mode": "markers",
         "name": "rgb(196,162,157)",
         "scene": "scene",
         "showlegend": true,
         "type": "scatter3d",
         "x": [
          3.738121509552002
         ],
         "y": [
          7.0926513671875
         ],
         "z": [
          5.460679531097412
         ]
        },
        {
         "hovertemplate": "rgb color=rgb(171,62,119)<br>0=%{x}<br>1=%{y}<br>2=%{z}<extra></extra>",
         "legendgroup": "rgb(171,62,119)",
         "marker": {
          "color": "#00cc96",
          "symbol": "circle"
         },
         "mode": "markers",
         "name": "rgb(171,62,119)",
         "scene": "scene",
         "showlegend": true,
         "type": "scatter3d",
         "x": [
          4.3095479011535645
         ],
         "y": [
          6.990996837615967
         ],
         "z": [
          2.8837954998016357
         ]
        },
        {
         "hovertemplate": "rgb color=rgb(110,50,193)<br>0=%{x}<br>1=%{y}<br>2=%{z}<extra></extra>",
         "legendgroup": "rgb(110,50,193)",
         "marker": {
          "color": "#ab63fa",
          "symbol": "circle"
         },
         "mode": "markers",
         "name": "rgb(110,50,193)",
         "scene": "scene",
         "showlegend": true,
         "type": "scatter3d",
         "x": [
          2.840283155441284
         ],
         "y": [
          5.645008087158203
         ],
         "z": [
          3.103626251220703
         ]
        },
        {
         "hovertemplate": "rgb color=rgb(165,241,54)<br>0=%{x}<br>1=%{y}<br>2=%{z}<extra></extra>",
         "legendgroup": "rgb(165,241,54)",
         "marker": {
          "color": "#FFA15A",
          "symbol": "circle"
         },
         "mode": "markers",
         "name": "rgb(165,241,54)",
         "scene": "scene",
         "showlegend": true,
         "type": "scatter3d",
         "x": [
          3.829071521759033
         ],
         "y": [
          6.700383186340332
         ],
         "z": [
          4.9810471534729
         ]
        },
        {
         "hovertemplate": "rgb color=rgb(121,210,47)<br>0=%{x}<br>1=%{y}<br>2=%{z}<extra></extra>",
         "legendgroup": "rgb(121,210,47)",
         "marker": {
          "color": "#19d3f3",
          "symbol": "circle"
         },
         "mode": "markers",
         "name": "rgb(121,210,47)",
         "scene": "scene",
         "showlegend": true,
         "type": "scatter3d",
         "x": [
          2.9544219970703125
         ],
         "y": [
          6.008054256439209
         ],
         "z": [
          3.1244547367095947
         ]
        },
        {
         "hovertemplate": "rgb color=rgb(153,76,23)<br>0=%{x}<br>1=%{y}<br>2=%{z}<extra></extra>",
         "legendgroup": "rgb(153,76,23)",
         "marker": {
          "color": "#FF6692",
          "symbol": "circle"
         },
         "mode": "markers",
         "name": "rgb(153,76,23)",
         "scene": "scene",
         "showlegend": true,
         "type": "scatter3d",
         "x": [
          4.119193077087402
         ],
         "y": [
          6.219480037689209
         ],
         "z": [
          2.454633951187134
         ]
        },
        {
         "hovertemplate": "rgb color=rgb(93,131,47)<br>0=%{x}<br>1=%{y}<br>2=%{z}<extra></extra>",
         "legendgroup": "rgb(93,131,47)",
         "marker": {
          "color": "#B6E880",
          "symbol": "circle"
         },
         "mode": "markers",
         "name": "rgb(93,131,47)",
         "scene": "scene",
         "showlegend": true,
         "type": "scatter3d",
         "x": [
          4.953631401062012
         ],
         "y": [
          6.4293341636657715
         ],
         "z": [
          3.1459429264068604
         ]
        },
        {
         "hovertemplate": "rgb color=rgb(67,27,213)<br>0=%{x}<br>1=%{y}<br>2=%{z}<extra></extra>",
         "legendgroup": "rgb(67,27,213)",
         "marker": {
          "color": "#FF97FF",
          "symbol": "circle"
         },
         "mode": "markers",
         "name": "rgb(67,27,213)",
         "scene": "scene",
         "showlegend": true,
         "type": "scatter3d",
         "x": [
          5.040738582611084
         ],
         "y": [
          6.665449142456055
         ],
         "z": [
          4.787743091583252
         ]
        },
        {
         "hovertemplate": "rgb color=rgb(194,67,93)<br>0=%{x}<br>1=%{y}<br>2=%{z}<extra></extra>",
         "legendgroup": "rgb(194,67,93)",
         "marker": {
          "color": "#FECB52",
          "symbol": "circle"
         },
         "mode": "markers",
         "name": "rgb(194,67,93)",
         "scene": "scene",
         "showlegend": true,
         "type": "scatter3d",
         "x": [
          5.153862476348877
         ],
         "y": [
          7.1906609535217285
         ],
         "z": [
          3.535428047180176
         ]
        },
        {
         "hovertemplate": "rgb color=rgb(232,97,13)<br>0=%{x}<br>1=%{y}<br>2=%{z}<extra></extra>",
         "legendgroup": "rgb(232,97,13)",
         "marker": {
          "color": "#636efa",
          "symbol": "circle"
         },
         "mode": "markers",
         "name": "rgb(232,97,13)",
         "scene": "scene",
         "showlegend": true,
         "type": "scatter3d",
         "x": [
          3.9422078132629395
         ],
         "y": [
          5.39457893371582
         ],
         "z": [
          4.202031135559082
         ]
        },
        {
         "hovertemplate": "rgb color=rgb(60,113,122)<br>0=%{x}<br>1=%{y}<br>2=%{z}<extra></extra>",
         "legendgroup": "rgb(60,113,122)",
         "marker": {
          "color": "#EF553B",
          "symbol": "circle"
         },
         "mode": "markers",
         "name": "rgb(60,113,122)",
         "scene": "scene",
         "showlegend": true,
         "type": "scatter3d",
         "x": [
          3.5030927658081055
         ],
         "y": [
          6.374569416046143
         ],
         "z": [
          3.1227262020111084
         ]
        },
        {
         "hovertemplate": "rgb color=rgb(88,112,214)<br>0=%{x}<br>1=%{y}<br>2=%{z}<extra></extra>",
         "legendgroup": "rgb(88,112,214)",
         "marker": {
          "color": "#00cc96",
          "symbol": "circle"
         },
         "mode": "markers",
         "name": "rgb(88,112,214)",
         "scene": "scene",
         "showlegend": true,
         "type": "scatter3d",
         "x": [
          4.935247898101807
         ],
         "y": [
          6.559815883636475
         ],
         "z": [
          4.112653732299805
         ]
        },
        {
         "hovertemplate": "rgb color=rgb(54,193,89)<br>0=%{x}<br>1=%{y}<br>2=%{z}<extra></extra>",
         "legendgroup": "rgb(54,193,89)",
         "marker": {
          "color": "#ab63fa",
          "symbol": "circle"
         },
         "mode": "markers",
         "name": "rgb(54,193,89)",
         "scene": "scene",
         "showlegend": true,
         "type": "scatter3d",
         "x": [
          5.318695068359375
         ],
         "y": [
          7.073910236358643
         ],
         "z": [
          3.8755311965942383
         ]
        },
        {
         "hovertemplate": "rgb color=rgb(135,50,51)<br>0=%{x}<br>1=%{y}<br>2=%{z}<extra></extra>",
         "legendgroup": "rgb(135,50,51)",
         "marker": {
          "color": "#FFA15A",
          "symbol": "circle"
         },
         "mode": "markers",
         "name": "rgb(135,50,51)",
         "scene": "scene",
         "showlegend": true,
         "type": "scatter3d",
         "x": [
          2.9415645599365234
         ],
         "y": [
          5.4205756187438965
         ],
         "z": [
          2.8465378284454346
         ]
        },
        {
         "hovertemplate": "rgb color=rgb(86,42,236)<br>0=%{x}<br>1=%{y}<br>2=%{z}<extra></extra>",
         "legendgroup": "rgb(86,42,236)",
         "marker": {
          "color": "#19d3f3",
          "symbol": "circle"
         },
         "mode": "markers",
         "name": "rgb(86,42,236)",
         "scene": "scene",
         "showlegend": true,
         "type": "scatter3d",
         "x": [
          4.594066143035889
         ],
         "y": [
          5.816426753997803
         ],
         "z": [
          4.707143783569336
         ]
        },
        {
         "hovertemplate": "rgb color=rgb(182,76,18)<br>0=%{x}<br>1=%{y}<br>2=%{z}<extra></extra>",
         "legendgroup": "rgb(182,76,18)",
         "marker": {
          "color": "#FF6692",
          "symbol": "circle"
         },
         "mode": "markers",
         "name": "rgb(182,76,18)",
         "scene": "scene",
         "showlegend": true,
         "type": "scatter3d",
         "x": [
          3.8887665271759033
         ],
         "y": [
          6.53836727142334
         ],
         "z": [
          2.5631558895111084
         ]
        },
        {
         "hovertemplate": "rgb color=rgb(1,142,71)<br>0=%{x}<br>1=%{y}<br>2=%{z}<extra></extra>",
         "legendgroup": "rgb(1,142,71)",
         "marker": {
          "color": "#B6E880",
          "symbol": "circle"
         },
         "mode": "markers",
         "name": "rgb(1,142,71)",
         "scene": "scene",
         "showlegend": true,
         "type": "scatter3d",
         "x": [
          3.4381799697875977
         ],
         "y": [
          6.4292473793029785
         ],
         "z": [
          3.399514675140381
         ]
        },
        {
         "hovertemplate": "rgb color=rgb(188,64,197)<br>0=%{x}<br>1=%{y}<br>2=%{z}<extra></extra>",
         "legendgroup": "rgb(188,64,197)",
         "marker": {
          "color": "#FF97FF",
          "symbol": "circle"
         },
         "mode": "markers",
         "name": "rgb(188,64,197)",
         "scene": "scene",
         "showlegend": true,
         "type": "scatter3d",
         "x": [
          3.1289641857147217
         ],
         "y": [
          7.696958065032959
         ],
         "z": [
          4.015440940856934
         ]
        },
        {
         "hovertemplate": "rgb color=rgb(80,78,33)<br>0=%{x}<br>1=%{y}<br>2=%{z}<extra></extra>",
         "legendgroup": "rgb(80,78,33)",
         "marker": {
          "color": "#FECB52",
          "symbol": "circle"
         },
         "mode": "markers",
         "name": "rgb(80,78,33)",
         "scene": "scene",
         "showlegend": true,
         "type": "scatter3d",
         "x": [
          3.934528112411499
         ],
         "y": [
          4.979455471038818
         ],
         "z": [
          3.1917388439178467
         ]
        },
        {
         "hovertemplate": "rgb color=rgb(132,59,110)<br>0=%{x}<br>1=%{y}<br>2=%{z}<extra></extra>",
         "legendgroup": "rgb(132,59,110)",
         "marker": {
          "color": "#636efa",
          "symbol": "circle"
         },
         "mode": "markers",
         "name": "rgb(132,59,110)",
         "scene": "scene",
         "showlegend": true,
         "type": "scatter3d",
         "x": [
          4.107388973236084
         ],
         "y": [
          6.252935409545898
         ],
         "z": [
          3.0000016689300537
         ]
        },
        {
         "hovertemplate": "rgb color=rgb(140,197,241)<br>0=%{x}<br>1=%{y}<br>2=%{z}<extra></extra>",
         "legendgroup": "rgb(140,197,241)",
         "marker": {
          "color": "#EF553B",
          "symbol": "circle"
         },
         "mode": "markers",
         "name": "rgb(140,197,241)",
         "scene": "scene",
         "showlegend": true,
         "type": "scatter3d",
         "x": [
          3.689572334289551
         ],
         "y": [
          7.732997894287109
         ],
         "z": [
          5.004528999328613
         ]
        },
        {
         "hovertemplate": "rgb color=rgb(30,14,77)<br>0=%{x}<br>1=%{y}<br>2=%{z}<extra></extra>",
         "legendgroup": "rgb(30,14,77)",
         "marker": {
          "color": "#00cc96",
          "symbol": "circle"
         },
         "mode": "markers",
         "name": "rgb(30,14,77)",
         "scene": "scene",
         "showlegend": true,
         "type": "scatter3d",
         "x": [
          4.094271659851074
         ],
         "y": [
          5.5929975509643555
         ],
         "z": [
          2.5823473930358887
         ]
        },
        {
         "hovertemplate": "rgb color=rgb(148,98,34)<br>0=%{x}<br>1=%{y}<br>2=%{z}<extra></extra>",
         "legendgroup": "rgb(148,98,34)",
         "marker": {
          "color": "#ab63fa",
          "symbol": "circle"
         },
         "mode": "markers",
         "name": "rgb(148,98,34)",
         "scene": "scene",
         "showlegend": true,
         "type": "scatter3d",
         "x": [
          4.162549018859863
         ],
         "y": [
          5.125308036804199
         ],
         "z": [
          4.329894542694092
         ]
        },
        {
         "hovertemplate": "rgb color=rgb(194,75,211)<br>0=%{x}<br>1=%{y}<br>2=%{z}<extra></extra>",
         "legendgroup": "rgb(194,75,211)",
         "marker": {
          "color": "#FFA15A",
          "symbol": "circle"
         },
         "mode": "markers",
         "name": "rgb(194,75,211)",
         "scene": "scene",
         "showlegend": true,
         "type": "scatter3d",
         "x": [
          4.940649509429932
         ],
         "y": [
          7.53509521484375
         ],
         "z": [
          4.120678424835205
         ]
        },
        {
         "hovertemplate": "rgb color=rgb(11,74,194)<br>0=%{x}<br>1=%{y}<br>2=%{z}<extra></extra>",
         "legendgroup": "rgb(11,74,194)",
         "marker": {
          "color": "#19d3f3",
          "symbol": "circle"
         },
         "mode": "markers",
         "name": "rgb(11,74,194)",
         "scene": "scene",
         "showlegend": true,
         "type": "scatter3d",
         "x": [
          5.627663612365723
         ],
         "y": [
          7.161358833312988
         ],
         "z": [
          4.12552547454834
         ]
        },
        {
         "hovertemplate": "rgb color=rgb(141,72,201)<br>0=%{x}<br>1=%{y}<br>2=%{z}<extra></extra>",
         "legendgroup": "rgb(141,72,201)",
         "marker": {
          "color": "#FF6692",
          "symbol": "circle"
         },
         "mode": "markers",
         "name": "rgb(141,72,201)",
         "scene": "scene",
         "showlegend": true,
         "type": "scatter3d",
         "x": [
          3.4362592697143555
         ],
         "y": [
          7.35803747177124
         ],
         "z": [
          3.3980355262756348
         ]
        },
        {
         "hovertemplate": "rgb color=rgb(14,153,214)<br>0=%{x}<br>1=%{y}<br>2=%{z}<extra></extra>",
         "legendgroup": "rgb(14,153,214)",
         "marker": {
          "color": "#B6E880",
          "symbol": "circle"
         },
         "mode": "markers",
         "name": "rgb(14,153,214)",
         "scene": "scene",
         "showlegend": true,
         "type": "scatter3d",
         "x": [
          5.643668174743652
         ],
         "y": [
          6.734121322631836
         ],
         "z": [
          4.2326555252075195
         ]
        },
        {
         "hovertemplate": "rgb color=rgb(100,153,76)<br>0=%{x}<br>1=%{y}<br>2=%{z}<extra></extra>",
         "legendgroup": "rgb(100,153,76)",
         "marker": {
          "color": "#FF97FF",
          "symbol": "circle"
         },
         "mode": "markers",
         "name": "rgb(100,153,76)",
         "scene": "scene",
         "showlegend": true,
         "type": "scatter3d",
         "x": [
          3.418602466583252
         ],
         "y": [
          6.128111362457275
         ],
         "z": [
          3.5926785469055176
         ]
        },
        {
         "hovertemplate": "rgb color=rgb(98,220,10)<br>0=%{x}<br>1=%{y}<br>2=%{z}<extra></extra>",
         "legendgroup": "rgb(98,220,10)",
         "marker": {
          "color": "#FECB52",
          "symbol": "circle"
         },
         "mode": "markers",
         "name": "rgb(98,220,10)",
         "scene": "scene",
         "showlegend": true,
         "type": "scatter3d",
         "x": [
          2.92214035987854
         ],
         "y": [
          4.920738220214844
         ],
         "z": [
          3.37514066696167
         ]
        },
        {
         "hovertemplate": "rgb color=rgb(174,242,82)<br>0=%{x}<br>1=%{y}<br>2=%{z}<extra></extra>",
         "legendgroup": "rgb(174,242,82)",
         "marker": {
          "color": "#636efa",
          "symbol": "circle"
         },
         "mode": "markers",
         "name": "rgb(174,242,82)",
         "scene": "scene",
         "showlegend": true,
         "type": "scatter3d",
         "x": [
          4.410436630249023
         ],
         "y": [
          6.951703071594238
         ],
         "z": [
          5.164517402648926
         ]
        },
        {
         "hovertemplate": "rgb color=rgb(164,206,205)<br>0=%{x}<br>1=%{y}<br>2=%{z}<extra></extra>",
         "legendgroup": "rgb(164,206,205)",
         "marker": {
          "color": "#EF553B",
          "symbol": "circle"
         },
         "mode": "markers",
         "name": "rgb(164,206,205)",
         "scene": "scene",
         "showlegend": true,
         "type": "scatter3d",
         "x": [
          3.8575279712677
         ],
         "y": [
          7.138906002044678
         ],
         "z": [
          4.736622333526611
         ]
        },
        {
         "hovertemplate": "rgb color=rgb(146,59,190)<br>0=%{x}<br>1=%{y}<br>2=%{z}<extra></extra>",
         "legendgroup": "rgb(146,59,190)",
         "marker": {
          "color": "#00cc96",
          "symbol": "circle"
         },
         "mode": "markers",
         "name": "rgb(146,59,190)",
         "scene": "scene",
         "showlegend": true,
         "type": "scatter3d",
         "x": [
          4.575786590576172
         ],
         "y": [
          7.419134140014648
         ],
         "z": [
          3.704334259033203
         ]
        },
        {
         "hovertemplate": "rgb color=rgb(166,95,171)<br>0=%{x}<br>1=%{y}<br>2=%{z}<extra></extra>",
         "legendgroup": "rgb(166,95,171)",
         "marker": {
          "color": "#ab63fa",
          "symbol": "circle"
         },
         "mode": "markers",
         "name": "rgb(166,95,171)",
         "scene": "scene",
         "showlegend": true,
         "type": "scatter3d",
         "x": [
          3.775179624557495
         ],
         "y": [
          7.156487464904785
         ],
         "z": [
          2.957317352294922
         ]
        },
        {
         "hovertemplate": "rgb color=rgb(46,81,210)<br>0=%{x}<br>1=%{y}<br>2=%{z}<extra></extra>",
         "legendgroup": "rgb(46,81,210)",
         "marker": {
          "color": "#FFA15A",
          "symbol": "circle"
         },
         "mode": "markers",
         "name": "rgb(46,81,210)",
         "scene": "scene",
         "showlegend": true,
         "type": "scatter3d",
         "x": [
          4.79867696762085
         ],
         "y": [
          6.949491024017334
         ],
         "z": [
          4.255221366882324
         ]
        },
        {
         "hovertemplate": "rgb color=rgb(52,132,191)<br>0=%{x}<br>1=%{y}<br>2=%{z}<extra></extra>",
         "legendgroup": "rgb(52,132,191)",
         "marker": {
          "color": "#19d3f3",
          "symbol": "circle"
         },
         "mode": "markers",
         "name": "rgb(52,132,191)",
         "scene": "scene",
         "showlegend": true,
         "type": "scatter3d",
         "x": [
          5.048680782318115
         ],
         "y": [
          7.274200439453125
         ],
         "z": [
          4.594925880432129
         ]
        },
        {
         "hovertemplate": "rgb color=rgb(203,152,93)<br>0=%{x}<br>1=%{y}<br>2=%{z}<extra></extra>",
         "legendgroup": "rgb(203,152,93)",
         "marker": {
          "color": "#FF6692",
          "symbol": "circle"
         },
         "mode": "markers",
         "name": "rgb(203,152,93)",
         "scene": "scene",
         "showlegend": true,
         "type": "scatter3d",
         "x": [
          5.220709800720215
         ],
         "y": [
          6.921949863433838
         ],
         "z": [
          3.089271068572998
         ]
        },
        {
         "hovertemplate": "rgb color=rgb(79,255,95)<br>0=%{x}<br>1=%{y}<br>2=%{z}<extra></extra>",
         "legendgroup": "rgb(79,255,95)",
         "marker": {
          "color": "#B6E880",
          "symbol": "circle"
         },
         "mode": "markers",
         "name": "rgb(79,255,95)",
         "scene": "scene",
         "showlegend": true,
         "type": "scatter3d",
         "x": [
          3.2881903648376465
         ],
         "y": [
          5.379432201385498
         ],
         "z": [
          4.601060390472412
         ]
        },
        {
         "hovertemplate": "rgb color=rgb(190,105,145)<br>0=%{x}<br>1=%{y}<br>2=%{z}<extra></extra>",
         "legendgroup": "rgb(190,105,145)",
         "marker": {
          "color": "#FF97FF",
          "symbol": "circle"
         },
         "mode": "markers",
         "name": "rgb(190,105,145)",
         "scene": "scene",
         "showlegend": true,
         "type": "scatter3d",
         "x": [
          3.814669132232666
         ],
         "y": [
          6.970402240753174
         ],
         "z": [
          3.3811159133911133
         ]
        },
        {
         "hovertemplate": "rgb color=rgb(196,244,215)<br>0=%{x}<br>1=%{y}<br>2=%{z}<extra></extra>",
         "legendgroup": "rgb(196,244,215)",
         "marker": {
          "color": "#FECB52",
          "symbol": "circle"
         },
         "mode": "markers",
         "name": "rgb(196,244,215)",
         "scene": "scene",
         "showlegend": true,
         "type": "scatter3d",
         "x": [
          3.5632314682006836
         ],
         "y": [
          7.432704448699951
         ],
         "z": [
          4.865541934967041
         ]
        },
        {
         "hovertemplate": "rgb color=rgb(21,28,245)<br>0=%{x}<br>1=%{y}<br>2=%{z}<extra></extra>",
         "legendgroup": "rgb(21,28,245)",
         "marker": {
          "color": "#636efa",
          "symbol": "circle"
         },
         "mode": "markers",
         "name": "rgb(21,28,245)",
         "scene": "scene",
         "showlegend": true,
         "type": "scatter3d",
         "x": [
          5.185999393463135
         ],
         "y": [
          6.502108097076416
         ],
         "z": [
          5.0100297927856445
         ]
        },
        {
         "hovertemplate": "rgb color=rgb(177,79,212)<br>0=%{x}<br>1=%{y}<br>2=%{z}<extra></extra>",
         "legendgroup": "rgb(177,79,212)",
         "marker": {
          "color": "#EF553B",
          "symbol": "circle"
         },
         "mode": "markers",
         "name": "rgb(177,79,212)",
         "scene": "scene",
         "showlegend": true,
         "type": "scatter3d",
         "x": [
          4.607507705688477
         ],
         "y": [
          7.536610126495361
         ],
         "z": [
          4.463660717010498
         ]
        },
        {
         "hovertemplate": "rgb color=rgb(160,67,120)<br>0=%{x}<br>1=%{y}<br>2=%{z}<extra></extra>",
         "legendgroup": "rgb(160,67,120)",
         "marker": {
          "color": "#00cc96",
          "symbol": "circle"
         },
         "mode": "markers",
         "name": "rgb(160,67,120)",
         "scene": "scene",
         "showlegend": true,
         "type": "scatter3d",
         "x": [
          3.353363275527954
         ],
         "y": [
          5.297952651977539
         ],
         "z": [
          3.256718873977661
         ]
        },
        {
         "hovertemplate": "rgb color=rgb(237,101,163)<br>0=%{x}<br>1=%{y}<br>2=%{z}<extra></extra>",
         "legendgroup": "rgb(237,101,163)",
         "marker": {
          "color": "#ab63fa",
          "symbol": "circle"
         },
         "mode": "markers",
         "name": "rgb(237,101,163)",
         "scene": "scene",
         "showlegend": true,
         "type": "scatter3d",
         "x": [
          4.097320079803467
         ],
         "y": [
          6.7801384925842285
         ],
         "z": [
          5.289069175720215
         ]
        },
        {
         "hovertemplate": "rgb color=rgb(133,22,133)<br>0=%{x}<br>1=%{y}<br>2=%{z}<extra></extra>",
         "legendgroup": "rgb(133,22,133)",
         "marker": {
          "color": "#FFA15A",
          "symbol": "circle"
         },
         "mode": "markers",
         "name": "rgb(133,22,133)",
         "scene": "scene",
         "showlegend": true,
         "type": "scatter3d",
         "x": [
          5.49589729309082
         ],
         "y": [
          6.075301170349121
         ],
         "z": [
          4.6635355949401855
         ]
        },
        {
         "hovertemplate": "rgb color=rgb(70,144,59)<br>0=%{x}<br>1=%{y}<br>2=%{z}<extra></extra>",
         "legendgroup": "rgb(70,144,59)",
         "marker": {
          "color": "#19d3f3",
          "symbol": "circle"
         },
         "mode": "markers",
         "name": "rgb(70,144,59)",
         "scene": "scene",
         "showlegend": true,
         "type": "scatter3d",
         "x": [
          3.815721035003662
         ],
         "y": [
          5.924663543701172
         ],
         "z": [
          3.345041036605835
         ]
        },
        {
         "hovertemplate": "rgb color=rgb(217,230,170)<br>0=%{x}<br>1=%{y}<br>2=%{z}<extra></extra>",
         "legendgroup": "rgb(217,230,170)",
         "marker": {
          "color": "#FF6692",
          "symbol": "circle"
         },
         "mode": "markers",
         "name": "rgb(217,230,170)",
         "scene": "scene",
         "showlegend": true,
         "type": "scatter3d",
         "x": [
          2.7703745365142822
         ],
         "y": [
          7.366671562194824
         ],
         "z": [
          4.593843460083008
         ]
        },
        {
         "hovertemplate": "rgb color=rgb(86,155,9)<br>0=%{x}<br>1=%{y}<br>2=%{z}<extra></extra>",
         "legendgroup": "rgb(86,155,9)",
         "marker": {
          "color": "#B6E880",
          "symbol": "circle"
         },
         "mode": "markers",
         "name": "rgb(86,155,9)",
         "scene": "scene",
         "showlegend": true,
         "type": "scatter3d",
         "x": [
          4.362395286560059
         ],
         "y": [
          5.865301609039307
         ],
         "z": [
          2.7659478187561035
         ]
        },
        {
         "hovertemplate": "rgb color=rgb(222,101,185)<br>0=%{x}<br>1=%{y}<br>2=%{z}<extra></extra>",
         "legendgroup": "rgb(222,101,185)",
         "marker": {
          "color": "#FF97FF",
          "symbol": "circle"
         },
         "mode": "markers",
         "name": "rgb(222,101,185)",
         "scene": "scene",
         "showlegend": true,
         "type": "scatter3d",
         "x": [
          3.4056026935577393
         ],
         "y": [
          7.8616251945495605
         ],
         "z": [
          3.821384906768799
         ]
        },
        {
         "hovertemplate": "rgb color=rgb(16,75,0)<br>0=%{x}<br>1=%{y}<br>2=%{z}<extra></extra>",
         "legendgroup": "rgb(16,75,0)",
         "marker": {
          "color": "#FECB52",
          "symbol": "circle"
         },
         "mode": "markers",
         "name": "rgb(16,75,0)",
         "scene": "scene",
         "showlegend": true,
         "type": "scatter3d",
         "x": [
          3.02722430229187
         ],
         "y": [
          5.285270690917969
         ],
         "z": [
          3.627824068069458
         ]
        }
       ],
       "layout": {
        "legend": {
         "title": {
          "text": "rgb color"
         },
         "tracegroupgap": 0
        },
        "scene": {
         "domain": {
          "x": [
           0,
           1
          ],
          "y": [
           0,
           1
          ]
         },
         "xaxis": {
          "title": {
           "text": "0"
          }
         },
         "yaxis": {
          "title": {
           "text": "1"
          }
         },
         "zaxis": {
          "title": {
           "text": "2"
          }
         }
        },
        "showlegend": false,
        "template": {
         "data": {
          "bar": [
           {
            "error_x": {
             "color": "#2a3f5f"
            },
            "error_y": {
             "color": "#2a3f5f"
            },
            "marker": {
             "line": {
              "color": "#E5ECF6",
              "width": 0.5
             },
             "pattern": {
              "fillmode": "overlay",
              "size": 10,
              "solidity": 0.2
             }
            },
            "type": "bar"
           }
          ],
          "barpolar": [
           {
            "marker": {
             "line": {
              "color": "#E5ECF6",
              "width": 0.5
             },
             "pattern": {
              "fillmode": "overlay",
              "size": 10,
              "solidity": 0.2
             }
            },
            "type": "barpolar"
           }
          ],
          "carpet": [
           {
            "aaxis": {
             "endlinecolor": "#2a3f5f",
             "gridcolor": "white",
             "linecolor": "white",
             "minorgridcolor": "white",
             "startlinecolor": "#2a3f5f"
            },
            "baxis": {
             "endlinecolor": "#2a3f5f",
             "gridcolor": "white",
             "linecolor": "white",
             "minorgridcolor": "white",
             "startlinecolor": "#2a3f5f"
            },
            "type": "carpet"
           }
          ],
          "choropleth": [
           {
            "colorbar": {
             "outlinewidth": 0,
             "ticks": ""
            },
            "type": "choropleth"
           }
          ],
          "contour": [
           {
            "colorbar": {
             "outlinewidth": 0,
             "ticks": ""
            },
            "colorscale": [
             [
              0,
              "#0d0887"
             ],
             [
              0.1111111111111111,
              "#46039f"
             ],
             [
              0.2222222222222222,
              "#7201a8"
             ],
             [
              0.3333333333333333,
              "#9c179e"
             ],
             [
              0.4444444444444444,
              "#bd3786"
             ],
             [
              0.5555555555555556,
              "#d8576b"
             ],
             [
              0.6666666666666666,
              "#ed7953"
             ],
             [
              0.7777777777777778,
              "#fb9f3a"
             ],
             [
              0.8888888888888888,
              "#fdca26"
             ],
             [
              1,
              "#f0f921"
             ]
            ],
            "type": "contour"
           }
          ],
          "contourcarpet": [
           {
            "colorbar": {
             "outlinewidth": 0,
             "ticks": ""
            },
            "type": "contourcarpet"
           }
          ],
          "heatmap": [
           {
            "colorbar": {
             "outlinewidth": 0,
             "ticks": ""
            },
            "colorscale": [
             [
              0,
              "#0d0887"
             ],
             [
              0.1111111111111111,
              "#46039f"
             ],
             [
              0.2222222222222222,
              "#7201a8"
             ],
             [
              0.3333333333333333,
              "#9c179e"
             ],
             [
              0.4444444444444444,
              "#bd3786"
             ],
             [
              0.5555555555555556,
              "#d8576b"
             ],
             [
              0.6666666666666666,
              "#ed7953"
             ],
             [
              0.7777777777777778,
              "#fb9f3a"
             ],
             [
              0.8888888888888888,
              "#fdca26"
             ],
             [
              1,
              "#f0f921"
             ]
            ],
            "type": "heatmap"
           }
          ],
          "heatmapgl": [
           {
            "colorbar": {
             "outlinewidth": 0,
             "ticks": ""
            },
            "colorscale": [
             [
              0,
              "#0d0887"
             ],
             [
              0.1111111111111111,
              "#46039f"
             ],
             [
              0.2222222222222222,
              "#7201a8"
             ],
             [
              0.3333333333333333,
              "#9c179e"
             ],
             [
              0.4444444444444444,
              "#bd3786"
             ],
             [
              0.5555555555555556,
              "#d8576b"
             ],
             [
              0.6666666666666666,
              "#ed7953"
             ],
             [
              0.7777777777777778,
              "#fb9f3a"
             ],
             [
              0.8888888888888888,
              "#fdca26"
             ],
             [
              1,
              "#f0f921"
             ]
            ],
            "type": "heatmapgl"
           }
          ],
          "histogram": [
           {
            "marker": {
             "pattern": {
              "fillmode": "overlay",
              "size": 10,
              "solidity": 0.2
             }
            },
            "type": "histogram"
           }
          ],
          "histogram2d": [
           {
            "colorbar": {
             "outlinewidth": 0,
             "ticks": ""
            },
            "colorscale": [
             [
              0,
              "#0d0887"
             ],
             [
              0.1111111111111111,
              "#46039f"
             ],
             [
              0.2222222222222222,
              "#7201a8"
             ],
             [
              0.3333333333333333,
              "#9c179e"
             ],
             [
              0.4444444444444444,
              "#bd3786"
             ],
             [
              0.5555555555555556,
              "#d8576b"
             ],
             [
              0.6666666666666666,
              "#ed7953"
             ],
             [
              0.7777777777777778,
              "#fb9f3a"
             ],
             [
              0.8888888888888888,
              "#fdca26"
             ],
             [
              1,
              "#f0f921"
             ]
            ],
            "type": "histogram2d"
           }
          ],
          "histogram2dcontour": [
           {
            "colorbar": {
             "outlinewidth": 0,
             "ticks": ""
            },
            "colorscale": [
             [
              0,
              "#0d0887"
             ],
             [
              0.1111111111111111,
              "#46039f"
             ],
             [
              0.2222222222222222,
              "#7201a8"
             ],
             [
              0.3333333333333333,
              "#9c179e"
             ],
             [
              0.4444444444444444,
              "#bd3786"
             ],
             [
              0.5555555555555556,
              "#d8576b"
             ],
             [
              0.6666666666666666,
              "#ed7953"
             ],
             [
              0.7777777777777778,
              "#fb9f3a"
             ],
             [
              0.8888888888888888,
              "#fdca26"
             ],
             [
              1,
              "#f0f921"
             ]
            ],
            "type": "histogram2dcontour"
           }
          ],
          "mesh3d": [
           {
            "colorbar": {
             "outlinewidth": 0,
             "ticks": ""
            },
            "type": "mesh3d"
           }
          ],
          "parcoords": [
           {
            "line": {
             "colorbar": {
              "outlinewidth": 0,
              "ticks": ""
             }
            },
            "type": "parcoords"
           }
          ],
          "pie": [
           {
            "automargin": true,
            "type": "pie"
           }
          ],
          "scatter": [
           {
            "fillpattern": {
             "fillmode": "overlay",
             "size": 10,
             "solidity": 0.2
            },
            "type": "scatter"
           }
          ],
          "scatter3d": [
           {
            "line": {
             "colorbar": {
              "outlinewidth": 0,
              "ticks": ""
             }
            },
            "marker": {
             "colorbar": {
              "outlinewidth": 0,
              "ticks": ""
             }
            },
            "type": "scatter3d"
           }
          ],
          "scattercarpet": [
           {
            "marker": {
             "colorbar": {
              "outlinewidth": 0,
              "ticks": ""
             }
            },
            "type": "scattercarpet"
           }
          ],
          "scattergeo": [
           {
            "marker": {
             "colorbar": {
              "outlinewidth": 0,
              "ticks": ""
             }
            },
            "type": "scattergeo"
           }
          ],
          "scattergl": [
           {
            "marker": {
             "colorbar": {
              "outlinewidth": 0,
              "ticks": ""
             }
            },
            "type": "scattergl"
           }
          ],
          "scattermapbox": [
           {
            "marker": {
             "colorbar": {
              "outlinewidth": 0,
              "ticks": ""
             }
            },
            "type": "scattermapbox"
           }
          ],
          "scatterpolar": [
           {
            "marker": {
             "colorbar": {
              "outlinewidth": 0,
              "ticks": ""
             }
            },
            "type": "scatterpolar"
           }
          ],
          "scatterpolargl": [
           {
            "marker": {
             "colorbar": {
              "outlinewidth": 0,
              "ticks": ""
             }
            },
            "type": "scatterpolargl"
           }
          ],
          "scatterternary": [
           {
            "marker": {
             "colorbar": {
              "outlinewidth": 0,
              "ticks": ""
             }
            },
            "type": "scatterternary"
           }
          ],
          "surface": [
           {
            "colorbar": {
             "outlinewidth": 0,
             "ticks": ""
            },
            "colorscale": [
             [
              0,
              "#0d0887"
             ],
             [
              0.1111111111111111,
              "#46039f"
             ],
             [
              0.2222222222222222,
              "#7201a8"
             ],
             [
              0.3333333333333333,
              "#9c179e"
             ],
             [
              0.4444444444444444,
              "#bd3786"
             ],
             [
              0.5555555555555556,
              "#d8576b"
             ],
             [
              0.6666666666666666,
              "#ed7953"
             ],
             [
              0.7777777777777778,
              "#fb9f3a"
             ],
             [
              0.8888888888888888,
              "#fdca26"
             ],
             [
              1,
              "#f0f921"
             ]
            ],
            "type": "surface"
           }
          ],
          "table": [
           {
            "cells": {
             "fill": {
              "color": "#EBF0F8"
             },
             "line": {
              "color": "white"
             }
            },
            "header": {
             "fill": {
              "color": "#C8D4E3"
             },
             "line": {
              "color": "white"
             }
            },
            "type": "table"
           }
          ]
         },
         "layout": {
          "annotationdefaults": {
           "arrowcolor": "#2a3f5f",
           "arrowhead": 0,
           "arrowwidth": 1
          },
          "autotypenumbers": "strict",
          "coloraxis": {
           "colorbar": {
            "outlinewidth": 0,
            "ticks": ""
           }
          },
          "colorscale": {
           "diverging": [
            [
             0,
             "#8e0152"
            ],
            [
             0.1,
             "#c51b7d"
            ],
            [
             0.2,
             "#de77ae"
            ],
            [
             0.3,
             "#f1b6da"
            ],
            [
             0.4,
             "#fde0ef"
            ],
            [
             0.5,
             "#f7f7f7"
            ],
            [
             0.6,
             "#e6f5d0"
            ],
            [
             0.7,
             "#b8e186"
            ],
            [
             0.8,
             "#7fbc41"
            ],
            [
             0.9,
             "#4d9221"
            ],
            [
             1,
             "#276419"
            ]
           ],
           "sequential": [
            [
             0,
             "#0d0887"
            ],
            [
             0.1111111111111111,
             "#46039f"
            ],
            [
             0.2222222222222222,
             "#7201a8"
            ],
            [
             0.3333333333333333,
             "#9c179e"
            ],
            [
             0.4444444444444444,
             "#bd3786"
            ],
            [
             0.5555555555555556,
             "#d8576b"
            ],
            [
             0.6666666666666666,
             "#ed7953"
            ],
            [
             0.7777777777777778,
             "#fb9f3a"
            ],
            [
             0.8888888888888888,
             "#fdca26"
            ],
            [
             1,
             "#f0f921"
            ]
           ],
           "sequentialminus": [
            [
             0,
             "#0d0887"
            ],
            [
             0.1111111111111111,
             "#46039f"
            ],
            [
             0.2222222222222222,
             "#7201a8"
            ],
            [
             0.3333333333333333,
             "#9c179e"
            ],
            [
             0.4444444444444444,
             "#bd3786"
            ],
            [
             0.5555555555555556,
             "#d8576b"
            ],
            [
             0.6666666666666666,
             "#ed7953"
            ],
            [
             0.7777777777777778,
             "#fb9f3a"
            ],
            [
             0.8888888888888888,
             "#fdca26"
            ],
            [
             1,
             "#f0f921"
            ]
           ]
          },
          "colorway": [
           "#636efa",
           "#EF553B",
           "#00cc96",
           "#ab63fa",
           "#FFA15A",
           "#19d3f3",
           "#FF6692",
           "#B6E880",
           "#FF97FF",
           "#FECB52"
          ],
          "font": {
           "color": "#2a3f5f"
          },
          "geo": {
           "bgcolor": "white",
           "lakecolor": "white",
           "landcolor": "#E5ECF6",
           "showlakes": true,
           "showland": true,
           "subunitcolor": "white"
          },
          "hoverlabel": {
           "align": "left"
          },
          "hovermode": "closest",
          "mapbox": {
           "style": "light"
          },
          "paper_bgcolor": "white",
          "plot_bgcolor": "#E5ECF6",
          "polar": {
           "angularaxis": {
            "gridcolor": "white",
            "linecolor": "white",
            "ticks": ""
           },
           "bgcolor": "#E5ECF6",
           "radialaxis": {
            "gridcolor": "white",
            "linecolor": "white",
            "ticks": ""
           }
          },
          "scene": {
           "xaxis": {
            "backgroundcolor": "#E5ECF6",
            "gridcolor": "white",
            "gridwidth": 2,
            "linecolor": "white",
            "showbackground": true,
            "ticks": "",
            "zerolinecolor": "white"
           },
           "yaxis": {
            "backgroundcolor": "#E5ECF6",
            "gridcolor": "white",
            "gridwidth": 2,
            "linecolor": "white",
            "showbackground": true,
            "ticks": "",
            "zerolinecolor": "white"
           },
           "zaxis": {
            "backgroundcolor": "#E5ECF6",
            "gridcolor": "white",
            "gridwidth": 2,
            "linecolor": "white",
            "showbackground": true,
            "ticks": "",
            "zerolinecolor": "white"
           }
          },
          "shapedefaults": {
           "line": {
            "color": "#2a3f5f"
           }
          },
          "ternary": {
           "aaxis": {
            "gridcolor": "white",
            "linecolor": "white",
            "ticks": ""
           },
           "baxis": {
            "gridcolor": "white",
            "linecolor": "white",
            "ticks": ""
           },
           "bgcolor": "#E5ECF6",
           "caxis": {
            "gridcolor": "white",
            "linecolor": "white",
            "ticks": ""
           }
          },
          "title": {
           "x": 0.05
          },
          "xaxis": {
           "automargin": true,
           "gridcolor": "white",
           "linecolor": "white",
           "ticks": "",
           "title": {
            "standoff": 15
           },
           "zerolinecolor": "white",
           "zerolinewidth": 2
          },
          "yaxis": {
           "automargin": true,
           "gridcolor": "white",
           "linecolor": "white",
           "ticks": "",
           "title": {
            "standoff": 15
           },
           "zerolinecolor": "white",
           "zerolinewidth": 2
          }
         }
        },
        "title": {
         "text": "UMAP of DistilBERT embeddings of rgb colors"
        }
       }
      }
     },
     "metadata": {},
     "output_type": "display_data"
    }
   ],
   "source": [
    "# try umap in 3d\n",
    "reducer3d = umap.UMAP(n_components=3)\n",
    "rgb_umap3d = reducer3d.fit_transform(rgb_embeddings)\n",
    "\n",
    "# plot umap results with plotly\n",
    "fig = px.scatter_3d(\n",
    "    rgb_umap3d, x=0, y=1, z=2, color=rgb_colors,\n",
    "    labels={'color': 'rgb color'},\n",
    "    title='UMAP of DistilBERT embeddings of rgb colors'\n",
    ")\n",
    "\n",
    "# hide legend\n",
    "fig.update_layout(showlegend=False)\n",
    "fig.show()"
   ]
  }
 ],
 "metadata": {
  "kernelspec": {
   "display_name": "Python 3.9.13 ('env')",
   "language": "python",
   "name": "python3"
  },
  "language_info": {
   "codemirror_mode": {
    "name": "ipython",
    "version": 3
   },
   "file_extension": ".py",
   "mimetype": "text/x-python",
   "name": "python",
   "nbconvert_exporter": "python",
   "pygments_lexer": "ipython3",
   "version": "3.9.18"
  },
  "orig_nbformat": 4,
  "vscode": {
   "interpreter": {
    "hash": "946d8ab810ccf0fda35d8421fe75059925cdc2acab76b2b4a2b82ec2be7a9b6e"
   }
  }
 },
 "nbformat": 4,
 "nbformat_minor": 2
}
