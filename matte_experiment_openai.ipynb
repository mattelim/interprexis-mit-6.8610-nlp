{
 "cells": [
  {
   "cell_type": "markdown",
   "metadata": {},
   "source": [
    "### Extract embedding axis"
   ]
  },
  {
   "cell_type": "code",
   "execution_count": null,
   "metadata": {},
   "outputs": [],
   "source": [
    "# !pip install --upgrade accelerate transformers"
   ]
  },
  {
   "cell_type": "code",
   "execution_count": 2,
   "metadata": {},
   "outputs": [],
   "source": [
    "import pandas as pd"
   ]
  },
  {
   "cell_type": "code",
   "execution_count": 3,
   "metadata": {},
   "outputs": [
    {
     "data": {
      "text/html": [
       "<div>\n",
       "<style scoped>\n",
       "    .dataframe tbody tr th:only-of-type {\n",
       "        vertical-align: middle;\n",
       "    }\n",
       "\n",
       "    .dataframe tbody tr th {\n",
       "        vertical-align: top;\n",
       "    }\n",
       "\n",
       "    .dataframe thead th {\n",
       "        text-align: right;\n",
       "    }\n",
       "</style>\n",
       "<table border=\"1\" class=\"dataframe\">\n",
       "  <thead>\n",
       "    <tr style=\"text-align: right;\">\n",
       "      <th></th>\n",
       "      <th>word</th>\n",
       "      <th>0</th>\n",
       "      <th>1</th>\n",
       "      <th>2</th>\n",
       "      <th>3</th>\n",
       "      <th>4</th>\n",
       "      <th>5</th>\n",
       "      <th>6</th>\n",
       "      <th>7</th>\n",
       "      <th>8</th>\n",
       "      <th>...</th>\n",
       "      <th>758</th>\n",
       "      <th>759</th>\n",
       "      <th>760</th>\n",
       "      <th>761</th>\n",
       "      <th>762</th>\n",
       "      <th>763</th>\n",
       "      <th>764</th>\n",
       "      <th>765</th>\n",
       "      <th>766</th>\n",
       "      <th>767</th>\n",
       "    </tr>\n",
       "  </thead>\n",
       "  <tbody>\n",
       "    <tr>\n",
       "      <th>0</th>\n",
       "      <td>companion</td>\n",
       "      <td>0.128</td>\n",
       "      <td>-0.082</td>\n",
       "      <td>0.109</td>\n",
       "      <td>-0.012</td>\n",
       "      <td>0.317</td>\n",
       "      <td>0.262</td>\n",
       "      <td>-0.016</td>\n",
       "      <td>0.128</td>\n",
       "      <td>0.357</td>\n",
       "      <td>...</td>\n",
       "      <td>0.395</td>\n",
       "      <td>-0.107</td>\n",
       "      <td>-0.026</td>\n",
       "      <td>-0.061</td>\n",
       "      <td>0.358</td>\n",
       "      <td>-0.138</td>\n",
       "      <td>-0.067</td>\n",
       "      <td>0.236</td>\n",
       "      <td>0.385</td>\n",
       "      <td>-0.115</td>\n",
       "    </tr>\n",
       "    <tr>\n",
       "      <th>1</th>\n",
       "      <td>toast</td>\n",
       "      <td>0.209</td>\n",
       "      <td>0.411</td>\n",
       "      <td>0.026</td>\n",
       "      <td>-0.000</td>\n",
       "      <td>-0.243</td>\n",
       "      <td>-0.325</td>\n",
       "      <td>0.148</td>\n",
       "      <td>0.238</td>\n",
       "      <td>-0.120</td>\n",
       "      <td>...</td>\n",
       "      <td>0.373</td>\n",
       "      <td>-0.174</td>\n",
       "      <td>0.119</td>\n",
       "      <td>-0.036</td>\n",
       "      <td>0.445</td>\n",
       "      <td>-0.029</td>\n",
       "      <td>0.145</td>\n",
       "      <td>0.169</td>\n",
       "      <td>0.364</td>\n",
       "      <td>-0.097</td>\n",
       "    </tr>\n",
       "    <tr>\n",
       "      <th>2</th>\n",
       "      <td>lounge</td>\n",
       "      <td>0.759</td>\n",
       "      <td>-0.116</td>\n",
       "      <td>0.116</td>\n",
       "      <td>0.113</td>\n",
       "      <td>0.460</td>\n",
       "      <td>-0.212</td>\n",
       "      <td>0.115</td>\n",
       "      <td>-0.032</td>\n",
       "      <td>0.137</td>\n",
       "      <td>...</td>\n",
       "      <td>0.259</td>\n",
       "      <td>0.070</td>\n",
       "      <td>-0.059</td>\n",
       "      <td>-0.114</td>\n",
       "      <td>0.441</td>\n",
       "      <td>-0.096</td>\n",
       "      <td>-0.074</td>\n",
       "      <td>0.196</td>\n",
       "      <td>0.215</td>\n",
       "      <td>-0.254</td>\n",
       "    </tr>\n",
       "    <tr>\n",
       "      <th>3</th>\n",
       "      <td>watch</td>\n",
       "      <td>0.401</td>\n",
       "      <td>-0.003</td>\n",
       "      <td>-0.061</td>\n",
       "      <td>-0.406</td>\n",
       "      <td>0.933</td>\n",
       "      <td>-0.140</td>\n",
       "      <td>-0.186</td>\n",
       "      <td>0.286</td>\n",
       "      <td>-0.170</td>\n",
       "      <td>...</td>\n",
       "      <td>0.459</td>\n",
       "      <td>-0.067</td>\n",
       "      <td>-0.266</td>\n",
       "      <td>-0.318</td>\n",
       "      <td>0.173</td>\n",
       "      <td>-0.109</td>\n",
       "      <td>0.219</td>\n",
       "      <td>-0.010</td>\n",
       "      <td>0.404</td>\n",
       "      <td>-0.161</td>\n",
       "    </tr>\n",
       "    <tr>\n",
       "      <th>4</th>\n",
       "      <td>haul</td>\n",
       "      <td>0.580</td>\n",
       "      <td>0.031</td>\n",
       "      <td>0.311</td>\n",
       "      <td>0.048</td>\n",
       "      <td>-0.102</td>\n",
       "      <td>0.081</td>\n",
       "      <td>0.047</td>\n",
       "      <td>0.423</td>\n",
       "      <td>-0.187</td>\n",
       "      <td>...</td>\n",
       "      <td>0.505</td>\n",
       "      <td>0.096</td>\n",
       "      <td>0.095</td>\n",
       "      <td>-0.009</td>\n",
       "      <td>0.453</td>\n",
       "      <td>0.003</td>\n",
       "      <td>0.337</td>\n",
       "      <td>0.259</td>\n",
       "      <td>0.064</td>\n",
       "      <td>0.092</td>\n",
       "    </tr>\n",
       "  </tbody>\n",
       "</table>\n",
       "<p>5 rows × 769 columns</p>\n",
       "</div>"
      ],
      "text/plain": [
       "        word      0      1      2      3      4      5      6      7      8  \\\n",
       "0  companion  0.128 -0.082  0.109 -0.012  0.317  0.262 -0.016  0.128  0.357   \n",
       "1      toast  0.209  0.411  0.026 -0.000 -0.243 -0.325  0.148  0.238 -0.120   \n",
       "2     lounge  0.759 -0.116  0.116  0.113  0.460 -0.212  0.115 -0.032  0.137   \n",
       "3      watch  0.401 -0.003 -0.061 -0.406  0.933 -0.140 -0.186  0.286 -0.170   \n",
       "4       haul  0.580  0.031  0.311  0.048 -0.102  0.081  0.047  0.423 -0.187   \n",
       "\n",
       "   ...    758    759    760    761    762    763    764    765    766    767  \n",
       "0  ...  0.395 -0.107 -0.026 -0.061  0.358 -0.138 -0.067  0.236  0.385 -0.115  \n",
       "1  ...  0.373 -0.174  0.119 -0.036  0.445 -0.029  0.145  0.169  0.364 -0.097  \n",
       "2  ...  0.259  0.070 -0.059 -0.114  0.441 -0.096 -0.074  0.196  0.215 -0.254  \n",
       "3  ...  0.459 -0.067 -0.266 -0.318  0.173 -0.109  0.219 -0.010  0.404 -0.161  \n",
       "4  ...  0.505  0.096  0.095 -0.009  0.453  0.003  0.337  0.259  0.064  0.092  \n",
       "\n",
       "[5 rows x 769 columns]"
      ]
     },
     "execution_count": 3,
     "metadata": {},
     "output_type": "execute_result"
    }
   ],
   "source": [
    "# Open training_embeddings.csv and load it into a dataframe\n",
    "df = pd.read_csv('training_embeddings.csv')\n",
    "df.head()"
   ]
  },
  {
   "cell_type": "code",
   "execution_count": 19,
   "metadata": {},
   "outputs": [
    {
     "name": "stdout",
     "output_type": "stream",
     "text": [
      "2 383 383\n",
      "['companion', 'toast', 'lounge', 'watch', 'haul']\n",
      "[0.128, 0.209, 0.759, 0.401, 0.58]\n"
     ]
    }
   ],
   "source": [
    "def get_x_embedding(df, x):\n",
    "  \"\"\"\n",
    "  Extract the x column from the dataframe and store it as a list\n",
    "  \"\"\"\n",
    "  # Extract the word and x column from the dataframe and store them as a list of lists\n",
    "  # index = 0\n",
    "  words = df['word'].tolist()\n",
    "  emd_index = df[str(x)].tolist()\n",
    "  # data = [[words[i], emd_index[i]] for i in range(len(words))]\n",
    "  # print(data[:5])\n",
    "\n",
    "  # Concatenate the two lists into a list of lists\n",
    "  data = [words,emd_index]\n",
    "  return data\n",
    "\n",
    "data = get_x_embedding(df, 0)\n",
    "print(len(data), len(data[0]), len(data[1]))\n",
    "print(data[0][:5])\n",
    "print(data[1][:5])"
   ]
  },
  {
   "cell_type": "markdown",
   "metadata": {},
   "source": [
    "### Get axis interpretation from OpenAI"
   ]
  },
  {
   "cell_type": "code",
   "execution_count": null,
   "metadata": {},
   "outputs": [],
   "source": [
    "# install OpenAI api\n",
    "# !pip install --upgrade openai"
   ]
  },
  {
   "cell_type": "code",
   "execution_count": 21,
   "metadata": {},
   "outputs": [
    {
     "name": "stdout",
     "output_type": "stream",
     "text": [
      "API key loaded.\n"
     ]
    }
   ],
   "source": [
    "# load api key from secrets.json\n",
    "import openai\n",
    "import json\n",
    "\n",
    "try:\n",
    "    with open(\"secrets.json\") as f:\n",
    "        secrets = json.load(f)\n",
    "    my_api_key = secrets[\"openai\"]\n",
    "    print(\"API key loaded.\")\n",
    "    openai.api_key = my_api_key\n",
    "except FileNotFoundError:\n",
    "    print(\"Secrets file not found. YOU NEED THEM TO RUN THIS.\")"
   ]
  },
  {
   "cell_type": "code",
   "execution_count": 24,
   "metadata": {},
   "outputs": [],
   "source": [
    "axis_emb = get_x_embedding(df, 0)"
   ]
  },
  {
   "cell_type": "code",
   "execution_count": 32,
   "metadata": {},
   "outputs": [
    {
     "name": "stdout",
     "output_type": "stream",
     "text": [
      "{\n",
      "  \"role\": \"assistant\",\n",
      "  \"content\": \"{\\\"Verb or Action Related\\\": 0.7, \\\"Instrument or Tools Associated\\\": 0.6, \\\"Emotion or Feeling Connotated\\\": 0.5}\"\n",
      "}\n"
     ]
    }
   ],
   "source": [
    "# model_num = \"gpt-3.5-turbo-1106\"\n",
    "# model_num = \"gpt-4-1106-preview\"\n",
    "model_num = \"gpt-4\"\n",
    "\n",
    "completion = openai.ChatCompletion.create(\n",
    "  model=model_num,\n",
    "  messages=[\n",
    "    {\"role\": \"system\", \"content\": \"You are an expert transformer embeddings labeller.\"},\n",
    "    {\"role\": \"user\", \"content\": f\"Below are two lists. The first list contains words that have been put into DistilBERT. DistilBERT creates an embedding with 768 dimensions or axes. The second list contains the embedding value from DistilBERT for one axis across the words. By carefully comparing and considering the embedding values for each word, please interpret the likely linguistic feature that this embedding axis encodes. This interpretation must be consistent across all the words and correspond to their respective positive, zero, or negative embedding values.\\n\\n  The output must be a Python dictionary with three items, the key is a string containing the possible interpretation of the axis. The value is a float, representing the confidence score from 0 to 1. \\n\\n Here is an output sample: {{<first interpretation>:<first interpretation confidence score>, <second interpretation>:<second interpretation confidence score>, <third interpretation>:<third interpretation confidence score>}} \\n\\n {axis_emb[0]}\\n\\n {axis_emb[1]}\"}\n",
    "  ]\n",
    ")\n",
    "\n",
    "print(completion.choices[0].message)\n",
    "\n",
    "# log the stringified output into a txt file by appending it to the end of the file\n",
    "with open(\"output.txt\", \"a\") as f:\n",
    "  f.write(str(completion))"
   ]
  },
  {
   "cell_type": "code",
   "execution_count": 57,
   "metadata": {},
   "outputs": [
    {
     "name": "stdout",
     "output_type": "stream",
     "text": [
      "{'Verb or Action Related': 0.7, 'Instrument or Tools Associated': 0.6, 'Emotion or Feeling Connotated': 0.5}\n",
      "Verb or Action Related\n"
     ]
    }
   ],
   "source": [
    "# convert the output string into a dictionary\n",
    "interp_dict = eval(completion.choices[0].message.content)\n",
    "print(interp_dict)\n",
    "\n",
    "# convert the dictionary keys into a list\n",
    "interp_keys = list(interp_dict.keys())\n",
    "print(interp_keys[0])"
   ]
  },
  {
   "cell_type": "markdown",
   "metadata": {},
   "source": [
    "### Evaluate interpretations using OpenAI"
   ]
  },
  {
   "cell_type": "code",
   "execution_count": 69,
   "metadata": {},
   "outputs": [
    {
     "name": "stdout",
     "output_type": "stream",
     "text": [
      "['companion', 'toast', 'lounge', 'watch', 'haul', 'combination', 'majesty', 'extinguish', 'nutrient', 'bark', 'rest', 'hold', 'drainage', 'chill', 'time', 'drink', 'eat', 'journey', 'surf', 'shipment', 'measure', 'devour', 'cutlery', 'catch', 'drive', 'cooling', 'sail', 'flutter', 'moo', 'descend', 'commute', 'score', 'indulgence', 'cutting', 'containment', 'communication', 'transportation', 'glide', 'slice', 'drying', 'tote', 'nurture', 'breakfast', 'cut', 'throw', 'brush', 'competition', 'signal', 'carry', 'mobility']\n"
     ]
    }
   ],
   "source": [
    "# test the prompt using smaller set\n",
    "trunc_word_list = axis_emb[0][:50]\n",
    "print(trunc_word_list)"
   ]
  },
  {
   "cell_type": "code",
   "execution_count": 70,
   "metadata": {},
   "outputs": [
    {
     "name": "stdout",
     "output_type": "stream",
     "text": [
      "{\n",
      "  \"role\": \"assistant\",\n",
      "  \"content\": \"[0.0, 0.8, 0.0, 1.0, 1.0, 0.0, -1.0, 0.9, -1.0, 0.6, 0.6, 1.0, -0.5, 0.5, -0.7, 0.9, 0.9, 0.8, 0.8, 0.0, 0.6, 0.9, -0.3, 0.9, 1.0, 0.0, 0.8, 0.7, 0.3, 0.7, 0.9, 0.6, -0.6, 0.0, -0.2, 0.5, 0.5, 0.8, 0.8, 0.7, -0.2, 1.0, -0.4, 0.9, 1.0, 0.8, -0.6, 0.5, 1.0, 0.5]\"\n",
      "}\n"
     ]
    }
   ],
   "source": [
    "# model_num = \"gpt-3.5-turbo-1106\"\n",
    "# model_num = \"gpt-4-1106-preview\"\n",
    "model_num = \"gpt-4\"\n",
    "\n",
    "completion = openai.ChatCompletion.create(\n",
    "  model=model_num,\n",
    "  messages=[\n",
    "    {\"role\": \"system\", \"content\": \"You are an expert word sense scorer.\"},\n",
    "    {\"role\": \"user\", \"content\": f\"For the list of words below, please assign it a score according to how much it relates to the following criteria: {interp_keys[0]}  \\n\\n  The output must be a Python list of scores for each corresponding word in the provided list. The output must therefore have the same number of items as the provided list. The score is a float that ranges from -1 to 1. Positive scores suggest a high correlation to the criteria, while negative scores suggest a high opposite correlation. Scores closer to 0 suggest that the criterion is not applicable to the word. \\n\\n Here is an output sample: [<score for first word>, <score for second word>, ... , <score for second-last word>, <score for last word>] \\n\\n {trunc_word_list}\"}\n",
    "    # {\"role\": \"user\", \"content\": f\"For the list of words below, please assign it a score according to how much it relates to the following criteria: {interp_keys[0]}  \\n\\n  The output must be a Python list of scores for each corresponding word in the provided list. The output must therefore have the same number of items as the provided list. The score is a float that ranges from -1 to 1. Positive scores suggest a high correlation to the criteria, while negative scores suggest a high opposite correlation. Scores closer to 0 suggest that the criterion is not applicable to the word. \\n\\n Here is an output sample: [<score for first word>, <score for second word>, ... , <score for second-last word>, <score for last word>] \\n\\n {axis_emb[0]}\"}\n",
    "  ]\n",
    ")\n",
    "\n",
    "print(completion.choices[0].message)\n",
    "\n",
    "# log the stringified output into a txt file by appending it to the end of the file\n",
    "with open(\"eval_output.txt\", \"a\") as f:\n",
    "  f.write(str(completion))"
   ]
  },
  {
   "cell_type": "code",
   "execution_count": 71,
   "metadata": {},
   "outputs": [
    {
     "name": "stdout",
     "output_type": "stream",
     "text": [
      "[0.0, 0.8, 0.0, 1.0, 1.0, 0.0, -1.0, 0.9, -1.0, 0.6, 0.6, 1.0, -0.5, 0.5, -0.7, 0.9, 0.9, 0.8, 0.8, 0.0, 0.6, 0.9, -0.3, 0.9, 1.0, 0.0, 0.8, 0.7, 0.3, 0.7, 0.9, 0.6, -0.6, 0.0, -0.2, 0.5, 0.5, 0.8, 0.8, 0.7, -0.2, 1.0, -0.4, 0.9, 1.0, 0.8, -0.6, 0.5, 1.0, 0.5]\n",
      "50\n"
     ]
    }
   ],
   "source": [
    "# convert the output string into a list\n",
    "score_list = eval(completion.choices[0].message.content)\n",
    "print(score_list)\n",
    "\n",
    "# check if the length is correct\n",
    "print(len(score_list))"
   ]
  }
 ],
 "metadata": {
  "kernelspec": {
   "display_name": "6861",
   "language": "python",
   "name": "python3"
  },
  "language_info": {
   "codemirror_mode": {
    "name": "ipython",
    "version": 3
   },
   "file_extension": ".py",
   "mimetype": "text/x-python",
   "name": "python",
   "nbconvert_exporter": "python",
   "pygments_lexer": "ipython3",
   "version": "3.8.18"
  }
 },
 "nbformat": 4,
 "nbformat_minor": 2
}
