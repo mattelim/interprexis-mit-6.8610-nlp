{
 "cells": [
  {
   "cell_type": "code",
   "execution_count": 15,
   "metadata": {},
   "outputs": [],
   "source": [
    "# !pip install scikit-learn plotly nbformat umap-learn"
   ]
  },
  {
   "cell_type": "code",
   "execution_count": 35,
   "metadata": {},
   "outputs": [],
   "source": [
    "from transformers import AutoTokenizer, DistilBertModel\n",
    "import torch\n",
    "import pandas\n",
    "import matplotlib.pyplot as plt\n",
    "\n",
    "tokenizer = AutoTokenizer.from_pretrained(\"distilbert-base-uncased\")\n",
    "model = DistilBertModel.from_pretrained(\"distilbert-base-uncased\")"
   ]
  },
  {
   "cell_type": "code",
   "execution_count": 36,
   "metadata": {},
   "outputs": [
    {
     "name": "stdout",
     "output_type": "stream",
     "text": [
      "20\n"
     ]
    }
   ],
   "source": [
    "color_words = ['red', 'orange', 'gold', 'yellow', 'green', 'cyan', 'turquoise', 'blue', 'indigo', 'violet', 'purple', 'lavender', 'magenta', 'maroon', 'pink', 'brown', 'black', 'white', 'gray', 'silver']\n",
    "\n",
    "print(len(color_words))"
   ]
  },
  {
   "cell_type": "code",
   "execution_count": 10,
   "metadata": {},
   "outputs": [],
   "source": [
    "# forced_sentence = f\"The color is {color_words[-4]}.\"\n",
    "# # forced_sentence = f\"The artists used {color_words[-4]} paint because they like the color.\"\n",
    "# inputs = tokenizer(forced_sentence, return_tensors=\"pt\") \n",
    "# outputs = model(**inputs)\n",
    "# # last_hidden_states = outputs[0]  # The last hidden-state is the first element of the output tuple\n",
    "# last_hidden_states = outputs.last_hidden_state"
   ]
  },
  {
   "cell_type": "code",
   "execution_count": 11,
   "metadata": {},
   "outputs": [],
   "source": [
    "# print(inputs)\n",
    "# print(outputs)\n",
    "# print(last_hidden_states.shape)"
   ]
  },
  {
   "cell_type": "code",
   "execution_count": 12,
   "metadata": {},
   "outputs": [],
   "source": [
    "# print(\"Length of inputs string: \", inputs['input_ids'].shape)\n",
    "\n",
    "# # print index, token, and matching token id\n",
    "# for i in range(len(inputs['input_ids'][0])):\n",
    "#     print(f'{i}: {inputs[\"input_ids\"][0][i]}: {tokenizer.decode([inputs[\"input_ids\"][0][i]])}')"
   ]
  },
  {
   "cell_type": "code",
   "execution_count": 13,
   "metadata": {},
   "outputs": [],
   "source": [
    "# extract the contextual word embedding for the color word, beginning at the 5th token and ending before the input id 6773\n",
    "# color_word_emb = []\n",
    "# idx = 4\n",
    "\n",
    "# while inputs['input_ids'][0][idx] != 1012:\n",
    "#     print(idx)\n",
    "#     color_word_emb.append(last_hidden_states[0][idx])\n",
    "#     idx += 1\n",
    "\n",
    "# mean_color_word_emb = torch.mean(torch.stack(color_word_emb), dim=0)\n",
    "# print(mean_color_word_emb.shape)"
   ]
  },
  {
   "cell_type": "code",
   "execution_count": 14,
   "metadata": {},
   "outputs": [],
   "source": [
    "# sanity check\n",
    "# print(mean_color_word_emb - last_hidden_states[0][4])\n",
    "# print(torch.sum(abs(mean_color_word_emb - last_hidden_states[0][4])))"
   ]
  },
  {
   "cell_type": "code",
   "execution_count": 48,
   "metadata": {},
   "outputs": [
    {
     "name": "stdout",
     "output_type": "stream",
     "text": [
      "20\n"
     ]
    }
   ],
   "source": [
    "color_embeddings = []\n",
    "\n",
    "for color_word in color_words:\n",
    "    forced_sentences = []\n",
    "    forced_sentences.append(f\"The color is {color_word}.\")\n",
    "    forced_sentences.append(f\"The artists used {color_word} paint because they like the color.\")\n",
    "    forced_sentences.append(f\"The {color_word} hats are on sale.\")\n",
    "\n",
    "    color_word_start = [4, 4, 2]\n",
    "    color_word_next = [\".\", \"paint\", \"hats\"]\n",
    "    \n",
    "    mean_color_word_embs = []\n",
    "    \n",
    "    for i, forced_sentence in enumerate(forced_sentences):\n",
    "        inputs = tokenizer(forced_sentence, return_tensors=\"pt\") \n",
    "        outputs = model(**inputs)\n",
    "        # last_hidden_states = outputs[0]  # The last hidden-state is the first element of the output tuple\n",
    "        last_hidden_states = outputs.last_hidden_state\n",
    "\n",
    "        color_word_emb = []\n",
    "        idx = color_word_start[i]\n",
    "        end_token = tokenizer.encode(color_word_next[i])[1]\n",
    "        # print(end_token)\n",
    "        # this is a hacky way to get the word embedding for the color word\n",
    "        while inputs['input_ids'][0][idx] != end_token:\n",
    "            # print(inputs['input_ids'][0][idx])\n",
    "            # print(idx, tokenizer.decode([inputs[\"input_ids\"][0][idx]]))\n",
    "            color_word_emb.append(last_hidden_states[0][idx])\n",
    "            idx += 1\n",
    "\n",
    "        mean_color_word_embs.append(torch.mean(torch.stack(color_word_emb), dim=0))\n",
    "        \n",
    "        # print([color_word_pos[i]])\n",
    "        # print(tokenizer.decode([inputs[\"input_ids\"][0][color_word_pos[i]]]))\n",
    "        # print(color_word)\n",
    "        \n",
    "        # try:\n",
    "        #     assert color_word == tokenizer.decode([inputs[\"input_ids\"][0][color_word_pos[i]]])\n",
    "        # except:\n",
    "        #     print(tokenizer.decode([inputs[\"input_ids\"][0][color_word_pos[i]]]))\n",
    "        #     print(color_word)\n",
    "\n",
    "        # print(mean_color_word_emb.shape)\n",
    "    \n",
    "    color_embeddings.append(torch.mean(torch.stack(mean_color_word_embs), dim=0).detach().numpy())\n",
    "\n",
    "print(len(color_embeddings))"
   ]
  },
  {
   "cell_type": "code",
   "execution_count": 50,
   "metadata": {},
   "outputs": [
    {
     "data": {
      "text/html": [
       "<div>\n",
       "<style scoped>\n",
       "    .dataframe tbody tr th:only-of-type {\n",
       "        vertical-align: middle;\n",
       "    }\n",
       "\n",
       "    .dataframe tbody tr th {\n",
       "        vertical-align: top;\n",
       "    }\n",
       "\n",
       "    .dataframe thead th {\n",
       "        text-align: right;\n",
       "    }\n",
       "</style>\n",
       "<table border=\"1\" class=\"dataframe\">\n",
       "  <thead>\n",
       "    <tr style=\"text-align: right;\">\n",
       "      <th></th>\n",
       "      <th>0</th>\n",
       "      <th>1</th>\n",
       "      <th>2</th>\n",
       "      <th>3</th>\n",
       "      <th>4</th>\n",
       "      <th>5</th>\n",
       "      <th>6</th>\n",
       "      <th>7</th>\n",
       "      <th>8</th>\n",
       "      <th>9</th>\n",
       "      <th>...</th>\n",
       "      <th>758</th>\n",
       "      <th>759</th>\n",
       "      <th>760</th>\n",
       "      <th>761</th>\n",
       "      <th>762</th>\n",
       "      <th>763</th>\n",
       "      <th>764</th>\n",
       "      <th>765</th>\n",
       "      <th>766</th>\n",
       "      <th>767</th>\n",
       "    </tr>\n",
       "  </thead>\n",
       "  <tbody>\n",
       "    <tr>\n",
       "      <th>0</th>\n",
       "      <td>-0.197304</td>\n",
       "      <td>-0.174300</td>\n",
       "      <td>0.060200</td>\n",
       "      <td>-0.170798</td>\n",
       "      <td>0.408735</td>\n",
       "      <td>0.411508</td>\n",
       "      <td>0.018429</td>\n",
       "      <td>0.230404</td>\n",
       "      <td>-0.489339</td>\n",
       "      <td>-0.168133</td>\n",
       "      <td>...</td>\n",
       "      <td>-0.320710</td>\n",
       "      <td>-0.110660</td>\n",
       "      <td>-0.107324</td>\n",
       "      <td>-0.101553</td>\n",
       "      <td>0.365497</td>\n",
       "      <td>-0.277575</td>\n",
       "      <td>-0.174903</td>\n",
       "      <td>-0.150663</td>\n",
       "      <td>0.468598</td>\n",
       "      <td>0.068389</td>\n",
       "    </tr>\n",
       "    <tr>\n",
       "      <th>1</th>\n",
       "      <td>-0.177955</td>\n",
       "      <td>-0.356791</td>\n",
       "      <td>-0.027010</td>\n",
       "      <td>-0.102771</td>\n",
       "      <td>0.868301</td>\n",
       "      <td>0.333581</td>\n",
       "      <td>-0.136644</td>\n",
       "      <td>0.447039</td>\n",
       "      <td>-0.197909</td>\n",
       "      <td>-0.375645</td>\n",
       "      <td>...</td>\n",
       "      <td>-0.409529</td>\n",
       "      <td>-0.126276</td>\n",
       "      <td>-0.148402</td>\n",
       "      <td>-0.056518</td>\n",
       "      <td>0.227124</td>\n",
       "      <td>-0.027080</td>\n",
       "      <td>-0.031995</td>\n",
       "      <td>0.015315</td>\n",
       "      <td>0.174582</td>\n",
       "      <td>-0.182426</td>\n",
       "    </tr>\n",
       "    <tr>\n",
       "      <th>2</th>\n",
       "      <td>0.099995</td>\n",
       "      <td>0.083777</td>\n",
       "      <td>0.253066</td>\n",
       "      <td>-0.151745</td>\n",
       "      <td>0.793824</td>\n",
       "      <td>0.115409</td>\n",
       "      <td>-0.048122</td>\n",
       "      <td>-0.185376</td>\n",
       "      <td>-0.390872</td>\n",
       "      <td>-0.119723</td>\n",
       "      <td>...</td>\n",
       "      <td>-0.378080</td>\n",
       "      <td>-0.108200</td>\n",
       "      <td>0.035751</td>\n",
       "      <td>-0.137532</td>\n",
       "      <td>0.322656</td>\n",
       "      <td>0.029988</td>\n",
       "      <td>0.016626</td>\n",
       "      <td>-0.266226</td>\n",
       "      <td>0.157649</td>\n",
       "      <td>-0.097079</td>\n",
       "    </tr>\n",
       "    <tr>\n",
       "      <th>3</th>\n",
       "      <td>-0.555987</td>\n",
       "      <td>-0.102581</td>\n",
       "      <td>-0.105193</td>\n",
       "      <td>-0.304581</td>\n",
       "      <td>0.549199</td>\n",
       "      <td>0.170580</td>\n",
       "      <td>-0.038846</td>\n",
       "      <td>0.551712</td>\n",
       "      <td>-0.440562</td>\n",
       "      <td>-0.368627</td>\n",
       "      <td>...</td>\n",
       "      <td>-0.191760</td>\n",
       "      <td>-0.138783</td>\n",
       "      <td>-0.068475</td>\n",
       "      <td>-0.060970</td>\n",
       "      <td>0.386372</td>\n",
       "      <td>-0.211622</td>\n",
       "      <td>-0.132646</td>\n",
       "      <td>-0.091036</td>\n",
       "      <td>0.286109</td>\n",
       "      <td>0.015080</td>\n",
       "    </tr>\n",
       "    <tr>\n",
       "      <th>4</th>\n",
       "      <td>-0.208496</td>\n",
       "      <td>-0.147660</td>\n",
       "      <td>0.146838</td>\n",
       "      <td>0.048666</td>\n",
       "      <td>0.782457</td>\n",
       "      <td>-0.007270</td>\n",
       "      <td>-0.237891</td>\n",
       "      <td>0.166246</td>\n",
       "      <td>-0.911611</td>\n",
       "      <td>-0.043977</td>\n",
       "      <td>...</td>\n",
       "      <td>-0.342221</td>\n",
       "      <td>-0.213371</td>\n",
       "      <td>0.225680</td>\n",
       "      <td>-0.159711</td>\n",
       "      <td>0.353217</td>\n",
       "      <td>-0.455150</td>\n",
       "      <td>0.056355</td>\n",
       "      <td>0.094988</td>\n",
       "      <td>0.302095</td>\n",
       "      <td>-0.092251</td>\n",
       "    </tr>\n",
       "  </tbody>\n",
       "</table>\n",
       "<p>5 rows × 768 columns</p>\n",
       "</div>"
      ],
      "text/plain": [
       "        0         1         2         3         4         5         6    \\\n",
       "0 -0.197304 -0.174300  0.060200 -0.170798  0.408735  0.411508  0.018429   \n",
       "1 -0.177955 -0.356791 -0.027010 -0.102771  0.868301  0.333581 -0.136644   \n",
       "2  0.099995  0.083777  0.253066 -0.151745  0.793824  0.115409 -0.048122   \n",
       "3 -0.555987 -0.102581 -0.105193 -0.304581  0.549199  0.170580 -0.038846   \n",
       "4 -0.208496 -0.147660  0.146838  0.048666  0.782457 -0.007270 -0.237891   \n",
       "\n",
       "        7         8         9    ...       758       759       760       761  \\\n",
       "0  0.230404 -0.489339 -0.168133  ... -0.320710 -0.110660 -0.107324 -0.101553   \n",
       "1  0.447039 -0.197909 -0.375645  ... -0.409529 -0.126276 -0.148402 -0.056518   \n",
       "2 -0.185376 -0.390872 -0.119723  ... -0.378080 -0.108200  0.035751 -0.137532   \n",
       "3  0.551712 -0.440562 -0.368627  ... -0.191760 -0.138783 -0.068475 -0.060970   \n",
       "4  0.166246 -0.911611 -0.043977  ... -0.342221 -0.213371  0.225680 -0.159711   \n",
       "\n",
       "        762       763       764       765       766       767  \n",
       "0  0.365497 -0.277575 -0.174903 -0.150663  0.468598  0.068389  \n",
       "1  0.227124 -0.027080 -0.031995  0.015315  0.174582 -0.182426  \n",
       "2  0.322656  0.029988  0.016626 -0.266226  0.157649 -0.097079  \n",
       "3  0.386372 -0.211622 -0.132646 -0.091036  0.286109  0.015080  \n",
       "4  0.353217 -0.455150  0.056355  0.094988  0.302095 -0.092251  \n",
       "\n",
       "[5 rows x 768 columns]"
      ]
     },
     "execution_count": 50,
     "metadata": {},
     "output_type": "execute_result"
    }
   ],
   "source": [
    "# create a dataframe with the color embeddings\n",
    "df = pandas.DataFrame(color_embeddings)\n",
    "\n",
    "# prepend the color words to the dataframe\n",
    "# df.insert(0, \"color\", color_words)\n",
    "df.head()"
   ]
  },
  {
   "cell_type": "code",
   "execution_count": 51,
   "metadata": {},
   "outputs": [
    {
     "name": "stdout",
     "output_type": "stream",
     "text": [
      "0      0.248943\n",
      "1      0.181524\n",
      "2      0.159294\n",
      "3      0.129179\n",
      "4      0.177713\n",
      "         ...   \n",
      "763    0.133909\n",
      "764    0.144492\n",
      "765    0.134842\n",
      "766    0.089033\n",
      "767    0.189971\n",
      "Length: 768, dtype: float32\n"
     ]
    }
   ],
   "source": [
    "# find the standard deviation of each column\n",
    "std_dev = df.std(axis=0)\n",
    "print(std_dev)"
   ]
  },
  {
   "cell_type": "code",
   "execution_count": 52,
   "metadata": {},
   "outputs": [
    {
     "name": "stdout",
     "output_type": "stream",
     "text": [
      "77     0.058393\n",
      "381    0.063033\n",
      "295    0.065509\n",
      "256    0.066712\n",
      "566    0.068399\n",
      "511    0.068850\n",
      "759    0.069770\n",
      "482    0.070950\n",
      "356    0.072616\n",
      "84     0.073610\n",
      "dtype: float32\n"
     ]
    }
   ],
   "source": [
    "# find the top 5 colors with the lowest standard deviation\n",
    "bottom_colors = std_dev.nsmallest(10)\n",
    "print(bottom_colors)"
   ]
  },
  {
   "cell_type": "code",
   "execution_count": 53,
   "metadata": {},
   "outputs": [
    {
     "name": "stdout",
     "output_type": "stream",
     "text": [
      "251    0.421752\n",
      "470    0.360365\n",
      "750    0.360220\n",
      "46     0.357757\n",
      "101    0.342088\n",
      "661    0.339643\n",
      "454    0.320287\n",
      "18     0.317667\n",
      "700    0.314821\n",
      "617    0.310287\n",
      "dtype: float32\n"
     ]
    }
   ],
   "source": [
    "# find the top 5 colors with the highest standard deviation\n",
    "top_colors = std_dev.nlargest(10)\n",
    "print(top_colors)"
   ]
  },
  {
   "cell_type": "code",
   "execution_count": 134,
   "metadata": {},
   "outputs": [
    {
     "data": {
      "image/png": "[encoded data removed]",
      "text/plain": [
       "<Figure size 700x1000 with 1 Axes>"
      ]
     },
     "metadata": {},
     "output_type": "display_data"
    }
   ],
   "source": [
    "# selected_idx = top_colors.index[0]\n",
    "\n",
    "# create new df with only selected column\n",
    "paired_df = df[[selected_idx]]\n",
    "# paired_df = df.iloc[:,selected_idx]\n",
    "paired_df.insert(0, \"color\", color_words)\n",
    "# print(paired_df)\n",
    "\n",
    "# plot paired_df as points on a graph\n",
    "# show the color word beside each point\n",
    "# plt.scatter(paired_df['color'], paired_df[selected_idx], color=color_words, edgecolors='black', linewidths=0.2)\n",
    "# plt.scatter([0 for i in range(len(paired_df[selected_idx]))], paired_df[selected_idx], color=color_words)\n",
    "# plt.xticks(rotation=90)\n",
    "# plt.show()\n",
    "\n",
    "for j, selected_idx in enumerate(top_colors.index):\n",
    "  paired_df = df[[selected_idx]]\n",
    "  paired_df.insert(0, \"color\", color_words)\n",
    "  # plt.scatter(paired_df['color'], paired_df[selected_idx], color=color_words, edgecolors='black', linewidths=0.2)\n",
    "  plt.scatter([j for i in range(len(paired_df[selected_idx]))], paired_df[selected_idx], color=color_words, edgecolors='black', linewidths=0.2, marker='D', s=100)\n",
    "\n",
    "# stretch out the y-axis\n",
    "# plt.ylim(-1, 1)\n",
    "\n",
    "# set chart height\n",
    "plt.rcParams[\"figure.figsize\"] = (7,10)\n",
    "plt.xticks(rotation=90)\n",
    "plt.show()\n",
    "\n",
    "# # set background color\n",
    "# plt.rcParams['axes.facecolor'] = 'white'\n",
    "# # # set background color\n",
    "# ax = plt.gca()\n",
    "# # ax.set_facecolor('xkcd:light grey')"
   ]
  },
  {
   "cell_type": "code",
   "execution_count": 68,
   "metadata": {},
   "outputs": [
    {
     "name": "stdout",
     "output_type": "stream",
     "text": [
      "0     0.611688\n",
      "1     1.231950\n",
      "2    -0.140742\n",
      "3     1.085461\n",
      "4     1.116600\n",
      "5     2.148425\n",
      "6    -1.396042\n",
      "7     0.649565\n",
      "8    -1.173731\n",
      "9    -0.632111\n",
      "10    1.120164\n",
      "11   -0.081023\n",
      "12    1.232351\n",
      "13    0.654589\n",
      "14    1.818684\n",
      "15    2.682327\n",
      "16   -1.053865\n",
      "17    0.282818\n",
      "18    1.025399\n",
      "19   -0.793118\n",
      "dtype: float32\n"
     ]
    },
    {
     "data": {
      "image/png": "[encoded data removed]",
      "text/plain": [
       "<Figure size 640x480 with 1 Axes>"
      ]
     },
     "metadata": {},
     "output_type": "display_data"
    }
   ],
   "source": [
    "# create new df with top 10 colors with highest std dev\n",
    "top_df = df[top_colors.index]\n",
    "# top_df.insert(0, \"color\", color_words\n",
    "# print(top_df)\n",
    "\n",
    "# sum the columns of the top 10 colors\n",
    "sum_top_df = top_df.sum(axis=1)\n",
    "print(sum_top_df)\n",
    "\n",
    "# plot sum_top_df as points on a graph\n",
    "plt.scatter(color_words, sum_top_df, color=color_words, edgecolors='black', linewidths=0.2)\n",
    "# plt.scatter([0 for i in range(len(sum_top_df))], sum_top_df, color=color_words)\n",
    "plt.xticks(rotation=90)\n",
    "plt.show()"
   ]
  },
  {
   "cell_type": "code",
   "execution_count": 69,
   "metadata": {},
   "outputs": [],
   "source": [
    "import plotly.express as px\n",
    "from sklearn.decomposition import PCA"
   ]
  },
  {
   "cell_type": "code",
   "execution_count": 70,
   "metadata": {},
   "outputs": [],
   "source": [
    "# perform PCA\n",
    "pca = PCA(n_components=3)\n",
    "components = pca.fit_transform(df)"
   ]
  },
  {
   "cell_type": "code",
   "execution_count": 73,
   "metadata": {},
   "outputs": [
    {
     "data": {
      "text/html": [
       "<div>\n",
       "<style scoped>\n",
       "    .dataframe tbody tr th:only-of-type {\n",
       "        vertical-align: middle;\n",
       "    }\n",
       "\n",
       "    .dataframe tbody tr th {\n",
       "        vertical-align: top;\n",
       "    }\n",
       "\n",
       "    .dataframe thead th {\n",
       "        text-align: right;\n",
       "    }\n",
       "</style>\n",
       "<table border=\"1\" class=\"dataframe\">\n",
       "  <thead>\n",
       "    <tr style=\"text-align: right;\">\n",
       "      <th></th>\n",
       "      <th>color</th>\n",
       "      <th>0</th>\n",
       "      <th>1</th>\n",
       "      <th>2</th>\n",
       "    </tr>\n",
       "  </thead>\n",
       "  <tbody>\n",
       "    <tr>\n",
       "      <th>0</th>\n",
       "      <td>red</td>\n",
       "      <td>-1.769199</td>\n",
       "      <td>-1.129959</td>\n",
       "      <td>-0.724373</td>\n",
       "    </tr>\n",
       "    <tr>\n",
       "      <th>1</th>\n",
       "      <td>orange</td>\n",
       "      <td>-0.056656</td>\n",
       "      <td>-1.526363</td>\n",
       "      <td>-0.809282</td>\n",
       "    </tr>\n",
       "    <tr>\n",
       "      <th>2</th>\n",
       "      <td>gold</td>\n",
       "      <td>-1.670604</td>\n",
       "      <td>1.669255</td>\n",
       "      <td>2.775040</td>\n",
       "    </tr>\n",
       "    <tr>\n",
       "      <th>3</th>\n",
       "      <td>yellow</td>\n",
       "      <td>-1.659518</td>\n",
       "      <td>-0.736385</td>\n",
       "      <td>-0.302053</td>\n",
       "    </tr>\n",
       "    <tr>\n",
       "      <th>4</th>\n",
       "      <td>green</td>\n",
       "      <td>-0.212067</td>\n",
       "      <td>-0.933023</td>\n",
       "      <td>-0.009902</td>\n",
       "    </tr>\n",
       "  </tbody>\n",
       "</table>\n",
       "</div>"
      ],
      "text/plain": [
       "    color         0         1         2\n",
       "0     red -1.769199 -1.129959 -0.724373\n",
       "1  orange -0.056656 -1.526363 -0.809282\n",
       "2    gold -1.670604  1.669255  2.775040\n",
       "3  yellow -1.659518 -0.736385 -0.302053\n",
       "4   green -0.212067 -0.933023 -0.009902"
      ]
     },
     "execution_count": 73,
     "metadata": {},
     "output_type": "execute_result"
    }
   ],
   "source": [
    "# turn components into a dataframe\n",
    "components_df = pandas.DataFrame(components)\n",
    "components_df.columns = components_df.columns.astype(str)\n",
    "components_df.insert(0, \"color\", color_words)\n",
    "components_df.head()"
   ]
  },
  {
   "cell_type": "code",
   "execution_count": 74,
   "metadata": {},
   "outputs": [
    {
     "data": {
      "application/vnd.plotly.v1+json": {
       "config": {
        "plotlyServerURL": "https://plot.ly"
       },
       "data": [
        {
         "customdata": [
          [
           "red"
          ]
         ],
         "hovertemplate": "color=%{customdata[0]}<extra></extra>",
         "legendgroup": "red",
         "marker": {
          "color": "red",
          "symbol": "circle"
         },
         "mode": "markers",
         "name": "red",
         "scene": "scene",
         "showlegend": true,
         "type": "scatter3d",
         "x": [
          -1.769199252128601
         ],
         "y": [
          -1.1299586296081543
         ],
         "z": [
          -0.7243728041648865
         ]
        },
        {
         "customdata": [
          [
           "orange"
          ]
         ],
         "hovertemplate": "color=%{customdata[0]}<extra></extra>",
         "legendgroup": "orange",
         "marker": {
          "color": "orange",
          "symbol": "circle"
         },
         "mode": "markers",
         "name": "orange",
         "scene": "scene",
         "showlegend": true,
         "type": "scatter3d",
         "x": [
          -0.05665558576583862
         ],
         "y": [
          -1.5263627767562866
         ],
         "z": [
          -0.809281587600708
         ]
        },
        {
         "customdata": [
          [
           "gold"
          ]
         ],
         "hovertemplate": "color=%{customdata[0]}<extra></extra>",
         "legendgroup": "gold",
         "marker": {
          "color": "gold",
          "symbol": "circle"
         },
         "mode": "markers",
         "name": "gold",
         "scene": "scene",
         "showlegend": true,
         "type": "scatter3d",
         "x": [
          -1.6706037521362305
         ],
         "y": [
          1.6692553758621216
         ],
         "z": [
          2.7750399112701416
         ]
        },
        {
         "customdata": [
          [
           "yellow"
          ]
         ],
         "hovertemplate": "color=%{customdata[0]}<extra></extra>",
         "legendgroup": "yellow",
         "marker": {
          "color": "yellow",
          "symbol": "circle"
         },
         "mode": "markers",
         "name": "yellow",
         "scene": "scene",
         "showlegend": true,
         "type": "scatter3d",
         "x": [
          -1.6595178842544556
         ],
         "y": [
          -0.7363854646682739
         ],
         "z": [
          -0.30205267667770386
         ]
        },
        {
         "customdata": [
          [
           "green"
          ]
         ],
         "hovertemplate": "color=%{customdata[0]}<extra></extra>",
         "legendgroup": "green",
         "marker": {
          "color": "green",
          "symbol": "circle"
         },
         "mode": "markers",
         "name": "green",
         "scene": "scene",
         "showlegend": true,
         "type": "scatter3d",
         "x": [
          -0.21206706762313843
         ],
         "y": [
          -0.9330230951309204
         ],
         "z": [
          -0.009901829995214939
         ]
        },
        {
         "customdata": [
          [
           "cyan"
          ]
         ],
         "hovertemplate": "color=%{customdata[0]}<extra></extra>",
         "legendgroup": "cyan",
         "marker": {
          "color": "cyan",
          "symbol": "circle"
         },
         "mode": "markers",
         "name": "cyan",
         "scene": "scene",
         "showlegend": true,
         "type": "scatter3d",
         "x": [
          -0.5000356435775757
         ],
         "y": [
          4.018770217895508
         ],
         "z": [
          -2.6492743492126465
         ]
        },
        {
         "customdata": [
          [
           "turquoise"
          ]
         ],
         "hovertemplate": "color=%{customdata[0]}<extra></extra>",
         "legendgroup": "turquoise",
         "marker": {
          "color": "turquoise",
          "symbol": "circle"
         },
         "mode": "markers",
         "name": "turquoise",
         "scene": "scene",
         "showlegend": true,
         "type": "scatter3d",
         "x": [
          2.2018449306488037
         ],
         "y": [
          1.2098779678344727
         ],
         "z": [
          2.1297807693481445
         ]
        },
        {
         "customdata": [
          [
           "blue"
          ]
         ],
         "hovertemplate": "color=%{customdata[0]}<extra></extra>",
         "legendgroup": "blue",
         "marker": {
          "color": "blue",
          "symbol": "circle"
         },
         "mode": "markers",
         "name": "blue",
         "scene": "scene",
         "showlegend": true,
         "type": "scatter3d",
         "x": [
          -0.574218213558197
         ],
         "y": [
          -0.510981559753418
         ],
         "z": [
          0.3784700930118561
         ]
        },
        {
         "customdata": [
          [
           "indigo"
          ]
         ],
         "hovertemplate": "color=%{customdata[0]}<extra></extra>",
         "legendgroup": "indigo",
         "marker": {
          "color": "indigo",
          "symbol": "circle"
         },
         "mode": "markers",
         "name": "indigo",
         "scene": "scene",
         "showlegend": true,
         "type": "scatter3d",
         "x": [
          2.7456297874450684
         ],
         "y": [
          0.19626203179359436
         ],
         "z": [
          -0.5568259358406067
         ]
        },
        {
         "customdata": [
          [
           "violet"
          ]
         ],
         "hovertemplate": "color=%{customdata[0]}<extra></extra>",
         "legendgroup": "violet",
         "marker": {
          "color": "violet",
          "symbol": "circle"
         },
         "mode": "markers",
         "name": "violet",
         "scene": "scene",
         "showlegend": true,
         "type": "scatter3d",
         "x": [
          3.096487522125244
         ],
         "y": [
          -0.3738301992416382
         ],
         "z": [
          -0.05191117525100708
         ]
        },
        {
         "customdata": [
          [
           "purple"
          ]
         ],
         "hovertemplate": "color=%{customdata[0]}<extra></extra>",
         "legendgroup": "purple",
         "marker": {
          "color": "purple",
          "symbol": "circle"
         },
         "mode": "markers",
         "name": "purple",
         "scene": "scene",
         "showlegend": true,
         "type": "scatter3d",
         "x": [
          1.6178721189498901
         ],
         "y": [
          -1.290274977684021
         ],
         "z": [
          -0.24651087820529938
         ]
        },
        {
         "customdata": [
          [
           "lavender"
          ]
         ],
         "hovertemplate": "color=%{customdata[0]}<extra></extra>",
         "legendgroup": "lavender",
         "marker": {
          "color": "lavender",
          "symbol": "circle"
         },
         "mode": "markers",
         "name": "lavender",
         "scene": "scene",
         "showlegend": true,
         "type": "scatter3d",
         "x": [
          3.7023744583129883
         ],
         "y": [
          -0.3678773045539856
         ],
         "z": [
          0.06856493651866913
         ]
        },
        {
         "customdata": [
          [
           "magenta"
          ]
         ],
         "hovertemplate": "color=%{customdata[0]}<extra></extra>",
         "legendgroup": "magenta",
         "marker": {
          "color": "magenta",
          "symbol": "circle"
         },
         "mode": "markers",
         "name": "magenta",
         "scene": "scene",
         "showlegend": true,
         "type": "scatter3d",
         "x": [
          0.15977871417999268
         ],
         "y": [
          2.718916654586792
         ],
         "z": [
          -2.0240559577941895
         ]
        },
        {
         "customdata": [
          [
           "maroon"
          ]
         ],
         "hovertemplate": "color=%{customdata[0]}<extra></extra>",
         "legendgroup": "maroon",
         "marker": {
          "color": "maroon",
          "symbol": "circle"
         },
         "mode": "markers",
         "name": "maroon",
         "scene": "scene",
         "showlegend": true,
         "type": "scatter3d",
         "x": [
          0.4863447844982147
         ],
         "y": [
          -0.9684443473815918
         ],
         "z": [
          0.09028996527194977
         ]
        },
        {
         "customdata": [
          [
           "pink"
          ]
         ],
         "hovertemplate": "color=%{customdata[0]}<extra></extra>",
         "legendgroup": "pink",
         "marker": {
          "color": "pink",
          "symbol": "circle"
         },
         "mode": "markers",
         "name": "pink",
         "scene": "scene",
         "showlegend": true,
         "type": "scatter3d",
         "x": [
          0.4757072925567627
         ],
         "y": [
          -1.5085645914077759
         ],
         "z": [
          0.39067956805229187
         ]
        },
        {
         "customdata": [
          [
           "brown"
          ]
         ],
         "hovertemplate": "color=%{customdata[0]}<extra></extra>",
         "legendgroup": "brown",
         "marker": {
          "color": "brown",
          "symbol": "circle"
         },
         "mode": "markers",
         "name": "brown",
         "scene": "scene",
         "showlegend": true,
         "type": "scatter3d",
         "x": [
          -1.4915233850479126
         ],
         "y": [
          -0.8418964743614197
         ],
         "z": [
          -0.8888382315635681
         ]
        },
        {
         "customdata": [
          [
           "black"
          ]
         ],
         "hovertemplate": "color=%{customdata[0]}<extra></extra>",
         "legendgroup": "black",
         "marker": {
          "color": "black",
          "symbol": "circle"
         },
         "mode": "markers",
         "name": "black",
         "scene": "scene",
         "showlegend": true,
         "type": "scatter3d",
         "x": [
          -2.161203145980835
         ],
         "y": [
          -0.9580662846565247
         ],
         "z": [
          -0.24125583469867706
         ]
        },
        {
         "customdata": [
          [
           "white"
          ]
         ],
         "hovertemplate": "color=%{customdata[0]}<extra></extra>",
         "legendgroup": "white",
         "marker": {
          "color": "white",
          "symbol": "circle"
         },
         "mode": "markers",
         "name": "white",
         "scene": "scene",
         "showlegend": true,
         "type": "scatter3d",
         "x": [
          -2.4232664108276367
         ],
         "y": [
          -0.8552038073539734
         ],
         "z": [
          0.09126511961221695
         ]
        },
        {
         "customdata": [
          [
           "gray"
          ]
         ],
         "hovertemplate": "color=%{customdata[0]}<extra></extra>",
         "legendgroup": "gray",
         "marker": {
          "color": "gray",
          "symbol": "circle"
         },
         "mode": "markers",
         "name": "gray",
         "scene": "scene",
         "showlegend": true,
         "type": "scatter3d",
         "x": [
          -0.9408349990844727
         ],
         "y": [
          0.0667475163936615
         ],
         "z": [
          -0.46184006333351135
         ]
        },
        {
         "customdata": [
          [
           "silver"
          ]
         ],
         "hovertemplate": "color=%{customdata[0]}<extra></extra>",
         "legendgroup": "silver",
         "marker": {
          "color": "silver",
          "symbol": "circle"
         },
         "mode": "markers",
         "name": "silver",
         "scene": "scene",
         "showlegend": true,
         "type": "scatter3d",
         "x": [
          -1.0269209146499634
         ],
         "y": [
          2.1210391521453857
         ],
         "z": [
          3.042030096054077
         ]
        }
       ],
       "layout": {
        "legend": {
         "title": {
          "text": "color"
         },
         "tracegroupgap": 0
        },
        "margin": {
         "t": 60
        },
        "scene": {
         "domain": {
          "x": [
           0,
           1
          ],
          "y": [
           0,
           1
          ]
         },
         "xaxis": {
          "title": {
           "text": "0"
          }
         },
         "yaxis": {
          "title": {
           "text": "1"
          }
         },
         "zaxis": {
          "title": {
           "text": "2"
          }
         }
        },
        "template": {
         "data": {
          "bar": [
           {
            "error_x": {
             "color": "#2a3f5f"
            },
            "error_y": {
             "color": "#2a3f5f"
            },
            "marker": {
             "line": {
              "color": "#E5ECF6",
              "width": 0.5
             },
             "pattern": {
              "fillmode": "overlay",
              "size": 10,
              "solidity": 0.2
             }
            },
            "type": "bar"
           }
          ],
          "barpolar": [
           {
            "marker": {
             "line": {
              "color": "#E5ECF6",
              "width": 0.5
             },
             "pattern": {
              "fillmode": "overlay",
              "size": 10,
              "solidity": 0.2
             }
            },
            "type": "barpolar"
           }
          ],
          "carpet": [
           {
            "aaxis": {
             "endlinecolor": "#2a3f5f",
             "gridcolor": "white",
             "linecolor": "white",
             "minorgridcolor": "white",
             "startlinecolor": "#2a3f5f"
            },
            "baxis": {
             "endlinecolor": "#2a3f5f",
             "gridcolor": "white",
             "linecolor": "white",
             "minorgridcolor": "white",
             "startlinecolor": "#2a3f5f"
            },
            "type": "carpet"
           }
          ],
          "choropleth": [
           {
            "colorbar": {
             "outlinewidth": 0,
             "ticks": ""
            },
            "type": "choropleth"
           }
          ],
          "contour": [
           {
            "colorbar": {
             "outlinewidth": 0,
             "ticks": ""
            },
            "colorscale": [
             [
              0,
              "#0d0887"
             ],
             [
              0.1111111111111111,
              "#46039f"
             ],
             [
              0.2222222222222222,
              "#7201a8"
             ],
             [
              0.3333333333333333,
              "#9c179e"
             ],
             [
              0.4444444444444444,
              "#bd3786"
             ],
             [
              0.5555555555555556,
              "#d8576b"
             ],
             [
              0.6666666666666666,
              "#ed7953"
             ],
             [
              0.7777777777777778,
              "#fb9f3a"
             ],
             [
              0.8888888888888888,
              "#fdca26"
             ],
             [
              1,
              "#f0f921"
             ]
            ],
            "type": "contour"
           }
          ],
          "contourcarpet": [
           {
            "colorbar": {
             "outlinewidth": 0,
             "ticks": ""
            },
            "type": "contourcarpet"
           }
          ],
          "heatmap": [
           {
            "colorbar": {
             "outlinewidth": 0,
             "ticks": ""
            },
            "colorscale": [
             [
              0,
              "#0d0887"
             ],
             [
              0.1111111111111111,
              "#46039f"
             ],
             [
              0.2222222222222222,
              "#7201a8"
             ],
             [
              0.3333333333333333,
              "#9c179e"
             ],
             [
              0.4444444444444444,
              "#bd3786"
             ],
             [
              0.5555555555555556,
              "#d8576b"
             ],
             [
              0.6666666666666666,
              "#ed7953"
             ],
             [
              0.7777777777777778,
              "#fb9f3a"
             ],
             [
              0.8888888888888888,
              "#fdca26"
             ],
             [
              1,
              "#f0f921"
             ]
            ],
            "type": "heatmap"
           }
          ],
          "heatmapgl": [
           {
            "colorbar": {
             "outlinewidth": 0,
             "ticks": ""
            },
            "colorscale": [
             [
              0,
              "#0d0887"
             ],
             [
              0.1111111111111111,
              "#46039f"
             ],
             [
              0.2222222222222222,
              "#7201a8"
             ],
             [
              0.3333333333333333,
              "#9c179e"
             ],
             [
              0.4444444444444444,
              "#bd3786"
             ],
             [
              0.5555555555555556,
              "#d8576b"
             ],
             [
              0.6666666666666666,
              "#ed7953"
             ],
             [
              0.7777777777777778,
              "#fb9f3a"
             ],
             [
              0.8888888888888888,
              "#fdca26"
             ],
             [
              1,
              "#f0f921"
             ]
            ],
            "type": "heatmapgl"
           }
          ],
          "histogram": [
           {
            "marker": {
             "pattern": {
              "fillmode": "overlay",
              "size": 10,
              "solidity": 0.2
             }
            },
            "type": "histogram"
           }
          ],
          "histogram2d": [
           {
            "colorbar": {
             "outlinewidth": 0,
             "ticks": ""
            },
            "colorscale": [
             [
              0,
              "#0d0887"
             ],
             [
              0.1111111111111111,
              "#46039f"
             ],
             [
              0.2222222222222222,
              "#7201a8"
             ],
             [
              0.3333333333333333,
              "#9c179e"
             ],
             [
              0.4444444444444444,
              "#bd3786"
             ],
             [
              0.5555555555555556,
              "#d8576b"
             ],
             [
              0.6666666666666666,
              "#ed7953"
             ],
             [
              0.7777777777777778,
              "#fb9f3a"
             ],
             [
              0.8888888888888888,
              "#fdca26"
             ],
             [
              1,
              "#f0f921"
             ]
            ],
            "type": "histogram2d"
           }
          ],
          "histogram2dcontour": [
           {
            "colorbar": {
             "outlinewidth": 0,
             "ticks": ""
            },
            "colorscale": [
             [
              0,
              "#0d0887"
             ],
             [
              0.1111111111111111,
              "#46039f"
             ],
             [
              0.2222222222222222,
              "#7201a8"
             ],
             [
              0.3333333333333333,
              "#9c179e"
             ],
             [
              0.4444444444444444,
              "#bd3786"
             ],
             [
              0.5555555555555556,
              "#d8576b"
             ],
             [
              0.6666666666666666,
              "#ed7953"
             ],
             [
              0.7777777777777778,
              "#fb9f3a"
             ],
             [
              0.8888888888888888,
              "#fdca26"
             ],
             [
              1,
              "#f0f921"
             ]
            ],
            "type": "histogram2dcontour"
           }
          ],
          "mesh3d": [
           {
            "colorbar": {
             "outlinewidth": 0,
             "ticks": ""
            },
            "type": "mesh3d"
           }
          ],
          "parcoords": [
           {
            "line": {
             "colorbar": {
              "outlinewidth": 0,
              "ticks": ""
             }
            },
            "type": "parcoords"
           }
          ],
          "pie": [
           {
            "automargin": true,
            "type": "pie"
           }
          ],
          "scatter": [
           {
            "fillpattern": {
             "fillmode": "overlay",
             "size": 10,
             "solidity": 0.2
            },
            "type": "scatter"
           }
          ],
          "scatter3d": [
           {
            "line": {
             "colorbar": {
              "outlinewidth": 0,
              "ticks": ""
             }
            },
            "marker": {
             "colorbar": {
              "outlinewidth": 0,
              "ticks": ""
             }
            },
            "type": "scatter3d"
           }
          ],
          "scattercarpet": [
           {
            "marker": {
             "colorbar": {
              "outlinewidth": 0,
              "ticks": ""
             }
            },
            "type": "scattercarpet"
           }
          ],
          "scattergeo": [
           {
            "marker": {
             "colorbar": {
              "outlinewidth": 0,
              "ticks": ""
             }
            },
            "type": "scattergeo"
           }
          ],
          "scattergl": [
           {
            "marker": {
             "colorbar": {
              "outlinewidth": 0,
              "ticks": ""
             }
            },
            "type": "scattergl"
           }
          ],
          "scattermapbox": [
           {
            "marker": {
             "colorbar": {
              "outlinewidth": 0,
              "ticks": ""
             }
            },
            "type": "scattermapbox"
           }
          ],
          "scatterpolar": [
           {
            "marker": {
             "colorbar": {
              "outlinewidth": 0,
              "ticks": ""
             }
            },
            "type": "scatterpolar"
           }
          ],
          "scatterpolargl": [
           {
            "marker": {
             "colorbar": {
              "outlinewidth": 0,
              "ticks": ""
             }
            },
            "type": "scatterpolargl"
           }
          ],
          "scatterternary": [
           {
            "marker": {
             "colorbar": {
              "outlinewidth": 0,
              "ticks": ""
             }
            },
            "type": "scatterternary"
           }
          ],
          "surface": [
           {
            "colorbar": {
             "outlinewidth": 0,
             "ticks": ""
            },
            "colorscale": [
             [
              0,
              "#0d0887"
             ],
             [
              0.1111111111111111,
              "#46039f"
             ],
             [
              0.2222222222222222,
              "#7201a8"
             ],
             [
              0.3333333333333333,
              "#9c179e"
             ],
             [
              0.4444444444444444,
              "#bd3786"
             ],
             [
              0.5555555555555556,
              "#d8576b"
             ],
             [
              0.6666666666666666,
              "#ed7953"
             ],
             [
              0.7777777777777778,
              "#fb9f3a"
             ],
             [
              0.8888888888888888,
              "#fdca26"
             ],
             [
              1,
              "#f0f921"
             ]
            ],
            "type": "surface"
           }
          ],
          "table": [
           {
            "cells": {
             "fill": {
              "color": "#EBF0F8"
             },
             "line": {
              "color": "white"
             }
            },
            "header": {
             "fill": {
              "color": "#C8D4E3"
             },
             "line": {
              "color": "white"
             }
            },
            "type": "table"
           }
          ]
         },
         "layout": {
          "annotationdefaults": {
           "arrowcolor": "#2a3f5f",
           "arrowhead": 0,
           "arrowwidth": 1
          },
          "autotypenumbers": "strict",
          "coloraxis": {
           "colorbar": {
            "outlinewidth": 0,
            "ticks": ""
           }
          },
          "colorscale": {
           "diverging": [
            [
             0,
             "#8e0152"
            ],
            [
             0.1,
             "#c51b7d"
            ],
            [
             0.2,
             "#de77ae"
            ],
            [
             0.3,
             "#f1b6da"
            ],
            [
             0.4,
             "#fde0ef"
            ],
            [
             0.5,
             "#f7f7f7"
            ],
            [
             0.6,
             "#e6f5d0"
            ],
            [
             0.7,
             "#b8e186"
            ],
            [
             0.8,
             "#7fbc41"
            ],
            [
             0.9,
             "#4d9221"
            ],
            [
             1,
             "#276419"
            ]
           ],
           "sequential": [
            [
             0,
             "#0d0887"
            ],
            [
             0.1111111111111111,
             "#46039f"
            ],
            [
             0.2222222222222222,
             "#7201a8"
            ],
            [
             0.3333333333333333,
             "#9c179e"
            ],
            [
             0.4444444444444444,
             "#bd3786"
            ],
            [
             0.5555555555555556,
             "#d8576b"
            ],
            [
             0.6666666666666666,
             "#ed7953"
            ],
            [
             0.7777777777777778,
             "#fb9f3a"
            ],
            [
             0.8888888888888888,
             "#fdca26"
            ],
            [
             1,
             "#f0f921"
            ]
           ],
           "sequentialminus": [
            [
             0,
             "#0d0887"
            ],
            [
             0.1111111111111111,
             "#46039f"
            ],
            [
             0.2222222222222222,
             "#7201a8"
            ],
            [
             0.3333333333333333,
             "#9c179e"
            ],
            [
             0.4444444444444444,
             "#bd3786"
            ],
            [
             0.5555555555555556,
             "#d8576b"
            ],
            [
             0.6666666666666666,
             "#ed7953"
            ],
            [
             0.7777777777777778,
             "#fb9f3a"
            ],
            [
             0.8888888888888888,
             "#fdca26"
            ],
            [
             1,
             "#f0f921"
            ]
           ]
          },
          "colorway": [
           "#636efa",
           "#EF553B",
           "#00cc96",
           "#ab63fa",
           "#FFA15A",
           "#19d3f3",
           "#FF6692",
           "#B6E880",
           "#FF97FF",
           "#FECB52"
          ],
          "font": {
           "color": "#2a3f5f"
          },
          "geo": {
           "bgcolor": "white",
           "lakecolor": "white",
           "landcolor": "#E5ECF6",
           "showlakes": true,
           "showland": true,
           "subunitcolor": "white"
          },
          "hoverlabel": {
           "align": "left"
          },
          "hovermode": "closest",
          "mapbox": {
           "style": "light"
          },
          "paper_bgcolor": "white",
          "plot_bgcolor": "#E5ECF6",
          "polar": {
           "angularaxis": {
            "gridcolor": "white",
            "linecolor": "white",
            "ticks": ""
           },
           "bgcolor": "#E5ECF6",
           "radialaxis": {
            "gridcolor": "white",
            "linecolor": "white",
            "ticks": ""
           }
          },
          "scene": {
           "xaxis": {
            "backgroundcolor": "#E5ECF6",
            "gridcolor": "white",
            "gridwidth": 2,
            "linecolor": "white",
            "showbackground": true,
            "ticks": "",
            "zerolinecolor": "white"
           },
           "yaxis": {
            "backgroundcolor": "#E5ECF6",
            "gridcolor": "white",
            "gridwidth": 2,
            "linecolor": "white",
            "showbackground": true,
            "ticks": "",
            "zerolinecolor": "white"
           },
           "zaxis": {
            "backgroundcolor": "#E5ECF6",
            "gridcolor": "white",
            "gridwidth": 2,
            "linecolor": "white",
            "showbackground": true,
            "ticks": "",
            "zerolinecolor": "white"
           }
          },
          "shapedefaults": {
           "line": {
            "color": "#2a3f5f"
           }
          },
          "ternary": {
           "aaxis": {
            "gridcolor": "white",
            "linecolor": "white",
            "ticks": ""
           },
           "baxis": {
            "gridcolor": "white",
            "linecolor": "white",
            "ticks": ""
           },
           "bgcolor": "#E5ECF6",
           "caxis": {
            "gridcolor": "white",
            "linecolor": "white",
            "ticks": ""
           }
          },
          "title": {
           "x": 0.05
          },
          "xaxis": {
           "automargin": true,
           "gridcolor": "white",
           "linecolor": "white",
           "ticks": "",
           "title": {
            "standoff": 15
           },
           "zerolinecolor": "white",
           "zerolinewidth": 2
          },
          "yaxis": {
           "automargin": true,
           "gridcolor": "white",
           "linecolor": "white",
           "ticks": "",
           "title": {
            "standoff": 15
           },
           "zerolinecolor": "white",
           "zerolinewidth": 2
          }
         }
        }
       }
      }
     },
     "metadata": {},
     "output_type": "display_data"
    }
   ],
   "source": [
    "fig = px.scatter_3d(\n",
    "    components_df, x='0', y='1', z='2', color='color',\n",
    "    hover_data={'color': True, '0': False, '1': False, '2': False},\n",
    "    color_discrete_sequence=color_words\n",
    ")\n",
    "fig.show()"
   ]
  },
  {
   "cell_type": "code",
   "execution_count": 75,
   "metadata": {},
   "outputs": [],
   "source": [
    "# Do UMAP on the color embeddings\n",
    "import umap\n",
    "import numpy as np"
   ]
  },
  {
   "cell_type": "code",
   "execution_count": 76,
   "metadata": {},
   "outputs": [
    {
     "name": "stdout",
     "output_type": "stream",
     "text": [
      "(20, 768)\n"
     ]
    }
   ],
   "source": [
    "# create a numpy array from the color embeddings\n",
    "color_embeddings_np = np.array(color_embeddings)\n",
    "print(color_embeddings_np.shape)"
   ]
  },
  {
   "cell_type": "code",
   "execution_count": 92,
   "metadata": {},
   "outputs": [
    {
     "data": {
      "text/plain": [
       "(20, 2)"
      ]
     },
     "execution_count": 92,
     "metadata": {},
     "output_type": "execute_result"
    }
   ],
   "source": [
    "# perform UMAP\n",
    "reducer = umap.UMAP(\n",
    "        n_neighbors=2,\n",
    "        min_dist=0.1,\n",
    "        n_components=2,\n",
    "        # metric='euclidean'\n",
    "        metric='cosine'\n",
    ")\n",
    "embedding = reducer.fit_transform(color_embeddings_np)\n",
    "embedding.shape"
   ]
  },
  {
   "cell_type": "code",
   "execution_count": 93,
   "metadata": {},
   "outputs": [],
   "source": [
    "# turn embedding into a dataframe\n",
    "embedding_df = pandas.DataFrame(embedding)\n",
    "embedding_df.columns = embedding_df.columns.astype(str)\n",
    "embedding_df.insert(0, \"color\", color_words)"
   ]
  },
  {
   "cell_type": "code",
   "execution_count": 94,
   "metadata": {},
   "outputs": [
    {
     "data": {
      "application/vnd.plotly.v1+json": {
       "config": {
        "plotlyServerURL": "https://plot.ly"
       },
       "data": [
        {
         "customdata": [
          [
           "red"
          ]
         ],
         "hovertemplate": "color=%{customdata[0]}<extra></extra>",
         "legendgroup": "red",
         "marker": {
          "color": "red",
          "symbol": "circle"
         },
         "mode": "markers",
         "name": "red",
         "orientation": "v",
         "showlegend": true,
         "type": "scatter",
         "x": [
          13.957265853881836
         ],
         "xaxis": "x",
         "y": [
          7.324407577514648
         ],
         "yaxis": "y"
        },
        {
         "customdata": [
          [
           "orange"
          ]
         ],
         "hovertemplate": "color=%{customdata[0]}<extra></extra>",
         "legendgroup": "orange",
         "marker": {
          "color": "orange",
          "symbol": "circle"
         },
         "mode": "markers",
         "name": "orange",
         "orientation": "v",
         "showlegend": true,
         "type": "scatter",
         "x": [
          14.687128067016602
         ],
         "xaxis": "x",
         "y": [
          7.551591873168945
         ],
         "yaxis": "y"
        },
        {
         "customdata": [
          [
           "gold"
          ]
         ],
         "hovertemplate": "color=%{customdata[0]}<extra></extra>",
         "legendgroup": "gold",
         "marker": {
          "color": "gold",
          "symbol": "circle"
         },
         "mode": "markers",
         "name": "gold",
         "orientation": "v",
         "showlegend": true,
         "type": "scatter",
         "x": [
          9.603256225585938
         ],
         "xaxis": "x",
         "y": [
          18.427223205566406
         ],
         "yaxis": "y"
        },
        {
         "customdata": [
          [
           "yellow"
          ]
         ],
         "hovertemplate": "color=%{customdata[0]}<extra></extra>",
         "legendgroup": "yellow",
         "marker": {
          "color": "yellow",
          "symbol": "circle"
         },
         "mode": "markers",
         "name": "yellow",
         "orientation": "v",
         "showlegend": true,
         "type": "scatter",
         "x": [
          14.451431274414062
         ],
         "xaxis": "x",
         "y": [
          7.768383502960205
         ],
         "yaxis": "y"
        },
        {
         "customdata": [
          [
           "green"
          ]
         ],
         "hovertemplate": "color=%{customdata[0]}<extra></extra>",
         "legendgroup": "green",
         "marker": {
          "color": "green",
          "symbol": "circle"
         },
         "mode": "markers",
         "name": "green",
         "orientation": "v",
         "showlegend": true,
         "type": "scatter",
         "x": [
          13.749259948730469
         ],
         "xaxis": "x",
         "y": [
          7.0219855308532715
         ],
         "yaxis": "y"
        },
        {
         "customdata": [
          [
           "cyan"
          ]
         ],
         "hovertemplate": "color=%{customdata[0]}<extra></extra>",
         "legendgroup": "cyan",
         "marker": {
          "color": "cyan",
          "symbol": "circle"
         },
         "mode": "markers",
         "name": "cyan",
         "orientation": "v",
         "showlegend": true,
         "type": "scatter",
         "x": [
          18.066116333007812
         ],
         "xaxis": "x",
         "y": [
          -6.68517541885376
         ],
         "yaxis": "y"
        },
        {
         "customdata": [
          [
           "turquoise"
          ]
         ],
         "hovertemplate": "color=%{customdata[0]}<extra></extra>",
         "legendgroup": "turquoise",
         "marker": {
          "color": "turquoise",
          "symbol": "circle"
         },
         "mode": "markers",
         "name": "turquoise",
         "orientation": "v",
         "showlegend": true,
         "type": "scatter",
         "x": [
          15.350541114807129
         ],
         "xaxis": "x",
         "y": [
          8.336874961853027
         ],
         "yaxis": "y"
        },
        {
         "customdata": [
          [
           "blue"
          ]
         ],
         "hovertemplate": "color=%{customdata[0]}<extra></extra>",
         "legendgroup": "blue",
         "marker": {
          "color": "blue",
          "symbol": "circle"
         },
         "mode": "markers",
         "name": "blue",
         "orientation": "v",
         "showlegend": true,
         "type": "scatter",
         "x": [
          15.039449691772461
         ],
         "xaxis": "x",
         "y": [
          8.126521110534668
         ],
         "yaxis": "y"
        },
        {
         "customdata": [
          [
           "indigo"
          ]
         ],
         "hovertemplate": "color=%{customdata[0]}<extra></extra>",
         "legendgroup": "indigo",
         "marker": {
          "color": "indigo",
          "symbol": "circle"
         },
         "mode": "markers",
         "name": "indigo",
         "orientation": "v",
         "showlegend": true,
         "type": "scatter",
         "x": [
          -2.0522608757019043
         ],
         "xaxis": "x",
         "y": [
          -12.289948463439941
         ],
         "yaxis": "y"
        },
        {
         "customdata": [
          [
           "violet"
          ]
         ],
         "hovertemplate": "color=%{customdata[0]}<extra></extra>",
         "legendgroup": "violet",
         "marker": {
          "color": "violet",
          "symbol": "circle"
         },
         "mode": "markers",
         "name": "violet",
         "orientation": "v",
         "showlegend": true,
         "type": "scatter",
         "x": [
          -1.6528236865997314
         ],
         "xaxis": "x",
         "y": [
          -13.013702392578125
         ],
         "yaxis": "y"
        },
        {
         "customdata": [
          [
           "purple"
          ]
         ],
         "hovertemplate": "color=%{customdata[0]}<extra></extra>",
         "legendgroup": "purple",
         "marker": {
          "color": "purple",
          "symbol": "circle"
         },
         "mode": "markers",
         "name": "purple",
         "orientation": "v",
         "showlegend": true,
         "type": "scatter",
         "x": [
          -1.2845799922943115
         ],
         "xaxis": "x",
         "y": [
          -13.111166000366211
         ],
         "yaxis": "y"
        },
        {
         "customdata": [
          [
           "lavender"
          ]
         ],
         "hovertemplate": "color=%{customdata[0]}<extra></extra>",
         "legendgroup": "lavender",
         "marker": {
          "color": "lavender",
          "symbol": "circle"
         },
         "mode": "markers",
         "name": "lavender",
         "orientation": "v",
         "showlegend": true,
         "type": "scatter",
         "x": [
          -2.1476476192474365
         ],
         "xaxis": "x",
         "y": [
          -12.63931655883789
         ],
         "yaxis": "y"
        },
        {
         "customdata": [
          [
           "magenta"
          ]
         ],
         "hovertemplate": "color=%{customdata[0]}<extra></extra>",
         "legendgroup": "magenta",
         "marker": {
          "color": "magenta",
          "symbol": "circle"
         },
         "mode": "markers",
         "name": "magenta",
         "orientation": "v",
         "showlegend": true,
         "type": "scatter",
         "x": [
          18.116195678710938
         ],
         "xaxis": "x",
         "y": [
          -6.735211372375488
         ],
         "yaxis": "y"
        },
        {
         "customdata": [
          [
           "maroon"
          ]
         ],
         "hovertemplate": "color=%{customdata[0]}<extra></extra>",
         "legendgroup": "maroon",
         "marker": {
          "color": "maroon",
          "symbol": "circle"
         },
         "mode": "markers",
         "name": "maroon",
         "orientation": "v",
         "showlegend": true,
         "type": "scatter",
         "x": [
          -0.9799103140830994
         ],
         "xaxis": "x",
         "y": [
          -13.342823028564453
         ],
         "yaxis": "y"
        },
        {
         "customdata": [
          [
           "pink"
          ]
         ],
         "hovertemplate": "color=%{customdata[0]}<extra></extra>",
         "legendgroup": "pink",
         "marker": {
          "color": "pink",
          "symbol": "circle"
         },
         "mode": "markers",
         "name": "pink",
         "orientation": "v",
         "showlegend": true,
         "type": "scatter",
         "x": [
          -1.0001887083053589
         ],
         "xaxis": "x",
         "y": [
          -12.736468315124512
         ],
         "yaxis": "y"
        },
        {
         "customdata": [
          [
           "brown"
          ]
         ],
         "hovertemplate": "color=%{customdata[0]}<extra></extra>",
         "legendgroup": "brown",
         "marker": {
          "color": "brown",
          "symbol": "circle"
         },
         "mode": "markers",
         "name": "brown",
         "orientation": "v",
         "showlegend": true,
         "type": "scatter",
         "x": [
          -4.11270809173584
         ],
         "xaxis": "x",
         "y": [
          10.329394340515137
         ],
         "yaxis": "y"
        },
        {
         "customdata": [
          [
           "black"
          ]
         ],
         "hovertemplate": "color=%{customdata[0]}<extra></extra>",
         "legendgroup": "black",
         "marker": {
          "color": "black",
          "symbol": "circle"
         },
         "mode": "markers",
         "name": "black",
         "orientation": "v",
         "showlegend": true,
         "type": "scatter",
         "x": [
          -6.087655067443848
         ],
         "xaxis": "x",
         "y": [
          0.23337243497371674
         ],
         "yaxis": "y"
        },
        {
         "customdata": [
          [
           "white"
          ]
         ],
         "hovertemplate": "color=%{customdata[0]}<extra></extra>",
         "legendgroup": "white",
         "marker": {
          "color": "white",
          "symbol": "circle"
         },
         "mode": "markers",
         "name": "white",
         "orientation": "v",
         "showlegend": true,
         "type": "scatter",
         "x": [
          -6.005840301513672
         ],
         "xaxis": "x",
         "y": [
          0.3154370188713074
         ],
         "yaxis": "y"
        },
        {
         "customdata": [
          [
           "gray"
          ]
         ],
         "hovertemplate": "color=%{customdata[0]}<extra></extra>",
         "legendgroup": "gray",
         "marker": {
          "color": "gray",
          "symbol": "circle"
         },
         "mode": "markers",
         "name": "gray",
         "orientation": "v",
         "showlegend": true,
         "type": "scatter",
         "x": [
          -4.294088840484619
         ],
         "xaxis": "x",
         "y": [
          10.51077938079834
         ],
         "yaxis": "y"
        },
        {
         "customdata": [
          [
           "silver"
          ]
         ],
         "hovertemplate": "color=%{customdata[0]}<extra></extra>",
         "legendgroup": "silver",
         "marker": {
          "color": "silver",
          "symbol": "circle"
         },
         "mode": "markers",
         "name": "silver",
         "orientation": "v",
         "showlegend": true,
         "type": "scatter",
         "x": [
          9.75662899017334
         ],
         "xaxis": "x",
         "y": [
          18.273977279663086
         ],
         "yaxis": "y"
        }
       ],
       "layout": {
        "legend": {
         "title": {
          "text": "color"
         },
         "tracegroupgap": 0
        },
        "margin": {
         "t": 60
        },
        "template": {
         "data": {
          "bar": [
           {
            "error_x": {
             "color": "#2a3f5f"
            },
            "error_y": {
             "color": "#2a3f5f"
            },
            "marker": {
             "line": {
              "color": "#E5ECF6",
              "width": 0.5
             },
             "pattern": {
              "fillmode": "overlay",
              "size": 10,
              "solidity": 0.2
             }
            },
            "type": "bar"
           }
          ],
          "barpolar": [
           {
            "marker": {
             "line": {
              "color": "#E5ECF6",
              "width": 0.5
             },
             "pattern": {
              "fillmode": "overlay",
              "size": 10,
              "solidity": 0.2
             }
            },
            "type": "barpolar"
           }
          ],
          "carpet": [
           {
            "aaxis": {
             "endlinecolor": "#2a3f5f",
             "gridcolor": "white",
             "linecolor": "white",
             "minorgridcolor": "white",
             "startlinecolor": "#2a3f5f"
            },
            "baxis": {
             "endlinecolor": "#2a3f5f",
             "gridcolor": "white",
             "linecolor": "white",
             "minorgridcolor": "white",
             "startlinecolor": "#2a3f5f"
            },
            "type": "carpet"
           }
          ],
          "choropleth": [
           {
            "colorbar": {
             "outlinewidth": 0,
             "ticks": ""
            },
            "type": "choropleth"
           }
          ],
          "contour": [
           {
            "colorbar": {
             "outlinewidth": 0,
             "ticks": ""
            },
            "colorscale": [
             [
              0,
              "#0d0887"
             ],
             [
              0.1111111111111111,
              "#46039f"
             ],
             [
              0.2222222222222222,
              "#7201a8"
             ],
             [
              0.3333333333333333,
              "#9c179e"
             ],
             [
              0.4444444444444444,
              "#bd3786"
             ],
             [
              0.5555555555555556,
              "#d8576b"
             ],
             [
              0.6666666666666666,
              "#ed7953"
             ],
             [
              0.7777777777777778,
              "#fb9f3a"
             ],
             [
              0.8888888888888888,
              "#fdca26"
             ],
             [
              1,
              "#f0f921"
             ]
            ],
            "type": "contour"
           }
          ],
          "contourcarpet": [
           {
            "colorbar": {
             "outlinewidth": 0,
             "ticks": ""
            },
            "type": "contourcarpet"
           }
          ],
          "heatmap": [
           {
            "colorbar": {
             "outlinewidth": 0,
             "ticks": ""
            },
            "colorscale": [
             [
              0,
              "#0d0887"
             ],
             [
              0.1111111111111111,
              "#46039f"
             ],
             [
              0.2222222222222222,
              "#7201a8"
             ],
             [
              0.3333333333333333,
              "#9c179e"
             ],
             [
              0.4444444444444444,
              "#bd3786"
             ],
             [
              0.5555555555555556,
              "#d8576b"
             ],
             [
              0.6666666666666666,
              "#ed7953"
             ],
             [
              0.7777777777777778,
              "#fb9f3a"
             ],
             [
              0.8888888888888888,
              "#fdca26"
             ],
             [
              1,
              "#f0f921"
             ]
            ],
            "type": "heatmap"
           }
          ],
          "heatmapgl": [
           {
            "colorbar": {
             "outlinewidth": 0,
             "ticks": ""
            },
            "colorscale": [
             [
              0,
              "#0d0887"
             ],
             [
              0.1111111111111111,
              "#46039f"
             ],
             [
              0.2222222222222222,
              "#7201a8"
             ],
             [
              0.3333333333333333,
              "#9c179e"
             ],
             [
              0.4444444444444444,
              "#bd3786"
             ],
             [
              0.5555555555555556,
              "#d8576b"
             ],
             [
              0.6666666666666666,
              "#ed7953"
             ],
             [
              0.7777777777777778,
              "#fb9f3a"
             ],
             [
              0.8888888888888888,
              "#fdca26"
             ],
             [
              1,
              "#f0f921"
             ]
            ],
            "type": "heatmapgl"
           }
          ],
          "histogram": [
           {
            "marker": {
             "pattern": {
              "fillmode": "overlay",
              "size": 10,
              "solidity": 0.2
             }
            },
            "type": "histogram"
           }
          ],
          "histogram2d": [
           {
            "colorbar": {
             "outlinewidth": 0,
             "ticks": ""
            },
            "colorscale": [
             [
              0,
              "#0d0887"
             ],
             [
              0.1111111111111111,
              "#46039f"
             ],
             [
              0.2222222222222222,
              "#7201a8"
             ],
             [
              0.3333333333333333,
              "#9c179e"
             ],
             [
              0.4444444444444444,
              "#bd3786"
             ],
             [
              0.5555555555555556,
              "#d8576b"
             ],
             [
              0.6666666666666666,
              "#ed7953"
             ],
             [
              0.7777777777777778,
              "#fb9f3a"
             ],
             [
              0.8888888888888888,
              "#fdca26"
             ],
             [
              1,
              "#f0f921"
             ]
            ],
            "type": "histogram2d"
           }
          ],
          "histogram2dcontour": [
           {
            "colorbar": {
             "outlinewidth": 0,
             "ticks": ""
            },
            "colorscale": [
             [
              0,
              "#0d0887"
             ],
             [
              0.1111111111111111,
              "#46039f"
             ],
             [
              0.2222222222222222,
              "#7201a8"
             ],
             [
              0.3333333333333333,
              "#9c179e"
             ],
             [
              0.4444444444444444,
              "#bd3786"
             ],
             [
              0.5555555555555556,
              "#d8576b"
             ],
             [
              0.6666666666666666,
              "#ed7953"
             ],
             [
              0.7777777777777778,
              "#fb9f3a"
             ],
             [
              0.8888888888888888,
              "#fdca26"
             ],
             [
              1,
              "#f0f921"
             ]
            ],
            "type": "histogram2dcontour"
           }
          ],
          "mesh3d": [
           {
            "colorbar": {
             "outlinewidth": 0,
             "ticks": ""
            },
            "type": "mesh3d"
           }
          ],
          "parcoords": [
           {
            "line": {
             "colorbar": {
              "outlinewidth": 0,
              "ticks": ""
             }
            },
            "type": "parcoords"
           }
          ],
          "pie": [
           {
            "automargin": true,
            "type": "pie"
           }
          ],
          "scatter": [
           {
            "fillpattern": {
             "fillmode": "overlay",
             "size": 10,
             "solidity": 0.2
            },
            "type": "scatter"
           }
          ],
          "scatter3d": [
           {
            "line": {
             "colorbar": {
              "outlinewidth": 0,
              "ticks": ""
             }
            },
            "marker": {
             "colorbar": {
              "outlinewidth": 0,
              "ticks": ""
             }
            },
            "type": "scatter3d"
           }
          ],
          "scattercarpet": [
           {
            "marker": {
             "colorbar": {
              "outlinewidth": 0,
              "ticks": ""
             }
            },
            "type": "scattercarpet"
           }
          ],
          "scattergeo": [
           {
            "marker": {
             "colorbar": {
              "outlinewidth": 0,
              "ticks": ""
             }
            },
            "type": "scattergeo"
           }
          ],
          "scattergl": [
           {
            "marker": {
             "colorbar": {
              "outlinewidth": 0,
              "ticks": ""
             }
            },
            "type": "scattergl"
           }
          ],
          "scattermapbox": [
           {
            "marker": {
             "colorbar": {
              "outlinewidth": 0,
              "ticks": ""
             }
            },
            "type": "scattermapbox"
           }
          ],
          "scatterpolar": [
           {
            "marker": {
             "colorbar": {
              "outlinewidth": 0,
              "ticks": ""
             }
            },
            "type": "scatterpolar"
           }
          ],
          "scatterpolargl": [
           {
            "marker": {
             "colorbar": {
              "outlinewidth": 0,
              "ticks": ""
             }
            },
            "type": "scatterpolargl"
           }
          ],
          "scatterternary": [
           {
            "marker": {
             "colorbar": {
              "outlinewidth": 0,
              "ticks": ""
             }
            },
            "type": "scatterternary"
           }
          ],
          "surface": [
           {
            "colorbar": {
             "outlinewidth": 0,
             "ticks": ""
            },
            "colorscale": [
             [
              0,
              "#0d0887"
             ],
             [
              0.1111111111111111,
              "#46039f"
             ],
             [
              0.2222222222222222,
              "#7201a8"
             ],
             [
              0.3333333333333333,
              "#9c179e"
             ],
             [
              0.4444444444444444,
              "#bd3786"
             ],
             [
              0.5555555555555556,
              "#d8576b"
             ],
             [
              0.6666666666666666,
              "#ed7953"
             ],
             [
              0.7777777777777778,
              "#fb9f3a"
             ],
             [
              0.8888888888888888,
              "#fdca26"
             ],
             [
              1,
              "#f0f921"
             ]
            ],
            "type": "surface"
           }
          ],
          "table": [
           {
            "cells": {
             "fill": {
              "color": "#EBF0F8"
             },
             "line": {
              "color": "white"
             }
            },
            "header": {
             "fill": {
              "color": "#C8D4E3"
             },
             "line": {
              "color": "white"
             }
            },
            "type": "table"
           }
          ]
         },
         "layout": {
          "annotationdefaults": {
           "arrowcolor": "#2a3f5f",
           "arrowhead": 0,
           "arrowwidth": 1
          },
          "autotypenumbers": "strict",
          "coloraxis": {
           "colorbar": {
            "outlinewidth": 0,
            "ticks": ""
           }
          },
          "colorscale": {
           "diverging": [
            [
             0,
             "#8e0152"
            ],
            [
             0.1,
             "#c51b7d"
            ],
            [
             0.2,
             "#de77ae"
            ],
            [
             0.3,
             "#f1b6da"
            ],
            [
             0.4,
             "#fde0ef"
            ],
            [
             0.5,
             "#f7f7f7"
            ],
            [
             0.6,
             "#e6f5d0"
            ],
            [
             0.7,
             "#b8e186"
            ],
            [
             0.8,
             "#7fbc41"
            ],
            [
             0.9,
             "#4d9221"
            ],
            [
             1,
             "#276419"
            ]
           ],
           "sequential": [
            [
             0,
             "#0d0887"
            ],
            [
             0.1111111111111111,
             "#46039f"
            ],
            [
             0.2222222222222222,
             "#7201a8"
            ],
            [
             0.3333333333333333,
             "#9c179e"
            ],
            [
             0.4444444444444444,
             "#bd3786"
            ],
            [
             0.5555555555555556,
             "#d8576b"
            ],
            [
             0.6666666666666666,
             "#ed7953"
            ],
            [
             0.7777777777777778,
             "#fb9f3a"
            ],
            [
             0.8888888888888888,
             "#fdca26"
            ],
            [
             1,
             "#f0f921"
            ]
           ],
           "sequentialminus": [
            [
             0,
             "#0d0887"
            ],
            [
             0.1111111111111111,
             "#46039f"
            ],
            [
             0.2222222222222222,
             "#7201a8"
            ],
            [
             0.3333333333333333,
             "#9c179e"
            ],
            [
             0.4444444444444444,
             "#bd3786"
            ],
            [
             0.5555555555555556,
             "#d8576b"
            ],
            [
             0.6666666666666666,
             "#ed7953"
            ],
            [
             0.7777777777777778,
             "#fb9f3a"
            ],
            [
             0.8888888888888888,
             "#fdca26"
            ],
            [
             1,
             "#f0f921"
            ]
           ]
          },
          "colorway": [
           "#636efa",
           "#EF553B",
           "#00cc96",
           "#ab63fa",
           "#FFA15A",
           "#19d3f3",
           "#FF6692",
           "#B6E880",
           "#FF97FF",
           "#FECB52"
          ],
          "font": {
           "color": "#2a3f5f"
          },
          "geo": {
           "bgcolor": "white",
           "lakecolor": "white",
           "landcolor": "#E5ECF6",
           "showlakes": true,
           "showland": true,
           "subunitcolor": "white"
          },
          "hoverlabel": {
           "align": "left"
          },
          "hovermode": "closest",
          "mapbox": {
           "style": "light"
          },
          "paper_bgcolor": "white",
          "plot_bgcolor": "#E5ECF6",
          "polar": {
           "angularaxis": {
            "gridcolor": "white",
            "linecolor": "white",
            "ticks": ""
           },
           "bgcolor": "#E5ECF6",
           "radialaxis": {
            "gridcolor": "white",
            "linecolor": "white",
            "ticks": ""
           }
          },
          "scene": {
           "xaxis": {
            "backgroundcolor": "#E5ECF6",
            "gridcolor": "white",
            "gridwidth": 2,
            "linecolor": "white",
            "showbackground": true,
            "ticks": "",
            "zerolinecolor": "white"
           },
           "yaxis": {
            "backgroundcolor": "#E5ECF6",
            "gridcolor": "white",
            "gridwidth": 2,
            "linecolor": "white",
            "showbackground": true,
            "ticks": "",
            "zerolinecolor": "white"
           },
           "zaxis": {
            "backgroundcolor": "#E5ECF6",
            "gridcolor": "white",
            "gridwidth": 2,
            "linecolor": "white",
            "showbackground": true,
            "ticks": "",
            "zerolinecolor": "white"
           }
          },
          "shapedefaults": {
           "line": {
            "color": "#2a3f5f"
           }
          },
          "ternary": {
           "aaxis": {
            "gridcolor": "white",
            "linecolor": "white",
            "ticks": ""
           },
           "baxis": {
            "gridcolor": "white",
            "linecolor": "white",
            "ticks": ""
           },
           "bgcolor": "#E5ECF6",
           "caxis": {
            "gridcolor": "white",
            "linecolor": "white",
            "ticks": ""
           }
          },
          "title": {
           "x": 0.05
          },
          "xaxis": {
           "automargin": true,
           "gridcolor": "white",
           "linecolor": "white",
           "ticks": "",
           "title": {
            "standoff": 15
           },
           "zerolinecolor": "white",
           "zerolinewidth": 2
          },
          "yaxis": {
           "automargin": true,
           "gridcolor": "white",
           "linecolor": "white",
           "ticks": "",
           "title": {
            "standoff": 15
           },
           "zerolinecolor": "white",
           "zerolinewidth": 2
          }
         }
        },
        "xaxis": {
         "anchor": "y",
         "domain": [
          0,
          1
         ],
         "title": {
          "text": "0"
         }
        },
        "yaxis": {
         "anchor": "x",
         "domain": [
          0,
          1
         ],
         "title": {
          "text": "1"
         }
        }
       }
      }
     },
     "metadata": {},
     "output_type": "display_data"
    }
   ],
   "source": [
    "fig = px.scatter(\n",
    "    embedding_df, x='0', y='1', color='color',\n",
    "    hover_data={'color': True, '0': False, '1': False},\n",
    "    color_discrete_sequence=color_words\n",
    ")\n",
    "\n",
    "fig.show()"
   ]
  },
  {
   "cell_type": "code",
   "execution_count": null,
   "metadata": {},
   "outputs": [],
   "source": []
  }
 ],
 "metadata": {
  "kernelspec": {
   "display_name": "6861",
   "language": "python",
   "name": "python3"
  },
  "language_info": {
   "codemirror_mode": {
    "name": "ipython",
    "version": 3
   },
   "file_extension": ".py",
   "mimetype": "text/x-python",
   "name": "python",
   "nbconvert_exporter": "python",
   "pygments_lexer": "ipython3",
   "version": "3.8.18"
  }
 },
 "nbformat": 4,
 "nbformat_minor": 2
}
