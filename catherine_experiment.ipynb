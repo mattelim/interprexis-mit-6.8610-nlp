{
 "cells": [
  {
   "cell_type": "markdown",
   "metadata": {},
   "source": [
    "## Tokenizer + BERT → Data-processing → OpenAI"
   ]
  },
  {
   "cell_type": "markdown",
   "metadata": {},
   "source": [
    "Installing an environment like conda is recommended. This notebook last ran on Python 3.8.18 without issues."
   ]
  },
  {
   "cell_type": "code",
   "execution_count": 1,
   "metadata": {},
   "outputs": [
    {
     "name": "stdout",
     "output_type": "stream",
     "text": [
      "Collecting accelerate\n",
      "  Downloading accelerate-0.24.1-py3-none-any.whl (261 kB)\n",
      "\u001b[2K     \u001b[90m━━━━━━━━━━━━━━━━━━━━━━━━━━━━━━━━━━━━━━━\u001b[0m \u001b[32m261.4/261.4 kB\u001b[0m \u001b[31m2.3 MB/s\u001b[0m eta \u001b[36m0:00:00\u001b[0ma \u001b[36m0:00:01\u001b[0m\n",
      "\u001b[?25hCollecting transformers\n",
      "  Downloading transformers-4.35.0-py3-none-any.whl (7.9 MB)\n",
      "\u001b[2K     \u001b[90m━━━━━━━━━━━━━━━━━━━━━━━━━━━━━━━━━━━━━━━━\u001b[0m \u001b[32m7.9/7.9 MB\u001b[0m \u001b[31m1.0 MB/s\u001b[0m eta \u001b[36m0:00:00\u001b[0m00:01\u001b[0m00:01\u001b[0m0m\n",
      "\u001b[?25hRequirement already satisfied: psutil in /Users/catherineyeh/miniconda3/lib/python3.9/site-packages (from accelerate) (5.9.4)\n",
      "Requirement already satisfied: pyyaml in /Users/catherineyeh/miniconda3/lib/python3.9/site-packages (from accelerate) (6.0)\n",
      "Requirement already satisfied: torch>=1.10.0 in /Users/catherineyeh/miniconda3/lib/python3.9/site-packages (from accelerate) (1.12.1)\n",
      "Requirement already satisfied: numpy>=1.17 in /Users/catherineyeh/miniconda3/lib/python3.9/site-packages (from accelerate) (1.24.2)\n",
      "Requirement already satisfied: packaging>=20.0 in /Users/catherineyeh/miniconda3/lib/python3.9/site-packages (from accelerate) (23.0)\n",
      "Collecting huggingface-hub\n",
      "  Downloading huggingface_hub-0.19.0-py3-none-any.whl (311 kB)\n",
      "\u001b[2K     \u001b[90m━━━━━━━━━━━━━━━━━━━━━━━━━━━━━━━━━━━━━━━\u001b[0m \u001b[32m311.2/311.2 kB\u001b[0m \u001b[31m1.6 MB/s\u001b[0m eta \u001b[36m0:00:00\u001b[0ma \u001b[36m0:00:01\u001b[0m\n",
      "\u001b[?25hRequirement already satisfied: filelock in /Users/catherineyeh/miniconda3/lib/python3.9/site-packages (from transformers) (3.12.4)\n",
      "Collecting regex!=2019.12.17\n",
      "  Downloading regex-2023.10.3-cp39-cp39-macosx_11_0_arm64.whl (291 kB)\n",
      "\u001b[2K     \u001b[90m━━━━━━━━━━━━━━━━━━━━━━━━━━━━━━━━━━━━━━━\u001b[0m \u001b[32m291.0/291.0 kB\u001b[0m \u001b[31m1.6 MB/s\u001b[0m eta \u001b[36m0:00:00\u001b[0ma \u001b[36m0:00:01\u001b[0m\n",
      "\u001b[?25hRequirement already satisfied: requests in /Users/catherineyeh/miniconda3/lib/python3.9/site-packages (from transformers) (2.28.2)\n",
      "Requirement already satisfied: tqdm>=4.27 in /Users/catherineyeh/miniconda3/lib/python3.9/site-packages (from transformers) (4.64.1)\n",
      "Collecting tokenizers<0.15,>=0.14\n",
      "  Downloading tokenizers-0.14.1-cp39-cp39-macosx_11_0_arm64.whl (2.5 MB)\n",
      "\u001b[2K     \u001b[90m━━━━━━━━━━━━━━━━━━━━━━━━━━━━━━━━━━━━━━━━\u001b[0m \u001b[32m2.5/2.5 MB\u001b[0m \u001b[31m1.1 MB/s\u001b[0m eta \u001b[36m0:00:00\u001b[0m00:01\u001b[0m00:01\u001b[0m\n",
      "\u001b[?25hCollecting safetensors>=0.3.1\n",
      "  Downloading safetensors-0.4.0-cp39-cp39-macosx_11_0_arm64.whl (425 kB)\n",
      "\u001b[2K     \u001b[90m━━━━━━━━━━━━━━━━━━━━━━━━━━━━━━━━━━━━━━━\u001b[0m \u001b[32m425.9/425.9 kB\u001b[0m \u001b[31m1.4 MB/s\u001b[0m eta \u001b[36m0:00:00\u001b[0m00:01\u001b[0m00:01\u001b[0m\n",
      "\u001b[?25hCollecting fsspec>=2023.5.0\n",
      "  Downloading fsspec-2023.10.0-py3-none-any.whl (166 kB)\n",
      "\u001b[2K     \u001b[90m━━━━━━━━━━━━━━━━━━━━━━━━━━━━━━━━━━━━━━━\u001b[0m \u001b[32m166.4/166.4 kB\u001b[0m \u001b[31m1.0 MB/s\u001b[0m eta \u001b[36m0:00:00\u001b[0ma \u001b[36m0:00:01\u001b[0m\n",
      "\u001b[?25hRequirement already satisfied: typing-extensions>=3.7.4.3 in /Users/catherineyeh/miniconda3/lib/python3.9/site-packages (from huggingface-hub->accelerate) (4.3.0)\n",
      "Collecting huggingface-hub\n",
      "  Downloading huggingface_hub-0.17.3-py3-none-any.whl (295 kB)\n",
      "\u001b[2K     \u001b[90m━━━━━━━━━━━━━━━━━━━━━━━━━━━━━━━━━━━━━━━\u001b[0m \u001b[32m295.0/295.0 kB\u001b[0m \u001b[31m1.0 MB/s\u001b[0m eta \u001b[36m0:00:00\u001b[0ma \u001b[36m0:00:01\u001b[0m\n",
      "\u001b[?25hRequirement already satisfied: idna<4,>=2.5 in /Users/catherineyeh/miniconda3/lib/python3.9/site-packages (from requests->transformers) (3.4)\n",
      "Requirement already satisfied: charset-normalizer<4,>=2 in /Users/catherineyeh/miniconda3/lib/python3.9/site-packages (from requests->transformers) (3.0.1)\n",
      "Requirement already satisfied: certifi>=2017.4.17 in /Users/catherineyeh/miniconda3/lib/python3.9/site-packages (from requests->transformers) (2023.7.22)\n",
      "Requirement already satisfied: urllib3<1.27,>=1.21.1 in /Users/catherineyeh/miniconda3/lib/python3.9/site-packages (from requests->transformers) (1.26.14)\n",
      "Installing collected packages: safetensors, regex, fsspec, huggingface-hub, tokenizers, accelerate, transformers\n",
      "Successfully installed accelerate-0.24.1 fsspec-2023.10.0 huggingface-hub-0.17.3 regex-2023.10.3 safetensors-0.4.0 tokenizers-0.14.1 transformers-4.35.0\n"
     ]
    }
   ],
   "source": [
    "!pip install --upgrade accelerate transformers"
   ]
  },
  {
   "cell_type": "code",
   "execution_count": 1,
   "metadata": {},
   "outputs": [
    {
     "name": "stderr",
     "output_type": "stream",
     "text": [
      "Some weights of the model checkpoint at distilbert-base-uncased were not used when initializing DistilBertModel: ['vocab_layer_norm.weight', 'vocab_projector.weight', 'vocab_transform.bias', 'vocab_layer_norm.bias', 'vocab_projector.bias', 'vocab_transform.weight']\n",
      "- This IS expected if you are initializing DistilBertModel from the checkpoint of a model trained on another task or with another architecture (e.g. initializing a BertForSequenceClassification model from a BertForPreTraining model).\n",
      "- This IS NOT expected if you are initializing DistilBertModel from the checkpoint of a model that you expect to be exactly identical (initializing a BertForSequenceClassification model from a BertForSequenceClassification model).\n"
     ]
    }
   ],
   "source": [
    "from transformers import AutoTokenizer, DistilBertModel\n",
    "import torch\n",
    "\n",
    "# https://huggingface.co/distilbert-base-uncased\n",
    "# https://huggingface.co/docs/transformers/v4.35.0/en/model_doc/distilbert\n",
    "tokenizer = AutoTokenizer.from_pretrained(\"distilbert-base-uncased\")\n",
    "model = DistilBertModel.from_pretrained(\"distilbert-base-uncased\")"
   ]
  },
  {
   "cell_type": "code",
   "execution_count": 2,
   "metadata": {},
   "outputs": [
    {
     "name": "stdout",
     "output_type": "stream",
     "text": [
      "['person', 'bicycle', 'car', 'motorcycle', 'airplane', 'bus', 'train', 'truck', 'boat', 'traffic light', 'fire hydrant', 'stop sign', 'parking meter', 'bench', 'bird', 'cat', 'dog', 'horse', 'sheep', 'cow', 'elephant', 'bear', 'zebra', 'giraffe', 'backpack', 'umbrella', 'handbag', 'tie', 'suitcase', 'frisbee', 'skis', 'snowboard', 'sports ball', 'kite', 'baseball bat', 'baseball glove', 'skateboard', 'surfboard', 'tennis racket', 'bottle', 'wine glass', 'cup', 'fork', 'knife', 'spoon', 'bowl', 'banana', 'apple', 'sandwich', 'orange', 'broccoli', 'carrot', 'hot dog', 'pizza', 'donut', 'cake', 'chair', 'couch', 'potted plant', 'bed', 'dining table', 'toilet', 'tv', 'laptop', 'mouse', 'remote', 'keyboard', 'cell phone', 'microwave', 'oven', 'toaster', 'sink', 'refrigerator', 'book', 'clock', 'vase', 'scissors', 'teddy bear', 'hair drier', 'toothbrush']\n",
      "80\n"
     ]
    }
   ],
   "source": [
    "# load in coco classes from 'coco-classes.json'\n",
    "import json\n",
    "with open('coco-classes.json') as f:\n",
    "  coco_classes = json.load(f)\n",
    "print(coco_classes)\n",
    "print(len(coco_classes))"
   ]
  },
  {
   "cell_type": "markdown",
   "metadata": {},
   "source": [
    "### Tokenizer + BERT"
   ]
  },
  {
   "cell_type": "code",
   "execution_count": 3,
   "metadata": {},
   "outputs": [],
   "source": [
    "# get embedding for each class\n",
    "# ❗️ note: I am only getting the embedding for the first token in each class\n",
    "# ❓ question: are we interested in the final contextual embedding for each class? currently, we're looking at the final hidden state.\n",
    "embeddings = []\n",
    "for i in range(len(coco_classes)):\n",
    "    input_ids = torch.tensor(tokenizer.encode(coco_classes[i])).unsqueeze(0)\n",
    "    outputs = model(input_ids)\n",
    "    last_hidden_states = outputs[0]\n",
    "    # skip the first token, which is the [CLS] token\n",
    "    embeddings.append(last_hidden_states[0][1].tolist())"
   ]
  },
  {
   "cell_type": "code",
   "execution_count": 4,
   "metadata": {},
   "outputs": [
    {
     "name": "stdout",
     "output_type": "stream",
     "text": [
      "80\n"
     ]
    }
   ],
   "source": [
    "print(len(embeddings))"
   ]
  },
  {
   "cell_type": "code",
   "execution_count": 5,
   "metadata": {},
   "outputs": [],
   "source": [
    "import numpy as np\n",
    "# round each val in embedding to 3 decimal places\n",
    "embeddings = [list(np.around(np.array(e),3)) for e in embeddings]"
   ]
  },
  {
   "cell_type": "markdown",
   "metadata": {},
   "source": [
    "#### table of embeddings"
   ]
  },
  {
   "cell_type": "code",
   "execution_count": 6,
   "metadata": {},
   "outputs": [],
   "source": [
    "# create string of all classes and their embeddings & save to text file\n",
    "# ❗️ note: only taking first 10 axes for now due to context window length\n",
    "with open(\"output.txt\", \"w\") as text_file:\n",
    "    for i in range(len(coco_classes)):\n",
    "        class_str = f\"{coco_classes[i]}: {embeddings[i][:10]}\\n\"\n",
    "        text_file.write(class_str)"
   ]
  },
  {
   "cell_type": "markdown",
   "metadata": {},
   "source": [
    "## visualization"
   ]
  },
  {
   "cell_type": "code",
   "execution_count": 9,
   "metadata": {},
   "outputs": [],
   "source": [
    "import plotly.express as px\n",
    "from sklearn.decomposition import PCA\n",
    "import pandas as pd"
   ]
  },
  {
   "cell_type": "code",
   "execution_count": 74,
   "metadata": {},
   "outputs": [],
   "source": [
    "# categories from ChatGPT-4\n",
    "# 1 = transportation/traffic\n",
    "# 2 = animals/living beings\n",
    "# 3 - household items/personal belongings\n",
    "categories = [2, 1, 1, 1, 1, 1, 1, 1, 1, 1, 1, 1, 1, 3, 2, 2, 2, 2, 2, 2, 2, 2, 2, 2, 3, 3, 3, 3, 3, 3, 3, 3, 3, 3, 3, 3, 3, 3, 3, 3, 3, 3, 3, 3, 3, 3, 3, 3, 3, 3, 3, 3, 3, 3, 3, 3, 3, 3, 3, 3, 3, 3, 3, 3, 3, 3, 3, 3, 3, 3, 3, 3, 3, 3, 3, 3, 3, 3, 3, 3]\n",
    "cat_dict = {1: 'transport', 2: 'living', 3: 'household'}"
   ]
  },
  {
   "cell_type": "markdown",
   "metadata": {},
   "source": [
    "#### PCA on original embeddings"
   ]
  },
  {
   "cell_type": "code",
   "execution_count": 112,
   "metadata": {},
   "outputs": [
    {
     "name": "stdout",
     "output_type": "stream",
     "text": [
      "(80, 768)\n"
     ]
    },
    {
     "data": {
      "text/html": [
       "<div>\n",
       "<style scoped>\n",
       "    .dataframe tbody tr th:only-of-type {\n",
       "        vertical-align: middle;\n",
       "    }\n",
       "\n",
       "    .dataframe tbody tr th {\n",
       "        vertical-align: top;\n",
       "    }\n",
       "\n",
       "    .dataframe thead th {\n",
       "        text-align: right;\n",
       "    }\n",
       "</style>\n",
       "<table border=\"1\" class=\"dataframe\">\n",
       "  <thead>\n",
       "    <tr style=\"text-align: right;\">\n",
       "      <th></th>\n",
       "      <th>0</th>\n",
       "      <th>1</th>\n",
       "      <th>2</th>\n",
       "      <th>3</th>\n",
       "      <th>4</th>\n",
       "      <th>5</th>\n",
       "      <th>6</th>\n",
       "      <th>7</th>\n",
       "      <th>8</th>\n",
       "      <th>9</th>\n",
       "      <th>...</th>\n",
       "      <th>758</th>\n",
       "      <th>759</th>\n",
       "      <th>760</th>\n",
       "      <th>761</th>\n",
       "      <th>762</th>\n",
       "      <th>763</th>\n",
       "      <th>764</th>\n",
       "      <th>765</th>\n",
       "      <th>766</th>\n",
       "      <th>767</th>\n",
       "    </tr>\n",
       "  </thead>\n",
       "  <tbody>\n",
       "    <tr>\n",
       "      <th>0</th>\n",
       "      <td>-0.375</td>\n",
       "      <td>-0.251</td>\n",
       "      <td>-0.046</td>\n",
       "      <td>-0.120</td>\n",
       "      <td>-0.020</td>\n",
       "      <td>0.713</td>\n",
       "      <td>-0.144</td>\n",
       "      <td>0.427</td>\n",
       "      <td>-0.022</td>\n",
       "      <td>-0.458</td>\n",
       "      <td>...</td>\n",
       "      <td>0.678</td>\n",
       "      <td>-0.576</td>\n",
       "      <td>0.600</td>\n",
       "      <td>-0.078</td>\n",
       "      <td>-0.002</td>\n",
       "      <td>-0.154</td>\n",
       "      <td>0.148</td>\n",
       "      <td>0.055</td>\n",
       "      <td>0.459</td>\n",
       "      <td>-0.115</td>\n",
       "    </tr>\n",
       "    <tr>\n",
       "      <th>1</th>\n",
       "      <td>0.998</td>\n",
       "      <td>0.142</td>\n",
       "      <td>-0.379</td>\n",
       "      <td>-0.093</td>\n",
       "      <td>0.538</td>\n",
       "      <td>0.109</td>\n",
       "      <td>-0.232</td>\n",
       "      <td>0.187</td>\n",
       "      <td>-0.462</td>\n",
       "      <td>-0.299</td>\n",
       "      <td>...</td>\n",
       "      <td>0.184</td>\n",
       "      <td>-0.021</td>\n",
       "      <td>0.064</td>\n",
       "      <td>-0.084</td>\n",
       "      <td>0.654</td>\n",
       "      <td>-0.150</td>\n",
       "      <td>-0.194</td>\n",
       "      <td>0.013</td>\n",
       "      <td>0.042</td>\n",
       "      <td>-0.664</td>\n",
       "    </tr>\n",
       "    <tr>\n",
       "      <th>2</th>\n",
       "      <td>0.378</td>\n",
       "      <td>-0.014</td>\n",
       "      <td>-0.001</td>\n",
       "      <td>-0.091</td>\n",
       "      <td>0.484</td>\n",
       "      <td>0.287</td>\n",
       "      <td>-0.126</td>\n",
       "      <td>0.121</td>\n",
       "      <td>0.297</td>\n",
       "      <td>-0.319</td>\n",
       "      <td>...</td>\n",
       "      <td>0.229</td>\n",
       "      <td>-0.367</td>\n",
       "      <td>0.220</td>\n",
       "      <td>-0.126</td>\n",
       "      <td>0.479</td>\n",
       "      <td>-0.342</td>\n",
       "      <td>-0.312</td>\n",
       "      <td>-0.393</td>\n",
       "      <td>0.188</td>\n",
       "      <td>-0.158</td>\n",
       "    </tr>\n",
       "    <tr>\n",
       "      <th>3</th>\n",
       "      <td>0.970</td>\n",
       "      <td>0.256</td>\n",
       "      <td>-0.249</td>\n",
       "      <td>-0.156</td>\n",
       "      <td>0.342</td>\n",
       "      <td>-0.322</td>\n",
       "      <td>-0.142</td>\n",
       "      <td>-0.129</td>\n",
       "      <td>-0.132</td>\n",
       "      <td>-0.227</td>\n",
       "      <td>...</td>\n",
       "      <td>0.381</td>\n",
       "      <td>0.035</td>\n",
       "      <td>0.134</td>\n",
       "      <td>-0.324</td>\n",
       "      <td>0.404</td>\n",
       "      <td>-0.324</td>\n",
       "      <td>-0.041</td>\n",
       "      <td>-0.021</td>\n",
       "      <td>0.081</td>\n",
       "      <td>-0.858</td>\n",
       "    </tr>\n",
       "    <tr>\n",
       "      <th>4</th>\n",
       "      <td>0.187</td>\n",
       "      <td>0.095</td>\n",
       "      <td>-0.452</td>\n",
       "      <td>0.072</td>\n",
       "      <td>0.378</td>\n",
       "      <td>-0.166</td>\n",
       "      <td>-0.381</td>\n",
       "      <td>0.118</td>\n",
       "      <td>0.108</td>\n",
       "      <td>-0.644</td>\n",
       "      <td>...</td>\n",
       "      <td>0.415</td>\n",
       "      <td>0.053</td>\n",
       "      <td>0.227</td>\n",
       "      <td>-0.219</td>\n",
       "      <td>0.252</td>\n",
       "      <td>0.098</td>\n",
       "      <td>0.132</td>\n",
       "      <td>0.044</td>\n",
       "      <td>0.553</td>\n",
       "      <td>-0.133</td>\n",
       "    </tr>\n",
       "  </tbody>\n",
       "</table>\n",
       "<p>5 rows × 768 columns</p>\n",
       "</div>"
      ],
      "text/plain": [
       "     0      1      2      3      4      5      6      7      8      9    ...  \\\n",
       "0 -0.375 -0.251 -0.046 -0.120 -0.020  0.713 -0.144  0.427 -0.022 -0.458  ...   \n",
       "1  0.998  0.142 -0.379 -0.093  0.538  0.109 -0.232  0.187 -0.462 -0.299  ...   \n",
       "2  0.378 -0.014 -0.001 -0.091  0.484  0.287 -0.126  0.121  0.297 -0.319  ...   \n",
       "3  0.970  0.256 -0.249 -0.156  0.342 -0.322 -0.142 -0.129 -0.132 -0.227  ...   \n",
       "4  0.187  0.095 -0.452  0.072  0.378 -0.166 -0.381  0.118  0.108 -0.644  ...   \n",
       "\n",
       "     758    759    760    761    762    763    764    765    766    767  \n",
       "0  0.678 -0.576  0.600 -0.078 -0.002 -0.154  0.148  0.055  0.459 -0.115  \n",
       "1  0.184 -0.021  0.064 -0.084  0.654 -0.150 -0.194  0.013  0.042 -0.664  \n",
       "2  0.229 -0.367  0.220 -0.126  0.479 -0.342 -0.312 -0.393  0.188 -0.158  \n",
       "3  0.381  0.035  0.134 -0.324  0.404 -0.324 -0.041 -0.021  0.081 -0.858  \n",
       "4  0.415  0.053  0.227 -0.219  0.252  0.098  0.132  0.044  0.553 -0.133  \n",
       "\n",
       "[5 rows x 768 columns]"
      ]
     },
     "execution_count": 112,
     "metadata": {},
     "output_type": "execute_result"
    }
   ],
   "source": [
    "# convert embedding list to dataframe\n",
    "# Convert to DataFrame\n",
    "df = pd.DataFrame(embeddings)\n",
    "\n",
    "print(df.shape)\n",
    "df.head()  # Display the first 5 rows to check the structure"
   ]
  },
  {
   "cell_type": "code",
   "execution_count": 113,
   "metadata": {},
   "outputs": [],
   "source": [
    "# perform PCA\n",
    "pca = PCA(n_components=3)\n",
    "components = pca.fit_transform(df)\n",
    "\n",
    "total_var = pca.explained_variance_ratio_.sum() * 100"
   ]
  },
  {
   "cell_type": "code",
   "execution_count": 114,
   "metadata": {},
   "outputs": [
    {
     "data": {
      "text/html": [
       "<div>\n",
       "<style scoped>\n",
       "    .dataframe tbody tr th:only-of-type {\n",
       "        vertical-align: middle;\n",
       "    }\n",
       "\n",
       "    .dataframe tbody tr th {\n",
       "        vertical-align: top;\n",
       "    }\n",
       "\n",
       "    .dataframe thead th {\n",
       "        text-align: right;\n",
       "    }\n",
       "</style>\n",
       "<table border=\"1\" class=\"dataframe\">\n",
       "  <thead>\n",
       "    <tr style=\"text-align: right;\">\n",
       "      <th></th>\n",
       "      <th>word</th>\n",
       "      <th>category</th>\n",
       "      <th>0</th>\n",
       "      <th>1</th>\n",
       "      <th>2</th>\n",
       "    </tr>\n",
       "  </thead>\n",
       "  <tbody>\n",
       "    <tr>\n",
       "      <th>0</th>\n",
       "      <td>person</td>\n",
       "      <td>living</td>\n",
       "      <td>-0.536402</td>\n",
       "      <td>2.395109</td>\n",
       "      <td>0.348883</td>\n",
       "    </tr>\n",
       "    <tr>\n",
       "      <th>1</th>\n",
       "      <td>bicycle</td>\n",
       "      <td>transport</td>\n",
       "      <td>0.319043</td>\n",
       "      <td>1.262819</td>\n",
       "      <td>2.123303</td>\n",
       "    </tr>\n",
       "    <tr>\n",
       "      <th>2</th>\n",
       "      <td>car</td>\n",
       "      <td>transport</td>\n",
       "      <td>0.736521</td>\n",
       "      <td>2.077732</td>\n",
       "      <td>0.465381</td>\n",
       "    </tr>\n",
       "    <tr>\n",
       "      <th>3</th>\n",
       "      <td>motorcycle</td>\n",
       "      <td>transport</td>\n",
       "      <td>-0.568163</td>\n",
       "      <td>0.564398</td>\n",
       "      <td>1.689769</td>\n",
       "    </tr>\n",
       "    <tr>\n",
       "      <th>4</th>\n",
       "      <td>airplane</td>\n",
       "      <td>transport</td>\n",
       "      <td>-2.447619</td>\n",
       "      <td>0.312609</td>\n",
       "      <td>0.960944</td>\n",
       "    </tr>\n",
       "  </tbody>\n",
       "</table>\n",
       "</div>"
      ],
      "text/plain": [
       "         word   category         0         1         2\n",
       "0      person     living -0.536402  2.395109  0.348883\n",
       "1     bicycle  transport  0.319043  1.262819  2.123303\n",
       "2         car  transport  0.736521  2.077732  0.465381\n",
       "3  motorcycle  transport -0.568163  0.564398  1.689769\n",
       "4    airplane  transport -2.447619  0.312609  0.960944"
      ]
     },
     "execution_count": 114,
     "metadata": {},
     "output_type": "execute_result"
    }
   ],
   "source": [
    "# new data frame with PCA result + word + category info\n",
    "new_df = pd.DataFrame(components)\n",
    "new_df.columns = new_df.columns.astype(str)\n",
    "new_df.insert(0, 'word', coco_classes)\n",
    "new_df.insert(1, 'category', [cat_dict[c] for c in categories])\n",
    "new_df.head()"
   ]
  },
  {
   "cell_type": "code",
   "execution_count": 124,
   "metadata": {},
   "outputs": [
    {
     "data": {
      "application/vnd.plotly.v1+json": {
       "config": {
        "plotlyServerURL": "https://plot.ly"
       },
       "data": [
        {
         "customdata": [
          [
           "person",
           "living"
          ],
          [
           "bird",
           "living"
          ],
          [
           "cat",
           "living"
          ],
          [
           "dog",
           "living"
          ],
          [
           "horse",
           "living"
          ],
          [
           "sheep",
           "living"
          ],
          [
           "cow",
           "living"
          ],
          [
           "elephant",
           "living"
          ],
          [
           "bear",
           "living"
          ],
          [
           "zebra",
           "living"
          ],
          [
           "giraffe",
           "living"
          ]
         ],
         "hovertemplate": "word=%{customdata[0]}<extra></extra>",
         "legendgroup": "living",
         "marker": {
          "color": "#636efa",
          "symbol": "circle"
         },
         "mode": "markers",
         "name": "living",
         "scene": "scene",
         "showlegend": true,
         "type": "scatter3d",
         "x": [
          -0.5364021169526455,
          -1.1016848795578258,
          -0.7900201196802806,
          -0.04944648891465686,
          -0.935956162710559,
          -1.4481950377274337,
          -3.485129793552448,
          -1.8167140454579376,
          -1.5071828688527875,
          -3.775660085414245,
          3.588057586406544
         ],
         "y": [
          2.3951089760692,
          2.0953221619318345,
          2.9572061030192214,
          2.514840934658269,
          1.6009794942687676,
          0.7327263011500966,
          0.4279434411399674,
          0.6014533276012545,
          1.9595630372062784,
          -0.7379945138860602,
          0.5186903855670509
         ],
         "z": [
          0.3488832818143377,
          0.46566001897888093,
          0.35902850990355395,
          0.8839785774463713,
          1.0370919035192496,
          0.026006995985766678,
          -0.3648831420702102,
          0.18086976250055473,
          0.23363774182225192,
          -0.7635392903783238,
          0.018630487325464094
         ]
        },
        {
         "customdata": [
          [
           "bicycle",
           "transport"
          ],
          [
           "car",
           "transport"
          ],
          [
           "motorcycle",
           "transport"
          ],
          [
           "airplane",
           "transport"
          ],
          [
           "bus",
           "transport"
          ],
          [
           "train",
           "transport"
          ],
          [
           "truck",
           "transport"
          ],
          [
           "boat",
           "transport"
          ],
          [
           "traffic light",
           "transport"
          ],
          [
           "fire hydrant",
           "transport"
          ],
          [
           "stop sign",
           "transport"
          ],
          [
           "parking meter",
           "transport"
          ]
         ],
         "hovertemplate": "word=%{customdata[0]}<extra></extra>",
         "legendgroup": "transport",
         "marker": {
          "color": "#EF553B",
          "symbol": "circle"
         },
         "mode": "markers",
         "name": "transport",
         "scene": "scene",
         "showlegend": true,
         "type": "scatter3d",
         "x": [
          0.319043307925983,
          0.7365210147041399,
          -0.568162579297009,
          -2.447618553507407,
          0.6476696381399897,
          2.1726296055617738,
          -0.43819340547366287,
          1.0118085411856894,
          3.720001706292723,
          2.845579957717483,
          5.255340239049774,
          3.333782084212559
         ],
         "y": [
          1.2628185730945598,
          2.077731716849928,
          0.5643977016723021,
          0.3126087281622411,
          3.558283763644291,
          4.771952633545706,
          1.7741223502726668,
          2.133000821607072,
          0.45806999053165315,
          -1.7187746935483577,
          3.457333271708443,
          1.17937816518261
         ],
         "z": [
          2.1233029822755616,
          0.4653814482100149,
          1.689768790881867,
          0.960944327172196,
          0.8504673989421361,
          0.4833172593459164,
          0.6703647503371373,
          1.992550930545589,
          -1.1125325151407115,
          -2.4992161468556278,
          -1.9404233191238358,
          -1.402219665559413
         ]
        },
        {
         "customdata": [
          [
           "bench",
           "household"
          ],
          [
           "backpack",
           "household"
          ],
          [
           "umbrella",
           "household"
          ],
          [
           "handbag",
           "household"
          ],
          [
           "tie",
           "household"
          ],
          [
           "suitcase",
           "household"
          ],
          [
           "frisbee",
           "household"
          ],
          [
           "skis",
           "household"
          ],
          [
           "snowboard",
           "household"
          ],
          [
           "sports ball",
           "household"
          ],
          [
           "kite",
           "household"
          ],
          [
           "baseball bat",
           "household"
          ],
          [
           "baseball glove",
           "household"
          ],
          [
           "skateboard",
           "household"
          ],
          [
           "surfboard",
           "household"
          ],
          [
           "tennis racket",
           "household"
          ],
          [
           "bottle",
           "household"
          ],
          [
           "wine glass",
           "household"
          ],
          [
           "cup",
           "household"
          ],
          [
           "fork",
           "household"
          ],
          [
           "knife",
           "household"
          ],
          [
           "spoon",
           "household"
          ],
          [
           "bowl",
           "household"
          ],
          [
           "banana",
           "household"
          ],
          [
           "apple",
           "household"
          ],
          [
           "sandwich",
           "household"
          ],
          [
           "orange",
           "household"
          ],
          [
           "broccoli",
           "household"
          ],
          [
           "carrot",
           "household"
          ],
          [
           "hot dog",
           "household"
          ],
          [
           "pizza",
           "household"
          ],
          [
           "donut",
           "household"
          ],
          [
           "cake",
           "household"
          ],
          [
           "chair",
           "household"
          ],
          [
           "couch",
           "household"
          ],
          [
           "potted plant",
           "household"
          ],
          [
           "bed",
           "household"
          ],
          [
           "dining table",
           "household"
          ],
          [
           "toilet",
           "household"
          ],
          [
           "tv",
           "household"
          ],
          [
           "laptop",
           "household"
          ],
          [
           "mouse",
           "household"
          ],
          [
           "remote",
           "household"
          ],
          [
           "keyboard",
           "household"
          ],
          [
           "cell phone",
           "household"
          ],
          [
           "microwave",
           "household"
          ],
          [
           "oven",
           "household"
          ],
          [
           "toaster",
           "household"
          ],
          [
           "sink",
           "household"
          ],
          [
           "refrigerator",
           "household"
          ],
          [
           "book",
           "household"
          ],
          [
           "clock",
           "household"
          ],
          [
           "vase",
           "household"
          ],
          [
           "scissors",
           "household"
          ],
          [
           "teddy bear",
           "household"
          ],
          [
           "hair drier",
           "household"
          ],
          [
           "toothbrush",
           "household"
          ]
         ],
         "hovertemplate": "word=%{customdata[0]}<extra></extra>",
         "legendgroup": "household",
         "marker": {
          "color": "#00cc96",
          "symbol": "circle"
         },
         "mode": "markers",
         "name": "household",
         "scene": "scene",
         "showlegend": true,
         "type": "scatter3d",
         "x": [
          -3.4729097093113044,
          -2.5344952479585166,
          -3.2962566987013933,
          4.092751079212889,
          0.018870206710130333,
          -3.7477082091564777,
          3.7926763106170736,
          2.618490049837571,
          4.245594952925566,
          2.3479881301228027,
          -2.0674645959238815,
          3.414086455428035,
          2.711334569212505,
          4.3954187271782965,
          4.411607162138671,
          2.2179308101224904,
          -2.816891698278906,
          1.813059518459766,
          2.5423137344041735,
          -2.0744600509435087,
          -1.078277248851086,
          -4.435757107565373,
          -0.834865908780271,
          -2.5729625244625725,
          -1.0303527461540156,
          -3.4099531975577198,
          -1.8168771855785935,
          3.1964928795072836,
          -3.5625921020150795,
          4.589251782593046,
          -1.345385683897659,
          2.6426654204448328,
          -1.6872014077346322,
          -0.3053459362778379,
          -2.2990119676299234,
          3.9068873173969725,
          -1.2969705351012448,
          2.6570356151075463,
          -2.5202803093120836,
          1.353568005637809,
          -1.7200030252373388,
          -1.412001808043962,
          -2.2374333301952336,
          -0.8864481833271795,
          5.12007727820053,
          -4.510173377368028,
          -4.230675103414821,
          1.7095192949563995,
          -2.895442378921989,
          -3.7604366354997487,
          0.6060506682600998,
          -1.67776785660972,
          -3.094689807430622,
          -3.5906621074287712,
          3.4277130629159007,
          2.631553000124482,
          3.0287501090568627
         ],
         "y": [
          -0.513494470078065,
          -1.125052725181306,
          -1.6305768099863664,
          -0.7202840820447305,
          1.7654695034122576,
          -1.6406825932233873,
          -0.20659048006919628,
          -1.5788414636342214,
          -3.7728428378150847,
          -2.6250583288748257,
          -0.20361319437363748,
          -1.483833219512785,
          -2.426526450803236,
          -1.8696939329614815,
          -3.234690784771436,
          -3.511345241049142,
          -0.3839639326983127,
          -2.132050778056998,
          3.3936654781613576,
          0.18268687924318616,
          0.5313918099894416,
          -1.4570768196018267,
          0.977706217013219,
          -0.7622126209487607,
          1.037067125838129,
          -1.17335985916763,
          1.2936045261400497,
          -1.084580716411866,
          -0.9868935613391728,
          -1.3694938670842953,
          -0.009307894486094629,
          -0.42976501616944474,
          -0.5566244245300355,
          2.424672219470559,
          -0.18742765503184491,
          -0.17983713151402508,
          0.3608020263386627,
          -2.016363492091533,
          -1.025656819058455,
          3.0144239154577153,
          -0.6435697656572559,
          2.394809992401899,
          0.14088365671360892,
          0.6848909116853565,
          1.805282790652959,
          -1.7549510168205942,
          -2.205014591240989,
          -2.228712296782891,
          -0.961459398406051,
          -2.0639936408896307,
          1.9035190996815041,
          0.3288243347976077,
          -0.7213796884435457,
          -1.658818768166003,
          -1.4370432655481662,
          -0.6205148198705744,
          -2.5432647040516216
         ],
         "z": [
          -0.09392618242510307,
          0.09065656562899879,
          0.1259559647479027,
          -1.4362732030066159,
          -0.6860734285225688,
          -0.3284805475427602,
          -2.700215943284076,
          3.889324454275997,
          4.364276392669684,
          1.3931931265339181,
          1.1159939243938517,
          1.2702418504250843,
          0.9070358601198213,
          4.47523895567263,
          3.7588624631989216,
          1.3916478481784236,
          -0.13311007158684532,
          -0.9331729040673145,
          0.3907577936872768,
          -0.5650814981399842,
          0.7306434974314586,
          -0.4674191418165538,
          0.12455293729083064,
          -0.19795962676502385,
          0.01674202795625468,
          -0.7867868831030533,
          -1.3861022835272594,
          -3.466643910143196,
          -0.8808678526400462,
          -2.9148239815425483,
          0.09674533374110819,
          -2.482346595405823,
          0.28204960633645537,
          0.8821582850350298,
          0.08142661431557678,
          -2.740746459333989,
          -0.12124718447990307,
          -2.2724284247313493,
          -0.19976922102479105,
          1.0233567352141826,
          0.6640891482262308,
          0.5760493750744358,
          0.180943206715657,
          0.7262774488657694,
          -1.0826161322490242,
          -0.9199432338007791,
          -1.6429881417411387,
          -1.889575223033199,
          -0.4064302794809071,
          -0.6611965505841354,
          0.02324429845928496,
          -0.16539227725802585,
          -0.3011291609013296,
          0.220429637876456,
          0.10453678361345932,
          -1.1050995328915458,
          -0.6456553485345312
         ]
        }
       ],
       "layout": {
        "legend": {
         "title": {
          "text": "category"
         },
         "tracegroupgap": 0
        },
        "scene": {
         "domain": {
          "x": [
           0,
           1
          ],
          "y": [
           0,
           1
          ]
         },
         "xaxis": {
          "title": {
           "text": "0"
          }
         },
         "yaxis": {
          "title": {
           "text": "1"
          }
         },
         "zaxis": {
          "title": {
           "text": "2"
          }
         }
        },
        "template": {
         "data": {
          "bar": [
           {
            "error_x": {
             "color": "#2a3f5f"
            },
            "error_y": {
             "color": "#2a3f5f"
            },
            "marker": {
             "line": {
              "color": "#E5ECF6",
              "width": 0.5
             },
             "pattern": {
              "fillmode": "overlay",
              "size": 10,
              "solidity": 0.2
             }
            },
            "type": "bar"
           }
          ],
          "barpolar": [
           {
            "marker": {
             "line": {
              "color": "#E5ECF6",
              "width": 0.5
             },
             "pattern": {
              "fillmode": "overlay",
              "size": 10,
              "solidity": 0.2
             }
            },
            "type": "barpolar"
           }
          ],
          "carpet": [
           {
            "aaxis": {
             "endlinecolor": "#2a3f5f",
             "gridcolor": "white",
             "linecolor": "white",
             "minorgridcolor": "white",
             "startlinecolor": "#2a3f5f"
            },
            "baxis": {
             "endlinecolor": "#2a3f5f",
             "gridcolor": "white",
             "linecolor": "white",
             "minorgridcolor": "white",
             "startlinecolor": "#2a3f5f"
            },
            "type": "carpet"
           }
          ],
          "choropleth": [
           {
            "colorbar": {
             "outlinewidth": 0,
             "ticks": ""
            },
            "type": "choropleth"
           }
          ],
          "contour": [
           {
            "colorbar": {
             "outlinewidth": 0,
             "ticks": ""
            },
            "colorscale": [
             [
              0,
              "#0d0887"
             ],
             [
              0.1111111111111111,
              "#46039f"
             ],
             [
              0.2222222222222222,
              "#7201a8"
             ],
             [
              0.3333333333333333,
              "#9c179e"
             ],
             [
              0.4444444444444444,
              "#bd3786"
             ],
             [
              0.5555555555555556,
              "#d8576b"
             ],
             [
              0.6666666666666666,
              "#ed7953"
             ],
             [
              0.7777777777777778,
              "#fb9f3a"
             ],
             [
              0.8888888888888888,
              "#fdca26"
             ],
             [
              1,
              "#f0f921"
             ]
            ],
            "type": "contour"
           }
          ],
          "contourcarpet": [
           {
            "colorbar": {
             "outlinewidth": 0,
             "ticks": ""
            },
            "type": "contourcarpet"
           }
          ],
          "heatmap": [
           {
            "colorbar": {
             "outlinewidth": 0,
             "ticks": ""
            },
            "colorscale": [
             [
              0,
              "#0d0887"
             ],
             [
              0.1111111111111111,
              "#46039f"
             ],
             [
              0.2222222222222222,
              "#7201a8"
             ],
             [
              0.3333333333333333,
              "#9c179e"
             ],
             [
              0.4444444444444444,
              "#bd3786"
             ],
             [
              0.5555555555555556,
              "#d8576b"
             ],
             [
              0.6666666666666666,
              "#ed7953"
             ],
             [
              0.7777777777777778,
              "#fb9f3a"
             ],
             [
              0.8888888888888888,
              "#fdca26"
             ],
             [
              1,
              "#f0f921"
             ]
            ],
            "type": "heatmap"
           }
          ],
          "heatmapgl": [
           {
            "colorbar": {
             "outlinewidth": 0,
             "ticks": ""
            },
            "colorscale": [
             [
              0,
              "#0d0887"
             ],
             [
              0.1111111111111111,
              "#46039f"
             ],
             [
              0.2222222222222222,
              "#7201a8"
             ],
             [
              0.3333333333333333,
              "#9c179e"
             ],
             [
              0.4444444444444444,
              "#bd3786"
             ],
             [
              0.5555555555555556,
              "#d8576b"
             ],
             [
              0.6666666666666666,
              "#ed7953"
             ],
             [
              0.7777777777777778,
              "#fb9f3a"
             ],
             [
              0.8888888888888888,
              "#fdca26"
             ],
             [
              1,
              "#f0f921"
             ]
            ],
            "type": "heatmapgl"
           }
          ],
          "histogram": [
           {
            "marker": {
             "pattern": {
              "fillmode": "overlay",
              "size": 10,
              "solidity": 0.2
             }
            },
            "type": "histogram"
           }
          ],
          "histogram2d": [
           {
            "colorbar": {
             "outlinewidth": 0,
             "ticks": ""
            },
            "colorscale": [
             [
              0,
              "#0d0887"
             ],
             [
              0.1111111111111111,
              "#46039f"
             ],
             [
              0.2222222222222222,
              "#7201a8"
             ],
             [
              0.3333333333333333,
              "#9c179e"
             ],
             [
              0.4444444444444444,
              "#bd3786"
             ],
             [
              0.5555555555555556,
              "#d8576b"
             ],
             [
              0.6666666666666666,
              "#ed7953"
             ],
             [
              0.7777777777777778,
              "#fb9f3a"
             ],
             [
              0.8888888888888888,
              "#fdca26"
             ],
             [
              1,
              "#f0f921"
             ]
            ],
            "type": "histogram2d"
           }
          ],
          "histogram2dcontour": [
           {
            "colorbar": {
             "outlinewidth": 0,
             "ticks": ""
            },
            "colorscale": [
             [
              0,
              "#0d0887"
             ],
             [
              0.1111111111111111,
              "#46039f"
             ],
             [
              0.2222222222222222,
              "#7201a8"
             ],
             [
              0.3333333333333333,
              "#9c179e"
             ],
             [
              0.4444444444444444,
              "#bd3786"
             ],
             [
              0.5555555555555556,
              "#d8576b"
             ],
             [
              0.6666666666666666,
              "#ed7953"
             ],
             [
              0.7777777777777778,
              "#fb9f3a"
             ],
             [
              0.8888888888888888,
              "#fdca26"
             ],
             [
              1,
              "#f0f921"
             ]
            ],
            "type": "histogram2dcontour"
           }
          ],
          "mesh3d": [
           {
            "colorbar": {
             "outlinewidth": 0,
             "ticks": ""
            },
            "type": "mesh3d"
           }
          ],
          "parcoords": [
           {
            "line": {
             "colorbar": {
              "outlinewidth": 0,
              "ticks": ""
             }
            },
            "type": "parcoords"
           }
          ],
          "pie": [
           {
            "automargin": true,
            "type": "pie"
           }
          ],
          "scatter": [
           {
            "fillpattern": {
             "fillmode": "overlay",
             "size": 10,
             "solidity": 0.2
            },
            "type": "scatter"
           }
          ],
          "scatter3d": [
           {
            "line": {
             "colorbar": {
              "outlinewidth": 0,
              "ticks": ""
             }
            },
            "marker": {
             "colorbar": {
              "outlinewidth": 0,
              "ticks": ""
             }
            },
            "type": "scatter3d"
           }
          ],
          "scattercarpet": [
           {
            "marker": {
             "colorbar": {
              "outlinewidth": 0,
              "ticks": ""
             }
            },
            "type": "scattercarpet"
           }
          ],
          "scattergeo": [
           {
            "marker": {
             "colorbar": {
              "outlinewidth": 0,
              "ticks": ""
             }
            },
            "type": "scattergeo"
           }
          ],
          "scattergl": [
           {
            "marker": {
             "colorbar": {
              "outlinewidth": 0,
              "ticks": ""
             }
            },
            "type": "scattergl"
           }
          ],
          "scattermapbox": [
           {
            "marker": {
             "colorbar": {
              "outlinewidth": 0,
              "ticks": ""
             }
            },
            "type": "scattermapbox"
           }
          ],
          "scatterpolar": [
           {
            "marker": {
             "colorbar": {
              "outlinewidth": 0,
              "ticks": ""
             }
            },
            "type": "scatterpolar"
           }
          ],
          "scatterpolargl": [
           {
            "marker": {
             "colorbar": {
              "outlinewidth": 0,
              "ticks": ""
             }
            },
            "type": "scatterpolargl"
           }
          ],
          "scatterternary": [
           {
            "marker": {
             "colorbar": {
              "outlinewidth": 0,
              "ticks": ""
             }
            },
            "type": "scatterternary"
           }
          ],
          "surface": [
           {
            "colorbar": {
             "outlinewidth": 0,
             "ticks": ""
            },
            "colorscale": [
             [
              0,
              "#0d0887"
             ],
             [
              0.1111111111111111,
              "#46039f"
             ],
             [
              0.2222222222222222,
              "#7201a8"
             ],
             [
              0.3333333333333333,
              "#9c179e"
             ],
             [
              0.4444444444444444,
              "#bd3786"
             ],
             [
              0.5555555555555556,
              "#d8576b"
             ],
             [
              0.6666666666666666,
              "#ed7953"
             ],
             [
              0.7777777777777778,
              "#fb9f3a"
             ],
             [
              0.8888888888888888,
              "#fdca26"
             ],
             [
              1,
              "#f0f921"
             ]
            ],
            "type": "surface"
           }
          ],
          "table": [
           {
            "cells": {
             "fill": {
              "color": "#EBF0F8"
             },
             "line": {
              "color": "white"
             }
            },
            "header": {
             "fill": {
              "color": "#C8D4E3"
             },
             "line": {
              "color": "white"
             }
            },
            "type": "table"
           }
          ]
         },
         "layout": {
          "annotationdefaults": {
           "arrowcolor": "#2a3f5f",
           "arrowhead": 0,
           "arrowwidth": 1
          },
          "autotypenumbers": "strict",
          "coloraxis": {
           "colorbar": {
            "outlinewidth": 0,
            "ticks": ""
           }
          },
          "colorscale": {
           "diverging": [
            [
             0,
             "#8e0152"
            ],
            [
             0.1,
             "#c51b7d"
            ],
            [
             0.2,
             "#de77ae"
            ],
            [
             0.3,
             "#f1b6da"
            ],
            [
             0.4,
             "#fde0ef"
            ],
            [
             0.5,
             "#f7f7f7"
            ],
            [
             0.6,
             "#e6f5d0"
            ],
            [
             0.7,
             "#b8e186"
            ],
            [
             0.8,
             "#7fbc41"
            ],
            [
             0.9,
             "#4d9221"
            ],
            [
             1,
             "#276419"
            ]
           ],
           "sequential": [
            [
             0,
             "#0d0887"
            ],
            [
             0.1111111111111111,
             "#46039f"
            ],
            [
             0.2222222222222222,
             "#7201a8"
            ],
            [
             0.3333333333333333,
             "#9c179e"
            ],
            [
             0.4444444444444444,
             "#bd3786"
            ],
            [
             0.5555555555555556,
             "#d8576b"
            ],
            [
             0.6666666666666666,
             "#ed7953"
            ],
            [
             0.7777777777777778,
             "#fb9f3a"
            ],
            [
             0.8888888888888888,
             "#fdca26"
            ],
            [
             1,
             "#f0f921"
            ]
           ],
           "sequentialminus": [
            [
             0,
             "#0d0887"
            ],
            [
             0.1111111111111111,
             "#46039f"
            ],
            [
             0.2222222222222222,
             "#7201a8"
            ],
            [
             0.3333333333333333,
             "#9c179e"
            ],
            [
             0.4444444444444444,
             "#bd3786"
            ],
            [
             0.5555555555555556,
             "#d8576b"
            ],
            [
             0.6666666666666666,
             "#ed7953"
            ],
            [
             0.7777777777777778,
             "#fb9f3a"
            ],
            [
             0.8888888888888888,
             "#fdca26"
            ],
            [
             1,
             "#f0f921"
            ]
           ]
          },
          "colorway": [
           "#636efa",
           "#EF553B",
           "#00cc96",
           "#ab63fa",
           "#FFA15A",
           "#19d3f3",
           "#FF6692",
           "#B6E880",
           "#FF97FF",
           "#FECB52"
          ],
          "font": {
           "color": "#2a3f5f"
          },
          "geo": {
           "bgcolor": "white",
           "lakecolor": "white",
           "landcolor": "#E5ECF6",
           "showlakes": true,
           "showland": true,
           "subunitcolor": "white"
          },
          "hoverlabel": {
           "align": "left"
          },
          "hovermode": "closest",
          "mapbox": {
           "style": "light"
          },
          "paper_bgcolor": "white",
          "plot_bgcolor": "#E5ECF6",
          "polar": {
           "angularaxis": {
            "gridcolor": "white",
            "linecolor": "white",
            "ticks": ""
           },
           "bgcolor": "#E5ECF6",
           "radialaxis": {
            "gridcolor": "white",
            "linecolor": "white",
            "ticks": ""
           }
          },
          "scene": {
           "xaxis": {
            "backgroundcolor": "#E5ECF6",
            "gridcolor": "white",
            "gridwidth": 2,
            "linecolor": "white",
            "showbackground": true,
            "ticks": "",
            "zerolinecolor": "white"
           },
           "yaxis": {
            "backgroundcolor": "#E5ECF6",
            "gridcolor": "white",
            "gridwidth": 2,
            "linecolor": "white",
            "showbackground": true,
            "ticks": "",
            "zerolinecolor": "white"
           },
           "zaxis": {
            "backgroundcolor": "#E5ECF6",
            "gridcolor": "white",
            "gridwidth": 2,
            "linecolor": "white",
            "showbackground": true,
            "ticks": "",
            "zerolinecolor": "white"
           }
          },
          "shapedefaults": {
           "line": {
            "color": "#2a3f5f"
           }
          },
          "ternary": {
           "aaxis": {
            "gridcolor": "white",
            "linecolor": "white",
            "ticks": ""
           },
           "baxis": {
            "gridcolor": "white",
            "linecolor": "white",
            "ticks": ""
           },
           "bgcolor": "#E5ECF6",
           "caxis": {
            "gridcolor": "white",
            "linecolor": "white",
            "ticks": ""
           }
          },
          "title": {
           "x": 0.05
          },
          "xaxis": {
           "automargin": true,
           "gridcolor": "white",
           "linecolor": "white",
           "ticks": "",
           "title": {
            "standoff": 15
           },
           "zerolinecolor": "white",
           "zerolinewidth": 2
          },
          "yaxis": {
           "automargin": true,
           "gridcolor": "white",
           "linecolor": "white",
           "ticks": "",
           "title": {
            "standoff": 15
           },
           "zerolinecolor": "white",
           "zerolinewidth": 2
          }
         }
        },
        "title": {
         "text": "COCO Class Embeddings (Total Explained Variance: 27.65%)"
        }
       }
      }
     },
     "metadata": {},
     "output_type": "display_data"
    }
   ],
   "source": [
    "fig = px.scatter_3d(\n",
    "    new_df, x='0', y='1', z='2', \n",
    "    color='category',\n",
    "    title=f'COCO Class Embeddings (Total Explained Variance: {total_var:.2f}%)',\n",
    "    hover_data={'word': True, 'category': False, '0': False, '1': False, '2': False},\n",
    ")\n",
    "fig.show()"
   ]
  },
  {
   "cell_type": "markdown",
   "metadata": {},
   "source": [
    "#### now using axes from chatgpt"
   ]
  },
  {
   "cell_type": "code",
   "execution_count": 122,
   "metadata": {},
   "outputs": [
    {
     "data": {
      "text/html": [
       "<div>\n",
       "<style scoped>\n",
       "    .dataframe tbody tr th:only-of-type {\n",
       "        vertical-align: middle;\n",
       "    }\n",
       "\n",
       "    .dataframe tbody tr th {\n",
       "        vertical-align: top;\n",
       "    }\n",
       "\n",
       "    .dataframe thead th {\n",
       "        text-align: right;\n",
       "    }\n",
       "</style>\n",
       "<table border=\"1\" class=\"dataframe\">\n",
       "  <thead>\n",
       "    <tr style=\"text-align: right;\">\n",
       "      <th></th>\n",
       "      <th>word</th>\n",
       "      <th>category</th>\n",
       "      <th>0</th>\n",
       "      <th>4</th>\n",
       "      <th>5</th>\n",
       "    </tr>\n",
       "  </thead>\n",
       "  <tbody>\n",
       "    <tr>\n",
       "      <th>0</th>\n",
       "      <td>person</td>\n",
       "      <td>living</td>\n",
       "      <td>-1.927416</td>\n",
       "      <td>-0.883672</td>\n",
       "      <td>2.323592</td>\n",
       "    </tr>\n",
       "    <tr>\n",
       "      <th>1</th>\n",
       "      <td>bicycle</td>\n",
       "      <td>transport</td>\n",
       "      <td>1.954417</td>\n",
       "      <td>0.760643</td>\n",
       "      <td>-0.002744</td>\n",
       "    </tr>\n",
       "    <tr>\n",
       "      <th>2</th>\n",
       "      <td>car</td>\n",
       "      <td>transport</td>\n",
       "      <td>0.201513</td>\n",
       "      <td>0.601516</td>\n",
       "      <td>0.682832</td>\n",
       "    </tr>\n",
       "    <tr>\n",
       "      <th>3</th>\n",
       "      <td>motorcycle</td>\n",
       "      <td>transport</td>\n",
       "      <td>1.875253</td>\n",
       "      <td>0.183070</td>\n",
       "      <td>-1.662763</td>\n",
       "    </tr>\n",
       "    <tr>\n",
       "      <th>4</th>\n",
       "      <td>airplane</td>\n",
       "      <td>transport</td>\n",
       "      <td>-0.338494</td>\n",
       "      <td>0.289155</td>\n",
       "      <td>-1.061921</td>\n",
       "    </tr>\n",
       "  </tbody>\n",
       "</table>\n",
       "</div>"
      ],
      "text/plain": [
       "         word   category         0         4         5\n",
       "0      person     living -1.927416 -0.883672  2.323592\n",
       "1     bicycle  transport  1.954417  0.760643 -0.002744\n",
       "2         car  transport  0.201513  0.601516  0.682832\n",
       "3  motorcycle  transport  1.875253  0.183070 -1.662763\n",
       "4    airplane  transport -0.338494  0.289155 -1.061921"
      ]
     },
     "execution_count": 122,
     "metadata": {},
     "output_type": "execute_result"
    }
   ],
   "source": [
    "# create dataframe with 3 axes chosen by chatgpt: \n",
    "gpt_df = df[[0, 4, 5]]\n",
    "\n",
    "# normalize\n",
    "gpt_df = (gpt_df - gpt_df.mean()) / gpt_df.std()\n",
    "\n",
    "# convert columns to string\n",
    "gpt_df.columns = gpt_df.columns.astype(str)\n",
    "\n",
    "# insert word and category columns\n",
    "gpt_df.insert(0, 'word', coco_classes)\n",
    "gpt_df.insert(1, 'category', [cat_dict[c] for c in categories])\n",
    "\n",
    "# preview df\n",
    "gpt_df.head()"
   ]
  },
  {
   "cell_type": "code",
   "execution_count": 123,
   "metadata": {},
   "outputs": [
    {
     "data": {
      "application/vnd.plotly.v1+json": {
       "config": {
        "plotlyServerURL": "https://plot.ly"
       },
       "data": [
        {
         "customdata": [
          [
           "person",
           "living"
          ],
          [
           "bird",
           "living"
          ],
          [
           "cat",
           "living"
          ],
          [
           "dog",
           "living"
          ],
          [
           "horse",
           "living"
          ],
          [
           "sheep",
           "living"
          ],
          [
           "cow",
           "living"
          ],
          [
           "elephant",
           "living"
          ],
          [
           "bear",
           "living"
          ],
          [
           "zebra",
           "living"
          ],
          [
           "giraffe",
           "living"
          ]
         ],
         "hovertemplate": "word=%{customdata[0]}<extra></extra>",
         "legendgroup": "living",
         "marker": {
          "color": "#636efa",
          "symbol": "circle"
         },
         "mode": "markers",
         "name": "living",
         "scene": "scene",
         "showlegend": true,
         "type": "scatter3d",
         "x": [
          -1.9274164323962093,
          -0.2734670936573008,
          -1.1584006714782893,
          0.10255899532094685,
          0.5945029012022632,
          0.8489566456236336,
          0.3117765185118514,
          -0.22257634477302665,
          -0.1292766384851908,
          0.39376716949207086,
          -0.2565035106958761
         ],
         "y": [
          -0.8836721771792996,
          2.0984912019134927,
          0.5484734772071602,
          0.41881419985529955,
          -0.9190337982752615,
          -1.0162782562891568,
          -2.144903329601943,
          -0.19706736756603802,
          -0.23537579041999676,
          -0.7923213226813977,
          -0.4210243011737971
         ],
         "z": [
          2.3235923911237335,
          1.0525806611097153,
          0.2707158696162435,
          0.9447372415933744,
          0.6366131858324003,
          1.2798221522334339,
          0.4902542593459375,
          0.3092313765863653,
          0.1320600445238051,
          -0.014298881962657575,
          0.6597224900144735
         ]
        },
        {
         "customdata": [
          [
           "bicycle",
           "transport"
          ],
          [
           "car",
           "transport"
          ],
          [
           "motorcycle",
           "transport"
          ],
          [
           "airplane",
           "transport"
          ],
          [
           "bus",
           "transport"
          ],
          [
           "train",
           "transport"
          ],
          [
           "truck",
           "transport"
          ],
          [
           "boat",
           "transport"
          ],
          [
           "traffic light",
           "transport"
          ],
          [
           "fire hydrant",
           "transport"
          ],
          [
           "stop sign",
           "transport"
          ],
          [
           "parking meter",
           "transport"
          ]
         ],
         "hovertemplate": "word=%{customdata[0]}<extra></extra>",
         "legendgroup": "transport",
         "marker": {
          "color": "#EF553B",
          "symbol": "circle"
         },
         "mode": "markers",
         "name": "transport",
         "scene": "scene",
         "showlegend": true,
         "type": "scatter3d",
         "x": [
          1.9544168019431434,
          0.20151322926259088,
          1.875253414789828,
          -0.3384941616760955,
          0.5323030970103726,
          1.3295914961973336,
          0.6878026074900991,
          0.8744020200657707,
          1.5670816576572795,
          0.7471751478550853,
          0.4927214034337149,
          0.5068577225682355
         ],
         "y": [
          0.760643203782932,
          0.601515908851103,
          0.18307005921555322,
          0.28915492250343905,
          -0.28841822206393974,
          0.16244244690957538,
          -1.0074378510151663,
          -0.37387547304584784,
          0.9050364899247765,
          1.5680668854740636,
          1.7242473786478953,
          1.8774810700637308
         ],
         "z": [
          -0.002744229871621034,
          0.6828317941965464,
          -1.662762580283869,
          -1.0619206715499696,
          -0.31086828563259516,
          0.7791205616218508,
          -0.32242293772363173,
          0.4401841002847793,
          1.5263213968422131,
          -0.26079812657143686,
          0.0781383347656347,
          -0.5958830372114963
         ]
        },
        {
         "customdata": [
          [
           "bench",
           "household"
          ],
          [
           "backpack",
           "household"
          ],
          [
           "umbrella",
           "household"
          ],
          [
           "handbag",
           "household"
          ],
          [
           "tie",
           "household"
          ],
          [
           "suitcase",
           "household"
          ],
          [
           "frisbee",
           "household"
          ],
          [
           "skis",
           "household"
          ],
          [
           "snowboard",
           "household"
          ],
          [
           "sports ball",
           "household"
          ],
          [
           "kite",
           "household"
          ],
          [
           "baseball bat",
           "household"
          ],
          [
           "baseball glove",
           "household"
          ],
          [
           "skateboard",
           "household"
          ],
          [
           "surfboard",
           "household"
          ],
          [
           "tennis racket",
           "household"
          ],
          [
           "bottle",
           "household"
          ],
          [
           "wine glass",
           "household"
          ],
          [
           "cup",
           "household"
          ],
          [
           "fork",
           "household"
          ],
          [
           "knife",
           "household"
          ],
          [
           "spoon",
           "household"
          ],
          [
           "bowl",
           "household"
          ],
          [
           "banana",
           "household"
          ],
          [
           "apple",
           "household"
          ],
          [
           "sandwich",
           "household"
          ],
          [
           "orange",
           "household"
          ],
          [
           "broccoli",
           "household"
          ],
          [
           "carrot",
           "household"
          ],
          [
           "hot dog",
           "household"
          ],
          [
           "pizza",
           "household"
          ],
          [
           "donut",
           "household"
          ],
          [
           "cake",
           "household"
          ],
          [
           "chair",
           "household"
          ],
          [
           "couch",
           "household"
          ],
          [
           "potted plant",
           "household"
          ],
          [
           "bed",
           "household"
          ],
          [
           "dining table",
           "household"
          ],
          [
           "toilet",
           "household"
          ],
          [
           "tv",
           "household"
          ],
          [
           "laptop",
           "household"
          ],
          [
           "mouse",
           "household"
          ],
          [
           "remote",
           "household"
          ],
          [
           "keyboard",
           "household"
          ],
          [
           "cell phone",
           "household"
          ],
          [
           "microwave",
           "household"
          ],
          [
           "oven",
           "household"
          ],
          [
           "toaster",
           "household"
          ],
          [
           "sink",
           "household"
          ],
          [
           "refrigerator",
           "household"
          ],
          [
           "book",
           "household"
          ],
          [
           "clock",
           "household"
          ],
          [
           "vase",
           "household"
          ],
          [
           "scissors",
           "household"
          ],
          [
           "teddy bear",
           "household"
          ],
          [
           "hair drier",
           "household"
          ],
          [
           "toothbrush",
           "household"
          ]
         ],
         "hovertemplate": "word=%{customdata[0]}<extra></extra>",
         "legendgroup": "household",
         "marker": {
          "color": "#00cc96",
          "symbol": "circle"
         },
         "mode": "markers",
         "name": "household",
         "scene": "scene",
         "showlegend": true,
         "type": "scatter3d",
         "x": [
          -0.35828500846442435,
          0.22978586753163208,
          0.11952257828237141,
          -1.0792372843249742,
          -0.13493116613899903,
          -0.26498530217658844,
          -1.3110729181311118,
          0.5096849863951396,
          0.2778493525890021,
          0.45313970985705737,
          0.950738143392182,
          -0.759756471884809,
          -1.1923278374011388,
          1.4935727981577722,
          1.996825759346705,
          -0.4685482977136849,
          0.7330388287205647,
          0.8008931605662636,
          -1.8001895601855238,
          -0.010531557755217932,
          0.04318645495596034,
          -0.6183932805396031,
          -0.8502289143457407,
          -0.41765754882941075,
          -1.1697097267859058,
          0.1902041739549744,
          -1.5768357178600987,
          -0.2593307745227802,
          -1.5626993987255782,
          -0.9915921056909465,
          0.23544039518544033,
          -1.9161073770885928,
          0.21282228457020735,
          -1.3704454584960981,
          -0.004877030101409692,
          1.3550368706394706,
          0.30612199085804315,
          -0.38938491056036956,
          0.0007774975523985465,
          -0.16885833206184847,
          -1.1555734076513853,
          -1.4043726244189476,
          -1.4100271520727559,
          -1.7068898538976882,
          0.3117765185118514,
          -0.5731570593091373,
          -0.11514031935067019,
          -0.052940515158779726,
          -0.3215305787146708,
          -0.09252220873543725,
          -0.11514031935067019,
          1.2362917899094976,
          -0.8247835399036035,
          0.5323030970103726,
          2.4350516525168433,
          2.5311786226315833,
          0.7782750499510307
         ],
         "y": [
          -1.5732237885505578,
          0.3657717682113567,
          -0.7540128998274389,
          0.37755897524334386,
          1.3264291413183233,
          -0.23242898866199993,
          -1.5938514008565356,
          -0.612566415443591,
          0.7576964020249352,
          -1.0310122650791411,
          -1.2019267670429572,
          -0.9072465912432742,
          -0.8394701508093471,
          -1.0251186615631473,
          -0.40334349062581615,
          0.4600694244672552,
          -0.5742579925896322,
          1.196769863966463,
          -0.17349295350206334,
          0.35103775942137255,
          -0.04383367615020277,
          -1.3492668549427986,
          -0.7923213226813977,
          -1.2255011811069318,
          2.2811929109092963,
          -0.24126939393599042,
          0.7694836090569225,
          -0.20296097108203168,
          -0.5182687591876926,
          1.0612169830986087,
          -0.9190337982752615,
          -0.2943118255799334,
          -0.7157044769734802,
          -1.1400439301250236,
          -0.19117376405004433,
          0.7547496002669383,
          -0.4593327240277559,
          1.591641299538038,
          -1.1370971283670268,
          -1.3168520356048337,
          1.836225845451775,
          1.889268277095718,
          0.32746334535739785,
          0.860834463554824,
          1.1997166657244598,
          -0.4328115082057844,
          0.09761280823364506,
          -0.9720762299192044,
          -0.31788623964390805,
          0.13592123108760387,
          1.1702486481444914,
          1.523864859104111,
          -0.751066098069442,
          -0.7274916840054675,
          -0.4239711029317939,
          0.6044627106090998,
          1.296961123738355
         ],
         "z": [
          -0.7961636734561295,
          -1.8553401151344782,
          -1.3122714668557611,
          1.98080437908965,
          0.2707158696162435,
          -1.046514468761921,
          -1.2198342501274688,
          -0.8770462380933851,
          1.0641353132007518,
          -0.44952411072503357,
          -1.2082795980364323,
          -1.3970055821900291,
          -1.2968652640677125,
          1.1950880368991659,
          0.1551693487058782,
          -0.6421016455756423,
          -0.6074376893025328,
          -1.0734753236410062,
          -0.010447331265645394,
          1.3684078182647141,
          0.28997362310130437,
          0.1320600445238051,
          0.12050539243276857,
          1.6996411782077612,
          1.5840946572973957,
          -0.49189116839216745,
          1.214345790384227,
          0.5980976788622786,
          -0.1028845479939376,
          0.016513523613439867,
          -0.05281438893277932,
          -0.5304066753622892,
          -0.4033055023608874,
          -0.6421016455756423,
          -1.6011377691316742,
          -0.7961636734561295,
          -0.47648496560411874,
          -1.1312485840961888,
          1.067986863897764,
          -0.43411790793698485,
          -1.3161230175527734,
          0.4324809988907549,
          -1.0542175701559453,
          0.6404647365294126,
          0.782972112318863,
          -0.28005588005649773,
          0.30152827519234093,
          -0.9502257013366165,
          0.8445969234710579,
          -1.1928733952483837,
          -1.069623772943994,
          -0.1028845479939376,
          0.03577127709850071,
          0.9485887922903865,
          -1.7821606518912467,
          1.587946207994408,
          2.4969121724892815
         ]
        }
       ],
       "layout": {
        "legend": {
         "title": {
          "text": "category"
         },
         "tracegroupgap": 0
        },
        "scene": {
         "domain": {
          "x": [
           0,
           1
          ],
          "y": [
           0,
           1
          ]
         },
         "xaxis": {
          "title": {
           "text": "0"
          }
         },
         "yaxis": {
          "title": {
           "text": "4"
          }
         },
         "zaxis": {
          "title": {
           "text": "5"
          }
         }
        },
        "template": {
         "data": {
          "bar": [
           {
            "error_x": {
             "color": "#2a3f5f"
            },
            "error_y": {
             "color": "#2a3f5f"
            },
            "marker": {
             "line": {
              "color": "#E5ECF6",
              "width": 0.5
             },
             "pattern": {
              "fillmode": "overlay",
              "size": 10,
              "solidity": 0.2
             }
            },
            "type": "bar"
           }
          ],
          "barpolar": [
           {
            "marker": {
             "line": {
              "color": "#E5ECF6",
              "width": 0.5
             },
             "pattern": {
              "fillmode": "overlay",
              "size": 10,
              "solidity": 0.2
             }
            },
            "type": "barpolar"
           }
          ],
          "carpet": [
           {
            "aaxis": {
             "endlinecolor": "#2a3f5f",
             "gridcolor": "white",
             "linecolor": "white",
             "minorgridcolor": "white",
             "startlinecolor": "#2a3f5f"
            },
            "baxis": {
             "endlinecolor": "#2a3f5f",
             "gridcolor": "white",
             "linecolor": "white",
             "minorgridcolor": "white",
             "startlinecolor": "#2a3f5f"
            },
            "type": "carpet"
           }
          ],
          "choropleth": [
           {
            "colorbar": {
             "outlinewidth": 0,
             "ticks": ""
            },
            "type": "choropleth"
           }
          ],
          "contour": [
           {
            "colorbar": {
             "outlinewidth": 0,
             "ticks": ""
            },
            "colorscale": [
             [
              0,
              "#0d0887"
             ],
             [
              0.1111111111111111,
              "#46039f"
             ],
             [
              0.2222222222222222,
              "#7201a8"
             ],
             [
              0.3333333333333333,
              "#9c179e"
             ],
             [
              0.4444444444444444,
              "#bd3786"
             ],
             [
              0.5555555555555556,
              "#d8576b"
             ],
             [
              0.6666666666666666,
              "#ed7953"
             ],
             [
              0.7777777777777778,
              "#fb9f3a"
             ],
             [
              0.8888888888888888,
              "#fdca26"
             ],
             [
              1,
              "#f0f921"
             ]
            ],
            "type": "contour"
           }
          ],
          "contourcarpet": [
           {
            "colorbar": {
             "outlinewidth": 0,
             "ticks": ""
            },
            "type": "contourcarpet"
           }
          ],
          "heatmap": [
           {
            "colorbar": {
             "outlinewidth": 0,
             "ticks": ""
            },
            "colorscale": [
             [
              0,
              "#0d0887"
             ],
             [
              0.1111111111111111,
              "#46039f"
             ],
             [
              0.2222222222222222,
              "#7201a8"
             ],
             [
              0.3333333333333333,
              "#9c179e"
             ],
             [
              0.4444444444444444,
              "#bd3786"
             ],
             [
              0.5555555555555556,
              "#d8576b"
             ],
             [
              0.6666666666666666,
              "#ed7953"
             ],
             [
              0.7777777777777778,
              "#fb9f3a"
             ],
             [
              0.8888888888888888,
              "#fdca26"
             ],
             [
              1,
              "#f0f921"
             ]
            ],
            "type": "heatmap"
           }
          ],
          "heatmapgl": [
           {
            "colorbar": {
             "outlinewidth": 0,
             "ticks": ""
            },
            "colorscale": [
             [
              0,
              "#0d0887"
             ],
             [
              0.1111111111111111,
              "#46039f"
             ],
             [
              0.2222222222222222,
              "#7201a8"
             ],
             [
              0.3333333333333333,
              "#9c179e"
             ],
             [
              0.4444444444444444,
              "#bd3786"
             ],
             [
              0.5555555555555556,
              "#d8576b"
             ],
             [
              0.6666666666666666,
              "#ed7953"
             ],
             [
              0.7777777777777778,
              "#fb9f3a"
             ],
             [
              0.8888888888888888,
              "#fdca26"
             ],
             [
              1,
              "#f0f921"
             ]
            ],
            "type": "heatmapgl"
           }
          ],
          "histogram": [
           {
            "marker": {
             "pattern": {
              "fillmode": "overlay",
              "size": 10,
              "solidity": 0.2
             }
            },
            "type": "histogram"
           }
          ],
          "histogram2d": [
           {
            "colorbar": {
             "outlinewidth": 0,
             "ticks": ""
            },
            "colorscale": [
             [
              0,
              "#0d0887"
             ],
             [
              0.1111111111111111,
              "#46039f"
             ],
             [
              0.2222222222222222,
              "#7201a8"
             ],
             [
              0.3333333333333333,
              "#9c179e"
             ],
             [
              0.4444444444444444,
              "#bd3786"
             ],
             [
              0.5555555555555556,
              "#d8576b"
             ],
             [
              0.6666666666666666,
              "#ed7953"
             ],
             [
              0.7777777777777778,
              "#fb9f3a"
             ],
             [
              0.8888888888888888,
              "#fdca26"
             ],
             [
              1,
              "#f0f921"
             ]
            ],
            "type": "histogram2d"
           }
          ],
          "histogram2dcontour": [
           {
            "colorbar": {
             "outlinewidth": 0,
             "ticks": ""
            },
            "colorscale": [
             [
              0,
              "#0d0887"
             ],
             [
              0.1111111111111111,
              "#46039f"
             ],
             [
              0.2222222222222222,
              "#7201a8"
             ],
             [
              0.3333333333333333,
              "#9c179e"
             ],
             [
              0.4444444444444444,
              "#bd3786"
             ],
             [
              0.5555555555555556,
              "#d8576b"
             ],
             [
              0.6666666666666666,
              "#ed7953"
             ],
             [
              0.7777777777777778,
              "#fb9f3a"
             ],
             [
              0.8888888888888888,
              "#fdca26"
             ],
             [
              1,
              "#f0f921"
             ]
            ],
            "type": "histogram2dcontour"
           }
          ],
          "mesh3d": [
           {
            "colorbar": {
             "outlinewidth": 0,
             "ticks": ""
            },
            "type": "mesh3d"
           }
          ],
          "parcoords": [
           {
            "line": {
             "colorbar": {
              "outlinewidth": 0,
              "ticks": ""
             }
            },
            "type": "parcoords"
           }
          ],
          "pie": [
           {
            "automargin": true,
            "type": "pie"
           }
          ],
          "scatter": [
           {
            "fillpattern": {
             "fillmode": "overlay",
             "size": 10,
             "solidity": 0.2
            },
            "type": "scatter"
           }
          ],
          "scatter3d": [
           {
            "line": {
             "colorbar": {
              "outlinewidth": 0,
              "ticks": ""
             }
            },
            "marker": {
             "colorbar": {
              "outlinewidth": 0,
              "ticks": ""
             }
            },
            "type": "scatter3d"
           }
          ],
          "scattercarpet": [
           {
            "marker": {
             "colorbar": {
              "outlinewidth": 0,
              "ticks": ""
             }
            },
            "type": "scattercarpet"
           }
          ],
          "scattergeo": [
           {
            "marker": {
             "colorbar": {
              "outlinewidth": 0,
              "ticks": ""
             }
            },
            "type": "scattergeo"
           }
          ],
          "scattergl": [
           {
            "marker": {
             "colorbar": {
              "outlinewidth": 0,
              "ticks": ""
             }
            },
            "type": "scattergl"
           }
          ],
          "scattermapbox": [
           {
            "marker": {
             "colorbar": {
              "outlinewidth": 0,
              "ticks": ""
             }
            },
            "type": "scattermapbox"
           }
          ],
          "scatterpolar": [
           {
            "marker": {
             "colorbar": {
              "outlinewidth": 0,
              "ticks": ""
             }
            },
            "type": "scatterpolar"
           }
          ],
          "scatterpolargl": [
           {
            "marker": {
             "colorbar": {
              "outlinewidth": 0,
              "ticks": ""
             }
            },
            "type": "scatterpolargl"
           }
          ],
          "scatterternary": [
           {
            "marker": {
             "colorbar": {
              "outlinewidth": 0,
              "ticks": ""
             }
            },
            "type": "scatterternary"
           }
          ],
          "surface": [
           {
            "colorbar": {
             "outlinewidth": 0,
             "ticks": ""
            },
            "colorscale": [
             [
              0,
              "#0d0887"
             ],
             [
              0.1111111111111111,
              "#46039f"
             ],
             [
              0.2222222222222222,
              "#7201a8"
             ],
             [
              0.3333333333333333,
              "#9c179e"
             ],
             [
              0.4444444444444444,
              "#bd3786"
             ],
             [
              0.5555555555555556,
              "#d8576b"
             ],
             [
              0.6666666666666666,
              "#ed7953"
             ],
             [
              0.7777777777777778,
              "#fb9f3a"
             ],
             [
              0.8888888888888888,
              "#fdca26"
             ],
             [
              1,
              "#f0f921"
             ]
            ],
            "type": "surface"
           }
          ],
          "table": [
           {
            "cells": {
             "fill": {
              "color": "#EBF0F8"
             },
             "line": {
              "color": "white"
             }
            },
            "header": {
             "fill": {
              "color": "#C8D4E3"
             },
             "line": {
              "color": "white"
             }
            },
            "type": "table"
           }
          ]
         },
         "layout": {
          "annotationdefaults": {
           "arrowcolor": "#2a3f5f",
           "arrowhead": 0,
           "arrowwidth": 1
          },
          "autotypenumbers": "strict",
          "coloraxis": {
           "colorbar": {
            "outlinewidth": 0,
            "ticks": ""
           }
          },
          "colorscale": {
           "diverging": [
            [
             0,
             "#8e0152"
            ],
            [
             0.1,
             "#c51b7d"
            ],
            [
             0.2,
             "#de77ae"
            ],
            [
             0.3,
             "#f1b6da"
            ],
            [
             0.4,
             "#fde0ef"
            ],
            [
             0.5,
             "#f7f7f7"
            ],
            [
             0.6,
             "#e6f5d0"
            ],
            [
             0.7,
             "#b8e186"
            ],
            [
             0.8,
             "#7fbc41"
            ],
            [
             0.9,
             "#4d9221"
            ],
            [
             1,
             "#276419"
            ]
           ],
           "sequential": [
            [
             0,
             "#0d0887"
            ],
            [
             0.1111111111111111,
             "#46039f"
            ],
            [
             0.2222222222222222,
             "#7201a8"
            ],
            [
             0.3333333333333333,
             "#9c179e"
            ],
            [
             0.4444444444444444,
             "#bd3786"
            ],
            [
             0.5555555555555556,
             "#d8576b"
            ],
            [
             0.6666666666666666,
             "#ed7953"
            ],
            [
             0.7777777777777778,
             "#fb9f3a"
            ],
            [
             0.8888888888888888,
             "#fdca26"
            ],
            [
             1,
             "#f0f921"
            ]
           ],
           "sequentialminus": [
            [
             0,
             "#0d0887"
            ],
            [
             0.1111111111111111,
             "#46039f"
            ],
            [
             0.2222222222222222,
             "#7201a8"
            ],
            [
             0.3333333333333333,
             "#9c179e"
            ],
            [
             0.4444444444444444,
             "#bd3786"
            ],
            [
             0.5555555555555556,
             "#d8576b"
            ],
            [
             0.6666666666666666,
             "#ed7953"
            ],
            [
             0.7777777777777778,
             "#fb9f3a"
            ],
            [
             0.8888888888888888,
             "#fdca26"
            ],
            [
             1,
             "#f0f921"
            ]
           ]
          },
          "colorway": [
           "#636efa",
           "#EF553B",
           "#00cc96",
           "#ab63fa",
           "#FFA15A",
           "#19d3f3",
           "#FF6692",
           "#B6E880",
           "#FF97FF",
           "#FECB52"
          ],
          "font": {
           "color": "#2a3f5f"
          },
          "geo": {
           "bgcolor": "white",
           "lakecolor": "white",
           "landcolor": "#E5ECF6",
           "showlakes": true,
           "showland": true,
           "subunitcolor": "white"
          },
          "hoverlabel": {
           "align": "left"
          },
          "hovermode": "closest",
          "mapbox": {
           "style": "light"
          },
          "paper_bgcolor": "white",
          "plot_bgcolor": "#E5ECF6",
          "polar": {
           "angularaxis": {
            "gridcolor": "white",
            "linecolor": "white",
            "ticks": ""
           },
           "bgcolor": "#E5ECF6",
           "radialaxis": {
            "gridcolor": "white",
            "linecolor": "white",
            "ticks": ""
           }
          },
          "scene": {
           "xaxis": {
            "backgroundcolor": "#E5ECF6",
            "gridcolor": "white",
            "gridwidth": 2,
            "linecolor": "white",
            "showbackground": true,
            "ticks": "",
            "zerolinecolor": "white"
           },
           "yaxis": {
            "backgroundcolor": "#E5ECF6",
            "gridcolor": "white",
            "gridwidth": 2,
            "linecolor": "white",
            "showbackground": true,
            "ticks": "",
            "zerolinecolor": "white"
           },
           "zaxis": {
            "backgroundcolor": "#E5ECF6",
            "gridcolor": "white",
            "gridwidth": 2,
            "linecolor": "white",
            "showbackground": true,
            "ticks": "",
            "zerolinecolor": "white"
           }
          },
          "shapedefaults": {
           "line": {
            "color": "#2a3f5f"
           }
          },
          "ternary": {
           "aaxis": {
            "gridcolor": "white",
            "linecolor": "white",
            "ticks": ""
           },
           "baxis": {
            "gridcolor": "white",
            "linecolor": "white",
            "ticks": ""
           },
           "bgcolor": "#E5ECF6",
           "caxis": {
            "gridcolor": "white",
            "linecolor": "white",
            "ticks": ""
           }
          },
          "title": {
           "x": 0.05
          },
          "xaxis": {
           "automargin": true,
           "gridcolor": "white",
           "linecolor": "white",
           "ticks": "",
           "title": {
            "standoff": 15
           },
           "zerolinecolor": "white",
           "zerolinewidth": 2
          },
          "yaxis": {
           "automargin": true,
           "gridcolor": "white",
           "linecolor": "white",
           "ticks": "",
           "title": {
            "standoff": 15
           },
           "zerolinecolor": "white",
           "zerolinewidth": 2
          }
         }
        },
        "title": {
         "text": "COCO Class Embeddings (GPT4)"
        }
       }
      }
     },
     "metadata": {},
     "output_type": "display_data"
    }
   ],
   "source": [
    "# plot results\n",
    "fig = px.scatter_3d(\n",
    "    gpt_df, x='0', y='4', z='5',\n",
    "    color='category',\n",
    "    title=f'COCO Class Embeddings (GPT4)',\n",
    "    hover_data={'word': True, 'category': False, '0': False, '4': False, '5': False},\n",
    ")\n",
    "fig.show()"
   ]
  }
 ],
 "metadata": {
  "kernelspec": {
   "display_name": "Python 3.9.13 ('env')",
   "language": "python",
   "name": "python3"
  },
  "language_info": {
   "codemirror_mode": {
    "name": "ipython",
    "version": 3
   },
   "file_extension": ".py",
   "mimetype": "text/x-python",
   "name": "python",
   "nbconvert_exporter": "python",
   "pygments_lexer": "ipython3",
   "version": "3.9.13"
  },
  "vscode": {
   "interpreter": {
    "hash": "946d8ab810ccf0fda35d8421fe75059925cdc2acab76b2b4a2b82ec2be7a9b6e"
   }
  }
 },
 "nbformat": 4,
 "nbformat_minor": 2
}
